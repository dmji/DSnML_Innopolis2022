{
  "cells": [
    {
      "cell_type": "markdown",
      "metadata": {},
      "source": [
        "# Проект 3. Решить задачу DaNetQA / BoolQ\n",
        "\n",
        "Можно решить как задачу для русского, так и для английского.\n",
        "\n",
        "Либо провести эксперименты с многоязычной моделью\n",
        "\n",
        "https://russiansuperglue.com/ru/tasks/task_info/DaNetQA"
      ]
    },
    {
      "cell_type": "markdown",
      "metadata": {},
      "source": [
        "## Описание\n",
        "Причинно-следственная связь, логический вывод, Natural Language Inference\n",
        "\n",
        "DaNetQA - это набор да/нет вопросов с ответами и фрагментом текста, содержащим ответ. Все вопросы были написаны авторами без каких-либо искусственных ограничений.\n",
        "\n",
        "Каждый пример представляет собой триплет (вопрос, фрагмент текста, ответ) с заголовком страницы в качестве необязательного дополнительного контекста.\n",
        "\n",
        "Настройка классификации текстовых пар аналогична существующим задачам логического вывода (NLI)"
      ]
    },
    {
      "cell_type": "markdown",
      "metadata": {},
      "source": [
        "### Тип задачи\n",
        "Логика, Commonsense, Знания о мире. Бинарная классификация: true/false"
      ]
    },
    {
      "cell_type": "markdown",
      "metadata": {},
      "source": [
        "## Notebook prepeares"
      ]
    },
    {
      "cell_type": "code",
      "execution_count": 2,
      "metadata": {},
      "outputs": [
        {
          "name": "stdout",
          "output_type": "stream",
          "text": [
            "Collecting nltk\n",
            "  Downloading nltk-3.7-py3-none-any.whl (1.5 MB)\n",
            "\u001b[2K     \u001b[90m━━━━━━━━━━━━━━━━━━━━━━━━━━━━━━━━━━━━━━━━\u001b[0m \u001b[32m1.5/1.5 MB\u001b[0m \u001b[31m6.5 MB/s\u001b[0m eta \u001b[36m0:00:00\u001b[0ma \u001b[36m0:00:01\u001b[0m0m\n",
            "\u001b[?25hRequirement already satisfied: click in /home/leysh/miniconda3/envs/catalyst1/lib/python3.8/site-packages (from nltk) (8.1.3)\n",
            "Requirement already satisfied: tqdm in /home/leysh/miniconda3/envs/catalyst1/lib/python3.8/site-packages (from nltk) (4.64.0)\n",
            "Requirement already satisfied: regex>=2021.8.3 in /home/leysh/miniconda3/envs/catalyst1/lib/python3.8/site-packages (from nltk) (2022.4.24)\n",
            "Requirement already satisfied: joblib in /home/leysh/miniconda3/envs/catalyst1/lib/python3.8/site-packages (from nltk) (1.1.0)\n",
            "Installing collected packages: nltk\n",
            "Successfully installed nltk-3.7\n"
          ]
        }
      ],
      "source": [
        "!pip install nltk"
      ]
    },
    {
      "cell_type": "code",
      "execution_count": 16,
      "metadata": {},
      "outputs": [
        {
          "name": "stdout",
          "output_type": "stream",
          "text": [
            "Root path: '/home/leysh/git_repos/DSnML_Innopolis2022/00_Final_Attestation'\n",
            "Dataset path: /home/leysh/git_repos/DSnML_Innopolis2022/00_Final_Attestation/DaNetQA\n"
          ]
        }
      ],
      "source": [
        "__COLAB_ACTIVE = False\n",
        "\n",
        "import matplotlib.pyplot as plt\n",
        "#from sklearn.metrics import accuracy_score\n",
        "import os\n",
        "\n",
        "base_path = os.path.abspath('')\n",
        "if __COLAB_ACTIVE:\n",
        "    from google.colab import drive\n",
        "    drive.mount('/content/drive')\n",
        "    base_path = os.path.join(base_path, 'drive/MyDrive/DSnML_Innopolis2022')\n",
        "\n",
        "print(f\"Root path: '{base_path}'\")\n",
        "\n",
        "trainPartNameRaw = 'train_L0'\n",
        "testPartNameRaw =  'test_L0'\n",
        "validatePartNameRaw = 'val_L0'\n",
        "\n",
        "trainPartNameL1 = 'train_L1'\n",
        "testPartNameL1 = 'test_L1' \n",
        "validatePartNameL1 = 'val_L1'\n",
        "data_path = os.path.join(base_path, 'DaNetQA')\n",
        "print(f\"Dataset path: {data_path}\")\n",
        "\n",
        "def fileNameData(s):\n",
        "    return f\"{os.path.join(data_path, s)}.jsonl\""
      ]
    },
    {
      "cell_type": "markdown",
      "metadata": {},
      "source": [
        "# Исследование данных"
      ]
    },
    {
      "cell_type": "code",
      "execution_count": 9,
      "metadata": {},
      "outputs": [],
      "source": [
        "import pandas as pd\n",
        "import numpy as np\n",
        "import unicodedata"
      ]
    },
    {
      "cell_type": "code",
      "execution_count": 10,
      "metadata": {},
      "outputs": [
        {
          "name": "stderr",
          "output_type": "stream",
          "text": [
            "[nltk_data] Downloading package stopwords to /home/leysh/nltk_data...\n",
            "[nltk_data]   Package stopwords is already up-to-date!\n"
          ]
        },
        {
          "data": {
            "text/plain": [
              "True"
            ]
          },
          "execution_count": 10,
          "metadata": {},
          "output_type": "execute_result"
        }
      ],
      "source": [
        "import nltk\n",
        "from nltk.stem.snowball import SnowballStemmer \n",
        "from nltk.tokenize import word_tokenize\n",
        "from nltk.corpus import stopwords \n",
        "\n",
        "nltk.download('stopwords')"
      ]
    },
    {
      "cell_type": "markdown",
      "metadata": {},
      "source": [
        "## Utils/Class"
      ]
    },
    {
      "cell_type": "code",
      "execution_count": 43,
      "metadata": {},
      "outputs": [],
      "source": [
        "def loadJSONL(path, name = \"\"):\n",
        "    df = pd.read_json(path, lines=True)\n",
        "    if len(name) > 0:\n",
        "        print(name)\n",
        "        display(df.head())\n",
        "    if (df.columns.values == 'label').any():\n",
        "        s = np.unique(df['label'].to_numpy(), return_counts=True)[1]\n",
        "        if len(name) > 0:\n",
        "            print(f\"True answer: {s[1]}\")\n",
        "            print(f\"False answer: {s[0]}\")\n",
        "            print(\"\")\n",
        "    return df"
      ]
    },
    {
      "cell_type": "code",
      "execution_count": 22,
      "metadata": {},
      "outputs": [],
      "source": [
        "class DataCleaner:\n",
        "    def __init__(self) -> None:\n",
        "        self.flag_verbose = True\n",
        "\n",
        "        self.stop_words = stopwords.words('russian')\n",
        "        self.stemmer = SnowballStemmer('russian')\n",
        "\n",
        "        self.count_removed_symbols = dict()\n",
        "        self.count_removed_words = dict()\n",
        "\n",
        "        self.count_replaced_symbols = dict()\n",
        "        self.dict_replaced_symbols = dict()\n",
        "\n",
        "        self.count_replaced_words = dict()\n",
        "        self.dict_replaced_words = dict()\n",
        "\n",
        "        self.char_to_remove = ['«', '»', '—', ',', '.', '-', '/', ':', '!', \"?\", \"(\", \")\", \"{\", \"}\", \"[\", \"]\", \"@\", \"#\", \"$\", \"%\", \"^\", \"&\", \"*\", \"=\", \"|\", \"\\\\\", \">\", \"<\"]\n",
        "        self.char_to_replace = [['ё', 'е']]\n",
        "\n",
        "    # функция подсчета количества измененных слов\n",
        "    def addReplacedWord(self, s_from, s_to = ' '):\n",
        "        if not self.count_replaced_words.keys().__contains__(s_from):\n",
        "            self.count_replaced_words[s_from] = 0\n",
        "        self.count_replaced_words[s_from] += 1\n",
        "        self.dict_replaced_words[s_from] = s_to\n",
        "\n",
        "    # функция подсчета количества удаленных слов\n",
        "    def addRemovedWord(self, w):\n",
        "        if w == ' ':\n",
        "            if not self.count_removed_symbols.keys().__contains__(w):\n",
        "                self.count_removed_symbols[w] = 0\n",
        "            self.count_removed_symbols[w] += 1\n",
        "\n",
        "    # функция подсчета количества удаленных символов\n",
        "    def addReplacedSymbol(self, s_from, s_to = ' '):\n",
        "        if s_to == ' ':\n",
        "            if not self.count_removed_symbols.keys().__contains__(s_from):\n",
        "                self.count_removed_symbols[s_from] = 0\n",
        "            self.count_removed_symbols[s_from] += 1\n",
        "        else:\n",
        "            if not self.count_replaced_symbols.keys().__contains__(s_from):\n",
        "                self.count_replaced_symbols[s_from] = 0\n",
        "            self.count_replaced_symbols[s_from] += 1\n",
        "            self.dict_replaced_symbols[s_from] = s_to\n",
        "\n",
        "    # удаление знаков ударения и прочих символов unicode\n",
        "    def unicodeToAscii(self, s):\n",
        "        tmp = []\n",
        "        for c in unicodedata.normalize('NFD', s):\n",
        "            if unicodedata.category(c) != 'Mn':\n",
        "                tmp.append(c)\n",
        "            else:\n",
        "                self.addReplacedSymbol(c)\n",
        "        return ''.join(tmp)\n",
        "\n",
        "    # если нужно удалить, то заменяем на пробел чтоб не потерят разделения слов\n",
        "    def replaceChar(self, s):\n",
        "        tmp = []\n",
        "        for i, c in enumerate(s):\n",
        "            if self.char_to_remove.__contains__(c):\n",
        "                self.addReplacedSymbol(c, s[i])\n",
        "                tmp.append(' ')\n",
        "            else:\n",
        "                tmp.append(c)\n",
        "        s = \"\".join(tmp)\n",
        "\n",
        "        for s_from, s_to in self.char_to_replace:\n",
        "            if c == s_from:\n",
        "                s[i] = s_to\n",
        "                self.addReplacedSymbol(s_from, s_to)\n",
        "        return s\n",
        "\n",
        "    # удаляем лишние пробелы\n",
        "    def trimSpaces(self, s):\n",
        "        while s.__contains__('  '):\n",
        "            s = s.replace('  ', ' ')\n",
        "        s = s.strip()\n",
        "        return s\n",
        "\n",
        "    # удаляем слва из stopwords\n",
        "    def removeStopWords(self, s):\n",
        "        tmp = []\n",
        "        for word in word_tokenize(s):\n",
        "            if word not in self.stop_words:\n",
        "                tmp.append(word)\n",
        "            else:\n",
        "                self.addRemovedWord(word)\n",
        "        return \" \".join(tmp)\n",
        "\n",
        "    # удаляем слва из stopwords\n",
        "    def StemmWords(self, s):\n",
        "        tmp = []\n",
        "        for word in word_tokenize(s):\n",
        "            wordStemmed = self.stemmer.stem(word)\n",
        "            tmp.append(wordStemmed)\n",
        "            if word != wordStemmed:\n",
        "                self.addReplacedWord(word, wordStemmed)\n",
        "        return \" \".join(tmp)\n",
        "\n",
        "    # основная функция для процессинга\n",
        "    def clean(self, df, column, level):\n",
        "        for i in range(len(df)):\n",
        "            # L1 удаляем только юникод\n",
        "            if level > 0:\n",
        "                df[column][i] = self.unicodeToAscii(df[column][i])\n",
        "            # L2 переводим в нижний регистр\n",
        "            if level > 1:\n",
        "                df[column][i] = df[column][i].lower()\n",
        "            # L3 удаляем символы пунктуации и тд\n",
        "            if level > 2:\n",
        "                df[column][i] = self.replaceChar(df[column][i])\n",
        "            # L4 удаляем стоп слова\n",
        "            if level > 3:\n",
        "                df[column][i] = self.removeStopWords(df[column][i])\n",
        "            # L5 леммитизация\n",
        "            if level > 4:\n",
        "                df[column][i] = self.StemmWords(df[column][i])\n",
        "            \n",
        "            # удаляем пробелы\n",
        "            df[column][i] = self.trimSpaces(df[column][i])\n",
        "        return df\n",
        "\n",
        "    # прокси для выключения вывода на экран summary\n",
        "    def print(self, vals):\n",
        "        if self.flag_verbose == True:\n",
        "            print(vals)\n",
        "\n",
        "    # прокси для выключения вывода на экран summary\n",
        "    def display(self, vals):\n",
        "            if self.flag_verbose == True:\n",
        "                display(vals)\n",
        "\n",
        "    # сбор лога в dataframe, опциональный вывод на экран \n",
        "    def summary(self, verbose = True):\n",
        "        self.flag_verbose = verbose\n",
        "        dfs = dict()\n",
        "\n",
        "        cols = [\"symbol\", \"count_removed\"]\n",
        "        dfRemoved = pd.DataFrame(columns=cols)\n",
        "        if len(self.count_removed_symbols) > 0:\n",
        "            self.print(\"===================================\")\n",
        "            self.print(\"===        Removed Chars        ===\")\n",
        "            self.print(\"===================================\")\n",
        "            for c in self.count_removed_symbols:\n",
        "                current_df = pd.DataFrame([[c, self.count_removed_symbols[c]]], columns=cols) \n",
        "                dfRemoved = pd.concat([dfRemoved, current_df], ignore_index=True)\n",
        "            self.display(dfRemoved)\n",
        "        dfs['Removed Chars'] = dfRemoved\n",
        "\n",
        "                \n",
        "        cols = [\"word\", \"count_removed\"]\n",
        "        dfRemoved = pd.DataFrame(columns=cols)\n",
        "        if len(self.count_removed_words) > 0:\n",
        "            self.print(\"===================================\")\n",
        "            self.print(\"===        Removed Words        ===\")\n",
        "            self.print(\"===================================\")\n",
        "            for c in self.count_removed_words:\n",
        "                current_df = pd.DataFrame([[c, self.count_removed_words[c]]], columns=cols) \n",
        "                dfRemoved = pd.concat([dfRemoved, current_df], ignore_index=True)\n",
        "            self.display(dfRemoved)\n",
        "        dfs['Removed Words'] = dfRemoved\n",
        "\n",
        "                \n",
        "        cols = [\"symbol_from\", \"symbol_to\", \"count_replaced\"]\n",
        "        dfRemoved = pd.DataFrame(columns=cols)\n",
        "        if len(self.dict_replaced_symbols) > 0:\n",
        "            self.print(\"===================================\")\n",
        "            self.print(\"===        Replaced Chars       ===\")\n",
        "            self.print(\"===================================\")\n",
        "            for c in self.dict_replaced_symbols:\n",
        "                current_df = pd.DataFrame([[ c, self.dict_replaced_symbols[c], self.count_replaced_symbols[c]]], columns=cols) \n",
        "                dfRemoved = pd.concat([dfRemoved, current_df], ignore_index=True)\n",
        "            self.display(dfRemoved)\n",
        "        dfs['Replaced Chars'] = dfRemoved\n",
        "\n",
        "                \n",
        "        cols = [\"word_from\", \"word_to\", \"count_replaced\"]\n",
        "        dfRemoved = pd.DataFrame(columns=cols)\n",
        "        if len(self.dict_replaced_symbols) > 0:\n",
        "            self.print(\"===================================\")\n",
        "            self.print(\"===        Stemmed Words        ===\")\n",
        "            self.print(\"===================================\")\n",
        "            for c in self.dict_replaced_words:\n",
        "                current_df = pd.DataFrame([[ c, self.dict_replaced_words[c], self.count_replaced_words[c]]], columns=cols) \n",
        "                dfRemoved = pd.concat([dfRemoved, current_df], ignore_index=True)\n",
        "            self.display(dfRemoved)\n",
        "        dfs['Stemmed Words'] = dfRemoved\n",
        "\n",
        "\n",
        "        return dfs"
      ]
    },
    {
      "cell_type": "markdown",
      "metadata": {},
      "source": [
        "## Обрабатываем данные"
      ]
    },
    {
      "cell_type": "code",
      "execution_count": 39,
      "metadata": {},
      "outputs": [
        {
          "name": "stderr",
          "output_type": "stream",
          "text": [
            "/tmp/ipykernel_17275/1867449280.py:105: SettingWithCopyWarning: \n",
            "A value is trying to be set on a copy of a slice from a DataFrame\n",
            "\n",
            "See the caveats in the documentation: https://pandas.pydata.org/pandas-docs/stable/user_guide/indexing.html#returning-a-view-versus-a-copy\n",
            "  df[column][i] = self.unicodeToAscii(df[column][i])\n",
            "/tmp/ipykernel_17275/1867449280.py:120: SettingWithCopyWarning: \n",
            "A value is trying to be set on a copy of a slice from a DataFrame\n",
            "\n",
            "See the caveats in the documentation: https://pandas.pydata.org/pandas-docs/stable/user_guide/indexing.html#returning-a-view-versus-a-copy\n",
            "  df[column][i] = self.trimSpaces(df[column][i])\n"
          ]
        },
        {
          "ename": "ValueError",
          "evalue": "'lines' keyword only valid when 'orient' is records",
          "output_type": "error",
          "traceback": [
            "\u001b[0;31m---------------------------------------------------------------------------\u001b[0m",
            "\u001b[0;31mValueError\u001b[0m                                Traceback (most recent call last)",
            "\u001b[1;32m/home/leysh/git_repos/DSnML_Innopolis2022/00_Final_Attestation/notebook.ipynb Cell 16\u001b[0m in \u001b[0;36m<cell line: 2>\u001b[0;34m()\u001b[0m\n\u001b[1;32m     <a href='vscode-notebook-cell://wsl%2Bubuntu/home/leysh/git_repos/DSnML_Innopolis2022/00_Final_Attestation/notebook.ipynb#Y103sdnNjb2RlLXJlbW90ZQ%3D%3D?line=9'>10</a>\u001b[0m df_validation \u001b[39m=\u001b[39m cleaner\u001b[39m.\u001b[39mclean(df_validation, \u001b[39m'\u001b[39m\u001b[39mquestion\u001b[39m\u001b[39m'\u001b[39m, \u001b[39m1\u001b[39m)\n\u001b[1;32m     <a href='vscode-notebook-cell://wsl%2Bubuntu/home/leysh/git_repos/DSnML_Innopolis2022/00_Final_Attestation/notebook.ipynb#Y103sdnNjb2RlLXJlbW90ZQ%3D%3D?line=11'>12</a>\u001b[0m cleanLog[iL] \u001b[39m=\u001b[39m cleaner\u001b[39m.\u001b[39msummary(\u001b[39mFalse\u001b[39;00m)\n\u001b[0;32m---> <a href='vscode-notebook-cell://wsl%2Bubuntu/home/leysh/git_repos/DSnML_Innopolis2022/00_Final_Attestation/notebook.ipynb#Y103sdnNjb2RlLXJlbW90ZQ%3D%3D?line=12'>13</a>\u001b[0m df_train\u001b[39m.\u001b[39;49mto_json(fileNameData(\u001b[39mf\u001b[39;49m\u001b[39m\"\u001b[39;49m\u001b[39mtrain_L\u001b[39;49m\u001b[39m{\u001b[39;49;00miL\u001b[39m}\u001b[39;49;00m\u001b[39m\"\u001b[39;49m), lines\u001b[39m=\u001b[39;49m\u001b[39mTrue\u001b[39;49;00m)\n\u001b[1;32m     <a href='vscode-notebook-cell://wsl%2Bubuntu/home/leysh/git_repos/DSnML_Innopolis2022/00_Final_Attestation/notebook.ipynb#Y103sdnNjb2RlLXJlbW90ZQ%3D%3D?line=13'>14</a>\u001b[0m df_test\u001b[39m.\u001b[39mto_json(fileNameData(\u001b[39mf\u001b[39m\u001b[39m\"\u001b[39m\u001b[39mtest_L\u001b[39m\u001b[39m{\u001b[39;00miL\u001b[39m}\u001b[39;00m\u001b[39m\"\u001b[39m), lines\u001b[39m=\u001b[39m\u001b[39mTrue\u001b[39;00m)\n\u001b[1;32m     <a href='vscode-notebook-cell://wsl%2Bubuntu/home/leysh/git_repos/DSnML_Innopolis2022/00_Final_Attestation/notebook.ipynb#Y103sdnNjb2RlLXJlbW90ZQ%3D%3D?line=14'>15</a>\u001b[0m df_validation\u001b[39m.\u001b[39mto_json(fileNameData(\u001b[39mf\u001b[39m\u001b[39m\"\u001b[39m\u001b[39mval_L\u001b[39m\u001b[39m{\u001b[39;00miL\u001b[39m}\u001b[39;00m\u001b[39m\"\u001b[39m), lines\u001b[39m=\u001b[39m\u001b[39mTrue\u001b[39;00m)\n",
            "File \u001b[0;32m~/miniconda3/envs/catalyst1/lib/python3.8/site-packages/pandas/core/generic.py:2650\u001b[0m, in \u001b[0;36mNDFrame.to_json\u001b[0;34m(self, path_or_buf, orient, date_format, double_precision, force_ascii, date_unit, default_handler, lines, compression, index, indent, storage_options)\u001b[0m\n\u001b[1;32m   2647\u001b[0m config\u001b[39m.\u001b[39mis_nonnegative_int(indent)\n\u001b[1;32m   2648\u001b[0m indent \u001b[39m=\u001b[39m indent \u001b[39mor\u001b[39;00m \u001b[39m0\u001b[39m\n\u001b[0;32m-> 2650\u001b[0m \u001b[39mreturn\u001b[39;00m json\u001b[39m.\u001b[39;49mto_json(\n\u001b[1;32m   2651\u001b[0m     path_or_buf\u001b[39m=\u001b[39;49mpath_or_buf,\n\u001b[1;32m   2652\u001b[0m     obj\u001b[39m=\u001b[39;49m\u001b[39mself\u001b[39;49m,\n\u001b[1;32m   2653\u001b[0m     orient\u001b[39m=\u001b[39;49morient,\n\u001b[1;32m   2654\u001b[0m     date_format\u001b[39m=\u001b[39;49mdate_format,\n\u001b[1;32m   2655\u001b[0m     double_precision\u001b[39m=\u001b[39;49mdouble_precision,\n\u001b[1;32m   2656\u001b[0m     force_ascii\u001b[39m=\u001b[39;49mforce_ascii,\n\u001b[1;32m   2657\u001b[0m     date_unit\u001b[39m=\u001b[39;49mdate_unit,\n\u001b[1;32m   2658\u001b[0m     default_handler\u001b[39m=\u001b[39;49mdefault_handler,\n\u001b[1;32m   2659\u001b[0m     lines\u001b[39m=\u001b[39;49mlines,\n\u001b[1;32m   2660\u001b[0m     compression\u001b[39m=\u001b[39;49mcompression,\n\u001b[1;32m   2661\u001b[0m     index\u001b[39m=\u001b[39;49mindex,\n\u001b[1;32m   2662\u001b[0m     indent\u001b[39m=\u001b[39;49mindent,\n\u001b[1;32m   2663\u001b[0m     storage_options\u001b[39m=\u001b[39;49mstorage_options,\n\u001b[1;32m   2664\u001b[0m )\n",
            "File \u001b[0;32m~/miniconda3/envs/catalyst1/lib/python3.8/site-packages/pandas/io/json/_json.py:146\u001b[0m, in \u001b[0;36mto_json\u001b[0;34m(path_or_buf, obj, orient, date_format, double_precision, force_ascii, date_unit, default_handler, lines, compression, index, indent, storage_options)\u001b[0m\n\u001b[1;32m    141\u001b[0m     \u001b[39mraise\u001b[39;00m \u001b[39mValueError\u001b[39;00m(\n\u001b[1;32m    142\u001b[0m         \u001b[39m\"\u001b[39m\u001b[39m'\u001b[39m\u001b[39mindex=False\u001b[39m\u001b[39m'\u001b[39m\u001b[39m is only valid when \u001b[39m\u001b[39m'\u001b[39m\u001b[39morient\u001b[39m\u001b[39m'\u001b[39m\u001b[39m is \u001b[39m\u001b[39m'\u001b[39m\u001b[39msplit\u001b[39m\u001b[39m'\u001b[39m\u001b[39m or \u001b[39m\u001b[39m'\u001b[39m\u001b[39mtable\u001b[39m\u001b[39m'\u001b[39m\u001b[39m\"\u001b[39m\n\u001b[1;32m    143\u001b[0m     )\n\u001b[1;32m    145\u001b[0m \u001b[39mif\u001b[39;00m lines \u001b[39mand\u001b[39;00m orient \u001b[39m!=\u001b[39m \u001b[39m\"\u001b[39m\u001b[39mrecords\u001b[39m\u001b[39m\"\u001b[39m:\n\u001b[0;32m--> 146\u001b[0m     \u001b[39mraise\u001b[39;00m \u001b[39mValueError\u001b[39;00m(\u001b[39m\"\u001b[39m\u001b[39m'\u001b[39m\u001b[39mlines\u001b[39m\u001b[39m'\u001b[39m\u001b[39m keyword only valid when \u001b[39m\u001b[39m'\u001b[39m\u001b[39morient\u001b[39m\u001b[39m'\u001b[39m\u001b[39m is records\u001b[39m\u001b[39m\"\u001b[39m)\n\u001b[1;32m    148\u001b[0m \u001b[39mif\u001b[39;00m orient \u001b[39m==\u001b[39m \u001b[39m\"\u001b[39m\u001b[39mtable\u001b[39m\u001b[39m\"\u001b[39m \u001b[39mand\u001b[39;00m \u001b[39misinstance\u001b[39m(obj, Series):\n\u001b[1;32m    149\u001b[0m     obj \u001b[39m=\u001b[39m obj\u001b[39m.\u001b[39mto_frame(name\u001b[39m=\u001b[39mobj\u001b[39m.\u001b[39mname \u001b[39mor\u001b[39;00m \u001b[39m\"\u001b[39m\u001b[39mvalues\u001b[39m\u001b[39m\"\u001b[39m)\n",
            "\u001b[0;31mValueError\u001b[0m: 'lines' keyword only valid when 'orient' is records"
          ]
        }
      ],
      "source": [
        "df_train = loadJSONL(fileNameData(trainPartNameRaw))\n",
        "df_validation = loadJSONL(fileNameData(validatePartNameRaw))\n",
        "df_test = loadJSONL(fileNameData(testPartNameRaw))\n",
        "\n",
        "cleanLog = dict()\n",
        "\n",
        "for iL in range(1, 6):\n",
        "    cleaner = DataCleaner()\n",
        "\n",
        "    df_train = cleaner.clean(df_train, 'passage', 1)\n",
        "    df_test = cleaner.clean(df_test, 'passage', 1)\n",
        "    df_validation = cleaner.clean(df_validation, 'passage', 1)\n",
        "    df_train = cleaner.clean(df_train, 'question', 1)\n",
        "    df_test = cleaner.clean(df_test, 'question', 1)\n",
        "    df_validation = cleaner.clean(df_validation, 'question', 1)\n",
        "\n",
        "    cleanLog[iL] = cleaner.summary(False)\n",
        "    df_train.to_json(fileNameData(f\"train_L{iL}\"), lines=True, orient='records')\n",
        "    df_test.to_json(fileNameData(f\"test_L{iL}\"), lines=True, orient='records')\n",
        "    df_validation.to_json(fileNameData(f\"val_L{iL}\"), lines=True, orient='records')"
      ]
    },
    {
      "cell_type": "markdown",
      "metadata": {},
      "source": []
    },
    {
      "cell_type": "markdown",
      "metadata": {},
      "source": []
    },
    {
      "cell_type": "code",
      "execution_count": null,
      "metadata": {},
      "outputs": [],
      "source": [
        "df_train = loadJSONL(fileNameData(trainPartNameRaw), \"Train set\")\n",
        "df_validation = loadJSONL(fileNameData(validatePartNameRaw), \"Validation set\")\n",
        "df_test = loadJSONL(fileNameData(testPartNameRaw), \"Test set:\")"
      ]
    },
    {
      "cell_type": "markdown",
      "metadata": {},
      "source": []
    },
    {
      "cell_type": "markdown",
      "metadata": {},
      "source": []
    },
    {
      "cell_type": "markdown",
      "metadata": {},
      "source": []
    },
    {
      "cell_type": "markdown",
      "metadata": {},
      "source": []
    },
    {
      "cell_type": "code",
      "execution_count": 1,
      "metadata": {},
      "outputs": [
        {
          "name": "stderr",
          "output_type": "stream",
          "text": [
            "/home/leysh/miniconda3/envs/catalyst1/lib/python3.8/site-packages/tqdm/auto.py:22: TqdmWarning: IProgress not found. Please update jupyter and ipywidgets. See https://ipywidgets.readthedocs.io/en/stable/user_install.html\n",
            "  from .autonotebook import tqdm as notebook_tqdm\n"
          ]
        }
      ],
      "source": [
        "import logging\n",
        "from pathlib import Path\n",
        "from typing import List, Mapping, Tuple\n",
        "\n",
        "import numpy as np\n",
        "import pandas as pd\n",
        "import torch\n",
        "import torch.nn as nn\n",
        "from torch.utils.data import DataLoader, Dataset\n",
        "\n",
        "import yaml\n",
        "from catalyst.utils import set_global_seed, prepare_cudnn\n",
        "from transformers import AutoTokenizer, AutoConfig, AutoModel\n",
        "from catalyst.callbacks.metrics.accuracy import AccuracyCallback\n",
        "from catalyst.dl import (\n",
        "    CheckpointCallback,\n",
        "    OptimizerCallback,\n",
        "    SchedulerCallback,\n",
        "    SupervisedRunner,\n",
        ")"
      ]
    },
    {
      "cell_type": "code",
      "execution_count": 2,
      "metadata": {},
      "outputs": [],
      "source": [
        "def get_project_root() -> Path:\n",
        "    return Path(\"\").parent.parent"
      ]
    },
    {
      "cell_type": "markdown",
      "metadata": {},
      "source": [
        "# Data Load"
      ]
    },
    {
      "cell_type": "code",
      "execution_count": 3,
      "metadata": {},
      "outputs": [],
      "source": [
        "class TextClassificationDataset(Dataset):\n",
        "    \"\"\"\n",
        "    Wrapper around Torch Dataset to perform text classification\n",
        "    \"\"\"\n",
        "\n",
        "    def __init__(\n",
        "        self,\n",
        "        texts: List[str],\n",
        "        questions: List[str],\n",
        "        labels: List[str] = None,\n",
        "        label_dict: Mapping[str, int] = None,\n",
        "        max_seq_length: int = None,\n",
        "        model_name: str = None,\n",
        "    ):\n",
        "        \"\"\"\n",
        "        Args:\n",
        "            texts (List[str]): a list with texts to classify or to train the\n",
        "                classifier on\n",
        "            labels List[str]: a list with classification labels (optional)\n",
        "            label_dict (dict): a dictionary mapping class names to class ids,\n",
        "                to be passed to the validation data (optional)\n",
        "            max_seq_length (int): maximal sequence length in tokens,\n",
        "                texts will be stripped to this length\n",
        "            model_name (str): transformer model name, needed to perform\n",
        "                appropriate tokenization\n",
        "\n",
        "        \"\"\"\n",
        "\n",
        "        self.texts = texts\n",
        "        self.questions = questions\n",
        "        self.labels = labels\n",
        "        self.label_dict = label_dict\n",
        "        self.max_seq_length = max_seq_length\n",
        "\n",
        "        if self.label_dict is None and labels is not None:\n",
        "            # {'class1': 0, 'class2': 1, 'class3': 2, ...}\n",
        "            # using this instead of `sklearn.preprocessing.LabelEncoder`\n",
        "            # no easily handle unknown target values\n",
        "            self.label_dict = dict(zip(sorted(set(labels)), range(len(set(labels)))))\n",
        "\n",
        "        self.tokenizer = AutoTokenizer.from_pretrained(model_name)\n",
        "        # suppresses tokenizer warnings\n",
        "        logging.getLogger(\"transformers.tokenization_utils\").setLevel(logging.FATAL)\n",
        "\n",
        "        # special tokens for transformers\n",
        "        # in the simplest case a [CLS] token is added in the beginning\n",
        "        # and [SEP] token is added in the end of a piece of text\n",
        "        # [CLS] <indexes text tokens> [SEP] .. <[PAD]>\n",
        "        self.sep_label = self.tokenizer.special_tokens_map['sep_token']\n",
        "        self.sep_vid = self.tokenizer.vocab[self.sep_label]\n",
        "        self.cls_label = self.tokenizer.special_tokens_map['cls_token']\n",
        "        self.cls_vid = self.tokenizer.vocab[self.cls_label]\n",
        "        self.pad_label = self.tokenizer.special_tokens_map['pad_token']\n",
        "        self.pad_vid = self.tokenizer.vocab[self.pad_label]\n",
        "\n",
        "    def __len__(self) -> int:\n",
        "        \"\"\"\n",
        "        Returns:\n",
        "            int: length of the dataset\n",
        "        \"\"\"\n",
        "        return len(self.texts)\n",
        "\n",
        "    def __getitem__(self, index) -> Mapping[str, torch.Tensor]:\n",
        "        \"\"\"Gets element of the dataset\n",
        "\n",
        "        Args:\n",
        "            index (int): index of the element in the dataset\n",
        "        Returns:\n",
        "            Single element by index\n",
        "        \"\"\"\n",
        "        # encoding the text\n",
        "        x = self.texts[index] + self.sep_label + self.questions[index]\n",
        "\n",
        "        # a dictionary with `input_ids` and `attention_mask` as keys\n",
        "        output_dict = self.tokenizer.encode_plus(\n",
        "            text=x,\n",
        "            ##text_pair=text_pair, \n",
        "            ##text_target=text_target, \n",
        "            ##text_pair_target=text_pair_target, \n",
        "            add_special_tokens=True,\n",
        "            #  Pad to a maximum length specified with the argument max_length\n",
        "            #  or to the maximum acceptable input length for the model if that argument is not provided.\n",
        "            padding=\"max_length\", \n",
        "            # Truncate to a maximum length specified with the argument max_length \n",
        "            # or to the maximum acceptable input length for the model if that argument is not provided. \n",
        "            # This will truncate token by token, \n",
        "            # removing a token from the longest sequence in the pair if a pair of sequences (or a batch of pairs) is provided.\n",
        "            truncation=True,\n",
        "            # Controls the maximum length to use by one of the truncation/padding parameters.\n",
        "            max_length=self.max_seq_length, \n",
        "            # return pytorch tensor\n",
        "            return_tensors=\"pt\", \n",
        "            return_token_type_ids=True,\n",
        "            return_attention_mask=True,\n",
        "        )\n",
        "\n",
        "        # for Catalyst, there needs to be a key called features\n",
        "        output_dict[\"features\"] = output_dict[\"input_ids\"].squeeze(0)\n",
        "        del output_dict[\"input_ids\"]\n",
        "\n",
        "        # encoding target\n",
        "        if self.labels is not None:\n",
        "            y = self.labels[index]\n",
        "            y_encoded = torch.Tensor([self.label_dict.get(y, -1)]).long().squeeze(0)\n",
        "            output_dict[\"targets\"] = y_encoded\n",
        "            \n",
        "        return output_dict"
      ]
    },
    {
      "cell_type": "code",
      "execution_count": 4,
      "metadata": {},
      "outputs": [],
      "source": [
        "class TextClassificationDataset(Dataset):\n",
        "    \"\"\"\n",
        "    Wrapper around Torch Dataset to perform text classification\n",
        "    \"\"\"\n",
        "\n",
        "    def __init__(\n",
        "        self,\n",
        "        texts: List[str],\n",
        "        questions: List[str],\n",
        "        labels: List[str] = None,\n",
        "        label_dict: Mapping[str, int] = None,\n",
        "        max_seq_length: int = None,\n",
        "        model_name: str = None,\n",
        "    ):\n",
        "        \"\"\"\n",
        "        Args:\n",
        "            texts (List[str]): a list with texts to classify or to train the\n",
        "                classifier on\n",
        "            labels List[str]: a list with classification labels (optional)\n",
        "            label_dict (dict): a dictionary mapping class names to class ids,\n",
        "                to be passed to the validation data (optional)\n",
        "            max_seq_length (int): maximal sequence length in tokens,\n",
        "                texts will be stripped to this length\n",
        "            model_name (str): transformer model name, needed to perform\n",
        "                appropriate tokenization\n",
        "\n",
        "        \"\"\"\n",
        "\n",
        "        self.texts = texts\n",
        "        self.questions = questions\n",
        "        self.labels = labels\n",
        "        self.label_dict = label_dict\n",
        "        self.max_seq_length = max_seq_length\n",
        "\n",
        "        if self.label_dict is None and labels is not None:\n",
        "            # {'class1': 0, 'class2': 1, 'class3': 2, ...}\n",
        "            # using this instead of `sklearn.preprocessing.LabelEncoder`\n",
        "            # no easily handle unknown target values\n",
        "            self.label_dict = dict(zip(sorted(set(labels)), range(len(set(labels)))))\n",
        "\n",
        "        self.tokenizer = AutoTokenizer.from_pretrained(model_name)\n",
        "        # suppresses tokenizer warnings\n",
        "        logging.getLogger(\"transformers.tokenization_utils\").setLevel(logging.FATAL)\n",
        "\n",
        "        # special tokens for transformers\n",
        "        # in the simplest case a [CLS] token is added in the beginning\n",
        "        # and [SEP] token is added in the end of a piece of text\n",
        "        # [CLS] <indexes text tokens> [SEP] .. <[PAD]>\n",
        "        self.sep_label = self.tokenizer.special_tokens_map['sep_token']\n",
        "        self.sep_vid = self.tokenizer.vocab[self.sep_label]\n",
        "        self.cls_label = self.tokenizer.special_tokens_map['cls_token']\n",
        "        self.cls_vid = self.tokenizer.vocab[self.cls_label]\n",
        "        self.pad_label = self.tokenizer.special_tokens_map['pad_token']\n",
        "        self.pad_vid = self.tokenizer.vocab[self.pad_label]\n",
        "\n",
        "    def __len__(self) -> int:\n",
        "        \"\"\"\n",
        "        Returns:\n",
        "            int: length of the dataset\n",
        "        \"\"\"\n",
        "        return len(self.texts)\n",
        "\n",
        "    def __getitem__(self, index) -> Mapping[str, torch.Tensor]:\n",
        "        \"\"\"Gets element of the dataset\n",
        "\n",
        "        Args:\n",
        "            index (int): index of the element in the dataset\n",
        "        Returns:\n",
        "            Single element by index\n",
        "        \"\"\"\n",
        "        # encoding the text\n",
        "        x = [self.texts[index], self.questions[index]]\n",
        "\n",
        "        # a dictionary with `input_ids` and `attention_mask` as keys\n",
        "        output_dict = self.tokenizer.encode_plus(\n",
        "            text=x,\n",
        "            ##text_pair=text_pair, \n",
        "            ##text_target=text_target, \n",
        "            ##text_pair_target=text_pair_target, \n",
        "            add_special_tokens=True,\n",
        "            #  Pad to a maximum length specified with the argument max_length\n",
        "            #  or to the maximum acceptable input length for the model if that argument is not provided.\n",
        "            padding=\"max_length\", \n",
        "            # Truncate to a maximum length specified with the argument max_length \n",
        "            # or to the maximum acceptable input length for the model if that argument is not provided. \n",
        "            # This will truncate token by token, \n",
        "            # removing a token from the longest sequence in the pair if a pair of sequences (or a batch of pairs) is provided.\n",
        "            truncation=True,\n",
        "            # Controls the maximum length to use by one of the truncation/padding parameters.\n",
        "            max_length=self.max_seq_length, \n",
        "            # return pytorch tensor\n",
        "            return_tensors=\"pt\", \n",
        "            return_token_type_ids=True,\n",
        "            return_attention_mask=True,\n",
        "        )\n",
        "\n",
        "        # for Catalyst, there needs to be a key called features\n",
        "        output_dict[\"features\"] = output_dict[\"input_ids\"].squeeze(0)\n",
        "        del output_dict[\"input_ids\"]\n",
        "\n",
        "        output_dict[\"token_type_ids\"] = output_dict[\"token_type_ids\"].squeeze(0)\n",
        "\n",
        "        # encoding target\n",
        "        if self.labels is not None:\n",
        "            y = self.labels[index]\n",
        "            y_encoded = torch.Tensor([self.label_dict.get(y, -1)]).long().squeeze(0)\n",
        "            output_dict[\"targets\"] = y_encoded\n",
        "            \n",
        "        return output_dict"
      ]
    },
    {
      "cell_type": "code",
      "execution_count": 5,
      "metadata": {},
      "outputs": [],
      "source": [
        "#train_df = pd.read_json(Path(params[\"data\"][\"path_to_data\"]) / params[\"data\"][\"train_filename\"], lines=True)"
      ]
    },
    {
      "cell_type": "code",
      "execution_count": 6,
      "metadata": {},
      "outputs": [],
      "source": [
        "#quest = train_df.iloc[0][0]\n",
        "#passage = train_df.iloc[0][1]"
      ]
    },
    {
      "cell_type": "code",
      "execution_count": 7,
      "metadata": {},
      "outputs": [],
      "source": [
        "#model_name=params[\"model\"][\"model_name\"]\n",
        "#tokenizer = AutoTokenizer.from_pretrained(model_name)"
      ]
    },
    {
      "cell_type": "code",
      "execution_count": 8,
      "metadata": {},
      "outputs": [],
      "source": [
        "def read_data(params: dict) -> Tuple[dict, dict]:\n",
        "    \"\"\"\n",
        "    A custom function that reads data from CSV files, creates PyTorch datasets and\n",
        "    data loaders. The output is provided to be easily used with Catalyst\n",
        "\n",
        "    :param params: a dictionary read from the config.yml file\n",
        "    :return: a tuple with 2 dictionaries\n",
        "    \"\"\"\n",
        "    # reading CSV files to Pandas dataframes\n",
        "    train_df = pd.read_json(Path(params[\"data\"][\"path_to_data\"]) / params[\"data\"][\"train_filename\"], lines=True)\n",
        "    valid_df = pd.read_json(Path(params[\"data\"][\"path_to_data\"]) / params[\"data\"][\"validation_filename\"], lines=True)\n",
        "    test_df = pd.read_json(Path(params[\"data\"][\"path_to_data\"]) / params[\"data\"][\"test_filename\"], lines=True)\n",
        "\n",
        "    # creating PyTorch Datasets\n",
        "    \n",
        "    train_dataset = TextClassificationDataset(\n",
        "        texts=train_df[params[\"data\"][\"text_field_name\"]].values.tolist(),\n",
        "        questions=train_df[params[\"data\"][\"quest_field_name\"]].values.tolist(),\n",
        "        labels=train_df[params[\"data\"][\"label_field_name\"]].values,\n",
        "        max_seq_length=params[\"model\"][\"max_seq_length\"],\n",
        "        model_name=params[\"model\"][\"model_name\"],\n",
        "    )\n",
        "\n",
        "    valid_dataset = TextClassificationDataset(\n",
        "        texts=valid_df[params[\"data\"][\"text_field_name\"]].values.tolist(),\n",
        "        questions=valid_df[params[\"data\"][\"quest_field_name\"]].values.tolist(),\n",
        "        labels=valid_df[params[\"data\"][\"label_field_name\"]].values,\n",
        "        max_seq_length=params[\"model\"][\"max_seq_length\"],\n",
        "        model_name=params[\"model\"][\"model_name\"],\n",
        "    )\n",
        "\n",
        "    test_dataset = TextClassificationDataset(\n",
        "        texts=test_df[params[\"data\"][\"text_field_name\"]].values.tolist(),\n",
        "        questions=test_df[params[\"data\"][\"quest_field_name\"]].values.tolist(),\n",
        "        max_seq_length=params[\"model\"][\"max_seq_length\"],\n",
        "        model_name=params[\"model\"][\"model_name\"],\n",
        "    )\n",
        "\n",
        "    set_global_seed(params[\"general\"][\"seed\"])\n",
        "\n",
        "    # creating PyTorch data loaders and placing them in dictionaries (for Catalyst)\n",
        "    train_val_loaders = {\n",
        "        \"train\": DataLoader(\n",
        "            dataset=train_dataset,\n",
        "            batch_size=params[\"training\"][\"batch_size\"],\n",
        "            shuffle=True,\n",
        "        ),\n",
        "        \"valid\": DataLoader(\n",
        "            dataset=valid_dataset,\n",
        "            batch_size=params[\"training\"][\"batch_size\"],\n",
        "            shuffle=False,\n",
        "        ),\n",
        "    }\n",
        "\n",
        "    test_loaders = {\n",
        "        \"test\": DataLoader(\n",
        "            dataset=test_dataset,\n",
        "            batch_size=params[\"training\"][\"batch_size\"],\n",
        "            shuffle=False,\n",
        "        )\n",
        "    }\n",
        "\n",
        "    del train_df\n",
        "    del valid_df\n",
        "    del test_df\n",
        "    del train_dataset\n",
        "    del valid_dataset\n",
        "    del test_dataset\n",
        "\n",
        "    return train_val_loaders, test_loaders\n"
      ]
    },
    {
      "cell_type": "markdown",
      "metadata": {},
      "source": [
        "# Model"
      ]
    },
    {
      "cell_type": "code",
      "execution_count": 9,
      "metadata": {},
      "outputs": [],
      "source": [
        "class BertForSequenceClassification(nn.Module):\n",
        "    \"\"\"\n",
        "    Simplified version of the same class by HuggingFace.\n",
        "    See transformers/modeling_distilbert.py in the transformers repository.\n",
        "    \"\"\"\n",
        "\n",
        "    def __init__(\n",
        "        self, \n",
        "        pretrained_model_name: str, \n",
        "        num_classes: int = None, \n",
        "        dropout: float = 0.3\n",
        "    ):\n",
        "        \"\"\"\n",
        "        Args:\n",
        "            pretrained_model_name (str): HuggingFace model name.\n",
        "                See transformers/modeling_auto.py\n",
        "            num_classes (int): the number of class labels\n",
        "                in the classification task\n",
        "        \"\"\"\n",
        "        super().__init__()\n",
        "\n",
        "        config = AutoConfig.from_pretrained(pretrained_model_name, num_labels=num_classes)\n",
        "\n",
        "        self.model = AutoModel.from_pretrained(pretrained_model_name, config=config)\n",
        "        self.dropout = nn.Dropout(dropout)\n",
        "\n",
        "        if 1: #default out-of-box gateway\n",
        "            self.classifier = nn.Linear(config.hidden_size, num_classes)\n",
        "        else:\n",
        "            self.classifier = nn.Linear(config.hidden_size * 2, num_classes)\n",
        "        self.softmax = nn.Softmax(dim=1)\n",
        "\n",
        "    def forward(self, **kwargs):\n",
        "        attention_mask = kwargs['attention_mask']\n",
        "        features = kwargs['features']\n",
        "        token_type_ids = kwargs['token_type_ids']\n",
        "        head_mask = None\n",
        "    #def forward(self, features, attention_mask=None, token_type_ids=None, head_mask=None):\n",
        "        \"\"\"Compute class probabilities for the input sequence.\n",
        "\n",
        "        Args:\n",
        "            features (torch.Tensor): ids of each token,\n",
        "                size ([bs, seq_length]\n",
        "            attention_mask (torch.Tensor): binary tensor, used to select\n",
        "                tokens which are used to compute attention scores\n",
        "                in the self-attention heads, size [bs, seq_length]\n",
        "            head_mask (torch.Tensor): 1.0 in head_mask indicates that\n",
        "                we keep the head, size: [num_heads]\n",
        "                or [num_hidden_layers x num_heads]\n",
        "        Returns:\n",
        "            PyTorch Tensor with predicted class scores\n",
        "        \"\"\"\n",
        "        assert attention_mask is not None, \"attention mask is none\"\n",
        "\n",
        "        # taking BERTModel output\n",
        "        # see https://huggingface.co/transformers/model_doc/bert.html#transformers.BertModel\n",
        "        bert_output = self.model(\n",
        "            input_ids=features, \n",
        "            attention_mask=attention_mask, \n",
        "            token_type_ids=token_type_ids, \n",
        "            head_mask=head_mask)\n",
        "        # we only need the hidden state here and don't need\n",
        "        # transformer output, so index 0\n",
        "\n",
        "        if 1: #default out-of-box gateway\n",
        "            seq_output = bert_output[0]  # (bs, seq_len, dim)\n",
        "            # mean pooling, i.e. getting average representation of all tokens\n",
        "            pooled_output = seq_output.mean(axis=1)  # (bs, dim)\n",
        "            pooled_output = self.dropout(pooled_output)  # (bs, dim)\n",
        "            scores = self.classifier(pooled_output)  # (bs, num_classes)\n",
        "        else:\n",
        "            encoder_out = bert_output['last_hidden_state']\n",
        "            \n",
        "            pooled_output, _ = torch.max(encoder_out, 1)\n",
        "            pooled_output = torch.relu(pooled_output)\n",
        "            \n",
        "            pooled_output_mean = torch.mean(encoder_out, 1)\n",
        "            #cls = bert_output[:, 0, :]\n",
        "            pooled_output = torch.cat((pooled_output, pooled_output_mean), 1)\n",
        "            \n",
        "            pooled_output = self.dropout(pooled_output)\n",
        "            scores = self.classifier(pooled_output)\n",
        "            \n",
        "            #scores = (logits,) + scores[2:]  # add hidden states and attention if they are here\n",
        "\n",
        "            #if self.model labels is not None:\n",
        "            #    if self.num_labels == 1:\n",
        "            #        # We are doing regression\n",
        "            #        loss_fct = MSELoss()\n",
        "            #        loss = loss_fct(logits.view(-1), labels.view(-1))\n",
        "            #    else:\n",
        "            #        loss = torch.nn.functional.binary_cross_entropy_with_logits( logits.view(-1), labels.view(-1) )\n",
        "            #    outputs = (loss,) + outputs\n",
        "        scores = self.softmax(scores)\n",
        "        return scores"
      ]
    },
    {
      "cell_type": "markdown",
      "metadata": {},
      "source": [
        "# Train"
      ]
    },
    {
      "cell_type": "code",
      "execution_count": 10,
      "metadata": {},
      "outputs": [],
      "source": [
        "# loading config params\n",
        "project_root: Path = get_project_root()\n",
        "with open(str(project_root / \"config.yml\")) as f:\n",
        "    params = yaml.load(f, Loader=yaml.FullLoader)"
      ]
    },
    {
      "cell_type": "code",
      "execution_count": 11,
      "metadata": {},
      "outputs": [],
      "source": [
        "# read and process data\n",
        "train_val_loaders, test_loaders = read_data(params)"
      ]
    },
    {
      "cell_type": "code",
      "execution_count": 12,
      "metadata": {},
      "outputs": [],
      "source": [
        "# initialize the model\n",
        "model = BertForSequenceClassification(\n",
        "    pretrained_model_name=params[\"model\"][\"model_name\"],\n",
        "    num_classes=params[\"model\"][\"num_classes\"],\n",
        ")"
      ]
    },
    {
      "cell_type": "code",
      "execution_count": 13,
      "metadata": {},
      "outputs": [],
      "source": [
        "param_optimizer = list(model.model.named_parameters())\n",
        "no_decay = ['bias', 'gamma', 'beta']\n",
        "optimizer_grouped_parameters = [\n",
        "    {'params': [p for n, p in param_optimizer if not any(nd in n for nd in no_decay)], 'weight_decay_rate': 0.01},\n",
        "    {'params': [p for n, p in param_optimizer if any(nd in n for nd in no_decay)], 'weight_decay_rate': 0.0}\n",
        "]\n",
        "\n",
        "# specify criterion for the multi-class classification task, optimizer and scheduler\n",
        "criterion = torch.nn.CrossEntropyLoss()\n",
        "optimizer = torch.optim.Adam(optimizer_grouped_parameters, lr=float(params[\"training\"][\"learn_rate\"]))\n",
        "scheduler = torch.optim.lr_scheduler.ReduceLROnPlateau(optimizer)"
      ]
    },
    {
      "cell_type": "code",
      "execution_count": 14,
      "metadata": {},
      "outputs": [],
      "source": [
        "# specify criterion for the multi-class classification task, optimizer and scheduler\n",
        "#criterion = torch.nn.CrossEntropyLoss()\n",
        "#optimizer = torch.optim.Adam(model.parameters(), lr=float(params[\"training\"][\"learn_rate\"]))\n",
        "#scheduler = torch.optim.lr_scheduler.ReduceLROnPlateau(optimizer)"
      ]
    },
    {
      "cell_type": "code",
      "execution_count": 15,
      "metadata": {},
      "outputs": [],
      "source": [
        "# reproducibility\n",
        "set_global_seed(params[\"general\"][\"seed\"])\n",
        "prepare_cudnn(deterministic=True)"
      ]
    },
    {
      "cell_type": "code",
      "execution_count": 16,
      "metadata": {},
      "outputs": [],
      "source": [
        "# here we specify that we pass masks to the runner. So model's forward method will be called with\n",
        "# these arguments passed to it.\n",
        "runner = SupervisedRunner(input_key=(\"features\", \"attention_mask\", \"token_type_ids\"))"
      ]
    },
    {
      "cell_type": "code",
      "execution_count": 17,
      "metadata": {},
      "outputs": [
        {
          "name": "stderr",
          "output_type": "stream",
          "text": [
            "1/40 * Epoch (train): 100%|██████████| 219/219 [00:23<00:00,  9.21it/s, accuracy01=1.000, accuracy03=1.000, loss=0.961, lr=3.000e-05, momentum=0.900]\n"
          ]
        },
        {
          "name": "stdout",
          "output_type": "stream",
          "text": [
            "train (1/40) accuracy01: 0.660377358490566 | accuracy01/std: 0.17373957822883326 | accuracy03: 0.9937106918238994 | accuracy03/std: 0.04006443330218777 | loss: 1.247953957152271 | loss/mean: 1.247953957152271 | loss/std: 0.14766338532704634 | lr: 3e-05 | momentum: 0.9\n"
          ]
        },
        {
          "name": "stderr",
          "output_type": "stream",
          "text": [
            "1/40 * Epoch (valid): 100%|██████████| 103/103 [00:03<00:00, 28.28it/s, accuracy01=0.200, accuracy03=1.000, loss=1.547, lr=3.000e-05, momentum=0.900]\n"
          ]
        },
        {
          "name": "stdout",
          "output_type": "stream",
          "text": [
            "valid (1/40) accuracy01: 0.5347137637209516 | accuracy01/std: 0.2072192715296685 | accuracy03: 1.0 | accuracy03/std: 0.0 | loss: 1.3519909008702178 | loss/mean: 1.3519909008702178 | loss/std: 0.1718507006992778 | lr: 3e-05 | momentum: 0.9\n",
            "* Epoch (1/40) lr: 3e-05 | momentum: 0.9\n"
          ]
        },
        {
          "name": "stderr",
          "output_type": "stream",
          "text": [
            "2/40 * Epoch (train): 100%|██████████| 219/219 [00:24<00:00,  8.99it/s, accuracy01=0.600, accuracy03=1.000, loss=1.224, lr=3.000e-05, momentum=0.900]\n"
          ]
        },
        {
          "name": "stdout",
          "output_type": "stream",
          "text": [
            "train (2/40) accuracy01: 0.734133790805723 | accuracy01/std: 0.16142105753342775 | accuracy03: 0.9845626072041167 | accuracy03/std: 0.042840975665180574 | loss: 1.1680994410048635 | loss/mean: 1.1680994410048635 | loss/std: 0.14866473638511085 | lr: 3e-05 | momentum: 0.9\n"
          ]
        },
        {
          "name": "stderr",
          "output_type": "stream",
          "text": [
            "2/40 * Epoch (valid): 100%|██████████| 103/103 [00:03<00:00, 27.29it/s, accuracy01=0.400, accuracy03=1.000, loss=1.455, lr=3.000e-05, momentum=0.900]\n"
          ]
        },
        {
          "name": "stdout",
          "output_type": "stream",
          "text": [
            "valid (2/40) accuracy01: 0.5590742996708918 | accuracy01/std: 0.1849848262011882 | accuracy03: 0.9975639464068213 | accuracy03/std: 0.01728977890693757 | loss: 1.3390054201818413 | loss/mean: 1.3390054201818413 | loss/std: 0.17511012960974734 | lr: 3e-05 | momentum: 0.9\n",
            "* Epoch (2/40) lr: 3e-05 | momentum: 0.9\n"
          ]
        },
        {
          "name": "stderr",
          "output_type": "stream",
          "text": [
            "3/40 * Epoch (train): 100%|██████████| 219/219 [00:24<00:00,  8.91it/s, accuracy01=0.600, accuracy03=0.800, loss=1.306, lr=3.000e-05, momentum=0.900]\n"
          ]
        },
        {
          "name": "stdout",
          "output_type": "stream",
          "text": [
            "train (3/40) accuracy01: 0.7821612350595818 | accuracy01/std: 0.14632889526089285 | accuracy03: 0.9897084048368237 | accuracy03/std: 0.03886071519233726 | loss: 1.1235005228501722 | loss/mean: 1.1235005228501722 | loss/std: 0.1385511909366497 | lr: 3e-05 | momentum: 0.9\n"
          ]
        },
        {
          "name": "stderr",
          "output_type": "stream",
          "text": [
            "3/40 * Epoch (valid): 100%|██████████| 103/103 [00:03<00:00, 27.14it/s, accuracy01=0.600, accuracy03=0.800, loss=1.325, lr=3.000e-05, momentum=0.900]\n"
          ]
        },
        {
          "name": "stdout",
          "output_type": "stream",
          "text": [
            "valid (3/40) accuracy01: 0.5809987821184037 | accuracy01/std: 0.1615986484311394 | accuracy03: 0.9719853837510407 | accuracy03/std: 0.061044404111228565 | loss: 1.3147306985309148 | loss/mean: 1.3147306985309148 | loss/std: 0.14983014438064682 | lr: 3e-05 | momentum: 0.9\n",
            "* Epoch (3/40) lr: 3e-05 | momentum: 0.9\n"
          ]
        },
        {
          "name": "stderr",
          "output_type": "stream",
          "text": [
            "4/40 * Epoch (train): 100%|██████████| 219/219 [00:24<00:00,  8.88it/s, accuracy01=0.800, accuracy03=0.800, loss=1.105, lr=3.000e-05, momentum=0.900]\n"
          ]
        },
        {
          "name": "stdout",
          "output_type": "stream",
          "text": [
            "train (4/40) accuracy01: 0.8250428816807347 | accuracy01/std: 0.13432201519040676 | accuracy03: 0.946826758181592 | accuracy03/std: 0.08950949635203112 | loss: 1.0784581209196913 | loss/mean: 1.0784581209196913 | loss/std: 0.1279348721639241 | lr: 3e-05 | momentum: 0.9\n"
          ]
        },
        {
          "name": "stderr",
          "output_type": "stream",
          "text": [
            "4/40 * Epoch (valid): 100%|██████████| 103/103 [00:03<00:00, 27.02it/s, accuracy01=0.600, accuracy03=0.600, loss=1.307, lr=3.000e-05, momentum=0.900]\n"
          ]
        },
        {
          "name": "stdout",
          "output_type": "stream",
          "text": [
            "valid (4/40) accuracy01: 0.582216808914993 | accuracy01/std: 0.19482752038123627 | accuracy03: 0.7600487212170637 | accuracy03/std: 0.14879433347539978 | loss: 1.3195208483869063 | loss/mean: 1.3195208483869063 | loss/std: 0.1877208087730406 | lr: 3e-05 | momentum: 0.9\n",
            "* Epoch (4/40) lr: 3e-05 | momentum: 0.9\n"
          ]
        },
        {
          "name": "stderr",
          "output_type": "stream",
          "text": [
            "5/40 * Epoch (train): 100%|██████████| 219/219 [00:24<00:00,  8.90it/s, accuracy01=0.800, accuracy03=1.000, loss=1.105, lr=3.000e-05, momentum=0.900]\n"
          ]
        },
        {
          "name": "stdout",
          "output_type": "stream",
          "text": [
            "train (5/40) accuracy01: 0.8502001143851374 | accuracy01/std: 0.12673832470294238 | accuracy03: 0.9559748427672959 | accuracy03/std: 0.06863770376544676 | loss: 1.0553120793173012 | loss/mean: 1.0553120793173012 | loss/std: 0.11949026871618522 | lr: 3e-05 | momentum: 0.9\n"
          ]
        },
        {
          "name": "stderr",
          "output_type": "stream",
          "text": [
            "5/40 * Epoch (valid): 100%|██████████| 103/103 [00:03<00:00, 27.17it/s, accuracy01=0.600, accuracy03=0.800, loss=1.305, lr=3.000e-05, momentum=0.900]\n"
          ]
        },
        {
          "name": "stdout",
          "output_type": "stream",
          "text": [
            "valid (5/40) accuracy01: 0.5907429964911197 | accuracy01/std: 0.19996843279669393 | accuracy03: 0.7734470159069486 | accuracy03/std: 0.14371442273784119 | loss: 1.3102893507001458 | loss/mean: 1.3102893507001458 | loss/std: 0.1956308879194732 | lr: 3e-05 | momentum: 0.9\n",
            "* Epoch (5/40) lr: 3e-05 | momentum: 0.9\n"
          ]
        },
        {
          "name": "stderr",
          "output_type": "stream",
          "text": [
            "6/40 * Epoch (train): 100%|██████████| 219/219 [00:24<00:00,  8.90it/s, accuracy01=1.000, accuracy03=1.000, loss=0.905, lr=3.000e-05, momentum=0.900]\n"
          ]
        },
        {
          "name": "stdout",
          "output_type": "stream",
          "text": [
            "train (6/40) accuracy01: 0.8553459119496853 | accuracy01/std: 0.12941851054403378 | accuracy03: 0.9325328759291022 | accuracy03/std: 0.09275493461011927 | loss: 1.050763304639775 | loss/mean: 1.050763304639775 | loss/std: 0.12686896699690586 | lr: 3e-05 | momentum: 0.9\n"
          ]
        },
        {
          "name": "stderr",
          "output_type": "stream",
          "text": [
            "6/40 * Epoch (valid): 100%|██████████| 103/103 [00:03<00:00, 27.17it/s, accuracy01=0.600, accuracy03=0.600, loss=1.305, lr=3.000e-05, momentum=0.900]\n"
          ]
        },
        {
          "name": "stdout",
          "output_type": "stream",
          "text": [
            "valid (6/40) accuracy01: 0.6333739343717532 | accuracy01/std: 0.17915980805481568 | accuracy03: 0.758830694420474 | accuracy03/std: 0.16116374580454282 | loss: 1.2639723512345198 | loss/mean: 1.2639723512345198 | loss/std: 0.1735101896626448 | lr: 3e-05 | momentum: 0.9\n",
            "* Epoch (6/40) lr: 3e-05 | momentum: 0.9\n"
          ]
        },
        {
          "name": "stderr",
          "output_type": "stream",
          "text": [
            "7/40 * Epoch (train): 100%|██████████| 219/219 [00:24<00:00,  8.84it/s, accuracy01=1.000, accuracy03=1.000, loss=0.905, lr=3.000e-05, momentum=0.900]\n"
          ]
        },
        {
          "name": "stdout",
          "output_type": "stream",
          "text": [
            "train (7/40) accuracy01: 0.860491709548313 | accuracy01/std: 0.11949545228889655 | accuracy03: 0.9108061749571185 | accuracy03/std: 0.1010125037384226 | loss: 1.043138897677977 | loss/mean: 1.043138897677977 | loss/std: 0.11642023743942209 | lr: 3e-05 | momentum: 0.9\n"
          ]
        },
        {
          "name": "stderr",
          "output_type": "stream",
          "text": [
            "7/40 * Epoch (valid): 100%|██████████| 103/103 [00:03<00:00, 27.26it/s, accuracy01=0.600, accuracy03=0.600, loss=1.305, lr=3.000e-05, momentum=0.900]\n"
          ]
        },
        {
          "name": "stdout",
          "output_type": "stream",
          "text": [
            "valid (7/40) accuracy01: 0.6406820951512903 | accuracy01/std: 0.17866789609222195 | accuracy03: 0.7576126676238845 | accuracy03/std: 0.15197849972571312 | loss: 1.2626660867672457 | loss/mean: 1.2626660867672457 | loss/std: 0.17545383962412034 | lr: 3e-05 | momentum: 0.9\n",
            "* Epoch (7/40) lr: 3e-05 | momentum: 0.9\n"
          ]
        },
        {
          "name": "stderr",
          "output_type": "stream",
          "text": [
            "8/40 * Epoch (train): 100%|██████████| 219/219 [00:24<00:00,  8.82it/s, accuracy01=0.600, accuracy03=0.800, loss=1.305, lr=3.000e-05, momentum=0.900]\n"
          ]
        },
        {
          "name": "stdout",
          "output_type": "stream",
          "text": [
            "train (8/40) accuracy01: 0.8724985706799369 | accuracy01/std: 0.11837037339772497 | accuracy03: 0.9331046312519177 | accuracy03/std: 0.0858169844869974 | loss: 1.0307856682984058 | loss/mean: 1.0307856682984058 | loss/std: 0.1137413877598651 | lr: 3e-05 | momentum: 0.9\n"
          ]
        },
        {
          "name": "stderr",
          "output_type": "stream",
          "text": [
            "8/40 * Epoch (valid): 100%|██████████| 103/103 [00:03<00:00, 27.04it/s, accuracy01=0.400, accuracy03=0.600, loss=1.508, lr=3.000e-05, momentum=0.900]\n"
          ]
        },
        {
          "name": "stdout",
          "output_type": "stream",
          "text": [
            "valid (8/40) accuracy01: 0.6345919610594426 | accuracy01/std: 0.17909865210697862 | accuracy03: 0.7320341048955046 | accuracy03/std: 0.16415899124572544 | loss: 1.2710094645020444 | loss/mean: 1.2710094645020444 | loss/std: 0.17891749659606776 | lr: 3e-05 | momentum: 0.9\n",
            "* Epoch (8/40) lr: 3e-05 | momentum: 0.9\n"
          ]
        },
        {
          "name": "stderr",
          "output_type": "stream",
          "text": [
            "9/40 * Epoch (train): 100%|██████████| 219/219 [00:24<00:00,  8.77it/s, accuracy01=1.000, accuracy03=1.000, loss=0.906, lr=3.000e-05, momentum=0.900]\n"
          ]
        },
        {
          "name": "stdout",
          "output_type": "stream",
          "text": [
            "train (9/40) accuracy01: 0.8753573470554603 | accuracy01/std: 0.1142779082230332 | accuracy03: 0.9348198970840482 | accuracy03/std: 0.08222961470923766 | loss: 1.030081753051915 | loss/mean: 1.030081753051915 | loss/std: 0.11251449203590115 | lr: 3e-05 | momentum: 0.9\n"
          ]
        },
        {
          "name": "stderr",
          "output_type": "stream",
          "text": [
            "9/40 * Epoch (valid): 100%|██████████| 103/103 [00:03<00:00, 26.83it/s, accuracy01=0.400, accuracy03=0.600, loss=1.505, lr=3.000e-05, momentum=0.900]\n"
          ]
        },
        {
          "name": "stdout",
          "output_type": "stream",
          "text": [
            "valid (9/40) accuracy01: 0.6065773447378834 | accuracy01/std: 0.17009496030122764 | accuracy03: 0.7734470159795482 | accuracy03/std: 0.15385749228265447 | loss: 1.297197380977775 | loss/mean: 1.297197380977775 | loss/std: 0.16712797637493215 | lr: 3e-05 | momentum: 0.9\n",
            "* Epoch (9/40) lr: 3e-05 | momentum: 0.9\n"
          ]
        },
        {
          "name": "stderr",
          "output_type": "stream",
          "text": [
            "10/40 * Epoch (train): 100%|██████████| 219/219 [00:24<00:00,  8.80it/s, accuracy01=1.000, accuracy03=1.000, loss=0.906, lr=3.000e-05, momentum=0.900]\n"
          ]
        },
        {
          "name": "stdout",
          "output_type": "stream",
          "text": [
            "train (10/40) accuracy01: 0.8993710691823901 | accuracy01/std: 0.10504795727327916 | accuracy03: 0.9325328759291023 | accuracy03/std: 0.08298934121282925 | loss: 1.006607582870383 | loss/mean: 1.006607582870383 | loss/std: 0.10371376062322149 | lr: 3e-05 | momentum: 0.9\n"
          ]
        },
        {
          "name": "stderr",
          "output_type": "stream",
          "text": [
            "10/40 * Epoch (valid): 100%|██████████| 103/103 [00:03<00:00, 26.86it/s, accuracy01=0.600, accuracy03=0.600, loss=1.313, lr=3.000e-05, momentum=0.900]\n"
          ]
        },
        {
          "name": "stdout",
          "output_type": "stream",
          "text": [
            "valid (10/40) accuracy01: 0.5919610232877094 | accuracy01/std: 0.18472769265193772 | accuracy03: 0.7040194885739454 | accuracy03/std: 0.16193093854414153 | loss: 1.3129404976365047 | loss/mean: 1.3129404976365047 | loss/std: 0.1811499767002107 | lr: 3e-05 | momentum: 0.9\n",
            "* Epoch (10/40) lr: 3e-05 | momentum: 0.9\n"
          ]
        },
        {
          "name": "stderr",
          "output_type": "stream",
          "text": [
            "11/40 * Epoch (train): 100%|██████████| 219/219 [00:24<00:00,  8.80it/s, accuracy01=1.000, accuracy03=1.000, loss=0.905, lr=3.000e-05, momentum=0.900]\n"
          ]
        },
        {
          "name": "stdout",
          "output_type": "stream",
          "text": [
            "train (11/40) accuracy01: 0.882218410520297 | accuracy01/std: 0.1082600917423521 | accuracy03: 0.9325328759291023 | accuracy03/std: 0.08719136270163334 | loss: 1.021433539633208 | loss/mean: 1.021433539633208 | loss/std: 0.1058289560089381 | lr: 3e-05 | momentum: 0.9\n"
          ]
        },
        {
          "name": "stderr",
          "output_type": "stream",
          "text": [
            "11/40 * Epoch (valid): 100%|██████████| 103/103 [00:03<00:00, 26.52it/s, accuracy01=0.400, accuracy03=0.600, loss=1.505, lr=3.000e-05, momentum=0.900]\n"
          ]
        },
        {
          "name": "stdout",
          "output_type": "stream",
          "text": [
            "valid (11/40) accuracy01: 0.6065773447378833 | accuracy01/std: 0.1771195074239992 | accuracy03: 0.7783191231659067 | accuracy03/std: 0.1510293153067213 | loss: 1.298049907881798 | loss/mean: 1.298049907881798 | loss/std: 0.17597527631278997 | lr: 3e-05 | momentum: 0.9\n",
            "* Epoch (11/40) lr: 3e-05 | momentum: 0.9\n"
          ]
        },
        {
          "name": "stderr",
          "output_type": "stream",
          "text": [
            "12/40 * Epoch (train): 100%|██████████| 219/219 [00:25<00:00,  8.72it/s, accuracy01=0.800, accuracy03=1.000, loss=1.105, lr=3.000e-05, momentum=0.900]\n"
          ]
        },
        {
          "name": "stdout",
          "output_type": "stream",
          "text": [
            "train (12/40) accuracy01: 0.87364208122333 | accuracy01/std: 0.11476994184179663 | accuracy03: 0.9342481417953119 | accuracy03/std: 0.08808779784711528 | loss: 1.0315519533817117 | loss/mean: 1.0315519533817117 | loss/std: 0.11344494831079244 | lr: 3e-05 | momentum: 0.9\n"
          ]
        },
        {
          "name": "stderr",
          "output_type": "stream",
          "text": [
            "12/40 * Epoch (valid): 100%|██████████| 103/103 [00:03<00:00, 26.94it/s, accuracy01=0.400, accuracy03=0.600, loss=1.505, lr=3.000e-05, momentum=0.900]\n"
          ]
        },
        {
          "name": "stdout",
          "output_type": "stream",
          "text": [
            "valid (12/40) accuracy01: 0.5724725944333767 | accuracy01/std: 0.18639022998280028 | accuracy03: 0.7101096225568931 | accuracy03/std: 0.1544308595303459 | loss: 1.3308165726795265 | loss/mean: 1.3308165726795265 | loss/std: 0.1823414285613564 | lr: 3e-05 | momentum: 0.9\n",
            "* Epoch (12/40) lr: 3e-05 | momentum: 0.9\n"
          ]
        },
        {
          "name": "stderr",
          "output_type": "stream",
          "text": [
            "13/40 * Epoch (train): 100%|██████████| 219/219 [00:25<00:00,  8.75it/s, accuracy01=1.000, accuracy03=1.000, loss=0.905, lr=3.000e-05, momentum=0.900]\n"
          ]
        },
        {
          "name": "stdout",
          "output_type": "stream",
          "text": [
            "train (13/40) accuracy01: 0.8970840480274441 | accuracy01/std: 0.11339146829862289 | accuracy03: 0.9594053744997137 | accuracy03/std: 0.06970344828890229 | loss: 1.00890098587999 | loss/mean: 1.00890098587999 | loss/std: 0.1128696598614708 | lr: 3e-05 | momentum: 0.9\n"
          ]
        },
        {
          "name": "stderr",
          "output_type": "stream",
          "text": [
            "13/40 * Epoch (valid): 100%|██████████| 103/103 [00:03<00:00, 26.98it/s, accuracy01=0.400, accuracy03=0.800, loss=1.505, lr=3.000e-05, momentum=0.900]\n"
          ]
        },
        {
          "name": "stdout",
          "output_type": "stream",
          "text": [
            "valid (13/40) accuracy01: 0.5919610231788095 | accuracy01/std: 0.19161363164152018 | accuracy03: 0.7722289891103588 | accuracy03/std: 0.16232615824460644 | loss: 1.3126414732578755 | loss/mean: 1.3126414732578755 | loss/std: 0.19027488975362855 | lr: 3e-05 | momentum: 0.9\n",
            "* Epoch (13/40) lr: 3e-05 | momentum: 0.9\n"
          ]
        },
        {
          "name": "stderr",
          "output_type": "stream",
          "text": [
            "14/40 * Epoch (train): 100%|██████████| 219/219 [00:25<00:00,  8.75it/s, accuracy01=0.800, accuracy03=0.800, loss=1.105, lr=3.000e-05, momentum=0.900]\n"
          ]
        },
        {
          "name": "stdout",
          "output_type": "stream",
          "text": [
            "train (14/40) accuracy01: 0.8965122927727868 | accuracy01/std: 0.1127428093527729 | accuracy03: 0.9622641509774759 | accuracy03/std: 0.06587048671429072 | loss: 1.0061803417522064 | loss/mean: 1.0061803417522064 | loss/std: 0.10860796689047895 | lr: 3e-05 | momentum: 0.9\n"
          ]
        },
        {
          "name": "stderr",
          "output_type": "stream",
          "text": [
            "14/40 * Epoch (valid): 100%|██████████| 103/103 [00:03<00:00, 26.88it/s, accuracy01=0.600, accuracy03=0.800, loss=1.305, lr=3.000e-05, momentum=0.900]\n"
          ]
        },
        {
          "name": "stdout",
          "output_type": "stream",
          "text": [
            "valid (14/40) accuracy01: 0.5627283801695607 | accuracy01/std: 0.18949383295722086 | accuracy03: 0.7880633374660228 | accuracy03/std: 0.15499024638028863 | loss: 1.338800860380575 | loss/mean: 1.338800860380575 | loss/std: 0.18730978572908602 | lr: 3e-05 | momentum: 0.9\n",
            "* Epoch (14/40) lr: 3e-05 | momentum: 0.9\n"
          ]
        },
        {
          "name": "stderr",
          "output_type": "stream",
          "text": [
            "15/40 * Epoch (train): 100%|██████████| 219/219 [00:24<00:00,  8.80it/s, accuracy01=0.800, accuracy03=1.000, loss=1.105, lr=3.000e-05, momentum=0.900]\n"
          ]
        },
        {
          "name": "stdout",
          "output_type": "stream",
          "text": [
            "train (15/40) accuracy01: 0.8982275586389961 | accuracy01/std: 0.10752442492988311 | accuracy03: 0.9559748427672958 | accuracy03/std: 0.07462746108496043 | loss: 1.005000736046818 | loss/mean: 1.005000736046818 | loss/std: 0.10438050633771115 | lr: 3e-05 | momentum: 0.9\n"
          ]
        },
        {
          "name": "stderr",
          "output_type": "stream",
          "text": [
            "15/40 * Epoch (valid): 100%|██████████| 103/103 [00:03<00:00, 26.80it/s, accuracy01=0.600, accuracy03=0.800, loss=1.305, lr=3.000e-05, momentum=0.900]\n"
          ]
        },
        {
          "name": "stdout",
          "output_type": "stream",
          "text": [
            "valid (15/40) accuracy01: 0.5956151036774779 | accuracy01/std: 0.17388745439872969 | accuracy03: 0.8550548112784465 | accuracy03/std: 0.11687768531900208 | loss: 1.3081796811065487 | loss/mean: 1.3081796811065487 | loss/std: 0.16989296885565314 | lr: 3e-05 | momentum: 0.9\n",
            "* Epoch (15/40) lr: 3e-05 | momentum: 0.9\n"
          ]
        },
        {
          "name": "stderr",
          "output_type": "stream",
          "text": [
            "16/40 * Epoch (train): 100%|██████████| 219/219 [00:24<00:00,  8.78it/s, accuracy01=1.000, accuracy03=1.000, loss=0.905, lr=3.000e-05, momentum=0.900]\n"
          ]
        },
        {
          "name": "stdout",
          "output_type": "stream",
          "text": [
            "train (16/40) accuracy01: 0.8987993138936535 | accuracy01/std: 0.11398863446288995 | accuracy03: 0.9599771297884507 | accuracy03/std: 0.07731329131793344 | loss: 1.0060041410845315 | loss/mean: 1.0060041410845315 | loss/std: 0.11221278960633917 | lr: 3e-05 | momentum: 0.9\n"
          ]
        },
        {
          "name": "stderr",
          "output_type": "stream",
          "text": [
            "16/40 * Epoch (valid): 100%|██████████| 103/103 [00:03<00:00, 26.89it/s, accuracy01=0.400, accuracy03=1.000, loss=1.505, lr=3.000e-05, momentum=0.900]\n"
          ]
        },
        {
          "name": "stdout",
          "output_type": "stream",
          "text": [
            "valid (16/40) accuracy01: 0.6004872107549359 | accuracy01/std: 0.18357827168229032 | accuracy03: 0.7929354445797807 | accuracy03/std: 0.14629166314443318 | loss: 1.3020638481562963 | loss/mean: 1.3020638481562963 | loss/std: 0.18447792424478654 | lr: 3e-05 | momentum: 0.9\n",
            "* Epoch (16/40) lr: 3e-05 | momentum: 0.9\n"
          ]
        },
        {
          "name": "stderr",
          "output_type": "stream",
          "text": [
            "17/40 * Epoch (train): 100%|██████████| 219/219 [00:25<00:00,  8.75it/s, accuracy01=1.000, accuracy03=1.000, loss=0.905, lr=3.000e-05, momentum=0.900]\n"
          ]
        },
        {
          "name": "stdout",
          "output_type": "stream",
          "text": [
            "train (17/40) accuracy01: 0.911377930245855 | accuracy01/std: 0.10045257766393671 | accuracy03: 0.9765580331618068 | accuracy03/std: 0.05435222528455793 | loss: 0.9922186874061941 | loss/mean: 0.9922186874061941 | loss/std: 0.09887771851238301 | lr: 3e-05 | momentum: 0.9\n"
          ]
        },
        {
          "name": "stderr",
          "output_type": "stream",
          "text": [
            "17/40 * Epoch (valid): 100%|██████████| 103/103 [00:03<00:00, 26.82it/s, accuracy01=0.800, accuracy03=0.800, loss=1.203, lr=3.000e-05, momentum=0.900]\n"
          ]
        },
        {
          "name": "stdout",
          "output_type": "stream",
          "text": [
            "valid (17/40) accuracy01: 0.5639464068935504 | accuracy01/std: 0.19117038011092616 | accuracy03: 0.7904993910592021 | accuracy03/std: 0.15633334947971408 | loss: 1.3404244665106384 | loss/mean: 1.3404244665106384 | loss/std: 0.18803493200776233 | lr: 3e-05 | momentum: 0.9\n",
            "* Epoch (17/40) lr: 3e-05 | momentum: 0.9\n"
          ]
        },
        {
          "name": "stderr",
          "output_type": "stream",
          "text": [
            "18/40 * Epoch (train): 100%|██████████| 219/219 [00:25<00:00,  8.74it/s, accuracy01=1.000, accuracy03=1.000, loss=0.907, lr=3.000e-05, momentum=0.900]\n"
          ]
        },
        {
          "name": "stdout",
          "output_type": "stream",
          "text": [
            "train (18/40) accuracy01: 0.9176672384219553 | accuracy01/std: 0.09535577825522659 | accuracy03: 0.9891366495140078 | accuracy03/std: 0.037197262675534616 | loss: 0.9868308863277231 | loss/mean: 0.9868308863277231 | loss/std: 0.09384074391097402 | lr: 3e-05 | momentum: 0.9\n"
          ]
        },
        {
          "name": "stderr",
          "output_type": "stream",
          "text": [
            "18/40 * Epoch (valid): 100%|██████████| 103/103 [00:03<00:00, 26.85it/s, accuracy01=0.600, accuracy03=1.000, loss=1.305, lr=3.000e-05, momentum=0.900]\n"
          ]
        },
        {
          "name": "stdout",
          "output_type": "stream",
          "text": [
            "valid (18/40) accuracy01: 0.6138855056263206 | accuracy01/std: 0.17557121143745477 | accuracy03: 1.0 | accuracy03/std: 0.0 | loss: 1.2890660942835002 | loss/mean: 1.2890660942835002 | loss/std: 0.17028220070602657 | lr: 3e-05 | momentum: 0.9\n",
            "* Epoch (18/40) lr: 3e-06 | momentum: 0.9\n"
          ]
        },
        {
          "name": "stderr",
          "output_type": "stream",
          "text": [
            "19/40 * Epoch (train): 100%|██████████| 219/219 [00:25<00:00,  8.66it/s, accuracy01=1.000, accuracy03=1.000, loss=0.905, lr=3.000e-06, momentum=0.900]\n"
          ]
        },
        {
          "name": "stdout",
          "output_type": "stream",
          "text": [
            "train (19/40) accuracy01: 0.9325328759291024 | accuracy01/std: 0.09041247762134644 | accuracy03: 0.9954259576901084 | accuracy03/std: 0.02347655314948978 | loss: 0.9723449356219231 | loss/mean: 0.9723449356219231 | loss/std: 0.08978702821901764 | lr: 3e-06 | momentum: 0.9\n"
          ]
        },
        {
          "name": "stderr",
          "output_type": "stream",
          "text": [
            "19/40 * Epoch (valid): 100%|██████████| 103/103 [00:03<00:00, 26.58it/s, accuracy01=0.600, accuracy03=1.000, loss=1.305, lr=3.000e-06, momentum=0.900]\n"
          ]
        },
        {
          "name": "stdout",
          "output_type": "stream",
          "text": [
            "valid (19/40) accuracy01: 0.6041412912536045 | accuracy01/std: 0.17204267624719638 | accuracy03: 1.0 | accuracy03/std: 0.0 | loss: 1.2978132469500168 | loss/mean: 1.2978132469500168 | loss/std: 0.16836940874605785 | lr: 3e-06 | momentum: 0.9\n",
            "* Epoch (19/40) lr: 3e-06 | momentum: 0.9\n"
          ]
        },
        {
          "name": "stderr",
          "output_type": "stream",
          "text": [
            "20/40 * Epoch (train): 100%|██████████| 219/219 [00:24<00:00,  8.87it/s, accuracy01=1.000, accuracy03=1.000, loss=0.905, lr=3.000e-06, momentum=0.900]\n"
          ]
        },
        {
          "name": "stdout",
          "output_type": "stream",
          "text": [
            "train (20/40) accuracy01: 0.9365351629502572 | accuracy01/std: 0.08398813215538917 | accuracy03: 0.9959977129788447 | accuracy03/std: 0.022012374183448973 | loss: 0.9685712105686692 | loss/mean: 0.9685712105686692 | loss/std: 0.08393003208507252 | lr: 3e-06 | momentum: 0.9\n"
          ]
        },
        {
          "name": "stderr",
          "output_type": "stream",
          "text": [
            "20/40 * Epoch (valid): 100%|██████████| 103/103 [00:03<00:00, 27.65it/s, accuracy01=0.600, accuracy03=1.000, loss=1.305, lr=3.000e-06, momentum=0.900]\n"
          ]
        },
        {
          "name": "stdout",
          "output_type": "stream",
          "text": [
            "valid (20/40) accuracy01: 0.6187576128126786 | accuracy01/std: 0.17581216681602888 | accuracy03: 1.0 | accuracy03/std: 0.0 | loss: 1.2824687816919569 | loss/mean: 1.2824687816919569 | loss/std: 0.16761422264959328 | lr: 3e-06 | momentum: 0.9\n",
            "* Epoch (20/40) lr: 3e-06 | momentum: 0.9\n"
          ]
        },
        {
          "name": "stderr",
          "output_type": "stream",
          "text": [
            "21/40 * Epoch (train): 100%|██████████| 219/219 [00:24<00:00,  9.07it/s, accuracy01=0.800, accuracy03=1.000, loss=1.105, lr=3.000e-06, momentum=0.900]\n"
          ]
        },
        {
          "name": "stdout",
          "output_type": "stream",
          "text": [
            "train (21/40) accuracy01: 0.935391652406864 | accuracy01/std: 0.08506713159361617 | accuracy03: 0.9959977129788448 | accuracy03/std: 0.022012374183448976 | loss: 0.9692219003668648 | loss/mean: 0.9692219003668648 | loss/std: 0.08354969550655246 | lr: 3e-06 | momentum: 0.9\n"
          ]
        },
        {
          "name": "stderr",
          "output_type": "stream",
          "text": [
            "21/40 * Epoch (valid): 100%|██████████| 103/103 [00:03<00:00, 27.77it/s, accuracy01=0.600, accuracy03=1.000, loss=1.305, lr=3.000e-06, momentum=0.900]\n"
          ]
        },
        {
          "name": "stdout",
          "output_type": "stream",
          "text": [
            "valid (21/40) accuracy01: 0.6248477467956263 | accuracy01/std: 0.17197952927816848 | accuracy03: 1.0 | accuracy03/std: 0.0 | loss: 1.279703617386348 | loss/mean: 1.279703617386348 | loss/std: 0.16714802304691567 | lr: 3e-06 | momentum: 0.9\n",
            "* Epoch (21/40) lr: 3e-06 | momentum: 0.9\n"
          ]
        },
        {
          "name": "stderr",
          "output_type": "stream",
          "text": [
            "22/40 * Epoch (train): 100%|██████████| 219/219 [00:24<00:00,  9.02it/s, accuracy01=1.000, accuracy03=1.000, loss=0.905, lr=3.000e-06, momentum=0.900]\n"
          ]
        },
        {
          "name": "stdout",
          "output_type": "stream",
          "text": [
            "train (22/40) accuracy01: 0.9376786735277299 | accuracy01/std: 0.08650992791839221 | accuracy03: 0.9931389365351628 | accuracy03/std: 0.028478455850165302 | loss: 0.9672321474095488 | loss/mean: 0.9672321474095488 | loss/std: 0.08572226669775143 | lr: 3e-06 | momentum: 0.9\n"
          ]
        },
        {
          "name": "stderr",
          "output_type": "stream",
          "text": [
            "22/40 * Epoch (valid): 100%|██████████| 103/103 [00:03<00:00, 27.77it/s, accuracy01=0.600, accuracy03=1.000, loss=1.305, lr=3.000e-06, momentum=0.900]\n"
          ]
        },
        {
          "name": "stdout",
          "output_type": "stream",
          "text": [
            "valid (22/40) accuracy01: 0.6272838003888054 | accuracy01/std: 0.17196441374647442 | accuracy03: 1.0 | accuracy03/std: 0.0 | loss: 1.2764434479040871 | loss/mean: 1.2764434479040871 | loss/std: 0.16675391123778815 | lr: 3e-06 | momentum: 0.9\n",
            "* Epoch (22/40) lr: 3e-06 | momentum: 0.9\n"
          ]
        },
        {
          "name": "stderr",
          "output_type": "stream",
          "text": [
            "23/40 * Epoch (train): 100%|██████████| 219/219 [00:24<00:00,  9.04it/s, accuracy01=0.800, accuracy03=1.000, loss=1.105, lr=3.000e-06, momentum=0.900]\n"
          ]
        },
        {
          "name": "stdout",
          "output_type": "stream",
          "text": [
            "train (23/40) accuracy01: 0.9365351629843367 | accuracy01/std: 0.09156471955300545 | accuracy03: 0.9965694682675813 | accuracy03/std: 0.020427591741342545 | loss: 0.9680945865763056 | loss/mean: 0.9680945865763056 | loss/std: 0.09080869228506076 | lr: 3e-06 | momentum: 0.9\n"
          ]
        },
        {
          "name": "stderr",
          "output_type": "stream",
          "text": [
            "23/40 * Epoch (valid): 100%|██████████| 103/103 [00:03<00:00, 27.58it/s, accuracy01=0.600, accuracy03=1.000, loss=1.305, lr=3.000e-06, momentum=0.900]\n"
          ]
        },
        {
          "name": "stdout",
          "output_type": "stream",
          "text": [
            "valid (23/40) accuracy01: 0.6248477467956263 | accuracy01/std: 0.17197952927816848 | accuracy03: 1.0 | accuracy03/std: 0.0 | loss: 1.2781636738167321 | loss/mean: 1.2781636738167321 | loss/std: 0.16651251757562013 | lr: 3e-06 | momentum: 0.9\n",
            "* Epoch (23/40) lr: 3e-06 | momentum: 0.9\n"
          ]
        },
        {
          "name": "stderr",
          "output_type": "stream",
          "text": [
            "24/40 * Epoch (train): 100%|██████████| 219/219 [00:24<00:00,  9.02it/s, accuracy01=1.000, accuracy03=1.000, loss=0.905, lr=3.000e-06, momentum=0.900]\n"
          ]
        },
        {
          "name": "stdout",
          "output_type": "stream",
          "text": [
            "train (24/40) accuracy01: 0.9399656946826755 | accuracy01/std: 0.08972178566252428 | accuracy03: 0.9959977129788452 | accuracy03/std: 0.022012374183449014 | loss: 0.9650079434500074 | loss/mean: 0.9650079434500074 | loss/std: 0.08923368064464922 | lr: 3e-06 | momentum: 0.9\n"
          ]
        },
        {
          "name": "stderr",
          "output_type": "stream",
          "text": [
            "24/40 * Epoch (valid): 100%|██████████| 103/103 [00:03<00:00, 27.59it/s, accuracy01=0.600, accuracy03=1.000, loss=1.305, lr=3.000e-06, momentum=0.900]\n"
          ]
        },
        {
          "name": "stdout",
          "output_type": "stream",
          "text": [
            "valid (24/40) accuracy01: 0.6163215592194997 | accuracy01/std: 0.16862532830795948 | accuracy03: 1.0 | accuracy03/std: 0.0 | loss: 1.2879483127710152 | loss/mean: 1.2879483127710152 | loss/std: 0.16672426244415123 | lr: 3e-06 | momentum: 0.9\n",
            "* Epoch (24/40) lr: 3e-06 | momentum: 0.9\n"
          ]
        },
        {
          "name": "stderr",
          "output_type": "stream",
          "text": [
            "25/40 * Epoch (train): 100%|██████████| 219/219 [00:24<00:00,  8.99it/s, accuracy01=1.000, accuracy03=1.000, loss=0.906, lr=3.000e-06, momentum=0.900]\n"
          ]
        },
        {
          "name": "stdout",
          "output_type": "stream",
          "text": [
            "train (25/40) accuracy01: 0.9439679817038309 | accuracy01/std: 0.08114195758593934 | accuracy03: 0.9971412235563177 | accuracy03/std: 0.02218997080265943 | loss: 0.9615354497068742 | loss/mean: 0.9615354497068742 | loss/std: 0.08039145897144334 | lr: 3e-06 | momentum: 0.9\n"
          ]
        },
        {
          "name": "stderr",
          "output_type": "stream",
          "text": [
            "25/40 * Epoch (valid): 100%|██████████| 103/103 [00:03<00:00, 27.44it/s, accuracy01=0.600, accuracy03=1.000, loss=1.305, lr=3.000e-06, momentum=0.900]\n"
          ]
        },
        {
          "name": "stdout",
          "output_type": "stream",
          "text": [
            "valid (25/40) accuracy01: 0.606577344846783 | accuracy01/std: 0.17143398906328458 | accuracy03: 1.0 | accuracy03/std: 0.0 | loss: 1.296930420703632 | loss/mean: 1.296930420703632 | loss/std: 0.1685709817347507 | lr: 3e-06 | momentum: 0.9\n",
            "* Epoch (25/40) lr: 3e-06 | momentum: 0.9\n"
          ]
        },
        {
          "name": "stderr",
          "output_type": "stream",
          "text": [
            "26/40 * Epoch (train): 100%|██████████| 219/219 [00:24<00:00,  8.90it/s, accuracy01=0.800, accuracy03=1.000, loss=1.105, lr=3.000e-06, momentum=0.900]\n"
          ]
        },
        {
          "name": "stdout",
          "output_type": "stream",
          "text": [
            "train (26/40) accuracy01: 0.9428244711604373 | accuracy01/std: 0.0788121448362485 | accuracy03: 0.9959977129788449 | accuracy03/std: 0.02201237418344898 | loss: 0.9620511253742986 | loss/mean: 0.9620511253742986 | loss/std: 0.07809924762832463 | lr: 3e-06 | momentum: 0.9\n"
          ]
        },
        {
          "name": "stderr",
          "output_type": "stream",
          "text": [
            "26/40 * Epoch (valid): 100%|██████████| 103/103 [00:03<00:00, 27.45it/s, accuracy01=0.600, accuracy03=1.000, loss=1.305, lr=3.000e-06, momentum=0.900]\n"
          ]
        },
        {
          "name": "stdout",
          "output_type": "stream",
          "text": [
            "valid (26/40) accuracy01: 0.6102314252365518 | accuracy01/std: 0.1757355830633795 | accuracy03: 1.0 | accuracy03/std: 0.0 | loss: 1.2918150924445655 | loss/mean: 1.2918150924445655 | loss/std: 0.1711212255222951 | lr: 3e-06 | momentum: 0.9\n",
            "* Epoch (26/40) lr: 3e-06 | momentum: 0.9\n"
          ]
        },
        {
          "name": "stderr",
          "output_type": "stream",
          "text": [
            "27/40 * Epoch (train): 100%|██████████| 219/219 [00:24<00:00,  8.99it/s, accuracy01=1.000, accuracy03=1.000, loss=0.909, lr=3.000e-06, momentum=0.900]\n"
          ]
        },
        {
          "name": "stdout",
          "output_type": "stream",
          "text": [
            "train (27/40) accuracy01: 0.9428244711263579 | accuracy01/std: 0.08798678622135718 | accuracy03: 0.9959977129788448 | accuracy03/std: 0.02505125170840464 | loss: 0.9622493946872621 | loss/mean: 0.9622493946872621 | loss/std: 0.08776987862826899 | lr: 3e-06 | momentum: 0.9\n"
          ]
        },
        {
          "name": "stderr",
          "output_type": "stream",
          "text": [
            "27/40 * Epoch (valid): 100%|██████████| 103/103 [00:03<00:00, 27.39it/s, accuracy01=0.600, accuracy03=1.000, loss=1.305, lr=3.000e-06, momentum=0.900]\n"
          ]
        },
        {
          "name": "stdout",
          "output_type": "stream",
          "text": [
            "valid (27/40) accuracy01: 0.6114494520331416 | accuracy01/std: 0.1718882760709366 | accuracy03: 1.0 | accuracy03/std: 0.0 | loss: 1.2878453223336481 | loss/mean: 1.2878453223336481 | loss/std: 0.16839466721084373 | lr: 3e-06 | momentum: 0.9\n",
            "* Epoch (27/40) lr: 3e-06 | momentum: 0.9\n"
          ]
        },
        {
          "name": "stderr",
          "output_type": "stream",
          "text": [
            "28/40 * Epoch (train): 100%|██████████| 219/219 [00:24<00:00,  8.94it/s, accuracy01=1.000, accuracy03=1.000, loss=0.905, lr=3.000e-06, momentum=0.900]\n"
          ]
        },
        {
          "name": "stdout",
          "output_type": "stream",
          "text": [
            "train (28/40) accuracy01: 0.9456832475700402 | accuracy01/std: 0.08098686406168382 | accuracy03: 0.9959977129788449 | accuracy03/std: 0.02201237418344899 | loss: 0.9594929884882774 | loss/mean: 0.9594929884882774 | loss/std: 0.08022479707015767 | lr: 3e-06 | momentum: 0.9\n"
          ]
        },
        {
          "name": "stderr",
          "output_type": "stream",
          "text": [
            "28/40 * Epoch (valid): 100%|██████████| 103/103 [00:03<00:00, 27.65it/s, accuracy01=0.600, accuracy03=1.000, loss=1.305, lr=3.000e-06, momentum=0.900]\n"
          ]
        },
        {
          "name": "stdout",
          "output_type": "stream",
          "text": [
            "valid (28/40) accuracy01: 0.6175395860160893 | accuracy01/std: 0.17181750797837603 | accuracy03: 1.0 | accuracy03/std: 0.0 | loss: 1.285413326067117 | loss/mean: 1.285413326067117 | loss/std: 0.1686343453346009 | lr: 3e-06 | momentum: 0.9\n",
            "* Epoch (28/40) lr: 3e-06 | momentum: 0.9\n"
          ]
        },
        {
          "name": "stderr",
          "output_type": "stream",
          "text": [
            "29/40 * Epoch (train): 100%|██████████| 219/219 [00:24<00:00,  9.00it/s, accuracy01=1.000, accuracy03=1.000, loss=0.905, lr=3.000e-06, momentum=0.900]\n"
          ]
        },
        {
          "name": "stdout",
          "output_type": "stream",
          "text": [
            "train (29/40) accuracy01: 0.946826758147513 | accuracy01/std: 0.08086308069237183 | accuracy03: 0.9931389365351628 | accuracy03/std: 0.028478455850165296 | loss: 0.9587965124058272 | loss/mean: 0.9587965124058272 | loss/std: 0.08148735268233971 | lr: 3e-06 | momentum: 0.9\n"
          ]
        },
        {
          "name": "stderr",
          "output_type": "stream",
          "text": [
            "29/40 * Epoch (valid): 100%|██████████| 103/103 [00:03<00:00, 27.44it/s, accuracy01=0.600, accuracy03=1.000, loss=1.305, lr=3.000e-06, momentum=0.900]\n"
          ]
        },
        {
          "name": "stdout",
          "output_type": "stream",
          "text": [
            "valid (29/40) accuracy01: 0.6151035324229102 | accuracy01/std: 0.1716942695328923 | accuracy03: 1.0 | accuracy03/std: 0.0 | loss: 1.2874357892012047 | loss/mean: 1.2874357892012047 | loss/std: 0.16895600169352565 | lr: 3e-06 | momentum: 0.9\n",
            "* Epoch (29/40) lr: 3.0000000000000004e-07 | momentum: 0.9\n"
          ]
        },
        {
          "name": "stderr",
          "output_type": "stream",
          "text": [
            "30/40 * Epoch (train): 100%|██████████| 219/219 [00:24<00:00,  9.01it/s, accuracy01=1.000, accuracy03=1.000, loss=0.905, lr=3.000e-07, momentum=0.900]\n"
          ]
        },
        {
          "name": "stdout",
          "output_type": "stream",
          "text": [
            "train (30/40) accuracy01: 0.9456832475700404 | accuracy01/std: 0.0800990109525703 | accuracy03: 0.993710691823899 | accuracy03/std: 0.02983380366291026 | loss: 0.9598630982988423 | loss/mean: 0.9598630982988423 | loss/std: 0.08063332996916973 | lr: 3.0000000000000004e-07 | momentum: 0.9\n"
          ]
        },
        {
          "name": "stderr",
          "output_type": "stream",
          "text": [
            "30/40 * Epoch (valid): 100%|██████████| 103/103 [00:03<00:00, 27.48it/s, accuracy01=0.600, accuracy03=1.000, loss=1.305, lr=3.000e-07, momentum=0.900]\n"
          ]
        },
        {
          "name": "stdout",
          "output_type": "stream",
          "text": [
            "valid (30/40) accuracy01: 0.6138855056263207 | accuracy01/std: 0.17294685929288794 | accuracy03: 1.0 | accuracy03/std: 0.0 | loss: 1.289717874341122 | loss/mean: 1.289717874341122 | loss/std: 0.17004794327408876 | lr: 3.0000000000000004e-07 | momentum: 0.9\n",
            "* Epoch (30/40) lr: 3.0000000000000004e-07 | momentum: 0.9\n"
          ]
        },
        {
          "name": "stderr",
          "output_type": "stream",
          "text": [
            "31/40 * Epoch (train): 100%|██████████| 219/219 [00:24<00:00,  9.09it/s, accuracy01=1.000, accuracy03=1.000, loss=0.905, lr=3.000e-07, momentum=0.900]\n"
          ]
        },
        {
          "name": "stdout",
          "output_type": "stream",
          "text": [
            "train (31/40) accuracy01: 0.9462550028587766 | accuracy01/std: 0.07638114362263276 | accuracy03: 0.9925671812464265 | accuracy03/std: 0.02956950231126095 | loss: 0.9588253431963609 | loss/mean: 0.9588253431963609 | loss/std: 0.07599895542361282 | lr: 3.0000000000000004e-07 | momentum: 0.9\n"
          ]
        },
        {
          "name": "stderr",
          "output_type": "stream",
          "text": [
            "31/40 * Epoch (valid): 100%|██████████| 103/103 [00:03<00:00, 27.84it/s, accuracy01=0.600, accuracy03=1.000, loss=1.305, lr=3.000e-07, momentum=0.900]\n"
          ]
        },
        {
          "name": "stdout",
          "output_type": "stream",
          "text": [
            "valid (31/40) accuracy01: 0.6138855056263207 | accuracy01/std: 0.17294685929288794 | accuracy03: 1.0 | accuracy03/std: 0.0 | loss: 1.2899016995668122 | loss/mean: 1.2899016995668122 | loss/std: 0.17012075132906104 | lr: 3.0000000000000004e-07 | momentum: 0.9\n",
            "* Epoch (31/40) lr: 3.0000000000000004e-07 | momentum: 0.9\n"
          ]
        },
        {
          "name": "stderr",
          "output_type": "stream",
          "text": [
            "32/40 * Epoch (train): 100%|██████████| 219/219 [00:24<00:00,  9.05it/s, accuracy01=0.600, accuracy03=1.000, loss=1.305, lr=3.000e-07, momentum=0.900]\n"
          ]
        },
        {
          "name": "stdout",
          "output_type": "stream",
          "text": [
            "train (32/40) accuracy01: 0.945111492349462 | accuracy01/std: 0.08466755278554738 | accuracy03: 0.9925671812464266 | accuracy03/std: 0.02956950231126094 | loss: 0.959941496639132 | loss/mean: 0.959941496639132 | loss/std: 0.08441157576012229 | lr: 3.0000000000000004e-07 | momentum: 0.9\n"
          ]
        },
        {
          "name": "stderr",
          "output_type": "stream",
          "text": [
            "32/40 * Epoch (valid): 100%|██████████| 103/103 [00:03<00:00, 27.66it/s, accuracy01=0.600, accuracy03=1.000, loss=1.305, lr=3.000e-07, momentum=0.900]\n"
          ]
        },
        {
          "name": "stdout",
          "output_type": "stream",
          "text": [
            "valid (32/40) accuracy01: 0.6126674788297312 | accuracy01/std: 0.1715363085317747 | accuracy03: 1.0 | accuracy03/std: 0.0 | loss: 1.2892961706807355 | loss/mean: 1.2892961706807355 | loss/std: 0.17006573233907113 | lr: 3.0000000000000004e-07 | momentum: 0.9\n",
            "* Epoch (32/40) lr: 3.0000000000000004e-07 | momentum: 0.9\n"
          ]
        },
        {
          "name": "stderr",
          "output_type": "stream",
          "text": [
            "33/40 * Epoch (train): 100%|██████████| 219/219 [00:24<00:00,  9.04it/s, accuracy01=1.000, accuracy03=1.000, loss=0.905, lr=3.000e-07, momentum=0.900]\n"
          ]
        },
        {
          "name": "stdout",
          "output_type": "stream",
          "text": [
            "train (33/40) accuracy01: 0.9462550028587766 | accuracy01/std: 0.08092701697164936 | accuracy03: 0.990851915380217 | accuracy03/std: 0.03256423546466078 | loss: 0.9586904541365145 | loss/mean: 0.9586904541365145 | loss/std: 0.08038192005458142 | lr: 3.0000000000000004e-07 | momentum: 0.9\n"
          ]
        },
        {
          "name": "stderr",
          "output_type": "stream",
          "text": [
            "33/40 * Epoch (valid): 100%|██████████| 103/103 [00:03<00:00, 27.65it/s, accuracy01=0.600, accuracy03=1.000, loss=1.305, lr=3.000e-07, momentum=0.900]\n"
          ]
        },
        {
          "name": "stdout",
          "output_type": "stream",
          "text": [
            "valid (33/40) accuracy01: 0.6138855056263205 | accuracy01/std: 0.17382604577005845 | accuracy03: 1.0 | accuracy03/std: 0.0 | loss: 1.288277955787046 | loss/mean: 1.288277955787046 | loss/std: 0.16994056561015222 | lr: 3.0000000000000004e-07 | momentum: 0.9\n",
            "* Epoch (33/40) lr: 3.0000000000000004e-07 | momentum: 0.9\n"
          ]
        },
        {
          "name": "stderr",
          "output_type": "stream",
          "text": [
            "34/40 * Epoch (train): 100%|██████████| 219/219 [00:24<00:00,  9.01it/s, accuracy01=1.000, accuracy03=1.000, loss=0.906, lr=3.000e-07, momentum=0.900]\n"
          ]
        },
        {
          "name": "stdout",
          "output_type": "stream",
          "text": [
            "train (34/40) accuracy01: 0.9473985134362493 | accuracy01/std: 0.0807950455160457 | accuracy03: 0.9954259576901083 | accuracy03/std: 0.02347655314948979 | loss: 0.9578962244600348 | loss/mean: 0.9578962244600348 | loss/std: 0.08038477755438364 | lr: 3.0000000000000004e-07 | momentum: 0.9\n"
          ]
        },
        {
          "name": "stderr",
          "output_type": "stream",
          "text": [
            "34/40 * Epoch (valid): 100%|██████████| 103/103 [00:03<00:00, 27.76it/s, accuracy01=0.600, accuracy03=1.000, loss=1.305, lr=3.000e-07, momentum=0.900]\n"
          ]
        },
        {
          "name": "stdout",
          "output_type": "stream",
          "text": [
            "valid (34/40) accuracy01: 0.6151035324229102 | accuracy01/std: 0.17257983729049564 | accuracy03: 1.0 | accuracy03/std: 0.0 | loss: 1.28867581671832 | loss/mean: 1.28867581671832 | loss/std: 0.17017089868940963 | lr: 3.0000000000000004e-07 | momentum: 0.9\n",
            "* Epoch (34/40) lr: 3.0000000000000004e-07 | momentum: 0.9\n"
          ]
        },
        {
          "name": "stderr",
          "output_type": "stream",
          "text": [
            "35/40 * Epoch (train): 100%|██████████| 219/219 [00:24<00:00,  8.99it/s, accuracy01=0.800, accuracy03=1.000, loss=1.105, lr=3.000e-07, momentum=0.900]\n"
          ]
        },
        {
          "name": "stdout",
          "output_type": "stream",
          "text": [
            "train (35/40) accuracy01: 0.9445397370266461 | accuracy01/std: 0.0804746874904576 | accuracy03: 0.9902801600914808 | accuracy03/std: 0.03348351417807705 | loss: 0.9602012692893688 | loss/mean: 0.9602012692893688 | loss/std: 0.08010687538077975 | lr: 3.0000000000000004e-07 | momentum: 0.9\n"
          ]
        },
        {
          "name": "stderr",
          "output_type": "stream",
          "text": [
            "35/40 * Epoch (valid): 100%|██████████| 103/103 [00:03<00:00, 27.69it/s, accuracy01=0.600, accuracy03=1.000, loss=1.305, lr=3.000e-07, momentum=0.900]\n"
          ]
        },
        {
          "name": "stdout",
          "output_type": "stream",
          "text": [
            "valid (35/40) accuracy01: 0.6151035324229102 | accuracy01/std: 0.17257983729049564 | accuracy03: 1.0 | accuracy03/std: 0.0 | loss: 1.2881300638131488 | loss/mean: 1.2881300638131488 | loss/std: 0.16997625267002803 | lr: 3.0000000000000004e-07 | momentum: 0.9\n",
            "* Epoch (35/40) lr: 3.0000000000000004e-07 | momentum: 0.9\n"
          ]
        },
        {
          "name": "stderr",
          "output_type": "stream",
          "text": [
            "36/40 * Epoch (train): 100%|██████████| 219/219 [00:24<00:00,  9.05it/s, accuracy01=1.000, accuracy03=1.000, loss=0.905, lr=3.000e-07, momentum=0.900]\n"
          ]
        },
        {
          "name": "stdout",
          "output_type": "stream",
          "text": [
            "train (36/40) accuracy01: 0.9456832475700401 | accuracy01/std: 0.08186508868566214 | accuracy03: 0.9919954259576901 | accuracy03/std: 0.030611016056461757 | loss: 0.9587881484666916 | loss/mean: 0.9587881484666916 | loss/std: 0.08085300246934113 | lr: 3.0000000000000004e-07 | momentum: 0.9\n"
          ]
        },
        {
          "name": "stderr",
          "output_type": "stream",
          "text": [
            "36/40 * Epoch (valid): 100%|██████████| 103/103 [00:03<00:00, 27.65it/s, accuracy01=0.600, accuracy03=1.000, loss=1.305, lr=3.000e-07, momentum=0.900]\n"
          ]
        },
        {
          "name": "stdout",
          "output_type": "stream",
          "text": [
            "valid (36/40) accuracy01: 0.6151035324229102 | accuracy01/std: 0.17346088402863175 | accuracy03: 1.0 | accuracy03/std: 0.0 | loss: 1.2884333853890053 | loss/mean: 1.2884333853890053 | loss/std: 0.17021818542099373 | lr: 3.0000000000000004e-07 | momentum: 0.9\n",
            "* Epoch (36/40) lr: 3.0000000000000004e-07 | momentum: 0.9\n"
          ]
        },
        {
          "name": "stderr",
          "output_type": "stream",
          "text": [
            "37/40 * Epoch (train): 100%|██████████| 219/219 [00:24<00:00,  9.09it/s, accuracy01=1.000, accuracy03=1.000, loss=0.905, lr=3.000e-07, momentum=0.900]\n"
          ]
        },
        {
          "name": "stdout",
          "output_type": "stream",
          "text": [
            "train (37/40) accuracy01: 0.9468267581475129 | accuracy01/std: 0.07246828592129088 | accuracy03: 0.9942824471126352 | accuracy03/std: 0.026122669507545233 | loss: 0.9580572181050605 | loss/mean: 0.9580572181050605 | loss/std: 0.0719897867439127 | lr: 3.0000000000000004e-07 | momentum: 0.9\n"
          ]
        },
        {
          "name": "stderr",
          "output_type": "stream",
          "text": [
            "37/40 * Epoch (valid): 100%|██████████| 103/103 [00:03<00:00, 27.97it/s, accuracy01=0.600, accuracy03=1.000, loss=1.305, lr=3.000e-07, momentum=0.900]\n"
          ]
        },
        {
          "name": "stdout",
          "output_type": "stream",
          "text": [
            "valid (37/40) accuracy01: 0.6163215592194997 | accuracy01/std: 0.17657407450130244 | accuracy03: 1.0 | accuracy03/std: 0.0 | loss: 1.2878618302792495 | loss/mean: 1.2878618302792495 | loss/std: 0.1701425667945935 | lr: 3.0000000000000004e-07 | momentum: 0.9\n",
            "* Epoch (37/40) lr: 3.0000000000000004e-07 | momentum: 0.9\n"
          ]
        },
        {
          "name": "stderr",
          "output_type": "stream",
          "text": [
            "38/40 * Epoch (train): 100%|██████████| 219/219 [00:24<00:00,  9.01it/s, accuracy01=1.000, accuracy03=1.000, loss=0.905, lr=3.000e-07, momentum=0.900]\n"
          ]
        },
        {
          "name": "stdout",
          "output_type": "stream",
          "text": [
            "train (38/40) accuracy01: 0.9473985134362494 | accuracy01/std: 0.07809467072113739 | accuracy03: 0.9937106918238994 | accuracy03/std: 0.027331945522252977 | loss: 0.957647959152721 | loss/mean: 0.957647959152721 | loss/std: 0.078019539908301 | lr: 3.0000000000000004e-07 | momentum: 0.9\n"
          ]
        },
        {
          "name": "stderr",
          "output_type": "stream",
          "text": [
            "38/40 * Epoch (valid): 100%|██████████| 103/103 [00:03<00:00, 27.42it/s, accuracy01=0.600, accuracy03=1.000, loss=1.305, lr=3.000e-07, momentum=0.900]\n"
          ]
        },
        {
          "name": "stdout",
          "output_type": "stream",
          "text": [
            "valid (38/40) accuracy01: 0.6163215592194997 | accuracy01/std: 0.17657407450130244 | accuracy03: 1.0 | accuracy03/std: 0.0 | loss: 1.2879692491747434 | loss/mean: 1.2879692491747434 | loss/std: 0.17015969069402412 | lr: 3.0000000000000004e-07 | momentum: 0.9\n",
            "* Epoch (38/40) lr: 3.0000000000000004e-07 | momentum: 0.9\n"
          ]
        },
        {
          "name": "stderr",
          "output_type": "stream",
          "text": [
            "39/40 * Epoch (train): 100%|██████████| 219/219 [00:24<00:00,  9.06it/s, accuracy01=1.000, accuracy03=1.000, loss=0.905, lr=3.000e-07, momentum=0.900]\n"
          ]
        },
        {
          "name": "stdout",
          "output_type": "stream",
          "text": [
            "train (39/40) accuracy01: 0.9445397369925673 | accuracy01/std: 0.08109432626898157 | accuracy03: 0.9902801600914806 | accuracy03/std: 0.035555116603368936 | loss: 0.9600563630367976 | loss/mean: 0.9600563630367976 | loss/std: 0.08024703282751361 | lr: 3.0000000000000004e-07 | momentum: 0.9\n"
          ]
        },
        {
          "name": "stderr",
          "output_type": "stream",
          "text": [
            "39/40 * Epoch (valid): 100%|██████████| 103/103 [00:03<00:00, 27.73it/s, accuracy01=0.600, accuracy03=1.000, loss=1.305, lr=3.000e-07, momentum=0.900]\n"
          ]
        },
        {
          "name": "stdout",
          "output_type": "stream",
          "text": [
            "valid (39/40) accuracy01: 0.6151035324229102 | accuracy01/std: 0.17346088402863175 | accuracy03: 1.0 | accuracy03/std: 0.0 | loss: 1.2893568781203388 | loss/mean: 1.2893568781203388 | loss/std: 0.17080207776958553 | lr: 3.0000000000000004e-07 | momentum: 0.9\n",
            "* Epoch (39/40) lr: 3.0000000000000004e-07 | momentum: 0.9\n"
          ]
        },
        {
          "name": "stderr",
          "output_type": "stream",
          "text": [
            "40/40 * Epoch (train): 100%|██████████| 219/219 [00:24<00:00,  9.00it/s, accuracy01=0.800, accuracy03=0.800, loss=1.105, lr=3.000e-07, momentum=0.900]\n"
          ]
        },
        {
          "name": "stdout",
          "output_type": "stream",
          "text": [
            "train (40/40) accuracy01: 0.9468267581815922 | accuracy01/std: 0.08950949635203113 | accuracy03: 0.987421383681878 | accuracy03/std: 0.040010513620508406 | loss: 0.9583445794927249 | loss/mean: 0.9583445794927249 | loss/std: 0.08934809280635304 | lr: 3.0000000000000004e-07 | momentum: 0.9\n"
          ]
        },
        {
          "name": "stderr",
          "output_type": "stream",
          "text": [
            "40/40 * Epoch (valid): 100%|██████████| 103/103 [00:03<00:00, 27.41it/s, accuracy01=0.600, accuracy03=1.000, loss=1.305, lr=3.000e-07, momentum=0.900]\n"
          ]
        },
        {
          "name": "stdout",
          "output_type": "stream",
          "text": [
            "valid (40/40) accuracy01: 0.6151035324229102 | accuracy01/std: 0.17346088402863175 | accuracy03: 1.0 | accuracy03/std: 0.0 | loss: 1.2891729187297474 | loss/mean: 1.2891729187297474 | loss/std: 0.17077602037347855 | lr: 3.0000000000000004e-07 | momentum: 0.9\n",
            "* Epoch (40/40) lr: 3.0000000000000004e-08 | momentum: 0.9\n",
            "Top models:\n",
            "logdir/model.0007.pth\t1.2627\n"
          ]
        }
      ],
      "source": [
        "# finally, training the model with Catalyst\n",
        "runner.train(\n",
        "    model=model,\n",
        "    criterion=criterion,\n",
        "    optimizer=optimizer,\n",
        "    scheduler=scheduler,\n",
        "    loaders=train_val_loaders,\n",
        "    callbacks=[\n",
        "        AccuracyCallback(num_classes=int(params[\"model\"][\"num_classes\"]), input_key=\"logits\", target_key=\"targets\"),\n",
        "        OptimizerCallback(accumulation_steps=int(params[\"training\"][\"accum_steps\"]), metric_key=\"loss\"),\n",
        "        SchedulerCallback(loader_key=\"valid\", metric_key=\"loss\"),\n",
        "        CheckpointCallback(logdir=params[\"training\"][\"log_dir\"], loader_key=\"valid\", metric_key=\"loss\", minimize=True),\n",
        "    ],\n",
        "    logdir=params[\"training\"][\"log_dir\"],\n",
        "    num_epochs=int(params[\"training\"][\"num_epochs\"]),\n",
        "    verbose=True,\n",
        ")"
      ]
    },
    {
      "cell_type": "code",
      "execution_count": 18,
      "metadata": {},
      "outputs": [
        {
          "name": "stdout",
          "output_type": "stream",
          "text": [
            "valid (1/1) accuracy01: 0.6151035324229102 | accuracy01/std: 0.17346088402863175\n",
            "* Epoch (1/1) \n",
            "defaultdict(None, {'accuracy01': 0.6151035324229102, 'accuracy01/std': 0.17346088402863175})\n"
          ]
        }
      ],
      "source": [
        "\n",
        "# and running inference\n",
        "torch.cuda.empty_cache()\n",
        "\n",
        "# getting validation metrics\n",
        "metrics = runner.evaluate_loader(\n",
        "    loader=train_val_loaders[\"valid\"],\n",
        "    callbacks=[AccuracyCallback(input_key=\"logits\", target_key=\"targets\")],\n",
        ")\n",
        "print(metrics)\n",
        "\n",
        "# lastly, saving predicted scores for the test set\n",
        "test_pred_scores = np.concatenate(\n",
        "    [pred[\"logits\"].detach().cpu().numpy() for pred in runner.predict_loader(loader=test_loaders[\"test\"])]\n",
        ")\n",
        "#np.savetxt(X=test_pred_scores, fname=params[\"data\"][\"path_to_test_pred_scores\"])\n"
      ]
    },
    {
      "cell_type": "code",
      "execution_count": 19,
      "metadata": {},
      "outputs": [
        {
          "data": {
            "text/html": [
              "<div>\n",
              "<style scoped>\n",
              "    .dataframe tbody tr th:only-of-type {\n",
              "        vertical-align: middle;\n",
              "    }\n",
              "\n",
              "    .dataframe tbody tr th {\n",
              "        vertical-align: top;\n",
              "    }\n",
              "\n",
              "    .dataframe thead th {\n",
              "        text-align: right;\n",
              "    }\n",
              "</style>\n",
              "<table border=\"1\" class=\"dataframe\">\n",
              "  <thead>\n",
              "    <tr style=\"text-align: right;\">\n",
              "      <th></th>\n",
              "      <th>step</th>\n",
              "      <th>accuracy01</th>\n",
              "      <th>accuracy01/std</th>\n",
              "      <th>accuracy03</th>\n",
              "      <th>accuracy03/std</th>\n",
              "      <th>loss</th>\n",
              "      <th>loss/mean</th>\n",
              "      <th>loss/std</th>\n",
              "      <th>lr</th>\n",
              "      <th>momentum</th>\n",
              "    </tr>\n",
              "  </thead>\n",
              "  <tbody>\n",
              "    <tr>\n",
              "      <th>0</th>\n",
              "      <td>1</td>\n",
              "      <td>0.503045067136674</td>\n",
              "      <td>0.14884673470957926</td>\n",
              "      <td>1.0</td>\n",
              "      <td>0.0</td>\n",
              "      <td>0.7608683363383638</td>\n",
              "      <td>0.7608683363383638</td>\n",
              "      <td>0.1149306974111992</td>\n",
              "      <td>3e-05</td>\n",
              "      <td>0.9</td>\n",
              "    </tr>\n",
              "    <tr>\n",
              "      <th>1</th>\n",
              "      <td>2</td>\n",
              "      <td>0.5468940318138966</td>\n",
              "      <td>0.14396213845676464</td>\n",
              "      <td>1.0</td>\n",
              "      <td>0.0</td>\n",
              "      <td>0.8233436385258105</td>\n",
              "      <td>0.8233436385258105</td>\n",
              "      <td>0.16749385273498713</td>\n",
              "      <td>3e-05</td>\n",
              "      <td>0.9</td>\n",
              "    </tr>\n",
              "    <tr>\n",
              "      <th>2</th>\n",
              "      <td>3</td>\n",
              "      <td>0.5408038978309494</td>\n",
              "      <td>0.1506917765314225</td>\n",
              "      <td>1.0</td>\n",
              "      <td>0.0</td>\n",
              "      <td>0.8551923017699302</td>\n",
              "      <td>0.8551923017699302</td>\n",
              "      <td>0.19351213142906618</td>\n",
              "      <td>3e-05</td>\n",
              "      <td>0.9</td>\n",
              "    </tr>\n",
              "    <tr>\n",
              "      <th>3</th>\n",
              "      <td>4</td>\n",
              "      <td>0.5456760049447075</td>\n",
              "      <td>0.13962995453844074</td>\n",
              "      <td>1.0</td>\n",
              "      <td>0.0</td>\n",
              "      <td>1.250200981417179</td>\n",
              "      <td>1.250200981417179</td>\n",
              "      <td>0.4222563804308167</td>\n",
              "      <td>3e-05</td>\n",
              "      <td>0.9</td>\n",
              "    </tr>\n",
              "    <tr>\n",
              "      <th>4</th>\n",
              "      <td>5</td>\n",
              "      <td>0.5676004873559187</td>\n",
              "      <td>0.13175954155077516</td>\n",
              "      <td>1.0</td>\n",
              "      <td>0.0</td>\n",
              "      <td>1.322642598024385</td>\n",
              "      <td>1.322642598024385</td>\n",
              "      <td>0.4284973462952058</td>\n",
              "      <td>3e-05</td>\n",
              "      <td>0.9</td>\n",
              "    </tr>\n",
              "    <tr>\n",
              "      <th>...</th>\n",
              "      <td>...</td>\n",
              "      <td>...</td>\n",
              "      <td>...</td>\n",
              "      <td>...</td>\n",
              "      <td>...</td>\n",
              "      <td>...</td>\n",
              "      <td>...</td>\n",
              "      <td>...</td>\n",
              "      <td>...</td>\n",
              "      <td>...</td>\n",
              "    </tr>\n",
              "    <tr>\n",
              "      <th>166</th>\n",
              "      <td>36</td>\n",
              "      <td>0.6151035324229102</td>\n",
              "      <td>0.17346088402863175</td>\n",
              "      <td>1.0</td>\n",
              "      <td>0.0</td>\n",
              "      <td>1.2884333853890053</td>\n",
              "      <td>1.2884333853890053</td>\n",
              "      <td>0.17021818542099373</td>\n",
              "      <td>3.0000000000000004e-07</td>\n",
              "      <td>0.9</td>\n",
              "    </tr>\n",
              "    <tr>\n",
              "      <th>167</th>\n",
              "      <td>37</td>\n",
              "      <td>0.6163215592194997</td>\n",
              "      <td>0.17657407450130244</td>\n",
              "      <td>1.0</td>\n",
              "      <td>0.0</td>\n",
              "      <td>1.2878618302792495</td>\n",
              "      <td>1.2878618302792495</td>\n",
              "      <td>0.1701425667945935</td>\n",
              "      <td>3.0000000000000004e-07</td>\n",
              "      <td>0.9</td>\n",
              "    </tr>\n",
              "    <tr>\n",
              "      <th>168</th>\n",
              "      <td>38</td>\n",
              "      <td>0.6163215592194997</td>\n",
              "      <td>0.17657407450130244</td>\n",
              "      <td>1.0</td>\n",
              "      <td>0.0</td>\n",
              "      <td>1.2879692491747434</td>\n",
              "      <td>1.2879692491747434</td>\n",
              "      <td>0.17015969069402412</td>\n",
              "      <td>3.0000000000000004e-07</td>\n",
              "      <td>0.9</td>\n",
              "    </tr>\n",
              "    <tr>\n",
              "      <th>169</th>\n",
              "      <td>39</td>\n",
              "      <td>0.6151035324229102</td>\n",
              "      <td>0.17346088402863175</td>\n",
              "      <td>1.0</td>\n",
              "      <td>0.0</td>\n",
              "      <td>1.2893568781203388</td>\n",
              "      <td>1.2893568781203388</td>\n",
              "      <td>0.17080207776958553</td>\n",
              "      <td>3.0000000000000004e-07</td>\n",
              "      <td>0.9</td>\n",
              "    </tr>\n",
              "    <tr>\n",
              "      <th>170</th>\n",
              "      <td>40</td>\n",
              "      <td>0.6151035324229102</td>\n",
              "      <td>0.17346088402863175</td>\n",
              "      <td>1.0</td>\n",
              "      <td>0.0</td>\n",
              "      <td>1.2891729187297474</td>\n",
              "      <td>1.2891729187297474</td>\n",
              "      <td>0.17077602037347855</td>\n",
              "      <td>3.0000000000000004e-07</td>\n",
              "      <td>0.9</td>\n",
              "    </tr>\n",
              "  </tbody>\n",
              "</table>\n",
              "<p>171 rows × 10 columns</p>\n",
              "</div>"
            ],
            "text/plain": [
              "    step          accuracy01       accuracy01/std accuracy03 accuracy03/std  \\\n",
              "0      1   0.503045067136674  0.14884673470957926        1.0            0.0   \n",
              "1      2  0.5468940318138966  0.14396213845676464        1.0            0.0   \n",
              "2      3  0.5408038978309494   0.1506917765314225        1.0            0.0   \n",
              "3      4  0.5456760049447075  0.13962995453844074        1.0            0.0   \n",
              "4      5  0.5676004873559187  0.13175954155077516        1.0            0.0   \n",
              "..   ...                 ...                  ...        ...            ...   \n",
              "166   36  0.6151035324229102  0.17346088402863175        1.0            0.0   \n",
              "167   37  0.6163215592194997  0.17657407450130244        1.0            0.0   \n",
              "168   38  0.6163215592194997  0.17657407450130244        1.0            0.0   \n",
              "169   39  0.6151035324229102  0.17346088402863175        1.0            0.0   \n",
              "170   40  0.6151035324229102  0.17346088402863175        1.0            0.0   \n",
              "\n",
              "                   loss           loss/mean             loss/std  \\\n",
              "0    0.7608683363383638  0.7608683363383638   0.1149306974111992   \n",
              "1    0.8233436385258105  0.8233436385258105  0.16749385273498713   \n",
              "2    0.8551923017699302  0.8551923017699302  0.19351213142906618   \n",
              "3     1.250200981417179   1.250200981417179   0.4222563804308167   \n",
              "4     1.322642598024385   1.322642598024385   0.4284973462952058   \n",
              "..                  ...                 ...                  ...   \n",
              "166  1.2884333853890053  1.2884333853890053  0.17021818542099373   \n",
              "167  1.2878618302792495  1.2878618302792495   0.1701425667945935   \n",
              "168  1.2879692491747434  1.2879692491747434  0.17015969069402412   \n",
              "169  1.2893568781203388  1.2893568781203388  0.17080207776958553   \n",
              "170  1.2891729187297474  1.2891729187297474  0.17077602037347855   \n",
              "\n",
              "                         lr momentum  \n",
              "0                     3e-05      0.9  \n",
              "1                     3e-05      0.9  \n",
              "2                     3e-05      0.9  \n",
              "3                     3e-05      0.9  \n",
              "4                     3e-05      0.9  \n",
              "..                      ...      ...  \n",
              "166  3.0000000000000004e-07      0.9  \n",
              "167  3.0000000000000004e-07      0.9  \n",
              "168  3.0000000000000004e-07      0.9  \n",
              "169  3.0000000000000004e-07      0.9  \n",
              "170  3.0000000000000004e-07      0.9  \n",
              "\n",
              "[171 rows x 10 columns]"
            ]
          },
          "execution_count": 19,
          "metadata": {},
          "output_type": "execute_result"
        }
      ],
      "source": [
        "p = pd.read_csv('logdir/csv_logger/valid.csv')\n",
        "p"
      ]
    },
    {
      "cell_type": "code",
      "execution_count": 20,
      "metadata": {},
      "outputs": [
        {
          "data": {
            "text/plain": [
              "array(['0.500609013543495', '0.5225334958095063', '0.5408038978309493',\n",
              "       '0.5481120586104864', '0.5578562729106027', '0.5676004873559188',\n",
              "       '0.5663824605593292', '0.551766138927655', '0.5615103533729712',\n",
              "       '0.5590742997797921'], dtype=object)"
            ]
          },
          "execution_count": 20,
          "metadata": {},
          "output_type": "execute_result"
        }
      ],
      "source": [
        "p.accuracy01[43:53].to_numpy()"
      ]
    },
    {
      "cell_type": "code",
      "execution_count": 21,
      "metadata": {},
      "outputs": [
        {
          "data": {
            "text/plain": [
              "[<matplotlib.lines.Line2D at 0x7f00546fe760>]"
            ]
          },
          "execution_count": 21,
          "metadata": {},
          "output_type": "execute_result"
        },
        {
          "data": {
            "image/png": "[encoded data removed]",
            "text/plain": [
              "<Figure size 640x480 with 1 Axes>"
            ]
          },
          "metadata": {},
          "output_type": "display_data"
        }
      ],
      "source": [
        "import matplotlib.pyplot as plt\n",
        "plt.plot(p.accuracy01[98:107].to_numpy().astype(np.float32))\n",
        "plt.plot(p.accuracy01[120:129].to_numpy().astype(np.float32))"
      ]
    },
    {
      "cell_type": "code",
      "execution_count": null,
      "metadata": {},
      "outputs": [],
      "source": []
    }
  ],
  "metadata": {
    "colab": {
      "collapsed_sections": [
        "LKTCSd3abuwb"
      ],
      "provenance": []
    },
    "kernelspec": {
      "display_name": "Python 3.8.13 ('catalyst1')",
      "language": "python",
      "name": "python3"
    },
    "language_info": {
      "codemirror_mode": {
        "name": "ipython",
        "version": 3
      },
      "file_extension": ".py",
      "mimetype": "text/x-python",
      "name": "python",
      "nbconvert_exporter": "python",
      "pygments_lexer": "ipython3",
      "version": "3.8.13"
    },
    "vscode": {
      "interpreter": {
        "hash": "e6374150d64b7b463fc3f558c333ee2100da45f3ddc290a75b2f3063ea5e3af3"
      }
    },
    "widgets": {
      "application/vnd.jupyter.widget-state+json": {
        "03f2660fa9694a79b44b5936766d70bc": {
          "model_module": "@jupyter-widgets/controls",
          "model_module_version": "1.5.0",
          "model_name": "HBoxModel",
          "state": {
            "_dom_classes": [],
            "_model_module": "@jupyter-widgets/controls",
            "_model_module_version": "1.5.0",
            "_model_name": "HBoxModel",
            "_view_count": null,
            "_view_module": "@jupyter-widgets/controls",
            "_view_module_version": "1.5.0",
            "_view_name": "HBoxView",
            "box_style": "",
            "children": [
              "IPY_MODEL_e9cfc6495ff2496186d730c0368545e2",
              "IPY_MODEL_23c7fada5b044d838adfcf692ada6427",
              "IPY_MODEL_ec2d06a9217b4c0fb3da12091878812d"
            ],
            "layout": "IPY_MODEL_0c517cb74ae84f16a60db4f895ab1eb2"
          }
        },
        "0c517cb74ae84f16a60db4f895ab1eb2": {
          "model_module": "@jupyter-widgets/base",
          "model_module_version": "1.2.0",
          "model_name": "LayoutModel",
          "state": {
            "_model_module": "@jupyter-widgets/base",
            "_model_module_version": "1.2.0",
            "_model_name": "LayoutModel",
            "_view_count": null,
            "_view_module": "@jupyter-widgets/base",
            "_view_module_version": "1.2.0",
            "_view_name": "LayoutView",
            "align_content": null,
            "align_items": null,
            "align_self": null,
            "border": null,
            "bottom": null,
            "display": null,
            "flex": null,
            "flex_flow": null,
            "grid_area": null,
            "grid_auto_columns": null,
            "grid_auto_flow": null,
            "grid_auto_rows": null,
            "grid_column": null,
            "grid_gap": null,
            "grid_row": null,
            "grid_template_areas": null,
            "grid_template_columns": null,
            "grid_template_rows": null,
            "height": null,
            "justify_content": null,
            "justify_items": null,
            "left": null,
            "margin": null,
            "max_height": null,
            "max_width": null,
            "min_height": null,
            "min_width": null,
            "object_fit": null,
            "object_position": null,
            "order": null,
            "overflow": null,
            "overflow_x": null,
            "overflow_y": null,
            "padding": null,
            "right": null,
            "top": null,
            "visibility": null,
            "width": null
          }
        },
        "16c92089f10441f8980e53697cc1771b": {
          "model_module": "@jupyter-widgets/controls",
          "model_module_version": "1.5.0",
          "model_name": "ProgressStyleModel",
          "state": {
            "_model_module": "@jupyter-widgets/controls",
            "_model_module_version": "1.5.0",
            "_model_name": "ProgressStyleModel",
            "_view_count": null,
            "_view_module": "@jupyter-widgets/base",
            "_view_module_version": "1.2.0",
            "_view_name": "StyleView",
            "bar_color": null,
            "description_width": ""
          }
        },
        "17cca474f9c14fa9941d760ec29a957c": {
          "model_module": "@jupyter-widgets/controls",
          "model_module_version": "1.5.0",
          "model_name": "DescriptionStyleModel",
          "state": {
            "_model_module": "@jupyter-widgets/controls",
            "_model_module_version": "1.5.0",
            "_model_name": "DescriptionStyleModel",
            "_view_count": null,
            "_view_module": "@jupyter-widgets/base",
            "_view_module_version": "1.2.0",
            "_view_name": "StyleView",
            "description_width": ""
          }
        },
        "18caaea132a446e5895d9f1b01bc1b0d": {
          "model_module": "@jupyter-widgets/controls",
          "model_module_version": "1.5.0",
          "model_name": "DescriptionStyleModel",
          "state": {
            "_model_module": "@jupyter-widgets/controls",
            "_model_module_version": "1.5.0",
            "_model_name": "DescriptionStyleModel",
            "_view_count": null,
            "_view_module": "@jupyter-widgets/base",
            "_view_module_version": "1.2.0",
            "_view_name": "StyleView",
            "description_width": ""
          }
        },
        "19be090732a14b2899cab691941932b1": {
          "model_module": "@jupyter-widgets/controls",
          "model_module_version": "1.5.0",
          "model_name": "HTMLModel",
          "state": {
            "_dom_classes": [],
            "_model_module": "@jupyter-widgets/controls",
            "_model_module_version": "1.5.0",
            "_model_name": "HTMLModel",
            "_view_count": null,
            "_view_module": "@jupyter-widgets/controls",
            "_view_module_version": "1.5.0",
            "_view_name": "HTMLView",
            "description": "",
            "description_tooltip": null,
            "layout": "IPY_MODEL_2ae27e0fec7b45269b8e4a3059d804bf",
            "placeholder": "​",
            "style": "IPY_MODEL_18caaea132a446e5895d9f1b01bc1b0d",
            "value": "Downloading: 100%"
          }
        },
        "1b22a8560beb48969ffa5223b91602f0": {
          "model_module": "@jupyter-widgets/controls",
          "model_module_version": "1.5.0",
          "model_name": "HBoxModel",
          "state": {
            "_dom_classes": [],
            "_model_module": "@jupyter-widgets/controls",
            "_model_module_version": "1.5.0",
            "_model_name": "HBoxModel",
            "_view_count": null,
            "_view_module": "@jupyter-widgets/controls",
            "_view_module_version": "1.5.0",
            "_view_name": "HBoxView",
            "box_style": "",
            "children": [
              "IPY_MODEL_da464fb671164ee182ebc21910729c61",
              "IPY_MODEL_1ecd016148544b2d9cd957da8e9c42c4",
              "IPY_MODEL_7e15566c3859466ab26f469bbd297c7c"
            ],
            "layout": "IPY_MODEL_abdf7bed26784271a892b0d40ed0a76e"
          }
        },
        "1ecd016148544b2d9cd957da8e9c42c4": {
          "model_module": "@jupyter-widgets/controls",
          "model_module_version": "1.5.0",
          "model_name": "FloatProgressModel",
          "state": {
            "_dom_classes": [],
            "_model_module": "@jupyter-widgets/controls",
            "_model_module_version": "1.5.0",
            "_model_name": "FloatProgressModel",
            "_view_count": null,
            "_view_module": "@jupyter-widgets/controls",
            "_view_module_version": "1.5.0",
            "_view_name": "ProgressView",
            "bar_style": "success",
            "description": "",
            "description_tooltip": null,
            "layout": "IPY_MODEL_5b13a0e6265e4679b235a3e72d8f665e",
            "max": 642,
            "min": 0,
            "orientation": "horizontal",
            "style": "IPY_MODEL_98e43c36676f4960aef574b44ba75152",
            "value": 642
          }
        },
        "214d31a4422f4099941214f9c69da114": {
          "model_module": "@jupyter-widgets/controls",
          "model_module_version": "1.5.0",
          "model_name": "FloatProgressModel",
          "state": {
            "_dom_classes": [],
            "_model_module": "@jupyter-widgets/controls",
            "_model_module_version": "1.5.0",
            "_model_name": "FloatProgressModel",
            "_view_count": null,
            "_view_module": "@jupyter-widgets/controls",
            "_view_module_version": "1.5.0",
            "_view_name": "ProgressView",
            "bar_style": "success",
            "description": "",
            "description_tooltip": null,
            "layout": "IPY_MODEL_6f572c4167b3498da0036aa3664901ff",
            "max": 112,
            "min": 0,
            "orientation": "horizontal",
            "style": "IPY_MODEL_ed621055f49049b0ae98cf5a49c3c676",
            "value": 112
          }
        },
        "22f9c41f55bf487190814791bad40ab8": {
          "model_module": "@jupyter-widgets/controls",
          "model_module_version": "1.5.0",
          "model_name": "FloatProgressModel",
          "state": {
            "_dom_classes": [],
            "_model_module": "@jupyter-widgets/controls",
            "_model_module_version": "1.5.0",
            "_model_name": "FloatProgressModel",
            "_view_count": null,
            "_view_module": "@jupyter-widgets/controls",
            "_view_module_version": "1.5.0",
            "_view_name": "ProgressView",
            "bar_style": "success",
            "description": "",
            "description_tooltip": null,
            "layout": "IPY_MODEL_615aa0a3eea345929581f42c79b8067d",
            "max": 714355318,
            "min": 0,
            "orientation": "horizontal",
            "style": "IPY_MODEL_285d49c58d664c87a860edd26527db98",
            "value": 714355318
          }
        },
        "23c7fada5b044d838adfcf692ada6427": {
          "model_module": "@jupyter-widgets/controls",
          "model_module_version": "1.5.0",
          "model_name": "FloatProgressModel",
          "state": {
            "_dom_classes": [],
            "_model_module": "@jupyter-widgets/controls",
            "_model_module_version": "1.5.0",
            "_model_name": "FloatProgressModel",
            "_view_count": null,
            "_view_module": "@jupyter-widgets/controls",
            "_view_module_version": "1.5.0",
            "_view_name": "ProgressView",
            "bar_style": "success",
            "description": "",
            "description_tooltip": null,
            "layout": "IPY_MODEL_3d1c067f31ac47bfb113a65764779bc8",
            "max": 1600,
            "min": 0,
            "orientation": "horizontal",
            "style": "IPY_MODEL_16c92089f10441f8980e53697cc1771b",
            "value": 1600
          }
        },
        "285d49c58d664c87a860edd26527db98": {
          "model_module": "@jupyter-widgets/controls",
          "model_module_version": "1.5.0",
          "model_name": "ProgressStyleModel",
          "state": {
            "_model_module": "@jupyter-widgets/controls",
            "_model_module_version": "1.5.0",
            "_model_name": "ProgressStyleModel",
            "_view_count": null,
            "_view_module": "@jupyter-widgets/base",
            "_view_module_version": "1.2.0",
            "_view_name": "StyleView",
            "bar_color": null,
            "description_width": ""
          }
        },
        "2ae27e0fec7b45269b8e4a3059d804bf": {
          "model_module": "@jupyter-widgets/base",
          "model_module_version": "1.2.0",
          "model_name": "LayoutModel",
          "state": {
            "_model_module": "@jupyter-widgets/base",
            "_model_module_version": "1.2.0",
            "_model_name": "LayoutModel",
            "_view_count": null,
            "_view_module": "@jupyter-widgets/base",
            "_view_module_version": "1.2.0",
            "_view_name": "LayoutView",
            "align_content": null,
            "align_items": null,
            "align_self": null,
            "border": null,
            "bottom": null,
            "display": null,
            "flex": null,
            "flex_flow": null,
            "grid_area": null,
            "grid_auto_columns": null,
            "grid_auto_flow": null,
            "grid_auto_rows": null,
            "grid_column": null,
            "grid_gap": null,
            "grid_row": null,
            "grid_template_areas": null,
            "grid_template_columns": null,
            "grid_template_rows": null,
            "height": null,
            "justify_content": null,
            "justify_items": null,
            "left": null,
            "margin": null,
            "max_height": null,
            "max_width": null,
            "min_height": null,
            "min_width": null,
            "object_fit": null,
            "object_position": null,
            "order": null,
            "overflow": null,
            "overflow_x": null,
            "overflow_y": null,
            "padding": null,
            "right": null,
            "top": null,
            "visibility": null,
            "width": null
          }
        },
        "2fcf04ae74124502bd0943c96018abf4": {
          "model_module": "@jupyter-widgets/controls",
          "model_module_version": "1.5.0",
          "model_name": "HTMLModel",
          "state": {
            "_dom_classes": [],
            "_model_module": "@jupyter-widgets/controls",
            "_model_module_version": "1.5.0",
            "_model_name": "HTMLModel",
            "_view_count": null,
            "_view_module": "@jupyter-widgets/controls",
            "_view_module_version": "1.5.0",
            "_view_name": "HTMLView",
            "description": "",
            "description_tooltip": null,
            "layout": "IPY_MODEL_d48ed176af364fc6a262b3570d1aaa06",
            "placeholder": "​",
            "style": "IPY_MODEL_b61744f28e3e4a7bbad9402e408107e9",
            "value": " 1.57M/1.57M [00:00&lt;00:00, 2.91MB/s]"
          }
        },
        "30b0474a0aef4745ae44d2c1e7a49207": {
          "model_module": "@jupyter-widgets/controls",
          "model_module_version": "1.5.0",
          "model_name": "FloatProgressModel",
          "state": {
            "_dom_classes": [],
            "_model_module": "@jupyter-widgets/controls",
            "_model_module_version": "1.5.0",
            "_model_name": "FloatProgressModel",
            "_view_count": null,
            "_view_module": "@jupyter-widgets/controls",
            "_view_module_version": "1.5.0",
            "_view_name": "ProgressView",
            "bar_style": "success",
            "description": "",
            "description_tooltip": null,
            "layout": "IPY_MODEL_f437228d863949a7b46d08e9f17ec8c0",
            "max": 1649718,
            "min": 0,
            "orientation": "horizontal",
            "style": "IPY_MODEL_d132dd4a805d477782f6357be69456b6",
            "value": 1649718
          }
        },
        "349039bbff904662bcda07716250c9a8": {
          "model_module": "@jupyter-widgets/base",
          "model_module_version": "1.2.0",
          "model_name": "LayoutModel",
          "state": {
            "_model_module": "@jupyter-widgets/base",
            "_model_module_version": "1.2.0",
            "_model_name": "LayoutModel",
            "_view_count": null,
            "_view_module": "@jupyter-widgets/base",
            "_view_module_version": "1.2.0",
            "_view_name": "LayoutView",
            "align_content": null,
            "align_items": null,
            "align_self": null,
            "border": null,
            "bottom": null,
            "display": null,
            "flex": null,
            "flex_flow": null,
            "grid_area": null,
            "grid_auto_columns": null,
            "grid_auto_flow": null,
            "grid_auto_rows": null,
            "grid_column": null,
            "grid_gap": null,
            "grid_row": null,
            "grid_template_areas": null,
            "grid_template_columns": null,
            "grid_template_rows": null,
            "height": null,
            "justify_content": null,
            "justify_items": null,
            "left": null,
            "margin": null,
            "max_height": null,
            "max_width": null,
            "min_height": null,
            "min_width": null,
            "object_fit": null,
            "object_position": null,
            "order": null,
            "overflow": null,
            "overflow_x": null,
            "overflow_y": null,
            "padding": null,
            "right": null,
            "top": null,
            "visibility": null,
            "width": null
          }
        },
        "3bef931759eb4ebe91faba689a646c1b": {
          "model_module": "@jupyter-widgets/base",
          "model_module_version": "1.2.0",
          "model_name": "LayoutModel",
          "state": {
            "_model_module": "@jupyter-widgets/base",
            "_model_module_version": "1.2.0",
            "_model_name": "LayoutModel",
            "_view_count": null,
            "_view_module": "@jupyter-widgets/base",
            "_view_module_version": "1.2.0",
            "_view_name": "LayoutView",
            "align_content": null,
            "align_items": null,
            "align_self": null,
            "border": null,
            "bottom": null,
            "display": null,
            "flex": null,
            "flex_flow": null,
            "grid_area": null,
            "grid_auto_columns": null,
            "grid_auto_flow": null,
            "grid_auto_rows": null,
            "grid_column": null,
            "grid_gap": null,
            "grid_row": null,
            "grid_template_areas": null,
            "grid_template_columns": null,
            "grid_template_rows": null,
            "height": null,
            "justify_content": null,
            "justify_items": null,
            "left": null,
            "margin": null,
            "max_height": null,
            "max_width": null,
            "min_height": null,
            "min_width": null,
            "object_fit": null,
            "object_position": null,
            "order": null,
            "overflow": null,
            "overflow_x": null,
            "overflow_y": null,
            "padding": null,
            "right": null,
            "top": null,
            "visibility": null,
            "width": null
          }
        },
        "3d1c067f31ac47bfb113a65764779bc8": {
          "model_module": "@jupyter-widgets/base",
          "model_module_version": "1.2.0",
          "model_name": "LayoutModel",
          "state": {
            "_model_module": "@jupyter-widgets/base",
            "_model_module_version": "1.2.0",
            "_model_name": "LayoutModel",
            "_view_count": null,
            "_view_module": "@jupyter-widgets/base",
            "_view_module_version": "1.2.0",
            "_view_name": "LayoutView",
            "align_content": null,
            "align_items": null,
            "align_self": null,
            "border": null,
            "bottom": null,
            "display": null,
            "flex": null,
            "flex_flow": null,
            "grid_area": null,
            "grid_auto_columns": null,
            "grid_auto_flow": null,
            "grid_auto_rows": null,
            "grid_column": null,
            "grid_gap": null,
            "grid_row": null,
            "grid_template_areas": null,
            "grid_template_columns": null,
            "grid_template_rows": null,
            "height": null,
            "justify_content": null,
            "justify_items": null,
            "left": null,
            "margin": null,
            "max_height": null,
            "max_width": null,
            "min_height": null,
            "min_width": null,
            "object_fit": null,
            "object_position": null,
            "order": null,
            "overflow": null,
            "overflow_x": null,
            "overflow_y": null,
            "padding": null,
            "right": null,
            "top": null,
            "visibility": null,
            "width": null
          }
        },
        "452a0a8461d04072a241a925ea90d3d5": {
          "model_module": "@jupyter-widgets/controls",
          "model_module_version": "1.5.0",
          "model_name": "HTMLModel",
          "state": {
            "_dom_classes": [],
            "_model_module": "@jupyter-widgets/controls",
            "_model_module_version": "1.5.0",
            "_model_name": "HTMLModel",
            "_view_count": null,
            "_view_module": "@jupyter-widgets/controls",
            "_view_module_version": "1.5.0",
            "_view_name": "HTMLView",
            "description": "",
            "description_tooltip": null,
            "layout": "IPY_MODEL_4a65dcb2e9074f5992069b012afcfd44",
            "placeholder": "​",
            "style": "IPY_MODEL_7a7974e9c95d4c92b04f19d7901c12d1",
            "value": " 681M/681M [00:26&lt;00:00, 37.1MB/s]"
          }
        },
        "4a65dcb2e9074f5992069b012afcfd44": {
          "model_module": "@jupyter-widgets/base",
          "model_module_version": "1.2.0",
          "model_name": "LayoutModel",
          "state": {
            "_model_module": "@jupyter-widgets/base",
            "_model_module_version": "1.2.0",
            "_model_name": "LayoutModel",
            "_view_count": null,
            "_view_module": "@jupyter-widgets/base",
            "_view_module_version": "1.2.0",
            "_view_name": "LayoutView",
            "align_content": null,
            "align_items": null,
            "align_self": null,
            "border": null,
            "bottom": null,
            "display": null,
            "flex": null,
            "flex_flow": null,
            "grid_area": null,
            "grid_auto_columns": null,
            "grid_auto_flow": null,
            "grid_auto_rows": null,
            "grid_column": null,
            "grid_gap": null,
            "grid_row": null,
            "grid_template_areas": null,
            "grid_template_columns": null,
            "grid_template_rows": null,
            "height": null,
            "justify_content": null,
            "justify_items": null,
            "left": null,
            "margin": null,
            "max_height": null,
            "max_width": null,
            "min_height": null,
            "min_width": null,
            "object_fit": null,
            "object_position": null,
            "order": null,
            "overflow": null,
            "overflow_x": null,
            "overflow_y": null,
            "padding": null,
            "right": null,
            "top": null,
            "visibility": null,
            "width": null
          }
        },
        "4c36f8e12b85413eb451bb45602ee72f": {
          "model_module": "@jupyter-widgets/controls",
          "model_module_version": "1.5.0",
          "model_name": "DescriptionStyleModel",
          "state": {
            "_model_module": "@jupyter-widgets/controls",
            "_model_module_version": "1.5.0",
            "_model_name": "DescriptionStyleModel",
            "_view_count": null,
            "_view_module": "@jupyter-widgets/base",
            "_view_module_version": "1.2.0",
            "_view_name": "StyleView",
            "description_width": ""
          }
        },
        "4d9338db826b40df9fe8e5d466fff96b": {
          "model_module": "@jupyter-widgets/base",
          "model_module_version": "1.2.0",
          "model_name": "LayoutModel",
          "state": {
            "_model_module": "@jupyter-widgets/base",
            "_model_module_version": "1.2.0",
            "_model_name": "LayoutModel",
            "_view_count": null,
            "_view_module": "@jupyter-widgets/base",
            "_view_module_version": "1.2.0",
            "_view_name": "LayoutView",
            "align_content": null,
            "align_items": null,
            "align_self": null,
            "border": null,
            "bottom": null,
            "display": null,
            "flex": null,
            "flex_flow": null,
            "grid_area": null,
            "grid_auto_columns": null,
            "grid_auto_flow": null,
            "grid_auto_rows": null,
            "grid_column": null,
            "grid_gap": null,
            "grid_row": null,
            "grid_template_areas": null,
            "grid_template_columns": null,
            "grid_template_rows": null,
            "height": null,
            "justify_content": null,
            "justify_items": null,
            "left": null,
            "margin": null,
            "max_height": null,
            "max_width": null,
            "min_height": null,
            "min_width": null,
            "object_fit": null,
            "object_position": null,
            "order": null,
            "overflow": null,
            "overflow_x": null,
            "overflow_y": null,
            "padding": null,
            "right": null,
            "top": null,
            "visibility": null,
            "width": null
          }
        },
        "4f89cd2912d84d768db1c07f0835011c": {
          "model_module": "@jupyter-widgets/controls",
          "model_module_version": "1.5.0",
          "model_name": "DescriptionStyleModel",
          "state": {
            "_model_module": "@jupyter-widgets/controls",
            "_model_module_version": "1.5.0",
            "_model_name": "DescriptionStyleModel",
            "_view_count": null,
            "_view_module": "@jupyter-widgets/base",
            "_view_module_version": "1.2.0",
            "_view_name": "StyleView",
            "description_width": ""
          }
        },
        "5b13a0e6265e4679b235a3e72d8f665e": {
          "model_module": "@jupyter-widgets/base",
          "model_module_version": "1.2.0",
          "model_name": "LayoutModel",
          "state": {
            "_model_module": "@jupyter-widgets/base",
            "_model_module_version": "1.2.0",
            "_model_name": "LayoutModel",
            "_view_count": null,
            "_view_module": "@jupyter-widgets/base",
            "_view_module_version": "1.2.0",
            "_view_name": "LayoutView",
            "align_content": null,
            "align_items": null,
            "align_self": null,
            "border": null,
            "bottom": null,
            "display": null,
            "flex": null,
            "flex_flow": null,
            "grid_area": null,
            "grid_auto_columns": null,
            "grid_auto_flow": null,
            "grid_auto_rows": null,
            "grid_column": null,
            "grid_gap": null,
            "grid_row": null,
            "grid_template_areas": null,
            "grid_template_columns": null,
            "grid_template_rows": null,
            "height": null,
            "justify_content": null,
            "justify_items": null,
            "left": null,
            "margin": null,
            "max_height": null,
            "max_width": null,
            "min_height": null,
            "min_width": null,
            "object_fit": null,
            "object_position": null,
            "order": null,
            "overflow": null,
            "overflow_x": null,
            "overflow_y": null,
            "padding": null,
            "right": null,
            "top": null,
            "visibility": null,
            "width": null
          }
        },
        "615aa0a3eea345929581f42c79b8067d": {
          "model_module": "@jupyter-widgets/base",
          "model_module_version": "1.2.0",
          "model_name": "LayoutModel",
          "state": {
            "_model_module": "@jupyter-widgets/base",
            "_model_module_version": "1.2.0",
            "_model_name": "LayoutModel",
            "_view_count": null,
            "_view_module": "@jupyter-widgets/base",
            "_view_module_version": "1.2.0",
            "_view_name": "LayoutView",
            "align_content": null,
            "align_items": null,
            "align_self": null,
            "border": null,
            "bottom": null,
            "display": null,
            "flex": null,
            "flex_flow": null,
            "grid_area": null,
            "grid_auto_columns": null,
            "grid_auto_flow": null,
            "grid_auto_rows": null,
            "grid_column": null,
            "grid_gap": null,
            "grid_row": null,
            "grid_template_areas": null,
            "grid_template_columns": null,
            "grid_template_rows": null,
            "height": null,
            "justify_content": null,
            "justify_items": null,
            "left": null,
            "margin": null,
            "max_height": null,
            "max_width": null,
            "min_height": null,
            "min_width": null,
            "object_fit": null,
            "object_position": null,
            "order": null,
            "overflow": null,
            "overflow_x": null,
            "overflow_y": null,
            "padding": null,
            "right": null,
            "top": null,
            "visibility": null,
            "width": null
          }
        },
        "619dd3cb063c4aab942433dcf0eea82b": {
          "model_module": "@jupyter-widgets/base",
          "model_module_version": "1.2.0",
          "model_name": "LayoutModel",
          "state": {
            "_model_module": "@jupyter-widgets/base",
            "_model_module_version": "1.2.0",
            "_model_name": "LayoutModel",
            "_view_count": null,
            "_view_module": "@jupyter-widgets/base",
            "_view_module_version": "1.2.0",
            "_view_name": "LayoutView",
            "align_content": null,
            "align_items": null,
            "align_self": null,
            "border": null,
            "bottom": null,
            "display": null,
            "flex": null,
            "flex_flow": null,
            "grid_area": null,
            "grid_auto_columns": null,
            "grid_auto_flow": null,
            "grid_auto_rows": null,
            "grid_column": null,
            "grid_gap": null,
            "grid_row": null,
            "grid_template_areas": null,
            "grid_template_columns": null,
            "grid_template_rows": null,
            "height": null,
            "justify_content": null,
            "justify_items": null,
            "left": null,
            "margin": null,
            "max_height": null,
            "max_width": null,
            "min_height": null,
            "min_width": null,
            "object_fit": null,
            "object_position": null,
            "order": null,
            "overflow": null,
            "overflow_x": null,
            "overflow_y": null,
            "padding": null,
            "right": null,
            "top": null,
            "visibility": null,
            "width": null
          }
        },
        "661af47f89a74b4bab9bbf1364a01b11": {
          "model_module": "@jupyter-widgets/base",
          "model_module_version": "1.2.0",
          "model_name": "LayoutModel",
          "state": {
            "_model_module": "@jupyter-widgets/base",
            "_model_module_version": "1.2.0",
            "_model_name": "LayoutModel",
            "_view_count": null,
            "_view_module": "@jupyter-widgets/base",
            "_view_module_version": "1.2.0",
            "_view_name": "LayoutView",
            "align_content": null,
            "align_items": null,
            "align_self": null,
            "border": null,
            "bottom": null,
            "display": null,
            "flex": null,
            "flex_flow": null,
            "grid_area": null,
            "grid_auto_columns": null,
            "grid_auto_flow": null,
            "grid_auto_rows": null,
            "grid_column": null,
            "grid_gap": null,
            "grid_row": null,
            "grid_template_areas": null,
            "grid_template_columns": null,
            "grid_template_rows": null,
            "height": null,
            "justify_content": null,
            "justify_items": null,
            "left": null,
            "margin": null,
            "max_height": null,
            "max_width": null,
            "min_height": null,
            "min_width": null,
            "object_fit": null,
            "object_position": null,
            "order": null,
            "overflow": null,
            "overflow_x": null,
            "overflow_y": null,
            "padding": null,
            "right": null,
            "top": null,
            "visibility": null,
            "width": null
          }
        },
        "6959957b761d420e91c085ebaf7d7878": {
          "model_module": "@jupyter-widgets/controls",
          "model_module_version": "1.5.0",
          "model_name": "DescriptionStyleModel",
          "state": {
            "_model_module": "@jupyter-widgets/controls",
            "_model_module_version": "1.5.0",
            "_model_name": "DescriptionStyleModel",
            "_view_count": null,
            "_view_module": "@jupyter-widgets/base",
            "_view_module_version": "1.2.0",
            "_view_name": "StyleView",
            "description_width": ""
          }
        },
        "6f572c4167b3498da0036aa3664901ff": {
          "model_module": "@jupyter-widgets/base",
          "model_module_version": "1.2.0",
          "model_name": "LayoutModel",
          "state": {
            "_model_module": "@jupyter-widgets/base",
            "_model_module_version": "1.2.0",
            "_model_name": "LayoutModel",
            "_view_count": null,
            "_view_module": "@jupyter-widgets/base",
            "_view_module_version": "1.2.0",
            "_view_name": "LayoutView",
            "align_content": null,
            "align_items": null,
            "align_self": null,
            "border": null,
            "bottom": null,
            "display": null,
            "flex": null,
            "flex_flow": null,
            "grid_area": null,
            "grid_auto_columns": null,
            "grid_auto_flow": null,
            "grid_auto_rows": null,
            "grid_column": null,
            "grid_gap": null,
            "grid_row": null,
            "grid_template_areas": null,
            "grid_template_columns": null,
            "grid_template_rows": null,
            "height": null,
            "justify_content": null,
            "justify_items": null,
            "left": null,
            "margin": null,
            "max_height": null,
            "max_width": null,
            "min_height": null,
            "min_width": null,
            "object_fit": null,
            "object_position": null,
            "order": null,
            "overflow": null,
            "overflow_x": null,
            "overflow_y": null,
            "padding": null,
            "right": null,
            "top": null,
            "visibility": null,
            "width": null
          }
        },
        "77c3fd2e7ff7404e9f6a324f021e7213": {
          "model_module": "@jupyter-widgets/base",
          "model_module_version": "1.2.0",
          "model_name": "LayoutModel",
          "state": {
            "_model_module": "@jupyter-widgets/base",
            "_model_module_version": "1.2.0",
            "_model_name": "LayoutModel",
            "_view_count": null,
            "_view_module": "@jupyter-widgets/base",
            "_view_module_version": "1.2.0",
            "_view_name": "LayoutView",
            "align_content": null,
            "align_items": null,
            "align_self": null,
            "border": null,
            "bottom": null,
            "display": null,
            "flex": null,
            "flex_flow": null,
            "grid_area": null,
            "grid_auto_columns": null,
            "grid_auto_flow": null,
            "grid_auto_rows": null,
            "grid_column": null,
            "grid_gap": null,
            "grid_row": null,
            "grid_template_areas": null,
            "grid_template_columns": null,
            "grid_template_rows": null,
            "height": null,
            "justify_content": null,
            "justify_items": null,
            "left": null,
            "margin": null,
            "max_height": null,
            "max_width": null,
            "min_height": null,
            "min_width": null,
            "object_fit": null,
            "object_position": null,
            "order": null,
            "overflow": null,
            "overflow_x": null,
            "overflow_y": null,
            "padding": null,
            "right": null,
            "top": null,
            "visibility": null,
            "width": null
          }
        },
        "7a7974e9c95d4c92b04f19d7901c12d1": {
          "model_module": "@jupyter-widgets/controls",
          "model_module_version": "1.5.0",
          "model_name": "DescriptionStyleModel",
          "state": {
            "_model_module": "@jupyter-widgets/controls",
            "_model_module_version": "1.5.0",
            "_model_name": "DescriptionStyleModel",
            "_view_count": null,
            "_view_module": "@jupyter-widgets/base",
            "_view_module_version": "1.2.0",
            "_view_name": "StyleView",
            "description_width": ""
          }
        },
        "7dbb3acd07834fa3ad41814429ffd8b0": {
          "model_module": "@jupyter-widgets/controls",
          "model_module_version": "1.5.0",
          "model_name": "HBoxModel",
          "state": {
            "_dom_classes": [],
            "_model_module": "@jupyter-widgets/controls",
            "_model_module_version": "1.5.0",
            "_model_name": "HBoxModel",
            "_view_count": null,
            "_view_module": "@jupyter-widgets/controls",
            "_view_module_version": "1.5.0",
            "_view_name": "HBoxView",
            "box_style": "",
            "children": [
              "IPY_MODEL_f3ba4f23551741f692dda090c660d646",
              "IPY_MODEL_30b0474a0aef4745ae44d2c1e7a49207",
              "IPY_MODEL_2fcf04ae74124502bd0943c96018abf4"
            ],
            "layout": "IPY_MODEL_a37119cbfb024c30a940d950ac7bf0ed"
          }
        },
        "7e15566c3859466ab26f469bbd297c7c": {
          "model_module": "@jupyter-widgets/controls",
          "model_module_version": "1.5.0",
          "model_name": "HTMLModel",
          "state": {
            "_dom_classes": [],
            "_model_module": "@jupyter-widgets/controls",
            "_model_module_version": "1.5.0",
            "_model_name": "HTMLModel",
            "_view_count": null,
            "_view_module": "@jupyter-widgets/controls",
            "_view_module_version": "1.5.0",
            "_view_name": "HTMLView",
            "description": "",
            "description_tooltip": null,
            "layout": "IPY_MODEL_619dd3cb063c4aab942433dcf0eea82b",
            "placeholder": "​",
            "style": "IPY_MODEL_a49c9972864140adac79261e35ec485f",
            "value": " 642/642 [00:00&lt;00:00, 12.3kB/s]"
          }
        },
        "86d39cd97a14415fb43500cd3ed7374e": {
          "model_module": "@jupyter-widgets/controls",
          "model_module_version": "1.5.0",
          "model_name": "HTMLModel",
          "state": {
            "_dom_classes": [],
            "_model_module": "@jupyter-widgets/controls",
            "_model_module_version": "1.5.0",
            "_model_name": "HTMLModel",
            "_view_count": null,
            "_view_module": "@jupyter-widgets/controls",
            "_view_module_version": "1.5.0",
            "_view_name": "HTMLView",
            "description": "",
            "description_tooltip": null,
            "layout": "IPY_MODEL_e730f3c7a9124c2da454a85ad848be2d",
            "placeholder": "​",
            "style": "IPY_MODEL_c0d12dca39aa4b54b981b3a1450e618d",
            "value": "Downloading: 100%"
          }
        },
        "916c7f33c6ad4a8eba8819d5c3208cd8": {
          "model_module": "@jupyter-widgets/base",
          "model_module_version": "1.2.0",
          "model_name": "LayoutModel",
          "state": {
            "_model_module": "@jupyter-widgets/base",
            "_model_module_version": "1.2.0",
            "_model_name": "LayoutModel",
            "_view_count": null,
            "_view_module": "@jupyter-widgets/base",
            "_view_module_version": "1.2.0",
            "_view_name": "LayoutView",
            "align_content": null,
            "align_items": null,
            "align_self": null,
            "border": null,
            "bottom": null,
            "display": null,
            "flex": null,
            "flex_flow": null,
            "grid_area": null,
            "grid_auto_columns": null,
            "grid_auto_flow": null,
            "grid_auto_rows": null,
            "grid_column": null,
            "grid_gap": null,
            "grid_row": null,
            "grid_template_areas": null,
            "grid_template_columns": null,
            "grid_template_rows": null,
            "height": null,
            "justify_content": null,
            "justify_items": null,
            "left": null,
            "margin": null,
            "max_height": null,
            "max_width": null,
            "min_height": null,
            "min_width": null,
            "object_fit": null,
            "object_position": null,
            "order": null,
            "overflow": null,
            "overflow_x": null,
            "overflow_y": null,
            "padding": null,
            "right": null,
            "top": null,
            "visibility": null,
            "width": null
          }
        },
        "98e43c36676f4960aef574b44ba75152": {
          "model_module": "@jupyter-widgets/controls",
          "model_module_version": "1.5.0",
          "model_name": "ProgressStyleModel",
          "state": {
            "_model_module": "@jupyter-widgets/controls",
            "_model_module_version": "1.5.0",
            "_model_name": "ProgressStyleModel",
            "_view_count": null,
            "_view_module": "@jupyter-widgets/base",
            "_view_module_version": "1.2.0",
            "_view_name": "StyleView",
            "bar_color": null,
            "description_width": ""
          }
        },
        "a06cc442f6e14b4bb18c5e27f6fc0e55": {
          "model_module": "@jupyter-widgets/controls",
          "model_module_version": "1.5.0",
          "model_name": "FloatProgressModel",
          "state": {
            "_dom_classes": [],
            "_model_module": "@jupyter-widgets/controls",
            "_model_module_version": "1.5.0",
            "_model_name": "FloatProgressModel",
            "_view_count": null,
            "_view_module": "@jupyter-widgets/controls",
            "_view_module_version": "1.5.0",
            "_view_name": "ProgressView",
            "bar_style": "success",
            "description": "",
            "description_tooltip": null,
            "layout": "IPY_MODEL_f5e8431635854d538c925275b1604d4e",
            "max": 24,
            "min": 0,
            "orientation": "horizontal",
            "style": "IPY_MODEL_c1ccd6ec071846e28166e404a67b82c6",
            "value": 24
          }
        },
        "a37119cbfb024c30a940d950ac7bf0ed": {
          "model_module": "@jupyter-widgets/base",
          "model_module_version": "1.2.0",
          "model_name": "LayoutModel",
          "state": {
            "_model_module": "@jupyter-widgets/base",
            "_model_module_version": "1.2.0",
            "_model_name": "LayoutModel",
            "_view_count": null,
            "_view_module": "@jupyter-widgets/base",
            "_view_module_version": "1.2.0",
            "_view_name": "LayoutView",
            "align_content": null,
            "align_items": null,
            "align_self": null,
            "border": null,
            "bottom": null,
            "display": null,
            "flex": null,
            "flex_flow": null,
            "grid_area": null,
            "grid_auto_columns": null,
            "grid_auto_flow": null,
            "grid_auto_rows": null,
            "grid_column": null,
            "grid_gap": null,
            "grid_row": null,
            "grid_template_areas": null,
            "grid_template_columns": null,
            "grid_template_rows": null,
            "height": null,
            "justify_content": null,
            "justify_items": null,
            "left": null,
            "margin": null,
            "max_height": null,
            "max_width": null,
            "min_height": null,
            "min_width": null,
            "object_fit": null,
            "object_position": null,
            "order": null,
            "overflow": null,
            "overflow_x": null,
            "overflow_y": null,
            "padding": null,
            "right": null,
            "top": null,
            "visibility": null,
            "width": null
          }
        },
        "a496bd977de64c168b3c0c43ba532c4a": {
          "model_module": "@jupyter-widgets/controls",
          "model_module_version": "1.5.0",
          "model_name": "DescriptionStyleModel",
          "state": {
            "_model_module": "@jupyter-widgets/controls",
            "_model_module_version": "1.5.0",
            "_model_name": "DescriptionStyleModel",
            "_view_count": null,
            "_view_module": "@jupyter-widgets/base",
            "_view_module_version": "1.2.0",
            "_view_name": "StyleView",
            "description_width": ""
          }
        },
        "a49c9972864140adac79261e35ec485f": {
          "model_module": "@jupyter-widgets/controls",
          "model_module_version": "1.5.0",
          "model_name": "DescriptionStyleModel",
          "state": {
            "_model_module": "@jupyter-widgets/controls",
            "_model_module_version": "1.5.0",
            "_model_name": "DescriptionStyleModel",
            "_view_count": null,
            "_view_module": "@jupyter-widgets/base",
            "_view_module_version": "1.2.0",
            "_view_name": "StyleView",
            "description_width": ""
          }
        },
        "a6968c77602148f2a9766ad0c35ed593": {
          "model_module": "@jupyter-widgets/controls",
          "model_module_version": "1.5.0",
          "model_name": "HBoxModel",
          "state": {
            "_dom_classes": [],
            "_model_module": "@jupyter-widgets/controls",
            "_model_module_version": "1.5.0",
            "_model_name": "HBoxModel",
            "_view_count": null,
            "_view_module": "@jupyter-widgets/controls",
            "_view_module_version": "1.5.0",
            "_view_name": "HBoxView",
            "box_style": "",
            "children": [
              "IPY_MODEL_f79dbe6a690440209ca0284ee1013ef6",
              "IPY_MODEL_22f9c41f55bf487190814791bad40ab8",
              "IPY_MODEL_452a0a8461d04072a241a925ea90d3d5"
            ],
            "layout": "IPY_MODEL_fba75210e5cf4d51ad7985210245753e"
          }
        },
        "a8ccc393abd14e6da93267d3a50bba51": {
          "model_module": "@jupyter-widgets/controls",
          "model_module_version": "1.5.0",
          "model_name": "HTMLModel",
          "state": {
            "_dom_classes": [],
            "_model_module": "@jupyter-widgets/controls",
            "_model_module_version": "1.5.0",
            "_model_name": "HTMLModel",
            "_view_count": null,
            "_view_module": "@jupyter-widgets/controls",
            "_view_module_version": "1.5.0",
            "_view_name": "HTMLView",
            "description": "",
            "description_tooltip": null,
            "layout": "IPY_MODEL_4d9338db826b40df9fe8e5d466fff96b",
            "placeholder": "​",
            "style": "IPY_MODEL_4f89cd2912d84d768db1c07f0835011c",
            "value": " 24.0/24.0 [00:00&lt;00:00, 374B/s]"
          }
        },
        "abdf7bed26784271a892b0d40ed0a76e": {
          "model_module": "@jupyter-widgets/base",
          "model_module_version": "1.2.0",
          "model_name": "LayoutModel",
          "state": {
            "_model_module": "@jupyter-widgets/base",
            "_model_module_version": "1.2.0",
            "_model_name": "LayoutModel",
            "_view_count": null,
            "_view_module": "@jupyter-widgets/base",
            "_view_module_version": "1.2.0",
            "_view_name": "LayoutView",
            "align_content": null,
            "align_items": null,
            "align_self": null,
            "border": null,
            "bottom": null,
            "display": null,
            "flex": null,
            "flex_flow": null,
            "grid_area": null,
            "grid_auto_columns": null,
            "grid_auto_flow": null,
            "grid_auto_rows": null,
            "grid_column": null,
            "grid_gap": null,
            "grid_row": null,
            "grid_template_areas": null,
            "grid_template_columns": null,
            "grid_template_rows": null,
            "height": null,
            "justify_content": null,
            "justify_items": null,
            "left": null,
            "margin": null,
            "max_height": null,
            "max_width": null,
            "min_height": null,
            "min_width": null,
            "object_fit": null,
            "object_position": null,
            "order": null,
            "overflow": null,
            "overflow_x": null,
            "overflow_y": null,
            "padding": null,
            "right": null,
            "top": null,
            "visibility": null,
            "width": null
          }
        },
        "af4cac1832b14cff8145d756c2f5d740": {
          "model_module": "@jupyter-widgets/controls",
          "model_module_version": "1.5.0",
          "model_name": "DescriptionStyleModel",
          "state": {
            "_model_module": "@jupyter-widgets/controls",
            "_model_module_version": "1.5.0",
            "_model_name": "DescriptionStyleModel",
            "_view_count": null,
            "_view_module": "@jupyter-widgets/base",
            "_view_module_version": "1.2.0",
            "_view_name": "StyleView",
            "description_width": ""
          }
        },
        "af9b2d3d22f04dd3a96adf05761c9b56": {
          "model_module": "@jupyter-widgets/controls",
          "model_module_version": "1.5.0",
          "model_name": "HTMLModel",
          "state": {
            "_dom_classes": [],
            "_model_module": "@jupyter-widgets/controls",
            "_model_module_version": "1.5.0",
            "_model_name": "HTMLModel",
            "_view_count": null,
            "_view_module": "@jupyter-widgets/controls",
            "_view_module_version": "1.5.0",
            "_view_name": "HTMLView",
            "description": "",
            "description_tooltip": null,
            "layout": "IPY_MODEL_da9ddcae98a5442a8d677f9fd943dce8",
            "placeholder": "​",
            "style": "IPY_MODEL_da555a6cee274f0ea82762d91ea48fc6",
            "value": " 112/112 [00:00&lt;00:00, 2.82kB/s]"
          }
        },
        "b5fb746c46ab4c0e827f1f0cf42771e7": {
          "model_module": "@jupyter-widgets/controls",
          "model_module_version": "1.5.0",
          "model_name": "HBoxModel",
          "state": {
            "_dom_classes": [],
            "_model_module": "@jupyter-widgets/controls",
            "_model_module_version": "1.5.0",
            "_model_name": "HBoxModel",
            "_view_count": null,
            "_view_module": "@jupyter-widgets/controls",
            "_view_module_version": "1.5.0",
            "_view_name": "HBoxView",
            "box_style": "",
            "children": [
              "IPY_MODEL_19be090732a14b2899cab691941932b1",
              "IPY_MODEL_214d31a4422f4099941214f9c69da114",
              "IPY_MODEL_af9b2d3d22f04dd3a96adf05761c9b56"
            ],
            "layout": "IPY_MODEL_661af47f89a74b4bab9bbf1364a01b11"
          }
        },
        "b61744f28e3e4a7bbad9402e408107e9": {
          "model_module": "@jupyter-widgets/controls",
          "model_module_version": "1.5.0",
          "model_name": "DescriptionStyleModel",
          "state": {
            "_model_module": "@jupyter-widgets/controls",
            "_model_module_version": "1.5.0",
            "_model_name": "DescriptionStyleModel",
            "_view_count": null,
            "_view_module": "@jupyter-widgets/base",
            "_view_module_version": "1.2.0",
            "_view_name": "StyleView",
            "description_width": ""
          }
        },
        "c0d12dca39aa4b54b981b3a1450e618d": {
          "model_module": "@jupyter-widgets/controls",
          "model_module_version": "1.5.0",
          "model_name": "DescriptionStyleModel",
          "state": {
            "_model_module": "@jupyter-widgets/controls",
            "_model_module_version": "1.5.0",
            "_model_name": "DescriptionStyleModel",
            "_view_count": null,
            "_view_module": "@jupyter-widgets/base",
            "_view_module_version": "1.2.0",
            "_view_name": "StyleView",
            "description_width": ""
          }
        },
        "c1079042ca4c4c5eb922496ed0c1347a": {
          "model_module": "@jupyter-widgets/base",
          "model_module_version": "1.2.0",
          "model_name": "LayoutModel",
          "state": {
            "_model_module": "@jupyter-widgets/base",
            "_model_module_version": "1.2.0",
            "_model_name": "LayoutModel",
            "_view_count": null,
            "_view_module": "@jupyter-widgets/base",
            "_view_module_version": "1.2.0",
            "_view_name": "LayoutView",
            "align_content": null,
            "align_items": null,
            "align_self": null,
            "border": null,
            "bottom": null,
            "display": null,
            "flex": null,
            "flex_flow": null,
            "grid_area": null,
            "grid_auto_columns": null,
            "grid_auto_flow": null,
            "grid_auto_rows": null,
            "grid_column": null,
            "grid_gap": null,
            "grid_row": null,
            "grid_template_areas": null,
            "grid_template_columns": null,
            "grid_template_rows": null,
            "height": null,
            "justify_content": null,
            "justify_items": null,
            "left": null,
            "margin": null,
            "max_height": null,
            "max_width": null,
            "min_height": null,
            "min_width": null,
            "object_fit": null,
            "object_position": null,
            "order": null,
            "overflow": null,
            "overflow_x": null,
            "overflow_y": null,
            "padding": null,
            "right": null,
            "top": null,
            "visibility": null,
            "width": null
          }
        },
        "c1ccd6ec071846e28166e404a67b82c6": {
          "model_module": "@jupyter-widgets/controls",
          "model_module_version": "1.5.0",
          "model_name": "ProgressStyleModel",
          "state": {
            "_model_module": "@jupyter-widgets/controls",
            "_model_module_version": "1.5.0",
            "_model_name": "ProgressStyleModel",
            "_view_count": null,
            "_view_module": "@jupyter-widgets/base",
            "_view_module_version": "1.2.0",
            "_view_name": "StyleView",
            "bar_color": null,
            "description_width": ""
          }
        },
        "d132dd4a805d477782f6357be69456b6": {
          "model_module": "@jupyter-widgets/controls",
          "model_module_version": "1.5.0",
          "model_name": "ProgressStyleModel",
          "state": {
            "_model_module": "@jupyter-widgets/controls",
            "_model_module_version": "1.5.0",
            "_model_name": "ProgressStyleModel",
            "_view_count": null,
            "_view_module": "@jupyter-widgets/base",
            "_view_module_version": "1.2.0",
            "_view_name": "StyleView",
            "bar_color": null,
            "description_width": ""
          }
        },
        "d48ed176af364fc6a262b3570d1aaa06": {
          "model_module": "@jupyter-widgets/base",
          "model_module_version": "1.2.0",
          "model_name": "LayoutModel",
          "state": {
            "_model_module": "@jupyter-widgets/base",
            "_model_module_version": "1.2.0",
            "_model_name": "LayoutModel",
            "_view_count": null,
            "_view_module": "@jupyter-widgets/base",
            "_view_module_version": "1.2.0",
            "_view_name": "LayoutView",
            "align_content": null,
            "align_items": null,
            "align_self": null,
            "border": null,
            "bottom": null,
            "display": null,
            "flex": null,
            "flex_flow": null,
            "grid_area": null,
            "grid_auto_columns": null,
            "grid_auto_flow": null,
            "grid_auto_rows": null,
            "grid_column": null,
            "grid_gap": null,
            "grid_row": null,
            "grid_template_areas": null,
            "grid_template_columns": null,
            "grid_template_rows": null,
            "height": null,
            "justify_content": null,
            "justify_items": null,
            "left": null,
            "margin": null,
            "max_height": null,
            "max_width": null,
            "min_height": null,
            "min_width": null,
            "object_fit": null,
            "object_position": null,
            "order": null,
            "overflow": null,
            "overflow_x": null,
            "overflow_y": null,
            "padding": null,
            "right": null,
            "top": null,
            "visibility": null,
            "width": null
          }
        },
        "da464fb671164ee182ebc21910729c61": {
          "model_module": "@jupyter-widgets/controls",
          "model_module_version": "1.5.0",
          "model_name": "HTMLModel",
          "state": {
            "_dom_classes": [],
            "_model_module": "@jupyter-widgets/controls",
            "_model_module_version": "1.5.0",
            "_model_name": "HTMLModel",
            "_view_count": null,
            "_view_module": "@jupyter-widgets/controls",
            "_view_module_version": "1.5.0",
            "_view_name": "HTMLView",
            "description": "",
            "description_tooltip": null,
            "layout": "IPY_MODEL_eadba18a10b44cce8e462c4c8daa7e97",
            "placeholder": "​",
            "style": "IPY_MODEL_6959957b761d420e91c085ebaf7d7878",
            "value": "Downloading: 100%"
          }
        },
        "da555a6cee274f0ea82762d91ea48fc6": {
          "model_module": "@jupyter-widgets/controls",
          "model_module_version": "1.5.0",
          "model_name": "DescriptionStyleModel",
          "state": {
            "_model_module": "@jupyter-widgets/controls",
            "_model_module_version": "1.5.0",
            "_model_name": "DescriptionStyleModel",
            "_view_count": null,
            "_view_module": "@jupyter-widgets/base",
            "_view_module_version": "1.2.0",
            "_view_name": "StyleView",
            "description_width": ""
          }
        },
        "da9ddcae98a5442a8d677f9fd943dce8": {
          "model_module": "@jupyter-widgets/base",
          "model_module_version": "1.2.0",
          "model_name": "LayoutModel",
          "state": {
            "_model_module": "@jupyter-widgets/base",
            "_model_module_version": "1.2.0",
            "_model_name": "LayoutModel",
            "_view_count": null,
            "_view_module": "@jupyter-widgets/base",
            "_view_module_version": "1.2.0",
            "_view_name": "LayoutView",
            "align_content": null,
            "align_items": null,
            "align_self": null,
            "border": null,
            "bottom": null,
            "display": null,
            "flex": null,
            "flex_flow": null,
            "grid_area": null,
            "grid_auto_columns": null,
            "grid_auto_flow": null,
            "grid_auto_rows": null,
            "grid_column": null,
            "grid_gap": null,
            "grid_row": null,
            "grid_template_areas": null,
            "grid_template_columns": null,
            "grid_template_rows": null,
            "height": null,
            "justify_content": null,
            "justify_items": null,
            "left": null,
            "margin": null,
            "max_height": null,
            "max_width": null,
            "min_height": null,
            "min_width": null,
            "object_fit": null,
            "object_position": null,
            "order": null,
            "overflow": null,
            "overflow_x": null,
            "overflow_y": null,
            "padding": null,
            "right": null,
            "top": null,
            "visibility": null,
            "width": null
          }
        },
        "e708cdd7cdfb4017a3d4360c6f2a41df": {
          "model_module": "@jupyter-widgets/controls",
          "model_module_version": "1.5.0",
          "model_name": "HBoxModel",
          "state": {
            "_dom_classes": [],
            "_model_module": "@jupyter-widgets/controls",
            "_model_module_version": "1.5.0",
            "_model_name": "HBoxModel",
            "_view_count": null,
            "_view_module": "@jupyter-widgets/controls",
            "_view_module_version": "1.5.0",
            "_view_name": "HBoxView",
            "box_style": "",
            "children": [
              "IPY_MODEL_86d39cd97a14415fb43500cd3ed7374e",
              "IPY_MODEL_a06cc442f6e14b4bb18c5e27f6fc0e55",
              "IPY_MODEL_a8ccc393abd14e6da93267d3a50bba51"
            ],
            "layout": "IPY_MODEL_77c3fd2e7ff7404e9f6a324f021e7213"
          }
        },
        "e730f3c7a9124c2da454a85ad848be2d": {
          "model_module": "@jupyter-widgets/base",
          "model_module_version": "1.2.0",
          "model_name": "LayoutModel",
          "state": {
            "_model_module": "@jupyter-widgets/base",
            "_model_module_version": "1.2.0",
            "_model_name": "LayoutModel",
            "_view_count": null,
            "_view_module": "@jupyter-widgets/base",
            "_view_module_version": "1.2.0",
            "_view_name": "LayoutView",
            "align_content": null,
            "align_items": null,
            "align_self": null,
            "border": null,
            "bottom": null,
            "display": null,
            "flex": null,
            "flex_flow": null,
            "grid_area": null,
            "grid_auto_columns": null,
            "grid_auto_flow": null,
            "grid_auto_rows": null,
            "grid_column": null,
            "grid_gap": null,
            "grid_row": null,
            "grid_template_areas": null,
            "grid_template_columns": null,
            "grid_template_rows": null,
            "height": null,
            "justify_content": null,
            "justify_items": null,
            "left": null,
            "margin": null,
            "max_height": null,
            "max_width": null,
            "min_height": null,
            "min_width": null,
            "object_fit": null,
            "object_position": null,
            "order": null,
            "overflow": null,
            "overflow_x": null,
            "overflow_y": null,
            "padding": null,
            "right": null,
            "top": null,
            "visibility": null,
            "width": null
          }
        },
        "e9cfc6495ff2496186d730c0368545e2": {
          "model_module": "@jupyter-widgets/controls",
          "model_module_version": "1.5.0",
          "model_name": "HTMLModel",
          "state": {
            "_dom_classes": [],
            "_model_module": "@jupyter-widgets/controls",
            "_model_module_version": "1.5.0",
            "_model_name": "HTMLModel",
            "_view_count": null,
            "_view_module": "@jupyter-widgets/controls",
            "_view_module_version": "1.5.0",
            "_view_name": "HTMLView",
            "description": "",
            "description_tooltip": null,
            "layout": "IPY_MODEL_3bef931759eb4ebe91faba689a646c1b",
            "placeholder": "​",
            "style": "IPY_MODEL_a496bd977de64c168b3c0c43ba532c4a",
            "value": "100%"
          }
        },
        "eadba18a10b44cce8e462c4c8daa7e97": {
          "model_module": "@jupyter-widgets/base",
          "model_module_version": "1.2.0",
          "model_name": "LayoutModel",
          "state": {
            "_model_module": "@jupyter-widgets/base",
            "_model_module_version": "1.2.0",
            "_model_name": "LayoutModel",
            "_view_count": null,
            "_view_module": "@jupyter-widgets/base",
            "_view_module_version": "1.2.0",
            "_view_name": "LayoutView",
            "align_content": null,
            "align_items": null,
            "align_self": null,
            "border": null,
            "bottom": null,
            "display": null,
            "flex": null,
            "flex_flow": null,
            "grid_area": null,
            "grid_auto_columns": null,
            "grid_auto_flow": null,
            "grid_auto_rows": null,
            "grid_column": null,
            "grid_gap": null,
            "grid_row": null,
            "grid_template_areas": null,
            "grid_template_columns": null,
            "grid_template_rows": null,
            "height": null,
            "justify_content": null,
            "justify_items": null,
            "left": null,
            "margin": null,
            "max_height": null,
            "max_width": null,
            "min_height": null,
            "min_width": null,
            "object_fit": null,
            "object_position": null,
            "order": null,
            "overflow": null,
            "overflow_x": null,
            "overflow_y": null,
            "padding": null,
            "right": null,
            "top": null,
            "visibility": null,
            "width": null
          }
        },
        "ec2d06a9217b4c0fb3da12091878812d": {
          "model_module": "@jupyter-widgets/controls",
          "model_module_version": "1.5.0",
          "model_name": "HTMLModel",
          "state": {
            "_dom_classes": [],
            "_model_module": "@jupyter-widgets/controls",
            "_model_module_version": "1.5.0",
            "_model_name": "HTMLModel",
            "_view_count": null,
            "_view_module": "@jupyter-widgets/controls",
            "_view_module_version": "1.5.0",
            "_view_name": "HTMLView",
            "description": "",
            "description_tooltip": null,
            "layout": "IPY_MODEL_c1079042ca4c4c5eb922496ed0c1347a",
            "placeholder": "​",
            "style": "IPY_MODEL_17cca474f9c14fa9941d760ec29a957c",
            "value": " 1600/1600 [03:48&lt;00:00,  8.05it/s]"
          }
        },
        "ed621055f49049b0ae98cf5a49c3c676": {
          "model_module": "@jupyter-widgets/controls",
          "model_module_version": "1.5.0",
          "model_name": "ProgressStyleModel",
          "state": {
            "_model_module": "@jupyter-widgets/controls",
            "_model_module_version": "1.5.0",
            "_model_name": "ProgressStyleModel",
            "_view_count": null,
            "_view_module": "@jupyter-widgets/base",
            "_view_module_version": "1.2.0",
            "_view_name": "StyleView",
            "bar_color": null,
            "description_width": ""
          }
        },
        "f3ba4f23551741f692dda090c660d646": {
          "model_module": "@jupyter-widgets/controls",
          "model_module_version": "1.5.0",
          "model_name": "HTMLModel",
          "state": {
            "_dom_classes": [],
            "_model_module": "@jupyter-widgets/controls",
            "_model_module_version": "1.5.0",
            "_model_name": "HTMLModel",
            "_view_count": null,
            "_view_module": "@jupyter-widgets/controls",
            "_view_module_version": "1.5.0",
            "_view_name": "HTMLView",
            "description": "",
            "description_tooltip": null,
            "layout": "IPY_MODEL_916c7f33c6ad4a8eba8819d5c3208cd8",
            "placeholder": "​",
            "style": "IPY_MODEL_4c36f8e12b85413eb451bb45602ee72f",
            "value": "Downloading: 100%"
          }
        },
        "f437228d863949a7b46d08e9f17ec8c0": {
          "model_module": "@jupyter-widgets/base",
          "model_module_version": "1.2.0",
          "model_name": "LayoutModel",
          "state": {
            "_model_module": "@jupyter-widgets/base",
            "_model_module_version": "1.2.0",
            "_model_name": "LayoutModel",
            "_view_count": null,
            "_view_module": "@jupyter-widgets/base",
            "_view_module_version": "1.2.0",
            "_view_name": "LayoutView",
            "align_content": null,
            "align_items": null,
            "align_self": null,
            "border": null,
            "bottom": null,
            "display": null,
            "flex": null,
            "flex_flow": null,
            "grid_area": null,
            "grid_auto_columns": null,
            "grid_auto_flow": null,
            "grid_auto_rows": null,
            "grid_column": null,
            "grid_gap": null,
            "grid_row": null,
            "grid_template_areas": null,
            "grid_template_columns": null,
            "grid_template_rows": null,
            "height": null,
            "justify_content": null,
            "justify_items": null,
            "left": null,
            "margin": null,
            "max_height": null,
            "max_width": null,
            "min_height": null,
            "min_width": null,
            "object_fit": null,
            "object_position": null,
            "order": null,
            "overflow": null,
            "overflow_x": null,
            "overflow_y": null,
            "padding": null,
            "right": null,
            "top": null,
            "visibility": null,
            "width": null
          }
        },
        "f5e8431635854d538c925275b1604d4e": {
          "model_module": "@jupyter-widgets/base",
          "model_module_version": "1.2.0",
          "model_name": "LayoutModel",
          "state": {
            "_model_module": "@jupyter-widgets/base",
            "_model_module_version": "1.2.0",
            "_model_name": "LayoutModel",
            "_view_count": null,
            "_view_module": "@jupyter-widgets/base",
            "_view_module_version": "1.2.0",
            "_view_name": "LayoutView",
            "align_content": null,
            "align_items": null,
            "align_self": null,
            "border": null,
            "bottom": null,
            "display": null,
            "flex": null,
            "flex_flow": null,
            "grid_area": null,
            "grid_auto_columns": null,
            "grid_auto_flow": null,
            "grid_auto_rows": null,
            "grid_column": null,
            "grid_gap": null,
            "grid_row": null,
            "grid_template_areas": null,
            "grid_template_columns": null,
            "grid_template_rows": null,
            "height": null,
            "justify_content": null,
            "justify_items": null,
            "left": null,
            "margin": null,
            "max_height": null,
            "max_width": null,
            "min_height": null,
            "min_width": null,
            "object_fit": null,
            "object_position": null,
            "order": null,
            "overflow": null,
            "overflow_x": null,
            "overflow_y": null,
            "padding": null,
            "right": null,
            "top": null,
            "visibility": null,
            "width": null
          }
        },
        "f79dbe6a690440209ca0284ee1013ef6": {
          "model_module": "@jupyter-widgets/controls",
          "model_module_version": "1.5.0",
          "model_name": "HTMLModel",
          "state": {
            "_dom_classes": [],
            "_model_module": "@jupyter-widgets/controls",
            "_model_module_version": "1.5.0",
            "_model_name": "HTMLModel",
            "_view_count": null,
            "_view_module": "@jupyter-widgets/controls",
            "_view_module_version": "1.5.0",
            "_view_name": "HTMLView",
            "description": "",
            "description_tooltip": null,
            "layout": "IPY_MODEL_349039bbff904662bcda07716250c9a8",
            "placeholder": "​",
            "style": "IPY_MODEL_af4cac1832b14cff8145d756c2f5d740",
            "value": "Downloading: 100%"
          }
        },
        "fba75210e5cf4d51ad7985210245753e": {
          "model_module": "@jupyter-widgets/base",
          "model_module_version": "1.2.0",
          "model_name": "LayoutModel",
          "state": {
            "_model_module": "@jupyter-widgets/base",
            "_model_module_version": "1.2.0",
            "_model_name": "LayoutModel",
            "_view_count": null,
            "_view_module": "@jupyter-widgets/base",
            "_view_module_version": "1.2.0",
            "_view_name": "LayoutView",
            "align_content": null,
            "align_items": null,
            "align_self": null,
            "border": null,
            "bottom": null,
            "display": null,
            "flex": null,
            "flex_flow": null,
            "grid_area": null,
            "grid_auto_columns": null,
            "grid_auto_flow": null,
            "grid_auto_rows": null,
            "grid_column": null,
            "grid_gap": null,
            "grid_row": null,
            "grid_template_areas": null,
            "grid_template_columns": null,
            "grid_template_rows": null,
            "height": null,
            "justify_content": null,
            "justify_items": null,
            "left": null,
            "margin": null,
            "max_height": null,
            "max_width": null,
            "min_height": null,
            "min_width": null,
            "object_fit": null,
            "object_position": null,
            "order": null,
            "overflow": null,
            "overflow_x": null,
            "overflow_y": null,
            "padding": null,
            "right": null,
            "top": null,
            "visibility": null,
            "width": null
          }
        }
      }
    }
  },
  "nbformat": 4,
  "nbformat_minor": 0
}
