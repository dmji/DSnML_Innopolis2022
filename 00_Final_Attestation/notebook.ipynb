{
  "cells": [
    {
      "cell_type": "markdown",
      "metadata": {},
      "source": [
        "# Проект 3. Решить задачу DaNetQA / BoolQ"
      ]
    },
    {
      "cell_type": "markdown",
      "metadata": {},
      "source": [
        "Можно решить как задачу для русского, так и для английского.\n",
        "\n",
        "Либо провести эксперименты с многоязычной моделью\n",
        "\n",
        "https://russiansuperglue.com/ru/tasks/task_info/DaNetQA"
      ]
    },
    {
      "cell_type": "markdown",
      "metadata": {},
      "source": [
        "## Описание\n",
        "Причинно-следственная связь, логический вывод, Natural Language Inference\n",
        "\n",
        "DaNetQA - это набор да/нет вопросов с ответами и фрагментом текста, содержащим ответ. Все вопросы были написаны авторами без каких-либо искусственных ограничений.\n",
        "\n",
        "Каждый пример представляет собой триплет (вопрос, фрагмент текста, ответ) с заголовком страницы в качестве необязательного дополнительного контекста.\n",
        "\n",
        "Настройка классификации текстовых пар аналогична существующим задачам логического вывода (NLI)"
      ]
    },
    {
      "cell_type": "markdown",
      "metadata": {},
      "source": [
        "### Тип задачи\n",
        "Логика, Commonsense, Знания о мире. Бинарная классификация: true/false"
      ]
    },
    {
      "cell_type": "markdown",
      "metadata": {},
      "source": [
        "## Notebook prepeares"
      ]
    },
    {
      "cell_type": "code",
      "execution_count": 2,
      "metadata": {},
      "outputs": [
        {
          "name": "stdout",
          "output_type": "stream",
          "text": [
            "Collecting nltk\n",
            "  Downloading nltk-3.7-py3-none-any.whl (1.5 MB)\n",
            "\u001b[2K     \u001b[90m━━━━━━━━━━━━━━━━━━━━━━━━━━━━━━━━━━━━━━━━\u001b[0m \u001b[32m1.5/1.5 MB\u001b[0m \u001b[31m6.5 MB/s\u001b[0m eta \u001b[36m0:00:00\u001b[0ma \u001b[36m0:00:01\u001b[0m0m\n",
            "\u001b[?25hRequirement already satisfied: click in /home/leysh/miniconda3/envs/catalyst1/lib/python3.8/site-packages (from nltk) (8.1.3)\n",
            "Requirement already satisfied: tqdm in /home/leysh/miniconda3/envs/catalyst1/lib/python3.8/site-packages (from nltk) (4.64.0)\n",
            "Requirement already satisfied: regex>=2021.8.3 in /home/leysh/miniconda3/envs/catalyst1/lib/python3.8/site-packages (from nltk) (2022.4.24)\n",
            "Requirement already satisfied: joblib in /home/leysh/miniconda3/envs/catalyst1/lib/python3.8/site-packages (from nltk) (1.1.0)\n",
            "Installing collected packages: nltk\n",
            "Successfully installed nltk-3.7\n"
          ]
        }
      ],
      "source": [
        "!pip install nltk\n",
        "!pip install jinja2\n",
        "!pip install gensim\n",
        "!pip install sklearn"
      ]
    },
    {
      "cell_type": "code",
      "execution_count": 1,
      "metadata": {},
      "outputs": [
        {
          "name": "stdout",
          "output_type": "stream",
          "text": [
            "Root path: '/home/leysh/git_repos/DSnML_Innopolis2022/00_Final_Attestation'\n",
            "Dataset path: /home/leysh/git_repos/DSnML_Innopolis2022/00_Final_Attestation/DaNetQA\n"
          ]
        }
      ],
      "source": [
        "__COLAB_ACTIVE = False\n",
        "\n",
        "import matplotlib.pyplot as plt\n",
        "#from sklearn.metrics import accuracy_score\n",
        "import os\n",
        "\n",
        "base_path = os.path.abspath('')\n",
        "if __COLAB_ACTIVE:\n",
        "    from google.colab import drive\n",
        "    drive.mount('/content/drive')\n",
        "    base_path = os.path.join(base_path, 'drive/MyDrive/DSnML_Innopolis2022')\n",
        "\n",
        "print(f\"Root path: '{base_path}'\")\n",
        "\n",
        "trainPartNameRaw = 'train_L0'\n",
        "testPartNameRaw =  'test_L0'\n",
        "validatePartNameRaw = 'val_L0'\n",
        "\n",
        "trainPartNameL1 = 'train_L1'\n",
        "testPartNameL1 = 'test_L1' \n",
        "validatePartNameL1 = 'val_L1'\n",
        "data_path = os.path.join(base_path, 'DaNetQA')\n",
        "print(f\"Dataset path: {data_path}\")\n",
        "\n",
        "def fileNameData(s):\n",
        "    return f\"{os.path.join(data_path, s)}.jsonl\""
      ]
    },
    {
      "cell_type": "markdown",
      "metadata": {},
      "source": [
        "# Исследование данных"
      ]
    },
    {
      "cell_type": "code",
      "execution_count": 73,
      "metadata": {},
      "outputs": [
        {
          "name": "stderr",
          "output_type": "stream",
          "text": [
            "[nltk_data] Downloading package stopwords to /home/leysh/nltk_data...\n",
            "[nltk_data]   Package stopwords is already up-to-date!\n"
          ]
        },
        {
          "data": {
            "text/plain": [
              "True"
            ]
          },
          "execution_count": 73,
          "metadata": {},
          "output_type": "execute_result"
        }
      ],
      "source": [
        "import unicodedata\n",
        "import torch\n",
        "import numpy as np\n",
        "import pandas as pd\n",
        "pd.set_option('display.max_colwidth', 0)\n",
        "\n",
        "import nltk\n",
        "from nltk.stem.snowball import SnowballStemmer \n",
        "from nltk.tokenize import word_tokenize\n",
        "from nltk.corpus import stopwords \n",
        "\n",
        "nltk.download('stopwords')"
      ]
    },
    {
      "cell_type": "markdown",
      "metadata": {},
      "source": [
        "## Utils/Class"
      ]
    },
    {
      "cell_type": "code",
      "execution_count": 67,
      "metadata": {},
      "outputs": [],
      "source": [
        "def loadJSONL(path, name = \"\"):\n",
        "    b_print_info = len(name) > 0\n",
        "\n",
        "\n",
        "    df = pd.read_json(path, lines=True)\n",
        "    if b_print_info:\n",
        "        print(name)\n",
        "        display(df.head())\n",
        "        pd_data = []\n",
        "        for col in df.columns.values[0:2]:\n",
        "            lenSymb = [len(x) for x in df[col]]\n",
        "            pd_data.append([f\"{col}(symbols)\", np.min(lenSymb), np.max(lenSymb), int(np.mean(lenSymb))])\n",
        "            lenTok = [len(word_tokenize(x)) for x in df[col]]\n",
        "            pd_data.append([f\"{col}(words)\", np.min(lenTok), np.max(lenTok), int(np.mean(lenTok))])\n",
        "        stat = pd.DataFrame(pd_data, columns=['label', 'MIN', 'MAX', 'MEAN'])\n",
        "        print(\"Stats:\")\n",
        "        display(stat)\n",
        "\n",
        "\n",
        "    # Y    \n",
        "    if (df.columns.values == 'label').any():\n",
        "        s = np.unique(df['label'].to_numpy(), return_counts=True)[1]\n",
        "        if b_print_info:\n",
        "            print(f\"True answer: {s[1]}\")\n",
        "            print(f\"False answer: {s[0]}\")\n",
        "            print(\"\")\n",
        "\n",
        "            \n",
        "    return df, stat"
      ]
    },
    {
      "cell_type": "markdown",
      "metadata": {},
      "source": [
        "## Поэтапно обрабатываем данные\n"
      ]
    },
    {
      "cell_type": "code",
      "execution_count": null,
      "metadata": {},
      "outputs": [],
      "source": [
        "class DataCleaner:\n",
        "    def __init__(self) -> None:\n",
        "        self.flag_verbose = True\n",
        "\n",
        "        self.stop_words = stopwords.words('russian')\n",
        "        self.stemmer = SnowballStemmer('russian')\n",
        "\n",
        "        self.count_removed_symbols = dict()\n",
        "        self.count_removed_words = dict()\n",
        "\n",
        "        self.count_replaced_symbols = dict()\n",
        "        self.dict_replaced_symbols = dict()\n",
        "\n",
        "        self.count_replaced_words = dict()\n",
        "        self.dict_replaced_words = dict()\n",
        "\n",
        "        self.char_to_remove = ['«', '»', '—', ',', '.', '-', '/', ':', '!', \"?\", \"(\", \")\", \"{\", \"}\", \"[\", \"]\", \"@\", \"#\", \"$\", \"%\", \"^\", \"&\", \"*\", \"=\", \"|\", \"\\\\\", \">\", \"<\"]\n",
        "        self.char_to_replace = [['ё', 'е']]\n",
        "\n",
        "    # функция подсчета количества измененных слов\n",
        "    def addReplacedWord(self, s_from, s_to = ' '):\n",
        "        if not self.count_replaced_words.keys().__contains__(s_from):\n",
        "            self.count_replaced_words[s_from] = 0\n",
        "        self.count_replaced_words[s_from] += 1\n",
        "        self.dict_replaced_words[s_from] = s_to\n",
        "\n",
        "    # функция подсчета количества удаленных слов\n",
        "    def addRemovedWord(self, w):\n",
        "        if w == ' ':\n",
        "            if not self.count_removed_symbols.keys().__contains__(w):\n",
        "                self.count_removed_symbols[w] = 0\n",
        "            self.count_removed_symbols[w] += 1\n",
        "\n",
        "    # функция подсчета количества удаленных символов\n",
        "    def addReplacedSymbol(self, s_from, s_to = ' '):\n",
        "        if s_to == ' ':\n",
        "            if not self.count_removed_symbols.keys().__contains__(s_from):\n",
        "                self.count_removed_symbols[s_from] = 0\n",
        "            self.count_removed_symbols[s_from] += 1\n",
        "        else:\n",
        "            if not self.count_replaced_symbols.keys().__contains__(s_from):\n",
        "                self.count_replaced_symbols[s_from] = 0\n",
        "            self.count_replaced_symbols[s_from] += 1\n",
        "            self.dict_replaced_symbols[s_from] = s_to\n",
        "\n",
        "    # удаление знаков ударения и прочих символов unicode\n",
        "    def unicodeToAscii(self, s):\n",
        "        tmp = []\n",
        "        for c in unicodedata.normalize('NFD', s):\n",
        "            if unicodedata.category(c) != 'Mn':\n",
        "                tmp.append(c)\n",
        "            else:\n",
        "                self.addReplacedSymbol(c)\n",
        "        return ''.join(tmp)\n",
        "\n",
        "    # если нужно удалить, то заменяем на пробел чтоб не потерят разделения слов\n",
        "    def replaceChar(self, s):\n",
        "        tmp = []\n",
        "        for i, c in enumerate(s):\n",
        "            if self.char_to_remove.__contains__(c):\n",
        "                self.addReplacedSymbol(c, s[i])\n",
        "                tmp.append(' ')\n",
        "            else:\n",
        "                tmp.append(c)\n",
        "        s = \"\".join(tmp)\n",
        "\n",
        "        for s_from, s_to in self.char_to_replace:\n",
        "            if c == s_from:\n",
        "                s[i] = s_to\n",
        "                self.addReplacedSymbol(s_from, s_to)\n",
        "        return s\n",
        "\n",
        "    # удаляем лишние пробелы\n",
        "    def trimSpaces(self, s):\n",
        "        while s.__contains__('  '):\n",
        "            s = s.replace('  ', ' ')\n",
        "        s = s.strip()\n",
        "        return s\n",
        "\n",
        "    # удаляем слва из stopwords\n",
        "    def removeStopWords(self, s):\n",
        "        tmp = []\n",
        "        for word in word_tokenize(s):\n",
        "            if word not in self.stop_words:\n",
        "                tmp.append(word)\n",
        "            else:\n",
        "                self.addRemovedWord(word)\n",
        "        return \" \".join(tmp)\n",
        "\n",
        "    # удаляем слва из stopwords\n",
        "    def StemmWords(self, s):\n",
        "        tmp = []\n",
        "        for word in word_tokenize(s):\n",
        "            wordStemmed = self.stemmer.stem(word)\n",
        "            tmp.append(wordStemmed)\n",
        "            if word != wordStemmed:\n",
        "                self.addReplacedWord(word, wordStemmed)\n",
        "        return \" \".join(tmp)\n",
        "\n",
        "    # основная функция для процессинга\n",
        "    def clean(self, df, column, level):\n",
        "        for i in range(len(df)):\n",
        "            # L1 удаляем только юникод\n",
        "            if level > 0:\n",
        "                df[column][i] = self.unicodeToAscii(df[column][i])\n",
        "            # L2 переводим в нижний регистр\n",
        "            if level > 1:\n",
        "                df[column][i] = df[column][i].lower()\n",
        "            # L3 удаляем символы пунктуации и тд\n",
        "            if level > 2:\n",
        "                df[column][i] = self.replaceChar(df[column][i])\n",
        "            # L4 удаляем стоп слова\n",
        "            if level > 3:\n",
        "                df[column][i] = self.removeStopWords(df[column][i])\n",
        "            # L5 леммитизация\n",
        "            if level > 4:\n",
        "                df[column][i] = self.StemmWords(df[column][i])\n",
        "            \n",
        "            # удаляем пробелы\n",
        "            df[column][i] = self.trimSpaces(df[column][i])\n",
        "        return df\n",
        "\n",
        "    # прокси для выключения вывода на экран summary\n",
        "    def print(self, vals):\n",
        "        if self.flag_verbose == True:\n",
        "            print(vals)\n",
        "\n",
        "    # прокси для выключения вывода на экран summary\n",
        "    def display(self, vals):\n",
        "            if self.flag_verbose == True:\n",
        "                display(vals)\n",
        "\n",
        "    # сбор лога в dataframe, опциональный вывод на экран \n",
        "    def summary(self, verbose = True):\n",
        "        self.flag_verbose = verbose\n",
        "        dfs = dict()\n",
        "\n",
        "        if len(self.count_removed_symbols) > 0:\n",
        "            cols = [\"symbol\", \"count_removed\"]\n",
        "            dfRemoved = pd.DataFrame(columns=cols)\n",
        "            self.print(\"===================================\")\n",
        "            self.print(\"===        Removed Chars        ===\")\n",
        "            self.print(\"===================================\")\n",
        "            for c in self.count_removed_symbols:\n",
        "                current_df = pd.DataFrame([[c, self.count_removed_symbols[c]]], columns=cols) \n",
        "                dfRemoved = pd.concat([dfRemoved, current_df], ignore_index=True)\n",
        "            self.display(dfRemoved)\n",
        "            dfs['Removed Chars'] = dfRemoved\n",
        "\n",
        "                \n",
        "        if len(self.count_removed_words) > 0:\n",
        "            cols = [\"word\", \"count_removed\"]\n",
        "            dfRemoved = pd.DataFrame(columns=cols)\n",
        "            self.print(\"===================================\")\n",
        "            self.print(\"===        Removed Words        ===\")\n",
        "            self.print(\"===================================\")\n",
        "            for c in self.count_removed_words:\n",
        "                current_df = pd.DataFrame([[c, self.count_removed_words[c]]], columns=cols) \n",
        "                dfRemoved = pd.concat([dfRemoved, current_df], ignore_index=True)\n",
        "            self.display(dfRemoved)\n",
        "            dfs['Removed Words'] = dfRemoved\n",
        "\n",
        "                \n",
        "        if len(self.dict_replaced_symbols) > 0:\n",
        "            cols = [\"symbol_from\", \"symbol_to\", \"count_replaced\"]\n",
        "            dfRemoved = pd.DataFrame(columns=cols)\n",
        "            self.print(\"===================================\")\n",
        "            self.print(\"===        Replaced Chars       ===\")\n",
        "            self.print(\"===================================\")\n",
        "            for c in self.dict_replaced_symbols:\n",
        "                current_df = pd.DataFrame([[ c, self.dict_replaced_symbols[c], self.count_replaced_symbols[c]]], columns=cols) \n",
        "                dfRemoved = pd.concat([dfRemoved, current_df], ignore_index=True)\n",
        "            self.display(dfRemoved)\n",
        "            dfs['Replaced Chars'] = dfRemoved\n",
        "\n",
        "                \n",
        "        if len(self.dict_replaced_words) > 0:\n",
        "            cols = [\"word_from\", \"word_to\", \"count_replaced\"]\n",
        "            dfRemoved = pd.DataFrame(columns=cols)\n",
        "            self.print(\"===================================\")\n",
        "            self.print(\"===        Stemmed Words        ===\")\n",
        "            self.print(\"===================================\")\n",
        "            for c in self.dict_replaced_words:\n",
        "                current_df = pd.DataFrame([[ c, self.dict_replaced_words[c], self.count_replaced_words[c]]], columns=cols) \n",
        "                dfRemoved = pd.concat([dfRemoved, current_df], ignore_index=True)\n",
        "            self.display(dfRemoved)\n",
        "            dfs['Stemmed Words'] = dfRemoved\n",
        "\n",
        "        return dfs"
      ]
    },
    {
      "cell_type": "code",
      "execution_count": null,
      "metadata": {},
      "outputs": [],
      "source": [
        "df_train = loadJSONL(fileNameData(trainPartNameRaw))\n",
        "df_validation = loadJSONL(fileNameData(validatePartNameRaw))\n",
        "df_test = loadJSONL(fileNameData(testPartNameRaw))\n",
        "\n",
        "cleanLog = dict()\n",
        "for iL in range(1, 6):\n",
        "    cleaner = DataCleaner()\n",
        "\n",
        "    df_train = cleaner.clean(df_train, 'passage', iL)\n",
        "    df_test = cleaner.clean(df_test, 'passage', iL)\n",
        "    df_validation = cleaner.clean(df_validation, 'passage', iL)\n",
        "    df_train = cleaner.clean(df_train, 'question', iL)\n",
        "    df_test = cleaner.clean(df_test, 'question', iL)\n",
        "    df_validation = cleaner.clean(df_validation, 'question', iL)\n",
        "\n",
        "    cleanLog[iL] = cleaner.summary(False)\n",
        "    df_train.to_json(fileNameData(f\"train_L{iL}\"), lines=True, orient='records')\n",
        "    df_test.to_json(fileNameData(f\"test_L{iL}\"), lines=True, orient='records')\n",
        "    df_validation.to_json(fileNameData(f\"val_L{iL}\"), lines=True, orient='records')"
      ]
    },
    {
      "cell_type": "code",
      "execution_count": 74,
      "metadata": {},
      "outputs": [],
      "source": [
        "# сохраняем таблицы с изменениями в файл для последующей визуализации\n",
        "torch.save(cleanLog,\"cleanLog.pt\")"
      ]
    },
    {
      "cell_type": "markdown",
      "metadata": {},
      "source": [
        "## Примеры данных"
      ]
    },
    {
      "cell_type": "markdown",
      "metadata": {},
      "source": [
        "### L0: исходные данные"
      ]
    },
    {
      "cell_type": "code",
      "execution_count": 25,
      "metadata": {},
      "outputs": [
        {
          "name": "stdout",
          "output_type": "stream",
          "text": [
            "Train set\n"
          ]
        },
        {
          "data": {
            "text/html": [
              "<div>\n",
              "<style scoped>\n",
              "    .dataframe tbody tr th:only-of-type {\n",
              "        vertical-align: middle;\n",
              "    }\n",
              "\n",
              "    .dataframe tbody tr th {\n",
              "        vertical-align: top;\n",
              "    }\n",
              "\n",
              "    .dataframe thead th {\n",
              "        text-align: right;\n",
              "    }\n",
              "</style>\n",
              "<table border=\"1\" class=\"dataframe\">\n",
              "  <thead>\n",
              "    <tr style=\"text-align: right;\">\n",
              "      <th></th>\n",
              "      <th>question</th>\n",
              "      <th>passage</th>\n",
              "      <th>label</th>\n",
              "      <th>idx</th>\n",
              "    </tr>\n",
              "  </thead>\n",
              "  <tbody>\n",
              "    <tr>\n",
              "      <th>0</th>\n",
              "      <td>Вднх - это выставочный центр?</td>\n",
              "      <td>«Вы́ставочный центр» — станция Московского монорельса. Расположена между станциями «Улица Академика Королёва» и «Улица Сергея Эйзенштейна». Находится на территории Останкинского района Северо-Восточного административного округа города Москвы. Переход на станцию  ВДНХ Калужско-Рижской линии. Названа в честь Всероссийского выставочного центра — названия ВДНХ с 1992 по 2014 год. 20 ноября 2004 года линия монорельса начала работать в «экскурсионном режиме» и перевезла первых пассажиров .</td>\n",
              "      <td>True</td>\n",
              "      <td>0</td>\n",
              "    </tr>\n",
              "    <tr>\n",
              "      <th>1</th>\n",
              "      <td>Вднх - это выставочный центр?</td>\n",
              "      <td>Вы́ставка достиже́ний наро́дного хозя́йства  , в 1959—1991 годах — Вы́ставка достиже́ний наро́дного хозя́йства СССР , в 1992—2014 годах — Всеросси́йский вы́ставочный центр ) — выставочный комплекс в Останкинском районе Северо-Восточного административного округа города Москвы, второй по величине выставочный комплекс в городе. Входит в 50 крупнейших выставочных центров мира. Ежегодно ВДНХ посещают 30 млн гостей. 1 августа 2019 года выставка отпраздновала 80-летний юбилей. Территориально ВДНХ объединена с парком «Останкино» и Главным ботаническим садом , их общая площадь составляет почти 700 га: 240,2 га — площадь ВДНХ, 75,6 га — площадь парка «Останкино», 361 га — площадь ГБС, 9,5 га музейно-выставочный центр «Рабочий и колхозница» и площадь перед аркой Главного входа. На территории Выставки расположено множество шедевров архитектуры — 49 объектов ВДНХ признаны памятниками культурного наследия.</td>\n",
              "      <td>True</td>\n",
              "      <td>1</td>\n",
              "    </tr>\n",
              "    <tr>\n",
              "      <th>2</th>\n",
              "      <td>Был ли джиган в black star?</td>\n",
              "      <td>Вместе с этим треком они выступили на церемонии вручения наград MTV RMA — это был первый выход Джигана на большую сцену. В 2007 году Джиган стал официальным артистом лейбла Black Star Inc., выпустил первый песню и клип «Одноклассница» — совместная работа с Тимати. В марте 2011 года появилась совместная с Юлей Савичевой композиция «Отпусти». Песня поднялась в радиочарте «Tophit» до 8 места и заняла первое место чарта Weekly Audience Choice Top Hit . Количество просмотров клипа на YouTube превысило 17 миллионов.</td>\n",
              "      <td>True</td>\n",
              "      <td>2</td>\n",
              "    </tr>\n",
              "    <tr>\n",
              "      <th>3</th>\n",
              "      <td>Xiaomi конкурент apple?</td>\n",
              "      <td>Xiaomi — китайская компания, основанная в 2010 году и занимающаяся выпуском электроники и бытовой техники, а также разработкой программного обеспечения. Основной продукцией компании являются смартфоны, первый из которых был выпущен в 2011 году. В настоящее время Xiaomi производит широкий ассортимент смартфонов в разных ценовых сегментах и является одним из крупнейших производителей смартфонов в мире. Так, в третьем квартале 2014 года эта компания заняла наивысшее для себя третье место в мире по поставкам смартфонов, набрав 5,2 % в штучном выражении и уступив лишь Samsung и Apple . За весь 2017 год компания заняла по продажам первое место в Китае и второе место в Индии. В данном списке приводятся все смартфоны, когда-либо выпущенные компанией Xiaomi.</td>\n",
              "      <td>True</td>\n",
              "      <td>3</td>\n",
              "    </tr>\n",
              "    <tr>\n",
              "      <th>4</th>\n",
              "      <td>Был ли автомат калашникова в вов?</td>\n",
              "      <td>Отметив некоторые недостатки и в целом удачную конструкцию, специалисты ГАУ не рекомендовали принимать ПП Калашникова на вооружение по технологическим причинам. Заключение гласило: С 1942 года Калашников работал на Центральном научно-исследовательском полигоне стрелкового и миномётного вооружения ГАУ РККА. Здесь в 1944 году он создал опытный образец самозарядного карабина, который, хотя и не вышел в серийное производство, частично послужил прототипом для создания автомата. С 1945 года Михаил Калашников начал разработку автоматического оружия под промежуточный патрон 7,62×39 образца 1943 года. Автомат Калашникова победил в конкурсе 1947 года и был принят на вооружение.</td>\n",
              "      <td>False</td>\n",
              "      <td>4</td>\n",
              "    </tr>\n",
              "  </tbody>\n",
              "</table>\n",
              "</div>"
            ],
            "text/plain": [
              "                            question  \\\n",
              "0  Вднх - это выставочный центр?       \n",
              "1  Вднх - это выставочный центр?       \n",
              "2  Был ли джиган в black star?         \n",
              "3  Xiaomi конкурент apple?             \n",
              "4  Был ли автомат калашникова в вов?   \n",
              "\n",
              "                                                                                                                                                                                                                                                                                                                                                                                                                                                                                                                                                                                                                                                                                                                                                                                                                                                                                                                                     passage  \\\n",
              "0  «Вы́ставочный центр» — станция Московского монорельса. Расположена между станциями «Улица Академика Королёва» и «Улица Сергея Эйзенштейна». Находится на территории Останкинского района Северо-Восточного административного округа города Москвы. Переход на станцию  ВДНХ Калужско-Рижской линии. Названа в честь Всероссийского выставочного центра — названия ВДНХ с 1992 по 2014 год. 20 ноября 2004 года линия монорельса начала работать в «экскурсионном режиме» и перевезла первых пассажиров .                                                                                                                                                                                                                                                                                                                                                                                                                                    \n",
              "1  Вы́ставка достиже́ний наро́дного хозя́йства  , в 1959—1991 годах — Вы́ставка достиже́ний наро́дного хозя́йства СССР , в 1992—2014 годах — Всеросси́йский вы́ставочный центр ) — выставочный комплекс в Останкинском районе Северо-Восточного административного округа города Москвы, второй по величине выставочный комплекс в городе. Входит в 50 крупнейших выставочных центров мира. Ежегодно ВДНХ посещают 30 млн гостей. 1 августа 2019 года выставка отпраздновала 80-летний юбилей. Территориально ВДНХ объединена с парком «Останкино» и Главным ботаническим садом , их общая площадь составляет почти 700 га: 240,2 га — площадь ВДНХ, 75,6 га — площадь парка «Останкино», 361 га — площадь ГБС, 9,5 га музейно-выставочный центр «Рабочий и колхозница» и площадь перед аркой Главного входа. На территории Выставки расположено множество шедевров архитектуры — 49 объектов ВДНХ признаны памятниками культурного наследия.   \n",
              "2  Вместе с этим треком они выступили на церемонии вручения наград MTV RMA — это был первый выход Джигана на большую сцену. В 2007 году Джиган стал официальным артистом лейбла Black Star Inc., выпустил первый песню и клип «Одноклассница» — совместная работа с Тимати. В марте 2011 года появилась совместная с Юлей Савичевой композиция «Отпусти». Песня поднялась в радиочарте «Tophit» до 8 места и заняла первое место чарта Weekly Audience Choice Top Hit . Количество просмотров клипа на YouTube превысило 17 миллионов.                                                                                                                                                                                                                                                                                                                                                                                                         \n",
              "3  Xiaomi — китайская компания, основанная в 2010 году и занимающаяся выпуском электроники и бытовой техники, а также разработкой программного обеспечения. Основной продукцией компании являются смартфоны, первый из которых был выпущен в 2011 году. В настоящее время Xiaomi производит широкий ассортимент смартфонов в разных ценовых сегментах и является одним из крупнейших производителей смартфонов в мире. Так, в третьем квартале 2014 года эта компания заняла наивысшее для себя третье место в мире по поставкам смартфонов, набрав 5,2 % в штучном выражении и уступив лишь Samsung и Apple . За весь 2017 год компания заняла по продажам первое место в Китае и второе место в Индии. В данном списке приводятся все смартфоны, когда-либо выпущенные компанией Xiaomi.                                                                                                                                                     \n",
              "4  Отметив некоторые недостатки и в целом удачную конструкцию, специалисты ГАУ не рекомендовали принимать ПП Калашникова на вооружение по технологическим причинам. Заключение гласило: С 1942 года Калашников работал на Центральном научно-исследовательском полигоне стрелкового и миномётного вооружения ГАУ РККА. Здесь в 1944 году он создал опытный образец самозарядного карабина, который, хотя и не вышел в серийное производство, частично послужил прототипом для создания автомата. С 1945 года Михаил Калашников начал разработку автоматического оружия под промежуточный патрон 7,62×39 образца 1943 года. Автомат Калашникова победил в конкурсе 1947 года и был принят на вооружение.                                                                                                                                                                                                                                        \n",
              "\n",
              "   label  idx  \n",
              "0  True   0    \n",
              "1  True   1    \n",
              "2  True   2    \n",
              "3  True   3    \n",
              "4  False  4    "
            ]
          },
          "metadata": {},
          "output_type": "display_data"
        },
        {
          "name": "stdout",
          "output_type": "stream",
          "text": [
            "Stats:\n"
          ]
        },
        {
          "data": {
            "text/html": [
              "<div>\n",
              "<style scoped>\n",
              "    .dataframe tbody tr th:only-of-type {\n",
              "        vertical-align: middle;\n",
              "    }\n",
              "\n",
              "    .dataframe tbody tr th {\n",
              "        vertical-align: top;\n",
              "    }\n",
              "\n",
              "    .dataframe thead th {\n",
              "        text-align: right;\n",
              "    }\n",
              "</style>\n",
              "<table border=\"1\" class=\"dataframe\">\n",
              "  <thead>\n",
              "    <tr style=\"text-align: right;\">\n",
              "      <th></th>\n",
              "      <th>label</th>\n",
              "      <th>MIN</th>\n",
              "      <th>MAX</th>\n",
              "      <th>MEAN</th>\n",
              "    </tr>\n",
              "  </thead>\n",
              "  <tbody>\n",
              "    <tr>\n",
              "      <th>0</th>\n",
              "      <td>question(symbols)</td>\n",
              "      <td>14</td>\n",
              "      <td>182</td>\n",
              "      <td>41</td>\n",
              "    </tr>\n",
              "    <tr>\n",
              "      <th>1</th>\n",
              "      <td>question(words)</td>\n",
              "      <td>3</td>\n",
              "      <td>30</td>\n",
              "      <td>7</td>\n",
              "    </tr>\n",
              "    <tr>\n",
              "      <th>2</th>\n",
              "      <td>passage(symbols)</td>\n",
              "      <td>294</td>\n",
              "      <td>3200</td>\n",
              "      <td>723</td>\n",
              "    </tr>\n",
              "    <tr>\n",
              "      <th>3</th>\n",
              "      <td>passage(words)</td>\n",
              "      <td>48</td>\n",
              "      <td>587</td>\n",
              "      <td>115</td>\n",
              "    </tr>\n",
              "  </tbody>\n",
              "</table>\n",
              "</div>"
            ],
            "text/plain": [
              "               label  MIN   MAX  MEAN\n",
              "0  question(symbols)  14   182   41  \n",
              "1  question(words)    3    30    7   \n",
              "2  passage(symbols)   294  3200  723 \n",
              "3  passage(words)     48   587   115 "
            ]
          },
          "metadata": {},
          "output_type": "display_data"
        },
        {
          "name": "stdout",
          "output_type": "stream",
          "text": [
            "True answer: 1061\n",
            "False answer: 688\n",
            "\n",
            "Validation set\n"
          ]
        },
        {
          "data": {
            "text/html": [
              "<div>\n",
              "<style scoped>\n",
              "    .dataframe tbody tr th:only-of-type {\n",
              "        vertical-align: middle;\n",
              "    }\n",
              "\n",
              "    .dataframe tbody tr th {\n",
              "        vertical-align: top;\n",
              "    }\n",
              "\n",
              "    .dataframe thead th {\n",
              "        text-align: right;\n",
              "    }\n",
              "</style>\n",
              "<table border=\"1\" class=\"dataframe\">\n",
              "  <thead>\n",
              "    <tr style=\"text-align: right;\">\n",
              "      <th></th>\n",
              "      <th>question</th>\n",
              "      <th>passage</th>\n",
              "      <th>label</th>\n",
              "      <th>idx</th>\n",
              "    </tr>\n",
              "  </thead>\n",
              "  <tbody>\n",
              "    <tr>\n",
              "      <th>0</th>\n",
              "      <td>Вднх - это выставочный центр?</td>\n",
              "      <td>«Вы́ставочный центр» — станция Московского монорельса. Расположена между станциями «Улица Академика Королёва» и «Улица Сергея Эйзенштейна». Находится на территории Останкинского района Северо-Восточного административного округа города Москвы. Переход на станцию  ВДНХ Калужско-Рижской линии. Названа в честь Всероссийского выставочного центра — названия ВДНХ с 1992 по 2014 год. 20 ноября 2004 года линия монорельса начала работать в «экскурсионном режиме» и перевезла первых пассажиров .</td>\n",
              "      <td>True</td>\n",
              "      <td>0</td>\n",
              "    </tr>\n",
              "    <tr>\n",
              "      <th>1</th>\n",
              "      <td>Вднх - это выставочный центр?</td>\n",
              "      <td>Вы́ставка достиже́ний наро́дного хозя́йства  , в 1959—1991 годах — Вы́ставка достиже́ний наро́дного хозя́йства СССР , в 1992—2014 годах — Всеросси́йский вы́ставочный центр ) — выставочный комплекс в Останкинском районе Северо-Восточного административного округа города Москвы, второй по величине выставочный комплекс в городе. Входит в 50 крупнейших выставочных центров мира. Ежегодно ВДНХ посещают 30 млн гостей. 1 августа 2019 года выставка отпраздновала 80-летний юбилей. Территориально ВДНХ объединена с парком «Останкино» и Главным ботаническим садом , их общая площадь составляет почти 700 га: 240,2 га — площадь ВДНХ, 75,6 га — площадь парка «Останкино», 361 га — площадь ГБС, 9,5 га музейно-выставочный центр «Рабочий и колхозница» и площадь перед аркой Главного входа. На территории Выставки расположено множество шедевров архитектуры — 49 объектов ВДНХ признаны памятниками культурного наследия.</td>\n",
              "      <td>True</td>\n",
              "      <td>1</td>\n",
              "    </tr>\n",
              "    <tr>\n",
              "      <th>2</th>\n",
              "      <td>Был ли джиган в black star?</td>\n",
              "      <td>Вместе с этим треком они выступили на церемонии вручения наград MTV RMA — это был первый выход Джигана на большую сцену. В 2007 году Джиган стал официальным артистом лейбла Black Star Inc., выпустил первый песню и клип «Одноклассница» — совместная работа с Тимати. В марте 2011 года появилась совместная с Юлей Савичевой композиция «Отпусти». Песня поднялась в радиочарте «Tophit» до 8 места и заняла первое место чарта Weekly Audience Choice Top Hit . Количество просмотров клипа на YouTube превысило 17 миллионов.</td>\n",
              "      <td>True</td>\n",
              "      <td>2</td>\n",
              "    </tr>\n",
              "    <tr>\n",
              "      <th>3</th>\n",
              "      <td>Xiaomi конкурент apple?</td>\n",
              "      <td>Xiaomi — китайская компания, основанная в 2010 году и занимающаяся выпуском электроники и бытовой техники, а также разработкой программного обеспечения. Основной продукцией компании являются смартфоны, первый из которых был выпущен в 2011 году. В настоящее время Xiaomi производит широкий ассортимент смартфонов в разных ценовых сегментах и является одним из крупнейших производителей смартфонов в мире. Так, в третьем квартале 2014 года эта компания заняла наивысшее для себя третье место в мире по поставкам смартфонов, набрав 5,2 % в штучном выражении и уступив лишь Samsung и Apple . За весь 2017 год компания заняла по продажам первое место в Китае и второе место в Индии. В данном списке приводятся все смартфоны, когда-либо выпущенные компанией Xiaomi.</td>\n",
              "      <td>True</td>\n",
              "      <td>3</td>\n",
              "    </tr>\n",
              "    <tr>\n",
              "      <th>4</th>\n",
              "      <td>Был ли автомат калашникова в вов?</td>\n",
              "      <td>Отметив некоторые недостатки и в целом удачную конструкцию, специалисты ГАУ не рекомендовали принимать ПП Калашникова на вооружение по технологическим причинам. Заключение гласило: С 1942 года Калашников работал на Центральном научно-исследовательском полигоне стрелкового и миномётного вооружения ГАУ РККА. Здесь в 1944 году он создал опытный образец самозарядного карабина, который, хотя и не вышел в серийное производство, частично послужил прототипом для создания автомата. С 1945 года Михаил Калашников начал разработку автоматического оружия под промежуточный патрон 7,62×39 образца 1943 года. Автомат Калашникова победил в конкурсе 1947 года и был принят на вооружение.</td>\n",
              "      <td>False</td>\n",
              "      <td>4</td>\n",
              "    </tr>\n",
              "  </tbody>\n",
              "</table>\n",
              "</div>"
            ],
            "text/plain": [
              "                            question  \\\n",
              "0  Вднх - это выставочный центр?       \n",
              "1  Вднх - это выставочный центр?       \n",
              "2  Был ли джиган в black star?         \n",
              "3  Xiaomi конкурент apple?             \n",
              "4  Был ли автомат калашникова в вов?   \n",
              "\n",
              "                                                                                                                                                                                                                                                                                                                                                                                                                                                                                                                                                                                                                                                                                                                                                                                                                                                                                                                                     passage  \\\n",
              "0  «Вы́ставочный центр» — станция Московского монорельса. Расположена между станциями «Улица Академика Королёва» и «Улица Сергея Эйзенштейна». Находится на территории Останкинского района Северо-Восточного административного округа города Москвы. Переход на станцию  ВДНХ Калужско-Рижской линии. Названа в честь Всероссийского выставочного центра — названия ВДНХ с 1992 по 2014 год. 20 ноября 2004 года линия монорельса начала работать в «экскурсионном режиме» и перевезла первых пассажиров .                                                                                                                                                                                                                                                                                                                                                                                                                                    \n",
              "1  Вы́ставка достиже́ний наро́дного хозя́йства  , в 1959—1991 годах — Вы́ставка достиже́ний наро́дного хозя́йства СССР , в 1992—2014 годах — Всеросси́йский вы́ставочный центр ) — выставочный комплекс в Останкинском районе Северо-Восточного административного округа города Москвы, второй по величине выставочный комплекс в городе. Входит в 50 крупнейших выставочных центров мира. Ежегодно ВДНХ посещают 30 млн гостей. 1 августа 2019 года выставка отпраздновала 80-летний юбилей. Территориально ВДНХ объединена с парком «Останкино» и Главным ботаническим садом , их общая площадь составляет почти 700 га: 240,2 га — площадь ВДНХ, 75,6 га — площадь парка «Останкино», 361 га — площадь ГБС, 9,5 га музейно-выставочный центр «Рабочий и колхозница» и площадь перед аркой Главного входа. На территории Выставки расположено множество шедевров архитектуры — 49 объектов ВДНХ признаны памятниками культурного наследия.   \n",
              "2  Вместе с этим треком они выступили на церемонии вручения наград MTV RMA — это был первый выход Джигана на большую сцену. В 2007 году Джиган стал официальным артистом лейбла Black Star Inc., выпустил первый песню и клип «Одноклассница» — совместная работа с Тимати. В марте 2011 года появилась совместная с Юлей Савичевой композиция «Отпусти». Песня поднялась в радиочарте «Tophit» до 8 места и заняла первое место чарта Weekly Audience Choice Top Hit . Количество просмотров клипа на YouTube превысило 17 миллионов.                                                                                                                                                                                                                                                                                                                                                                                                         \n",
              "3  Xiaomi — китайская компания, основанная в 2010 году и занимающаяся выпуском электроники и бытовой техники, а также разработкой программного обеспечения. Основной продукцией компании являются смартфоны, первый из которых был выпущен в 2011 году. В настоящее время Xiaomi производит широкий ассортимент смартфонов в разных ценовых сегментах и является одним из крупнейших производителей смартфонов в мире. Так, в третьем квартале 2014 года эта компания заняла наивысшее для себя третье место в мире по поставкам смартфонов, набрав 5,2 % в штучном выражении и уступив лишь Samsung и Apple . За весь 2017 год компания заняла по продажам первое место в Китае и второе место в Индии. В данном списке приводятся все смартфоны, когда-либо выпущенные компанией Xiaomi.                                                                                                                                                     \n",
              "4  Отметив некоторые недостатки и в целом удачную конструкцию, специалисты ГАУ не рекомендовали принимать ПП Калашникова на вооружение по технологическим причинам. Заключение гласило: С 1942 года Калашников работал на Центральном научно-исследовательском полигоне стрелкового и миномётного вооружения ГАУ РККА. Здесь в 1944 году он создал опытный образец самозарядного карабина, который, хотя и не вышел в серийное производство, частично послужил прототипом для создания автомата. С 1945 года Михаил Калашников начал разработку автоматического оружия под промежуточный патрон 7,62×39 образца 1943 года. Автомат Калашникова победил в конкурсе 1947 года и был принят на вооружение.                                                                                                                                                                                                                                        \n",
              "\n",
              "   label  idx  \n",
              "0  True   0    \n",
              "1  True   1    \n",
              "2  True   2    \n",
              "3  True   3    \n",
              "4  False  4    "
            ]
          },
          "metadata": {},
          "output_type": "display_data"
        },
        {
          "name": "stdout",
          "output_type": "stream",
          "text": [
            "Stats:\n"
          ]
        },
        {
          "data": {
            "text/html": [
              "<div>\n",
              "<style scoped>\n",
              "    .dataframe tbody tr th:only-of-type {\n",
              "        vertical-align: middle;\n",
              "    }\n",
              "\n",
              "    .dataframe tbody tr th {\n",
              "        vertical-align: top;\n",
              "    }\n",
              "\n",
              "    .dataframe thead th {\n",
              "        text-align: right;\n",
              "    }\n",
              "</style>\n",
              "<table border=\"1\" class=\"dataframe\">\n",
              "  <thead>\n",
              "    <tr style=\"text-align: right;\">\n",
              "      <th></th>\n",
              "      <th>label</th>\n",
              "      <th>MIN</th>\n",
              "      <th>MAX</th>\n",
              "      <th>MEAN</th>\n",
              "    </tr>\n",
              "  </thead>\n",
              "  <tbody>\n",
              "    <tr>\n",
              "      <th>0</th>\n",
              "      <td>question(symbols)</td>\n",
              "      <td>14</td>\n",
              "      <td>182</td>\n",
              "      <td>41</td>\n",
              "    </tr>\n",
              "    <tr>\n",
              "      <th>1</th>\n",
              "      <td>question(words)</td>\n",
              "      <td>3</td>\n",
              "      <td>30</td>\n",
              "      <td>7</td>\n",
              "    </tr>\n",
              "    <tr>\n",
              "      <th>2</th>\n",
              "      <td>passage(symbols)</td>\n",
              "      <td>294</td>\n",
              "      <td>3200</td>\n",
              "      <td>723</td>\n",
              "    </tr>\n",
              "    <tr>\n",
              "      <th>3</th>\n",
              "      <td>passage(words)</td>\n",
              "      <td>48</td>\n",
              "      <td>587</td>\n",
              "      <td>115</td>\n",
              "    </tr>\n",
              "  </tbody>\n",
              "</table>\n",
              "</div>"
            ],
            "text/plain": [
              "               label  MIN   MAX  MEAN\n",
              "0  question(symbols)  14   182   41  \n",
              "1  question(words)    3    30    7   \n",
              "2  passage(symbols)   294  3200  723 \n",
              "3  passage(words)     48   587   115 "
            ]
          },
          "metadata": {},
          "output_type": "display_data"
        },
        {
          "name": "stdout",
          "output_type": "stream",
          "text": [
            "True answer: 1061\n",
            "False answer: 688\n",
            "\n",
            "Test set:\n"
          ]
        },
        {
          "data": {
            "text/html": [
              "<div>\n",
              "<style scoped>\n",
              "    .dataframe tbody tr th:only-of-type {\n",
              "        vertical-align: middle;\n",
              "    }\n",
              "\n",
              "    .dataframe tbody tr th {\n",
              "        vertical-align: top;\n",
              "    }\n",
              "\n",
              "    .dataframe thead th {\n",
              "        text-align: right;\n",
              "    }\n",
              "</style>\n",
              "<table border=\"1\" class=\"dataframe\">\n",
              "  <thead>\n",
              "    <tr style=\"text-align: right;\">\n",
              "      <th></th>\n",
              "      <th>question</th>\n",
              "      <th>passage</th>\n",
              "      <th>label</th>\n",
              "      <th>idx</th>\n",
              "    </tr>\n",
              "  </thead>\n",
              "  <tbody>\n",
              "    <tr>\n",
              "      <th>0</th>\n",
              "      <td>Вднх - это выставочный центр?</td>\n",
              "      <td>«Вы́ставочный центр» — станция Московского монорельса. Расположена между станциями «Улица Академика Королёва» и «Улица Сергея Эйзенштейна». Находится на территории Останкинского района Северо-Восточного административного округа города Москвы. Переход на станцию  ВДНХ Калужско-Рижской линии. Названа в честь Всероссийского выставочного центра — названия ВДНХ с 1992 по 2014 год. 20 ноября 2004 года линия монорельса начала работать в «экскурсионном режиме» и перевезла первых пассажиров .</td>\n",
              "      <td>True</td>\n",
              "      <td>0</td>\n",
              "    </tr>\n",
              "    <tr>\n",
              "      <th>1</th>\n",
              "      <td>Вднх - это выставочный центр?</td>\n",
              "      <td>Вы́ставка достиже́ний наро́дного хозя́йства  , в 1959—1991 годах — Вы́ставка достиже́ний наро́дного хозя́йства СССР , в 1992—2014 годах — Всеросси́йский вы́ставочный центр ) — выставочный комплекс в Останкинском районе Северо-Восточного административного округа города Москвы, второй по величине выставочный комплекс в городе. Входит в 50 крупнейших выставочных центров мира. Ежегодно ВДНХ посещают 30 млн гостей. 1 августа 2019 года выставка отпраздновала 80-летний юбилей. Территориально ВДНХ объединена с парком «Останкино» и Главным ботаническим садом , их общая площадь составляет почти 700 га: 240,2 га — площадь ВДНХ, 75,6 га — площадь парка «Останкино», 361 га — площадь ГБС, 9,5 га музейно-выставочный центр «Рабочий и колхозница» и площадь перед аркой Главного входа. На территории Выставки расположено множество шедевров архитектуры — 49 объектов ВДНХ признаны памятниками культурного наследия.</td>\n",
              "      <td>True</td>\n",
              "      <td>1</td>\n",
              "    </tr>\n",
              "    <tr>\n",
              "      <th>2</th>\n",
              "      <td>Был ли джиган в black star?</td>\n",
              "      <td>Вместе с этим треком они выступили на церемонии вручения наград MTV RMA — это был первый выход Джигана на большую сцену. В 2007 году Джиган стал официальным артистом лейбла Black Star Inc., выпустил первый песню и клип «Одноклассница» — совместная работа с Тимати. В марте 2011 года появилась совместная с Юлей Савичевой композиция «Отпусти». Песня поднялась в радиочарте «Tophit» до 8 места и заняла первое место чарта Weekly Audience Choice Top Hit . Количество просмотров клипа на YouTube превысило 17 миллионов.</td>\n",
              "      <td>True</td>\n",
              "      <td>2</td>\n",
              "    </tr>\n",
              "    <tr>\n",
              "      <th>3</th>\n",
              "      <td>Xiaomi конкурент apple?</td>\n",
              "      <td>Xiaomi — китайская компания, основанная в 2010 году и занимающаяся выпуском электроники и бытовой техники, а также разработкой программного обеспечения. Основной продукцией компании являются смартфоны, первый из которых был выпущен в 2011 году. В настоящее время Xiaomi производит широкий ассортимент смартфонов в разных ценовых сегментах и является одним из крупнейших производителей смартфонов в мире. Так, в третьем квартале 2014 года эта компания заняла наивысшее для себя третье место в мире по поставкам смартфонов, набрав 5,2 % в штучном выражении и уступив лишь Samsung и Apple . За весь 2017 год компания заняла по продажам первое место в Китае и второе место в Индии. В данном списке приводятся все смартфоны, когда-либо выпущенные компанией Xiaomi.</td>\n",
              "      <td>True</td>\n",
              "      <td>3</td>\n",
              "    </tr>\n",
              "    <tr>\n",
              "      <th>4</th>\n",
              "      <td>Был ли автомат калашникова в вов?</td>\n",
              "      <td>Отметив некоторые недостатки и в целом удачную конструкцию, специалисты ГАУ не рекомендовали принимать ПП Калашникова на вооружение по технологическим причинам. Заключение гласило: С 1942 года Калашников работал на Центральном научно-исследовательском полигоне стрелкового и миномётного вооружения ГАУ РККА. Здесь в 1944 году он создал опытный образец самозарядного карабина, который, хотя и не вышел в серийное производство, частично послужил прототипом для создания автомата. С 1945 года Михаил Калашников начал разработку автоматического оружия под промежуточный патрон 7,62×39 образца 1943 года. Автомат Калашникова победил в конкурсе 1947 года и был принят на вооружение.</td>\n",
              "      <td>False</td>\n",
              "      <td>4</td>\n",
              "    </tr>\n",
              "  </tbody>\n",
              "</table>\n",
              "</div>"
            ],
            "text/plain": [
              "                            question  \\\n",
              "0  Вднх - это выставочный центр?       \n",
              "1  Вднх - это выставочный центр?       \n",
              "2  Был ли джиган в black star?         \n",
              "3  Xiaomi конкурент apple?             \n",
              "4  Был ли автомат калашникова в вов?   \n",
              "\n",
              "                                                                                                                                                                                                                                                                                                                                                                                                                                                                                                                                                                                                                                                                                                                                                                                                                                                                                                                                     passage  \\\n",
              "0  «Вы́ставочный центр» — станция Московского монорельса. Расположена между станциями «Улица Академика Королёва» и «Улица Сергея Эйзенштейна». Находится на территории Останкинского района Северо-Восточного административного округа города Москвы. Переход на станцию  ВДНХ Калужско-Рижской линии. Названа в честь Всероссийского выставочного центра — названия ВДНХ с 1992 по 2014 год. 20 ноября 2004 года линия монорельса начала работать в «экскурсионном режиме» и перевезла первых пассажиров .                                                                                                                                                                                                                                                                                                                                                                                                                                    \n",
              "1  Вы́ставка достиже́ний наро́дного хозя́йства  , в 1959—1991 годах — Вы́ставка достиже́ний наро́дного хозя́йства СССР , в 1992—2014 годах — Всеросси́йский вы́ставочный центр ) — выставочный комплекс в Останкинском районе Северо-Восточного административного округа города Москвы, второй по величине выставочный комплекс в городе. Входит в 50 крупнейших выставочных центров мира. Ежегодно ВДНХ посещают 30 млн гостей. 1 августа 2019 года выставка отпраздновала 80-летний юбилей. Территориально ВДНХ объединена с парком «Останкино» и Главным ботаническим садом , их общая площадь составляет почти 700 га: 240,2 га — площадь ВДНХ, 75,6 га — площадь парка «Останкино», 361 га — площадь ГБС, 9,5 га музейно-выставочный центр «Рабочий и колхозница» и площадь перед аркой Главного входа. На территории Выставки расположено множество шедевров архитектуры — 49 объектов ВДНХ признаны памятниками культурного наследия.   \n",
              "2  Вместе с этим треком они выступили на церемонии вручения наград MTV RMA — это был первый выход Джигана на большую сцену. В 2007 году Джиган стал официальным артистом лейбла Black Star Inc., выпустил первый песню и клип «Одноклассница» — совместная работа с Тимати. В марте 2011 года появилась совместная с Юлей Савичевой композиция «Отпусти». Песня поднялась в радиочарте «Tophit» до 8 места и заняла первое место чарта Weekly Audience Choice Top Hit . Количество просмотров клипа на YouTube превысило 17 миллионов.                                                                                                                                                                                                                                                                                                                                                                                                         \n",
              "3  Xiaomi — китайская компания, основанная в 2010 году и занимающаяся выпуском электроники и бытовой техники, а также разработкой программного обеспечения. Основной продукцией компании являются смартфоны, первый из которых был выпущен в 2011 году. В настоящее время Xiaomi производит широкий ассортимент смартфонов в разных ценовых сегментах и является одним из крупнейших производителей смартфонов в мире. Так, в третьем квартале 2014 года эта компания заняла наивысшее для себя третье место в мире по поставкам смартфонов, набрав 5,2 % в штучном выражении и уступив лишь Samsung и Apple . За весь 2017 год компания заняла по продажам первое место в Китае и второе место в Индии. В данном списке приводятся все смартфоны, когда-либо выпущенные компанией Xiaomi.                                                                                                                                                     \n",
              "4  Отметив некоторые недостатки и в целом удачную конструкцию, специалисты ГАУ не рекомендовали принимать ПП Калашникова на вооружение по технологическим причинам. Заключение гласило: С 1942 года Калашников работал на Центральном научно-исследовательском полигоне стрелкового и миномётного вооружения ГАУ РККА. Здесь в 1944 году он создал опытный образец самозарядного карабина, который, хотя и не вышел в серийное производство, частично послужил прототипом для создания автомата. С 1945 года Михаил Калашников начал разработку автоматического оружия под промежуточный патрон 7,62×39 образца 1943 года. Автомат Калашникова победил в конкурсе 1947 года и был принят на вооружение.                                                                                                                                                                                                                                        \n",
              "\n",
              "   label  idx  \n",
              "0  True   0    \n",
              "1  True   1    \n",
              "2  True   2    \n",
              "3  True   3    \n",
              "4  False  4    "
            ]
          },
          "metadata": {},
          "output_type": "display_data"
        },
        {
          "name": "stdout",
          "output_type": "stream",
          "text": [
            "Stats:\n"
          ]
        },
        {
          "data": {
            "text/html": [
              "<div>\n",
              "<style scoped>\n",
              "    .dataframe tbody tr th:only-of-type {\n",
              "        vertical-align: middle;\n",
              "    }\n",
              "\n",
              "    .dataframe tbody tr th {\n",
              "        vertical-align: top;\n",
              "    }\n",
              "\n",
              "    .dataframe thead th {\n",
              "        text-align: right;\n",
              "    }\n",
              "</style>\n",
              "<table border=\"1\" class=\"dataframe\">\n",
              "  <thead>\n",
              "    <tr style=\"text-align: right;\">\n",
              "      <th></th>\n",
              "      <th>label</th>\n",
              "      <th>MIN</th>\n",
              "      <th>MAX</th>\n",
              "      <th>MEAN</th>\n",
              "    </tr>\n",
              "  </thead>\n",
              "  <tbody>\n",
              "    <tr>\n",
              "      <th>0</th>\n",
              "      <td>question(symbols)</td>\n",
              "      <td>14</td>\n",
              "      <td>182</td>\n",
              "      <td>41</td>\n",
              "    </tr>\n",
              "    <tr>\n",
              "      <th>1</th>\n",
              "      <td>question(words)</td>\n",
              "      <td>3</td>\n",
              "      <td>30</td>\n",
              "      <td>7</td>\n",
              "    </tr>\n",
              "    <tr>\n",
              "      <th>2</th>\n",
              "      <td>passage(symbols)</td>\n",
              "      <td>294</td>\n",
              "      <td>3200</td>\n",
              "      <td>723</td>\n",
              "    </tr>\n",
              "    <tr>\n",
              "      <th>3</th>\n",
              "      <td>passage(words)</td>\n",
              "      <td>48</td>\n",
              "      <td>587</td>\n",
              "      <td>115</td>\n",
              "    </tr>\n",
              "  </tbody>\n",
              "</table>\n",
              "</div>"
            ],
            "text/plain": [
              "               label  MIN   MAX  MEAN\n",
              "0  question(symbols)  14   182   41  \n",
              "1  question(words)    3    30    7   \n",
              "2  passage(symbols)   294  3200  723 \n",
              "3  passage(words)     48   587   115 "
            ]
          },
          "metadata": {},
          "output_type": "display_data"
        },
        {
          "name": "stdout",
          "output_type": "stream",
          "text": [
            "True answer: 1061\n",
            "False answer: 688\n",
            "\n"
          ]
        }
      ],
      "source": [
        "df_trainL0, df_trainL0_stat = loadJSONL(fileNameData(\"train_L0\"), \"Train set\")\n",
        "df_validationL0, df_validationL0_stat = loadJSONL(fileNameData(\"train_L0\"), \"Validation set\")\n",
        "df_testL0, df_testL0_stat = loadJSONL(fileNameData(\"train_L0\"), \"Test set:\")"
      ]
    },
    {
      "cell_type": "markdown",
      "metadata": {},
      "source": [
        "### L1: удаляем только юникод"
      ]
    },
    {
      "cell_type": "code",
      "execution_count": 5,
      "metadata": {},
      "outputs": [
        {
          "name": "stdout",
          "output_type": "stream",
          "text": [
            "Train set\n"
          ]
        },
        {
          "data": {
            "text/html": [
              "<div>\n",
              "<style scoped>\n",
              "    .dataframe tbody tr th:only-of-type {\n",
              "        vertical-align: middle;\n",
              "    }\n",
              "\n",
              "    .dataframe tbody tr th {\n",
              "        vertical-align: top;\n",
              "    }\n",
              "\n",
              "    .dataframe thead th {\n",
              "        text-align: right;\n",
              "    }\n",
              "</style>\n",
              "<table border=\"1\" class=\"dataframe\">\n",
              "  <thead>\n",
              "    <tr style=\"text-align: right;\">\n",
              "      <th></th>\n",
              "      <th>question</th>\n",
              "      <th>passage</th>\n",
              "      <th>label</th>\n",
              "      <th>idx</th>\n",
              "    </tr>\n",
              "  </thead>\n",
              "  <tbody>\n",
              "    <tr>\n",
              "      <th>0</th>\n",
              "      <td>Вднх - это выставочныи центр?</td>\n",
              "      <td>«Выставочныи центр» — станция Московского монорельса. Расположена между станциями «Улица Академика Королева» и «Улица Сергея Эизенштеина». Находится на территории Останкинского раиона Северо-Восточного административного округа города Москвы. Переход на станцию ВДНХ Калужско-Рижскои линии. Названа в честь Всероссииского выставочного центра — названия ВДНХ с 1992 по 2014 год. 20 ноября 2004 года линия монорельса начала работать в «экскурсионном режиме» и перевезла первых пассажиров .</td>\n",
              "      <td>True</td>\n",
              "      <td>0</td>\n",
              "    </tr>\n",
              "    <tr>\n",
              "      <th>1</th>\n",
              "      <td>Вднх - это выставочныи центр?</td>\n",
              "      <td>Выставка достижении народного хозяиства , в 1959—1991 годах — Выставка достижении народного хозяиства СССР , в 1992—2014 годах — Всероссиискии выставочныи центр ) — выставочныи комплекс в Останкинском раионе Северо-Восточного административного округа города Москвы, второи по величине выставочныи комплекс в городе. Входит в 50 крупнеиших выставочных центров мира. Ежегодно ВДНХ посещают 30 млн гостеи. 1 августа 2019 года выставка отпраздновала 80-летнии юбилеи. Территориально ВДНХ объединена с парком «Останкино» и Главным ботаническим садом , их общая площадь составляет почти 700 га: 240,2 га — площадь ВДНХ, 75,6 га — площадь парка «Останкино», 361 га — площадь ГБС, 9,5 га музеино-выставочныи центр «Рабочии и колхозница» и площадь перед аркои Главного входа. На территории Выставки расположено множество шедевров архитектуры — 49 объектов ВДНХ признаны памятниками культурного наследия.</td>\n",
              "      <td>True</td>\n",
              "      <td>1</td>\n",
              "    </tr>\n",
              "    <tr>\n",
              "      <th>2</th>\n",
              "      <td>Был ли джиган в black star?</td>\n",
              "      <td>Вместе с этим треком они выступили на церемонии вручения наград MTV RMA — это был первыи выход Джигана на большую сцену. В 2007 году Джиган стал официальным артистом леибла Black Star Inc., выпустил первыи песню и клип «Одноклассница» — совместная работа с Тимати. В марте 2011 года появилась совместная с Юлеи Савичевои композиция «Отпусти». Песня поднялась в радиочарте «Tophit» до 8 места и заняла первое место чарта Weekly Audience Choice Top Hit . Количество просмотров клипа на YouTube превысило 17 миллионов.</td>\n",
              "      <td>True</td>\n",
              "      <td>2</td>\n",
              "    </tr>\n",
              "    <tr>\n",
              "      <th>3</th>\n",
              "      <td>Xiaomi конкурент apple?</td>\n",
              "      <td>Xiaomi — китаиская компания, основанная в 2010 году и занимающаяся выпуском электроники и бытовои техники, а также разработкои программного обеспечения. Основнои продукциеи компании являются смартфоны, первыи из которых был выпущен в 2011 году. В настоящее время Xiaomi производит широкии ассортимент смартфонов в разных ценовых сегментах и является одним из крупнеиших производителеи смартфонов в мире. Так, в третьем квартале 2014 года эта компания заняла наивысшее для себя третье место в мире по поставкам смартфонов, набрав 5,2 % в штучном выражении и уступив лишь Samsung и Apple . За весь 2017 год компания заняла по продажам первое место в Китае и второе место в Индии. В данном списке приводятся все смартфоны, когда-либо выпущенные компаниеи Xiaomi.</td>\n",
              "      <td>True</td>\n",
              "      <td>3</td>\n",
              "    </tr>\n",
              "    <tr>\n",
              "      <th>4</th>\n",
              "      <td>Был ли автомат калашникова в вов?</td>\n",
              "      <td>Отметив некоторые недостатки и в целом удачную конструкцию, специалисты ГАУ не рекомендовали принимать ПП Калашникова на вооружение по технологическим причинам. Заключение гласило: С 1942 года Калашников работал на Центральном научно-исследовательском полигоне стрелкового и минометного вооружения ГАУ РККА. Здесь в 1944 году он создал опытныи образец самозарядного карабина, которыи, хотя и не вышел в серииное производство, частично послужил прототипом для создания автомата. С 1945 года Михаил Калашников начал разработку автоматического оружия под промежуточныи патрон 7,62×39 образца 1943 года. Автомат Калашникова победил в конкурсе 1947 года и был принят на вооружение.</td>\n",
              "      <td>False</td>\n",
              "      <td>4</td>\n",
              "    </tr>\n",
              "  </tbody>\n",
              "</table>\n",
              "</div>"
            ],
            "text/plain": [
              "                            question  \\\n",
              "0  Вднх - это выставочныи центр?       \n",
              "1  Вднх - это выставочныи центр?       \n",
              "2  Был ли джиган в black star?         \n",
              "3  Xiaomi конкурент apple?             \n",
              "4  Был ли автомат калашникова в вов?   \n",
              "\n",
              "                                                                                                                                                                                                                                                                                                                                                                                                                                                                                                                                                                                                                                                                                                                                                                                                                                                                                                                          passage  \\\n",
              "0  «Выставочныи центр» — станция Московского монорельса. Расположена между станциями «Улица Академика Королева» и «Улица Сергея Эизенштеина». Находится на территории Останкинского раиона Северо-Восточного административного округа города Москвы. Переход на станцию ВДНХ Калужско-Рижскои линии. Названа в честь Всероссииского выставочного центра — названия ВДНХ с 1992 по 2014 год. 20 ноября 2004 года линия монорельса начала работать в «экскурсионном режиме» и перевезла первых пассажиров .                                                                                                                                                                                                                                                                                                                                                                                                                           \n",
              "1  Выставка достижении народного хозяиства , в 1959—1991 годах — Выставка достижении народного хозяиства СССР , в 1992—2014 годах — Всероссиискии выставочныи центр ) — выставочныи комплекс в Останкинском раионе Северо-Восточного административного округа города Москвы, второи по величине выставочныи комплекс в городе. Входит в 50 крупнеиших выставочных центров мира. Ежегодно ВДНХ посещают 30 млн гостеи. 1 августа 2019 года выставка отпраздновала 80-летнии юбилеи. Территориально ВДНХ объединена с парком «Останкино» и Главным ботаническим садом , их общая площадь составляет почти 700 га: 240,2 га — площадь ВДНХ, 75,6 га — площадь парка «Останкино», 361 га — площадь ГБС, 9,5 га музеино-выставочныи центр «Рабочии и колхозница» и площадь перед аркои Главного входа. На территории Выставки расположено множество шедевров архитектуры — 49 объектов ВДНХ признаны памятниками культурного наследия.   \n",
              "2  Вместе с этим треком они выступили на церемонии вручения наград MTV RMA — это был первыи выход Джигана на большую сцену. В 2007 году Джиган стал официальным артистом леибла Black Star Inc., выпустил первыи песню и клип «Одноклассница» — совместная работа с Тимати. В марте 2011 года появилась совместная с Юлеи Савичевои композиция «Отпусти». Песня поднялась в радиочарте «Tophit» до 8 места и заняла первое место чарта Weekly Audience Choice Top Hit . Количество просмотров клипа на YouTube превысило 17 миллионов.                                                                                                                                                                                                                                                                                                                                                                                              \n",
              "3  Xiaomi — китаиская компания, основанная в 2010 году и занимающаяся выпуском электроники и бытовои техники, а также разработкои программного обеспечения. Основнои продукциеи компании являются смартфоны, первыи из которых был выпущен в 2011 году. В настоящее время Xiaomi производит широкии ассортимент смартфонов в разных ценовых сегментах и является одним из крупнеиших производителеи смартфонов в мире. Так, в третьем квартале 2014 года эта компания заняла наивысшее для себя третье место в мире по поставкам смартфонов, набрав 5,2 % в штучном выражении и уступив лишь Samsung и Apple . За весь 2017 год компания заняла по продажам первое место в Китае и второе место в Индии. В данном списке приводятся все смартфоны, когда-либо выпущенные компаниеи Xiaomi.                                                                                                                                          \n",
              "4  Отметив некоторые недостатки и в целом удачную конструкцию, специалисты ГАУ не рекомендовали принимать ПП Калашникова на вооружение по технологическим причинам. Заключение гласило: С 1942 года Калашников работал на Центральном научно-исследовательском полигоне стрелкового и минометного вооружения ГАУ РККА. Здесь в 1944 году он создал опытныи образец самозарядного карабина, которыи, хотя и не вышел в серииное производство, частично послужил прототипом для создания автомата. С 1945 года Михаил Калашников начал разработку автоматического оружия под промежуточныи патрон 7,62×39 образца 1943 года. Автомат Калашникова победил в конкурсе 1947 года и был принят на вооружение.                                                                                                                                                                                                                             \n",
              "\n",
              "   label  idx  \n",
              "0  True   0    \n",
              "1  True   1    \n",
              "2  True   2    \n",
              "3  True   3    \n",
              "4  False  4    "
            ]
          },
          "metadata": {},
          "output_type": "display_data"
        },
        {
          "name": "stdout",
          "output_type": "stream",
          "text": [
            "Stats:\n"
          ]
        },
        {
          "data": {
            "text/html": [
              "<div>\n",
              "<style scoped>\n",
              "    .dataframe tbody tr th:only-of-type {\n",
              "        vertical-align: middle;\n",
              "    }\n",
              "\n",
              "    .dataframe tbody tr th {\n",
              "        vertical-align: top;\n",
              "    }\n",
              "\n",
              "    .dataframe thead th {\n",
              "        text-align: right;\n",
              "    }\n",
              "</style>\n",
              "<table border=\"1\" class=\"dataframe\">\n",
              "  <thead>\n",
              "    <tr style=\"text-align: right;\">\n",
              "      <th></th>\n",
              "      <th>label</th>\n",
              "      <th>MIN</th>\n",
              "      <th>MAX</th>\n",
              "      <th>MEAN</th>\n",
              "    </tr>\n",
              "  </thead>\n",
              "  <tbody>\n",
              "    <tr>\n",
              "      <th>0</th>\n",
              "      <td>question(symbols)</td>\n",
              "      <td>14</td>\n",
              "      <td>182</td>\n",
              "      <td>41</td>\n",
              "    </tr>\n",
              "    <tr>\n",
              "      <th>1</th>\n",
              "      <td>question(words)</td>\n",
              "      <td>3</td>\n",
              "      <td>30</td>\n",
              "      <td>7</td>\n",
              "    </tr>\n",
              "    <tr>\n",
              "      <th>2</th>\n",
              "      <td>passage(symbols)</td>\n",
              "      <td>293</td>\n",
              "      <td>3200</td>\n",
              "      <td>722</td>\n",
              "    </tr>\n",
              "    <tr>\n",
              "      <th>3</th>\n",
              "      <td>passage(words)</td>\n",
              "      <td>48</td>\n",
              "      <td>587</td>\n",
              "      <td>115</td>\n",
              "    </tr>\n",
              "  </tbody>\n",
              "</table>\n",
              "</div>"
            ],
            "text/plain": [
              "               label  MIN   MAX  MEAN\n",
              "0  question(symbols)  14   182   41  \n",
              "1  question(words)    3    30    7   \n",
              "2  passage(symbols)   293  3200  722 \n",
              "3  passage(words)     48   587   115 "
            ]
          },
          "metadata": {},
          "output_type": "display_data"
        },
        {
          "name": "stdout",
          "output_type": "stream",
          "text": [
            "True answer: 1061\n",
            "False answer: 688\n",
            "\n",
            "Validation set\n"
          ]
        },
        {
          "data": {
            "text/html": [
              "<div>\n",
              "<style scoped>\n",
              "    .dataframe tbody tr th:only-of-type {\n",
              "        vertical-align: middle;\n",
              "    }\n",
              "\n",
              "    .dataframe tbody tr th {\n",
              "        vertical-align: top;\n",
              "    }\n",
              "\n",
              "    .dataframe thead th {\n",
              "        text-align: right;\n",
              "    }\n",
              "</style>\n",
              "<table border=\"1\" class=\"dataframe\">\n",
              "  <thead>\n",
              "    <tr style=\"text-align: right;\">\n",
              "      <th></th>\n",
              "      <th>question</th>\n",
              "      <th>passage</th>\n",
              "      <th>label</th>\n",
              "      <th>idx</th>\n",
              "    </tr>\n",
              "  </thead>\n",
              "  <tbody>\n",
              "    <tr>\n",
              "      <th>0</th>\n",
              "      <td>Вднх - это выставочныи центр?</td>\n",
              "      <td>«Выставочныи центр» — станция Московского монорельса. Расположена между станциями «Улица Академика Королева» и «Улица Сергея Эизенштеина». Находится на территории Останкинского раиона Северо-Восточного административного округа города Москвы. Переход на станцию ВДНХ Калужско-Рижскои линии. Названа в честь Всероссииского выставочного центра — названия ВДНХ с 1992 по 2014 год. 20 ноября 2004 года линия монорельса начала работать в «экскурсионном режиме» и перевезла первых пассажиров .</td>\n",
              "      <td>True</td>\n",
              "      <td>0</td>\n",
              "    </tr>\n",
              "    <tr>\n",
              "      <th>1</th>\n",
              "      <td>Вднх - это выставочныи центр?</td>\n",
              "      <td>Выставка достижении народного хозяиства , в 1959—1991 годах — Выставка достижении народного хозяиства СССР , в 1992—2014 годах — Всероссиискии выставочныи центр ) — выставочныи комплекс в Останкинском раионе Северо-Восточного административного округа города Москвы, второи по величине выставочныи комплекс в городе. Входит в 50 крупнеиших выставочных центров мира. Ежегодно ВДНХ посещают 30 млн гостеи. 1 августа 2019 года выставка отпраздновала 80-летнии юбилеи. Территориально ВДНХ объединена с парком «Останкино» и Главным ботаническим садом , их общая площадь составляет почти 700 га: 240,2 га — площадь ВДНХ, 75,6 га — площадь парка «Останкино», 361 га — площадь ГБС, 9,5 га музеино-выставочныи центр «Рабочии и колхозница» и площадь перед аркои Главного входа. На территории Выставки расположено множество шедевров архитектуры — 49 объектов ВДНХ признаны памятниками культурного наследия.</td>\n",
              "      <td>True</td>\n",
              "      <td>1</td>\n",
              "    </tr>\n",
              "    <tr>\n",
              "      <th>2</th>\n",
              "      <td>Был ли джиган в black star?</td>\n",
              "      <td>Вместе с этим треком они выступили на церемонии вручения наград MTV RMA — это был первыи выход Джигана на большую сцену. В 2007 году Джиган стал официальным артистом леибла Black Star Inc., выпустил первыи песню и клип «Одноклассница» — совместная работа с Тимати. В марте 2011 года появилась совместная с Юлеи Савичевои композиция «Отпусти». Песня поднялась в радиочарте «Tophit» до 8 места и заняла первое место чарта Weekly Audience Choice Top Hit . Количество просмотров клипа на YouTube превысило 17 миллионов.</td>\n",
              "      <td>True</td>\n",
              "      <td>2</td>\n",
              "    </tr>\n",
              "    <tr>\n",
              "      <th>3</th>\n",
              "      <td>Xiaomi конкурент apple?</td>\n",
              "      <td>Xiaomi — китаиская компания, основанная в 2010 году и занимающаяся выпуском электроники и бытовои техники, а также разработкои программного обеспечения. Основнои продукциеи компании являются смартфоны, первыи из которых был выпущен в 2011 году. В настоящее время Xiaomi производит широкии ассортимент смартфонов в разных ценовых сегментах и является одним из крупнеиших производителеи смартфонов в мире. Так, в третьем квартале 2014 года эта компания заняла наивысшее для себя третье место в мире по поставкам смартфонов, набрав 5,2 % в штучном выражении и уступив лишь Samsung и Apple . За весь 2017 год компания заняла по продажам первое место в Китае и второе место в Индии. В данном списке приводятся все смартфоны, когда-либо выпущенные компаниеи Xiaomi.</td>\n",
              "      <td>True</td>\n",
              "      <td>3</td>\n",
              "    </tr>\n",
              "    <tr>\n",
              "      <th>4</th>\n",
              "      <td>Был ли автомат калашникова в вов?</td>\n",
              "      <td>Отметив некоторые недостатки и в целом удачную конструкцию, специалисты ГАУ не рекомендовали принимать ПП Калашникова на вооружение по технологическим причинам. Заключение гласило: С 1942 года Калашников работал на Центральном научно-исследовательском полигоне стрелкового и минометного вооружения ГАУ РККА. Здесь в 1944 году он создал опытныи образец самозарядного карабина, которыи, хотя и не вышел в серииное производство, частично послужил прототипом для создания автомата. С 1945 года Михаил Калашников начал разработку автоматического оружия под промежуточныи патрон 7,62×39 образца 1943 года. Автомат Калашникова победил в конкурсе 1947 года и был принят на вооружение.</td>\n",
              "      <td>False</td>\n",
              "      <td>4</td>\n",
              "    </tr>\n",
              "  </tbody>\n",
              "</table>\n",
              "</div>"
            ],
            "text/plain": [
              "                            question  \\\n",
              "0  Вднх - это выставочныи центр?       \n",
              "1  Вднх - это выставочныи центр?       \n",
              "2  Был ли джиган в black star?         \n",
              "3  Xiaomi конкурент apple?             \n",
              "4  Был ли автомат калашникова в вов?   \n",
              "\n",
              "                                                                                                                                                                                                                                                                                                                                                                                                                                                                                                                                                                                                                                                                                                                                                                                                                                                                                                                          passage  \\\n",
              "0  «Выставочныи центр» — станция Московского монорельса. Расположена между станциями «Улица Академика Королева» и «Улица Сергея Эизенштеина». Находится на территории Останкинского раиона Северо-Восточного административного округа города Москвы. Переход на станцию ВДНХ Калужско-Рижскои линии. Названа в честь Всероссииского выставочного центра — названия ВДНХ с 1992 по 2014 год. 20 ноября 2004 года линия монорельса начала работать в «экскурсионном режиме» и перевезла первых пассажиров .                                                                                                                                                                                                                                                                                                                                                                                                                           \n",
              "1  Выставка достижении народного хозяиства , в 1959—1991 годах — Выставка достижении народного хозяиства СССР , в 1992—2014 годах — Всероссиискии выставочныи центр ) — выставочныи комплекс в Останкинском раионе Северо-Восточного административного округа города Москвы, второи по величине выставочныи комплекс в городе. Входит в 50 крупнеиших выставочных центров мира. Ежегодно ВДНХ посещают 30 млн гостеи. 1 августа 2019 года выставка отпраздновала 80-летнии юбилеи. Территориально ВДНХ объединена с парком «Останкино» и Главным ботаническим садом , их общая площадь составляет почти 700 га: 240,2 га — площадь ВДНХ, 75,6 га — площадь парка «Останкино», 361 га — площадь ГБС, 9,5 га музеино-выставочныи центр «Рабочии и колхозница» и площадь перед аркои Главного входа. На территории Выставки расположено множество шедевров архитектуры — 49 объектов ВДНХ признаны памятниками культурного наследия.   \n",
              "2  Вместе с этим треком они выступили на церемонии вручения наград MTV RMA — это был первыи выход Джигана на большую сцену. В 2007 году Джиган стал официальным артистом леибла Black Star Inc., выпустил первыи песню и клип «Одноклассница» — совместная работа с Тимати. В марте 2011 года появилась совместная с Юлеи Савичевои композиция «Отпусти». Песня поднялась в радиочарте «Tophit» до 8 места и заняла первое место чарта Weekly Audience Choice Top Hit . Количество просмотров клипа на YouTube превысило 17 миллионов.                                                                                                                                                                                                                                                                                                                                                                                              \n",
              "3  Xiaomi — китаиская компания, основанная в 2010 году и занимающаяся выпуском электроники и бытовои техники, а также разработкои программного обеспечения. Основнои продукциеи компании являются смартфоны, первыи из которых был выпущен в 2011 году. В настоящее время Xiaomi производит широкии ассортимент смартфонов в разных ценовых сегментах и является одним из крупнеиших производителеи смартфонов в мире. Так, в третьем квартале 2014 года эта компания заняла наивысшее для себя третье место в мире по поставкам смартфонов, набрав 5,2 % в штучном выражении и уступив лишь Samsung и Apple . За весь 2017 год компания заняла по продажам первое место в Китае и второе место в Индии. В данном списке приводятся все смартфоны, когда-либо выпущенные компаниеи Xiaomi.                                                                                                                                          \n",
              "4  Отметив некоторые недостатки и в целом удачную конструкцию, специалисты ГАУ не рекомендовали принимать ПП Калашникова на вооружение по технологическим причинам. Заключение гласило: С 1942 года Калашников работал на Центральном научно-исследовательском полигоне стрелкового и минометного вооружения ГАУ РККА. Здесь в 1944 году он создал опытныи образец самозарядного карабина, которыи, хотя и не вышел в серииное производство, частично послужил прототипом для создания автомата. С 1945 года Михаил Калашников начал разработку автоматического оружия под промежуточныи патрон 7,62×39 образца 1943 года. Автомат Калашникова победил в конкурсе 1947 года и был принят на вооружение.                                                                                                                                                                                                                             \n",
              "\n",
              "   label  idx  \n",
              "0  True   0    \n",
              "1  True   1    \n",
              "2  True   2    \n",
              "3  True   3    \n",
              "4  False  4    "
            ]
          },
          "metadata": {},
          "output_type": "display_data"
        },
        {
          "name": "stdout",
          "output_type": "stream",
          "text": [
            "Stats:\n"
          ]
        },
        {
          "data": {
            "text/html": [
              "<div>\n",
              "<style scoped>\n",
              "    .dataframe tbody tr th:only-of-type {\n",
              "        vertical-align: middle;\n",
              "    }\n",
              "\n",
              "    .dataframe tbody tr th {\n",
              "        vertical-align: top;\n",
              "    }\n",
              "\n",
              "    .dataframe thead th {\n",
              "        text-align: right;\n",
              "    }\n",
              "</style>\n",
              "<table border=\"1\" class=\"dataframe\">\n",
              "  <thead>\n",
              "    <tr style=\"text-align: right;\">\n",
              "      <th></th>\n",
              "      <th>label</th>\n",
              "      <th>MIN</th>\n",
              "      <th>MAX</th>\n",
              "      <th>MEAN</th>\n",
              "    </tr>\n",
              "  </thead>\n",
              "  <tbody>\n",
              "    <tr>\n",
              "      <th>0</th>\n",
              "      <td>question(symbols)</td>\n",
              "      <td>14</td>\n",
              "      <td>182</td>\n",
              "      <td>41</td>\n",
              "    </tr>\n",
              "    <tr>\n",
              "      <th>1</th>\n",
              "      <td>question(words)</td>\n",
              "      <td>3</td>\n",
              "      <td>30</td>\n",
              "      <td>7</td>\n",
              "    </tr>\n",
              "    <tr>\n",
              "      <th>2</th>\n",
              "      <td>passage(symbols)</td>\n",
              "      <td>293</td>\n",
              "      <td>3200</td>\n",
              "      <td>722</td>\n",
              "    </tr>\n",
              "    <tr>\n",
              "      <th>3</th>\n",
              "      <td>passage(words)</td>\n",
              "      <td>48</td>\n",
              "      <td>587</td>\n",
              "      <td>115</td>\n",
              "    </tr>\n",
              "  </tbody>\n",
              "</table>\n",
              "</div>"
            ],
            "text/plain": [
              "               label  MIN   MAX  MEAN\n",
              "0  question(symbols)  14   182   41  \n",
              "1  question(words)    3    30    7   \n",
              "2  passage(symbols)   293  3200  722 \n",
              "3  passage(words)     48   587   115 "
            ]
          },
          "metadata": {},
          "output_type": "display_data"
        },
        {
          "name": "stdout",
          "output_type": "stream",
          "text": [
            "True answer: 1061\n",
            "False answer: 688\n",
            "\n",
            "Test set:\n"
          ]
        },
        {
          "data": {
            "text/html": [
              "<div>\n",
              "<style scoped>\n",
              "    .dataframe tbody tr th:only-of-type {\n",
              "        vertical-align: middle;\n",
              "    }\n",
              "\n",
              "    .dataframe tbody tr th {\n",
              "        vertical-align: top;\n",
              "    }\n",
              "\n",
              "    .dataframe thead th {\n",
              "        text-align: right;\n",
              "    }\n",
              "</style>\n",
              "<table border=\"1\" class=\"dataframe\">\n",
              "  <thead>\n",
              "    <tr style=\"text-align: right;\">\n",
              "      <th></th>\n",
              "      <th>question</th>\n",
              "      <th>passage</th>\n",
              "      <th>label</th>\n",
              "      <th>idx</th>\n",
              "    </tr>\n",
              "  </thead>\n",
              "  <tbody>\n",
              "    <tr>\n",
              "      <th>0</th>\n",
              "      <td>Вднх - это выставочныи центр?</td>\n",
              "      <td>«Выставочныи центр» — станция Московского монорельса. Расположена между станциями «Улица Академика Королева» и «Улица Сергея Эизенштеина». Находится на территории Останкинского раиона Северо-Восточного административного округа города Москвы. Переход на станцию ВДНХ Калужско-Рижскои линии. Названа в честь Всероссииского выставочного центра — названия ВДНХ с 1992 по 2014 год. 20 ноября 2004 года линия монорельса начала работать в «экскурсионном режиме» и перевезла первых пассажиров .</td>\n",
              "      <td>True</td>\n",
              "      <td>0</td>\n",
              "    </tr>\n",
              "    <tr>\n",
              "      <th>1</th>\n",
              "      <td>Вднх - это выставочныи центр?</td>\n",
              "      <td>Выставка достижении народного хозяиства , в 1959—1991 годах — Выставка достижении народного хозяиства СССР , в 1992—2014 годах — Всероссиискии выставочныи центр ) — выставочныи комплекс в Останкинском раионе Северо-Восточного административного округа города Москвы, второи по величине выставочныи комплекс в городе. Входит в 50 крупнеиших выставочных центров мира. Ежегодно ВДНХ посещают 30 млн гостеи. 1 августа 2019 года выставка отпраздновала 80-летнии юбилеи. Территориально ВДНХ объединена с парком «Останкино» и Главным ботаническим садом , их общая площадь составляет почти 700 га: 240,2 га — площадь ВДНХ, 75,6 га — площадь парка «Останкино», 361 га — площадь ГБС, 9,5 га музеино-выставочныи центр «Рабочии и колхозница» и площадь перед аркои Главного входа. На территории Выставки расположено множество шедевров архитектуры — 49 объектов ВДНХ признаны памятниками культурного наследия.</td>\n",
              "      <td>True</td>\n",
              "      <td>1</td>\n",
              "    </tr>\n",
              "    <tr>\n",
              "      <th>2</th>\n",
              "      <td>Был ли джиган в black star?</td>\n",
              "      <td>Вместе с этим треком они выступили на церемонии вручения наград MTV RMA — это был первыи выход Джигана на большую сцену. В 2007 году Джиган стал официальным артистом леибла Black Star Inc., выпустил первыи песню и клип «Одноклассница» — совместная работа с Тимати. В марте 2011 года появилась совместная с Юлеи Савичевои композиция «Отпусти». Песня поднялась в радиочарте «Tophit» до 8 места и заняла первое место чарта Weekly Audience Choice Top Hit . Количество просмотров клипа на YouTube превысило 17 миллионов.</td>\n",
              "      <td>True</td>\n",
              "      <td>2</td>\n",
              "    </tr>\n",
              "    <tr>\n",
              "      <th>3</th>\n",
              "      <td>Xiaomi конкурент apple?</td>\n",
              "      <td>Xiaomi — китаиская компания, основанная в 2010 году и занимающаяся выпуском электроники и бытовои техники, а также разработкои программного обеспечения. Основнои продукциеи компании являются смартфоны, первыи из которых был выпущен в 2011 году. В настоящее время Xiaomi производит широкии ассортимент смартфонов в разных ценовых сегментах и является одним из крупнеиших производителеи смартфонов в мире. Так, в третьем квартале 2014 года эта компания заняла наивысшее для себя третье место в мире по поставкам смартфонов, набрав 5,2 % в штучном выражении и уступив лишь Samsung и Apple . За весь 2017 год компания заняла по продажам первое место в Китае и второе место в Индии. В данном списке приводятся все смартфоны, когда-либо выпущенные компаниеи Xiaomi.</td>\n",
              "      <td>True</td>\n",
              "      <td>3</td>\n",
              "    </tr>\n",
              "    <tr>\n",
              "      <th>4</th>\n",
              "      <td>Был ли автомат калашникова в вов?</td>\n",
              "      <td>Отметив некоторые недостатки и в целом удачную конструкцию, специалисты ГАУ не рекомендовали принимать ПП Калашникова на вооружение по технологическим причинам. Заключение гласило: С 1942 года Калашников работал на Центральном научно-исследовательском полигоне стрелкового и минометного вооружения ГАУ РККА. Здесь в 1944 году он создал опытныи образец самозарядного карабина, которыи, хотя и не вышел в серииное производство, частично послужил прототипом для создания автомата. С 1945 года Михаил Калашников начал разработку автоматического оружия под промежуточныи патрон 7,62×39 образца 1943 года. Автомат Калашникова победил в конкурсе 1947 года и был принят на вооружение.</td>\n",
              "      <td>False</td>\n",
              "      <td>4</td>\n",
              "    </tr>\n",
              "  </tbody>\n",
              "</table>\n",
              "</div>"
            ],
            "text/plain": [
              "                            question  \\\n",
              "0  Вднх - это выставочныи центр?       \n",
              "1  Вднх - это выставочныи центр?       \n",
              "2  Был ли джиган в black star?         \n",
              "3  Xiaomi конкурент apple?             \n",
              "4  Был ли автомат калашникова в вов?   \n",
              "\n",
              "                                                                                                                                                                                                                                                                                                                                                                                                                                                                                                                                                                                                                                                                                                                                                                                                                                                                                                                          passage  \\\n",
              "0  «Выставочныи центр» — станция Московского монорельса. Расположена между станциями «Улица Академика Королева» и «Улица Сергея Эизенштеина». Находится на территории Останкинского раиона Северо-Восточного административного округа города Москвы. Переход на станцию ВДНХ Калужско-Рижскои линии. Названа в честь Всероссииского выставочного центра — названия ВДНХ с 1992 по 2014 год. 20 ноября 2004 года линия монорельса начала работать в «экскурсионном режиме» и перевезла первых пассажиров .                                                                                                                                                                                                                                                                                                                                                                                                                           \n",
              "1  Выставка достижении народного хозяиства , в 1959—1991 годах — Выставка достижении народного хозяиства СССР , в 1992—2014 годах — Всероссиискии выставочныи центр ) — выставочныи комплекс в Останкинском раионе Северо-Восточного административного округа города Москвы, второи по величине выставочныи комплекс в городе. Входит в 50 крупнеиших выставочных центров мира. Ежегодно ВДНХ посещают 30 млн гостеи. 1 августа 2019 года выставка отпраздновала 80-летнии юбилеи. Территориально ВДНХ объединена с парком «Останкино» и Главным ботаническим садом , их общая площадь составляет почти 700 га: 240,2 га — площадь ВДНХ, 75,6 га — площадь парка «Останкино», 361 га — площадь ГБС, 9,5 га музеино-выставочныи центр «Рабочии и колхозница» и площадь перед аркои Главного входа. На территории Выставки расположено множество шедевров архитектуры — 49 объектов ВДНХ признаны памятниками культурного наследия.   \n",
              "2  Вместе с этим треком они выступили на церемонии вручения наград MTV RMA — это был первыи выход Джигана на большую сцену. В 2007 году Джиган стал официальным артистом леибла Black Star Inc., выпустил первыи песню и клип «Одноклассница» — совместная работа с Тимати. В марте 2011 года появилась совместная с Юлеи Савичевои композиция «Отпусти». Песня поднялась в радиочарте «Tophit» до 8 места и заняла первое место чарта Weekly Audience Choice Top Hit . Количество просмотров клипа на YouTube превысило 17 миллионов.                                                                                                                                                                                                                                                                                                                                                                                              \n",
              "3  Xiaomi — китаиская компания, основанная в 2010 году и занимающаяся выпуском электроники и бытовои техники, а также разработкои программного обеспечения. Основнои продукциеи компании являются смартфоны, первыи из которых был выпущен в 2011 году. В настоящее время Xiaomi производит широкии ассортимент смартфонов в разных ценовых сегментах и является одним из крупнеиших производителеи смартфонов в мире. Так, в третьем квартале 2014 года эта компания заняла наивысшее для себя третье место в мире по поставкам смартфонов, набрав 5,2 % в штучном выражении и уступив лишь Samsung и Apple . За весь 2017 год компания заняла по продажам первое место в Китае и второе место в Индии. В данном списке приводятся все смартфоны, когда-либо выпущенные компаниеи Xiaomi.                                                                                                                                          \n",
              "4  Отметив некоторые недостатки и в целом удачную конструкцию, специалисты ГАУ не рекомендовали принимать ПП Калашникова на вооружение по технологическим причинам. Заключение гласило: С 1942 года Калашников работал на Центральном научно-исследовательском полигоне стрелкового и минометного вооружения ГАУ РККА. Здесь в 1944 году он создал опытныи образец самозарядного карабина, которыи, хотя и не вышел в серииное производство, частично послужил прототипом для создания автомата. С 1945 года Михаил Калашников начал разработку автоматического оружия под промежуточныи патрон 7,62×39 образца 1943 года. Автомат Калашникова победил в конкурсе 1947 года и был принят на вооружение.                                                                                                                                                                                                                             \n",
              "\n",
              "   label  idx  \n",
              "0  True   0    \n",
              "1  True   1    \n",
              "2  True   2    \n",
              "3  True   3    \n",
              "4  False  4    "
            ]
          },
          "metadata": {},
          "output_type": "display_data"
        },
        {
          "name": "stdout",
          "output_type": "stream",
          "text": [
            "Stats:\n"
          ]
        },
        {
          "data": {
            "text/html": [
              "<div>\n",
              "<style scoped>\n",
              "    .dataframe tbody tr th:only-of-type {\n",
              "        vertical-align: middle;\n",
              "    }\n",
              "\n",
              "    .dataframe tbody tr th {\n",
              "        vertical-align: top;\n",
              "    }\n",
              "\n",
              "    .dataframe thead th {\n",
              "        text-align: right;\n",
              "    }\n",
              "</style>\n",
              "<table border=\"1\" class=\"dataframe\">\n",
              "  <thead>\n",
              "    <tr style=\"text-align: right;\">\n",
              "      <th></th>\n",
              "      <th>label</th>\n",
              "      <th>MIN</th>\n",
              "      <th>MAX</th>\n",
              "      <th>MEAN</th>\n",
              "    </tr>\n",
              "  </thead>\n",
              "  <tbody>\n",
              "    <tr>\n",
              "      <th>0</th>\n",
              "      <td>question(symbols)</td>\n",
              "      <td>14</td>\n",
              "      <td>182</td>\n",
              "      <td>41</td>\n",
              "    </tr>\n",
              "    <tr>\n",
              "      <th>1</th>\n",
              "      <td>question(words)</td>\n",
              "      <td>3</td>\n",
              "      <td>30</td>\n",
              "      <td>7</td>\n",
              "    </tr>\n",
              "    <tr>\n",
              "      <th>2</th>\n",
              "      <td>passage(symbols)</td>\n",
              "      <td>293</td>\n",
              "      <td>3200</td>\n",
              "      <td>722</td>\n",
              "    </tr>\n",
              "    <tr>\n",
              "      <th>3</th>\n",
              "      <td>passage(words)</td>\n",
              "      <td>48</td>\n",
              "      <td>587</td>\n",
              "      <td>115</td>\n",
              "    </tr>\n",
              "  </tbody>\n",
              "</table>\n",
              "</div>"
            ],
            "text/plain": [
              "               label  MIN   MAX  MEAN\n",
              "0  question(symbols)  14   182   41  \n",
              "1  question(words)    3    30    7   \n",
              "2  passage(symbols)   293  3200  722 \n",
              "3  passage(words)     48   587   115 "
            ]
          },
          "metadata": {},
          "output_type": "display_data"
        },
        {
          "name": "stdout",
          "output_type": "stream",
          "text": [
            "True answer: 1061\n",
            "False answer: 688\n",
            "\n"
          ]
        }
      ],
      "source": [
        "df_trainL1, df_trainL1_stat = loadJSONL(fileNameData(\"train_L1\"), \"Train set\")\n",
        "df_validationL1, df_validationL1_stat  = loadJSONL(fileNameData(\"train_L1\"), \"Validation set\")\n",
        "df_testL1, df_testL1_stat = loadJSONL(fileNameData(\"train_L1\"), \"Test set:\")"
      ]
    },
    {
      "cell_type": "markdown",
      "metadata": {},
      "source": [
        "### L2: переводим в нижний регистр"
      ]
    },
    {
      "cell_type": "code",
      "execution_count": 6,
      "metadata": {},
      "outputs": [
        {
          "name": "stdout",
          "output_type": "stream",
          "text": [
            "Train set\n"
          ]
        },
        {
          "data": {
            "text/html": [
              "<div>\n",
              "<style scoped>\n",
              "    .dataframe tbody tr th:only-of-type {\n",
              "        vertical-align: middle;\n",
              "    }\n",
              "\n",
              "    .dataframe tbody tr th {\n",
              "        vertical-align: top;\n",
              "    }\n",
              "\n",
              "    .dataframe thead th {\n",
              "        text-align: right;\n",
              "    }\n",
              "</style>\n",
              "<table border=\"1\" class=\"dataframe\">\n",
              "  <thead>\n",
              "    <tr style=\"text-align: right;\">\n",
              "      <th></th>\n",
              "      <th>question</th>\n",
              "      <th>passage</th>\n",
              "      <th>label</th>\n",
              "      <th>idx</th>\n",
              "    </tr>\n",
              "  </thead>\n",
              "  <tbody>\n",
              "    <tr>\n",
              "      <th>0</th>\n",
              "      <td>вднх - это выставочныи центр?</td>\n",
              "      <td>«выставочныи центр» — станция московского монорельса. расположена между станциями «улица академика королева» и «улица сергея эизенштеина». находится на территории останкинского раиона северо-восточного административного округа города москвы. переход на станцию вднх калужско-рижскои линии. названа в честь всероссииского выставочного центра — названия вднх с 1992 по 2014 год. 20 ноября 2004 года линия монорельса начала работать в «экскурсионном режиме» и перевезла первых пассажиров .</td>\n",
              "      <td>True</td>\n",
              "      <td>0</td>\n",
              "    </tr>\n",
              "    <tr>\n",
              "      <th>1</th>\n",
              "      <td>вднх - это выставочныи центр?</td>\n",
              "      <td>выставка достижении народного хозяиства , в 1959—1991 годах — выставка достижении народного хозяиства ссср , в 1992—2014 годах — всероссиискии выставочныи центр ) — выставочныи комплекс в останкинском раионе северо-восточного административного округа города москвы, второи по величине выставочныи комплекс в городе. входит в 50 крупнеиших выставочных центров мира. ежегодно вднх посещают 30 млн гостеи. 1 августа 2019 года выставка отпраздновала 80-летнии юбилеи. территориально вднх объединена с парком «останкино» и главным ботаническим садом , их общая площадь составляет почти 700 га: 240,2 га — площадь вднх, 75,6 га — площадь парка «останкино», 361 га — площадь гбс, 9,5 га музеино-выставочныи центр «рабочии и колхозница» и площадь перед аркои главного входа. на территории выставки расположено множество шедевров архитектуры — 49 объектов вднх признаны памятниками культурного наследия.</td>\n",
              "      <td>True</td>\n",
              "      <td>1</td>\n",
              "    </tr>\n",
              "    <tr>\n",
              "      <th>2</th>\n",
              "      <td>был ли джиган в black star?</td>\n",
              "      <td>вместе с этим треком они выступили на церемонии вручения наград mtv rma — это был первыи выход джигана на большую сцену. в 2007 году джиган стал официальным артистом леибла black star inc., выпустил первыи песню и клип «одноклассница» — совместная работа с тимати. в марте 2011 года появилась совместная с юлеи савичевои композиция «отпусти». песня поднялась в радиочарте «tophit» до 8 места и заняла первое место чарта weekly audience choice top hit . количество просмотров клипа на youtube превысило 17 миллионов.</td>\n",
              "      <td>True</td>\n",
              "      <td>2</td>\n",
              "    </tr>\n",
              "    <tr>\n",
              "      <th>3</th>\n",
              "      <td>xiaomi конкурент apple?</td>\n",
              "      <td>xiaomi — китаиская компания, основанная в 2010 году и занимающаяся выпуском электроники и бытовои техники, а также разработкои программного обеспечения. основнои продукциеи компании являются смартфоны, первыи из которых был выпущен в 2011 году. в настоящее время xiaomi производит широкии ассортимент смартфонов в разных ценовых сегментах и является одним из крупнеиших производителеи смартфонов в мире. так, в третьем квартале 2014 года эта компания заняла наивысшее для себя третье место в мире по поставкам смартфонов, набрав 5,2 % в штучном выражении и уступив лишь samsung и apple . за весь 2017 год компания заняла по продажам первое место в китае и второе место в индии. в данном списке приводятся все смартфоны, когда-либо выпущенные компаниеи xiaomi.</td>\n",
              "      <td>True</td>\n",
              "      <td>3</td>\n",
              "    </tr>\n",
              "    <tr>\n",
              "      <th>4</th>\n",
              "      <td>был ли автомат калашникова в вов?</td>\n",
              "      <td>отметив некоторые недостатки и в целом удачную конструкцию, специалисты гау не рекомендовали принимать пп калашникова на вооружение по технологическим причинам. заключение гласило: с 1942 года калашников работал на центральном научно-исследовательском полигоне стрелкового и минометного вооружения гау ркка. здесь в 1944 году он создал опытныи образец самозарядного карабина, которыи, хотя и не вышел в серииное производство, частично послужил прототипом для создания автомата. с 1945 года михаил калашников начал разработку автоматического оружия под промежуточныи патрон 7,62×39 образца 1943 года. автомат калашникова победил в конкурсе 1947 года и был принят на вооружение.</td>\n",
              "      <td>False</td>\n",
              "      <td>4</td>\n",
              "    </tr>\n",
              "  </tbody>\n",
              "</table>\n",
              "</div>"
            ],
            "text/plain": [
              "                            question  \\\n",
              "0  вднх - это выставочныи центр?       \n",
              "1  вднх - это выставочныи центр?       \n",
              "2  был ли джиган в black star?         \n",
              "3  xiaomi конкурент apple?             \n",
              "4  был ли автомат калашникова в вов?   \n",
              "\n",
              "                                                                                                                                                                                                                                                                                                                                                                                                                                                                                                                                                                                                                                                                                                                                                                                                                                                                                                                          passage  \\\n",
              "0  «выставочныи центр» — станция московского монорельса. расположена между станциями «улица академика королева» и «улица сергея эизенштеина». находится на территории останкинского раиона северо-восточного административного округа города москвы. переход на станцию вднх калужско-рижскои линии. названа в честь всероссииского выставочного центра — названия вднх с 1992 по 2014 год. 20 ноября 2004 года линия монорельса начала работать в «экскурсионном режиме» и перевезла первых пассажиров .                                                                                                                                                                                                                                                                                                                                                                                                                           \n",
              "1  выставка достижении народного хозяиства , в 1959—1991 годах — выставка достижении народного хозяиства ссср , в 1992—2014 годах — всероссиискии выставочныи центр ) — выставочныи комплекс в останкинском раионе северо-восточного административного округа города москвы, второи по величине выставочныи комплекс в городе. входит в 50 крупнеиших выставочных центров мира. ежегодно вднх посещают 30 млн гостеи. 1 августа 2019 года выставка отпраздновала 80-летнии юбилеи. территориально вднх объединена с парком «останкино» и главным ботаническим садом , их общая площадь составляет почти 700 га: 240,2 га — площадь вднх, 75,6 га — площадь парка «останкино», 361 га — площадь гбс, 9,5 га музеино-выставочныи центр «рабочии и колхозница» и площадь перед аркои главного входа. на территории выставки расположено множество шедевров архитектуры — 49 объектов вднх признаны памятниками культурного наследия.   \n",
              "2  вместе с этим треком они выступили на церемонии вручения наград mtv rma — это был первыи выход джигана на большую сцену. в 2007 году джиган стал официальным артистом леибла black star inc., выпустил первыи песню и клип «одноклассница» — совместная работа с тимати. в марте 2011 года появилась совместная с юлеи савичевои композиция «отпусти». песня поднялась в радиочарте «tophit» до 8 места и заняла первое место чарта weekly audience choice top hit . количество просмотров клипа на youtube превысило 17 миллионов.                                                                                                                                                                                                                                                                                                                                                                                              \n",
              "3  xiaomi — китаиская компания, основанная в 2010 году и занимающаяся выпуском электроники и бытовои техники, а также разработкои программного обеспечения. основнои продукциеи компании являются смартфоны, первыи из которых был выпущен в 2011 году. в настоящее время xiaomi производит широкии ассортимент смартфонов в разных ценовых сегментах и является одним из крупнеиших производителеи смартфонов в мире. так, в третьем квартале 2014 года эта компания заняла наивысшее для себя третье место в мире по поставкам смартфонов, набрав 5,2 % в штучном выражении и уступив лишь samsung и apple . за весь 2017 год компания заняла по продажам первое место в китае и второе место в индии. в данном списке приводятся все смартфоны, когда-либо выпущенные компаниеи xiaomi.                                                                                                                                          \n",
              "4  отметив некоторые недостатки и в целом удачную конструкцию, специалисты гау не рекомендовали принимать пп калашникова на вооружение по технологическим причинам. заключение гласило: с 1942 года калашников работал на центральном научно-исследовательском полигоне стрелкового и минометного вооружения гау ркка. здесь в 1944 году он создал опытныи образец самозарядного карабина, которыи, хотя и не вышел в серииное производство, частично послужил прототипом для создания автомата. с 1945 года михаил калашников начал разработку автоматического оружия под промежуточныи патрон 7,62×39 образца 1943 года. автомат калашникова победил в конкурсе 1947 года и был принят на вооружение.                                                                                                                                                                                                                             \n",
              "\n",
              "   label  idx  \n",
              "0  True   0    \n",
              "1  True   1    \n",
              "2  True   2    \n",
              "3  True   3    \n",
              "4  False  4    "
            ]
          },
          "metadata": {},
          "output_type": "display_data"
        },
        {
          "name": "stdout",
          "output_type": "stream",
          "text": [
            "Stats:\n"
          ]
        },
        {
          "data": {
            "text/html": [
              "<div>\n",
              "<style scoped>\n",
              "    .dataframe tbody tr th:only-of-type {\n",
              "        vertical-align: middle;\n",
              "    }\n",
              "\n",
              "    .dataframe tbody tr th {\n",
              "        vertical-align: top;\n",
              "    }\n",
              "\n",
              "    .dataframe thead th {\n",
              "        text-align: right;\n",
              "    }\n",
              "</style>\n",
              "<table border=\"1\" class=\"dataframe\">\n",
              "  <thead>\n",
              "    <tr style=\"text-align: right;\">\n",
              "      <th></th>\n",
              "      <th>label</th>\n",
              "      <th>MIN</th>\n",
              "      <th>MAX</th>\n",
              "      <th>MEAN</th>\n",
              "    </tr>\n",
              "  </thead>\n",
              "  <tbody>\n",
              "    <tr>\n",
              "      <th>0</th>\n",
              "      <td>question(symbols)</td>\n",
              "      <td>14</td>\n",
              "      <td>182</td>\n",
              "      <td>41</td>\n",
              "    </tr>\n",
              "    <tr>\n",
              "      <th>1</th>\n",
              "      <td>question(words)</td>\n",
              "      <td>3</td>\n",
              "      <td>30</td>\n",
              "      <td>7</td>\n",
              "    </tr>\n",
              "    <tr>\n",
              "      <th>2</th>\n",
              "      <td>passage(symbols)</td>\n",
              "      <td>293</td>\n",
              "      <td>3200</td>\n",
              "      <td>722</td>\n",
              "    </tr>\n",
              "    <tr>\n",
              "      <th>3</th>\n",
              "      <td>passage(words)</td>\n",
              "      <td>48</td>\n",
              "      <td>587</td>\n",
              "      <td>115</td>\n",
              "    </tr>\n",
              "  </tbody>\n",
              "</table>\n",
              "</div>"
            ],
            "text/plain": [
              "               label  MIN   MAX  MEAN\n",
              "0  question(symbols)  14   182   41  \n",
              "1  question(words)    3    30    7   \n",
              "2  passage(symbols)   293  3200  722 \n",
              "3  passage(words)     48   587   115 "
            ]
          },
          "metadata": {},
          "output_type": "display_data"
        },
        {
          "name": "stdout",
          "output_type": "stream",
          "text": [
            "True answer: 1061\n",
            "False answer: 688\n",
            "\n",
            "Validation set\n"
          ]
        },
        {
          "data": {
            "text/html": [
              "<div>\n",
              "<style scoped>\n",
              "    .dataframe tbody tr th:only-of-type {\n",
              "        vertical-align: middle;\n",
              "    }\n",
              "\n",
              "    .dataframe tbody tr th {\n",
              "        vertical-align: top;\n",
              "    }\n",
              "\n",
              "    .dataframe thead th {\n",
              "        text-align: right;\n",
              "    }\n",
              "</style>\n",
              "<table border=\"1\" class=\"dataframe\">\n",
              "  <thead>\n",
              "    <tr style=\"text-align: right;\">\n",
              "      <th></th>\n",
              "      <th>question</th>\n",
              "      <th>passage</th>\n",
              "      <th>label</th>\n",
              "      <th>idx</th>\n",
              "    </tr>\n",
              "  </thead>\n",
              "  <tbody>\n",
              "    <tr>\n",
              "      <th>0</th>\n",
              "      <td>вднх - это выставочныи центр?</td>\n",
              "      <td>«выставочныи центр» — станция московского монорельса. расположена между станциями «улица академика королева» и «улица сергея эизенштеина». находится на территории останкинского раиона северо-восточного административного округа города москвы. переход на станцию вднх калужско-рижскои линии. названа в честь всероссииского выставочного центра — названия вднх с 1992 по 2014 год. 20 ноября 2004 года линия монорельса начала работать в «экскурсионном режиме» и перевезла первых пассажиров .</td>\n",
              "      <td>True</td>\n",
              "      <td>0</td>\n",
              "    </tr>\n",
              "    <tr>\n",
              "      <th>1</th>\n",
              "      <td>вднх - это выставочныи центр?</td>\n",
              "      <td>выставка достижении народного хозяиства , в 1959—1991 годах — выставка достижении народного хозяиства ссср , в 1992—2014 годах — всероссиискии выставочныи центр ) — выставочныи комплекс в останкинском раионе северо-восточного административного округа города москвы, второи по величине выставочныи комплекс в городе. входит в 50 крупнеиших выставочных центров мира. ежегодно вднх посещают 30 млн гостеи. 1 августа 2019 года выставка отпраздновала 80-летнии юбилеи. территориально вднх объединена с парком «останкино» и главным ботаническим садом , их общая площадь составляет почти 700 га: 240,2 га — площадь вднх, 75,6 га — площадь парка «останкино», 361 га — площадь гбс, 9,5 га музеино-выставочныи центр «рабочии и колхозница» и площадь перед аркои главного входа. на территории выставки расположено множество шедевров архитектуры — 49 объектов вднх признаны памятниками культурного наследия.</td>\n",
              "      <td>True</td>\n",
              "      <td>1</td>\n",
              "    </tr>\n",
              "    <tr>\n",
              "      <th>2</th>\n",
              "      <td>был ли джиган в black star?</td>\n",
              "      <td>вместе с этим треком они выступили на церемонии вручения наград mtv rma — это был первыи выход джигана на большую сцену. в 2007 году джиган стал официальным артистом леибла black star inc., выпустил первыи песню и клип «одноклассница» — совместная работа с тимати. в марте 2011 года появилась совместная с юлеи савичевои композиция «отпусти». песня поднялась в радиочарте «tophit» до 8 места и заняла первое место чарта weekly audience choice top hit . количество просмотров клипа на youtube превысило 17 миллионов.</td>\n",
              "      <td>True</td>\n",
              "      <td>2</td>\n",
              "    </tr>\n",
              "    <tr>\n",
              "      <th>3</th>\n",
              "      <td>xiaomi конкурент apple?</td>\n",
              "      <td>xiaomi — китаиская компания, основанная в 2010 году и занимающаяся выпуском электроники и бытовои техники, а также разработкои программного обеспечения. основнои продукциеи компании являются смартфоны, первыи из которых был выпущен в 2011 году. в настоящее время xiaomi производит широкии ассортимент смартфонов в разных ценовых сегментах и является одним из крупнеиших производителеи смартфонов в мире. так, в третьем квартале 2014 года эта компания заняла наивысшее для себя третье место в мире по поставкам смартфонов, набрав 5,2 % в штучном выражении и уступив лишь samsung и apple . за весь 2017 год компания заняла по продажам первое место в китае и второе место в индии. в данном списке приводятся все смартфоны, когда-либо выпущенные компаниеи xiaomi.</td>\n",
              "      <td>True</td>\n",
              "      <td>3</td>\n",
              "    </tr>\n",
              "    <tr>\n",
              "      <th>4</th>\n",
              "      <td>был ли автомат калашникова в вов?</td>\n",
              "      <td>отметив некоторые недостатки и в целом удачную конструкцию, специалисты гау не рекомендовали принимать пп калашникова на вооружение по технологическим причинам. заключение гласило: с 1942 года калашников работал на центральном научно-исследовательском полигоне стрелкового и минометного вооружения гау ркка. здесь в 1944 году он создал опытныи образец самозарядного карабина, которыи, хотя и не вышел в серииное производство, частично послужил прототипом для создания автомата. с 1945 года михаил калашников начал разработку автоматического оружия под промежуточныи патрон 7,62×39 образца 1943 года. автомат калашникова победил в конкурсе 1947 года и был принят на вооружение.</td>\n",
              "      <td>False</td>\n",
              "      <td>4</td>\n",
              "    </tr>\n",
              "  </tbody>\n",
              "</table>\n",
              "</div>"
            ],
            "text/plain": [
              "                            question  \\\n",
              "0  вднх - это выставочныи центр?       \n",
              "1  вднх - это выставочныи центр?       \n",
              "2  был ли джиган в black star?         \n",
              "3  xiaomi конкурент apple?             \n",
              "4  был ли автомат калашникова в вов?   \n",
              "\n",
              "                                                                                                                                                                                                                                                                                                                                                                                                                                                                                                                                                                                                                                                                                                                                                                                                                                                                                                                          passage  \\\n",
              "0  «выставочныи центр» — станция московского монорельса. расположена между станциями «улица академика королева» и «улица сергея эизенштеина». находится на территории останкинского раиона северо-восточного административного округа города москвы. переход на станцию вднх калужско-рижскои линии. названа в честь всероссииского выставочного центра — названия вднх с 1992 по 2014 год. 20 ноября 2004 года линия монорельса начала работать в «экскурсионном режиме» и перевезла первых пассажиров .                                                                                                                                                                                                                                                                                                                                                                                                                           \n",
              "1  выставка достижении народного хозяиства , в 1959—1991 годах — выставка достижении народного хозяиства ссср , в 1992—2014 годах — всероссиискии выставочныи центр ) — выставочныи комплекс в останкинском раионе северо-восточного административного округа города москвы, второи по величине выставочныи комплекс в городе. входит в 50 крупнеиших выставочных центров мира. ежегодно вднх посещают 30 млн гостеи. 1 августа 2019 года выставка отпраздновала 80-летнии юбилеи. территориально вднх объединена с парком «останкино» и главным ботаническим садом , их общая площадь составляет почти 700 га: 240,2 га — площадь вднх, 75,6 га — площадь парка «останкино», 361 га — площадь гбс, 9,5 га музеино-выставочныи центр «рабочии и колхозница» и площадь перед аркои главного входа. на территории выставки расположено множество шедевров архитектуры — 49 объектов вднх признаны памятниками культурного наследия.   \n",
              "2  вместе с этим треком они выступили на церемонии вручения наград mtv rma — это был первыи выход джигана на большую сцену. в 2007 году джиган стал официальным артистом леибла black star inc., выпустил первыи песню и клип «одноклассница» — совместная работа с тимати. в марте 2011 года появилась совместная с юлеи савичевои композиция «отпусти». песня поднялась в радиочарте «tophit» до 8 места и заняла первое место чарта weekly audience choice top hit . количество просмотров клипа на youtube превысило 17 миллионов.                                                                                                                                                                                                                                                                                                                                                                                              \n",
              "3  xiaomi — китаиская компания, основанная в 2010 году и занимающаяся выпуском электроники и бытовои техники, а также разработкои программного обеспечения. основнои продукциеи компании являются смартфоны, первыи из которых был выпущен в 2011 году. в настоящее время xiaomi производит широкии ассортимент смартфонов в разных ценовых сегментах и является одним из крупнеиших производителеи смартфонов в мире. так, в третьем квартале 2014 года эта компания заняла наивысшее для себя третье место в мире по поставкам смартфонов, набрав 5,2 % в штучном выражении и уступив лишь samsung и apple . за весь 2017 год компания заняла по продажам первое место в китае и второе место в индии. в данном списке приводятся все смартфоны, когда-либо выпущенные компаниеи xiaomi.                                                                                                                                          \n",
              "4  отметив некоторые недостатки и в целом удачную конструкцию, специалисты гау не рекомендовали принимать пп калашникова на вооружение по технологическим причинам. заключение гласило: с 1942 года калашников работал на центральном научно-исследовательском полигоне стрелкового и минометного вооружения гау ркка. здесь в 1944 году он создал опытныи образец самозарядного карабина, которыи, хотя и не вышел в серииное производство, частично послужил прототипом для создания автомата. с 1945 года михаил калашников начал разработку автоматического оружия под промежуточныи патрон 7,62×39 образца 1943 года. автомат калашникова победил в конкурсе 1947 года и был принят на вооружение.                                                                                                                                                                                                                             \n",
              "\n",
              "   label  idx  \n",
              "0  True   0    \n",
              "1  True   1    \n",
              "2  True   2    \n",
              "3  True   3    \n",
              "4  False  4    "
            ]
          },
          "metadata": {},
          "output_type": "display_data"
        },
        {
          "name": "stdout",
          "output_type": "stream",
          "text": [
            "Stats:\n"
          ]
        },
        {
          "data": {
            "text/html": [
              "<div>\n",
              "<style scoped>\n",
              "    .dataframe tbody tr th:only-of-type {\n",
              "        vertical-align: middle;\n",
              "    }\n",
              "\n",
              "    .dataframe tbody tr th {\n",
              "        vertical-align: top;\n",
              "    }\n",
              "\n",
              "    .dataframe thead th {\n",
              "        text-align: right;\n",
              "    }\n",
              "</style>\n",
              "<table border=\"1\" class=\"dataframe\">\n",
              "  <thead>\n",
              "    <tr style=\"text-align: right;\">\n",
              "      <th></th>\n",
              "      <th>label</th>\n",
              "      <th>MIN</th>\n",
              "      <th>MAX</th>\n",
              "      <th>MEAN</th>\n",
              "    </tr>\n",
              "  </thead>\n",
              "  <tbody>\n",
              "    <tr>\n",
              "      <th>0</th>\n",
              "      <td>question(symbols)</td>\n",
              "      <td>14</td>\n",
              "      <td>182</td>\n",
              "      <td>41</td>\n",
              "    </tr>\n",
              "    <tr>\n",
              "      <th>1</th>\n",
              "      <td>question(words)</td>\n",
              "      <td>3</td>\n",
              "      <td>30</td>\n",
              "      <td>7</td>\n",
              "    </tr>\n",
              "    <tr>\n",
              "      <th>2</th>\n",
              "      <td>passage(symbols)</td>\n",
              "      <td>293</td>\n",
              "      <td>3200</td>\n",
              "      <td>722</td>\n",
              "    </tr>\n",
              "    <tr>\n",
              "      <th>3</th>\n",
              "      <td>passage(words)</td>\n",
              "      <td>48</td>\n",
              "      <td>587</td>\n",
              "      <td>115</td>\n",
              "    </tr>\n",
              "  </tbody>\n",
              "</table>\n",
              "</div>"
            ],
            "text/plain": [
              "               label  MIN   MAX  MEAN\n",
              "0  question(symbols)  14   182   41  \n",
              "1  question(words)    3    30    7   \n",
              "2  passage(symbols)   293  3200  722 \n",
              "3  passage(words)     48   587   115 "
            ]
          },
          "metadata": {},
          "output_type": "display_data"
        },
        {
          "name": "stdout",
          "output_type": "stream",
          "text": [
            "True answer: 1061\n",
            "False answer: 688\n",
            "\n",
            "Test set:\n"
          ]
        },
        {
          "data": {
            "text/html": [
              "<div>\n",
              "<style scoped>\n",
              "    .dataframe tbody tr th:only-of-type {\n",
              "        vertical-align: middle;\n",
              "    }\n",
              "\n",
              "    .dataframe tbody tr th {\n",
              "        vertical-align: top;\n",
              "    }\n",
              "\n",
              "    .dataframe thead th {\n",
              "        text-align: right;\n",
              "    }\n",
              "</style>\n",
              "<table border=\"1\" class=\"dataframe\">\n",
              "  <thead>\n",
              "    <tr style=\"text-align: right;\">\n",
              "      <th></th>\n",
              "      <th>question</th>\n",
              "      <th>passage</th>\n",
              "      <th>label</th>\n",
              "      <th>idx</th>\n",
              "    </tr>\n",
              "  </thead>\n",
              "  <tbody>\n",
              "    <tr>\n",
              "      <th>0</th>\n",
              "      <td>вднх - это выставочныи центр?</td>\n",
              "      <td>«выставочныи центр» — станция московского монорельса. расположена между станциями «улица академика королева» и «улица сергея эизенштеина». находится на территории останкинского раиона северо-восточного административного округа города москвы. переход на станцию вднх калужско-рижскои линии. названа в честь всероссииского выставочного центра — названия вднх с 1992 по 2014 год. 20 ноября 2004 года линия монорельса начала работать в «экскурсионном режиме» и перевезла первых пассажиров .</td>\n",
              "      <td>True</td>\n",
              "      <td>0</td>\n",
              "    </tr>\n",
              "    <tr>\n",
              "      <th>1</th>\n",
              "      <td>вднх - это выставочныи центр?</td>\n",
              "      <td>выставка достижении народного хозяиства , в 1959—1991 годах — выставка достижении народного хозяиства ссср , в 1992—2014 годах — всероссиискии выставочныи центр ) — выставочныи комплекс в останкинском раионе северо-восточного административного округа города москвы, второи по величине выставочныи комплекс в городе. входит в 50 крупнеиших выставочных центров мира. ежегодно вднх посещают 30 млн гостеи. 1 августа 2019 года выставка отпраздновала 80-летнии юбилеи. территориально вднх объединена с парком «останкино» и главным ботаническим садом , их общая площадь составляет почти 700 га: 240,2 га — площадь вднх, 75,6 га — площадь парка «останкино», 361 га — площадь гбс, 9,5 га музеино-выставочныи центр «рабочии и колхозница» и площадь перед аркои главного входа. на территории выставки расположено множество шедевров архитектуры — 49 объектов вднх признаны памятниками культурного наследия.</td>\n",
              "      <td>True</td>\n",
              "      <td>1</td>\n",
              "    </tr>\n",
              "    <tr>\n",
              "      <th>2</th>\n",
              "      <td>был ли джиган в black star?</td>\n",
              "      <td>вместе с этим треком они выступили на церемонии вручения наград mtv rma — это был первыи выход джигана на большую сцену. в 2007 году джиган стал официальным артистом леибла black star inc., выпустил первыи песню и клип «одноклассница» — совместная работа с тимати. в марте 2011 года появилась совместная с юлеи савичевои композиция «отпусти». песня поднялась в радиочарте «tophit» до 8 места и заняла первое место чарта weekly audience choice top hit . количество просмотров клипа на youtube превысило 17 миллионов.</td>\n",
              "      <td>True</td>\n",
              "      <td>2</td>\n",
              "    </tr>\n",
              "    <tr>\n",
              "      <th>3</th>\n",
              "      <td>xiaomi конкурент apple?</td>\n",
              "      <td>xiaomi — китаиская компания, основанная в 2010 году и занимающаяся выпуском электроники и бытовои техники, а также разработкои программного обеспечения. основнои продукциеи компании являются смартфоны, первыи из которых был выпущен в 2011 году. в настоящее время xiaomi производит широкии ассортимент смартфонов в разных ценовых сегментах и является одним из крупнеиших производителеи смартфонов в мире. так, в третьем квартале 2014 года эта компания заняла наивысшее для себя третье место в мире по поставкам смартфонов, набрав 5,2 % в штучном выражении и уступив лишь samsung и apple . за весь 2017 год компания заняла по продажам первое место в китае и второе место в индии. в данном списке приводятся все смартфоны, когда-либо выпущенные компаниеи xiaomi.</td>\n",
              "      <td>True</td>\n",
              "      <td>3</td>\n",
              "    </tr>\n",
              "    <tr>\n",
              "      <th>4</th>\n",
              "      <td>был ли автомат калашникова в вов?</td>\n",
              "      <td>отметив некоторые недостатки и в целом удачную конструкцию, специалисты гау не рекомендовали принимать пп калашникова на вооружение по технологическим причинам. заключение гласило: с 1942 года калашников работал на центральном научно-исследовательском полигоне стрелкового и минометного вооружения гау ркка. здесь в 1944 году он создал опытныи образец самозарядного карабина, которыи, хотя и не вышел в серииное производство, частично послужил прототипом для создания автомата. с 1945 года михаил калашников начал разработку автоматического оружия под промежуточныи патрон 7,62×39 образца 1943 года. автомат калашникова победил в конкурсе 1947 года и был принят на вооружение.</td>\n",
              "      <td>False</td>\n",
              "      <td>4</td>\n",
              "    </tr>\n",
              "  </tbody>\n",
              "</table>\n",
              "</div>"
            ],
            "text/plain": [
              "                            question  \\\n",
              "0  вднх - это выставочныи центр?       \n",
              "1  вднх - это выставочныи центр?       \n",
              "2  был ли джиган в black star?         \n",
              "3  xiaomi конкурент apple?             \n",
              "4  был ли автомат калашникова в вов?   \n",
              "\n",
              "                                                                                                                                                                                                                                                                                                                                                                                                                                                                                                                                                                                                                                                                                                                                                                                                                                                                                                                          passage  \\\n",
              "0  «выставочныи центр» — станция московского монорельса. расположена между станциями «улица академика королева» и «улица сергея эизенштеина». находится на территории останкинского раиона северо-восточного административного округа города москвы. переход на станцию вднх калужско-рижскои линии. названа в честь всероссииского выставочного центра — названия вднх с 1992 по 2014 год. 20 ноября 2004 года линия монорельса начала работать в «экскурсионном режиме» и перевезла первых пассажиров .                                                                                                                                                                                                                                                                                                                                                                                                                           \n",
              "1  выставка достижении народного хозяиства , в 1959—1991 годах — выставка достижении народного хозяиства ссср , в 1992—2014 годах — всероссиискии выставочныи центр ) — выставочныи комплекс в останкинском раионе северо-восточного административного округа города москвы, второи по величине выставочныи комплекс в городе. входит в 50 крупнеиших выставочных центров мира. ежегодно вднх посещают 30 млн гостеи. 1 августа 2019 года выставка отпраздновала 80-летнии юбилеи. территориально вднх объединена с парком «останкино» и главным ботаническим садом , их общая площадь составляет почти 700 га: 240,2 га — площадь вднх, 75,6 га — площадь парка «останкино», 361 га — площадь гбс, 9,5 га музеино-выставочныи центр «рабочии и колхозница» и площадь перед аркои главного входа. на территории выставки расположено множество шедевров архитектуры — 49 объектов вднх признаны памятниками культурного наследия.   \n",
              "2  вместе с этим треком они выступили на церемонии вручения наград mtv rma — это был первыи выход джигана на большую сцену. в 2007 году джиган стал официальным артистом леибла black star inc., выпустил первыи песню и клип «одноклассница» — совместная работа с тимати. в марте 2011 года появилась совместная с юлеи савичевои композиция «отпусти». песня поднялась в радиочарте «tophit» до 8 места и заняла первое место чарта weekly audience choice top hit . количество просмотров клипа на youtube превысило 17 миллионов.                                                                                                                                                                                                                                                                                                                                                                                              \n",
              "3  xiaomi — китаиская компания, основанная в 2010 году и занимающаяся выпуском электроники и бытовои техники, а также разработкои программного обеспечения. основнои продукциеи компании являются смартфоны, первыи из которых был выпущен в 2011 году. в настоящее время xiaomi производит широкии ассортимент смартфонов в разных ценовых сегментах и является одним из крупнеиших производителеи смартфонов в мире. так, в третьем квартале 2014 года эта компания заняла наивысшее для себя третье место в мире по поставкам смартфонов, набрав 5,2 % в штучном выражении и уступив лишь samsung и apple . за весь 2017 год компания заняла по продажам первое место в китае и второе место в индии. в данном списке приводятся все смартфоны, когда-либо выпущенные компаниеи xiaomi.                                                                                                                                          \n",
              "4  отметив некоторые недостатки и в целом удачную конструкцию, специалисты гау не рекомендовали принимать пп калашникова на вооружение по технологическим причинам. заключение гласило: с 1942 года калашников работал на центральном научно-исследовательском полигоне стрелкового и минометного вооружения гау ркка. здесь в 1944 году он создал опытныи образец самозарядного карабина, которыи, хотя и не вышел в серииное производство, частично послужил прототипом для создания автомата. с 1945 года михаил калашников начал разработку автоматического оружия под промежуточныи патрон 7,62×39 образца 1943 года. автомат калашникова победил в конкурсе 1947 года и был принят на вооружение.                                                                                                                                                                                                                             \n",
              "\n",
              "   label  idx  \n",
              "0  True   0    \n",
              "1  True   1    \n",
              "2  True   2    \n",
              "3  True   3    \n",
              "4  False  4    "
            ]
          },
          "metadata": {},
          "output_type": "display_data"
        },
        {
          "name": "stdout",
          "output_type": "stream",
          "text": [
            "Stats:\n"
          ]
        },
        {
          "data": {
            "text/html": [
              "<div>\n",
              "<style scoped>\n",
              "    .dataframe tbody tr th:only-of-type {\n",
              "        vertical-align: middle;\n",
              "    }\n",
              "\n",
              "    .dataframe tbody tr th {\n",
              "        vertical-align: top;\n",
              "    }\n",
              "\n",
              "    .dataframe thead th {\n",
              "        text-align: right;\n",
              "    }\n",
              "</style>\n",
              "<table border=\"1\" class=\"dataframe\">\n",
              "  <thead>\n",
              "    <tr style=\"text-align: right;\">\n",
              "      <th></th>\n",
              "      <th>label</th>\n",
              "      <th>MIN</th>\n",
              "      <th>MAX</th>\n",
              "      <th>MEAN</th>\n",
              "    </tr>\n",
              "  </thead>\n",
              "  <tbody>\n",
              "    <tr>\n",
              "      <th>0</th>\n",
              "      <td>question(symbols)</td>\n",
              "      <td>14</td>\n",
              "      <td>182</td>\n",
              "      <td>41</td>\n",
              "    </tr>\n",
              "    <tr>\n",
              "      <th>1</th>\n",
              "      <td>question(words)</td>\n",
              "      <td>3</td>\n",
              "      <td>30</td>\n",
              "      <td>7</td>\n",
              "    </tr>\n",
              "    <tr>\n",
              "      <th>2</th>\n",
              "      <td>passage(symbols)</td>\n",
              "      <td>293</td>\n",
              "      <td>3200</td>\n",
              "      <td>722</td>\n",
              "    </tr>\n",
              "    <tr>\n",
              "      <th>3</th>\n",
              "      <td>passage(words)</td>\n",
              "      <td>48</td>\n",
              "      <td>587</td>\n",
              "      <td>115</td>\n",
              "    </tr>\n",
              "  </tbody>\n",
              "</table>\n",
              "</div>"
            ],
            "text/plain": [
              "               label  MIN   MAX  MEAN\n",
              "0  question(symbols)  14   182   41  \n",
              "1  question(words)    3    30    7   \n",
              "2  passage(symbols)   293  3200  722 \n",
              "3  passage(words)     48   587   115 "
            ]
          },
          "metadata": {},
          "output_type": "display_data"
        },
        {
          "name": "stdout",
          "output_type": "stream",
          "text": [
            "True answer: 1061\n",
            "False answer: 688\n",
            "\n"
          ]
        }
      ],
      "source": [
        "df_trainL2, df_trainL2_stat = loadJSONL(fileNameData(\"train_L2\"), \"Train set\")\n",
        "df_validationL2, df_validationL2_stat = loadJSONL(fileNameData(\"train_L2\"), \"Validation set\")\n",
        "df_testL2, df_testL2_stat = loadJSONL(fileNameData(\"train_L2\"), \"Test set:\")"
      ]
    },
    {
      "cell_type": "markdown",
      "metadata": {},
      "source": [
        "### L3: удаляем символы пунктуации и тд"
      ]
    },
    {
      "cell_type": "code",
      "execution_count": 7,
      "metadata": {},
      "outputs": [
        {
          "name": "stdout",
          "output_type": "stream",
          "text": [
            "Train set\n"
          ]
        },
        {
          "data": {
            "text/html": [
              "<div>\n",
              "<style scoped>\n",
              "    .dataframe tbody tr th:only-of-type {\n",
              "        vertical-align: middle;\n",
              "    }\n",
              "\n",
              "    .dataframe tbody tr th {\n",
              "        vertical-align: top;\n",
              "    }\n",
              "\n",
              "    .dataframe thead th {\n",
              "        text-align: right;\n",
              "    }\n",
              "</style>\n",
              "<table border=\"1\" class=\"dataframe\">\n",
              "  <thead>\n",
              "    <tr style=\"text-align: right;\">\n",
              "      <th></th>\n",
              "      <th>question</th>\n",
              "      <th>passage</th>\n",
              "      <th>label</th>\n",
              "      <th>idx</th>\n",
              "    </tr>\n",
              "  </thead>\n",
              "  <tbody>\n",
              "    <tr>\n",
              "      <th>0</th>\n",
              "      <td>вднх это выставочныи центр</td>\n",
              "      <td>выставочныи центр станция московского монорельса расположена между станциями улица академика королева и улица сергея эизенштеина находится на территории останкинского раиона северо восточного административного округа города москвы переход на станцию вднх калужско рижскои линии названа в честь всероссииского выставочного центра названия вднх с 1992 по 2014 год 20 ноября 2004 года линия монорельса начала работать в экскурсионном режиме и перевезла первых пассажиров</td>\n",
              "      <td>True</td>\n",
              "      <td>0</td>\n",
              "    </tr>\n",
              "    <tr>\n",
              "      <th>1</th>\n",
              "      <td>вднх это выставочныи центр</td>\n",
              "      <td>выставка достижении народного хозяиства в 1959 1991 годах выставка достижении народного хозяиства ссср в 1992 2014 годах всероссиискии выставочныи центр выставочныи комплекс в останкинском раионе северо восточного административного округа города москвы второи по величине выставочныи комплекс в городе входит в 50 крупнеиших выставочных центров мира ежегодно вднх посещают 30 млн гостеи 1 августа 2019 года выставка отпраздновала 80 летнии юбилеи территориально вднх объединена с парком останкино и главным ботаническим садом их общая площадь составляет почти 700 га 240 2 га площадь вднх 75 6 га площадь парка останкино 361 га площадь гбс 9 5 га музеино выставочныи центр рабочии и колхозница и площадь перед аркои главного входа на территории выставки расположено множество шедевров архитектуры 49 объектов вднх признаны памятниками культурного наследия</td>\n",
              "      <td>True</td>\n",
              "      <td>1</td>\n",
              "    </tr>\n",
              "    <tr>\n",
              "      <th>2</th>\n",
              "      <td>был ли джиган в black star</td>\n",
              "      <td>вместе с этим треком они выступили на церемонии вручения наград mtv rma это был первыи выход джигана на большую сцену в 2007 году джиган стал официальным артистом леибла black star inc выпустил первыи песню и клип одноклассница совместная работа с тимати в марте 2011 года появилась совместная с юлеи савичевои композиция отпусти песня поднялась в радиочарте tophit до 8 места и заняла первое место чарта weekly audience choice top hit количество просмотров клипа на youtube превысило 17 миллионов</td>\n",
              "      <td>True</td>\n",
              "      <td>2</td>\n",
              "    </tr>\n",
              "    <tr>\n",
              "      <th>3</th>\n",
              "      <td>xiaomi конкурент apple</td>\n",
              "      <td>xiaomi китаиская компания основанная в 2010 году и занимающаяся выпуском электроники и бытовои техники а также разработкои программного обеспечения основнои продукциеи компании являются смартфоны первыи из которых был выпущен в 2011 году в настоящее время xiaomi производит широкии ассортимент смартфонов в разных ценовых сегментах и является одним из крупнеиших производителеи смартфонов в мире так в третьем квартале 2014 года эта компания заняла наивысшее для себя третье место в мире по поставкам смартфонов набрав 5 2 в штучном выражении и уступив лишь samsung и apple за весь 2017 год компания заняла по продажам первое место в китае и второе место в индии в данном списке приводятся все смартфоны когда либо выпущенные компаниеи xiaomi</td>\n",
              "      <td>True</td>\n",
              "      <td>3</td>\n",
              "    </tr>\n",
              "    <tr>\n",
              "      <th>4</th>\n",
              "      <td>был ли автомат калашникова в вов</td>\n",
              "      <td>отметив некоторые недостатки и в целом удачную конструкцию специалисты гау не рекомендовали принимать пп калашникова на вооружение по технологическим причинам заключение гласило с 1942 года калашников работал на центральном научно исследовательском полигоне стрелкового и минометного вооружения гау ркка здесь в 1944 году он создал опытныи образец самозарядного карабина которыи хотя и не вышел в серииное производство частично послужил прототипом для создания автомата с 1945 года михаил калашников начал разработку автоматического оружия под промежуточныи патрон 7 62×39 образца 1943 года автомат калашникова победил в конкурсе 1947 года и был принят на вооружение</td>\n",
              "      <td>False</td>\n",
              "      <td>4</td>\n",
              "    </tr>\n",
              "  </tbody>\n",
              "</table>\n",
              "</div>"
            ],
            "text/plain": [
              "                           question  \\\n",
              "0  вднх это выставочныи центр         \n",
              "1  вднх это выставочныи центр         \n",
              "2  был ли джиган в black star         \n",
              "3  xiaomi конкурент apple             \n",
              "4  был ли автомат калашникова в вов   \n",
              "\n",
              "                                                                                                                                                                                                                                                                                                                                                                                                                                                                                                                                                                                                                                                                                                                                                                                                                                                                                   passage  \\\n",
              "0  выставочныи центр станция московского монорельса расположена между станциями улица академика королева и улица сергея эизенштеина находится на территории останкинского раиона северо восточного административного округа города москвы переход на станцию вднх калужско рижскои линии названа в честь всероссииского выставочного центра названия вднх с 1992 по 2014 год 20 ноября 2004 года линия монорельса начала работать в экскурсионном режиме и перевезла первых пассажиров                                                                                                                                                                                                                                                                                                                                                                                                       \n",
              "1  выставка достижении народного хозяиства в 1959 1991 годах выставка достижении народного хозяиства ссср в 1992 2014 годах всероссиискии выставочныи центр выставочныи комплекс в останкинском раионе северо восточного административного округа города москвы второи по величине выставочныи комплекс в городе входит в 50 крупнеиших выставочных центров мира ежегодно вднх посещают 30 млн гостеи 1 августа 2019 года выставка отпраздновала 80 летнии юбилеи территориально вднх объединена с парком останкино и главным ботаническим садом их общая площадь составляет почти 700 га 240 2 га площадь вднх 75 6 га площадь парка останкино 361 га площадь гбс 9 5 га музеино выставочныи центр рабочии и колхозница и площадь перед аркои главного входа на территории выставки расположено множество шедевров архитектуры 49 объектов вднх признаны памятниками культурного наследия   \n",
              "2  вместе с этим треком они выступили на церемонии вручения наград mtv rma это был первыи выход джигана на большую сцену в 2007 году джиган стал официальным артистом леибла black star inc выпустил первыи песню и клип одноклассница совместная работа с тимати в марте 2011 года появилась совместная с юлеи савичевои композиция отпусти песня поднялась в радиочарте tophit до 8 места и заняла первое место чарта weekly audience choice top hit количество просмотров клипа на youtube превысило 17 миллионов                                                                                                                                                                                                                                                                                                                                                                         \n",
              "3  xiaomi китаиская компания основанная в 2010 году и занимающаяся выпуском электроники и бытовои техники а также разработкои программного обеспечения основнои продукциеи компании являются смартфоны первыи из которых был выпущен в 2011 году в настоящее время xiaomi производит широкии ассортимент смартфонов в разных ценовых сегментах и является одним из крупнеиших производителеи смартфонов в мире так в третьем квартале 2014 года эта компания заняла наивысшее для себя третье место в мире по поставкам смартфонов набрав 5 2 в штучном выражении и уступив лишь samsung и apple за весь 2017 год компания заняла по продажам первое место в китае и второе место в индии в данном списке приводятся все смартфоны когда либо выпущенные компаниеи xiaomi                                                                                                                    \n",
              "4  отметив некоторые недостатки и в целом удачную конструкцию специалисты гау не рекомендовали принимать пп калашникова на вооружение по технологическим причинам заключение гласило с 1942 года калашников работал на центральном научно исследовательском полигоне стрелкового и минометного вооружения гау ркка здесь в 1944 году он создал опытныи образец самозарядного карабина которыи хотя и не вышел в серииное производство частично послужил прототипом для создания автомата с 1945 года михаил калашников начал разработку автоматического оружия под промежуточныи патрон 7 62×39 образца 1943 года автомат калашникова победил в конкурсе 1947 года и был принят на вооружение                                                                                                                                                                                                \n",
              "\n",
              "   label  idx  \n",
              "0  True   0    \n",
              "1  True   1    \n",
              "2  True   2    \n",
              "3  True   3    \n",
              "4  False  4    "
            ]
          },
          "metadata": {},
          "output_type": "display_data"
        },
        {
          "name": "stdout",
          "output_type": "stream",
          "text": [
            "Stats:\n"
          ]
        },
        {
          "data": {
            "text/html": [
              "<div>\n",
              "<style scoped>\n",
              "    .dataframe tbody tr th:only-of-type {\n",
              "        vertical-align: middle;\n",
              "    }\n",
              "\n",
              "    .dataframe tbody tr th {\n",
              "        vertical-align: top;\n",
              "    }\n",
              "\n",
              "    .dataframe thead th {\n",
              "        text-align: right;\n",
              "    }\n",
              "</style>\n",
              "<table border=\"1\" class=\"dataframe\">\n",
              "  <thead>\n",
              "    <tr style=\"text-align: right;\">\n",
              "      <th></th>\n",
              "      <th>label</th>\n",
              "      <th>MIN</th>\n",
              "      <th>MAX</th>\n",
              "      <th>MEAN</th>\n",
              "    </tr>\n",
              "  </thead>\n",
              "  <tbody>\n",
              "    <tr>\n",
              "      <th>0</th>\n",
              "      <td>question(symbols)</td>\n",
              "      <td>13</td>\n",
              "      <td>179</td>\n",
              "      <td>40</td>\n",
              "    </tr>\n",
              "    <tr>\n",
              "      <th>1</th>\n",
              "      <td>question(words)</td>\n",
              "      <td>2</td>\n",
              "      <td>28</td>\n",
              "      <td>6</td>\n",
              "    </tr>\n",
              "    <tr>\n",
              "      <th>2</th>\n",
              "      <td>passage(symbols)</td>\n",
              "      <td>271</td>\n",
              "      <td>3095</td>\n",
              "      <td>701</td>\n",
              "    </tr>\n",
              "    <tr>\n",
              "      <th>3</th>\n",
              "      <td>passage(words)</td>\n",
              "      <td>40</td>\n",
              "      <td>479</td>\n",
              "      <td>98</td>\n",
              "    </tr>\n",
              "  </tbody>\n",
              "</table>\n",
              "</div>"
            ],
            "text/plain": [
              "               label  MIN   MAX  MEAN\n",
              "0  question(symbols)  13   179   40  \n",
              "1  question(words)    2    28    6   \n",
              "2  passage(symbols)   271  3095  701 \n",
              "3  passage(words)     40   479   98  "
            ]
          },
          "metadata": {},
          "output_type": "display_data"
        },
        {
          "name": "stdout",
          "output_type": "stream",
          "text": [
            "True answer: 1061\n",
            "False answer: 688\n",
            "\n",
            "Validation set\n"
          ]
        },
        {
          "data": {
            "text/html": [
              "<div>\n",
              "<style scoped>\n",
              "    .dataframe tbody tr th:only-of-type {\n",
              "        vertical-align: middle;\n",
              "    }\n",
              "\n",
              "    .dataframe tbody tr th {\n",
              "        vertical-align: top;\n",
              "    }\n",
              "\n",
              "    .dataframe thead th {\n",
              "        text-align: right;\n",
              "    }\n",
              "</style>\n",
              "<table border=\"1\" class=\"dataframe\">\n",
              "  <thead>\n",
              "    <tr style=\"text-align: right;\">\n",
              "      <th></th>\n",
              "      <th>question</th>\n",
              "      <th>passage</th>\n",
              "      <th>label</th>\n",
              "      <th>idx</th>\n",
              "    </tr>\n",
              "  </thead>\n",
              "  <tbody>\n",
              "    <tr>\n",
              "      <th>0</th>\n",
              "      <td>вднх это выставочныи центр</td>\n",
              "      <td>выставочныи центр станция московского монорельса расположена между станциями улица академика королева и улица сергея эизенштеина находится на территории останкинского раиона северо восточного административного округа города москвы переход на станцию вднх калужско рижскои линии названа в честь всероссииского выставочного центра названия вднх с 1992 по 2014 год 20 ноября 2004 года линия монорельса начала работать в экскурсионном режиме и перевезла первых пассажиров</td>\n",
              "      <td>True</td>\n",
              "      <td>0</td>\n",
              "    </tr>\n",
              "    <tr>\n",
              "      <th>1</th>\n",
              "      <td>вднх это выставочныи центр</td>\n",
              "      <td>выставка достижении народного хозяиства в 1959 1991 годах выставка достижении народного хозяиства ссср в 1992 2014 годах всероссиискии выставочныи центр выставочныи комплекс в останкинском раионе северо восточного административного округа города москвы второи по величине выставочныи комплекс в городе входит в 50 крупнеиших выставочных центров мира ежегодно вднх посещают 30 млн гостеи 1 августа 2019 года выставка отпраздновала 80 летнии юбилеи территориально вднх объединена с парком останкино и главным ботаническим садом их общая площадь составляет почти 700 га 240 2 га площадь вднх 75 6 га площадь парка останкино 361 га площадь гбс 9 5 га музеино выставочныи центр рабочии и колхозница и площадь перед аркои главного входа на территории выставки расположено множество шедевров архитектуры 49 объектов вднх признаны памятниками культурного наследия</td>\n",
              "      <td>True</td>\n",
              "      <td>1</td>\n",
              "    </tr>\n",
              "    <tr>\n",
              "      <th>2</th>\n",
              "      <td>был ли джиган в black star</td>\n",
              "      <td>вместе с этим треком они выступили на церемонии вручения наград mtv rma это был первыи выход джигана на большую сцену в 2007 году джиган стал официальным артистом леибла black star inc выпустил первыи песню и клип одноклассница совместная работа с тимати в марте 2011 года появилась совместная с юлеи савичевои композиция отпусти песня поднялась в радиочарте tophit до 8 места и заняла первое место чарта weekly audience choice top hit количество просмотров клипа на youtube превысило 17 миллионов</td>\n",
              "      <td>True</td>\n",
              "      <td>2</td>\n",
              "    </tr>\n",
              "    <tr>\n",
              "      <th>3</th>\n",
              "      <td>xiaomi конкурент apple</td>\n",
              "      <td>xiaomi китаиская компания основанная в 2010 году и занимающаяся выпуском электроники и бытовои техники а также разработкои программного обеспечения основнои продукциеи компании являются смартфоны первыи из которых был выпущен в 2011 году в настоящее время xiaomi производит широкии ассортимент смартфонов в разных ценовых сегментах и является одним из крупнеиших производителеи смартфонов в мире так в третьем квартале 2014 года эта компания заняла наивысшее для себя третье место в мире по поставкам смартфонов набрав 5 2 в штучном выражении и уступив лишь samsung и apple за весь 2017 год компания заняла по продажам первое место в китае и второе место в индии в данном списке приводятся все смартфоны когда либо выпущенные компаниеи xiaomi</td>\n",
              "      <td>True</td>\n",
              "      <td>3</td>\n",
              "    </tr>\n",
              "    <tr>\n",
              "      <th>4</th>\n",
              "      <td>был ли автомат калашникова в вов</td>\n",
              "      <td>отметив некоторые недостатки и в целом удачную конструкцию специалисты гау не рекомендовали принимать пп калашникова на вооружение по технологическим причинам заключение гласило с 1942 года калашников работал на центральном научно исследовательском полигоне стрелкового и минометного вооружения гау ркка здесь в 1944 году он создал опытныи образец самозарядного карабина которыи хотя и не вышел в серииное производство частично послужил прототипом для создания автомата с 1945 года михаил калашников начал разработку автоматического оружия под промежуточныи патрон 7 62×39 образца 1943 года автомат калашникова победил в конкурсе 1947 года и был принят на вооружение</td>\n",
              "      <td>False</td>\n",
              "      <td>4</td>\n",
              "    </tr>\n",
              "  </tbody>\n",
              "</table>\n",
              "</div>"
            ],
            "text/plain": [
              "                           question  \\\n",
              "0  вднх это выставочныи центр         \n",
              "1  вднх это выставочныи центр         \n",
              "2  был ли джиган в black star         \n",
              "3  xiaomi конкурент apple             \n",
              "4  был ли автомат калашникова в вов   \n",
              "\n",
              "                                                                                                                                                                                                                                                                                                                                                                                                                                                                                                                                                                                                                                                                                                                                                                                                                                                                                   passage  \\\n",
              "0  выставочныи центр станция московского монорельса расположена между станциями улица академика королева и улица сергея эизенштеина находится на территории останкинского раиона северо восточного административного округа города москвы переход на станцию вднх калужско рижскои линии названа в честь всероссииского выставочного центра названия вднх с 1992 по 2014 год 20 ноября 2004 года линия монорельса начала работать в экскурсионном режиме и перевезла первых пассажиров                                                                                                                                                                                                                                                                                                                                                                                                       \n",
              "1  выставка достижении народного хозяиства в 1959 1991 годах выставка достижении народного хозяиства ссср в 1992 2014 годах всероссиискии выставочныи центр выставочныи комплекс в останкинском раионе северо восточного административного округа города москвы второи по величине выставочныи комплекс в городе входит в 50 крупнеиших выставочных центров мира ежегодно вднх посещают 30 млн гостеи 1 августа 2019 года выставка отпраздновала 80 летнии юбилеи территориально вднх объединена с парком останкино и главным ботаническим садом их общая площадь составляет почти 700 га 240 2 га площадь вднх 75 6 га площадь парка останкино 361 га площадь гбс 9 5 га музеино выставочныи центр рабочии и колхозница и площадь перед аркои главного входа на территории выставки расположено множество шедевров архитектуры 49 объектов вднх признаны памятниками культурного наследия   \n",
              "2  вместе с этим треком они выступили на церемонии вручения наград mtv rma это был первыи выход джигана на большую сцену в 2007 году джиган стал официальным артистом леибла black star inc выпустил первыи песню и клип одноклассница совместная работа с тимати в марте 2011 года появилась совместная с юлеи савичевои композиция отпусти песня поднялась в радиочарте tophit до 8 места и заняла первое место чарта weekly audience choice top hit количество просмотров клипа на youtube превысило 17 миллионов                                                                                                                                                                                                                                                                                                                                                                         \n",
              "3  xiaomi китаиская компания основанная в 2010 году и занимающаяся выпуском электроники и бытовои техники а также разработкои программного обеспечения основнои продукциеи компании являются смартфоны первыи из которых был выпущен в 2011 году в настоящее время xiaomi производит широкии ассортимент смартфонов в разных ценовых сегментах и является одним из крупнеиших производителеи смартфонов в мире так в третьем квартале 2014 года эта компания заняла наивысшее для себя третье место в мире по поставкам смартфонов набрав 5 2 в штучном выражении и уступив лишь samsung и apple за весь 2017 год компания заняла по продажам первое место в китае и второе место в индии в данном списке приводятся все смартфоны когда либо выпущенные компаниеи xiaomi                                                                                                                    \n",
              "4  отметив некоторые недостатки и в целом удачную конструкцию специалисты гау не рекомендовали принимать пп калашникова на вооружение по технологическим причинам заключение гласило с 1942 года калашников работал на центральном научно исследовательском полигоне стрелкового и минометного вооружения гау ркка здесь в 1944 году он создал опытныи образец самозарядного карабина которыи хотя и не вышел в серииное производство частично послужил прототипом для создания автомата с 1945 года михаил калашников начал разработку автоматического оружия под промежуточныи патрон 7 62×39 образца 1943 года автомат калашникова победил в конкурсе 1947 года и был принят на вооружение                                                                                                                                                                                                \n",
              "\n",
              "   label  idx  \n",
              "0  True   0    \n",
              "1  True   1    \n",
              "2  True   2    \n",
              "3  True   3    \n",
              "4  False  4    "
            ]
          },
          "metadata": {},
          "output_type": "display_data"
        },
        {
          "name": "stdout",
          "output_type": "stream",
          "text": [
            "Stats:\n"
          ]
        },
        {
          "data": {
            "text/html": [
              "<div>\n",
              "<style scoped>\n",
              "    .dataframe tbody tr th:only-of-type {\n",
              "        vertical-align: middle;\n",
              "    }\n",
              "\n",
              "    .dataframe tbody tr th {\n",
              "        vertical-align: top;\n",
              "    }\n",
              "\n",
              "    .dataframe thead th {\n",
              "        text-align: right;\n",
              "    }\n",
              "</style>\n",
              "<table border=\"1\" class=\"dataframe\">\n",
              "  <thead>\n",
              "    <tr style=\"text-align: right;\">\n",
              "      <th></th>\n",
              "      <th>label</th>\n",
              "      <th>MIN</th>\n",
              "      <th>MAX</th>\n",
              "      <th>MEAN</th>\n",
              "    </tr>\n",
              "  </thead>\n",
              "  <tbody>\n",
              "    <tr>\n",
              "      <th>0</th>\n",
              "      <td>question(symbols)</td>\n",
              "      <td>13</td>\n",
              "      <td>179</td>\n",
              "      <td>40</td>\n",
              "    </tr>\n",
              "    <tr>\n",
              "      <th>1</th>\n",
              "      <td>question(words)</td>\n",
              "      <td>2</td>\n",
              "      <td>28</td>\n",
              "      <td>6</td>\n",
              "    </tr>\n",
              "    <tr>\n",
              "      <th>2</th>\n",
              "      <td>passage(symbols)</td>\n",
              "      <td>271</td>\n",
              "      <td>3095</td>\n",
              "      <td>701</td>\n",
              "    </tr>\n",
              "    <tr>\n",
              "      <th>3</th>\n",
              "      <td>passage(words)</td>\n",
              "      <td>40</td>\n",
              "      <td>479</td>\n",
              "      <td>98</td>\n",
              "    </tr>\n",
              "  </tbody>\n",
              "</table>\n",
              "</div>"
            ],
            "text/plain": [
              "               label  MIN   MAX  MEAN\n",
              "0  question(symbols)  13   179   40  \n",
              "1  question(words)    2    28    6   \n",
              "2  passage(symbols)   271  3095  701 \n",
              "3  passage(words)     40   479   98  "
            ]
          },
          "metadata": {},
          "output_type": "display_data"
        },
        {
          "name": "stdout",
          "output_type": "stream",
          "text": [
            "True answer: 1061\n",
            "False answer: 688\n",
            "\n",
            "Test set:\n"
          ]
        },
        {
          "data": {
            "text/html": [
              "<div>\n",
              "<style scoped>\n",
              "    .dataframe tbody tr th:only-of-type {\n",
              "        vertical-align: middle;\n",
              "    }\n",
              "\n",
              "    .dataframe tbody tr th {\n",
              "        vertical-align: top;\n",
              "    }\n",
              "\n",
              "    .dataframe thead th {\n",
              "        text-align: right;\n",
              "    }\n",
              "</style>\n",
              "<table border=\"1\" class=\"dataframe\">\n",
              "  <thead>\n",
              "    <tr style=\"text-align: right;\">\n",
              "      <th></th>\n",
              "      <th>question</th>\n",
              "      <th>passage</th>\n",
              "      <th>label</th>\n",
              "      <th>idx</th>\n",
              "    </tr>\n",
              "  </thead>\n",
              "  <tbody>\n",
              "    <tr>\n",
              "      <th>0</th>\n",
              "      <td>вднх это выставочныи центр</td>\n",
              "      <td>выставочныи центр станция московского монорельса расположена между станциями улица академика королева и улица сергея эизенштеина находится на территории останкинского раиона северо восточного административного округа города москвы переход на станцию вднх калужско рижскои линии названа в честь всероссииского выставочного центра названия вднх с 1992 по 2014 год 20 ноября 2004 года линия монорельса начала работать в экскурсионном режиме и перевезла первых пассажиров</td>\n",
              "      <td>True</td>\n",
              "      <td>0</td>\n",
              "    </tr>\n",
              "    <tr>\n",
              "      <th>1</th>\n",
              "      <td>вднх это выставочныи центр</td>\n",
              "      <td>выставка достижении народного хозяиства в 1959 1991 годах выставка достижении народного хозяиства ссср в 1992 2014 годах всероссиискии выставочныи центр выставочныи комплекс в останкинском раионе северо восточного административного округа города москвы второи по величине выставочныи комплекс в городе входит в 50 крупнеиших выставочных центров мира ежегодно вднх посещают 30 млн гостеи 1 августа 2019 года выставка отпраздновала 80 летнии юбилеи территориально вднх объединена с парком останкино и главным ботаническим садом их общая площадь составляет почти 700 га 240 2 га площадь вднх 75 6 га площадь парка останкино 361 га площадь гбс 9 5 га музеино выставочныи центр рабочии и колхозница и площадь перед аркои главного входа на территории выставки расположено множество шедевров архитектуры 49 объектов вднх признаны памятниками культурного наследия</td>\n",
              "      <td>True</td>\n",
              "      <td>1</td>\n",
              "    </tr>\n",
              "    <tr>\n",
              "      <th>2</th>\n",
              "      <td>был ли джиган в black star</td>\n",
              "      <td>вместе с этим треком они выступили на церемонии вручения наград mtv rma это был первыи выход джигана на большую сцену в 2007 году джиган стал официальным артистом леибла black star inc выпустил первыи песню и клип одноклассница совместная работа с тимати в марте 2011 года появилась совместная с юлеи савичевои композиция отпусти песня поднялась в радиочарте tophit до 8 места и заняла первое место чарта weekly audience choice top hit количество просмотров клипа на youtube превысило 17 миллионов</td>\n",
              "      <td>True</td>\n",
              "      <td>2</td>\n",
              "    </tr>\n",
              "    <tr>\n",
              "      <th>3</th>\n",
              "      <td>xiaomi конкурент apple</td>\n",
              "      <td>xiaomi китаиская компания основанная в 2010 году и занимающаяся выпуском электроники и бытовои техники а также разработкои программного обеспечения основнои продукциеи компании являются смартфоны первыи из которых был выпущен в 2011 году в настоящее время xiaomi производит широкии ассортимент смартфонов в разных ценовых сегментах и является одним из крупнеиших производителеи смартфонов в мире так в третьем квартале 2014 года эта компания заняла наивысшее для себя третье место в мире по поставкам смартфонов набрав 5 2 в штучном выражении и уступив лишь samsung и apple за весь 2017 год компания заняла по продажам первое место в китае и второе место в индии в данном списке приводятся все смартфоны когда либо выпущенные компаниеи xiaomi</td>\n",
              "      <td>True</td>\n",
              "      <td>3</td>\n",
              "    </tr>\n",
              "    <tr>\n",
              "      <th>4</th>\n",
              "      <td>был ли автомат калашникова в вов</td>\n",
              "      <td>отметив некоторые недостатки и в целом удачную конструкцию специалисты гау не рекомендовали принимать пп калашникова на вооружение по технологическим причинам заключение гласило с 1942 года калашников работал на центральном научно исследовательском полигоне стрелкового и минометного вооружения гау ркка здесь в 1944 году он создал опытныи образец самозарядного карабина которыи хотя и не вышел в серииное производство частично послужил прототипом для создания автомата с 1945 года михаил калашников начал разработку автоматического оружия под промежуточныи патрон 7 62×39 образца 1943 года автомат калашникова победил в конкурсе 1947 года и был принят на вооружение</td>\n",
              "      <td>False</td>\n",
              "      <td>4</td>\n",
              "    </tr>\n",
              "  </tbody>\n",
              "</table>\n",
              "</div>"
            ],
            "text/plain": [
              "                           question  \\\n",
              "0  вднх это выставочныи центр         \n",
              "1  вднх это выставочныи центр         \n",
              "2  был ли джиган в black star         \n",
              "3  xiaomi конкурент apple             \n",
              "4  был ли автомат калашникова в вов   \n",
              "\n",
              "                                                                                                                                                                                                                                                                                                                                                                                                                                                                                                                                                                                                                                                                                                                                                                                                                                                                                   passage  \\\n",
              "0  выставочныи центр станция московского монорельса расположена между станциями улица академика королева и улица сергея эизенштеина находится на территории останкинского раиона северо восточного административного округа города москвы переход на станцию вднх калужско рижскои линии названа в честь всероссииского выставочного центра названия вднх с 1992 по 2014 год 20 ноября 2004 года линия монорельса начала работать в экскурсионном режиме и перевезла первых пассажиров                                                                                                                                                                                                                                                                                                                                                                                                       \n",
              "1  выставка достижении народного хозяиства в 1959 1991 годах выставка достижении народного хозяиства ссср в 1992 2014 годах всероссиискии выставочныи центр выставочныи комплекс в останкинском раионе северо восточного административного округа города москвы второи по величине выставочныи комплекс в городе входит в 50 крупнеиших выставочных центров мира ежегодно вднх посещают 30 млн гостеи 1 августа 2019 года выставка отпраздновала 80 летнии юбилеи территориально вднх объединена с парком останкино и главным ботаническим садом их общая площадь составляет почти 700 га 240 2 га площадь вднх 75 6 га площадь парка останкино 361 га площадь гбс 9 5 га музеино выставочныи центр рабочии и колхозница и площадь перед аркои главного входа на территории выставки расположено множество шедевров архитектуры 49 объектов вднх признаны памятниками культурного наследия   \n",
              "2  вместе с этим треком они выступили на церемонии вручения наград mtv rma это был первыи выход джигана на большую сцену в 2007 году джиган стал официальным артистом леибла black star inc выпустил первыи песню и клип одноклассница совместная работа с тимати в марте 2011 года появилась совместная с юлеи савичевои композиция отпусти песня поднялась в радиочарте tophit до 8 места и заняла первое место чарта weekly audience choice top hit количество просмотров клипа на youtube превысило 17 миллионов                                                                                                                                                                                                                                                                                                                                                                         \n",
              "3  xiaomi китаиская компания основанная в 2010 году и занимающаяся выпуском электроники и бытовои техники а также разработкои программного обеспечения основнои продукциеи компании являются смартфоны первыи из которых был выпущен в 2011 году в настоящее время xiaomi производит широкии ассортимент смартфонов в разных ценовых сегментах и является одним из крупнеиших производителеи смартфонов в мире так в третьем квартале 2014 года эта компания заняла наивысшее для себя третье место в мире по поставкам смартфонов набрав 5 2 в штучном выражении и уступив лишь samsung и apple за весь 2017 год компания заняла по продажам первое место в китае и второе место в индии в данном списке приводятся все смартфоны когда либо выпущенные компаниеи xiaomi                                                                                                                    \n",
              "4  отметив некоторые недостатки и в целом удачную конструкцию специалисты гау не рекомендовали принимать пп калашникова на вооружение по технологическим причинам заключение гласило с 1942 года калашников работал на центральном научно исследовательском полигоне стрелкового и минометного вооружения гау ркка здесь в 1944 году он создал опытныи образец самозарядного карабина которыи хотя и не вышел в серииное производство частично послужил прототипом для создания автомата с 1945 года михаил калашников начал разработку автоматического оружия под промежуточныи патрон 7 62×39 образца 1943 года автомат калашникова победил в конкурсе 1947 года и был принят на вооружение                                                                                                                                                                                                \n",
              "\n",
              "   label  idx  \n",
              "0  True   0    \n",
              "1  True   1    \n",
              "2  True   2    \n",
              "3  True   3    \n",
              "4  False  4    "
            ]
          },
          "metadata": {},
          "output_type": "display_data"
        },
        {
          "name": "stdout",
          "output_type": "stream",
          "text": [
            "Stats:\n"
          ]
        },
        {
          "data": {
            "text/html": [
              "<div>\n",
              "<style scoped>\n",
              "    .dataframe tbody tr th:only-of-type {\n",
              "        vertical-align: middle;\n",
              "    }\n",
              "\n",
              "    .dataframe tbody tr th {\n",
              "        vertical-align: top;\n",
              "    }\n",
              "\n",
              "    .dataframe thead th {\n",
              "        text-align: right;\n",
              "    }\n",
              "</style>\n",
              "<table border=\"1\" class=\"dataframe\">\n",
              "  <thead>\n",
              "    <tr style=\"text-align: right;\">\n",
              "      <th></th>\n",
              "      <th>label</th>\n",
              "      <th>MIN</th>\n",
              "      <th>MAX</th>\n",
              "      <th>MEAN</th>\n",
              "    </tr>\n",
              "  </thead>\n",
              "  <tbody>\n",
              "    <tr>\n",
              "      <th>0</th>\n",
              "      <td>question(symbols)</td>\n",
              "      <td>13</td>\n",
              "      <td>179</td>\n",
              "      <td>40</td>\n",
              "    </tr>\n",
              "    <tr>\n",
              "      <th>1</th>\n",
              "      <td>question(words)</td>\n",
              "      <td>2</td>\n",
              "      <td>28</td>\n",
              "      <td>6</td>\n",
              "    </tr>\n",
              "    <tr>\n",
              "      <th>2</th>\n",
              "      <td>passage(symbols)</td>\n",
              "      <td>271</td>\n",
              "      <td>3095</td>\n",
              "      <td>701</td>\n",
              "    </tr>\n",
              "    <tr>\n",
              "      <th>3</th>\n",
              "      <td>passage(words)</td>\n",
              "      <td>40</td>\n",
              "      <td>479</td>\n",
              "      <td>98</td>\n",
              "    </tr>\n",
              "  </tbody>\n",
              "</table>\n",
              "</div>"
            ],
            "text/plain": [
              "               label  MIN   MAX  MEAN\n",
              "0  question(symbols)  13   179   40  \n",
              "1  question(words)    2    28    6   \n",
              "2  passage(symbols)   271  3095  701 \n",
              "3  passage(words)     40   479   98  "
            ]
          },
          "metadata": {},
          "output_type": "display_data"
        },
        {
          "name": "stdout",
          "output_type": "stream",
          "text": [
            "True answer: 1061\n",
            "False answer: 688\n",
            "\n"
          ]
        }
      ],
      "source": [
        "df_trainL3, df_trainL3_stat = loadJSONL(fileNameData(\"train_L3\"), \"Train set\")\n",
        "df_validationL3, df_validationL3_stat = loadJSONL(fileNameData(\"train_L3\"), \"Validation set\")\n",
        "df_testL3, df_testL3_stat = loadJSONL(fileNameData(\"train_L3\"), \"Test set:\")"
      ]
    },
    {
      "cell_type": "markdown",
      "metadata": {},
      "source": [
        "### L4: удаляем стоп слова"
      ]
    },
    {
      "cell_type": "code",
      "execution_count": 8,
      "metadata": {},
      "outputs": [
        {
          "name": "stdout",
          "output_type": "stream",
          "text": [
            "Train set\n"
          ]
        },
        {
          "data": {
            "text/html": [
              "<div>\n",
              "<style scoped>\n",
              "    .dataframe tbody tr th:only-of-type {\n",
              "        vertical-align: middle;\n",
              "    }\n",
              "\n",
              "    .dataframe tbody tr th {\n",
              "        vertical-align: top;\n",
              "    }\n",
              "\n",
              "    .dataframe thead th {\n",
              "        text-align: right;\n",
              "    }\n",
              "</style>\n",
              "<table border=\"1\" class=\"dataframe\">\n",
              "  <thead>\n",
              "    <tr style=\"text-align: right;\">\n",
              "      <th></th>\n",
              "      <th>question</th>\n",
              "      <th>passage</th>\n",
              "      <th>label</th>\n",
              "      <th>idx</th>\n",
              "    </tr>\n",
              "  </thead>\n",
              "  <tbody>\n",
              "    <tr>\n",
              "      <th>0</th>\n",
              "      <td>вднх это выставочныи центр</td>\n",
              "      <td>выставочныи центр станция московского монорельса расположена станциями улица академика королева улица сергея эизенштеина находится территории останкинского раиона северо восточного административного округа города москвы переход станцию вднх калужско рижскои линии названа честь всероссииского выставочного центра названия вднх 1992 2014 год 20 ноября 2004 года линия монорельса начала работать экскурсионном режиме перевезла первых пассажиров</td>\n",
              "      <td>True</td>\n",
              "      <td>0</td>\n",
              "    </tr>\n",
              "    <tr>\n",
              "      <th>1</th>\n",
              "      <td>вднх это выставочныи центр</td>\n",
              "      <td>выставка достижении народного хозяиства 1959 1991 годах выставка достижении народного хозяиства ссср 1992 2014 годах всероссиискии выставочныи центр выставочныи комплекс останкинском раионе северо восточного административного округа города москвы второи величине выставочныи комплекс городе входит 50 крупнеиших выставочных центров мира ежегодно вднх посещают 30 млн гостеи 1 августа 2019 года выставка отпраздновала 80 летнии юбилеи территориально вднх объединена парком останкино главным ботаническим садом общая площадь составляет 700 га 240 2 га площадь вднх 75 6 га площадь парка останкино 361 га площадь гбс 9 5 га музеино выставочныи центр рабочии колхозница площадь аркои главного входа территории выставки расположено множество шедевров архитектуры 49 объектов вднх признаны памятниками культурного наследия</td>\n",
              "      <td>True</td>\n",
              "      <td>1</td>\n",
              "    </tr>\n",
              "    <tr>\n",
              "      <th>2</th>\n",
              "      <td>джиган black star</td>\n",
              "      <td>вместе этим треком выступили церемонии вручения наград mtv rma это первыи выход джигана большую сцену 2007 году джиган стал официальным артистом леибла black star inc выпустил первыи песню клип одноклассница совместная работа тимати марте 2011 года появилась совместная юлеи савичевои композиция отпусти песня поднялась радиочарте tophit 8 места заняла первое место чарта weekly audience choice top hit количество просмотров клипа youtube превысило 17 миллионов</td>\n",
              "      <td>True</td>\n",
              "      <td>2</td>\n",
              "    </tr>\n",
              "    <tr>\n",
              "      <th>3</th>\n",
              "      <td>xiaomi конкурент apple</td>\n",
              "      <td>xiaomi китаиская компания основанная 2010 году занимающаяся выпуском электроники бытовои техники также разработкои программного обеспечения основнои продукциеи компании являются смартфоны первыи которых выпущен 2011 году настоящее время xiaomi производит широкии ассортимент смартфонов разных ценовых сегментах является одним крупнеиших производителеи смартфонов мире третьем квартале 2014 года эта компания заняла наивысшее третье место мире поставкам смартфонов набрав 5 2 штучном выражении уступив лишь samsung apple весь 2017 год компания заняла продажам первое место китае второе место индии данном списке приводятся смартфоны либо выпущенные компаниеи xiaomi</td>\n",
              "      <td>True</td>\n",
              "      <td>3</td>\n",
              "    </tr>\n",
              "    <tr>\n",
              "      <th>4</th>\n",
              "      <td>автомат калашникова вов</td>\n",
              "      <td>отметив некоторые недостатки целом удачную конструкцию специалисты гау рекомендовали принимать пп калашникова вооружение технологическим причинам заключение гласило 1942 года калашников работал центральном научно исследовательском полигоне стрелкового минометного вооружения гау ркка 1944 году создал опытныи образец самозарядного карабина которыи хотя вышел серииное производство частично послужил прототипом создания автомата 1945 года михаил калашников начал разработку автоматического оружия промежуточныи патрон 7 62×39 образца 1943 года автомат калашникова победил конкурсе 1947 года принят вооружение</td>\n",
              "      <td>False</td>\n",
              "      <td>4</td>\n",
              "    </tr>\n",
              "  </tbody>\n",
              "</table>\n",
              "</div>"
            ],
            "text/plain": [
              "                     question  \\\n",
              "0  вднх это выставочныи центр   \n",
              "1  вднх это выставочныи центр   \n",
              "2  джиган black star            \n",
              "3  xiaomi конкурент apple       \n",
              "4  автомат калашникова вов      \n",
              "\n",
              "                                                                                                                                                                                                                                                                                                                                                                                                                                                                                                                                                                                                                                                                                                                                                                                                                                            passage  \\\n",
              "0  выставочныи центр станция московского монорельса расположена станциями улица академика королева улица сергея эизенштеина находится территории останкинского раиона северо восточного административного округа города москвы переход станцию вднх калужско рижскои линии названа честь всероссииского выставочного центра названия вднх 1992 2014 год 20 ноября 2004 года линия монорельса начала работать экскурсионном режиме перевезла первых пассажиров                                                                                                                                                                                                                                                                                                                                                                                         \n",
              "1  выставка достижении народного хозяиства 1959 1991 годах выставка достижении народного хозяиства ссср 1992 2014 годах всероссиискии выставочныи центр выставочныи комплекс останкинском раионе северо восточного административного округа города москвы второи величине выставочныи комплекс городе входит 50 крупнеиших выставочных центров мира ежегодно вднх посещают 30 млн гостеи 1 августа 2019 года выставка отпраздновала 80 летнии юбилеи территориально вднх объединена парком останкино главным ботаническим садом общая площадь составляет 700 га 240 2 га площадь вднх 75 6 га площадь парка останкино 361 га площадь гбс 9 5 га музеино выставочныи центр рабочии колхозница площадь аркои главного входа территории выставки расположено множество шедевров архитектуры 49 объектов вднх признаны памятниками культурного наследия   \n",
              "2  вместе этим треком выступили церемонии вручения наград mtv rma это первыи выход джигана большую сцену 2007 году джиган стал официальным артистом леибла black star inc выпустил первыи песню клип одноклассница совместная работа тимати марте 2011 года появилась совместная юлеи савичевои композиция отпусти песня поднялась радиочарте tophit 8 места заняла первое место чарта weekly audience choice top hit количество просмотров клипа youtube превысило 17 миллионов                                                                                                                                                                                                                                                                                                                                                                      \n",
              "3  xiaomi китаиская компания основанная 2010 году занимающаяся выпуском электроники бытовои техники также разработкои программного обеспечения основнои продукциеи компании являются смартфоны первыи которых выпущен 2011 году настоящее время xiaomi производит широкии ассортимент смартфонов разных ценовых сегментах является одним крупнеиших производителеи смартфонов мире третьем квартале 2014 года эта компания заняла наивысшее третье место мире поставкам смартфонов набрав 5 2 штучном выражении уступив лишь samsung apple весь 2017 год компания заняла продажам первое место китае второе место индии данном списке приводятся смартфоны либо выпущенные компаниеи xiaomi                                                                                                                                                           \n",
              "4  отметив некоторые недостатки целом удачную конструкцию специалисты гау рекомендовали принимать пп калашникова вооружение технологическим причинам заключение гласило 1942 года калашников работал центральном научно исследовательском полигоне стрелкового минометного вооружения гау ркка 1944 году создал опытныи образец самозарядного карабина которыи хотя вышел серииное производство частично послужил прототипом создания автомата 1945 года михаил калашников начал разработку автоматического оружия промежуточныи патрон 7 62×39 образца 1943 года автомат калашникова победил конкурсе 1947 года принят вооружение                                                                                                                                                                                                                    \n",
              "\n",
              "   label  idx  \n",
              "0  True   0    \n",
              "1  True   1    \n",
              "2  True   2    \n",
              "3  True   3    \n",
              "4  False  4    "
            ]
          },
          "metadata": {},
          "output_type": "display_data"
        },
        {
          "name": "stdout",
          "output_type": "stream",
          "text": [
            "Stats:\n"
          ]
        },
        {
          "data": {
            "text/html": [
              "<div>\n",
              "<style scoped>\n",
              "    .dataframe tbody tr th:only-of-type {\n",
              "        vertical-align: middle;\n",
              "    }\n",
              "\n",
              "    .dataframe tbody tr th {\n",
              "        vertical-align: top;\n",
              "    }\n",
              "\n",
              "    .dataframe thead th {\n",
              "        text-align: right;\n",
              "    }\n",
              "</style>\n",
              "<table border=\"1\" class=\"dataframe\">\n",
              "  <thead>\n",
              "    <tr style=\"text-align: right;\">\n",
              "      <th></th>\n",
              "      <th>label</th>\n",
              "      <th>MIN</th>\n",
              "      <th>MAX</th>\n",
              "      <th>MEAN</th>\n",
              "    </tr>\n",
              "  </thead>\n",
              "  <tbody>\n",
              "    <tr>\n",
              "      <th>0</th>\n",
              "      <td>question(symbols)</td>\n",
              "      <td>4</td>\n",
              "      <td>162</td>\n",
              "      <td>32</td>\n",
              "    </tr>\n",
              "    <tr>\n",
              "      <th>1</th>\n",
              "      <td>question(words)</td>\n",
              "      <td>1</td>\n",
              "      <td>21</td>\n",
              "      <td>4</td>\n",
              "    </tr>\n",
              "    <tr>\n",
              "      <th>2</th>\n",
              "      <td>passage(symbols)</td>\n",
              "      <td>245</td>\n",
              "      <td>2656</td>\n",
              "      <td>625</td>\n",
              "    </tr>\n",
              "    <tr>\n",
              "      <th>3</th>\n",
              "      <td>passage(words)</td>\n",
              "      <td>33</td>\n",
              "      <td>340</td>\n",
              "      <td>74</td>\n",
              "    </tr>\n",
              "  </tbody>\n",
              "</table>\n",
              "</div>"
            ],
            "text/plain": [
              "               label  MIN   MAX  MEAN\n",
              "0  question(symbols)  4    162   32  \n",
              "1  question(words)    1    21    4   \n",
              "2  passage(symbols)   245  2656  625 \n",
              "3  passage(words)     33   340   74  "
            ]
          },
          "metadata": {},
          "output_type": "display_data"
        },
        {
          "name": "stdout",
          "output_type": "stream",
          "text": [
            "True answer: 1061\n",
            "False answer: 688\n",
            "\n",
            "Validation set\n"
          ]
        },
        {
          "data": {
            "text/html": [
              "<div>\n",
              "<style scoped>\n",
              "    .dataframe tbody tr th:only-of-type {\n",
              "        vertical-align: middle;\n",
              "    }\n",
              "\n",
              "    .dataframe tbody tr th {\n",
              "        vertical-align: top;\n",
              "    }\n",
              "\n",
              "    .dataframe thead th {\n",
              "        text-align: right;\n",
              "    }\n",
              "</style>\n",
              "<table border=\"1\" class=\"dataframe\">\n",
              "  <thead>\n",
              "    <tr style=\"text-align: right;\">\n",
              "      <th></th>\n",
              "      <th>question</th>\n",
              "      <th>passage</th>\n",
              "      <th>label</th>\n",
              "      <th>idx</th>\n",
              "    </tr>\n",
              "  </thead>\n",
              "  <tbody>\n",
              "    <tr>\n",
              "      <th>0</th>\n",
              "      <td>вднх это выставочныи центр</td>\n",
              "      <td>выставочныи центр станция московского монорельса расположена станциями улица академика королева улица сергея эизенштеина находится территории останкинского раиона северо восточного административного округа города москвы переход станцию вднх калужско рижскои линии названа честь всероссииского выставочного центра названия вднх 1992 2014 год 20 ноября 2004 года линия монорельса начала работать экскурсионном режиме перевезла первых пассажиров</td>\n",
              "      <td>True</td>\n",
              "      <td>0</td>\n",
              "    </tr>\n",
              "    <tr>\n",
              "      <th>1</th>\n",
              "      <td>вднх это выставочныи центр</td>\n",
              "      <td>выставка достижении народного хозяиства 1959 1991 годах выставка достижении народного хозяиства ссср 1992 2014 годах всероссиискии выставочныи центр выставочныи комплекс останкинском раионе северо восточного административного округа города москвы второи величине выставочныи комплекс городе входит 50 крупнеиших выставочных центров мира ежегодно вднх посещают 30 млн гостеи 1 августа 2019 года выставка отпраздновала 80 летнии юбилеи территориально вднх объединена парком останкино главным ботаническим садом общая площадь составляет 700 га 240 2 га площадь вднх 75 6 га площадь парка останкино 361 га площадь гбс 9 5 га музеино выставочныи центр рабочии колхозница площадь аркои главного входа территории выставки расположено множество шедевров архитектуры 49 объектов вднх признаны памятниками культурного наследия</td>\n",
              "      <td>True</td>\n",
              "      <td>1</td>\n",
              "    </tr>\n",
              "    <tr>\n",
              "      <th>2</th>\n",
              "      <td>джиган black star</td>\n",
              "      <td>вместе этим треком выступили церемонии вручения наград mtv rma это первыи выход джигана большую сцену 2007 году джиган стал официальным артистом леибла black star inc выпустил первыи песню клип одноклассница совместная работа тимати марте 2011 года появилась совместная юлеи савичевои композиция отпусти песня поднялась радиочарте tophit 8 места заняла первое место чарта weekly audience choice top hit количество просмотров клипа youtube превысило 17 миллионов</td>\n",
              "      <td>True</td>\n",
              "      <td>2</td>\n",
              "    </tr>\n",
              "    <tr>\n",
              "      <th>3</th>\n",
              "      <td>xiaomi конкурент apple</td>\n",
              "      <td>xiaomi китаиская компания основанная 2010 году занимающаяся выпуском электроники бытовои техники также разработкои программного обеспечения основнои продукциеи компании являются смартфоны первыи которых выпущен 2011 году настоящее время xiaomi производит широкии ассортимент смартфонов разных ценовых сегментах является одним крупнеиших производителеи смартфонов мире третьем квартале 2014 года эта компания заняла наивысшее третье место мире поставкам смартфонов набрав 5 2 штучном выражении уступив лишь samsung apple весь 2017 год компания заняла продажам первое место китае второе место индии данном списке приводятся смартфоны либо выпущенные компаниеи xiaomi</td>\n",
              "      <td>True</td>\n",
              "      <td>3</td>\n",
              "    </tr>\n",
              "    <tr>\n",
              "      <th>4</th>\n",
              "      <td>автомат калашникова вов</td>\n",
              "      <td>отметив некоторые недостатки целом удачную конструкцию специалисты гау рекомендовали принимать пп калашникова вооружение технологическим причинам заключение гласило 1942 года калашников работал центральном научно исследовательском полигоне стрелкового минометного вооружения гау ркка 1944 году создал опытныи образец самозарядного карабина которыи хотя вышел серииное производство частично послужил прототипом создания автомата 1945 года михаил калашников начал разработку автоматического оружия промежуточныи патрон 7 62×39 образца 1943 года автомат калашникова победил конкурсе 1947 года принят вооружение</td>\n",
              "      <td>False</td>\n",
              "      <td>4</td>\n",
              "    </tr>\n",
              "  </tbody>\n",
              "</table>\n",
              "</div>"
            ],
            "text/plain": [
              "                     question  \\\n",
              "0  вднх это выставочныи центр   \n",
              "1  вднх это выставочныи центр   \n",
              "2  джиган black star            \n",
              "3  xiaomi конкурент apple       \n",
              "4  автомат калашникова вов      \n",
              "\n",
              "                                                                                                                                                                                                                                                                                                                                                                                                                                                                                                                                                                                                                                                                                                                                                                                                                                            passage  \\\n",
              "0  выставочныи центр станция московского монорельса расположена станциями улица академика королева улица сергея эизенштеина находится территории останкинского раиона северо восточного административного округа города москвы переход станцию вднх калужско рижскои линии названа честь всероссииского выставочного центра названия вднх 1992 2014 год 20 ноября 2004 года линия монорельса начала работать экскурсионном режиме перевезла первых пассажиров                                                                                                                                                                                                                                                                                                                                                                                         \n",
              "1  выставка достижении народного хозяиства 1959 1991 годах выставка достижении народного хозяиства ссср 1992 2014 годах всероссиискии выставочныи центр выставочныи комплекс останкинском раионе северо восточного административного округа города москвы второи величине выставочныи комплекс городе входит 50 крупнеиших выставочных центров мира ежегодно вднх посещают 30 млн гостеи 1 августа 2019 года выставка отпраздновала 80 летнии юбилеи территориально вднх объединена парком останкино главным ботаническим садом общая площадь составляет 700 га 240 2 га площадь вднх 75 6 га площадь парка останкино 361 га площадь гбс 9 5 га музеино выставочныи центр рабочии колхозница площадь аркои главного входа территории выставки расположено множество шедевров архитектуры 49 объектов вднх признаны памятниками культурного наследия   \n",
              "2  вместе этим треком выступили церемонии вручения наград mtv rma это первыи выход джигана большую сцену 2007 году джиган стал официальным артистом леибла black star inc выпустил первыи песню клип одноклассница совместная работа тимати марте 2011 года появилась совместная юлеи савичевои композиция отпусти песня поднялась радиочарте tophit 8 места заняла первое место чарта weekly audience choice top hit количество просмотров клипа youtube превысило 17 миллионов                                                                                                                                                                                                                                                                                                                                                                      \n",
              "3  xiaomi китаиская компания основанная 2010 году занимающаяся выпуском электроники бытовои техники также разработкои программного обеспечения основнои продукциеи компании являются смартфоны первыи которых выпущен 2011 году настоящее время xiaomi производит широкии ассортимент смартфонов разных ценовых сегментах является одним крупнеиших производителеи смартфонов мире третьем квартале 2014 года эта компания заняла наивысшее третье место мире поставкам смартфонов набрав 5 2 штучном выражении уступив лишь samsung apple весь 2017 год компания заняла продажам первое место китае второе место индии данном списке приводятся смартфоны либо выпущенные компаниеи xiaomi                                                                                                                                                           \n",
              "4  отметив некоторые недостатки целом удачную конструкцию специалисты гау рекомендовали принимать пп калашникова вооружение технологическим причинам заключение гласило 1942 года калашников работал центральном научно исследовательском полигоне стрелкового минометного вооружения гау ркка 1944 году создал опытныи образец самозарядного карабина которыи хотя вышел серииное производство частично послужил прототипом создания автомата 1945 года михаил калашников начал разработку автоматического оружия промежуточныи патрон 7 62×39 образца 1943 года автомат калашникова победил конкурсе 1947 года принят вооружение                                                                                                                                                                                                                    \n",
              "\n",
              "   label  idx  \n",
              "0  True   0    \n",
              "1  True   1    \n",
              "2  True   2    \n",
              "3  True   3    \n",
              "4  False  4    "
            ]
          },
          "metadata": {},
          "output_type": "display_data"
        },
        {
          "name": "stdout",
          "output_type": "stream",
          "text": [
            "Stats:\n"
          ]
        },
        {
          "data": {
            "text/html": [
              "<div>\n",
              "<style scoped>\n",
              "    .dataframe tbody tr th:only-of-type {\n",
              "        vertical-align: middle;\n",
              "    }\n",
              "\n",
              "    .dataframe tbody tr th {\n",
              "        vertical-align: top;\n",
              "    }\n",
              "\n",
              "    .dataframe thead th {\n",
              "        text-align: right;\n",
              "    }\n",
              "</style>\n",
              "<table border=\"1\" class=\"dataframe\">\n",
              "  <thead>\n",
              "    <tr style=\"text-align: right;\">\n",
              "      <th></th>\n",
              "      <th>label</th>\n",
              "      <th>MIN</th>\n",
              "      <th>MAX</th>\n",
              "      <th>MEAN</th>\n",
              "    </tr>\n",
              "  </thead>\n",
              "  <tbody>\n",
              "    <tr>\n",
              "      <th>0</th>\n",
              "      <td>question(symbols)</td>\n",
              "      <td>4</td>\n",
              "      <td>162</td>\n",
              "      <td>32</td>\n",
              "    </tr>\n",
              "    <tr>\n",
              "      <th>1</th>\n",
              "      <td>question(words)</td>\n",
              "      <td>1</td>\n",
              "      <td>21</td>\n",
              "      <td>4</td>\n",
              "    </tr>\n",
              "    <tr>\n",
              "      <th>2</th>\n",
              "      <td>passage(symbols)</td>\n",
              "      <td>245</td>\n",
              "      <td>2656</td>\n",
              "      <td>625</td>\n",
              "    </tr>\n",
              "    <tr>\n",
              "      <th>3</th>\n",
              "      <td>passage(words)</td>\n",
              "      <td>33</td>\n",
              "      <td>340</td>\n",
              "      <td>74</td>\n",
              "    </tr>\n",
              "  </tbody>\n",
              "</table>\n",
              "</div>"
            ],
            "text/plain": [
              "               label  MIN   MAX  MEAN\n",
              "0  question(symbols)  4    162   32  \n",
              "1  question(words)    1    21    4   \n",
              "2  passage(symbols)   245  2656  625 \n",
              "3  passage(words)     33   340   74  "
            ]
          },
          "metadata": {},
          "output_type": "display_data"
        },
        {
          "name": "stdout",
          "output_type": "stream",
          "text": [
            "True answer: 1061\n",
            "False answer: 688\n",
            "\n",
            "Test set:\n"
          ]
        },
        {
          "data": {
            "text/html": [
              "<div>\n",
              "<style scoped>\n",
              "    .dataframe tbody tr th:only-of-type {\n",
              "        vertical-align: middle;\n",
              "    }\n",
              "\n",
              "    .dataframe tbody tr th {\n",
              "        vertical-align: top;\n",
              "    }\n",
              "\n",
              "    .dataframe thead th {\n",
              "        text-align: right;\n",
              "    }\n",
              "</style>\n",
              "<table border=\"1\" class=\"dataframe\">\n",
              "  <thead>\n",
              "    <tr style=\"text-align: right;\">\n",
              "      <th></th>\n",
              "      <th>question</th>\n",
              "      <th>passage</th>\n",
              "      <th>label</th>\n",
              "      <th>idx</th>\n",
              "    </tr>\n",
              "  </thead>\n",
              "  <tbody>\n",
              "    <tr>\n",
              "      <th>0</th>\n",
              "      <td>вднх это выставочныи центр</td>\n",
              "      <td>выставочныи центр станция московского монорельса расположена станциями улица академика королева улица сергея эизенштеина находится территории останкинского раиона северо восточного административного округа города москвы переход станцию вднх калужско рижскои линии названа честь всероссииского выставочного центра названия вднх 1992 2014 год 20 ноября 2004 года линия монорельса начала работать экскурсионном режиме перевезла первых пассажиров</td>\n",
              "      <td>True</td>\n",
              "      <td>0</td>\n",
              "    </tr>\n",
              "    <tr>\n",
              "      <th>1</th>\n",
              "      <td>вднх это выставочныи центр</td>\n",
              "      <td>выставка достижении народного хозяиства 1959 1991 годах выставка достижении народного хозяиства ссср 1992 2014 годах всероссиискии выставочныи центр выставочныи комплекс останкинском раионе северо восточного административного округа города москвы второи величине выставочныи комплекс городе входит 50 крупнеиших выставочных центров мира ежегодно вднх посещают 30 млн гостеи 1 августа 2019 года выставка отпраздновала 80 летнии юбилеи территориально вднх объединена парком останкино главным ботаническим садом общая площадь составляет 700 га 240 2 га площадь вднх 75 6 га площадь парка останкино 361 га площадь гбс 9 5 га музеино выставочныи центр рабочии колхозница площадь аркои главного входа территории выставки расположено множество шедевров архитектуры 49 объектов вднх признаны памятниками культурного наследия</td>\n",
              "      <td>True</td>\n",
              "      <td>1</td>\n",
              "    </tr>\n",
              "    <tr>\n",
              "      <th>2</th>\n",
              "      <td>джиган black star</td>\n",
              "      <td>вместе этим треком выступили церемонии вручения наград mtv rma это первыи выход джигана большую сцену 2007 году джиган стал официальным артистом леибла black star inc выпустил первыи песню клип одноклассница совместная работа тимати марте 2011 года появилась совместная юлеи савичевои композиция отпусти песня поднялась радиочарте tophit 8 места заняла первое место чарта weekly audience choice top hit количество просмотров клипа youtube превысило 17 миллионов</td>\n",
              "      <td>True</td>\n",
              "      <td>2</td>\n",
              "    </tr>\n",
              "    <tr>\n",
              "      <th>3</th>\n",
              "      <td>xiaomi конкурент apple</td>\n",
              "      <td>xiaomi китаиская компания основанная 2010 году занимающаяся выпуском электроники бытовои техники также разработкои программного обеспечения основнои продукциеи компании являются смартфоны первыи которых выпущен 2011 году настоящее время xiaomi производит широкии ассортимент смартфонов разных ценовых сегментах является одним крупнеиших производителеи смартфонов мире третьем квартале 2014 года эта компания заняла наивысшее третье место мире поставкам смартфонов набрав 5 2 штучном выражении уступив лишь samsung apple весь 2017 год компания заняла продажам первое место китае второе место индии данном списке приводятся смартфоны либо выпущенные компаниеи xiaomi</td>\n",
              "      <td>True</td>\n",
              "      <td>3</td>\n",
              "    </tr>\n",
              "    <tr>\n",
              "      <th>4</th>\n",
              "      <td>автомат калашникова вов</td>\n",
              "      <td>отметив некоторые недостатки целом удачную конструкцию специалисты гау рекомендовали принимать пп калашникова вооружение технологическим причинам заключение гласило 1942 года калашников работал центральном научно исследовательском полигоне стрелкового минометного вооружения гау ркка 1944 году создал опытныи образец самозарядного карабина которыи хотя вышел серииное производство частично послужил прототипом создания автомата 1945 года михаил калашников начал разработку автоматического оружия промежуточныи патрон 7 62×39 образца 1943 года автомат калашникова победил конкурсе 1947 года принят вооружение</td>\n",
              "      <td>False</td>\n",
              "      <td>4</td>\n",
              "    </tr>\n",
              "  </tbody>\n",
              "</table>\n",
              "</div>"
            ],
            "text/plain": [
              "                     question  \\\n",
              "0  вднх это выставочныи центр   \n",
              "1  вднх это выставочныи центр   \n",
              "2  джиган black star            \n",
              "3  xiaomi конкурент apple       \n",
              "4  автомат калашникова вов      \n",
              "\n",
              "                                                                                                                                                                                                                                                                                                                                                                                                                                                                                                                                                                                                                                                                                                                                                                                                                                            passage  \\\n",
              "0  выставочныи центр станция московского монорельса расположена станциями улица академика королева улица сергея эизенштеина находится территории останкинского раиона северо восточного административного округа города москвы переход станцию вднх калужско рижскои линии названа честь всероссииского выставочного центра названия вднх 1992 2014 год 20 ноября 2004 года линия монорельса начала работать экскурсионном режиме перевезла первых пассажиров                                                                                                                                                                                                                                                                                                                                                                                         \n",
              "1  выставка достижении народного хозяиства 1959 1991 годах выставка достижении народного хозяиства ссср 1992 2014 годах всероссиискии выставочныи центр выставочныи комплекс останкинском раионе северо восточного административного округа города москвы второи величине выставочныи комплекс городе входит 50 крупнеиших выставочных центров мира ежегодно вднх посещают 30 млн гостеи 1 августа 2019 года выставка отпраздновала 80 летнии юбилеи территориально вднх объединена парком останкино главным ботаническим садом общая площадь составляет 700 га 240 2 га площадь вднх 75 6 га площадь парка останкино 361 га площадь гбс 9 5 га музеино выставочныи центр рабочии колхозница площадь аркои главного входа территории выставки расположено множество шедевров архитектуры 49 объектов вднх признаны памятниками культурного наследия   \n",
              "2  вместе этим треком выступили церемонии вручения наград mtv rma это первыи выход джигана большую сцену 2007 году джиган стал официальным артистом леибла black star inc выпустил первыи песню клип одноклассница совместная работа тимати марте 2011 года появилась совместная юлеи савичевои композиция отпусти песня поднялась радиочарте tophit 8 места заняла первое место чарта weekly audience choice top hit количество просмотров клипа youtube превысило 17 миллионов                                                                                                                                                                                                                                                                                                                                                                      \n",
              "3  xiaomi китаиская компания основанная 2010 году занимающаяся выпуском электроники бытовои техники также разработкои программного обеспечения основнои продукциеи компании являются смартфоны первыи которых выпущен 2011 году настоящее время xiaomi производит широкии ассортимент смартфонов разных ценовых сегментах является одним крупнеиших производителеи смартфонов мире третьем квартале 2014 года эта компания заняла наивысшее третье место мире поставкам смартфонов набрав 5 2 штучном выражении уступив лишь samsung apple весь 2017 год компания заняла продажам первое место китае второе место индии данном списке приводятся смартфоны либо выпущенные компаниеи xiaomi                                                                                                                                                           \n",
              "4  отметив некоторые недостатки целом удачную конструкцию специалисты гау рекомендовали принимать пп калашникова вооружение технологическим причинам заключение гласило 1942 года калашников работал центральном научно исследовательском полигоне стрелкового минометного вооружения гау ркка 1944 году создал опытныи образец самозарядного карабина которыи хотя вышел серииное производство частично послужил прототипом создания автомата 1945 года михаил калашников начал разработку автоматического оружия промежуточныи патрон 7 62×39 образца 1943 года автомат калашникова победил конкурсе 1947 года принят вооружение                                                                                                                                                                                                                    \n",
              "\n",
              "   label  idx  \n",
              "0  True   0    \n",
              "1  True   1    \n",
              "2  True   2    \n",
              "3  True   3    \n",
              "4  False  4    "
            ]
          },
          "metadata": {},
          "output_type": "display_data"
        },
        {
          "name": "stdout",
          "output_type": "stream",
          "text": [
            "Stats:\n"
          ]
        },
        {
          "data": {
            "text/html": [
              "<div>\n",
              "<style scoped>\n",
              "    .dataframe tbody tr th:only-of-type {\n",
              "        vertical-align: middle;\n",
              "    }\n",
              "\n",
              "    .dataframe tbody tr th {\n",
              "        vertical-align: top;\n",
              "    }\n",
              "\n",
              "    .dataframe thead th {\n",
              "        text-align: right;\n",
              "    }\n",
              "</style>\n",
              "<table border=\"1\" class=\"dataframe\">\n",
              "  <thead>\n",
              "    <tr style=\"text-align: right;\">\n",
              "      <th></th>\n",
              "      <th>label</th>\n",
              "      <th>MIN</th>\n",
              "      <th>MAX</th>\n",
              "      <th>MEAN</th>\n",
              "    </tr>\n",
              "  </thead>\n",
              "  <tbody>\n",
              "    <tr>\n",
              "      <th>0</th>\n",
              "      <td>question(symbols)</td>\n",
              "      <td>4</td>\n",
              "      <td>162</td>\n",
              "      <td>32</td>\n",
              "    </tr>\n",
              "    <tr>\n",
              "      <th>1</th>\n",
              "      <td>question(words)</td>\n",
              "      <td>1</td>\n",
              "      <td>21</td>\n",
              "      <td>4</td>\n",
              "    </tr>\n",
              "    <tr>\n",
              "      <th>2</th>\n",
              "      <td>passage(symbols)</td>\n",
              "      <td>245</td>\n",
              "      <td>2656</td>\n",
              "      <td>625</td>\n",
              "    </tr>\n",
              "    <tr>\n",
              "      <th>3</th>\n",
              "      <td>passage(words)</td>\n",
              "      <td>33</td>\n",
              "      <td>340</td>\n",
              "      <td>74</td>\n",
              "    </tr>\n",
              "  </tbody>\n",
              "</table>\n",
              "</div>"
            ],
            "text/plain": [
              "               label  MIN   MAX  MEAN\n",
              "0  question(symbols)  4    162   32  \n",
              "1  question(words)    1    21    4   \n",
              "2  passage(symbols)   245  2656  625 \n",
              "3  passage(words)     33   340   74  "
            ]
          },
          "metadata": {},
          "output_type": "display_data"
        },
        {
          "name": "stdout",
          "output_type": "stream",
          "text": [
            "True answer: 1061\n",
            "False answer: 688\n",
            "\n"
          ]
        }
      ],
      "source": [
        "df_trainL4, df_trainL4_stat = loadJSONL(fileNameData(\"train_L4\"), \"Train set\")\n",
        "df_validationL4, df_validationL4_stat = loadJSONL(fileNameData(\"train_L4\"), \"Validation set\")\n",
        "df_testL4, df_testL4_stat  = loadJSONL(fileNameData(\"train_L4\"), \"Test set:\")"
      ]
    },
    {
      "cell_type": "markdown",
      "metadata": {},
      "source": [
        "### L5: леммитизация"
      ]
    },
    {
      "cell_type": "code",
      "execution_count": 9,
      "metadata": {},
      "outputs": [
        {
          "name": "stdout",
          "output_type": "stream",
          "text": [
            "Train set\n"
          ]
        },
        {
          "data": {
            "text/html": [
              "<div>\n",
              "<style scoped>\n",
              "    .dataframe tbody tr th:only-of-type {\n",
              "        vertical-align: middle;\n",
              "    }\n",
              "\n",
              "    .dataframe tbody tr th {\n",
              "        vertical-align: top;\n",
              "    }\n",
              "\n",
              "    .dataframe thead th {\n",
              "        text-align: right;\n",
              "    }\n",
              "</style>\n",
              "<table border=\"1\" class=\"dataframe\">\n",
              "  <thead>\n",
              "    <tr style=\"text-align: right;\">\n",
              "      <th></th>\n",
              "      <th>question</th>\n",
              "      <th>passage</th>\n",
              "      <th>label</th>\n",
              "      <th>idx</th>\n",
              "    </tr>\n",
              "  </thead>\n",
              "  <tbody>\n",
              "    <tr>\n",
              "      <th>0</th>\n",
              "      <td>вднх эт выставочны центр</td>\n",
              "      <td>выставочны центр станц московск монорельс располож станц улиц академик королев улиц серге эизенштеин наход территор останкинск раион север восточн административн округ город москв переход станц вднх калужск рижско лин назва чест всероссииск выставочн центр назван вднх 1992 2014 год 20 ноябр 2004 год лин монорельс нача работа экскурсион режим перевезл перв пассажир</td>\n",
              "      <td>True</td>\n",
              "      <td>0</td>\n",
              "    </tr>\n",
              "    <tr>\n",
              "      <th>1</th>\n",
              "      <td>вднх эт выставочны центр</td>\n",
              "      <td>выставк достижен народн хозяиств 1959 1991 год выставк достижен народн хозяиств ссср 1992 2014 год всероссииск выставочны центр выставочны комплекс останкинск раион север восточн административн округ город москв второ величин выставочны комплекс город вход 50 крупнеиш выставочн центр мир ежегодн вднх посеща 30 млн гост 1 август 2019 год выставк отпразднова 80 летн юбил территориальн вднх объедин парк останкин главн ботаническ сад общ площад составля 700 га 240 2 га площад вднх 75 6 га площад парк останкин 361 га площад гбс 9 5 га музеин выставочны центр рабоч колхозниц площад арко главн вход территор выставк располож множеств шедевр архитектур 49 объект вднх призна памятник культурн наслед</td>\n",
              "      <td>True</td>\n",
              "      <td>1</td>\n",
              "    </tr>\n",
              "    <tr>\n",
              "      <th>2</th>\n",
              "      <td>джига black star</td>\n",
              "      <td>вмест эт трек выступ церемон вручен наград mtv rma эт первы выход джига больш сцен 2007 год джига стал официальн артист леибл black star inc выпуст первы песн клип одноклассниц совместн работ тимат март 2011 год появ совместн юл савичево композиц отпуст песн подня радиочарт tophit 8 мест заня перв мест чарт weekly audience choice top hit количеств просмотр клип youtube превыс 17 миллион</td>\n",
              "      <td>True</td>\n",
              "      <td>2</td>\n",
              "    </tr>\n",
              "    <tr>\n",
              "      <th>3</th>\n",
              "      <td>xiaomi конкурент apple</td>\n",
              "      <td>xiaomi китаиск компан основа 2010 год занима выпуск электроник бытово техник такж разработко программн обеспечен основно продукц компан явля смартфон первы котор выпущ 2011 год настоя врем xiaomi производ широк ассортимент смартфон разн ценов сегмент явля одн крупнеиш производител смартфон мир трет квартал 2014 год эт компан заня наивысш трет мест мир поставк смартфон набра 5 2 штучн выражен уступ лиш samsung apple ве 2017 год компан заня продаж перв мест кита втор мест инд дан списк привод смартфон либ выпущен компан xiaomi</td>\n",
              "      <td>True</td>\n",
              "      <td>3</td>\n",
              "    </tr>\n",
              "    <tr>\n",
              "      <th>4</th>\n",
              "      <td>автомат калашников вов</td>\n",
              "      <td>отмет некотор недостатк цел удачн конструкц специалист га рекомендова принима пп калашников вооружен технологическ причин заключен глас 1942 год калашник работа центральн научн исследовательск полигон стрелков минометн вооружен га ркка 1944 год созда опытны образец самозарядн карабин которы хот вышел сериин производств частичн послуж прототип создан автомат 1945 год миха калашник нача разработк автоматическ оруж промежуточны патрон 7 62×39 образц 1943 год автомат калашников побед конкурс 1947 год прин вооружен</td>\n",
              "      <td>False</td>\n",
              "      <td>4</td>\n",
              "    </tr>\n",
              "  </tbody>\n",
              "</table>\n",
              "</div>"
            ],
            "text/plain": [
              "                   question  \\\n",
              "0  вднх эт выставочны центр   \n",
              "1  вднх эт выставочны центр   \n",
              "2  джига black star           \n",
              "3  xiaomi конкурент apple     \n",
              "4  автомат калашников вов     \n",
              "\n",
              "                                                                                                                                                                                                                                                                                                                                                                                                                                                                                                                                                                                                                                                                                                                      passage  \\\n",
              "0  выставочны центр станц московск монорельс располож станц улиц академик королев улиц серге эизенштеин наход территор останкинск раион север восточн административн округ город москв переход станц вднх калужск рижско лин назва чест всероссииск выставочн центр назван вднх 1992 2014 год 20 ноябр 2004 год лин монорельс нача работа экскурсион режим перевезл перв пассажир                                                                                                                                                                                                                                                                                                                                               \n",
              "1  выставк достижен народн хозяиств 1959 1991 год выставк достижен народн хозяиств ссср 1992 2014 год всероссииск выставочны центр выставочны комплекс останкинск раион север восточн административн округ город москв второ величин выставочны комплекс город вход 50 крупнеиш выставочн центр мир ежегодн вднх посеща 30 млн гост 1 август 2019 год выставк отпразднова 80 летн юбил территориальн вднх объедин парк останкин главн ботаническ сад общ площад составля 700 га 240 2 га площад вднх 75 6 га площад парк останкин 361 га площад гбс 9 5 га музеин выставочны центр рабоч колхозниц площад арко главн вход территор выставк располож множеств шедевр архитектур 49 объект вднх призна памятник культурн наслед   \n",
              "2  вмест эт трек выступ церемон вручен наград mtv rma эт первы выход джига больш сцен 2007 год джига стал официальн артист леибл black star inc выпуст первы песн клип одноклассниц совместн работ тимат март 2011 год появ совместн юл савичево композиц отпуст песн подня радиочарт tophit 8 мест заня перв мест чарт weekly audience choice top hit количеств просмотр клип youtube превыс 17 миллион                                                                                                                                                                                                                                                                                                                        \n",
              "3  xiaomi китаиск компан основа 2010 год занима выпуск электроник бытово техник такж разработко программн обеспечен основно продукц компан явля смартфон первы котор выпущ 2011 год настоя врем xiaomi производ широк ассортимент смартфон разн ценов сегмент явля одн крупнеиш производител смартфон мир трет квартал 2014 год эт компан заня наивысш трет мест мир поставк смартфон набра 5 2 штучн выражен уступ лиш samsung apple ве 2017 год компан заня продаж перв мест кита втор мест инд дан списк привод смартфон либ выпущен компан xiaomi                                                                                                                                                                           \n",
              "4  отмет некотор недостатк цел удачн конструкц специалист га рекомендова принима пп калашников вооружен технологическ причин заключен глас 1942 год калашник работа центральн научн исследовательск полигон стрелков минометн вооружен га ркка 1944 год созда опытны образец самозарядн карабин которы хот вышел сериин производств частичн послуж прототип создан автомат 1945 год миха калашник нача разработк автоматическ оруж промежуточны патрон 7 62×39 образц 1943 год автомат калашников побед конкурс 1947 год прин вооружен                                                                                                                                                                                          \n",
              "\n",
              "   label  idx  \n",
              "0  True   0    \n",
              "1  True   1    \n",
              "2  True   2    \n",
              "3  True   3    \n",
              "4  False  4    "
            ]
          },
          "metadata": {},
          "output_type": "display_data"
        },
        {
          "name": "stdout",
          "output_type": "stream",
          "text": [
            "Stats:\n"
          ]
        },
        {
          "data": {
            "text/html": [
              "<div>\n",
              "<style scoped>\n",
              "    .dataframe tbody tr th:only-of-type {\n",
              "        vertical-align: middle;\n",
              "    }\n",
              "\n",
              "    .dataframe tbody tr th {\n",
              "        vertical-align: top;\n",
              "    }\n",
              "\n",
              "    .dataframe thead th {\n",
              "        text-align: right;\n",
              "    }\n",
              "</style>\n",
              "<table border=\"1\" class=\"dataframe\">\n",
              "  <thead>\n",
              "    <tr style=\"text-align: right;\">\n",
              "      <th></th>\n",
              "      <th>label</th>\n",
              "      <th>MIN</th>\n",
              "      <th>MAX</th>\n",
              "      <th>MEAN</th>\n",
              "    </tr>\n",
              "  </thead>\n",
              "  <tbody>\n",
              "    <tr>\n",
              "      <th>0</th>\n",
              "      <td>question(symbols)</td>\n",
              "      <td>3</td>\n",
              "      <td>133</td>\n",
              "      <td>26</td>\n",
              "    </tr>\n",
              "    <tr>\n",
              "      <th>1</th>\n",
              "      <td>question(words)</td>\n",
              "      <td>1</td>\n",
              "      <td>21</td>\n",
              "      <td>4</td>\n",
              "    </tr>\n",
              "    <tr>\n",
              "      <th>2</th>\n",
              "      <td>passage(symbols)</td>\n",
              "      <td>211</td>\n",
              "      <td>2104</td>\n",
              "      <td>512</td>\n",
              "    </tr>\n",
              "    <tr>\n",
              "      <th>3</th>\n",
              "      <td>passage(words)</td>\n",
              "      <td>33</td>\n",
              "      <td>340</td>\n",
              "      <td>74</td>\n",
              "    </tr>\n",
              "  </tbody>\n",
              "</table>\n",
              "</div>"
            ],
            "text/plain": [
              "               label  MIN   MAX  MEAN\n",
              "0  question(symbols)  3    133   26  \n",
              "1  question(words)    1    21    4   \n",
              "2  passage(symbols)   211  2104  512 \n",
              "3  passage(words)     33   340   74  "
            ]
          },
          "metadata": {},
          "output_type": "display_data"
        },
        {
          "name": "stdout",
          "output_type": "stream",
          "text": [
            "True answer: 1061\n",
            "False answer: 688\n",
            "\n",
            "Validation set\n"
          ]
        },
        {
          "data": {
            "text/html": [
              "<div>\n",
              "<style scoped>\n",
              "    .dataframe tbody tr th:only-of-type {\n",
              "        vertical-align: middle;\n",
              "    }\n",
              "\n",
              "    .dataframe tbody tr th {\n",
              "        vertical-align: top;\n",
              "    }\n",
              "\n",
              "    .dataframe thead th {\n",
              "        text-align: right;\n",
              "    }\n",
              "</style>\n",
              "<table border=\"1\" class=\"dataframe\">\n",
              "  <thead>\n",
              "    <tr style=\"text-align: right;\">\n",
              "      <th></th>\n",
              "      <th>question</th>\n",
              "      <th>passage</th>\n",
              "      <th>label</th>\n",
              "      <th>idx</th>\n",
              "    </tr>\n",
              "  </thead>\n",
              "  <tbody>\n",
              "    <tr>\n",
              "      <th>0</th>\n",
              "      <td>вднх эт выставочны центр</td>\n",
              "      <td>выставочны центр станц московск монорельс располож станц улиц академик королев улиц серге эизенштеин наход территор останкинск раион север восточн административн округ город москв переход станц вднх калужск рижско лин назва чест всероссииск выставочн центр назван вднх 1992 2014 год 20 ноябр 2004 год лин монорельс нача работа экскурсион режим перевезл перв пассажир</td>\n",
              "      <td>True</td>\n",
              "      <td>0</td>\n",
              "    </tr>\n",
              "    <tr>\n",
              "      <th>1</th>\n",
              "      <td>вднх эт выставочны центр</td>\n",
              "      <td>выставк достижен народн хозяиств 1959 1991 год выставк достижен народн хозяиств ссср 1992 2014 год всероссииск выставочны центр выставочны комплекс останкинск раион север восточн административн округ город москв второ величин выставочны комплекс город вход 50 крупнеиш выставочн центр мир ежегодн вднх посеща 30 млн гост 1 август 2019 год выставк отпразднова 80 летн юбил территориальн вднх объедин парк останкин главн ботаническ сад общ площад составля 700 га 240 2 га площад вднх 75 6 га площад парк останкин 361 га площад гбс 9 5 га музеин выставочны центр рабоч колхозниц площад арко главн вход территор выставк располож множеств шедевр архитектур 49 объект вднх призна памятник культурн наслед</td>\n",
              "      <td>True</td>\n",
              "      <td>1</td>\n",
              "    </tr>\n",
              "    <tr>\n",
              "      <th>2</th>\n",
              "      <td>джига black star</td>\n",
              "      <td>вмест эт трек выступ церемон вручен наград mtv rma эт первы выход джига больш сцен 2007 год джига стал официальн артист леибл black star inc выпуст первы песн клип одноклассниц совместн работ тимат март 2011 год появ совместн юл савичево композиц отпуст песн подня радиочарт tophit 8 мест заня перв мест чарт weekly audience choice top hit количеств просмотр клип youtube превыс 17 миллион</td>\n",
              "      <td>True</td>\n",
              "      <td>2</td>\n",
              "    </tr>\n",
              "    <tr>\n",
              "      <th>3</th>\n",
              "      <td>xiaomi конкурент apple</td>\n",
              "      <td>xiaomi китаиск компан основа 2010 год занима выпуск электроник бытово техник такж разработко программн обеспечен основно продукц компан явля смартфон первы котор выпущ 2011 год настоя врем xiaomi производ широк ассортимент смартфон разн ценов сегмент явля одн крупнеиш производител смартфон мир трет квартал 2014 год эт компан заня наивысш трет мест мир поставк смартфон набра 5 2 штучн выражен уступ лиш samsung apple ве 2017 год компан заня продаж перв мест кита втор мест инд дан списк привод смартфон либ выпущен компан xiaomi</td>\n",
              "      <td>True</td>\n",
              "      <td>3</td>\n",
              "    </tr>\n",
              "    <tr>\n",
              "      <th>4</th>\n",
              "      <td>автомат калашников вов</td>\n",
              "      <td>отмет некотор недостатк цел удачн конструкц специалист га рекомендова принима пп калашников вооружен технологическ причин заключен глас 1942 год калашник работа центральн научн исследовательск полигон стрелков минометн вооружен га ркка 1944 год созда опытны образец самозарядн карабин которы хот вышел сериин производств частичн послуж прототип создан автомат 1945 год миха калашник нача разработк автоматическ оруж промежуточны патрон 7 62×39 образц 1943 год автомат калашников побед конкурс 1947 год прин вооружен</td>\n",
              "      <td>False</td>\n",
              "      <td>4</td>\n",
              "    </tr>\n",
              "  </tbody>\n",
              "</table>\n",
              "</div>"
            ],
            "text/plain": [
              "                   question  \\\n",
              "0  вднх эт выставочны центр   \n",
              "1  вднх эт выставочны центр   \n",
              "2  джига black star           \n",
              "3  xiaomi конкурент apple     \n",
              "4  автомат калашников вов     \n",
              "\n",
              "                                                                                                                                                                                                                                                                                                                                                                                                                                                                                                                                                                                                                                                                                                                      passage  \\\n",
              "0  выставочны центр станц московск монорельс располож станц улиц академик королев улиц серге эизенштеин наход территор останкинск раион север восточн административн округ город москв переход станц вднх калужск рижско лин назва чест всероссииск выставочн центр назван вднх 1992 2014 год 20 ноябр 2004 год лин монорельс нача работа экскурсион режим перевезл перв пассажир                                                                                                                                                                                                                                                                                                                                               \n",
              "1  выставк достижен народн хозяиств 1959 1991 год выставк достижен народн хозяиств ссср 1992 2014 год всероссииск выставочны центр выставочны комплекс останкинск раион север восточн административн округ город москв второ величин выставочны комплекс город вход 50 крупнеиш выставочн центр мир ежегодн вднх посеща 30 млн гост 1 август 2019 год выставк отпразднова 80 летн юбил территориальн вднх объедин парк останкин главн ботаническ сад общ площад составля 700 га 240 2 га площад вднх 75 6 га площад парк останкин 361 га площад гбс 9 5 га музеин выставочны центр рабоч колхозниц площад арко главн вход территор выставк располож множеств шедевр архитектур 49 объект вднх призна памятник культурн наслед   \n",
              "2  вмест эт трек выступ церемон вручен наград mtv rma эт первы выход джига больш сцен 2007 год джига стал официальн артист леибл black star inc выпуст первы песн клип одноклассниц совместн работ тимат март 2011 год появ совместн юл савичево композиц отпуст песн подня радиочарт tophit 8 мест заня перв мест чарт weekly audience choice top hit количеств просмотр клип youtube превыс 17 миллион                                                                                                                                                                                                                                                                                                                        \n",
              "3  xiaomi китаиск компан основа 2010 год занима выпуск электроник бытово техник такж разработко программн обеспечен основно продукц компан явля смартфон первы котор выпущ 2011 год настоя врем xiaomi производ широк ассортимент смартфон разн ценов сегмент явля одн крупнеиш производител смартфон мир трет квартал 2014 год эт компан заня наивысш трет мест мир поставк смартфон набра 5 2 штучн выражен уступ лиш samsung apple ве 2017 год компан заня продаж перв мест кита втор мест инд дан списк привод смартфон либ выпущен компан xiaomi                                                                                                                                                                           \n",
              "4  отмет некотор недостатк цел удачн конструкц специалист га рекомендова принима пп калашников вооружен технологическ причин заключен глас 1942 год калашник работа центральн научн исследовательск полигон стрелков минометн вооружен га ркка 1944 год созда опытны образец самозарядн карабин которы хот вышел сериин производств частичн послуж прототип создан автомат 1945 год миха калашник нача разработк автоматическ оруж промежуточны патрон 7 62×39 образц 1943 год автомат калашников побед конкурс 1947 год прин вооружен                                                                                                                                                                                          \n",
              "\n",
              "   label  idx  \n",
              "0  True   0    \n",
              "1  True   1    \n",
              "2  True   2    \n",
              "3  True   3    \n",
              "4  False  4    "
            ]
          },
          "metadata": {},
          "output_type": "display_data"
        },
        {
          "name": "stdout",
          "output_type": "stream",
          "text": [
            "Stats:\n"
          ]
        },
        {
          "data": {
            "text/html": [
              "<div>\n",
              "<style scoped>\n",
              "    .dataframe tbody tr th:only-of-type {\n",
              "        vertical-align: middle;\n",
              "    }\n",
              "\n",
              "    .dataframe tbody tr th {\n",
              "        vertical-align: top;\n",
              "    }\n",
              "\n",
              "    .dataframe thead th {\n",
              "        text-align: right;\n",
              "    }\n",
              "</style>\n",
              "<table border=\"1\" class=\"dataframe\">\n",
              "  <thead>\n",
              "    <tr style=\"text-align: right;\">\n",
              "      <th></th>\n",
              "      <th>label</th>\n",
              "      <th>MIN</th>\n",
              "      <th>MAX</th>\n",
              "      <th>MEAN</th>\n",
              "    </tr>\n",
              "  </thead>\n",
              "  <tbody>\n",
              "    <tr>\n",
              "      <th>0</th>\n",
              "      <td>question(symbols)</td>\n",
              "      <td>3</td>\n",
              "      <td>133</td>\n",
              "      <td>26</td>\n",
              "    </tr>\n",
              "    <tr>\n",
              "      <th>1</th>\n",
              "      <td>question(words)</td>\n",
              "      <td>1</td>\n",
              "      <td>21</td>\n",
              "      <td>4</td>\n",
              "    </tr>\n",
              "    <tr>\n",
              "      <th>2</th>\n",
              "      <td>passage(symbols)</td>\n",
              "      <td>211</td>\n",
              "      <td>2104</td>\n",
              "      <td>512</td>\n",
              "    </tr>\n",
              "    <tr>\n",
              "      <th>3</th>\n",
              "      <td>passage(words)</td>\n",
              "      <td>33</td>\n",
              "      <td>340</td>\n",
              "      <td>74</td>\n",
              "    </tr>\n",
              "  </tbody>\n",
              "</table>\n",
              "</div>"
            ],
            "text/plain": [
              "               label  MIN   MAX  MEAN\n",
              "0  question(symbols)  3    133   26  \n",
              "1  question(words)    1    21    4   \n",
              "2  passage(symbols)   211  2104  512 \n",
              "3  passage(words)     33   340   74  "
            ]
          },
          "metadata": {},
          "output_type": "display_data"
        },
        {
          "name": "stdout",
          "output_type": "stream",
          "text": [
            "True answer: 1061\n",
            "False answer: 688\n",
            "\n",
            "Test set:\n"
          ]
        },
        {
          "data": {
            "text/html": [
              "<div>\n",
              "<style scoped>\n",
              "    .dataframe tbody tr th:only-of-type {\n",
              "        vertical-align: middle;\n",
              "    }\n",
              "\n",
              "    .dataframe tbody tr th {\n",
              "        vertical-align: top;\n",
              "    }\n",
              "\n",
              "    .dataframe thead th {\n",
              "        text-align: right;\n",
              "    }\n",
              "</style>\n",
              "<table border=\"1\" class=\"dataframe\">\n",
              "  <thead>\n",
              "    <tr style=\"text-align: right;\">\n",
              "      <th></th>\n",
              "      <th>question</th>\n",
              "      <th>passage</th>\n",
              "      <th>label</th>\n",
              "      <th>idx</th>\n",
              "    </tr>\n",
              "  </thead>\n",
              "  <tbody>\n",
              "    <tr>\n",
              "      <th>0</th>\n",
              "      <td>вднх эт выставочны центр</td>\n",
              "      <td>выставочны центр станц московск монорельс располож станц улиц академик королев улиц серге эизенштеин наход территор останкинск раион север восточн административн округ город москв переход станц вднх калужск рижско лин назва чест всероссииск выставочн центр назван вднх 1992 2014 год 20 ноябр 2004 год лин монорельс нача работа экскурсион режим перевезл перв пассажир</td>\n",
              "      <td>True</td>\n",
              "      <td>0</td>\n",
              "    </tr>\n",
              "    <tr>\n",
              "      <th>1</th>\n",
              "      <td>вднх эт выставочны центр</td>\n",
              "      <td>выставк достижен народн хозяиств 1959 1991 год выставк достижен народн хозяиств ссср 1992 2014 год всероссииск выставочны центр выставочны комплекс останкинск раион север восточн административн округ город москв второ величин выставочны комплекс город вход 50 крупнеиш выставочн центр мир ежегодн вднх посеща 30 млн гост 1 август 2019 год выставк отпразднова 80 летн юбил территориальн вднх объедин парк останкин главн ботаническ сад общ площад составля 700 га 240 2 га площад вднх 75 6 га площад парк останкин 361 га площад гбс 9 5 га музеин выставочны центр рабоч колхозниц площад арко главн вход территор выставк располож множеств шедевр архитектур 49 объект вднх призна памятник культурн наслед</td>\n",
              "      <td>True</td>\n",
              "      <td>1</td>\n",
              "    </tr>\n",
              "    <tr>\n",
              "      <th>2</th>\n",
              "      <td>джига black star</td>\n",
              "      <td>вмест эт трек выступ церемон вручен наград mtv rma эт первы выход джига больш сцен 2007 год джига стал официальн артист леибл black star inc выпуст первы песн клип одноклассниц совместн работ тимат март 2011 год появ совместн юл савичево композиц отпуст песн подня радиочарт tophit 8 мест заня перв мест чарт weekly audience choice top hit количеств просмотр клип youtube превыс 17 миллион</td>\n",
              "      <td>True</td>\n",
              "      <td>2</td>\n",
              "    </tr>\n",
              "    <tr>\n",
              "      <th>3</th>\n",
              "      <td>xiaomi конкурент apple</td>\n",
              "      <td>xiaomi китаиск компан основа 2010 год занима выпуск электроник бытово техник такж разработко программн обеспечен основно продукц компан явля смартфон первы котор выпущ 2011 год настоя врем xiaomi производ широк ассортимент смартфон разн ценов сегмент явля одн крупнеиш производител смартфон мир трет квартал 2014 год эт компан заня наивысш трет мест мир поставк смартфон набра 5 2 штучн выражен уступ лиш samsung apple ве 2017 год компан заня продаж перв мест кита втор мест инд дан списк привод смартфон либ выпущен компан xiaomi</td>\n",
              "      <td>True</td>\n",
              "      <td>3</td>\n",
              "    </tr>\n",
              "    <tr>\n",
              "      <th>4</th>\n",
              "      <td>автомат калашников вов</td>\n",
              "      <td>отмет некотор недостатк цел удачн конструкц специалист га рекомендова принима пп калашников вооружен технологическ причин заключен глас 1942 год калашник работа центральн научн исследовательск полигон стрелков минометн вооружен га ркка 1944 год созда опытны образец самозарядн карабин которы хот вышел сериин производств частичн послуж прототип создан автомат 1945 год миха калашник нача разработк автоматическ оруж промежуточны патрон 7 62×39 образц 1943 год автомат калашников побед конкурс 1947 год прин вооружен</td>\n",
              "      <td>False</td>\n",
              "      <td>4</td>\n",
              "    </tr>\n",
              "  </tbody>\n",
              "</table>\n",
              "</div>"
            ],
            "text/plain": [
              "                   question  \\\n",
              "0  вднх эт выставочны центр   \n",
              "1  вднх эт выставочны центр   \n",
              "2  джига black star           \n",
              "3  xiaomi конкурент apple     \n",
              "4  автомат калашников вов     \n",
              "\n",
              "                                                                                                                                                                                                                                                                                                                                                                                                                                                                                                                                                                                                                                                                                                                      passage  \\\n",
              "0  выставочны центр станц московск монорельс располож станц улиц академик королев улиц серге эизенштеин наход территор останкинск раион север восточн административн округ город москв переход станц вднх калужск рижско лин назва чест всероссииск выставочн центр назван вднх 1992 2014 год 20 ноябр 2004 год лин монорельс нача работа экскурсион режим перевезл перв пассажир                                                                                                                                                                                                                                                                                                                                               \n",
              "1  выставк достижен народн хозяиств 1959 1991 год выставк достижен народн хозяиств ссср 1992 2014 год всероссииск выставочны центр выставочны комплекс останкинск раион север восточн административн округ город москв второ величин выставочны комплекс город вход 50 крупнеиш выставочн центр мир ежегодн вднх посеща 30 млн гост 1 август 2019 год выставк отпразднова 80 летн юбил территориальн вднх объедин парк останкин главн ботаническ сад общ площад составля 700 га 240 2 га площад вднх 75 6 га площад парк останкин 361 га площад гбс 9 5 га музеин выставочны центр рабоч колхозниц площад арко главн вход территор выставк располож множеств шедевр архитектур 49 объект вднх призна памятник культурн наслед   \n",
              "2  вмест эт трек выступ церемон вручен наград mtv rma эт первы выход джига больш сцен 2007 год джига стал официальн артист леибл black star inc выпуст первы песн клип одноклассниц совместн работ тимат март 2011 год появ совместн юл савичево композиц отпуст песн подня радиочарт tophit 8 мест заня перв мест чарт weekly audience choice top hit количеств просмотр клип youtube превыс 17 миллион                                                                                                                                                                                                                                                                                                                        \n",
              "3  xiaomi китаиск компан основа 2010 год занима выпуск электроник бытово техник такж разработко программн обеспечен основно продукц компан явля смартфон первы котор выпущ 2011 год настоя врем xiaomi производ широк ассортимент смартфон разн ценов сегмент явля одн крупнеиш производител смартфон мир трет квартал 2014 год эт компан заня наивысш трет мест мир поставк смартфон набра 5 2 штучн выражен уступ лиш samsung apple ве 2017 год компан заня продаж перв мест кита втор мест инд дан списк привод смартфон либ выпущен компан xiaomi                                                                                                                                                                           \n",
              "4  отмет некотор недостатк цел удачн конструкц специалист га рекомендова принима пп калашников вооружен технологическ причин заключен глас 1942 год калашник работа центральн научн исследовательск полигон стрелков минометн вооружен га ркка 1944 год созда опытны образец самозарядн карабин которы хот вышел сериин производств частичн послуж прототип создан автомат 1945 год миха калашник нача разработк автоматическ оруж промежуточны патрон 7 62×39 образц 1943 год автомат калашников побед конкурс 1947 год прин вооружен                                                                                                                                                                                          \n",
              "\n",
              "   label  idx  \n",
              "0  True   0    \n",
              "1  True   1    \n",
              "2  True   2    \n",
              "3  True   3    \n",
              "4  False  4    "
            ]
          },
          "metadata": {},
          "output_type": "display_data"
        },
        {
          "name": "stdout",
          "output_type": "stream",
          "text": [
            "Stats:\n"
          ]
        },
        {
          "data": {
            "text/html": [
              "<div>\n",
              "<style scoped>\n",
              "    .dataframe tbody tr th:only-of-type {\n",
              "        vertical-align: middle;\n",
              "    }\n",
              "\n",
              "    .dataframe tbody tr th {\n",
              "        vertical-align: top;\n",
              "    }\n",
              "\n",
              "    .dataframe thead th {\n",
              "        text-align: right;\n",
              "    }\n",
              "</style>\n",
              "<table border=\"1\" class=\"dataframe\">\n",
              "  <thead>\n",
              "    <tr style=\"text-align: right;\">\n",
              "      <th></th>\n",
              "      <th>label</th>\n",
              "      <th>MIN</th>\n",
              "      <th>MAX</th>\n",
              "      <th>MEAN</th>\n",
              "    </tr>\n",
              "  </thead>\n",
              "  <tbody>\n",
              "    <tr>\n",
              "      <th>0</th>\n",
              "      <td>question(symbols)</td>\n",
              "      <td>3</td>\n",
              "      <td>133</td>\n",
              "      <td>26</td>\n",
              "    </tr>\n",
              "    <tr>\n",
              "      <th>1</th>\n",
              "      <td>question(words)</td>\n",
              "      <td>1</td>\n",
              "      <td>21</td>\n",
              "      <td>4</td>\n",
              "    </tr>\n",
              "    <tr>\n",
              "      <th>2</th>\n",
              "      <td>passage(symbols)</td>\n",
              "      <td>211</td>\n",
              "      <td>2104</td>\n",
              "      <td>512</td>\n",
              "    </tr>\n",
              "    <tr>\n",
              "      <th>3</th>\n",
              "      <td>passage(words)</td>\n",
              "      <td>33</td>\n",
              "      <td>340</td>\n",
              "      <td>74</td>\n",
              "    </tr>\n",
              "  </tbody>\n",
              "</table>\n",
              "</div>"
            ],
            "text/plain": [
              "               label  MIN   MAX  MEAN\n",
              "0  question(symbols)  3    133   26  \n",
              "1  question(words)    1    21    4   \n",
              "2  passage(symbols)   211  2104  512 \n",
              "3  passage(words)     33   340   74  "
            ]
          },
          "metadata": {},
          "output_type": "display_data"
        },
        {
          "name": "stdout",
          "output_type": "stream",
          "text": [
            "True answer: 1061\n",
            "False answer: 688\n",
            "\n"
          ]
        }
      ],
      "source": [
        "df_trainL5, df_trainL5_stat = loadJSONL(fileNameData(\"train_L5\"), \"Train set\")\n",
        "df_validationL5, df_validationL5_stat = loadJSONL(fileNameData(\"train_L5\"), \"Validation set\")\n",
        "df_testL5, df_testL5_stat = loadJSONL(fileNameData(\"train_L5\"), \"Test set:\")"
      ]
    },
    {
      "cell_type": "markdown",
      "metadata": {},
      "source": [
        "### Общая таблица изменения длины"
      ]
    },
    {
      "cell_type": "code",
      "execution_count": 10,
      "metadata": {},
      "outputs": [],
      "source": [
        "df_trainL0_stat['label'] += \" L0\"\n",
        "df_trainL1_stat['label'] += \" L1\"\n",
        "df_trainL2_stat['label'] += \" L2\"\n",
        "df_trainL3_stat['label'] += \" L3\"\n",
        "df_trainL4_stat['label'] += \" L4\"\n",
        "df_trainL5_stat['label'] += \" L5\"\n",
        "\n",
        "df_testL0_stat['label'] += \" L0\"\n",
        "df_testL1_stat['label'] += \" L1\"\n",
        "df_testL2_stat['label'] += \" L2\"\n",
        "df_testL3_stat['label'] += \" L3\"\n",
        "df_testL4_stat['label'] += \" L4\"\n",
        "df_testL5_stat['label'] += \" L5\"\n",
        "\n",
        "df_validationL0_stat['label'] += \" L0\"\n",
        "df_validationL1_stat['label'] += \" L1\"\n",
        "df_validationL2_stat['label'] += \" L2\"\n",
        "df_validationL3_stat['label'] += \" L3\"\n",
        "df_validationL4_stat['label'] += \" L4\"\n",
        "df_validationL5_stat['label'] += \" L5\""
      ]
    },
    {
      "cell_type": "code",
      "execution_count": 11,
      "metadata": {},
      "outputs": [
        {
          "data": {
            "text/html": [
              "<div>\n",
              "<style scoped>\n",
              "    .dataframe tbody tr th:only-of-type {\n",
              "        vertical-align: middle;\n",
              "    }\n",
              "\n",
              "    .dataframe tbody tr th {\n",
              "        vertical-align: top;\n",
              "    }\n",
              "\n",
              "    .dataframe thead th {\n",
              "        text-align: right;\n",
              "    }\n",
              "</style>\n",
              "<table border=\"1\" class=\"dataframe\">\n",
              "  <thead>\n",
              "    <tr style=\"text-align: right;\">\n",
              "      <th></th>\n",
              "      <th>MIN</th>\n",
              "      <th>MAX</th>\n",
              "      <th>MEAN</th>\n",
              "    </tr>\n",
              "    <tr>\n",
              "      <th>label</th>\n",
              "      <th></th>\n",
              "      <th></th>\n",
              "      <th></th>\n",
              "    </tr>\n",
              "  </thead>\n",
              "  <tbody>\n",
              "    <tr>\n",
              "      <th>passage(symbols) L0</th>\n",
              "      <td>294</td>\n",
              "      <td>3200</td>\n",
              "      <td>723</td>\n",
              "    </tr>\n",
              "    <tr>\n",
              "      <th>passage(symbols) L1</th>\n",
              "      <td>293</td>\n",
              "      <td>3200</td>\n",
              "      <td>722</td>\n",
              "    </tr>\n",
              "    <tr>\n",
              "      <th>passage(symbols) L2</th>\n",
              "      <td>293</td>\n",
              "      <td>3200</td>\n",
              "      <td>722</td>\n",
              "    </tr>\n",
              "    <tr>\n",
              "      <th>passage(symbols) L3</th>\n",
              "      <td>271</td>\n",
              "      <td>3095</td>\n",
              "      <td>701</td>\n",
              "    </tr>\n",
              "    <tr>\n",
              "      <th>passage(symbols) L4</th>\n",
              "      <td>245</td>\n",
              "      <td>2656</td>\n",
              "      <td>625</td>\n",
              "    </tr>\n",
              "    <tr>\n",
              "      <th>passage(symbols) L5</th>\n",
              "      <td>211</td>\n",
              "      <td>2104</td>\n",
              "      <td>512</td>\n",
              "    </tr>\n",
              "    <tr>\n",
              "      <th>passage(words) L0</th>\n",
              "      <td>48</td>\n",
              "      <td>587</td>\n",
              "      <td>115</td>\n",
              "    </tr>\n",
              "    <tr>\n",
              "      <th>passage(words) L1</th>\n",
              "      <td>48</td>\n",
              "      <td>587</td>\n",
              "      <td>115</td>\n",
              "    </tr>\n",
              "    <tr>\n",
              "      <th>passage(words) L2</th>\n",
              "      <td>48</td>\n",
              "      <td>587</td>\n",
              "      <td>115</td>\n",
              "    </tr>\n",
              "    <tr>\n",
              "      <th>passage(words) L3</th>\n",
              "      <td>40</td>\n",
              "      <td>479</td>\n",
              "      <td>98</td>\n",
              "    </tr>\n",
              "    <tr>\n",
              "      <th>passage(words) L4</th>\n",
              "      <td>33</td>\n",
              "      <td>340</td>\n",
              "      <td>74</td>\n",
              "    </tr>\n",
              "    <tr>\n",
              "      <th>passage(words) L5</th>\n",
              "      <td>33</td>\n",
              "      <td>340</td>\n",
              "      <td>74</td>\n",
              "    </tr>\n",
              "    <tr>\n",
              "      <th>question(symbols) L0</th>\n",
              "      <td>14</td>\n",
              "      <td>182</td>\n",
              "      <td>41</td>\n",
              "    </tr>\n",
              "    <tr>\n",
              "      <th>question(symbols) L1</th>\n",
              "      <td>14</td>\n",
              "      <td>182</td>\n",
              "      <td>41</td>\n",
              "    </tr>\n",
              "    <tr>\n",
              "      <th>question(symbols) L2</th>\n",
              "      <td>14</td>\n",
              "      <td>182</td>\n",
              "      <td>41</td>\n",
              "    </tr>\n",
              "    <tr>\n",
              "      <th>question(symbols) L3</th>\n",
              "      <td>13</td>\n",
              "      <td>179</td>\n",
              "      <td>40</td>\n",
              "    </tr>\n",
              "    <tr>\n",
              "      <th>question(symbols) L4</th>\n",
              "      <td>4</td>\n",
              "      <td>162</td>\n",
              "      <td>32</td>\n",
              "    </tr>\n",
              "    <tr>\n",
              "      <th>question(symbols) L5</th>\n",
              "      <td>3</td>\n",
              "      <td>133</td>\n",
              "      <td>26</td>\n",
              "    </tr>\n",
              "    <tr>\n",
              "      <th>question(words) L0</th>\n",
              "      <td>3</td>\n",
              "      <td>30</td>\n",
              "      <td>7</td>\n",
              "    </tr>\n",
              "    <tr>\n",
              "      <th>question(words) L1</th>\n",
              "      <td>3</td>\n",
              "      <td>30</td>\n",
              "      <td>7</td>\n",
              "    </tr>\n",
              "    <tr>\n",
              "      <th>question(words) L2</th>\n",
              "      <td>3</td>\n",
              "      <td>30</td>\n",
              "      <td>7</td>\n",
              "    </tr>\n",
              "    <tr>\n",
              "      <th>question(words) L3</th>\n",
              "      <td>2</td>\n",
              "      <td>28</td>\n",
              "      <td>6</td>\n",
              "    </tr>\n",
              "    <tr>\n",
              "      <th>question(words) L4</th>\n",
              "      <td>1</td>\n",
              "      <td>21</td>\n",
              "      <td>4</td>\n",
              "    </tr>\n",
              "    <tr>\n",
              "      <th>question(words) L5</th>\n",
              "      <td>1</td>\n",
              "      <td>21</td>\n",
              "      <td>4</td>\n",
              "    </tr>\n",
              "  </tbody>\n",
              "</table>\n",
              "</div>"
            ],
            "text/plain": [
              "                      MIN   MAX  MEAN\n",
              "label                                \n",
              "passage(symbols) L0   294  3200  723 \n",
              "passage(symbols) L1   293  3200  722 \n",
              "passage(symbols) L2   293  3200  722 \n",
              "passage(symbols) L3   271  3095  701 \n",
              "passage(symbols) L4   245  2656  625 \n",
              "passage(symbols) L5   211  2104  512 \n",
              "passage(words) L0     48   587   115 \n",
              "passage(words) L1     48   587   115 \n",
              "passage(words) L2     48   587   115 \n",
              "passage(words) L3     40   479   98  \n",
              "passage(words) L4     33   340   74  \n",
              "passage(words) L5     33   340   74  \n",
              "question(symbols) L0  14   182   41  \n",
              "question(symbols) L1  14   182   41  \n",
              "question(symbols) L2  14   182   41  \n",
              "question(symbols) L3  13   179   40  \n",
              "question(symbols) L4  4    162   32  \n",
              "question(symbols) L5  3    133   26  \n",
              "question(words) L0    3    30    7   \n",
              "question(words) L1    3    30    7   \n",
              "question(words) L2    3    30    7   \n",
              "question(words) L3    2    28    6   \n",
              "question(words) L4    1    21    4   \n",
              "question(words) L5    1    21    4   "
            ]
          },
          "execution_count": 11,
          "metadata": {},
          "output_type": "execute_result"
        }
      ],
      "source": [
        "pd.concat(\n",
        "    [df_trainL0_stat, df_trainL1_stat, df_trainL2_stat, df_trainL3_stat, df_trainL4_stat, df_trainL5_stat], \n",
        "    ignore_index=True\n",
        ").sort_values(\n",
        "    'label', \n",
        "    ascending=True\n",
        ").set_index('label')"
      ]
    },
    {
      "cell_type": "code",
      "execution_count": 21,
      "metadata": {},
      "outputs": [
        {
          "data": {
            "text/html": [
              "<style type=\"text/css\">\n",
              "#T_5bb12 th {\n",
              "  text-align: left;\n",
              "}\n",
              "#T_5bb12_row0_col0, #T_5bb12_row0_col1, #T_5bb12_row1_col0, #T_5bb12_row1_col1, #T_5bb12_row2_col0, #T_5bb12_row2_col1, #T_5bb12_row3_col0, #T_5bb12_row3_col1, #T_5bb12_row4_col0, #T_5bb12_row4_col1, #T_5bb12_row5_col0, #T_5bb12_row5_col1 {\n",
              "  text-align: left;\n",
              "}\n",
              "</style>\n",
              "<table id=\"T_5bb12\">\n",
              "  <thead>\n",
              "    <tr>\n",
              "      <th class=\"blank level0\" >&nbsp;</th>\n",
              "      <th id=\"T_5bb12_level0_col0\" class=\"col_heading level0 col0\" >passage</th>\n",
              "      <th id=\"T_5bb12_level0_col1\" class=\"col_heading level0 col1\" >question</th>\n",
              "    </tr>\n",
              "    <tr>\n",
              "      <th class=\"index_name level0\" >L:info</th>\n",
              "      <th class=\"blank col0\" >&nbsp;</th>\n",
              "      <th class=\"blank col1\" >&nbsp;</th>\n",
              "    </tr>\n",
              "  </thead>\n",
              "  <tbody>\n",
              "    <tr>\n",
              "      <th id=\"T_5bb12_level0_row0\" class=\"row_heading level0 row0\" >L0: исходные данные</th>\n",
              "      <td id=\"T_5bb12_row0_col0\" class=\"data row0 col0\" >«Вы́ставочный центр» — станция Московского монорельса. Расположена между станциями «Улица Академика Королёва» и «Улица Сергея Эйзенштейна». Находится на территории Останкинского района Северо-Восточного административного округа города Москвы. Переход на станцию  ВДНХ Калужско-Рижской линии. Названа в честь Всероссийского выставочного центра — названия ВДНХ с 1992 по 2014 год. 20 ноября 2004 года линия монорельса начала работать в «экскурсионном режиме» и перевезла первых пассажиров .</td>\n",
              "      <td id=\"T_5bb12_row0_col1\" class=\"data row0 col1\" >Вднх - это выставочный центр?</td>\n",
              "    </tr>\n",
              "    <tr>\n",
              "      <th id=\"T_5bb12_level0_row1\" class=\"row_heading level0 row1\" >L1: юникод символы удалены</th>\n",
              "      <td id=\"T_5bb12_row1_col0\" class=\"data row1 col0\" >«Выставочныи центр» — станция Московского монорельса. Расположена между станциями «Улица Академика Королева» и «Улица Сергея Эизенштеина». Находится на территории Останкинского раиона Северо-Восточного административного округа города Москвы. Переход на станцию ВДНХ Калужско-Рижскои линии. Названа в честь Всероссииского выставочного центра — названия ВДНХ с 1992 по 2014 год. 20 ноября 2004 года линия монорельса начала работать в «экскурсионном режиме» и перевезла первых пассажиров .</td>\n",
              "      <td id=\"T_5bb12_row1_col1\" class=\"data row1 col1\" >Вднх - это выставочныи центр?</td>\n",
              "    </tr>\n",
              "    <tr>\n",
              "      <th id=\"T_5bb12_level0_row2\" class=\"row_heading level0 row2\" >L2: переведено в нижний регистр</th>\n",
              "      <td id=\"T_5bb12_row2_col0\" class=\"data row2 col0\" >«выставочныи центр» — станция московского монорельса. расположена между станциями «улица академика королева» и «улица сергея эизенштеина». находится на территории останкинского раиона северо-восточного административного округа города москвы. переход на станцию вднх калужско-рижскои линии. названа в честь всероссииского выставочного центра — названия вднх с 1992 по 2014 год. 20 ноября 2004 года линия монорельса начала работать в «экскурсионном режиме» и перевезла первых пассажиров .</td>\n",
              "      <td id=\"T_5bb12_row2_col1\" class=\"data row2 col1\" >вднх - это выставочныи центр?</td>\n",
              "    </tr>\n",
              "    <tr>\n",
              "      <th id=\"T_5bb12_level0_row3\" class=\"row_heading level0 row3\" >L3: удалены знаки препинания</th>\n",
              "      <td id=\"T_5bb12_row3_col0\" class=\"data row3 col0\" >выставочныи центр станция московского монорельса расположена между станциями улица академика королева и улица сергея эизенштеина находится на территории останкинского раиона северо восточного административного округа города москвы переход на станцию вднх калужско рижскои линии названа в честь всероссииского выставочного центра названия вднх с 1992 по 2014 год 20 ноября 2004 года линия монорельса начала работать в экскурсионном режиме и перевезла первых пассажиров</td>\n",
              "      <td id=\"T_5bb12_row3_col1\" class=\"data row3 col1\" >вднх это выставочныи центр</td>\n",
              "    </tr>\n",
              "    <tr>\n",
              "      <th id=\"T_5bb12_level0_row4\" class=\"row_heading level0 row4\" >L4: удалены стоп слова</th>\n",
              "      <td id=\"T_5bb12_row4_col0\" class=\"data row4 col0\" >выставочныи центр станция московского монорельса расположена станциями улица академика королева улица сергея эизенштеина находится территории останкинского раиона северо восточного административного округа города москвы переход станцию вднх калужско рижскои линии названа честь всероссииского выставочного центра названия вднх 1992 2014 год 20 ноября 2004 года линия монорельса начала работать экскурсионном режиме перевезла первых пассажиров</td>\n",
              "      <td id=\"T_5bb12_row4_col1\" class=\"data row4 col1\" >вднх это выставочныи центр</td>\n",
              "    </tr>\n",
              "    <tr>\n",
              "      <th id=\"T_5bb12_level0_row5\" class=\"row_heading level0 row5\" >L5: леммитизация</th>\n",
              "      <td id=\"T_5bb12_row5_col0\" class=\"data row5 col0\" >выставочны центр станц московск монорельс располож станц улиц академик королев улиц серге эизенштеин наход территор останкинск раион север восточн административн округ город москв переход станц вднх калужск рижско лин назва чест всероссииск выставочн центр назван вднх 1992 2014 год 20 ноябр 2004 год лин монорельс нача работа экскурсион режим перевезл перв пассажир</td>\n",
              "      <td id=\"T_5bb12_row5_col1\" class=\"data row5 col1\" >вднх эт выставочны центр</td>\n",
              "    </tr>\n",
              "  </tbody>\n",
              "</table>\n"
            ],
            "text/plain": [
              "<pandas.io.formats.style.Styler at 0x7fd085c4efa0>"
            ]
          },
          "metadata": {},
          "output_type": "display_data"
        }
      ],
      "source": [
        "df_stat = pd.DataFrame([  [\"L0: исходные данные\", df_trainL0['passage'][0], df_trainL0['question'][0]],\n",
        "                [\"L1: юникод символы удалены\", df_trainL1['passage'][0], df_trainL1['question'][0]],\n",
        "                [\"L2: переведено в нижний регистр\", df_trainL2['passage'][0], df_trainL2['question'][0]],\n",
        "                [\"L3: удалены знаки препинания\", df_trainL3['passage'][0], df_trainL3['question'][0]],\n",
        "                [\"L4: удалены стоп слова\", df_trainL4['passage'][0], df_trainL4['question'][0]],\n",
        "                [\"L5: леммитизация\", df_trainL5['passage'][0], df_trainL5['question'][0]]\n",
        "            ],\n",
        "            columns=['L:info', 'passage', 'question']\n",
        "        ).set_index('L:info')\n",
        "left_aligned_df = df_stat.style.set_properties(**{'text-align': 'left'})\n",
        "left_aligned_df = left_aligned_df.set_table_styles(\n",
        "[dict(selector = 'th', props=[('text-align', 'left')])])\n",
        "display(left_aligned_df)"
      ]
    },
    {
      "cell_type": "markdown",
      "metadata": {},
      "source": [
        "## word2vec"
      ]
    },
    {
      "cell_type": "code",
      "execution_count": 86,
      "metadata": {},
      "outputs": [
        {
          "name": "stdout",
          "output_type": "stream",
          "text": [
            "--2022-11-01 17:46:51--  http://vectors.nlpl.eu/repository/20/180.zip\n",
            "Распознаётся vectors.nlpl.eu (vectors.nlpl.eu)… 129.240.189.181\n",
            "Подключение к vectors.nlpl.eu (vectors.nlpl.eu)|129.240.189.181|:80... соединение установлено.\n",
            "HTTP-запрос отправлен. Ожидание ответа… 200 OK\n",
            "Длина: 484452317 (462M) [application/zip]\n",
            "Сохранение в: ‘180.zip’\n",
            "\n",
            "180.zip             100%[===================>] 462,01M  4,80MB/s    за 91s     \n",
            "\n",
            "2022-11-01 17:48:23 (5,06 MB/s) - ‘180.zip’ сохранён [484452317/484452317]\n",
            "\n"
          ]
        }
      ],
      "source": [
        "!wget 'http://vectors.nlpl.eu/repository/20/180.zip'\n",
        "!unzip 180.zip -d word2vec/\n",
        "!rm 180.zip\n"
      ]
    },
    {
      "cell_type": "code",
      "execution_count": 93,
      "metadata": {},
      "outputs": [],
      "source": [
        "import gensim"
      ]
    },
    {
      "cell_type": "code",
      "execution_count": 97,
      "metadata": {},
      "outputs": [],
      "source": [
        "model = gensim.models.KeyedVectors.load_word2vec_format(\"word2vec/model.bin\", binary=True)"
      ]
    },
    {
      "cell_type": "code",
      "execution_count": 100,
      "metadata": {},
      "outputs": [
        {
          "data": {
            "text/plain": [
              "0.22025341"
            ]
          },
          "execution_count": 100,
          "metadata": {},
          "output_type": "execute_result"
        }
      ],
      "source": [
        "model.similarity('человек_NOUN', 'обезьяна_NOUN')"
      ]
    },
    {
      "cell_type": "markdown",
      "metadata": {},
      "source": [
        "## t-SNE"
      ]
    },
    {
      "cell_type": "code",
      "execution_count": 29,
      "metadata": {},
      "outputs": [],
      "source": [
        "import pandas as pd\n",
        "pd.options.mode.chained_assignment = None \n",
        "import numpy as np\n",
        "import re\n",
        "import nltk\n",
        "\n",
        "\n",
        "from sklearn.manifold import TSNE\n",
        "import matplotlib.pyplot as plt\n",
        "\n",
        "STOP_WORDS = nltk.corpus.stopwords.words('russian')"
      ]
    },
    {
      "cell_type": "code",
      "execution_count": 43,
      "metadata": {},
      "outputs": [],
      "source": [
        "train = df_trainL0"
      ]
    },
    {
      "cell_type": "code",
      "execution_count": 33,
      "metadata": {},
      "outputs": [],
      "source": [
        "def clean(text):\n",
        "    regex = re.compile('([^\\s\\w]|_)+')\n",
        "    sentence = regex.sub('', text).lower()\n",
        "    sentence = sentence.split(\" \")\n",
        "    \n",
        "    for word in list(sentence):\n",
        "        if word in STOP_WORDS:\n",
        "            sentence.remove(word)  \n",
        "            \n",
        "    sentence = \" \".join(sentence)\n",
        "    return sentence"
      ]
    },
    {
      "cell_type": "code",
      "execution_count": 44,
      "metadata": {},
      "outputs": [],
      "source": [
        "train = train.dropna(axis=0)\n",
        "train=train.reset_index()\n",
        "for i in range (train.shape[0]):\n",
        "    train.loc[i,'passage'] = clean(train.loc[i,'passage'])"
      ]
    },
    {
      "cell_type": "code",
      "execution_count": 45,
      "metadata": {},
      "outputs": [
        {
          "data": {
            "text/html": [
              "<div>\n",
              "<style scoped>\n",
              "    .dataframe tbody tr th:only-of-type {\n",
              "        vertical-align: middle;\n",
              "    }\n",
              "\n",
              "    .dataframe tbody tr th {\n",
              "        vertical-align: top;\n",
              "    }\n",
              "\n",
              "    .dataframe thead th {\n",
              "        text-align: right;\n",
              "    }\n",
              "</style>\n",
              "<table border=\"1\" class=\"dataframe\">\n",
              "  <thead>\n",
              "    <tr style=\"text-align: right;\">\n",
              "      <th></th>\n",
              "      <th>index</th>\n",
              "      <th>question</th>\n",
              "      <th>passage</th>\n",
              "      <th>label</th>\n",
              "      <th>idx</th>\n",
              "    </tr>\n",
              "  </thead>\n",
              "  <tbody>\n",
              "    <tr>\n",
              "      <th>0</th>\n",
              "      <td>0</td>\n",
              "      <td>Вднх - это выставочный центр?</td>\n",
              "      <td>выставочный центр  станция московского монорельса расположена станциями улица академика королёва улица сергея эйзенштейна находится территории останкинского района северовосточного административного округа города москвы переход станцию  вднх калужскорижской линии названа честь всероссийского выставочного центра  названия вднх 1992 2014 год 20 ноября 2004 года линия монорельса начала работать экскурсионном режиме перевезла первых пассажиров</td>\n",
              "      <td>True</td>\n",
              "      <td>0</td>\n",
              "    </tr>\n",
              "    <tr>\n",
              "      <th>1</th>\n",
              "      <td>1</td>\n",
              "      <td>Вднх - это выставочный центр?</td>\n",
              "      <td>выставка достижений народного хозяйства   19591991 годах  выставка достижений народного хозяйства ссср  19922014 годах  всероссийский выставочный центр   выставочный комплекс останкинском районе северовосточного административного округа города москвы второй величине выставочный комплекс городе входит 50 крупнейших выставочных центров мира ежегодно вднх посещают 30 млн гостей 1 августа 2019 года выставка отпраздновала 80летний юбилей территориально вднх объединена парком останкино главным ботаническим садом  общая площадь составляет 700 га 2402 га  площадь вднх 756 га  площадь парка останкино 361 га  площадь гбс 95 га музейновыставочный центр рабочий колхозница площадь аркой главного входа территории выставки расположено множество шедевров архитектуры  49 объектов вднх признаны памятниками культурного наследия</td>\n",
              "      <td>True</td>\n",
              "      <td>1</td>\n",
              "    </tr>\n",
              "    <tr>\n",
              "      <th>2</th>\n",
              "      <td>2</td>\n",
              "      <td>Был ли джиган в black star?</td>\n",
              "      <td>вместе этим треком выступили церемонии вручения наград mtv rma  это первый выход джигана большую сцену 2007 году джиган стал официальным артистом лейбла black star inc выпустил первый песню клип одноклассница  совместная работа тимати марте 2011 года появилась совместная юлей савичевой композиция отпусти песня поднялась радиочарте tophit 8 места заняла первое место чарта weekly audience choice top hit  количество просмотров клипа youtube превысило 17 миллионов</td>\n",
              "      <td>True</td>\n",
              "      <td>2</td>\n",
              "    </tr>\n",
              "    <tr>\n",
              "      <th>3</th>\n",
              "      <td>3</td>\n",
              "      <td>Xiaomi конкурент apple?</td>\n",
              "      <td>xiaomi  китайская компания основанная 2010 году занимающаяся выпуском электроники бытовой техники также разработкой программного обеспечения основной продукцией компании являются смартфоны первый которых выпущен 2011 году настоящее время xiaomi производит широкий ассортимент смартфонов разных ценовых сегментах является одним крупнейших производителей смартфонов мире третьем квартале 2014 года эта компания заняла наивысшее третье место мире поставкам смартфонов набрав 52  штучном выражении уступив лишь samsung apple  весь 2017 год компания заняла продажам первое место китае второе место индии данном списке приводятся смартфоны когдалибо выпущенные компанией xiaomi</td>\n",
              "      <td>True</td>\n",
              "      <td>3</td>\n",
              "    </tr>\n",
              "    <tr>\n",
              "      <th>4</th>\n",
              "      <td>4</td>\n",
              "      <td>Был ли автомат калашникова в вов?</td>\n",
              "      <td>отметив некоторые недостатки целом удачную конструкцию специалисты гау рекомендовали принимать пп калашникова вооружение технологическим причинам заключение гласило 1942 года калашников работал центральном научноисследовательском полигоне стрелкового миномётного вооружения гау ркка 1944 году создал опытный образец самозарядного карабина который хотя вышел серийное производство частично послужил прототипом создания автомата 1945 года михаил калашников начал разработку автоматического оружия промежуточный патрон 76239 образца 1943 года автомат калашникова победил конкурсе 1947 года принят вооружение</td>\n",
              "      <td>False</td>\n",
              "      <td>4</td>\n",
              "    </tr>\n",
              "    <tr>\n",
              "      <th>...</th>\n",
              "      <td>...</td>\n",
              "      <td>...</td>\n",
              "      <td>...</td>\n",
              "      <td>...</td>\n",
              "      <td>...</td>\n",
              "    </tr>\n",
              "    <tr>\n",
              "      <th>1744</th>\n",
              "      <td>1744</td>\n",
              "      <td>Разрешен ли такой вид ловли акул в настоящее время?</td>\n",
              "      <td>человека потенциально полезны медицине применяются качестве пищи исторически вылов акул производился относительно небольших масштабах составлял проблем восстановления численности однако возросший 80х годов xx века промысел поставил угрозу многие виды46 одна причин роста популярности акул качестве объекта промысла  это плавники суп акульих плавников считается деликатесом плавник стоимости выше акульего мяса это привело негуманному способу охоты плавниками которые добывают срезая живой рыбы саму акулу выбрасывая обратно море настоящее время некоторых странах вид ловли запрещён</td>\n",
              "      <td>True</td>\n",
              "      <td>1745</td>\n",
              "    </tr>\n",
              "    <tr>\n",
              "      <th>1745</th>\n",
              "      <td>1745</td>\n",
              "      <td>Закреплено ли Гражданство в Конституции</td>\n",
              "      <td>гражданство является одним институтов конституционного права обычно находит своё закрепление конституции основном законе конституционном акте государства иных нормативноправовых актах проявляется взаимоотношение государством лицами находящимися властью государство признает гарантирует права свободы человека защищает покровительствует границей очередь гражданин безусловно соблюдает законы предписания государства выполняет установленные обязанности совокупность этих прав обязанностей составляет политикоправовой статус гражданина отличающий иностранных граждан лиц гражданства</td>\n",
              "      <td>True</td>\n",
              "      <td>1746</td>\n",
              "    </tr>\n",
              "    <tr>\n",
              "      <th>1746</th>\n",
              "      <td>1746</td>\n",
              "      <td>Существуют ли примеры, когда не совсем достаточные причины вместе могут осуществлять действительно эффективные действия?</td>\n",
              "      <td>философии эффективностью понимается способность действующей причины произвести определённый эффект поскольку относительно является способностью существует единого мнения поэтому возможны различные спорные случаи касающиеся именно существует именно проявляет истинную причинность проблема часто предлагаются несоответствующие причины которые просто кажутся таковыми кроме приводятся примеры достаточные причины вместе могут осуществлять действительно эффективные действия две лошади тянут собой повозку преодолевая сопротивление сил тяготения трения каждая является недостаточной причиной каждая производит эффективное действие преодолевающее силы сопротивления</td>\n",
              "      <td>True</td>\n",
              "      <td>1747</td>\n",
              "    </tr>\n",
              "    <tr>\n",
              "      <th>1747</th>\n",
              "      <td>1747</td>\n",
              "      <td>Решен ли вопрос о подлинности Диалога Тацита?</td>\n",
              "      <td>xix веке диалог считали первым произведением тацита относили создание примерно 77 году вскоре описанного разговора позднее точки зрения придерживались частности соболевский ковалёв однако настоящее время выход свет произведения относится ко времени убийства домициана ряд учёных относят написание произведения примерно 102 году ещё позднему времени г кнабе отстаивает идею появлении диалога время работы историей около 105107 годов окончательная датировка остаётся неясной конца решён вопрос подлинности сочинения см ниже современные исследователи правило соглашаются авторством тацита рассматривают заложенные диалоге идеи рассуждения историка причинах своего перехода ораторской карьеры написанию истории выборе стиля своих сочинений</td>\n",
              "      <td>False</td>\n",
              "      <td>1748</td>\n",
              "    </tr>\n",
              "    <tr>\n",
              "      <th>1748</th>\n",
              "      <td>1748</td>\n",
              "      <td>Существует ли Новый завет на нижнелужицком языке?</td>\n",
              "      <td>древнейший памятник серболужицкой письменности  текст латинского псалма магдебургской рукописи magdeburgske glosy xii века подстрочным переводом старолужицкий немецкий языки история серболужицкой литературы берёт начало времён реформации  xvi века самым ранним памятником деловой письменности является будишинская присяга 1532 года первые книги написаны напечатаны протестантами нижнелужицких диалектах 1548 году м якубица перевёл новый завет 1574 году моллер издал малый катехизис  1595 году свет вышла первая печатная книга верхнелужицком языке  малый катехизис лютера переведённый варихией значительную роль становлении серболужицкой литературы сыграл род френцелей которого 1660х середины xviii века вышло несколько представителей серболужицкой научной творческой интеллигенции числе м френцель издавший 1706 году новый завет верхнелужицком языке энциклопедист френцель поэт м френцель хронист б френцель60</td>\n",
              "      <td>True</td>\n",
              "      <td>1749</td>\n",
              "    </tr>\n",
              "  </tbody>\n",
              "</table>\n",
              "<p>1749 rows × 5 columns</p>\n",
              "</div>"
            ],
            "text/plain": [
              "      index  \\\n",
              "0     0       \n",
              "1     1       \n",
              "2     2       \n",
              "3     3       \n",
              "4     4       \n",
              "...  ..       \n",
              "1744  1744    \n",
              "1745  1745    \n",
              "1746  1746    \n",
              "1747  1747    \n",
              "1748  1748    \n",
              "\n",
              "                                                                                                                      question  \\\n",
              "0     Вднх - это выставочный центр?                                                                                              \n",
              "1     Вднх - это выставочный центр?                                                                                              \n",
              "2     Был ли джиган в black star?                                                                                                \n",
              "3     Xiaomi конкурент apple?                                                                                                    \n",
              "4     Был ли автомат калашникова в вов?                                                                                          \n",
              "...                                 ...                                                                                          \n",
              "1744  Разрешен ли такой вид ловли акул в настоящее время?                                                                        \n",
              "1745  Закреплено ли Гражданство в Конституции                                                                                    \n",
              "1746  Существуют ли примеры, когда не совсем достаточные причины вместе могут осуществлять действительно эффективные действия?   \n",
              "1747  Решен ли вопрос о подлинности Диалога Тацита?                                                                              \n",
              "1748  Существует ли Новый завет на нижнелужицком языке?                                                                          \n",
              "\n",
              "                                                                                                                                                                                                                                                                                                                                                                                                                                                                                                                                                                                                                                                                                                                                                                                                                                                                                                                                             passage  \\\n",
              "0     выставочный центр  станция московского монорельса расположена станциями улица академика королёва улица сергея эйзенштейна находится территории останкинского района северовосточного административного округа города москвы переход станцию  вднх калужскорижской линии названа честь всероссийского выставочного центра  названия вднх 1992 2014 год 20 ноября 2004 года линия монорельса начала работать экскурсионном режиме перевезла первых пассажиров                                                                                                                                                                                                                                                                                                                                                                                                                                                                                      \n",
              "1     выставка достижений народного хозяйства   19591991 годах  выставка достижений народного хозяйства ссср  19922014 годах  всероссийский выставочный центр   выставочный комплекс останкинском районе северовосточного административного округа города москвы второй величине выставочный комплекс городе входит 50 крупнейших выставочных центров мира ежегодно вднх посещают 30 млн гостей 1 августа 2019 года выставка отпраздновала 80летний юбилей территориально вднх объединена парком останкино главным ботаническим садом  общая площадь составляет 700 га 2402 га  площадь вднх 756 га  площадь парка останкино 361 га  площадь гбс 95 га музейновыставочный центр рабочий колхозница площадь аркой главного входа территории выставки расположено множество шедевров архитектуры  49 объектов вднх признаны памятниками культурного наследия                                                                                             \n",
              "2     вместе этим треком выступили церемонии вручения наград mtv rma  это первый выход джигана большую сцену 2007 году джиган стал официальным артистом лейбла black star inc выпустил первый песню клип одноклассница  совместная работа тимати марте 2011 года появилась совместная юлей савичевой композиция отпусти песня поднялась радиочарте tophit 8 места заняла первое место чарта weekly audience choice top hit  количество просмотров клипа youtube превысило 17 миллионов                                                                                                                                                                                                                                                                                                                                                                                                                                                                 \n",
              "3     xiaomi  китайская компания основанная 2010 году занимающаяся выпуском электроники бытовой техники также разработкой программного обеспечения основной продукцией компании являются смартфоны первый которых выпущен 2011 году настоящее время xiaomi производит широкий ассортимент смартфонов разных ценовых сегментах является одним крупнейших производителей смартфонов мире третьем квартале 2014 года эта компания заняла наивысшее третье место мире поставкам смартфонов набрав 52  штучном выражении уступив лишь samsung apple  весь 2017 год компания заняла продажам первое место китае второе место индии данном списке приводятся смартфоны когдалибо выпущенные компанией xiaomi                                                                                                                                                                                                                                                  \n",
              "4     отметив некоторые недостатки целом удачную конструкцию специалисты гау рекомендовали принимать пп калашникова вооружение технологическим причинам заключение гласило 1942 года калашников работал центральном научноисследовательском полигоне стрелкового миномётного вооружения гау ркка 1944 году создал опытный образец самозарядного карабина который хотя вышел серийное производство частично послужил прототипом создания автомата 1945 года михаил калашников начал разработку автоматического оружия промежуточный патрон 76239 образца 1943 года автомат калашникова победил конкурсе 1947 года принят вооружение                                                                                                                                                                                                                                                                                                                     \n",
              "...                                                                                                                                                                                                                                                                                                                                                                                                                                                                                                                                                                                                                            ...                                                                                                                                                                                                                                                                                                                     \n",
              "1744  человека потенциально полезны медицине применяются качестве пищи исторически вылов акул производился относительно небольших масштабах составлял проблем восстановления численности однако возросший 80х годов xx века промысел поставил угрозу многие виды46 одна причин роста популярности акул качестве объекта промысла  это плавники суп акульих плавников считается деликатесом плавник стоимости выше акульего мяса это привело негуманному способу охоты плавниками которые добывают срезая живой рыбы саму акулу выбрасывая обратно море настоящее время некоторых странах вид ловли запрещён                                                                                                                                                                                                                                                                                                                                            \n",
              "1745  гражданство является одним институтов конституционного права обычно находит своё закрепление конституции основном законе конституционном акте государства иных нормативноправовых актах проявляется взаимоотношение государством лицами находящимися властью государство признает гарантирует права свободы человека защищает покровительствует границей очередь гражданин безусловно соблюдает законы предписания государства выполняет установленные обязанности совокупность этих прав обязанностей составляет политикоправовой статус гражданина отличающий иностранных граждан лиц гражданства                                                                                                                                                                                                                                                                                                                                              \n",
              "1746  философии эффективностью понимается способность действующей причины произвести определённый эффект поскольку относительно является способностью существует единого мнения поэтому возможны различные спорные случаи касающиеся именно существует именно проявляет истинную причинность проблема часто предлагаются несоответствующие причины которые просто кажутся таковыми кроме приводятся примеры достаточные причины вместе могут осуществлять действительно эффективные действия две лошади тянут собой повозку преодолевая сопротивление сил тяготения трения каждая является недостаточной причиной каждая производит эффективное действие преодолевающее силы сопротивления                                                                                                                                                                                                                                                             \n",
              "1747  xix веке диалог считали первым произведением тацита относили создание примерно 77 году вскоре описанного разговора позднее точки зрения придерживались частности соболевский ковалёв однако настоящее время выход свет произведения относится ко времени убийства домициана ряд учёных относят написание произведения примерно 102 году ещё позднему времени г кнабе отстаивает идею появлении диалога время работы историей около 105107 годов окончательная датировка остаётся неясной конца решён вопрос подлинности сочинения см ниже современные исследователи правило соглашаются авторством тацита рассматривают заложенные диалоге идеи рассуждения историка причинах своего перехода ораторской карьеры написанию истории выборе стиля своих сочинений                                                                                                                                                                                  \n",
              "1748  древнейший памятник серболужицкой письменности  текст латинского псалма магдебургской рукописи magdeburgske glosy xii века подстрочным переводом старолужицкий немецкий языки история серболужицкой литературы берёт начало времён реформации  xvi века самым ранним памятником деловой письменности является будишинская присяга 1532 года первые книги написаны напечатаны протестантами нижнелужицких диалектах 1548 году м якубица перевёл новый завет 1574 году моллер издал малый катехизис  1595 году свет вышла первая печатная книга верхнелужицком языке  малый катехизис лютера переведённый варихией значительную роль становлении серболужицкой литературы сыграл род френцелей которого 1660х середины xviii века вышло несколько представителей серболужицкой научной творческой интеллигенции числе м френцель издавший 1706 году новый завет верхнелужицком языке энциклопедист френцель поэт м френцель хронист б френцель60   \n",
              "\n",
              "      label   idx  \n",
              "0     True   0     \n",
              "1     True   1     \n",
              "2     True   2     \n",
              "3     True   3     \n",
              "4     False  4     \n",
              "...     ... ..     \n",
              "1744  True   1745  \n",
              "1745  True   1746  \n",
              "1746  True   1747  \n",
              "1747  False  1748  \n",
              "1748  True   1749  \n",
              "\n",
              "[1749 rows x 5 columns]"
            ]
          },
          "execution_count": 45,
          "metadata": {},
          "output_type": "execute_result"
        }
      ],
      "source": [
        "train"
      ]
    },
    {
      "cell_type": "code",
      "execution_count": 47,
      "metadata": {},
      "outputs": [],
      "source": [
        "corpus=[]\n",
        "\n",
        "for i in range(train.shape[0]):\n",
        "    corpus.append(train['passage'][i].split(\" \"))"
      ]
    },
    {
      "cell_type": "code",
      "execution_count": 57,
      "metadata": {},
      "outputs": [
        {
          "name": "stdout",
          "output_type": "stream",
          "text": [
            "[['выставочный', 'центр', '', 'станция', 'московского', 'монорельса', 'расположена', 'станциями', 'улица', 'академика', 'королёва', 'улица', 'сергея', 'эйзенштейна', 'находится', 'территории', 'останкинского', 'района', 'северовосточного', 'административного', 'округа', 'города', 'москвы', 'переход', 'станцию', '', 'вднх', 'калужскорижской', 'линии', 'названа', 'честь', 'всероссийского', 'выставочного', 'центра', '', 'названия', 'вднх', '1992', '2014', 'год', '20', 'ноября', '2004', 'года', 'линия', 'монорельса', 'начала', 'работать', 'экскурсионном', 'режиме', 'перевезла', 'первых', 'пассажиров', ''], ['выставка', 'достижений', 'народного', 'хозяйства', '', '', '19591991', 'годах', '', 'выставка', 'достижений', 'народного', 'хозяйства', 'ссср', '', '19922014', 'годах', '', 'всероссийский', 'выставочный', 'центр', '', '', 'выставочный', 'комплекс', 'останкинском', 'районе', 'северовосточного', 'административного', 'округа', 'города', 'москвы', 'второй', 'величине', 'выставочный', 'комплекс', 'городе', 'входит', '50', 'крупнейших', 'выставочных', 'центров', 'мира', 'ежегодно', 'вднх', 'посещают', '30', 'млн', 'гостей', '1', 'августа', '2019', 'года', 'выставка', 'отпраздновала', '80летний', 'юбилей', 'территориально', 'вднх', 'объединена', 'парком', 'останкино', 'главным', 'ботаническим', 'садом', '', 'общая', 'площадь', 'составляет', '700', 'га', '2402', 'га', '', 'площадь', 'вднх', '756', 'га', '', 'площадь', 'парка', 'останкино', '361', 'га', '', 'площадь', 'гбс', '95', 'га', 'музейновыставочный', 'центр', 'рабочий', 'колхозница', 'площадь', 'аркой', 'главного', 'входа', 'территории', 'выставки', 'расположено', 'множество', 'шедевров', 'архитектуры', '', '49', 'объектов', 'вднх', 'признаны', 'памятниками', 'культурного', 'наследия'], ['вместе', 'этим', 'треком', 'выступили', 'церемонии', 'вручения', 'наград', 'mtv', 'rma', '', 'это', 'первый', 'выход', 'джигана', 'большую', 'сцену', '2007', 'году', 'джиган', 'стал', 'официальным', 'артистом', 'лейбла', 'black', 'star', 'inc', 'выпустил', 'первый', 'песню', 'клип', 'одноклассница', '', 'совместная', 'работа', 'тимати', 'марте', '2011', 'года', 'появилась', 'совместная', 'юлей', 'савичевой', 'композиция', 'отпусти', 'песня', 'поднялась', 'радиочарте', 'tophit', '8', 'места', 'заняла', 'первое', 'место', 'чарта', 'weekly', 'audience', 'choice', 'top', 'hit', '', 'количество', 'просмотров', 'клипа', 'youtube', 'превысило', '17', 'миллионов']]\n"
          ]
        }
      ],
      "source": [
        "print(corpus[:3])"
      ]
    },
    {
      "cell_type": "code",
      "execution_count": 51,
      "metadata": {},
      "outputs": [],
      "source": [
        "model = word2vec.Word2Vec(corpus, vector_size=100, window=10, min_count=35, workers=4)"
      ]
    },
    {
      "cell_type": "code",
      "execution_count": 59,
      "metadata": {},
      "outputs": [
        {
          "data": {
            "text/plain": [
              "array([-1.53868660e-01,  1.57774463e-01,  1.03341207e-01,  4.01688404e-02,\n",
              "       -7.44241662e-03, -3.18830401e-01,  2.67986506e-01,  4.77618128e-01,\n",
              "       -1.41397625e-01, -3.70918922e-02, -5.40886000e-02, -1.99346721e-01,\n",
              "       -3.24874789e-01, -1.22945063e-01, -1.23967529e-05, -9.05481502e-02,\n",
              "       -5.49500138e-02, -3.13538879e-01, -2.98258543e-01, -4.50315535e-01,\n",
              "       -1.83615610e-01,  2.02266887e-01,  1.64178714e-01, -3.05125326e-01,\n",
              "       -4.30744700e-02,  1.92991465e-01, -3.17953140e-01, -1.33259222e-01,\n",
              "       -3.42205614e-01,  1.34734333e-01,  2.26640791e-01,  1.08186461e-01,\n",
              "        6.72118664e-02,  4.96522561e-02, -2.75753528e-01,  1.64244711e-01,\n",
              "        2.80442368e-02, -1.11614920e-01, -5.53266183e-02, -2.50273734e-01,\n",
              "        1.37897983e-01, -3.83909792e-01, -3.37718166e-02,  1.04985140e-01,\n",
              "        2.77441114e-01, -8.80257320e-03, -4.38166223e-03, -9.37506557e-02,\n",
              "        3.89052965e-02,  8.53015631e-02,  1.22695968e-01, -2.09472433e-01,\n",
              "        1.63204134e-01,  9.05123800e-02, -3.89579654e-01,  1.23945326e-01,\n",
              "        2.56842583e-01,  1.60496891e-01, -3.34578604e-01,  8.11236650e-02,\n",
              "       -7.91041926e-02,  1.05426662e-01, -9.70633999e-02, -2.85225064e-01,\n",
              "       -1.79345906e-01,  2.95811500e-02,  2.29515955e-01,  3.08802009e-01,\n",
              "       -4.04626518e-01,  2.40319997e-01, -2.43418232e-01,  2.29286134e-01,\n",
              "        4.02562886e-01, -7.37758502e-02,  5.99569753e-02,  2.07721278e-01,\n",
              "       -1.34228975e-01, -9.51965246e-03, -1.40397921e-01, -1.37921451e-02,\n",
              "        1.17354862e-01,  4.43775915e-02, -2.18187228e-01,  2.37196147e-01,\n",
              "        7.13324221e-03,  1.25210971e-01,  9.22725052e-02,  2.41562694e-01,\n",
              "        1.29198596e-01, -6.41201064e-02,  1.84172437e-01,  2.94408232e-01,\n",
              "       -1.19880229e-01, -3.18714082e-02,  3.93075287e-01,  3.32550466e-01,\n",
              "        2.90217400e-01, -1.51323318e-01, -3.44121456e-02, -6.58073202e-02],\n",
              "      dtype=float32)"
            ]
          },
          "execution_count": 59,
          "metadata": {},
          "output_type": "execute_result"
        }
      ],
      "source": [
        "model.wv['1']"
      ]
    },
    {
      "cell_type": "code",
      "execution_count": 64,
      "metadata": {},
      "outputs": [
        {
          "ename": "AttributeError",
          "evalue": "The vocab attribute was removed from KeyedVector in Gensim 4.0.0.\nUse KeyedVector's .key_to_index dict, .index_to_key list, and methods .get_vecattr(key, attr) and .set_vecattr(key, attr, new_val) instead.\nSee https://github.com/RaRe-Technologies/gensim/wiki/Migrating-from-Gensim-3.x-to-4",
          "output_type": "error",
          "traceback": [
            "\u001b[0;31m---------------------------------------------------------------------------\u001b[0m",
            "\u001b[0;31mAttributeError\u001b[0m                            Traceback (most recent call last)",
            "\u001b[1;32m/home/leysh/git_repos/DSnML_Innopolis2022/00_Final_Attestation/notebook.ipynb Cell 43\u001b[0m in \u001b[0;36m<cell line: 1>\u001b[0;34m()\u001b[0m\n\u001b[0;32m----> <a href='vscode-notebook-cell://wsl%2Bubuntu/home/leysh/git_repos/DSnML_Innopolis2022/00_Final_Attestation/notebook.ipynb#Y133sdnNjb2RlLXJlbW90ZQ%3D%3D?line=0'>1</a>\u001b[0m model\u001b[39m.\u001b[39;49mwv\u001b[39m.\u001b[39;49mvocab\n",
            "File \u001b[0;32m~/miniconda3/envs/catalyst1/lib/python3.8/site-packages/gensim/models/keyedvectors.py:735\u001b[0m, in \u001b[0;36mKeyedVectors.vocab\u001b[0;34m(self)\u001b[0m\n\u001b[1;32m    733\u001b[0m \u001b[39m@property\u001b[39m\n\u001b[1;32m    734\u001b[0m \u001b[39mdef\u001b[39;00m \u001b[39mvocab\u001b[39m(\u001b[39mself\u001b[39m):\n\u001b[0;32m--> 735\u001b[0m     \u001b[39mraise\u001b[39;00m \u001b[39mAttributeError\u001b[39;00m(\n\u001b[1;32m    736\u001b[0m         \u001b[39m\"\u001b[39m\u001b[39mThe vocab attribute was removed from KeyedVector in Gensim 4.0.0.\u001b[39m\u001b[39m\\n\u001b[39;00m\u001b[39m\"\u001b[39m\n\u001b[1;32m    737\u001b[0m         \u001b[39m\"\u001b[39m\u001b[39mUse KeyedVector\u001b[39m\u001b[39m'\u001b[39m\u001b[39ms .key_to_index dict, .index_to_key list, and methods \u001b[39m\u001b[39m\"\u001b[39m\n\u001b[1;32m    738\u001b[0m         \u001b[39m\"\u001b[39m\u001b[39m.get_vecattr(key, attr) and .set_vecattr(key, attr, new_val) instead.\u001b[39m\u001b[39m\\n\u001b[39;00m\u001b[39m\"\u001b[39m\n\u001b[1;32m    739\u001b[0m         \u001b[39m\"\u001b[39m\u001b[39mSee https://github.com/RaRe-Technologies/gensim/wiki/Migrating-from-Gensim-3.x-to-4\u001b[39m\u001b[39m\"\u001b[39m\n\u001b[1;32m    740\u001b[0m     )\n",
            "\u001b[0;31mAttributeError\u001b[0m: The vocab attribute was removed from KeyedVector in Gensim 4.0.0.\nUse KeyedVector's .key_to_index dict, .index_to_key list, and methods .get_vecattr(key, attr) and .set_vecattr(key, attr, new_val) instead.\nSee https://github.com/RaRe-Technologies/gensim/wiki/Migrating-from-Gensim-3.x-to-4"
          ]
        }
      ],
      "source": []
    },
    {
      "cell_type": "code",
      "execution_count": 70,
      "metadata": {},
      "outputs": [
        {
          "ename": "TypeError",
          "evalue": "'Word2Vec' object is not subscriptable",
          "output_type": "error",
          "traceback": [
            "\u001b[0;31m---------------------------------------------------------------------------\u001b[0m",
            "\u001b[0;31mTypeError\u001b[0m                                 Traceback (most recent call last)",
            "\u001b[1;32m/home/leysh/git_repos/DSnML_Innopolis2022/00_Final_Attestation/notebook.ipynb Cell 44\u001b[0m in \u001b[0;36m<cell line: 1>\u001b[0;34m()\u001b[0m\n\u001b[1;32m      <a href='vscode-notebook-cell://wsl%2Bubuntu/home/leysh/git_repos/DSnML_Innopolis2022/00_Final_Attestation/notebook.ipynb#Y134sdnNjb2RlLXJlbW90ZQ%3D%3D?line=0'>1</a>\u001b[0m \u001b[39mfor\u001b[39;00m i \u001b[39min\u001b[39;00m model\u001b[39m.\u001b[39mwv\u001b[39m.\u001b[39mkey_to_index:\n\u001b[0;32m----> <a href='vscode-notebook-cell://wsl%2Bubuntu/home/leysh/git_repos/DSnML_Innopolis2022/00_Final_Attestation/notebook.ipynb#Y134sdnNjb2RlLXJlbW90ZQ%3D%3D?line=1'>2</a>\u001b[0m     \u001b[39mprint\u001b[39m(model[i])\n",
            "\u001b[0;31mTypeError\u001b[0m: 'Word2Vec' object is not subscriptable"
          ]
        }
      ],
      "source": [
        "for i in model.wv.key_to_index:\n",
        "    print(model[i])"
      ]
    },
    {
      "cell_type": "code",
      "execution_count": 73,
      "metadata": {},
      "outputs": [],
      "source": [
        "def drawing(model):\n",
        "    labels = []\n",
        "    tokens = []\n",
        "\n",
        "    for word in model.wv.key_to_index:\n",
        "        tokens.append(model.wv[word])\n",
        "        labels.append(word)\n",
        "    \n",
        "    tsne_model = TSNE(perplexity=40, n_components=2, init='pca', n_iter=2500, random_state=23)\n",
        "    new_values = tsne_model.fit_transform(tokens)\n",
        "\n",
        "    x = []\n",
        "    y = []\n",
        "    for value in new_values:\n",
        "        x.append(value[0])\n",
        "        y.append(value[1])\n",
        "        \n",
        "    plt.figure(figsize=(16, 16)) \n",
        "    for i in range(len(x)):\n",
        "        plt.scatter(x[i],y[i])\n",
        "        plt.annotate(labels[i],\n",
        "                     xy=(x[i], y[i]),\n",
        "                     xytext=(5, 2),\n",
        "                     textcoords='offset points',\n",
        "                     ha='right',\n",
        "                     va='bottom')\n",
        "    plt.show()"
      ]
    },
    {
      "cell_type": "code",
      "execution_count": 74,
      "metadata": {},
      "outputs": [
        {
          "ename": "AttributeError",
          "evalue": "'list' object has no attribute 'shape'",
          "output_type": "error",
          "traceback": [
            "\u001b[0;31m---------------------------------------------------------------------------\u001b[0m",
            "\u001b[0;31mAttributeError\u001b[0m                            Traceback (most recent call last)",
            "\u001b[1;32m/home/leysh/git_repos/DSnML_Innopolis2022/00_Final_Attestation/notebook.ipynb Cell 46\u001b[0m in \u001b[0;36m<cell line: 1>\u001b[0;34m()\u001b[0m\n\u001b[0;32m----> <a href='vscode-notebook-cell://wsl%2Bubuntu/home/leysh/git_repos/DSnML_Innopolis2022/00_Final_Attestation/notebook.ipynb#Y132sdnNjb2RlLXJlbW90ZQ%3D%3D?line=0'>1</a>\u001b[0m drawing(model)\n",
            "\u001b[1;32m/home/leysh/git_repos/DSnML_Innopolis2022/00_Final_Attestation/notebook.ipynb Cell 46\u001b[0m in \u001b[0;36mdrawing\u001b[0;34m(model)\u001b[0m\n\u001b[1;32m      <a href='vscode-notebook-cell://wsl%2Bubuntu/home/leysh/git_repos/DSnML_Innopolis2022/00_Final_Attestation/notebook.ipynb#Y132sdnNjb2RlLXJlbW90ZQ%3D%3D?line=6'>7</a>\u001b[0m     labels\u001b[39m.\u001b[39mappend(word)\n\u001b[1;32m      <a href='vscode-notebook-cell://wsl%2Bubuntu/home/leysh/git_repos/DSnML_Innopolis2022/00_Final_Attestation/notebook.ipynb#Y132sdnNjb2RlLXJlbW90ZQ%3D%3D?line=8'>9</a>\u001b[0m tsne_model \u001b[39m=\u001b[39m TSNE(perplexity\u001b[39m=\u001b[39m\u001b[39m40\u001b[39m, n_components\u001b[39m=\u001b[39m\u001b[39m2\u001b[39m, init\u001b[39m=\u001b[39m\u001b[39m'\u001b[39m\u001b[39mpca\u001b[39m\u001b[39m'\u001b[39m, n_iter\u001b[39m=\u001b[39m\u001b[39m2500\u001b[39m, random_state\u001b[39m=\u001b[39m\u001b[39m23\u001b[39m)\n\u001b[0;32m---> <a href='vscode-notebook-cell://wsl%2Bubuntu/home/leysh/git_repos/DSnML_Innopolis2022/00_Final_Attestation/notebook.ipynb#Y132sdnNjb2RlLXJlbW90ZQ%3D%3D?line=9'>10</a>\u001b[0m new_values \u001b[39m=\u001b[39m tsne_model\u001b[39m.\u001b[39;49mfit_transform(tokens)\n\u001b[1;32m     <a href='vscode-notebook-cell://wsl%2Bubuntu/home/leysh/git_repos/DSnML_Innopolis2022/00_Final_Attestation/notebook.ipynb#Y132sdnNjb2RlLXJlbW90ZQ%3D%3D?line=11'>12</a>\u001b[0m x \u001b[39m=\u001b[39m []\n\u001b[1;32m     <a href='vscode-notebook-cell://wsl%2Bubuntu/home/leysh/git_repos/DSnML_Innopolis2022/00_Final_Attestation/notebook.ipynb#Y132sdnNjb2RlLXJlbW90ZQ%3D%3D?line=12'>13</a>\u001b[0m y \u001b[39m=\u001b[39m []\n",
            "File \u001b[0;32m~/miniconda3/envs/catalyst1/lib/python3.8/site-packages/sklearn/manifold/_t_sne.py:1122\u001b[0m, in \u001b[0;36mTSNE.fit_transform\u001b[0;34m(self, X, y)\u001b[0m\n\u001b[1;32m   1102\u001b[0m \u001b[39mdef\u001b[39;00m \u001b[39mfit_transform\u001b[39m(\u001b[39mself\u001b[39m, X, y\u001b[39m=\u001b[39m\u001b[39mNone\u001b[39;00m):\n\u001b[1;32m   1103\u001b[0m     \u001b[39m\"\"\"Fit X into an embedded space and return that transformed output.\u001b[39;00m\n\u001b[1;32m   1104\u001b[0m \n\u001b[1;32m   1105\u001b[0m \u001b[39m    Parameters\u001b[39;00m\n\u001b[0;32m   (...)\u001b[0m\n\u001b[1;32m   1120\u001b[0m \u001b[39m        Embedding of the training data in low-dimensional space.\u001b[39;00m\n\u001b[1;32m   1121\u001b[0m \u001b[39m    \"\"\"\u001b[39;00m\n\u001b[0;32m-> 1122\u001b[0m     \u001b[39mself\u001b[39;49m\u001b[39m.\u001b[39;49m_check_params_vs_input(X)\n\u001b[1;32m   1123\u001b[0m     embedding \u001b[39m=\u001b[39m \u001b[39mself\u001b[39m\u001b[39m.\u001b[39m_fit(X)\n\u001b[1;32m   1124\u001b[0m     \u001b[39mself\u001b[39m\u001b[39m.\u001b[39membedding_ \u001b[39m=\u001b[39m embedding\n",
            "File \u001b[0;32m~/miniconda3/envs/catalyst1/lib/python3.8/site-packages/sklearn/manifold/_t_sne.py:792\u001b[0m, in \u001b[0;36mTSNE._check_params_vs_input\u001b[0;34m(self, X)\u001b[0m\n\u001b[1;32m    791\u001b[0m \u001b[39mdef\u001b[39;00m \u001b[39m_check_params_vs_input\u001b[39m(\u001b[39mself\u001b[39m, X):\n\u001b[0;32m--> 792\u001b[0m     \u001b[39mif\u001b[39;00m \u001b[39mself\u001b[39m\u001b[39m.\u001b[39mperplexity \u001b[39m>\u001b[39m\u001b[39m=\u001b[39m X\u001b[39m.\u001b[39;49mshape[\u001b[39m0\u001b[39m]:\n\u001b[1;32m    793\u001b[0m         \u001b[39mraise\u001b[39;00m \u001b[39mValueError\u001b[39;00m(\u001b[39m\"\u001b[39m\u001b[39mperplexity must be less than n_samples\u001b[39m\u001b[39m\"\u001b[39m)\n",
            "\u001b[0;31mAttributeError\u001b[0m: 'list' object has no attribute 'shape'"
          ]
        }
      ],
      "source": [
        "drawing(model)"
      ]
    },
    {
      "cell_type": "code",
      "execution_count": 84,
      "metadata": {},
      "outputs": [
        {
          "ename": "KeyError",
          "evalue": "\"Key 'выставочный центр  станция московского монорельса расположена станциями улица академика королёва улица сергея эйзенштейна находится территории останкинского района северовосточного административного округа города москвы переход станцию  вднх калужскорижской линии названа честь всероссийского выставочного центра  названия вднх 1992 2014 год 20 ноября 2004 года линия монорельса начала работать экскурсионном режиме перевезла первых пассажиров ' not present\"",
          "output_type": "error",
          "traceback": [
            "\u001b[0;31m---------------------------------------------------------------------------\u001b[0m",
            "\u001b[0;31mKeyError\u001b[0m                                  Traceback (most recent call last)",
            "\u001b[1;32m/home/leysh/git_repos/DSnML_Innopolis2022/00_Final_Attestation/notebook.ipynb Cell 47\u001b[0m in \u001b[0;36m<cell line: 4>\u001b[0;34m()\u001b[0m\n\u001b[1;32m      <a href='vscode-notebook-cell://wsl%2Bubuntu/home/leysh/git_repos/DSnML_Innopolis2022/00_Final_Attestation/notebook.ipynb#Y135sdnNjb2RlLXJlbW90ZQ%3D%3D?line=1'>2</a>\u001b[0m tokens \u001b[39m=\u001b[39m []\n\u001b[1;32m      <a href='vscode-notebook-cell://wsl%2Bubuntu/home/leysh/git_repos/DSnML_Innopolis2022/00_Final_Attestation/notebook.ipynb#Y135sdnNjb2RlLXJlbW90ZQ%3D%3D?line=3'>4</a>\u001b[0m \u001b[39mfor\u001b[39;00m word \u001b[39min\u001b[39;00m train[\u001b[39m'\u001b[39m\u001b[39mpassage\u001b[39m\u001b[39m'\u001b[39m]:\n\u001b[0;32m----> <a href='vscode-notebook-cell://wsl%2Bubuntu/home/leysh/git_repos/DSnML_Innopolis2022/00_Final_Attestation/notebook.ipynb#Y135sdnNjb2RlLXJlbW90ZQ%3D%3D?line=4'>5</a>\u001b[0m     tokens\u001b[39m.\u001b[39mappend(model\u001b[39m.\u001b[39;49mwv[word])\n\u001b[1;32m      <a href='vscode-notebook-cell://wsl%2Bubuntu/home/leysh/git_repos/DSnML_Innopolis2022/00_Final_Attestation/notebook.ipynb#Y135sdnNjb2RlLXJlbW90ZQ%3D%3D?line=5'>6</a>\u001b[0m     labels\u001b[39m.\u001b[39mappend(word)\n\u001b[1;32m      <a href='vscode-notebook-cell://wsl%2Bubuntu/home/leysh/git_repos/DSnML_Innopolis2022/00_Final_Attestation/notebook.ipynb#Y135sdnNjb2RlLXJlbW90ZQ%3D%3D?line=6'>7</a>\u001b[0m labels \u001b[39m=\u001b[39m np\u001b[39m.\u001b[39marray(labels)\n",
            "File \u001b[0;32m~/miniconda3/envs/catalyst1/lib/python3.8/site-packages/gensim/models/keyedvectors.py:404\u001b[0m, in \u001b[0;36mKeyedVectors.__getitem__\u001b[0;34m(self, key_or_keys)\u001b[0m\n\u001b[1;32m    390\u001b[0m \u001b[39m\"\"\"Get vector representation of `key_or_keys`.\u001b[39;00m\n\u001b[1;32m    391\u001b[0m \n\u001b[1;32m    392\u001b[0m \u001b[39mParameters\u001b[39;00m\n\u001b[0;32m   (...)\u001b[0m\n\u001b[1;32m    401\u001b[0m \n\u001b[1;32m    402\u001b[0m \u001b[39m\"\"\"\u001b[39;00m\n\u001b[1;32m    403\u001b[0m \u001b[39mif\u001b[39;00m \u001b[39misinstance\u001b[39m(key_or_keys, _KEY_TYPES):\n\u001b[0;32m--> 404\u001b[0m     \u001b[39mreturn\u001b[39;00m \u001b[39mself\u001b[39;49m\u001b[39m.\u001b[39;49mget_vector(key_or_keys)\n\u001b[1;32m    406\u001b[0m \u001b[39mreturn\u001b[39;00m vstack([\u001b[39mself\u001b[39m\u001b[39m.\u001b[39mget_vector(key) \u001b[39mfor\u001b[39;00m key \u001b[39min\u001b[39;00m key_or_keys])\n",
            "File \u001b[0;32m~/miniconda3/envs/catalyst1/lib/python3.8/site-packages/gensim/models/keyedvectors.py:447\u001b[0m, in \u001b[0;36mKeyedVectors.get_vector\u001b[0;34m(self, key, norm)\u001b[0m\n\u001b[1;32m    423\u001b[0m \u001b[39mdef\u001b[39;00m \u001b[39mget_vector\u001b[39m(\u001b[39mself\u001b[39m, key, norm\u001b[39m=\u001b[39m\u001b[39mFalse\u001b[39;00m):\n\u001b[1;32m    424\u001b[0m     \u001b[39m\"\"\"Get the key's vector, as a 1D numpy array.\u001b[39;00m\n\u001b[1;32m    425\u001b[0m \n\u001b[1;32m    426\u001b[0m \u001b[39m    Parameters\u001b[39;00m\n\u001b[0;32m   (...)\u001b[0m\n\u001b[1;32m    445\u001b[0m \n\u001b[1;32m    446\u001b[0m \u001b[39m    \"\"\"\u001b[39;00m\n\u001b[0;32m--> 447\u001b[0m     index \u001b[39m=\u001b[39m \u001b[39mself\u001b[39;49m\u001b[39m.\u001b[39;49mget_index(key)\n\u001b[1;32m    448\u001b[0m     \u001b[39mif\u001b[39;00m norm:\n\u001b[1;32m    449\u001b[0m         \u001b[39mself\u001b[39m\u001b[39m.\u001b[39mfill_norms()\n",
            "File \u001b[0;32m~/miniconda3/envs/catalyst1/lib/python3.8/site-packages/gensim/models/keyedvectors.py:421\u001b[0m, in \u001b[0;36mKeyedVectors.get_index\u001b[0;34m(self, key, default)\u001b[0m\n\u001b[1;32m    419\u001b[0m     \u001b[39mreturn\u001b[39;00m default\n\u001b[1;32m    420\u001b[0m \u001b[39melse\u001b[39;00m:\n\u001b[0;32m--> 421\u001b[0m     \u001b[39mraise\u001b[39;00m \u001b[39mKeyError\u001b[39;00m(\u001b[39mf\u001b[39m\u001b[39m\"\u001b[39m\u001b[39mKey \u001b[39m\u001b[39m'\u001b[39m\u001b[39m{\u001b[39;00mkey\u001b[39m}\u001b[39;00m\u001b[39m'\u001b[39m\u001b[39m not present\u001b[39m\u001b[39m\"\u001b[39m)\n",
            "\u001b[0;31mKeyError\u001b[0m: \"Key 'выставочный центр  станция московского монорельса расположена станциями улица академика королёва улица сергея эйзенштейна находится территории останкинского района северовосточного административного округа города москвы переход станцию  вднх калужскорижской линии названа честь всероссийского выставочного центра  названия вднх 1992 2014 год 20 ноября 2004 года линия монорельса начала работать экскурсионном режиме перевезла первых пассажиров ' not present\""
          ]
        }
      ],
      "source": [
        "labels = []\n",
        "tokens = []\n",
        "\n",
        "for word in train['passage']:\n",
        "    tokens.append(model.wv[word])\n",
        "    labels.append(word)\n",
        "labels = np.array(labels)\n",
        "tokens = np.array(tokens)"
      ]
    },
    {
      "cell_type": "code",
      "execution_count": 80,
      "metadata": {},
      "outputs": [
        {
          "data": {
            "text/html": [
              "<style>#sk-container-id-2 {color: black;background-color: white;}#sk-container-id-2 pre{padding: 0;}#sk-container-id-2 div.sk-toggleable {background-color: white;}#sk-container-id-2 label.sk-toggleable__label {cursor: pointer;display: block;width: 100%;margin-bottom: 0;padding: 0.3em;box-sizing: border-box;text-align: center;}#sk-container-id-2 label.sk-toggleable__label-arrow:before {content: \"▸\";float: left;margin-right: 0.25em;color: #696969;}#sk-container-id-2 label.sk-toggleable__label-arrow:hover:before {color: black;}#sk-container-id-2 div.sk-estimator:hover label.sk-toggleable__label-arrow:before {color: black;}#sk-container-id-2 div.sk-toggleable__content {max-height: 0;max-width: 0;overflow: hidden;text-align: left;background-color: #f0f8ff;}#sk-container-id-2 div.sk-toggleable__content pre {margin: 0.2em;color: black;border-radius: 0.25em;background-color: #f0f8ff;}#sk-container-id-2 input.sk-toggleable__control:checked~div.sk-toggleable__content {max-height: 200px;max-width: 100%;overflow: auto;}#sk-container-id-2 input.sk-toggleable__control:checked~label.sk-toggleable__label-arrow:before {content: \"▾\";}#sk-container-id-2 div.sk-estimator input.sk-toggleable__control:checked~label.sk-toggleable__label {background-color: #d4ebff;}#sk-container-id-2 div.sk-label input.sk-toggleable__control:checked~label.sk-toggleable__label {background-color: #d4ebff;}#sk-container-id-2 input.sk-hidden--visually {border: 0;clip: rect(1px 1px 1px 1px);clip: rect(1px, 1px, 1px, 1px);height: 1px;margin: -1px;overflow: hidden;padding: 0;position: absolute;width: 1px;}#sk-container-id-2 div.sk-estimator {font-family: monospace;background-color: #f0f8ff;border: 1px dotted black;border-radius: 0.25em;box-sizing: border-box;margin-bottom: 0.5em;}#sk-container-id-2 div.sk-estimator:hover {background-color: #d4ebff;}#sk-container-id-2 div.sk-parallel-item::after {content: \"\";width: 100%;border-bottom: 1px solid gray;flex-grow: 1;}#sk-container-id-2 div.sk-label:hover label.sk-toggleable__label {background-color: #d4ebff;}#sk-container-id-2 div.sk-serial::before {content: \"\";position: absolute;border-left: 1px solid gray;box-sizing: border-box;top: 0;bottom: 0;left: 50%;z-index: 0;}#sk-container-id-2 div.sk-serial {display: flex;flex-direction: column;align-items: center;background-color: white;padding-right: 0.2em;padding-left: 0.2em;position: relative;}#sk-container-id-2 div.sk-item {position: relative;z-index: 1;}#sk-container-id-2 div.sk-parallel {display: flex;align-items: stretch;justify-content: center;background-color: white;position: relative;}#sk-container-id-2 div.sk-item::before, #sk-container-id-2 div.sk-parallel-item::before {content: \"\";position: absolute;border-left: 1px solid gray;box-sizing: border-box;top: 0;bottom: 0;left: 50%;z-index: -1;}#sk-container-id-2 div.sk-parallel-item {display: flex;flex-direction: column;z-index: 1;position: relative;background-color: white;}#sk-container-id-2 div.sk-parallel-item:first-child::after {align-self: flex-end;width: 50%;}#sk-container-id-2 div.sk-parallel-item:last-child::after {align-self: flex-start;width: 50%;}#sk-container-id-2 div.sk-parallel-item:only-child::after {width: 0;}#sk-container-id-2 div.sk-dashed-wrapped {border: 1px dashed gray;margin: 0 0.4em 0.5em 0.4em;box-sizing: border-box;padding-bottom: 0.4em;background-color: white;}#sk-container-id-2 div.sk-label label {font-family: monospace;font-weight: bold;display: inline-block;line-height: 1.2em;}#sk-container-id-2 div.sk-label-container {text-align: center;}#sk-container-id-2 div.sk-container {/* jupyter's `normalize.less` sets `[hidden] { display: none; }` but bootstrap.min.css set `[hidden] { display: none !important; }` so we also need the `!important` here to be able to override the default hidden behavior on the sphinx rendered scikit-learn.org. See: https://github.com/scikit-learn/scikit-learn/issues/21755 */display: inline-block !important;position: relative;}#sk-container-id-2 div.sk-text-repr-fallback {display: none;}</style><div id=\"sk-container-id-2\" class=\"sk-top-container\"><div class=\"sk-text-repr-fallback\"><pre>TSNE(init=&#x27;pca&#x27;, n_iter=2500, perplexity=40, random_state=23)</pre><b>In a Jupyter environment, please rerun this cell to show the HTML representation or trust the notebook. <br />On GitHub, the HTML representation is unable to render, please try loading this page with nbviewer.org.</b></div><div class=\"sk-container\" hidden><div class=\"sk-item\"><div class=\"sk-estimator sk-toggleable\"><input class=\"sk-toggleable__control sk-hidden--visually\" id=\"sk-estimator-id-2\" type=\"checkbox\" checked><label for=\"sk-estimator-id-2\" class=\"sk-toggleable__label sk-toggleable__label-arrow\">TSNE</label><div class=\"sk-toggleable__content\"><pre>TSNE(init=&#x27;pca&#x27;, n_iter=2500, perplexity=40, random_state=23)</pre></div></div></div></div></div>"
            ],
            "text/plain": [
              "TSNE(init='pca', n_iter=2500, perplexity=40, random_state=23)"
            ]
          },
          "execution_count": 80,
          "metadata": {},
          "output_type": "execute_result"
        }
      ],
      "source": [
        "tsne_model = TSNE(perplexity=40, n_components=2, init='pca', n_iter=2500, random_state=23)\n",
        "tsne_model\n"
      ]
    },
    {
      "cell_type": "code",
      "execution_count": 81,
      "metadata": {},
      "outputs": [
        {
          "name": "stderr",
          "output_type": "stream",
          "text": [
            "/home/leysh/miniconda3/envs/catalyst1/lib/python3.8/site-packages/sklearn/manifold/_t_sne.py:810: FutureWarning: The default learning rate in TSNE will change from 200.0 to 'auto' in 1.2.\n",
            "  warnings.warn(\n",
            "/home/leysh/miniconda3/envs/catalyst1/lib/python3.8/site-packages/sklearn/manifold/_t_sne.py:996: FutureWarning: The PCA initialization in TSNE will change to have the standard deviation of PC1 equal to 1e-4 in 1.2. This will ensure better convergence.\n",
            "  warnings.warn(\n"
          ]
        }
      ],
      "source": [
        "new_values = tsne_model.fit_transform(tokens)\n"
      ]
    },
    {
      "cell_type": "code",
      "execution_count": 83,
      "metadata": {},
      "outputs": [
        {
          "ename": "IndexError",
          "evalue": "index 313 is out of bounds for axis 0 with size 313",
          "output_type": "error",
          "traceback": [
            "\u001b[0;31m---------------------------------------------------------------------------\u001b[0m",
            "\u001b[0;31mIndexError\u001b[0m                                Traceback (most recent call last)",
            "\u001b[1;32m/home/leysh/git_repos/DSnML_Innopolis2022/00_Final_Attestation/notebook.ipynb Cell 50\u001b[0m in \u001b[0;36m<cell line: 8>\u001b[0;34m()\u001b[0m\n\u001b[1;32m      <a href='vscode-notebook-cell://wsl%2Bubuntu/home/leysh/git_repos/DSnML_Innopolis2022/00_Final_Attestation/notebook.ipynb#Y136sdnNjb2RlLXJlbW90ZQ%3D%3D?line=7'>8</a>\u001b[0m \u001b[39mfor\u001b[39;00m i \u001b[39min\u001b[39;00m \u001b[39mrange\u001b[39m(\u001b[39mlen\u001b[39m(x)):\n\u001b[1;32m      <a href='vscode-notebook-cell://wsl%2Bubuntu/home/leysh/git_repos/DSnML_Innopolis2022/00_Final_Attestation/notebook.ipynb#Y136sdnNjb2RlLXJlbW90ZQ%3D%3D?line=8'>9</a>\u001b[0m     plt\u001b[39m.\u001b[39mscatter(x[i],y[i])\n\u001b[0;32m---> <a href='vscode-notebook-cell://wsl%2Bubuntu/home/leysh/git_repos/DSnML_Innopolis2022/00_Final_Attestation/notebook.ipynb#Y136sdnNjb2RlLXJlbW90ZQ%3D%3D?line=9'>10</a>\u001b[0m     plt\u001b[39m.\u001b[39mannotate(labels[i],\n\u001b[1;32m     <a href='vscode-notebook-cell://wsl%2Bubuntu/home/leysh/git_repos/DSnML_Innopolis2022/00_Final_Attestation/notebook.ipynb#Y136sdnNjb2RlLXJlbW90ZQ%3D%3D?line=10'>11</a>\u001b[0m                     xy\u001b[39m=\u001b[39m(x[i], y[i]),\n\u001b[1;32m     <a href='vscode-notebook-cell://wsl%2Bubuntu/home/leysh/git_repos/DSnML_Innopolis2022/00_Final_Attestation/notebook.ipynb#Y136sdnNjb2RlLXJlbW90ZQ%3D%3D?line=11'>12</a>\u001b[0m                     xytext\u001b[39m=\u001b[39m(\u001b[39m5\u001b[39m, \u001b[39m2\u001b[39m),\n\u001b[1;32m     <a href='vscode-notebook-cell://wsl%2Bubuntu/home/leysh/git_repos/DSnML_Innopolis2022/00_Final_Attestation/notebook.ipynb#Y136sdnNjb2RlLXJlbW90ZQ%3D%3D?line=12'>13</a>\u001b[0m                     textcoords\u001b[39m=\u001b[39m\u001b[39m'\u001b[39m\u001b[39moffset points\u001b[39m\u001b[39m'\u001b[39m,\n\u001b[1;32m     <a href='vscode-notebook-cell://wsl%2Bubuntu/home/leysh/git_repos/DSnML_Innopolis2022/00_Final_Attestation/notebook.ipynb#Y136sdnNjb2RlLXJlbW90ZQ%3D%3D?line=13'>14</a>\u001b[0m                     ha\u001b[39m=\u001b[39m\u001b[39m'\u001b[39m\u001b[39mright\u001b[39m\u001b[39m'\u001b[39m,\n\u001b[1;32m     <a href='vscode-notebook-cell://wsl%2Bubuntu/home/leysh/git_repos/DSnML_Innopolis2022/00_Final_Attestation/notebook.ipynb#Y136sdnNjb2RlLXJlbW90ZQ%3D%3D?line=14'>15</a>\u001b[0m                     va\u001b[39m=\u001b[39m\u001b[39m'\u001b[39m\u001b[39mbottom\u001b[39m\u001b[39m'\u001b[39m)\n\u001b[1;32m     <a href='vscode-notebook-cell://wsl%2Bubuntu/home/leysh/git_repos/DSnML_Innopolis2022/00_Final_Attestation/notebook.ipynb#Y136sdnNjb2RlLXJlbW90ZQ%3D%3D?line=15'>16</a>\u001b[0m plt\u001b[39m.\u001b[39mshow()\n",
            "\u001b[0;31mIndexError\u001b[0m: index 313 is out of bounds for axis 0 with size 313"
          ]
        },
        {
          "data": {
            "image/png": "[encoded data removed]",
            "text/plain": [
              "<Figure size 1600x1600 with 1 Axes>"
            ]
          },
          "metadata": {},
          "output_type": "display_data"
        }
      ],
      "source": [
        "\n",
        "x = []\n",
        "y = []\n",
        "for value in new_values:\n",
        "    x.append(value[0])\n",
        "    y.append(value[1])\n",
        "    \n",
        "plt.figure(figsize=(16, 16)) \n",
        "for i in range(len(x)):\n",
        "    plt.scatter(x[i],y[i])\n",
        "    plt.annotate(labels[i],\n",
        "                    xy=(x[i], y[i]),\n",
        "                    xytext=(5, 2),\n",
        "                    textcoords='offset points',\n",
        "                    ha='right',\n",
        "                    va='bottom')\n",
        "plt.show()"
      ]
    },
    {
      "cell_type": "markdown",
      "metadata": {},
      "source": [
        "# BERT Fine-Tune"
      ]
    },
    {
      "cell_type": "code",
      "execution_count": 2,
      "metadata": {},
      "outputs": [
        {
          "name": "stderr",
          "output_type": "stream",
          "text": [
            "/home/leysh/miniconda3/envs/catalyst1/lib/python3.8/site-packages/tqdm/auto.py:22: TqdmWarning: IProgress not found. Please update jupyter and ipywidgets. See https://ipywidgets.readthedocs.io/en/stable/user_install.html\n",
            "  from .autonotebook import tqdm as notebook_tqdm\n"
          ]
        }
      ],
      "source": [
        "import logging\n",
        "from pathlib import Path\n",
        "from typing import List, Mapping, Tuple\n",
        "import matplotlib.pyplot as plt\n",
        "import numpy as np\n",
        "import pandas as pd\n",
        "import torch\n",
        "import torch.nn as nn\n",
        "from torch.utils.data import DataLoader, Dataset\n",
        "\n",
        "import yaml\n",
        "from catalyst.utils import set_global_seed, prepare_cudnn\n",
        "from transformers import AutoTokenizer, AutoConfig, AutoModel\n",
        "from catalyst.callbacks.metrics.accuracy import AccuracyCallback\n",
        "from catalyst.dl import (\n",
        "    CheckpointCallback,\n",
        "    OptimizerCallback,\n",
        "    SchedulerCallback,\n",
        "    SupervisedRunner,\n",
        ")\n",
        "\n",
        "def get_project_root() -> Path:\n",
        "    return Path(\"\").parent.parent"
      ]
    },
    {
      "cell_type": "markdown",
      "metadata": {},
      "source": [
        "## Data Load"
      ]
    },
    {
      "cell_type": "code",
      "execution_count": 3,
      "metadata": {},
      "outputs": [],
      "source": [
        "class TextClassificationDataset(Dataset):\n",
        "    \"\"\"\n",
        "    Wrapper around Torch Dataset to perform text classification\n",
        "    \"\"\"\n",
        "\n",
        "    def __init__(\n",
        "        self,\n",
        "        texts: List[str],\n",
        "        questions: List[str],\n",
        "        labels: List[str] = None,\n",
        "        label_dict: Mapping[str, int] = None,\n",
        "        max_seq_length: int = None,\n",
        "        model_name: str = None,\n",
        "    ):\n",
        "        \"\"\"\n",
        "        Args:\n",
        "            texts (List[str]): a list with texts to classify or to train the\n",
        "                classifier on\n",
        "            labels List[str]: a list with classification labels (optional)\n",
        "            label_dict (dict): a dictionary mapping class names to class ids,\n",
        "                to be passed to the validation data (optional)\n",
        "            max_seq_length (int): maximal sequence length in tokens,\n",
        "                texts will be stripped to this length\n",
        "            model_name (str): transformer model name, needed to perform\n",
        "                appropriate tokenization\n",
        "\n",
        "        \"\"\"\n",
        "\n",
        "        self.texts = texts\n",
        "        self.questions = questions\n",
        "        self.labels = labels\n",
        "        self.label_dict = label_dict\n",
        "        self.max_seq_length = max_seq_length\n",
        "\n",
        "        if self.label_dict is None and labels is not None:\n",
        "            # {'class1': 0, 'class2': 1, 'class3': 2, ...}\n",
        "            # using this instead of `sklearn.preprocessing.LabelEncoder`\n",
        "            # no easily handle unknown target values\n",
        "            self.label_dict = dict(zip(sorted(set(labels)), range(len(set(labels)))))\n",
        "\n",
        "        self.tokenizer = AutoTokenizer.from_pretrained(model_name)\n",
        "        # suppresses tokenizer warnings\n",
        "        logging.getLogger(\"transformers.tokenization_utils\").setLevel(logging.FATAL)\n",
        "\n",
        "        # special tokens for transformers\n",
        "        # in the simplest case a [CLS] token is added in the beginning\n",
        "        # and [SEP] token is added in the end of a piece of text\n",
        "        # [CLS] <indexes text tokens> [SEP] .. <[PAD]>\n",
        "        self.sep_label = self.tokenizer.special_tokens_map['sep_token']\n",
        "        self.sep_vid = self.tokenizer.vocab[self.sep_label]\n",
        "        self.cls_label = self.tokenizer.special_tokens_map['cls_token']\n",
        "        self.cls_vid = self.tokenizer.vocab[self.cls_label]\n",
        "        self.pad_label = self.tokenizer.special_tokens_map['pad_token']\n",
        "        self.pad_vid = self.tokenizer.vocab[self.pad_label]\n",
        "\n",
        "    def __len__(self) -> int:\n",
        "        \"\"\"\n",
        "        Returns:\n",
        "            int: length of the dataset\n",
        "        \"\"\"\n",
        "        return len(self.texts)\n",
        "\n",
        "    def __getitem__(self, index) -> Mapping[str, torch.Tensor]:\n",
        "        \"\"\"Gets element of the dataset\n",
        "\n",
        "        Args:\n",
        "            index (int): index of the element in the dataset\n",
        "        Returns:\n",
        "            Single element by index\n",
        "        \"\"\"\n",
        "        # encoding the text\n",
        "        x = [self.texts[index], self.questions[index]]\n",
        "\n",
        "        # a dictionary with `input_ids` and `attention_mask` as keys\n",
        "        output_dict = self.tokenizer.encode_plus(\n",
        "            text=x,\n",
        "            ##text_pair=text_pair, \n",
        "            ##text_target=text_target, \n",
        "            ##text_pair_target=text_pair_target, \n",
        "            add_special_tokens=True,\n",
        "            #  Pad to a maximum length specified with the argument max_length\n",
        "            #  or to the maximum acceptable input length for the model if that argument is not provided.\n",
        "            padding=\"max_length\", \n",
        "            # Truncate to a maximum length specified with the argument max_length \n",
        "            # or to the maximum acceptable input length for the model if that argument is not provided. \n",
        "            # This will truncate token by token, \n",
        "            # removing a token from the longest sequence in the pair if a pair of sequences (or a batch of pairs) is provided.\n",
        "            truncation=True,\n",
        "            # Controls the maximum length to use by one of the truncation/padding parameters.\n",
        "            max_length=self.max_seq_length, \n",
        "            # return pytorch tensor\n",
        "            return_tensors=\"pt\", \n",
        "            return_token_type_ids=True,\n",
        "            return_attention_mask=True,\n",
        "        )\n",
        "\n",
        "        # for Catalyst, there needs to be a key called features\n",
        "        output_dict[\"features\"] = output_dict[\"input_ids\"].squeeze(0)\n",
        "        del output_dict[\"input_ids\"]\n",
        "\n",
        "        output_dict[\"token_type_ids\"] = output_dict[\"token_type_ids\"].squeeze(0)\n",
        "\n",
        "        # encoding target\n",
        "        if self.labels is not None:\n",
        "            y = self.labels[index]\n",
        "            y_encoded = torch.Tensor([self.label_dict.get(y, -1)]).long().squeeze(0)\n",
        "            output_dict[\"targets\"] = y_encoded\n",
        "            \n",
        "        return output_dict"
      ]
    },
    {
      "cell_type": "code",
      "execution_count": 4,
      "metadata": {},
      "outputs": [],
      "source": [
        "def read_data(params: dict) -> Tuple[dict, dict]:\n",
        "    \"\"\"\n",
        "    A custom function that reads data from CSV files, creates PyTorch datasets and\n",
        "    data loaders. The output is provided to be easily used with Catalyst\n",
        "\n",
        "    :param params: a dictionary read from the config.yml file\n",
        "    :return: a tuple with 2 dictionaries\n",
        "    \"\"\"\n",
        "\n",
        "    batch_size              = params[\"training\"][\"batch_size\"]\n",
        "    seed                    = params[\"general\"][\"seed\"]\n",
        "    max_seq_length          = params[\"model\"][\"max_seq_length\"]\n",
        "    model_name_path_or_url  = params[\"model\"][\"model_name\"]\n",
        "    dataset_folder          = params[\"data\"][\"path_to_data\"]\n",
        "    context_column          = params[\"data\"][\"text_field_name\"]\n",
        "    question_column         = params[\"data\"][\"quest_field_name\"]\n",
        "    label_column            = params[\"data\"][\"label_field_name\"]\n",
        "    train_filename          = params[\"data\"][\"train_filename\"]\n",
        "    validation_filename     = params[\"data\"][\"validation_filename\"]\n",
        "    test_filename           = params[\"data\"][\"test_filename\"]\n",
        "\n",
        "    # reading CSV files to Pandas dataframes\n",
        "    train_df = pd.read_json(Path(dataset_folder) / train_filename, lines=True)\n",
        "    valid_df = pd.read_json(Path(dataset_folder) / validation_filename, lines=True)\n",
        "    test_df  = pd.read_json(Path(dataset_folder) / test_filename, lines=True)\n",
        "\n",
        "    # делаем маппинг из True/False в INT\n",
        "    label_dict = dict()\n",
        "    for i, v in enumerate(np.unique(valid_df[label_column].values)):\n",
        "        label_dict[v] = i\n",
        "\n",
        "    # creating PyTorch Datasets\n",
        "    train_dataset = TextClassificationDataset(\n",
        "        texts           = train_df[context_column].values.tolist(),\n",
        "        questions       = train_df[question_column].values.tolist(),\n",
        "        labels          = train_df[label_column].values,\n",
        "        label_dict      = label_dict,\n",
        "        max_seq_length  = max_seq_length,\n",
        "        model_name      = model_name_path_or_url\n",
        "    )\n",
        "\n",
        "    valid_dataset = TextClassificationDataset(\n",
        "        texts           = valid_df[context_column].values.tolist(),\n",
        "        questions       = valid_df[question_column].values.tolist(),\n",
        "        labels          = valid_df[label_column].values,\n",
        "        label_dict      = label_dict,\n",
        "        max_seq_length  = max_seq_length,\n",
        "        model_name      = model_name_path_or_url\n",
        "    )\n",
        "\n",
        "    test_dataset = TextClassificationDataset(\n",
        "        texts           = test_df[context_column].values.tolist(),\n",
        "        questions       = test_df[question_column].values.tolist(),\n",
        "        max_seq_length  = max_seq_length,\n",
        "        model_name      = model_name_path_or_url,\n",
        "    )\n",
        "\n",
        "    set_global_seed(seed)\n",
        "\n",
        "    # creating PyTorch data loaders and placing them in dictionaries (for Catalyst)\n",
        "    train_val_loaders = {\n",
        "        \"train\": DataLoader(\n",
        "            dataset=train_dataset,\n",
        "            batch_size=batch_size,\n",
        "            shuffle=True,\n",
        "        ),\n",
        "        \"valid\": DataLoader(\n",
        "            dataset=valid_dataset,\n",
        "            batch_size=batch_size,\n",
        "            shuffle=False,\n",
        "        ),\n",
        "    }\n",
        "\n",
        "    test_loaders = {\n",
        "        \"test\": DataLoader(\n",
        "            dataset=test_dataset,\n",
        "            batch_size=batch_size,\n",
        "            shuffle=False,\n",
        "        )\n",
        "    }\n",
        "\n",
        "    del train_df, valid_df, test_df, train_dataset, valid_dataset, test_dataset\n",
        "    del test_filename, validation_filename, train_filename, seed, model_name_path_or_url, max_seq_length, label_column, question_column, context_column, dataset_folder, batch_size\n",
        "    return train_val_loaders, test_loaders"
      ]
    },
    {
      "cell_type": "markdown",
      "metadata": {},
      "source": [
        "## Model"
      ]
    },
    {
      "cell_type": "code",
      "execution_count": 5,
      "metadata": {},
      "outputs": [],
      "source": [
        "class BertForSequenceClassification(nn.Module):\n",
        "    \"\"\"\n",
        "    Simplified version of the same class by HuggingFace.\n",
        "    See transformers/modeling_distilbert.py in the transformers repository.\n",
        "    \"\"\"\n",
        "\n",
        "    def __init__(\n",
        "        self, \n",
        "        pretrained_model_name: str, \n",
        "        num_classes: int = None, \n",
        "        dropout: float = 0.3\n",
        "    ):\n",
        "        \"\"\"\n",
        "        Args:\n",
        "            pretrained_model_name (str): HuggingFace model name.\n",
        "                See transformers/modeling_auto.py\n",
        "            num_classes (int): the number of class labels\n",
        "                in the classification task\n",
        "        \"\"\"\n",
        "        super().__init__()\n",
        "\n",
        "        config = AutoConfig.from_pretrained(pretrained_model_name, num_labels=num_classes)\n",
        "\n",
        "        self.model = AutoModel.from_pretrained(pretrained_model_name, config=config)\n",
        "        self.dropout = nn.Dropout(dropout)\n",
        "\n",
        "        if 1: #default out-of-box gateway\n",
        "            self.classifier = nn.Linear(config.hidden_size, num_classes)\n",
        "        else:\n",
        "            self.classifier = nn.Linear(config.hidden_size * 2, num_classes)\n",
        "        self.softmax = nn.Softmax(dim=1)\n",
        "\n",
        "    def forward(self, **kwargs):\n",
        "        attention_mask = kwargs['attention_mask']\n",
        "        features = kwargs['features']\n",
        "        token_type_ids = kwargs['token_type_ids']\n",
        "        head_mask = None\n",
        "    #def forward(self, features, attention_mask=None, token_type_ids=None, head_mask=None):\n",
        "        \"\"\"Compute class probabilities for the input sequence.\n",
        "\n",
        "        Args:\n",
        "            features (torch.Tensor): ids of each token,\n",
        "                size ([bs, seq_length]\n",
        "            attention_mask (torch.Tensor): binary tensor, used to select\n",
        "                tokens which are used to compute attention scores\n",
        "                in the self-attention heads, size [bs, seq_length]\n",
        "            head_mask (torch.Tensor): 1.0 in head_mask indicates that\n",
        "                we keep the head, size: [num_heads]\n",
        "                or [num_hidden_layers x num_heads]\n",
        "        Returns:\n",
        "            PyTorch Tensor with predicted class scores\n",
        "        \"\"\"\n",
        "        assert attention_mask is not None, \"attention mask is none\"\n",
        "\n",
        "        # taking BERTModel output\n",
        "        # see https://huggingface.co/transformers/model_doc/bert.html#transformers.BertModel\n",
        "        bert_output = self.model(\n",
        "            input_ids=features, \n",
        "            attention_mask=attention_mask, \n",
        "            token_type_ids=token_type_ids, \n",
        "            head_mask=head_mask)\n",
        "        # we only need the hidden state here and don't need\n",
        "        # transformer output, so index 0\n",
        "\n",
        "        if 1: #default out-of-box gateway\n",
        "            seq_output = bert_output[0]  # (bs, seq_len, dim)\n",
        "            # mean pooling, i.e. getting average representation of all tokens\n",
        "            pooled_output = seq_output.mean(axis=1)  # (bs, dim)\n",
        "            pooled_output = self.dropout(pooled_output)  # (bs, dim)\n",
        "            scores = self.classifier(pooled_output)  # (bs, num_classes)\n",
        "        else:\n",
        "            encoder_out = bert_output['last_hidden_state']\n",
        "            \n",
        "            pooled_output, _ = torch.max(encoder_out, 1)\n",
        "            pooled_output = torch.relu(pooled_output)\n",
        "            \n",
        "            pooled_output_mean = torch.mean(encoder_out, 1)\n",
        "            #cls = bert_output[:, 0, :]\n",
        "            pooled_output = torch.cat((pooled_output, pooled_output_mean), 1)\n",
        "            \n",
        "            pooled_output = self.dropout(pooled_output)\n",
        "            scores = self.classifier(pooled_output)\n",
        "            \n",
        "            #scores = (logits,) + scores[2:]  # add hidden states and attention if they are here\n",
        "\n",
        "            #if self.model labels is not None:\n",
        "            #    if self.num_labels == 1:\n",
        "            #        # We are doing regression\n",
        "            #        loss_fct = MSELoss()\n",
        "            #        loss = loss_fct(logits.view(-1), labels.view(-1))\n",
        "            #    else:\n",
        "            #        loss = torch.nn.functional.binary_cross_entropy_with_logits( logits.view(-1), labels.view(-1) )\n",
        "            #    outputs = (loss,) + outputs\n",
        "        scores = self.softmax(scores)\n",
        "        return scores"
      ]
    },
    {
      "cell_type": "markdown",
      "metadata": {},
      "source": [
        "## Train"
      ]
    },
    {
      "cell_type": "code",
      "execution_count": 6,
      "metadata": {},
      "outputs": [],
      "source": [
        "project_root: Path = get_project_root()\n",
        "configs_dict = dict()\n",
        "for iL in range(0, 6):\n",
        "    configs_dict[f'L{iL}'] = str(project_root / f\"config_L{iL}.yml\")"
      ]
    },
    {
      "cell_type": "markdown",
      "metadata": {},
      "source": [
        "### Batch Train"
      ]
    },
    {
      "cell_type": "code",
      "execution_count": 8,
      "metadata": {},
      "outputs": [
        {
          "name": "stdout",
          "output_type": "stream",
          "text": [
            "L0\n",
            "L1\n",
            "L2\n",
            "L3\n",
            "L4\n",
            "L5\n"
          ]
        }
      ],
      "source": [
        "for config_path in configs_dict:\n",
        "    print(config_path)\n",
        "    continue\n",
        "\n",
        "    # открываем файл конфига и зачитываем параметры\n",
        "    with open(config_path) as f:\n",
        "        params = yaml.load(f, Loader=yaml.FullLoader)\n",
        "\n",
        "   # загружаем датасет\n",
        "    train_val_loaders, test_loaders = read_data(params)\n",
        "\n",
        "    # загружаем модель из параметров с задангным кол-вом классов\n",
        "    model = BertForSequenceClassification(\n",
        "        pretrained_model_name=params[\"model\"][\"model_name\"],\n",
        "        num_classes=params[\"model\"][\"num_classes\"],\n",
        "    )\n",
        "\n",
        "\n",
        "    # оптимизатор\n",
        "    if 1:\n",
        "        param_optimizer = list(model.model.named_parameters())\n",
        "        no_decay = ['bias', 'gamma', 'beta']\n",
        "        optimizer_grouped_parameters = [\n",
        "            {'params': [p for n, p in param_optimizer if not any(nd in n for nd in no_decay)], 'weight_decay_rate': 0.01},\n",
        "            {'params': [p for n, p in param_optimizer if any(nd in n for nd in no_decay)], 'weight_decay_rate': 0.0}\n",
        "        ]\n",
        "    else:\n",
        "        optimizer_grouped_parameters = model.parameters()\n",
        "\n",
        "    # specify criterion for the multi-class classification task, optimizer and scheduler\n",
        "    criterion = torch.nn.CrossEntropyLoss()\n",
        "    optimizer = torch.optim.Adam(optimizer_grouped_parameters, lr=float(params[\"training\"][\"learn_rate\"]))\n",
        "    scheduler = torch.optim.lr_scheduler.ReduceLROnPlateau(optimizer)\n",
        "\n",
        "\n",
        "    # сбрасываем сид рандомайзеров\n",
        "    set_global_seed(params[\"general\"][\"seed\"])\n",
        "    prepare_cudnn(deterministic=True)\n",
        "\n",
        "\n",
        "    # определяем тренера, который будет оперировать с forward методом, \n",
        "    # input_key - ключи, которые будут преедаваться из тензора в forward\n",
        "    runner = SupervisedRunner(input_key=(\"features\", \"attention_mask\", \"token_type_ids\"))\n",
        "\n",
        "    # запускаем обучение\n",
        "    runner.train(\n",
        "        # модель\n",
        "        model=model,\n",
        "        # функция потерь\n",
        "        criterion=criterion,\n",
        "        # оптимизатор\n",
        "        optimizer=optimizer,\n",
        "        # расписание\n",
        "        scheduler=scheduler,\n",
        "        # словарь из тренировочного и тестового датасета\n",
        "        loaders=train_val_loaders,\n",
        "        # функции обратной связи\n",
        "        callbacks=[\n",
        "            AccuracyCallback(num_classes=int(params[\"model\"][\"num_classes\"]), input_key=\"logits\", target_key=\"targets\"),\n",
        "            OptimizerCallback(accumulation_steps=int(params[\"training\"][\"accum_steps\"]), metric_key=\"loss\"),\n",
        "            SchedulerCallback(loader_key=\"valid\", metric_key=\"loss\"),\n",
        "            CheckpointCallback(logdir=params[\"training\"][\"log_dir\"], loader_key=\"valid\", metric_key=\"loss\", minimize=True),\n",
        "        ],\n",
        "        # путь до папки, в которую будут сохраняться результаты, \n",
        "        # промежуточные модели: лучшая и последняя\n",
        "        logdir=params[\"training\"][\"log_dir\"],\n",
        "        # количество эпох\n",
        "        num_epochs=int(params[\"training\"][\"num_epochs\"]),\n",
        "        # вывод логирующих сообщений (не выводим в бач режиме)\n",
        "        verbose=False,\n",
        "    )"
      ]
    },
    {
      "cell_type": "markdown",
      "metadata": {},
      "source": [
        "### Single Train"
      ]
    },
    {
      "cell_type": "code",
      "execution_count": 7,
      "metadata": {},
      "outputs": [],
      "source": [
        "# открываем файл конфига и зачитываем параметры\n",
        "with open(configs_dict['L4']) as f:\n",
        "    params = yaml.load(f, Loader=yaml.FullLoader)"
      ]
    },
    {
      "cell_type": "code",
      "execution_count": 8,
      "metadata": {},
      "outputs": [],
      "source": [
        "# загружаем датасет\n",
        "train_val_loaders, test_loaders = read_data(params)"
      ]
    },
    {
      "cell_type": "code",
      "execution_count": 9,
      "metadata": {},
      "outputs": [],
      "source": [
        "# загружаем модель из параметров с задангным кол-вом классов\n",
        "model = BertForSequenceClassification(\n",
        "    pretrained_model_name=params[\"model\"][\"model_name\"],\n",
        "    num_classes=params[\"model\"][\"num_classes\"],\n",
        ")"
      ]
    },
    {
      "cell_type": "code",
      "execution_count": 10,
      "metadata": {},
      "outputs": [],
      "source": [
        "if 1:\n",
        "    param_optimizer = list(model.model.named_parameters())\n",
        "    no_decay = ['bias', 'gamma', 'beta']\n",
        "    optimizer_grouped_parameters = [\n",
        "        {'params': [p for n, p in param_optimizer if not any(nd in n for nd in no_decay)], 'weight_decay_rate': 0.01},\n",
        "        {'params': [p for n, p in param_optimizer if any(nd in n for nd in no_decay)], 'weight_decay_rate': 0.0}\n",
        "    ]\n",
        "else:\n",
        "    optimizer_grouped_parameters = model.parameters()\n",
        "\n",
        "# specify criterion for the multi-class classification task, optimizer and scheduler\n",
        "criterion = torch.nn.CrossEntropyLoss()\n",
        "optimizer = torch.optim.Adam(optimizer_grouped_parameters, lr=float(params[\"training\"][\"learn_rate\"]))\n",
        "scheduler = torch.optim.lr_scheduler.ReduceLROnPlateau(optimizer)"
      ]
    },
    {
      "cell_type": "code",
      "execution_count": 11,
      "metadata": {},
      "outputs": [],
      "source": [
        "# сбрасываем сид рандомайзеров\n",
        "set_global_seed(params[\"general\"][\"seed\"])\n",
        "prepare_cudnn(deterministic=True)"
      ]
    },
    {
      "cell_type": "code",
      "execution_count": 12,
      "metadata": {},
      "outputs": [],
      "source": [
        "# определяем тренера, который будет оперировать с forward методом, \n",
        "# input_key - ключи, которые будут преедаваться из тензора в forward\n",
        "runner = SupervisedRunner(input_key=(\"features\", \"attention_mask\", \"token_type_ids\"))"
      ]
    },
    {
      "cell_type": "code",
      "execution_count": 13,
      "metadata": {},
      "outputs": [
        {
          "name": "stderr",
          "output_type": "stream",
          "text": [
            "1/40 * Epoch (train): 100%|██████████| 219/219 [03:48<00:00,  1.05s/it, accuracy01=0.800, loss=0.463, lr=3.000e-05, momentum=0.900]\n"
          ]
        },
        {
          "name": "stdout",
          "output_type": "stream",
          "text": [
            "train (1/40) accuracy01: 0.6455117210174983 | accuracy01/std: 0.17213205215746621 | loss: 0.6355252486934246 | loss/mean: 0.6355252486934246 | loss/std: 0.11195968763013342 | lr: 3e-05 | momentum: 0.9\n"
          ]
        },
        {
          "name": "stderr",
          "output_type": "stream",
          "text": [
            "1/40 * Epoch (valid): 100%|██████████| 103/103 [00:13<00:00,  7.52it/s, accuracy01=0.600, loss=0.659, lr=3.000e-05, momentum=0.900]\n"
          ]
        },
        {
          "name": "stdout",
          "output_type": "stream",
          "text": [
            "valid (1/40) accuracy01: 0.5529841657968444 | accuracy01/std: 0.18763674299990746 | loss: 0.7379481883200021 | loss/mean: 0.7379481883200021 | loss/std: 0.1569153306593579 | lr: 3e-05 | momentum: 0.9\n",
            "* Epoch (1/40) lr: 3e-05 | momentum: 0.9\n"
          ]
        },
        {
          "name": "stderr",
          "output_type": "stream",
          "text": [
            "2/40 * Epoch (train): 100%|██████████| 219/219 [02:12<00:00,  1.65it/s, accuracy01=0.600, loss=0.789, lr=3.000e-05, momentum=0.900]\n"
          ]
        },
        {
          "name": "stdout",
          "output_type": "stream",
          "text": [
            "train (2/40) accuracy01: 0.7661520869749624 | accuracy01/std: 0.14990691907035297 | loss: 0.5385130120387007 | loss/mean: 0.5385130120387007 | loss/std: 0.11329413731342124 | lr: 3e-05 | momentum: 0.9\n"
          ]
        },
        {
          "name": "stderr",
          "output_type": "stream",
          "text": [
            "2/40 * Epoch (valid): 100%|██████████| 103/103 [00:20<00:00,  5.15it/s, accuracy01=0.800, loss=0.633, lr=3.000e-05, momentum=0.900]\n"
          ]
        },
        {
          "name": "stdout",
          "output_type": "stream",
          "text": [
            "valid (2/40) accuracy01: 0.5542021925208337 | accuracy01/std: 0.18367190547328954 | loss: 0.7399838486194027 | loss/mean: 0.7399838486194027 | loss/std: 0.16945348499844906 | lr: 3e-05 | momentum: 0.9\n",
            "* Epoch (2/40) lr: 3e-05 | momentum: 0.9\n"
          ]
        },
        {
          "name": "stderr",
          "output_type": "stream",
          "text": [
            "3/40 * Epoch (train): 100%|██████████| 219/219 [02:05<00:00,  1.74it/s, accuracy01=0.800, loss=0.518, lr=3.000e-05, momentum=0.900]\n"
          ]
        },
        {
          "name": "stdout",
          "output_type": "stream",
          "text": [
            "train (3/40) accuracy01: 0.8421955403428272 | accuracy01/std: 0.13375189880853297 | loss: 0.46643347158099413 | loss/mean: 0.46643347158099413 | loss/std: 0.11342188415901655 | lr: 3e-05 | momentum: 0.9\n"
          ]
        },
        {
          "name": "stderr",
          "output_type": "stream",
          "text": [
            "3/40 * Epoch (valid): 100%|██████████| 103/103 [00:17<00:00,  5.76it/s, accuracy01=0.400, loss=0.865, lr=3.000e-05, momentum=0.900]\n"
          ]
        },
        {
          "name": "stdout",
          "output_type": "stream",
          "text": [
            "valid (3/40) accuracy01: 0.5639464068572502 | accuracy01/std: 0.1765793321059562 | loss: 0.7317581703834207 | loss/mean: 0.7317581703834207 | loss/std: 0.16835132956866553 | lr: 3e-05 | momentum: 0.9\n",
            "* Epoch (3/40) lr: 3e-05 | momentum: 0.9\n"
          ]
        },
        {
          "name": "stderr",
          "output_type": "stream",
          "text": [
            "4/40 * Epoch (train): 100%|██████████| 219/219 [01:27<00:00,  2.50it/s, accuracy01=1.000, loss=0.314, lr=3.000e-05, momentum=0.900]\n"
          ]
        },
        {
          "name": "stdout",
          "output_type": "stream",
          "text": [
            "train (4/40) accuracy01: 0.8776443682104055 | accuracy01/std: 0.12950330831020374 | loss: 0.43188855633045886 | loss/mean: 0.43188855633045886 | loss/std: 0.1128734422469725 | lr: 3e-05 | momentum: 0.9\n"
          ]
        },
        {
          "name": "stderr",
          "output_type": "stream",
          "text": [
            "4/40 * Epoch (valid): 100%|██████████| 103/103 [00:16<00:00,  6.09it/s, accuracy01=0.600, loss=0.764, lr=3.000e-05, momentum=0.900]\n"
          ]
        },
        {
          "name": "stdout",
          "output_type": "stream",
          "text": [
            "valid (4/40) accuracy01: 0.570036540949098 | accuracy01/std: 0.18527467713890772 | loss: 0.7321740833908575 | loss/mean: 0.7321740833908575 | loss/std: 0.1810930023134433 | lr: 3e-05 | momentum: 0.9\n",
            "* Epoch (4/40) lr: 3e-05 | momentum: 0.9\n"
          ]
        },
        {
          "name": "stderr",
          "output_type": "stream",
          "text": [
            "5/40 * Epoch (train): 100%|██████████| 219/219 [01:22<00:00,  2.65it/s, accuracy01=1.000, loss=0.314, lr=3.000e-05, momentum=0.900]\n"
          ]
        },
        {
          "name": "stdout",
          "output_type": "stream",
          "text": [
            "train (5/40) accuracy01: 0.9205260148656372 | accuracy01/std: 0.09210268143817939 | loss: 0.39213309699020915 | loss/mean: 0.39213309699020915 | loss/std: 0.08689216962791713 | lr: 3e-05 | momentum: 0.9\n"
          ]
        },
        {
          "name": "stderr",
          "output_type": "stream",
          "text": [
            "5/40 * Epoch (valid): 100%|██████████| 103/103 [00:16<00:00,  6.35it/s, accuracy01=0.600, loss=0.709, lr=3.000e-05, momentum=0.900]\n"
          ]
        },
        {
          "name": "stdout",
          "output_type": "stream",
          "text": [
            "valid (5/40) accuracy01: 0.5870889161013512 | accuracy01/std: 0.17616560429563338 | loss: 0.7211770717322316 | loss/mean: 0.7211770717322316 | loss/std: 0.1763395657452339 | lr: 3e-05 | momentum: 0.9\n",
            "* Epoch (5/40) lr: 3e-05 | momentum: 0.9\n"
          ]
        },
        {
          "name": "stderr",
          "output_type": "stream",
          "text": [
            "6/40 * Epoch (train): 100%|██████████| 219/219 [01:23<00:00,  2.63it/s, accuracy01=1.000, loss=0.314, lr=3.000e-05, momentum=0.900]\n"
          ]
        },
        {
          "name": "stdout",
          "output_type": "stream",
          "text": [
            "train (6/40) accuracy01: 0.9342481417953117 | accuracy01/std: 0.08220897739781544 | loss: 0.3798978975188603 | loss/mean: 0.3798978975188603 | loss/std: 0.07759616910411228 | lr: 3e-05 | momentum: 0.9\n"
          ]
        },
        {
          "name": "stderr",
          "output_type": "stream",
          "text": [
            "6/40 * Epoch (valid): 100%|██████████| 103/103 [00:16<00:00,  6.11it/s, accuracy01=0.600, loss=0.688, lr=3.000e-05, momentum=0.900]\n"
          ]
        },
        {
          "name": "stdout",
          "output_type": "stream",
          "text": [
            "valid (6/40) accuracy01: 0.6029232644570148 | accuracy01/std: 0.18430152972696898 | loss: 0.6985044598434205 | loss/mean: 0.6985044598434205 | loss/std: 0.17261998790794864 | lr: 3e-05 | momentum: 0.9\n",
            "* Epoch (6/40) lr: 3e-05 | momentum: 0.9\n"
          ]
        },
        {
          "name": "stderr",
          "output_type": "stream",
          "text": [
            "7/40 * Epoch (train): 100%|██████████| 219/219 [01:26<00:00,  2.52it/s, accuracy01=1.000, loss=0.313, lr=3.000e-05, momentum=0.900]\n"
          ]
        },
        {
          "name": "stdout",
          "output_type": "stream",
          "text": [
            "train (7/40) accuracy01: 0.9388221841052032 | accuracy01/std: 0.08226267334097567 | loss: 0.3735315283071386 | loss/mean: 0.3735315283071386 | loss/std: 0.07889401381641413 | lr: 3e-05 | momentum: 0.9\n"
          ]
        },
        {
          "name": "stderr",
          "output_type": "stream",
          "text": [
            "7/40 * Epoch (valid): 100%|██████████| 103/103 [00:16<00:00,  6.27it/s, accuracy01=0.400, loss=0.894, lr=3.000e-05, momentum=0.900]\n"
          ]
        },
        {
          "name": "stdout",
          "output_type": "stream",
          "text": [
            "valid (7/40) accuracy01: 0.6029232643481147 | accuracy01/std: 0.1754019222631424 | loss: 0.6885786698303037 | loss/mean: 0.6885786698303037 | loss/std: 0.16636899233830194 | lr: 3e-05 | momentum: 0.9\n",
            "* Epoch (7/40) lr: 3e-05 | momentum: 0.9\n"
          ]
        },
        {
          "name": "stderr",
          "output_type": "stream",
          "text": [
            "8/40 * Epoch (train): 100%|██████████| 219/219 [01:23<00:00,  2.63it/s, accuracy01=1.000, loss=0.313, lr=3.000e-05, momentum=0.900]\n"
          ]
        },
        {
          "name": "stdout",
          "output_type": "stream",
          "text": [
            "train (8/40) accuracy01: 0.9519725557461407 | accuracy01/std: 0.07644749129968824 | loss: 0.3618328931196679 | loss/mean: 0.3618328931196679 | loss/std: 0.07316636003534197 | lr: 3e-05 | momentum: 0.9\n"
          ]
        },
        {
          "name": "stderr",
          "output_type": "stream",
          "text": [
            "8/40 * Epoch (valid): 100%|██████████| 103/103 [00:17<00:00,  5.90it/s, accuracy01=0.600, loss=0.733, lr=3.000e-05, momentum=0.900]\n"
          ]
        },
        {
          "name": "stdout",
          "output_type": "stream",
          "text": [
            "valid (8/40) accuracy01: 0.5919610232877093 | accuracy01/std: 0.19121544085861025 | loss: 0.7165552269526724 | loss/mean: 0.7165552269526724 | loss/std: 0.1850970140375971 | lr: 3e-05 | momentum: 0.9\n",
            "* Epoch (8/40) lr: 3e-05 | momentum: 0.9\n"
          ]
        },
        {
          "name": "stderr",
          "output_type": "stream",
          "text": [
            "9/40 * Epoch (train): 100%|██████████| 219/219 [01:27<00:00,  2.52it/s, accuracy01=1.000, loss=0.313, lr=3.000e-05, momentum=0.900]\n"
          ]
        },
        {
          "name": "stdout",
          "output_type": "stream",
          "text": [
            "train (9/40) accuracy01: 0.9462550028587765 | accuracy01/std: 0.0826754090758611 | loss: 0.3665969456482642 | loss/mean: 0.3665969456482642 | loss/std: 0.07930478656015429 | lr: 3e-05 | momentum: 0.9\n"
          ]
        },
        {
          "name": "stderr",
          "output_type": "stream",
          "text": [
            "9/40 * Epoch (valid): 100%|██████████| 103/103 [00:15<00:00,  6.48it/s, accuracy01=0.800, loss=0.513, lr=3.000e-05, momentum=0.900]\n"
          ]
        },
        {
          "name": "stdout",
          "output_type": "stream",
          "text": [
            "valid (9/40) accuracy01: 0.5980511571980571 | accuracy01/std: 0.17953830311987615 | loss: 0.7085884571365837 | loss/mean: 0.7085884571365837 | loss/std: 0.17286955924853126 | lr: 3e-05 | momentum: 0.9\n",
            "* Epoch (9/40) lr: 3e-05 | momentum: 0.9\n"
          ]
        },
        {
          "name": "stderr",
          "output_type": "stream",
          "text": [
            "10/40 * Epoch (train): 100%|██████████| 219/219 [00:53<00:00,  4.08it/s, accuracy01=1.000, loss=0.313, lr=3.000e-05, momentum=0.900]\n"
          ]
        },
        {
          "name": "stdout",
          "output_type": "stream",
          "text": [
            "train (10/40) accuracy01: 0.9565465980560324 | accuracy01/std: 0.06742883973542384 | loss: 0.35645642070650313 | loss/mean: 0.35645642070650313 | loss/std: 0.06548052123189571 | lr: 3e-05 | momentum: 0.9\n"
          ]
        },
        {
          "name": "stderr",
          "output_type": "stream",
          "text": [
            "10/40 * Epoch (valid): 100%|██████████| 103/103 [00:08<00:00, 11.81it/s, accuracy01=0.600, loss=0.713, lr=3.000e-05, momentum=0.900]\n"
          ]
        },
        {
          "name": "stdout",
          "output_type": "stream",
          "text": [
            "valid (10/40) accuracy01: 0.59074299649112 | accuracy01/std: 0.1824282243568554 | loss: 0.7174123609109572 | loss/mean: 0.7174123609109572 | loss/std: 0.17816830132415817 | lr: 3e-05 | momentum: 0.9\n",
            "* Epoch (10/40) lr: 3e-05 | momentum: 0.9\n"
          ]
        },
        {
          "name": "stderr",
          "output_type": "stream",
          "text": [
            "11/40 * Epoch (train): 100%|██████████| 219/219 [00:53<00:00,  4.07it/s, accuracy01=1.000, loss=0.313, lr=3.000e-05, momentum=0.900]\n"
          ]
        },
        {
          "name": "stdout",
          "output_type": "stream",
          "text": [
            "train (11/40) accuracy01: 0.9594053744997139 | accuracy01/std: 0.0697034482889023 | loss: 0.3544505829467578 | loss/mean: 0.3544505829467578 | loss/std: 0.06820901931161702 | lr: 3e-05 | momentum: 0.9\n"
          ]
        },
        {
          "name": "stderr",
          "output_type": "stream",
          "text": [
            "11/40 * Epoch (valid): 100%|██████████| 103/103 [00:08<00:00, 11.88it/s, accuracy01=0.600, loss=0.715, lr=3.000e-05, momentum=0.900]\n"
          ]
        },
        {
          "name": "stdout",
          "output_type": "stream",
          "text": [
            "valid (11/40) accuracy01: 0.5858708893047617 | accuracy01/std: 0.189659844155008 | loss: 0.719711169691237 | loss/mean: 0.719711169691237 | loss/std: 0.1821552308612923 | lr: 3e-05 | momentum: 0.9\n",
            "* Epoch (11/40) lr: 3e-05 | momentum: 0.9\n"
          ]
        },
        {
          "name": "stderr",
          "output_type": "stream",
          "text": [
            "12/40 * Epoch (train): 100%|██████████| 219/219 [00:53<00:00,  4.09it/s, accuracy01=1.000, loss=0.313, lr=3.000e-05, momentum=0.900]\n"
          ]
        },
        {
          "name": "stdout",
          "output_type": "stream",
          "text": [
            "train (12/40) accuracy01: 0.9651229273870784 | accuracy01/std: 0.06096806086329202 | loss: 0.3479560635102144 | loss/mean: 0.3479560635102144 | loss/std: 0.05936723726379649 | lr: 3e-05 | momentum: 0.9\n"
          ]
        },
        {
          "name": "stderr",
          "output_type": "stream",
          "text": [
            "12/40 * Epoch (valid): 100%|██████████| 103/103 [00:08<00:00, 11.96it/s, accuracy01=0.400, loss=0.847, lr=3.000e-05, momentum=0.900]\n"
          ]
        },
        {
          "name": "stdout",
          "output_type": "stream",
          "text": [
            "valid (12/40) accuracy01: 0.5700365408401978 | accuracy01/std: 0.20067841916627271 | loss: 0.7267786503999736 | loss/mean: 0.7267786503999736 | loss/std: 0.19239659782230797 | lr: 3e-05 | momentum: 0.9\n",
            "* Epoch (12/40) lr: 3e-05 | momentum: 0.9\n"
          ]
        },
        {
          "name": "stderr",
          "output_type": "stream",
          "text": [
            "13/40 * Epoch (train): 100%|██████████| 219/219 [00:53<00:00,  4.08it/s, accuracy01=1.000, loss=0.313, lr=3.000e-05, momentum=0.900]\n"
          ]
        },
        {
          "name": "stdout",
          "output_type": "stream",
          "text": [
            "train (13/40) accuracy01: 0.967981703830761 | accuracy01/std: 0.06308694834739095 | loss: 0.3456545000147178 | loss/mean: 0.3456545000147178 | loss/std: 0.06299343967184003 | lr: 3e-05 | momentum: 0.9\n"
          ]
        },
        {
          "name": "stderr",
          "output_type": "stream",
          "text": [
            "13/40 * Epoch (valid): 100%|██████████| 103/103 [00:08<00:00, 11.61it/s, accuracy01=0.600, loss=0.726, lr=3.000e-05, momentum=0.900]\n"
          ]
        },
        {
          "name": "stdout",
          "output_type": "stream",
          "text": [
            "valid (13/40) accuracy01: 0.5858708893047619 | accuracy01/std: 0.18804547425381163 | loss: 0.7222501289975194 | loss/mean: 0.7222501289975194 | loss/std: 0.18482578464129856 | lr: 3e-05 | momentum: 0.9\n",
            "* Epoch (13/40) lr: 3e-05 | momentum: 0.9\n"
          ]
        },
        {
          "name": "stderr",
          "output_type": "stream",
          "text": [
            "14/40 * Epoch (train): 100%|██████████| 219/219 [00:53<00:00,  4.09it/s, accuracy01=0.800, loss=0.513, lr=3.000e-05, momentum=0.900]\n"
          ]
        },
        {
          "name": "stdout",
          "output_type": "stream",
          "text": [
            "train (14/40) accuracy01: 0.9679817038648398 | accuracy01/std: 0.06454370467974255 | loss: 0.3452436073362109 | loss/mean: 0.3452436073362109 | loss/std: 0.06288277862451516 | lr: 3e-05 | momentum: 0.9\n"
          ]
        },
        {
          "name": "stderr",
          "output_type": "stream",
          "text": [
            "14/40 * Epoch (valid): 100%|██████████| 103/103 [00:08<00:00, 12.02it/s, accuracy01=0.600, loss=0.721, lr=3.000e-05, momentum=0.900]\n"
          ]
        },
        {
          "name": "stdout",
          "output_type": "stream",
          "text": [
            "valid (14/40) accuracy01: 0.6017052376604254 | accuracy01/std: 0.19025852971831714 | loss: 0.7075755873493096 | loss/mean: 0.7075755873493096 | loss/std: 0.1867883766102445 | lr: 3e-05 | momentum: 0.9\n",
            "* Epoch (14/40) lr: 3e-05 | momentum: 0.9\n"
          ]
        },
        {
          "name": "stderr",
          "output_type": "stream",
          "text": [
            "15/40 * Epoch (train): 100%|██████████| 219/219 [00:53<00:00,  4.08it/s, accuracy01=1.000, loss=0.313, lr=3.000e-05, momentum=0.900]\n"
          ]
        },
        {
          "name": "stdout",
          "output_type": "stream",
          "text": [
            "train (15/40) accuracy01: 0.9582618639222414 | accuracy01/std: 0.06798049620317233 | loss: 0.3550224179809881 | loss/mean: 0.3550224179809881 | loss/std: 0.06586158932260863 | lr: 3e-05 | momentum: 0.9\n"
          ]
        },
        {
          "name": "stderr",
          "output_type": "stream",
          "text": [
            "15/40 * Epoch (valid): 100%|██████████| 103/103 [00:08<00:00, 11.97it/s, accuracy01=0.600, loss=0.728, lr=3.000e-05, momentum=0.900]\n"
          ]
        },
        {
          "name": "stdout",
          "output_type": "stream",
          "text": [
            "valid (15/40) accuracy01: 0.5956151036774779 | accuracy01/std: 0.19768234673815582 | loss: 0.7094666999963256 | loss/mean: 0.7094666999963256 | loss/std: 0.1906968321089729 | lr: 3e-05 | momentum: 0.9\n",
            "* Epoch (15/40) lr: 3e-05 | momentum: 0.9\n"
          ]
        },
        {
          "name": "stderr",
          "output_type": "stream",
          "text": [
            "16/40 * Epoch (train): 100%|██████████| 219/219 [00:53<00:00,  4.08it/s, accuracy01=1.000, loss=0.313, lr=3.000e-05, momentum=0.900]\n"
          ]
        },
        {
          "name": "stdout",
          "output_type": "stream",
          "text": [
            "train (16/40) accuracy01: 0.9588336192109775 | accuracy01/std: 0.07288599834457629 | loss: 0.35381993707620857 | loss/mean: 0.35381993707620857 | loss/std: 0.07053732720641437 | lr: 3e-05 | momentum: 0.9\n"
          ]
        },
        {
          "name": "stderr",
          "output_type": "stream",
          "text": [
            "16/40 * Epoch (valid): 100%|██████████| 103/103 [00:08<00:00, 11.89it/s, accuracy01=0.400, loss=0.790, lr=3.000e-05, momentum=0.900]\n"
          ]
        },
        {
          "name": "stdout",
          "output_type": "stream",
          "text": [
            "valid (16/40) accuracy01: 0.587088915992451 | accuracy01/std: 0.19230039539926067 | loss: 0.7177916800061039 | loss/mean: 0.7177916800061039 | loss/std: 0.18485878316694987 | lr: 3e-05 | momentum: 0.9\n",
            "* Epoch (16/40) lr: 3e-05 | momentum: 0.9\n"
          ]
        },
        {
          "name": "stderr",
          "output_type": "stream",
          "text": [
            "17/40 * Epoch (train): 100%|██████████| 219/219 [00:53<00:00,  4.08it/s, accuracy01=1.000, loss=0.313, lr=3.000e-05, momentum=0.900]\n"
          ]
        },
        {
          "name": "stdout",
          "output_type": "stream",
          "text": [
            "train (17/40) accuracy01: 0.9576901086335049 | accuracy01/std: 0.06815259177719722 | loss: 0.355260877438175 | loss/mean: 0.355260877438175 | loss/std: 0.06414729200253942 | lr: 3e-05 | momentum: 0.9\n"
          ]
        },
        {
          "name": "stderr",
          "output_type": "stream",
          "text": [
            "17/40 * Epoch (valid): 100%|██████████| 103/103 [00:08<00:00, 11.86it/s, accuracy01=0.400, loss=0.835, lr=3.000e-05, momentum=0.900]\n"
          ]
        },
        {
          "name": "stdout",
          "output_type": "stream",
          "text": [
            "valid (17/40) accuracy01: 0.5712545676367874 | accuracy01/std: 0.18480908997666967 | loss: 0.7343469228727085 | loss/mean: 0.7343469228727085 | loss/std: 0.1807341328692969 | lr: 3e-05 | momentum: 0.9\n",
            "* Epoch (17/40) lr: 3e-05 | momentum: 0.9\n"
          ]
        },
        {
          "name": "stderr",
          "output_type": "stream",
          "text": [
            "18/40 * Epoch (train): 100%|██████████| 219/219 [00:53<00:00,  4.10it/s, accuracy01=1.000, loss=0.313, lr=3.000e-05, momentum=0.900]\n"
          ]
        },
        {
          "name": "stdout",
          "output_type": "stream",
          "text": [
            "train (18/40) accuracy01: 0.9685534591194969 | accuracy01/std: 0.06393575262938747 | loss: 0.345256696792246 | loss/mean: 0.345256696792246 | loss/std: 0.06262223680977703 | lr: 3e-05 | momentum: 0.9\n"
          ]
        },
        {
          "name": "stderr",
          "output_type": "stream",
          "text": [
            "18/40 * Epoch (valid): 100%|██████████| 103/103 [00:08<00:00, 11.86it/s, accuracy01=0.400, loss=0.902, lr=3.000e-05, momentum=0.900]\n"
          ]
        },
        {
          "name": "stdout",
          "output_type": "stream",
          "text": [
            "valid (18/40) accuracy01: 0.5712545676367874 | accuracy01/std: 0.18888830027798767 | loss: 0.7340164334126426 | loss/mean: 0.7340164334126426 | loss/std: 0.18553045851017033 | lr: 3e-05 | momentum: 0.9\n",
            "* Epoch (18/40) lr: 3e-06 | momentum: 0.9\n"
          ]
        },
        {
          "name": "stderr",
          "output_type": "stream",
          "text": [
            "19/40 * Epoch (train): 100%|██████████| 219/219 [00:53<00:00,  4.10it/s, accuracy01=1.000, loss=0.313, lr=3.000e-06, momentum=0.900]\n"
          ]
        },
        {
          "name": "stdout",
          "output_type": "stream",
          "text": [
            "train (19/40) accuracy01: 0.9731275014293883 | accuracy01/std: 0.05407846959440959 | loss: 0.3406638227202947 | loss/mean: 0.3406638227202947 | loss/std: 0.05392923453977718 | lr: 3e-06 | momentum: 0.9\n"
          ]
        },
        {
          "name": "stderr",
          "output_type": "stream",
          "text": [
            "19/40 * Epoch (valid): 100%|██████████| 103/103 [00:08<00:00, 11.76it/s, accuracy01=0.400, loss=0.896, lr=3.000e-06, momentum=0.900]\n"
          ]
        },
        {
          "name": "stdout",
          "output_type": "stream",
          "text": [
            "valid (19/40) accuracy01: 0.5688185140436083 | accuracy01/std: 0.19454999341358323 | loss: 0.7378787709792557 | loss/mean: 0.7378787709792557 | loss/std: 0.1872506182496299 | lr: 3e-06 | momentum: 0.9\n",
            "* Epoch (19/40) lr: 3e-06 | momentum: 0.9\n"
          ]
        },
        {
          "name": "stderr",
          "output_type": "stream",
          "text": [
            "20/40 * Epoch (train): 100%|██████████| 219/219 [00:53<00:00,  4.10it/s, accuracy01=1.000, loss=0.313, lr=3.000e-06, momentum=0.900]\n"
          ]
        },
        {
          "name": "stdout",
          "output_type": "stream",
          "text": [
            "train (20/40) accuracy01: 0.9742710120068615 | accuracy01/std: 0.05194828631415618 | loss: 0.339374781319453 | loss/mean: 0.339374781319453 | loss/std: 0.05257704751064996 | lr: 3e-06 | momentum: 0.9\n"
          ]
        },
        {
          "name": "stderr",
          "output_type": "stream",
          "text": [
            "20/40 * Epoch (valid): 100%|██████████| 103/103 [00:08<00:00, 11.92it/s, accuracy01=0.400, loss=0.902, lr=3.000e-06, momentum=0.900]\n"
          ]
        },
        {
          "name": "stdout",
          "output_type": "stream",
          "text": [
            "valid (20/40) accuracy01: 0.566382460450429 | accuracy01/std: 0.1938290543598663 | loss: 0.7385662349800824 | loss/mean: 0.7385662349800824 | loss/std: 0.1896483487982628 | lr: 3e-06 | momentum: 0.9\n",
            "* Epoch (20/40) lr: 3e-06 | momentum: 0.9\n"
          ]
        },
        {
          "name": "stderr",
          "output_type": "stream",
          "text": [
            "21/40 * Epoch (train): 100%|██████████| 219/219 [00:53<00:00,  4.10it/s, accuracy01=0.800, loss=0.513, lr=3.000e-06, momentum=0.900]\n"
          ]
        },
        {
          "name": "stdout",
          "output_type": "stream",
          "text": [
            "train (21/40) accuracy01: 0.973127501463467 | accuracy01/std: 0.05314476874905602 | loss: 0.339979735049198 | loss/mean: 0.339979735049198 | loss/std: 0.05251515872447251 | lr: 3e-06 | momentum: 0.9\n"
          ]
        },
        {
          "name": "stderr",
          "output_type": "stream",
          "text": [
            "21/40 * Epoch (valid): 100%|██████████| 103/103 [00:08<00:00, 11.92it/s, accuracy01=0.400, loss=0.905, lr=3.000e-06, momentum=0.900]\n"
          ]
        },
        {
          "name": "stdout",
          "output_type": "stream",
          "text": [
            "valid (21/40) accuracy01: 0.5676004872470187 | accuracy01/std: 0.1969219634649644 | loss: 0.739789217674195 | loss/mean: 0.739789217674195 | loss/std: 0.191788392263274 | lr: 3e-06 | momentum: 0.9\n",
            "* Epoch (21/40) lr: 3e-06 | momentum: 0.9\n"
          ]
        },
        {
          "name": "stderr",
          "output_type": "stream",
          "text": [
            "22/40 * Epoch (train): 100%|██████████| 219/219 [00:53<00:00,  4.10it/s, accuracy01=1.000, loss=0.313, lr=3.000e-06, momentum=0.900]\n"
          ]
        },
        {
          "name": "stdout",
          "output_type": "stream",
          "text": [
            "train (22/40) accuracy01: 0.9748427672955978 | accuracy01/std: 0.05554536027996037 | loss: 0.3387350392314352 | loss/mean: 0.3387350392314352 | loss/std: 0.05585417748919044 | lr: 3e-06 | momentum: 0.9\n"
          ]
        },
        {
          "name": "stderr",
          "output_type": "stream",
          "text": [
            "22/40 * Epoch (valid): 100%|██████████| 103/103 [00:08<00:00, 12.04it/s, accuracy01=0.400, loss=0.910, lr=3.000e-06, momentum=0.900]\n"
          ]
        },
        {
          "name": "stdout",
          "output_type": "stream",
          "text": [
            "valid (22/40) accuracy01: 0.5700365408401976 | accuracy01/std: 0.19838647578081733 | loss: 0.7354236609607611 | loss/mean: 0.7354236609607611 | loss/std: 0.1914623369052325 | lr: 3e-06 | momentum: 0.9\n",
            "* Epoch (22/40) lr: 3e-06 | momentum: 0.9\n"
          ]
        },
        {
          "name": "stderr",
          "output_type": "stream",
          "text": [
            "23/40 * Epoch (train): 100%|██████████| 219/219 [00:53<00:00,  4.09it/s, accuracy01=1.000, loss=0.313, lr=3.000e-06, momentum=0.900]\n"
          ]
        },
        {
          "name": "stdout",
          "output_type": "stream",
          "text": [
            "train (23/40) accuracy01: 0.9748427672955974 | accuracy01/std: 0.054242662671230714 | loss: 0.3384968274623892 | loss/mean: 0.3384968274623892 | loss/std: 0.05419501428669157 | lr: 3e-06 | momentum: 0.9\n"
          ]
        },
        {
          "name": "stderr",
          "output_type": "stream",
          "text": [
            "23/40 * Epoch (valid): 100%|██████████| 103/103 [00:08<00:00, 11.95it/s, accuracy01=0.400, loss=0.911, lr=3.000e-06, momentum=0.900]\n"
          ]
        },
        {
          "name": "stdout",
          "output_type": "stream",
          "text": [
            "valid (23/40) accuracy01: 0.5700365408401977 | accuracy01/std: 0.19761658767409263 | loss: 0.7343525983819712 | loss/mean: 0.7343525983819712 | loss/std: 0.19085210817868514 | lr: 3e-06 | momentum: 0.9\n",
            "* Epoch (23/40) lr: 3e-06 | momentum: 0.9\n"
          ]
        },
        {
          "name": "stderr",
          "output_type": "stream",
          "text": [
            "24/40 * Epoch (train): 100%|██████████| 219/219 [00:53<00:00,  4.08it/s, accuracy01=1.000, loss=0.313, lr=3.000e-06, momentum=0.900]\n"
          ]
        },
        {
          "name": "stdout",
          "output_type": "stream",
          "text": [
            "train (24/40) accuracy01: 0.9754145225843339 | accuracy01/std: 0.05515644730341205 | loss: 0.3379282843153295 | loss/mean: 0.3379282843153295 | loss/std: 0.05504746583848721 | lr: 3e-06 | momentum: 0.9\n"
          ]
        },
        {
          "name": "stderr",
          "output_type": "stream",
          "text": [
            "24/40 * Epoch (valid): 100%|██████████| 103/103 [00:08<00:00, 11.85it/s, accuracy01=0.400, loss=0.912, lr=3.000e-06, momentum=0.900]\n"
          ]
        },
        {
          "name": "stdout",
          "output_type": "stream",
          "text": [
            "valid (24/40) accuracy01: 0.5712545676367871 | accuracy01/std: 0.19366997256825894 | loss: 0.7325026502562788 | loss/mean: 0.7325026502562788 | loss/std: 0.18857974793275484 | lr: 3e-06 | momentum: 0.9\n",
            "* Epoch (24/40) lr: 3e-06 | momentum: 0.9\n"
          ]
        },
        {
          "name": "stderr",
          "output_type": "stream",
          "text": [
            "25/40 * Epoch (train): 100%|██████████| 219/219 [00:53<00:00,  4.12it/s, accuracy01=1.000, loss=0.313, lr=3.000e-06, momentum=0.900]\n"
          ]
        },
        {
          "name": "stdout",
          "output_type": "stream",
          "text": [
            "train (25/40) accuracy01: 0.9759862778730706 | accuracy01/std: 0.053436930417262093 | loss: 0.337480366093694 | loss/mean: 0.337480366093694 | loss/std: 0.05337215538250579 | lr: 3e-06 | momentum: 0.9\n"
          ]
        },
        {
          "name": "stderr",
          "output_type": "stream",
          "text": [
            "25/40 * Epoch (valid): 100%|██████████| 103/103 [00:11<00:00,  8.74it/s, accuracy01=0.400, loss=0.913, lr=3.000e-06, momentum=0.900]\n"
          ]
        },
        {
          "name": "stdout",
          "output_type": "stream",
          "text": [
            "valid (25/40) accuracy01: 0.5749086480265558 | accuracy01/std: 0.18706043805566674 | loss: 0.7313073721785782 | loss/mean: 0.7313073721785782 | loss/std: 0.18661456474161672 | lr: 3e-06 | momentum: 0.9\n",
            "* Epoch (25/40) lr: 3e-06 | momentum: 0.9\n"
          ]
        },
        {
          "name": "stderr",
          "output_type": "stream",
          "text": [
            "26/40 * Epoch (train): 100%|██████████| 219/219 [01:44<00:00,  2.10it/s, accuracy01=0.800, loss=0.513, lr=3.000e-06, momentum=0.900]\n"
          ]
        },
        {
          "name": "stdout",
          "output_type": "stream",
          "text": [
            "train (26/40) accuracy01: 0.9759862779071498 | accuracy01/std: 0.05383689904616707 | loss: 0.33736745414221314 | loss/mean: 0.33736745414221314 | loss/std: 0.05381874290413648 | lr: 3e-06 | momentum: 0.9\n"
          ]
        },
        {
          "name": "stderr",
          "output_type": "stream",
          "text": [
            "26/40 * Epoch (valid): 100%|██████████| 103/103 [00:17<00:00,  5.94it/s, accuracy01=0.400, loss=0.913, lr=3.000e-06, momentum=0.900]\n"
          ]
        },
        {
          "name": "stdout",
          "output_type": "stream",
          "text": [
            "valid (26/40) accuracy01: 0.5736906212299668 | accuracy01/std: 0.1863209838784986 | loss: 0.7300951560725542 | loss/mean: 0.7300951560725542 | loss/std: 0.18533224943962232 | lr: 3e-06 | momentum: 0.9\n",
            "* Epoch (26/40) lr: 3e-06 | momentum: 0.9\n"
          ]
        },
        {
          "name": "stderr",
          "output_type": "stream",
          "text": [
            "27/40 * Epoch (train): 100%|██████████| 219/219 [01:21<00:00,  2.68it/s, accuracy01=1.000, loss=0.313, lr=3.000e-06, momentum=0.900]\n"
          ]
        },
        {
          "name": "stdout",
          "output_type": "stream",
          "text": [
            "train (27/40) accuracy01: 0.97598627787307 | accuracy01/std: 0.05068988402519739 | loss: 0.3373387530233059 | loss/mean: 0.3373387530233059 | loss/std: 0.05065187454868547 | lr: 3e-06 | momentum: 0.9\n"
          ]
        },
        {
          "name": "stderr",
          "output_type": "stream",
          "text": [
            "27/40 * Epoch (valid): 100%|██████████| 103/103 [00:17<00:00,  5.92it/s, accuracy01=0.400, loss=0.913, lr=3.000e-06, momentum=0.900]\n"
          ]
        },
        {
          "name": "stdout",
          "output_type": "stream",
          "text": [
            "valid (27/40) accuracy01: 0.5712545676367871 | accuracy01/std: 0.1872672792677521 | loss: 0.7316111298629634 | loss/mean: 0.7316111298629634 | loss/std: 0.18685300958347564 | lr: 3e-06 | momentum: 0.9\n",
            "* Epoch (27/40) lr: 3e-06 | momentum: 0.9\n"
          ]
        },
        {
          "name": "stderr",
          "output_type": "stream",
          "text": [
            "28/40 * Epoch (train): 100%|██████████| 219/219 [01:21<00:00,  2.69it/s, accuracy01=1.000, loss=0.313, lr=3.000e-06, momentum=0.900]\n"
          ]
        },
        {
          "name": "stdout",
          "output_type": "stream",
          "text": [
            "train (28/40) accuracy01: 0.9754145225843336 | accuracy01/std: 0.05643805696602024 | loss: 0.33780314731148064 | loss/mean: 0.33780314731148064 | loss/std: 0.05626957296293741 | lr: 3e-06 | momentum: 0.9\n"
          ]
        },
        {
          "name": "stderr",
          "output_type": "stream",
          "text": [
            "28/40 * Epoch (valid): 100%|██████████| 103/103 [00:16<00:00,  6.30it/s, accuracy01=0.400, loss=0.913, lr=3.000e-06, momentum=0.900]\n"
          ]
        },
        {
          "name": "stdout",
          "output_type": "stream",
          "text": [
            "valid (28/40) accuracy01: 0.5663824604504292 | accuracy01/std: 0.19617425024804216 | loss: 0.7345215372568799 | loss/mean: 0.7345215372568799 | loss/std: 0.19032446826244917 | lr: 3e-06 | momentum: 0.9\n",
            "* Epoch (28/40) lr: 3e-06 | momentum: 0.9\n"
          ]
        },
        {
          "name": "stderr",
          "output_type": "stream",
          "text": [
            "29/40 * Epoch (train): 100%|██████████| 219/219 [01:21<00:00,  2.68it/s, accuracy01=1.000, loss=0.313, lr=3.000e-06, momentum=0.900]\n"
          ]
        },
        {
          "name": "stdout",
          "output_type": "stream",
          "text": [
            "train (29/40) accuracy01: 0.97598627787307 | accuracy01/std: 0.054758799542949994 | loss: 0.33730754240912797 | loss/mean: 0.33730754240912797 | loss/std: 0.05468294338576199 | lr: 3e-06 | momentum: 0.9\n"
          ]
        },
        {
          "name": "stderr",
          "output_type": "stream",
          "text": [
            "29/40 * Epoch (valid): 100%|██████████| 103/103 [00:17<00:00,  6.04it/s, accuracy01=0.400, loss=0.912, lr=3.000e-06, momentum=0.900]\n"
          ]
        },
        {
          "name": "stdout",
          "output_type": "stream",
          "text": [
            "valid (29/40) accuracy01: 0.5676004872470186 | accuracy01/std: 0.19769455668701974 | loss: 0.7348726251674191 | loss/mean: 0.7348726251674191 | loss/std: 0.1907269945477442 | lr: 3e-06 | momentum: 0.9\n",
            "* Epoch (29/40) lr: 3.0000000000000004e-07 | momentum: 0.9\n"
          ]
        },
        {
          "name": "stderr",
          "output_type": "stream",
          "text": [
            "30/40 * Epoch (train): 100%|██████████| 219/219 [01:17<00:00,  2.82it/s, accuracy01=1.000, loss=0.320, lr=3.000e-07, momentum=0.900]\n"
          ]
        },
        {
          "name": "stdout",
          "output_type": "stream",
          "text": [
            "train (30/40) accuracy01: 0.9759862778730705 | accuracy01/std: 0.05343693041726206 | loss: 0.33749471164349504 | loss/mean: 0.33749471164349504 | loss/std: 0.053443546018107614 | lr: 3.0000000000000004e-07 | momentum: 0.9\n"
          ]
        },
        {
          "name": "stderr",
          "output_type": "stream",
          "text": [
            "30/40 * Epoch (valid): 100%|██████████| 103/103 [00:16<00:00,  6.14it/s, accuracy01=0.400, loss=0.912, lr=3.000e-07, momentum=0.900]\n"
          ]
        },
        {
          "name": "stdout",
          "output_type": "stream",
          "text": [
            "valid (30/40) accuracy01: 0.5688185140436083 | accuracy01/std: 0.19995961161866838 | loss: 0.7352385908619351 | loss/mean: 0.7352385908619351 | loss/std: 0.19142514690266788 | lr: 3.0000000000000004e-07 | momentum: 0.9\n",
            "* Epoch (30/40) lr: 3.0000000000000004e-07 | momentum: 0.9\n"
          ]
        },
        {
          "name": "stderr",
          "output_type": "stream",
          "text": [
            "31/40 * Epoch (train): 100%|██████████| 219/219 [01:20<00:00,  2.73it/s, accuracy01=1.000, loss=0.313, lr=3.000e-07, momentum=0.900]\n"
          ]
        },
        {
          "name": "stdout",
          "output_type": "stream",
          "text": [
            "train (31/40) accuracy01: 0.9759862778730705 | accuracy01/std: 0.053436930417262093 | loss: 0.3373276537796508 | loss/mean: 0.3373276537796508 | loss/std: 0.05344820442553371 | lr: 3.0000000000000004e-07 | momentum: 0.9\n"
          ]
        },
        {
          "name": "stderr",
          "output_type": "stream",
          "text": [
            "31/40 * Epoch (valid): 100%|██████████| 103/103 [00:17<00:00,  5.97it/s, accuracy01=0.400, loss=0.912, lr=3.000e-07, momentum=0.900]\n"
          ]
        },
        {
          "name": "stdout",
          "output_type": "stream",
          "text": [
            "valid (31/40) accuracy01: 0.5688185140436083 | accuracy01/std: 0.19995961161866838 | loss: 0.7353784098549679 | loss/mean: 0.7353784098549679 | loss/std: 0.19171549943123564 | lr: 3.0000000000000004e-07 | momentum: 0.9\n",
            "* Epoch (31/40) lr: 3.0000000000000004e-07 | momentum: 0.9\n"
          ]
        },
        {
          "name": "stderr",
          "output_type": "stream",
          "text": [
            "32/40 * Epoch (train): 100%|██████████| 219/219 [01:20<00:00,  2.71it/s, accuracy01=1.000, loss=0.313, lr=3.000e-07, momentum=0.900]\n"
          ]
        },
        {
          "name": "stdout",
          "output_type": "stream",
          "text": [
            "train (32/40) accuracy01: 0.9759862778730699 | accuracy01/std: 0.05208152203472586 | loss: 0.3373411780531028 | loss/mean: 0.3373411780531028 | loss/std: 0.05203815454454851 | lr: 3.0000000000000004e-07 | momentum: 0.9\n"
          ]
        },
        {
          "name": "stderr",
          "output_type": "stream",
          "text": [
            "32/40 * Epoch (valid): 100%|██████████| 103/103 [00:16<00:00,  6.14it/s, accuracy01=0.400, loss=0.912, lr=3.000e-07, momentum=0.900]\n"
          ]
        },
        {
          "name": "stdout",
          "output_type": "stream",
          "text": [
            "valid (32/40) accuracy01: 0.5688185140436083 | accuracy01/std: 0.19995961161866838 | loss: 0.735473258486619 | loss/mean: 0.735473258486619 | loss/std: 0.19180926739462134 | lr: 3.0000000000000004e-07 | momentum: 0.9\n",
            "* Epoch (32/40) lr: 3.0000000000000004e-07 | momentum: 0.9\n"
          ]
        },
        {
          "name": "stderr",
          "output_type": "stream",
          "text": [
            "33/40 * Epoch (train): 100%|██████████| 219/219 [01:20<00:00,  2.73it/s, accuracy01=1.000, loss=0.313, lr=3.000e-07, momentum=0.900]\n"
          ]
        },
        {
          "name": "stdout",
          "output_type": "stream",
          "text": [
            "train (33/40) accuracy01: 0.9759862778730701 | accuracy01/std: 0.052081522034725845 | loss: 0.3373100562665447 | loss/mean: 0.3373100562665447 | loss/std: 0.052054175355072 | lr: 3.0000000000000004e-07 | momentum: 0.9\n"
          ]
        },
        {
          "name": "stderr",
          "output_type": "stream",
          "text": [
            "33/40 * Epoch (valid): 100%|██████████| 103/103 [00:16<00:00,  6.22it/s, accuracy01=0.400, loss=0.912, lr=3.000e-07, momentum=0.900]\n"
          ]
        },
        {
          "name": "stdout",
          "output_type": "stream",
          "text": [
            "valid (33/40) accuracy01: 0.5688185140436083 | accuracy01/std: 0.19995961161866838 | loss: 0.7355241721788657 | loss/mean: 0.7355241721788657 | loss/std: 0.19186943548695842 | lr: 3.0000000000000004e-07 | momentum: 0.9\n",
            "* Epoch (33/40) lr: 3.0000000000000004e-07 | momentum: 0.9\n"
          ]
        },
        {
          "name": "stderr",
          "output_type": "stream",
          "text": [
            "34/40 * Epoch (train): 100%|██████████| 219/219 [01:21<00:00,  2.69it/s, accuracy01=1.000, loss=0.313, lr=3.000e-07, momentum=0.900]\n"
          ]
        },
        {
          "name": "stdout",
          "output_type": "stream",
          "text": [
            "train (34/40) accuracy01: 0.9759862778730701 | accuracy01/std: 0.05208152203472584 | loss: 0.33734003222281755 | loss/mean: 0.33734003222281755 | loss/std: 0.052036698290490964 | lr: 3.0000000000000004e-07 | momentum: 0.9\n"
          ]
        },
        {
          "name": "stderr",
          "output_type": "stream",
          "text": [
            "34/40 * Epoch (valid): 100%|██████████| 103/103 [00:17<00:00,  5.94it/s, accuracy01=0.400, loss=0.912, lr=3.000e-07, momentum=0.900]\n"
          ]
        },
        {
          "name": "stdout",
          "output_type": "stream",
          "text": [
            "valid (34/40) accuracy01: 0.5688185140436083 | accuracy01/std: 0.19995961161866838 | loss: 0.7355940763755783 | loss/mean: 0.7355940763755783 | loss/std: 0.19194971462407107 | lr: 3.0000000000000004e-07 | momentum: 0.9\n",
            "* Epoch (34/40) lr: 3.0000000000000004e-07 | momentum: 0.9\n"
          ]
        },
        {
          "name": "stderr",
          "output_type": "stream",
          "text": [
            "35/40 * Epoch (train): 100%|██████████| 219/219 [01:20<00:00,  2.72it/s, accuracy01=0.800, loss=0.513, lr=3.000e-07, momentum=0.900]\n"
          ]
        },
        {
          "name": "stdout",
          "output_type": "stream",
          "text": [
            "train (35/40) accuracy01: 0.9759862779071496 | accuracy01/std: 0.058910899490415884 | loss: 0.33730544309196253 | loss/mean: 0.33730544309196253 | loss/std: 0.058857252220369936 | lr: 3.0000000000000004e-07 | momentum: 0.9\n"
          ]
        },
        {
          "name": "stderr",
          "output_type": "stream",
          "text": [
            "35/40 * Epoch (valid): 100%|██████████| 103/103 [00:16<00:00,  6.16it/s, accuracy01=0.400, loss=0.912, lr=3.000e-07, momentum=0.900]\n"
          ]
        },
        {
          "name": "stdout",
          "output_type": "stream",
          "text": [
            "valid (35/40) accuracy01: 0.5688185140436083 | accuracy01/std: 0.19995961161866838 | loss: 0.7356020593323748 | loss/mean: 0.7356020593323748 | loss/std: 0.19194699630908119 | lr: 3.0000000000000004e-07 | momentum: 0.9\n",
            "* Epoch (35/40) lr: 3.0000000000000004e-07 | momentum: 0.9\n"
          ]
        },
        {
          "name": "stderr",
          "output_type": "stream",
          "text": [
            "36/40 * Epoch (train): 100%|██████████| 219/219 [00:56<00:00,  3.91it/s, accuracy01=1.000, loss=0.313, lr=3.000e-07, momentum=0.900]\n"
          ]
        },
        {
          "name": "stdout",
          "output_type": "stream",
          "text": [
            "train (36/40) accuracy01: 0.9759862778730702 | accuracy01/std: 0.054758799542950036 | loss: 0.3373191201598252 | loss/mean: 0.3373191201598252 | loss/std: 0.05469178598587315 | lr: 3.0000000000000004e-07 | momentum: 0.9\n"
          ]
        },
        {
          "name": "stderr",
          "output_type": "stream",
          "text": [
            "36/40 * Epoch (valid): 100%|██████████| 103/103 [00:16<00:00,  6.38it/s, accuracy01=0.400, loss=0.912, lr=3.000e-07, momentum=0.900]\n"
          ]
        },
        {
          "name": "stdout",
          "output_type": "stream",
          "text": [
            "valid (36/40) accuracy01: 0.5688185140436083 | accuracy01/std: 0.19995961161866838 | loss: 0.7355386387561328 | loss/mean: 0.7355386387561328 | loss/std: 0.19193903197624493 | lr: 3.0000000000000004e-07 | momentum: 0.9\n",
            "* Epoch (36/40) lr: 3.0000000000000004e-07 | momentum: 0.9\n"
          ]
        },
        {
          "name": "stderr",
          "output_type": "stream",
          "text": [
            "37/40 * Epoch (train): 100%|██████████| 219/219 [02:37<00:00,  1.39it/s, accuracy01=1.000, loss=0.313, lr=3.000e-07, momentum=0.900]\n"
          ]
        },
        {
          "name": "stdout",
          "output_type": "stream",
          "text": [
            "train (37/40) accuracy01: 0.9759862778730702 | accuracy01/std: 0.05343693041726205 | loss: 0.3373118748557164 | loss/mean: 0.3373118748557164 | loss/std: 0.05338715775324865 | lr: 3.0000000000000004e-07 | momentum: 0.9\n"
          ]
        },
        {
          "name": "stderr",
          "output_type": "stream",
          "text": [
            "37/40 * Epoch (valid): 100%|██████████| 103/103 [00:12<00:00,  8.52it/s, accuracy01=0.400, loss=0.912, lr=3.000e-07, momentum=0.900]\n"
          ]
        },
        {
          "name": "stdout",
          "output_type": "stream",
          "text": [
            "valid (37/40) accuracy01: 0.5688185140436083 | accuracy01/std: 0.19995961161866838 | loss: 0.7355265801774743 | loss/mean: 0.7355265801774743 | loss/std: 0.19195206369104664 | lr: 3.0000000000000004e-07 | momentum: 0.9\n",
            "* Epoch (37/40) lr: 3.0000000000000004e-07 | momentum: 0.9\n"
          ]
        },
        {
          "name": "stderr",
          "output_type": "stream",
          "text": [
            "38/40 * Epoch (train): 100%|██████████| 219/219 [00:54<00:00,  4.01it/s, accuracy01=1.000, loss=0.313, lr=3.000e-07, momentum=0.900]\n"
          ]
        },
        {
          "name": "stdout",
          "output_type": "stream",
          "text": [
            "train (38/40) accuracy01: 0.9759862778730701 | accuracy01/std: 0.05208152203472588 | loss: 0.3373146195149953 | loss/mean: 0.3373146195149953 | loss/std: 0.05205084899003597 | lr: 3.0000000000000004e-07 | momentum: 0.9\n"
          ]
        },
        {
          "name": "stderr",
          "output_type": "stream",
          "text": [
            "38/40 * Epoch (valid): 100%|██████████| 103/103 [00:08<00:00, 12.24it/s, accuracy01=0.400, loss=0.912, lr=3.000e-07, momentum=0.900]\n"
          ]
        },
        {
          "name": "stdout",
          "output_type": "stream",
          "text": [
            "valid (38/40) accuracy01: 0.5688185140436083 | accuracy01/std: 0.19995961161866838 | loss: 0.7355250272623077 | loss/mean: 0.7355250272623077 | loss/std: 0.19193879568622074 | lr: 3.0000000000000004e-07 | momentum: 0.9\n",
            "* Epoch (38/40) lr: 3.0000000000000004e-07 | momentum: 0.9\n"
          ]
        },
        {
          "name": "stderr",
          "output_type": "stream",
          "text": [
            "39/40 * Epoch (train): 100%|██████████| 219/219 [01:20<00:00,  2.72it/s, accuracy01=1.000, loss=0.313, lr=3.000e-07, momentum=0.900]\n"
          ]
        },
        {
          "name": "stdout",
          "output_type": "stream",
          "text": [
            "train (39/40) accuracy01: 0.9759862778730705 | accuracy01/std: 0.05604950242732453 | loss: 0.33735715349515283 | loss/mean: 0.33735715349515283 | loss/std: 0.05599880510291656 | lr: 3.0000000000000004e-07 | momentum: 0.9\n"
          ]
        },
        {
          "name": "stderr",
          "output_type": "stream",
          "text": [
            "39/40 * Epoch (valid): 100%|██████████| 103/103 [00:14<00:00,  7.24it/s, accuracy01=0.400, loss=0.912, lr=3.000e-07, momentum=0.900]\n"
          ]
        },
        {
          "name": "stdout",
          "output_type": "stream",
          "text": [
            "valid (39/40) accuracy01: 0.5688185140436083 | accuracy01/std: 0.19995961161866838 | loss: 0.7355371721624311 | loss/mean: 0.7355371721624311 | loss/std: 0.19200090388800126 | lr: 3.0000000000000004e-07 | momentum: 0.9\n",
            "* Epoch (39/40) lr: 3.0000000000000004e-07 | momentum: 0.9\n"
          ]
        },
        {
          "name": "stderr",
          "output_type": "stream",
          "text": [
            "40/40 * Epoch (train): 100%|██████████| 219/219 [01:20<00:00,  2.73it/s, accuracy01=1.000, loss=0.313, lr=3.000e-07, momentum=0.900]\n"
          ]
        },
        {
          "name": "stdout",
          "output_type": "stream",
          "text": [
            "train (40/40) accuracy01: 0.9759862778730701 | accuracy01/std: 0.052081522034725866 | loss: 0.3373097091350917 | loss/mean: 0.3373097091350917 | loss/std: 0.0520708323699208 | lr: 3.0000000000000004e-07 | momentum: 0.9\n"
          ]
        },
        {
          "name": "stderr",
          "output_type": "stream",
          "text": [
            "40/40 * Epoch (valid): 100%|██████████| 103/103 [00:10<00:00, 10.20it/s, accuracy01=0.400, loss=0.912, lr=3.000e-07, momentum=0.900]\n"
          ]
        },
        {
          "name": "stdout",
          "output_type": "stream",
          "text": [
            "valid (40/40) accuracy01: 0.5688185140436083 | accuracy01/std: 0.19995961161866838 | loss: 0.7356382986659981 | loss/mean: 0.7356382986659981 | loss/std: 0.19221859721490325 | lr: 3.0000000000000004e-07 | momentum: 0.9\n",
            "* Epoch (40/40) lr: 3.0000000000000004e-08 | momentum: 0.9\n",
            "Top models:\n",
            "logdir_L4/model.0007.pth\t0.6886\n"
          ]
        }
      ],
      "source": [
        "# запускаем обучение\n",
        "runner.train(\n",
        "    # модель\n",
        "    model=model,\n",
        "    # функция потерь\n",
        "    criterion=criterion,\n",
        "    # оптимизатор\n",
        "    optimizer=optimizer,\n",
        "    # расписание\n",
        "    scheduler=scheduler,\n",
        "    # словарь из тренировочного и тестового датасета\n",
        "    loaders=train_val_loaders,\n",
        "    # функции обратной связи\n",
        "    callbacks=[\n",
        "        AccuracyCallback(num_classes=int(params[\"model\"][\"num_classes\"]), input_key=\"logits\", target_key=\"targets\"),\n",
        "        OptimizerCallback(accumulation_steps=int(params[\"training\"][\"accum_steps\"]), metric_key=\"loss\"),\n",
        "        SchedulerCallback(loader_key=\"valid\", metric_key=\"loss\"),\n",
        "        CheckpointCallback(logdir=params[\"training\"][\"log_dir\"], loader_key=\"valid\", metric_key=\"loss\", minimize=True),\n",
        "    ],\n",
        "    # путь до папки, в которую будут сохраняться результаты, \n",
        "    # промежуточные модели: лучшая и последняя\n",
        "    logdir=params[\"training\"][\"log_dir\"],\n",
        "    # количество эпох\n",
        "    num_epochs=int(params[\"training\"][\"num_epochs\"]),\n",
        "    # вывод логирующих сообщений\n",
        "    verbose=True,\n",
        ")"
      ]
    },
    {
      "cell_type": "code",
      "execution_count": 18,
      "metadata": {},
      "outputs": [
        {
          "name": "stdout",
          "output_type": "stream",
          "text": [
            "valid (1/1) accuracy01: 0.6151035324229102 | accuracy01/std: 0.17346088402863175\n",
            "* Epoch (1/1) \n",
            "defaultdict(None, {'accuracy01': 0.6151035324229102, 'accuracy01/std': 0.17346088402863175})\n"
          ]
        }
      ],
      "source": [
        "\n",
        "# and running inference\n",
        "torch.cuda.empty_cache()\n",
        "\n",
        "# getting validation metrics\n",
        "metrics = runner.evaluate_loader(\n",
        "    loader=train_val_loaders[\"valid\"],\n",
        "    callbacks=[AccuracyCallback(input_key=\"logits\", target_key=\"targets\")],\n",
        ")\n",
        "print(metrics)\n",
        "\n",
        "# lastly, saving predicted scores for the test set\n",
        "test_pred_scores = np.concatenate(\n",
        "    [pred[\"logits\"].detach().cpu().numpy() for pred in runner.predict_loader(loader=test_loaders[\"test\"])]\n",
        ")"
      ]
    },
    {
      "cell_type": "markdown",
      "metadata": {},
      "source": [
        "## Просмотр результатов"
      ]
    },
    {
      "cell_type": "code",
      "execution_count": 16,
      "metadata": {},
      "outputs": [],
      "source": [
        "acc_L0 = pd.read_csv('logdir_L0/csv_logger/valid.csv')['accuracy01'].to_numpy().astype(np.float32)\n",
        "acc_L1 = pd.read_csv('logdir_L1/csv_logger/valid.csv')['accuracy01'].to_numpy().astype(np.float32)\n",
        "acc_L2 = pd.read_csv('logdir_L2/csv_logger/valid.csv')['accuracy01'].to_numpy().astype(np.float32)\n",
        "acc_L3 = pd.read_csv('logdir_L3/csv_logger/valid.csv')['accuracy01'].to_numpy().astype(np.float32)\n",
        "acc_L4 = pd.read_csv('logdir_L4/csv_logger/valid.csv')['accuracy01'].to_numpy().astype(np.float32)\n",
        "#acc_L5 = pd.read_csv('logdir_L5/csv_logger/valid.csv')['accuracy01'].to_numpy().astype(np.float32)"
      ]
    },
    {
      "cell_type": "code",
      "execution_count": 17,
      "metadata": {},
      "outputs": [
        {
          "data": {
            "text/plain": [
              "<matplotlib.legend.Legend at 0x7f9d8ec7bc70>"
            ]
          },
          "execution_count": 17,
          "metadata": {},
          "output_type": "execute_result"
        },
        {
          "data": {
            "image/png": "[encoded data removed]",
            "text/plain": [
              "<Figure size 640x480 with 1 Axes>"
            ]
          },
          "metadata": {},
          "output_type": "display_data"
        }
      ],
      "source": [
        "plt.plot(acc_L0)\n",
        "plt.plot(acc_L1)\n",
        "plt.plot(acc_L2)\n",
        "plt.plot(acc_L3)\n",
        "plt.plot(acc_L4)\n",
        "plt.legend(['L0', 'L1', 'L2', 'L3', 'L4', 'L5'])"
      ]
    },
    {
      "cell_type": "code",
      "execution_count": 14,
      "metadata": {},
      "outputs": [],
      "source": [
        "loss_L0 = pd.read_csv('logdir_L0/csv_logger/valid.csv')['loss'].to_numpy().astype(np.float32)\n",
        "loss_L1 = pd.read_csv('logdir_L1/csv_logger/valid.csv')['loss'].to_numpy().astype(np.float32)\n",
        "loss_L2 = pd.read_csv('logdir_L2/csv_logger/valid.csv')['loss'].to_numpy().astype(np.float32)\n",
        "loss_L3 = pd.read_csv('logdir_L3/csv_logger/valid.csv')['loss'].to_numpy().astype(np.float32)\n",
        "loss_L4 = pd.read_csv('logdir_L4/csv_logger/valid.csv')['loss'].to_numpy().astype(np.float32)\n",
        "#loss_L5 = pd.read_csv('logdir_L5/csv_logger/valid.csv')['loss'].to_numpy().astype(np.float32)"
      ]
    },
    {
      "cell_type": "code",
      "execution_count": 15,
      "metadata": {},
      "outputs": [
        {
          "data": {
            "text/plain": [
              "<matplotlib.legend.Legend at 0x7f9d8ed626a0>"
            ]
          },
          "execution_count": 15,
          "metadata": {},
          "output_type": "execute_result"
        },
        {
          "data": {
            "image/png": "[encoded data removed]",
            "text/plain": [
              "<Figure size 640x480 with 1 Axes>"
            ]
          },
          "metadata": {},
          "output_type": "display_data"
        }
      ],
      "source": [
        "plt.plot(loss_L0)\n",
        "plt.plot(loss_L1)\n",
        "plt.plot(loss_L2)\n",
        "plt.plot(loss_L3)\n",
        "plt.plot(loss_L4)\n",
        "plt.legend(['L0', 'L1', 'L2', 'L3', 'L4', 'L5'])"
      ]
    },
    {
      "cell_type": "code",
      "execution_count": null,
      "metadata": {},
      "outputs": [],
      "source": []
    }
  ],
  "metadata": {
    "colab": {
      "collapsed_sections": [
        "LKTCSd3abuwb"
      ],
      "provenance": []
    },
    "kernelspec": {
      "display_name": "Python 3.8.13 ('catalyst1')",
      "language": "python",
      "name": "python3"
    },
    "language_info": {
      "codemirror_mode": {
        "name": "ipython",
        "version": 3
      },
      "file_extension": ".py",
      "mimetype": "text/x-python",
      "name": "python",
      "nbconvert_exporter": "python",
      "pygments_lexer": "ipython3",
      "version": "3.8.13"
    },
    "vscode": {
      "interpreter": {
        "hash": "e6374150d64b7b463fc3f558c333ee2100da45f3ddc290a75b2f3063ea5e3af3"
      }
    },
    "widgets": {
      "application/vnd.jupyter.widget-state+json": {
        "03f2660fa9694a79b44b5936766d70bc": {
          "model_module": "@jupyter-widgets/controls",
          "model_module_version": "1.5.0",
          "model_name": "HBoxModel",
          "state": {
            "_dom_classes": [],
            "_model_module": "@jupyter-widgets/controls",
            "_model_module_version": "1.5.0",
            "_model_name": "HBoxModel",
            "_view_count": null,
            "_view_module": "@jupyter-widgets/controls",
            "_view_module_version": "1.5.0",
            "_view_name": "HBoxView",
            "box_style": "",
            "children": [
              "IPY_MODEL_e9cfc6495ff2496186d730c0368545e2",
              "IPY_MODEL_23c7fada5b044d838adfcf692ada6427",
              "IPY_MODEL_ec2d06a9217b4c0fb3da12091878812d"
            ],
            "layout": "IPY_MODEL_0c517cb74ae84f16a60db4f895ab1eb2"
          }
        },
        "0c517cb74ae84f16a60db4f895ab1eb2": {
          "model_module": "@jupyter-widgets/base",
          "model_module_version": "1.2.0",
          "model_name": "LayoutModel",
          "state": {
            "_model_module": "@jupyter-widgets/base",
            "_model_module_version": "1.2.0",
            "_model_name": "LayoutModel",
            "_view_count": null,
            "_view_module": "@jupyter-widgets/base",
            "_view_module_version": "1.2.0",
            "_view_name": "LayoutView",
            "align_content": null,
            "align_items": null,
            "align_self": null,
            "border": null,
            "bottom": null,
            "display": null,
            "flex": null,
            "flex_flow": null,
            "grid_area": null,
            "grid_auto_columns": null,
            "grid_auto_flow": null,
            "grid_auto_rows": null,
            "grid_column": null,
            "grid_gap": null,
            "grid_row": null,
            "grid_template_areas": null,
            "grid_template_columns": null,
            "grid_template_rows": null,
            "height": null,
            "justify_content": null,
            "justify_items": null,
            "left": null,
            "margin": null,
            "max_height": null,
            "max_width": null,
            "min_height": null,
            "min_width": null,
            "object_fit": null,
            "object_position": null,
            "order": null,
            "overflow": null,
            "overflow_x": null,
            "overflow_y": null,
            "padding": null,
            "right": null,
            "top": null,
            "visibility": null,
            "width": null
          }
        },
        "16c92089f10441f8980e53697cc1771b": {
          "model_module": "@jupyter-widgets/controls",
          "model_module_version": "1.5.0",
          "model_name": "ProgressStyleModel",
          "state": {
            "_model_module": "@jupyter-widgets/controls",
            "_model_module_version": "1.5.0",
            "_model_name": "ProgressStyleModel",
            "_view_count": null,
            "_view_module": "@jupyter-widgets/base",
            "_view_module_version": "1.2.0",
            "_view_name": "StyleView",
            "bar_color": null,
            "description_width": ""
          }
        },
        "17cca474f9c14fa9941d760ec29a957c": {
          "model_module": "@jupyter-widgets/controls",
          "model_module_version": "1.5.0",
          "model_name": "DescriptionStyleModel",
          "state": {
            "_model_module": "@jupyter-widgets/controls",
            "_model_module_version": "1.5.0",
            "_model_name": "DescriptionStyleModel",
            "_view_count": null,
            "_view_module": "@jupyter-widgets/base",
            "_view_module_version": "1.2.0",
            "_view_name": "StyleView",
            "description_width": ""
          }
        },
        "18caaea132a446e5895d9f1b01bc1b0d": {
          "model_module": "@jupyter-widgets/controls",
          "model_module_version": "1.5.0",
          "model_name": "DescriptionStyleModel",
          "state": {
            "_model_module": "@jupyter-widgets/controls",
            "_model_module_version": "1.5.0",
            "_model_name": "DescriptionStyleModel",
            "_view_count": null,
            "_view_module": "@jupyter-widgets/base",
            "_view_module_version": "1.2.0",
            "_view_name": "StyleView",
            "description_width": ""
          }
        },
        "19be090732a14b2899cab691941932b1": {
          "model_module": "@jupyter-widgets/controls",
          "model_module_version": "1.5.0",
          "model_name": "HTMLModel",
          "state": {
            "_dom_classes": [],
            "_model_module": "@jupyter-widgets/controls",
            "_model_module_version": "1.5.0",
            "_model_name": "HTMLModel",
            "_view_count": null,
            "_view_module": "@jupyter-widgets/controls",
            "_view_module_version": "1.5.0",
            "_view_name": "HTMLView",
            "description": "",
            "description_tooltip": null,
            "layout": "IPY_MODEL_2ae27e0fec7b45269b8e4a3059d804bf",
            "placeholder": "​",
            "style": "IPY_MODEL_18caaea132a446e5895d9f1b01bc1b0d",
            "value": "Downloading: 100%"
          }
        },
        "1b22a8560beb48969ffa5223b91602f0": {
          "model_module": "@jupyter-widgets/controls",
          "model_module_version": "1.5.0",
          "model_name": "HBoxModel",
          "state": {
            "_dom_classes": [],
            "_model_module": "@jupyter-widgets/controls",
            "_model_module_version": "1.5.0",
            "_model_name": "HBoxModel",
            "_view_count": null,
            "_view_module": "@jupyter-widgets/controls",
            "_view_module_version": "1.5.0",
            "_view_name": "HBoxView",
            "box_style": "",
            "children": [
              "IPY_MODEL_da464fb671164ee182ebc21910729c61",
              "IPY_MODEL_1ecd016148544b2d9cd957da8e9c42c4",
              "IPY_MODEL_7e15566c3859466ab26f469bbd297c7c"
            ],
            "layout": "IPY_MODEL_abdf7bed26784271a892b0d40ed0a76e"
          }
        },
        "1ecd016148544b2d9cd957da8e9c42c4": {
          "model_module": "@jupyter-widgets/controls",
          "model_module_version": "1.5.0",
          "model_name": "FloatProgressModel",
          "state": {
            "_dom_classes": [],
            "_model_module": "@jupyter-widgets/controls",
            "_model_module_version": "1.5.0",
            "_model_name": "FloatProgressModel",
            "_view_count": null,
            "_view_module": "@jupyter-widgets/controls",
            "_view_module_version": "1.5.0",
            "_view_name": "ProgressView",
            "bar_style": "success",
            "description": "",
            "description_tooltip": null,
            "layout": "IPY_MODEL_5b13a0e6265e4679b235a3e72d8f665e",
            "max": 642,
            "min": 0,
            "orientation": "horizontal",
            "style": "IPY_MODEL_98e43c36676f4960aef574b44ba75152",
            "value": 642
          }
        },
        "214d31a4422f4099941214f9c69da114": {
          "model_module": "@jupyter-widgets/controls",
          "model_module_version": "1.5.0",
          "model_name": "FloatProgressModel",
          "state": {
            "_dom_classes": [],
            "_model_module": "@jupyter-widgets/controls",
            "_model_module_version": "1.5.0",
            "_model_name": "FloatProgressModel",
            "_view_count": null,
            "_view_module": "@jupyter-widgets/controls",
            "_view_module_version": "1.5.0",
            "_view_name": "ProgressView",
            "bar_style": "success",
            "description": "",
            "description_tooltip": null,
            "layout": "IPY_MODEL_6f572c4167b3498da0036aa3664901ff",
            "max": 112,
            "min": 0,
            "orientation": "horizontal",
            "style": "IPY_MODEL_ed621055f49049b0ae98cf5a49c3c676",
            "value": 112
          }
        },
        "22f9c41f55bf487190814791bad40ab8": {
          "model_module": "@jupyter-widgets/controls",
          "model_module_version": "1.5.0",
          "model_name": "FloatProgressModel",
          "state": {
            "_dom_classes": [],
            "_model_module": "@jupyter-widgets/controls",
            "_model_module_version": "1.5.0",
            "_model_name": "FloatProgressModel",
            "_view_count": null,
            "_view_module": "@jupyter-widgets/controls",
            "_view_module_version": "1.5.0",
            "_view_name": "ProgressView",
            "bar_style": "success",
            "description": "",
            "description_tooltip": null,
            "layout": "IPY_MODEL_615aa0a3eea345929581f42c79b8067d",
            "max": 714355318,
            "min": 0,
            "orientation": "horizontal",
            "style": "IPY_MODEL_285d49c58d664c87a860edd26527db98",
            "value": 714355318
          }
        },
        "23c7fada5b044d838adfcf692ada6427": {
          "model_module": "@jupyter-widgets/controls",
          "model_module_version": "1.5.0",
          "model_name": "FloatProgressModel",
          "state": {
            "_dom_classes": [],
            "_model_module": "@jupyter-widgets/controls",
            "_model_module_version": "1.5.0",
            "_model_name": "FloatProgressModel",
            "_view_count": null,
            "_view_module": "@jupyter-widgets/controls",
            "_view_module_version": "1.5.0",
            "_view_name": "ProgressView",
            "bar_style": "success",
            "description": "",
            "description_tooltip": null,
            "layout": "IPY_MODEL_3d1c067f31ac47bfb113a65764779bc8",
            "max": 1600,
            "min": 0,
            "orientation": "horizontal",
            "style": "IPY_MODEL_16c92089f10441f8980e53697cc1771b",
            "value": 1600
          }
        },
        "285d49c58d664c87a860edd26527db98": {
          "model_module": "@jupyter-widgets/controls",
          "model_module_version": "1.5.0",
          "model_name": "ProgressStyleModel",
          "state": {
            "_model_module": "@jupyter-widgets/controls",
            "_model_module_version": "1.5.0",
            "_model_name": "ProgressStyleModel",
            "_view_count": null,
            "_view_module": "@jupyter-widgets/base",
            "_view_module_version": "1.2.0",
            "_view_name": "StyleView",
            "bar_color": null,
            "description_width": ""
          }
        },
        "2ae27e0fec7b45269b8e4a3059d804bf": {
          "model_module": "@jupyter-widgets/base",
          "model_module_version": "1.2.0",
          "model_name": "LayoutModel",
          "state": {
            "_model_module": "@jupyter-widgets/base",
            "_model_module_version": "1.2.0",
            "_model_name": "LayoutModel",
            "_view_count": null,
            "_view_module": "@jupyter-widgets/base",
            "_view_module_version": "1.2.0",
            "_view_name": "LayoutView",
            "align_content": null,
            "align_items": null,
            "align_self": null,
            "border": null,
            "bottom": null,
            "display": null,
            "flex": null,
            "flex_flow": null,
            "grid_area": null,
            "grid_auto_columns": null,
            "grid_auto_flow": null,
            "grid_auto_rows": null,
            "grid_column": null,
            "grid_gap": null,
            "grid_row": null,
            "grid_template_areas": null,
            "grid_template_columns": null,
            "grid_template_rows": null,
            "height": null,
            "justify_content": null,
            "justify_items": null,
            "left": null,
            "margin": null,
            "max_height": null,
            "max_width": null,
            "min_height": null,
            "min_width": null,
            "object_fit": null,
            "object_position": null,
            "order": null,
            "overflow": null,
            "overflow_x": null,
            "overflow_y": null,
            "padding": null,
            "right": null,
            "top": null,
            "visibility": null,
            "width": null
          }
        },
        "2fcf04ae74124502bd0943c96018abf4": {
          "model_module": "@jupyter-widgets/controls",
          "model_module_version": "1.5.0",
          "model_name": "HTMLModel",
          "state": {
            "_dom_classes": [],
            "_model_module": "@jupyter-widgets/controls",
            "_model_module_version": "1.5.0",
            "_model_name": "HTMLModel",
            "_view_count": null,
            "_view_module": "@jupyter-widgets/controls",
            "_view_module_version": "1.5.0",
            "_view_name": "HTMLView",
            "description": "",
            "description_tooltip": null,
            "layout": "IPY_MODEL_d48ed176af364fc6a262b3570d1aaa06",
            "placeholder": "​",
            "style": "IPY_MODEL_b61744f28e3e4a7bbad9402e408107e9",
            "value": " 1.57M/1.57M [00:00&lt;00:00, 2.91MB/s]"
          }
        },
        "30b0474a0aef4745ae44d2c1e7a49207": {
          "model_module": "@jupyter-widgets/controls",
          "model_module_version": "1.5.0",
          "model_name": "FloatProgressModel",
          "state": {
            "_dom_classes": [],
            "_model_module": "@jupyter-widgets/controls",
            "_model_module_version": "1.5.0",
            "_model_name": "FloatProgressModel",
            "_view_count": null,
            "_view_module": "@jupyter-widgets/controls",
            "_view_module_version": "1.5.0",
            "_view_name": "ProgressView",
            "bar_style": "success",
            "description": "",
            "description_tooltip": null,
            "layout": "IPY_MODEL_f437228d863949a7b46d08e9f17ec8c0",
            "max": 1649718,
            "min": 0,
            "orientation": "horizontal",
            "style": "IPY_MODEL_d132dd4a805d477782f6357be69456b6",
            "value": 1649718
          }
        },
        "349039bbff904662bcda07716250c9a8": {
          "model_module": "@jupyter-widgets/base",
          "model_module_version": "1.2.0",
          "model_name": "LayoutModel",
          "state": {
            "_model_module": "@jupyter-widgets/base",
            "_model_module_version": "1.2.0",
            "_model_name": "LayoutModel",
            "_view_count": null,
            "_view_module": "@jupyter-widgets/base",
            "_view_module_version": "1.2.0",
            "_view_name": "LayoutView",
            "align_content": null,
            "align_items": null,
            "align_self": null,
            "border": null,
            "bottom": null,
            "display": null,
            "flex": null,
            "flex_flow": null,
            "grid_area": null,
            "grid_auto_columns": null,
            "grid_auto_flow": null,
            "grid_auto_rows": null,
            "grid_column": null,
            "grid_gap": null,
            "grid_row": null,
            "grid_template_areas": null,
            "grid_template_columns": null,
            "grid_template_rows": null,
            "height": null,
            "justify_content": null,
            "justify_items": null,
            "left": null,
            "margin": null,
            "max_height": null,
            "max_width": null,
            "min_height": null,
            "min_width": null,
            "object_fit": null,
            "object_position": null,
            "order": null,
            "overflow": null,
            "overflow_x": null,
            "overflow_y": null,
            "padding": null,
            "right": null,
            "top": null,
            "visibility": null,
            "width": null
          }
        },
        "3bef931759eb4ebe91faba689a646c1b": {
          "model_module": "@jupyter-widgets/base",
          "model_module_version": "1.2.0",
          "model_name": "LayoutModel",
          "state": {
            "_model_module": "@jupyter-widgets/base",
            "_model_module_version": "1.2.0",
            "_model_name": "LayoutModel",
            "_view_count": null,
            "_view_module": "@jupyter-widgets/base",
            "_view_module_version": "1.2.0",
            "_view_name": "LayoutView",
            "align_content": null,
            "align_items": null,
            "align_self": null,
            "border": null,
            "bottom": null,
            "display": null,
            "flex": null,
            "flex_flow": null,
            "grid_area": null,
            "grid_auto_columns": null,
            "grid_auto_flow": null,
            "grid_auto_rows": null,
            "grid_column": null,
            "grid_gap": null,
            "grid_row": null,
            "grid_template_areas": null,
            "grid_template_columns": null,
            "grid_template_rows": null,
            "height": null,
            "justify_content": null,
            "justify_items": null,
            "left": null,
            "margin": null,
            "max_height": null,
            "max_width": null,
            "min_height": null,
            "min_width": null,
            "object_fit": null,
            "object_position": null,
            "order": null,
            "overflow": null,
            "overflow_x": null,
            "overflow_y": null,
            "padding": null,
            "right": null,
            "top": null,
            "visibility": null,
            "width": null
          }
        },
        "3d1c067f31ac47bfb113a65764779bc8": {
          "model_module": "@jupyter-widgets/base",
          "model_module_version": "1.2.0",
          "model_name": "LayoutModel",
          "state": {
            "_model_module": "@jupyter-widgets/base",
            "_model_module_version": "1.2.0",
            "_model_name": "LayoutModel",
            "_view_count": null,
            "_view_module": "@jupyter-widgets/base",
            "_view_module_version": "1.2.0",
            "_view_name": "LayoutView",
            "align_content": null,
            "align_items": null,
            "align_self": null,
            "border": null,
            "bottom": null,
            "display": null,
            "flex": null,
            "flex_flow": null,
            "grid_area": null,
            "grid_auto_columns": null,
            "grid_auto_flow": null,
            "grid_auto_rows": null,
            "grid_column": null,
            "grid_gap": null,
            "grid_row": null,
            "grid_template_areas": null,
            "grid_template_columns": null,
            "grid_template_rows": null,
            "height": null,
            "justify_content": null,
            "justify_items": null,
            "left": null,
            "margin": null,
            "max_height": null,
            "max_width": null,
            "min_height": null,
            "min_width": null,
            "object_fit": null,
            "object_position": null,
            "order": null,
            "overflow": null,
            "overflow_x": null,
            "overflow_y": null,
            "padding": null,
            "right": null,
            "top": null,
            "visibility": null,
            "width": null
          }
        },
        "452a0a8461d04072a241a925ea90d3d5": {
          "model_module": "@jupyter-widgets/controls",
          "model_module_version": "1.5.0",
          "model_name": "HTMLModel",
          "state": {
            "_dom_classes": [],
            "_model_module": "@jupyter-widgets/controls",
            "_model_module_version": "1.5.0",
            "_model_name": "HTMLModel",
            "_view_count": null,
            "_view_module": "@jupyter-widgets/controls",
            "_view_module_version": "1.5.0",
            "_view_name": "HTMLView",
            "description": "",
            "description_tooltip": null,
            "layout": "IPY_MODEL_4a65dcb2e9074f5992069b012afcfd44",
            "placeholder": "​",
            "style": "IPY_MODEL_7a7974e9c95d4c92b04f19d7901c12d1",
            "value": " 681M/681M [00:26&lt;00:00, 37.1MB/s]"
          }
        },
        "4a65dcb2e9074f5992069b012afcfd44": {
          "model_module": "@jupyter-widgets/base",
          "model_module_version": "1.2.0",
          "model_name": "LayoutModel",
          "state": {
            "_model_module": "@jupyter-widgets/base",
            "_model_module_version": "1.2.0",
            "_model_name": "LayoutModel",
            "_view_count": null,
            "_view_module": "@jupyter-widgets/base",
            "_view_module_version": "1.2.0",
            "_view_name": "LayoutView",
            "align_content": null,
            "align_items": null,
            "align_self": null,
            "border": null,
            "bottom": null,
            "display": null,
            "flex": null,
            "flex_flow": null,
            "grid_area": null,
            "grid_auto_columns": null,
            "grid_auto_flow": null,
            "grid_auto_rows": null,
            "grid_column": null,
            "grid_gap": null,
            "grid_row": null,
            "grid_template_areas": null,
            "grid_template_columns": null,
            "grid_template_rows": null,
            "height": null,
            "justify_content": null,
            "justify_items": null,
            "left": null,
            "margin": null,
            "max_height": null,
            "max_width": null,
            "min_height": null,
            "min_width": null,
            "object_fit": null,
            "object_position": null,
            "order": null,
            "overflow": null,
            "overflow_x": null,
            "overflow_y": null,
            "padding": null,
            "right": null,
            "top": null,
            "visibility": null,
            "width": null
          }
        },
        "4c36f8e12b85413eb451bb45602ee72f": {
          "model_module": "@jupyter-widgets/controls",
          "model_module_version": "1.5.0",
          "model_name": "DescriptionStyleModel",
          "state": {
            "_model_module": "@jupyter-widgets/controls",
            "_model_module_version": "1.5.0",
            "_model_name": "DescriptionStyleModel",
            "_view_count": null,
            "_view_module": "@jupyter-widgets/base",
            "_view_module_version": "1.2.0",
            "_view_name": "StyleView",
            "description_width": ""
          }
        },
        "4d9338db826b40df9fe8e5d466fff96b": {
          "model_module": "@jupyter-widgets/base",
          "model_module_version": "1.2.0",
          "model_name": "LayoutModel",
          "state": {
            "_model_module": "@jupyter-widgets/base",
            "_model_module_version": "1.2.0",
            "_model_name": "LayoutModel",
            "_view_count": null,
            "_view_module": "@jupyter-widgets/base",
            "_view_module_version": "1.2.0",
            "_view_name": "LayoutView",
            "align_content": null,
            "align_items": null,
            "align_self": null,
            "border": null,
            "bottom": null,
            "display": null,
            "flex": null,
            "flex_flow": null,
            "grid_area": null,
            "grid_auto_columns": null,
            "grid_auto_flow": null,
            "grid_auto_rows": null,
            "grid_column": null,
            "grid_gap": null,
            "grid_row": null,
            "grid_template_areas": null,
            "grid_template_columns": null,
            "grid_template_rows": null,
            "height": null,
            "justify_content": null,
            "justify_items": null,
            "left": null,
            "margin": null,
            "max_height": null,
            "max_width": null,
            "min_height": null,
            "min_width": null,
            "object_fit": null,
            "object_position": null,
            "order": null,
            "overflow": null,
            "overflow_x": null,
            "overflow_y": null,
            "padding": null,
            "right": null,
            "top": null,
            "visibility": null,
            "width": null
          }
        },
        "4f89cd2912d84d768db1c07f0835011c": {
          "model_module": "@jupyter-widgets/controls",
          "model_module_version": "1.5.0",
          "model_name": "DescriptionStyleModel",
          "state": {
            "_model_module": "@jupyter-widgets/controls",
            "_model_module_version": "1.5.0",
            "_model_name": "DescriptionStyleModel",
            "_view_count": null,
            "_view_module": "@jupyter-widgets/base",
            "_view_module_version": "1.2.0",
            "_view_name": "StyleView",
            "description_width": ""
          }
        },
        "5b13a0e6265e4679b235a3e72d8f665e": {
          "model_module": "@jupyter-widgets/base",
          "model_module_version": "1.2.0",
          "model_name": "LayoutModel",
          "state": {
            "_model_module": "@jupyter-widgets/base",
            "_model_module_version": "1.2.0",
            "_model_name": "LayoutModel",
            "_view_count": null,
            "_view_module": "@jupyter-widgets/base",
            "_view_module_version": "1.2.0",
            "_view_name": "LayoutView",
            "align_content": null,
            "align_items": null,
            "align_self": null,
            "border": null,
            "bottom": null,
            "display": null,
            "flex": null,
            "flex_flow": null,
            "grid_area": null,
            "grid_auto_columns": null,
            "grid_auto_flow": null,
            "grid_auto_rows": null,
            "grid_column": null,
            "grid_gap": null,
            "grid_row": null,
            "grid_template_areas": null,
            "grid_template_columns": null,
            "grid_template_rows": null,
            "height": null,
            "justify_content": null,
            "justify_items": null,
            "left": null,
            "margin": null,
            "max_height": null,
            "max_width": null,
            "min_height": null,
            "min_width": null,
            "object_fit": null,
            "object_position": null,
            "order": null,
            "overflow": null,
            "overflow_x": null,
            "overflow_y": null,
            "padding": null,
            "right": null,
            "top": null,
            "visibility": null,
            "width": null
          }
        },
        "615aa0a3eea345929581f42c79b8067d": {
          "model_module": "@jupyter-widgets/base",
          "model_module_version": "1.2.0",
          "model_name": "LayoutModel",
          "state": {
            "_model_module": "@jupyter-widgets/base",
            "_model_module_version": "1.2.0",
            "_model_name": "LayoutModel",
            "_view_count": null,
            "_view_module": "@jupyter-widgets/base",
            "_view_module_version": "1.2.0",
            "_view_name": "LayoutView",
            "align_content": null,
            "align_items": null,
            "align_self": null,
            "border": null,
            "bottom": null,
            "display": null,
            "flex": null,
            "flex_flow": null,
            "grid_area": null,
            "grid_auto_columns": null,
            "grid_auto_flow": null,
            "grid_auto_rows": null,
            "grid_column": null,
            "grid_gap": null,
            "grid_row": null,
            "grid_template_areas": null,
            "grid_template_columns": null,
            "grid_template_rows": null,
            "height": null,
            "justify_content": null,
            "justify_items": null,
            "left": null,
            "margin": null,
            "max_height": null,
            "max_width": null,
            "min_height": null,
            "min_width": null,
            "object_fit": null,
            "object_position": null,
            "order": null,
            "overflow": null,
            "overflow_x": null,
            "overflow_y": null,
            "padding": null,
            "right": null,
            "top": null,
            "visibility": null,
            "width": null
          }
        },
        "619dd3cb063c4aab942433dcf0eea82b": {
          "model_module": "@jupyter-widgets/base",
          "model_module_version": "1.2.0",
          "model_name": "LayoutModel",
          "state": {
            "_model_module": "@jupyter-widgets/base",
            "_model_module_version": "1.2.0",
            "_model_name": "LayoutModel",
            "_view_count": null,
            "_view_module": "@jupyter-widgets/base",
            "_view_module_version": "1.2.0",
            "_view_name": "LayoutView",
            "align_content": null,
            "align_items": null,
            "align_self": null,
            "border": null,
            "bottom": null,
            "display": null,
            "flex": null,
            "flex_flow": null,
            "grid_area": null,
            "grid_auto_columns": null,
            "grid_auto_flow": null,
            "grid_auto_rows": null,
            "grid_column": null,
            "grid_gap": null,
            "grid_row": null,
            "grid_template_areas": null,
            "grid_template_columns": null,
            "grid_template_rows": null,
            "height": null,
            "justify_content": null,
            "justify_items": null,
            "left": null,
            "margin": null,
            "max_height": null,
            "max_width": null,
            "min_height": null,
            "min_width": null,
            "object_fit": null,
            "object_position": null,
            "order": null,
            "overflow": null,
            "overflow_x": null,
            "overflow_y": null,
            "padding": null,
            "right": null,
            "top": null,
            "visibility": null,
            "width": null
          }
        },
        "661af47f89a74b4bab9bbf1364a01b11": {
          "model_module": "@jupyter-widgets/base",
          "model_module_version": "1.2.0",
          "model_name": "LayoutModel",
          "state": {
            "_model_module": "@jupyter-widgets/base",
            "_model_module_version": "1.2.0",
            "_model_name": "LayoutModel",
            "_view_count": null,
            "_view_module": "@jupyter-widgets/base",
            "_view_module_version": "1.2.0",
            "_view_name": "LayoutView",
            "align_content": null,
            "align_items": null,
            "align_self": null,
            "border": null,
            "bottom": null,
            "display": null,
            "flex": null,
            "flex_flow": null,
            "grid_area": null,
            "grid_auto_columns": null,
            "grid_auto_flow": null,
            "grid_auto_rows": null,
            "grid_column": null,
            "grid_gap": null,
            "grid_row": null,
            "grid_template_areas": null,
            "grid_template_columns": null,
            "grid_template_rows": null,
            "height": null,
            "justify_content": null,
            "justify_items": null,
            "left": null,
            "margin": null,
            "max_height": null,
            "max_width": null,
            "min_height": null,
            "min_width": null,
            "object_fit": null,
            "object_position": null,
            "order": null,
            "overflow": null,
            "overflow_x": null,
            "overflow_y": null,
            "padding": null,
            "right": null,
            "top": null,
            "visibility": null,
            "width": null
          }
        },
        "6959957b761d420e91c085ebaf7d7878": {
          "model_module": "@jupyter-widgets/controls",
          "model_module_version": "1.5.0",
          "model_name": "DescriptionStyleModel",
          "state": {
            "_model_module": "@jupyter-widgets/controls",
            "_model_module_version": "1.5.0",
            "_model_name": "DescriptionStyleModel",
            "_view_count": null,
            "_view_module": "@jupyter-widgets/base",
            "_view_module_version": "1.2.0",
            "_view_name": "StyleView",
            "description_width": ""
          }
        },
        "6f572c4167b3498da0036aa3664901ff": {
          "model_module": "@jupyter-widgets/base",
          "model_module_version": "1.2.0",
          "model_name": "LayoutModel",
          "state": {
            "_model_module": "@jupyter-widgets/base",
            "_model_module_version": "1.2.0",
            "_model_name": "LayoutModel",
            "_view_count": null,
            "_view_module": "@jupyter-widgets/base",
            "_view_module_version": "1.2.0",
            "_view_name": "LayoutView",
            "align_content": null,
            "align_items": null,
            "align_self": null,
            "border": null,
            "bottom": null,
            "display": null,
            "flex": null,
            "flex_flow": null,
            "grid_area": null,
            "grid_auto_columns": null,
            "grid_auto_flow": null,
            "grid_auto_rows": null,
            "grid_column": null,
            "grid_gap": null,
            "grid_row": null,
            "grid_template_areas": null,
            "grid_template_columns": null,
            "grid_template_rows": null,
            "height": null,
            "justify_content": null,
            "justify_items": null,
            "left": null,
            "margin": null,
            "max_height": null,
            "max_width": null,
            "min_height": null,
            "min_width": null,
            "object_fit": null,
            "object_position": null,
            "order": null,
            "overflow": null,
            "overflow_x": null,
            "overflow_y": null,
            "padding": null,
            "right": null,
            "top": null,
            "visibility": null,
            "width": null
          }
        },
        "77c3fd2e7ff7404e9f6a324f021e7213": {
          "model_module": "@jupyter-widgets/base",
          "model_module_version": "1.2.0",
          "model_name": "LayoutModel",
          "state": {
            "_model_module": "@jupyter-widgets/base",
            "_model_module_version": "1.2.0",
            "_model_name": "LayoutModel",
            "_view_count": null,
            "_view_module": "@jupyter-widgets/base",
            "_view_module_version": "1.2.0",
            "_view_name": "LayoutView",
            "align_content": null,
            "align_items": null,
            "align_self": null,
            "border": null,
            "bottom": null,
            "display": null,
            "flex": null,
            "flex_flow": null,
            "grid_area": null,
            "grid_auto_columns": null,
            "grid_auto_flow": null,
            "grid_auto_rows": null,
            "grid_column": null,
            "grid_gap": null,
            "grid_row": null,
            "grid_template_areas": null,
            "grid_template_columns": null,
            "grid_template_rows": null,
            "height": null,
            "justify_content": null,
            "justify_items": null,
            "left": null,
            "margin": null,
            "max_height": null,
            "max_width": null,
            "min_height": null,
            "min_width": null,
            "object_fit": null,
            "object_position": null,
            "order": null,
            "overflow": null,
            "overflow_x": null,
            "overflow_y": null,
            "padding": null,
            "right": null,
            "top": null,
            "visibility": null,
            "width": null
          }
        },
        "7a7974e9c95d4c92b04f19d7901c12d1": {
          "model_module": "@jupyter-widgets/controls",
          "model_module_version": "1.5.0",
          "model_name": "DescriptionStyleModel",
          "state": {
            "_model_module": "@jupyter-widgets/controls",
            "_model_module_version": "1.5.0",
            "_model_name": "DescriptionStyleModel",
            "_view_count": null,
            "_view_module": "@jupyter-widgets/base",
            "_view_module_version": "1.2.0",
            "_view_name": "StyleView",
            "description_width": ""
          }
        },
        "7dbb3acd07834fa3ad41814429ffd8b0": {
          "model_module": "@jupyter-widgets/controls",
          "model_module_version": "1.5.0",
          "model_name": "HBoxModel",
          "state": {
            "_dom_classes": [],
            "_model_module": "@jupyter-widgets/controls",
            "_model_module_version": "1.5.0",
            "_model_name": "HBoxModel",
            "_view_count": null,
            "_view_module": "@jupyter-widgets/controls",
            "_view_module_version": "1.5.0",
            "_view_name": "HBoxView",
            "box_style": "",
            "children": [
              "IPY_MODEL_f3ba4f23551741f692dda090c660d646",
              "IPY_MODEL_30b0474a0aef4745ae44d2c1e7a49207",
              "IPY_MODEL_2fcf04ae74124502bd0943c96018abf4"
            ],
            "layout": "IPY_MODEL_a37119cbfb024c30a940d950ac7bf0ed"
          }
        },
        "7e15566c3859466ab26f469bbd297c7c": {
          "model_module": "@jupyter-widgets/controls",
          "model_module_version": "1.5.0",
          "model_name": "HTMLModel",
          "state": {
            "_dom_classes": [],
            "_model_module": "@jupyter-widgets/controls",
            "_model_module_version": "1.5.0",
            "_model_name": "HTMLModel",
            "_view_count": null,
            "_view_module": "@jupyter-widgets/controls",
            "_view_module_version": "1.5.0",
            "_view_name": "HTMLView",
            "description": "",
            "description_tooltip": null,
            "layout": "IPY_MODEL_619dd3cb063c4aab942433dcf0eea82b",
            "placeholder": "​",
            "style": "IPY_MODEL_a49c9972864140adac79261e35ec485f",
            "value": " 642/642 [00:00&lt;00:00, 12.3kB/s]"
          }
        },
        "86d39cd97a14415fb43500cd3ed7374e": {
          "model_module": "@jupyter-widgets/controls",
          "model_module_version": "1.5.0",
          "model_name": "HTMLModel",
          "state": {
            "_dom_classes": [],
            "_model_module": "@jupyter-widgets/controls",
            "_model_module_version": "1.5.0",
            "_model_name": "HTMLModel",
            "_view_count": null,
            "_view_module": "@jupyter-widgets/controls",
            "_view_module_version": "1.5.0",
            "_view_name": "HTMLView",
            "description": "",
            "description_tooltip": null,
            "layout": "IPY_MODEL_e730f3c7a9124c2da454a85ad848be2d",
            "placeholder": "​",
            "style": "IPY_MODEL_c0d12dca39aa4b54b981b3a1450e618d",
            "value": "Downloading: 100%"
          }
        },
        "916c7f33c6ad4a8eba8819d5c3208cd8": {
          "model_module": "@jupyter-widgets/base",
          "model_module_version": "1.2.0",
          "model_name": "LayoutModel",
          "state": {
            "_model_module": "@jupyter-widgets/base",
            "_model_module_version": "1.2.0",
            "_model_name": "LayoutModel",
            "_view_count": null,
            "_view_module": "@jupyter-widgets/base",
            "_view_module_version": "1.2.0",
            "_view_name": "LayoutView",
            "align_content": null,
            "align_items": null,
            "align_self": null,
            "border": null,
            "bottom": null,
            "display": null,
            "flex": null,
            "flex_flow": null,
            "grid_area": null,
            "grid_auto_columns": null,
            "grid_auto_flow": null,
            "grid_auto_rows": null,
            "grid_column": null,
            "grid_gap": null,
            "grid_row": null,
            "grid_template_areas": null,
            "grid_template_columns": null,
            "grid_template_rows": null,
            "height": null,
            "justify_content": null,
            "justify_items": null,
            "left": null,
            "margin": null,
            "max_height": null,
            "max_width": null,
            "min_height": null,
            "min_width": null,
            "object_fit": null,
            "object_position": null,
            "order": null,
            "overflow": null,
            "overflow_x": null,
            "overflow_y": null,
            "padding": null,
            "right": null,
            "top": null,
            "visibility": null,
            "width": null
          }
        },
        "98e43c36676f4960aef574b44ba75152": {
          "model_module": "@jupyter-widgets/controls",
          "model_module_version": "1.5.0",
          "model_name": "ProgressStyleModel",
          "state": {
            "_model_module": "@jupyter-widgets/controls",
            "_model_module_version": "1.5.0",
            "_model_name": "ProgressStyleModel",
            "_view_count": null,
            "_view_module": "@jupyter-widgets/base",
            "_view_module_version": "1.2.0",
            "_view_name": "StyleView",
            "bar_color": null,
            "description_width": ""
          }
        },
        "a06cc442f6e14b4bb18c5e27f6fc0e55": {
          "model_module": "@jupyter-widgets/controls",
          "model_module_version": "1.5.0",
          "model_name": "FloatProgressModel",
          "state": {
            "_dom_classes": [],
            "_model_module": "@jupyter-widgets/controls",
            "_model_module_version": "1.5.0",
            "_model_name": "FloatProgressModel",
            "_view_count": null,
            "_view_module": "@jupyter-widgets/controls",
            "_view_module_version": "1.5.0",
            "_view_name": "ProgressView",
            "bar_style": "success",
            "description": "",
            "description_tooltip": null,
            "layout": "IPY_MODEL_f5e8431635854d538c925275b1604d4e",
            "max": 24,
            "min": 0,
            "orientation": "horizontal",
            "style": "IPY_MODEL_c1ccd6ec071846e28166e404a67b82c6",
            "value": 24
          }
        },
        "a37119cbfb024c30a940d950ac7bf0ed": {
          "model_module": "@jupyter-widgets/base",
          "model_module_version": "1.2.0",
          "model_name": "LayoutModel",
          "state": {
            "_model_module": "@jupyter-widgets/base",
            "_model_module_version": "1.2.0",
            "_model_name": "LayoutModel",
            "_view_count": null,
            "_view_module": "@jupyter-widgets/base",
            "_view_module_version": "1.2.0",
            "_view_name": "LayoutView",
            "align_content": null,
            "align_items": null,
            "align_self": null,
            "border": null,
            "bottom": null,
            "display": null,
            "flex": null,
            "flex_flow": null,
            "grid_area": null,
            "grid_auto_columns": null,
            "grid_auto_flow": null,
            "grid_auto_rows": null,
            "grid_column": null,
            "grid_gap": null,
            "grid_row": null,
            "grid_template_areas": null,
            "grid_template_columns": null,
            "grid_template_rows": null,
            "height": null,
            "justify_content": null,
            "justify_items": null,
            "left": null,
            "margin": null,
            "max_height": null,
            "max_width": null,
            "min_height": null,
            "min_width": null,
            "object_fit": null,
            "object_position": null,
            "order": null,
            "overflow": null,
            "overflow_x": null,
            "overflow_y": null,
            "padding": null,
            "right": null,
            "top": null,
            "visibility": null,
            "width": null
          }
        },
        "a496bd977de64c168b3c0c43ba532c4a": {
          "model_module": "@jupyter-widgets/controls",
          "model_module_version": "1.5.0",
          "model_name": "DescriptionStyleModel",
          "state": {
            "_model_module": "@jupyter-widgets/controls",
            "_model_module_version": "1.5.0",
            "_model_name": "DescriptionStyleModel",
            "_view_count": null,
            "_view_module": "@jupyter-widgets/base",
            "_view_module_version": "1.2.0",
            "_view_name": "StyleView",
            "description_width": ""
          }
        },
        "a49c9972864140adac79261e35ec485f": {
          "model_module": "@jupyter-widgets/controls",
          "model_module_version": "1.5.0",
          "model_name": "DescriptionStyleModel",
          "state": {
            "_model_module": "@jupyter-widgets/controls",
            "_model_module_version": "1.5.0",
            "_model_name": "DescriptionStyleModel",
            "_view_count": null,
            "_view_module": "@jupyter-widgets/base",
            "_view_module_version": "1.2.0",
            "_view_name": "StyleView",
            "description_width": ""
          }
        },
        "a6968c77602148f2a9766ad0c35ed593": {
          "model_module": "@jupyter-widgets/controls",
          "model_module_version": "1.5.0",
          "model_name": "HBoxModel",
          "state": {
            "_dom_classes": [],
            "_model_module": "@jupyter-widgets/controls",
            "_model_module_version": "1.5.0",
            "_model_name": "HBoxModel",
            "_view_count": null,
            "_view_module": "@jupyter-widgets/controls",
            "_view_module_version": "1.5.0",
            "_view_name": "HBoxView",
            "box_style": "",
            "children": [
              "IPY_MODEL_f79dbe6a690440209ca0284ee1013ef6",
              "IPY_MODEL_22f9c41f55bf487190814791bad40ab8",
              "IPY_MODEL_452a0a8461d04072a241a925ea90d3d5"
            ],
            "layout": "IPY_MODEL_fba75210e5cf4d51ad7985210245753e"
          }
        },
        "a8ccc393abd14e6da93267d3a50bba51": {
          "model_module": "@jupyter-widgets/controls",
          "model_module_version": "1.5.0",
          "model_name": "HTMLModel",
          "state": {
            "_dom_classes": [],
            "_model_module": "@jupyter-widgets/controls",
            "_model_module_version": "1.5.0",
            "_model_name": "HTMLModel",
            "_view_count": null,
            "_view_module": "@jupyter-widgets/controls",
            "_view_module_version": "1.5.0",
            "_view_name": "HTMLView",
            "description": "",
            "description_tooltip": null,
            "layout": "IPY_MODEL_4d9338db826b40df9fe8e5d466fff96b",
            "placeholder": "​",
            "style": "IPY_MODEL_4f89cd2912d84d768db1c07f0835011c",
            "value": " 24.0/24.0 [00:00&lt;00:00, 374B/s]"
          }
        },
        "abdf7bed26784271a892b0d40ed0a76e": {
          "model_module": "@jupyter-widgets/base",
          "model_module_version": "1.2.0",
          "model_name": "LayoutModel",
          "state": {
            "_model_module": "@jupyter-widgets/base",
            "_model_module_version": "1.2.0",
            "_model_name": "LayoutModel",
            "_view_count": null,
            "_view_module": "@jupyter-widgets/base",
            "_view_module_version": "1.2.0",
            "_view_name": "LayoutView",
            "align_content": null,
            "align_items": null,
            "align_self": null,
            "border": null,
            "bottom": null,
            "display": null,
            "flex": null,
            "flex_flow": null,
            "grid_area": null,
            "grid_auto_columns": null,
            "grid_auto_flow": null,
            "grid_auto_rows": null,
            "grid_column": null,
            "grid_gap": null,
            "grid_row": null,
            "grid_template_areas": null,
            "grid_template_columns": null,
            "grid_template_rows": null,
            "height": null,
            "justify_content": null,
            "justify_items": null,
            "left": null,
            "margin": null,
            "max_height": null,
            "max_width": null,
            "min_height": null,
            "min_width": null,
            "object_fit": null,
            "object_position": null,
            "order": null,
            "overflow": null,
            "overflow_x": null,
            "overflow_y": null,
            "padding": null,
            "right": null,
            "top": null,
            "visibility": null,
            "width": null
          }
        },
        "af4cac1832b14cff8145d756c2f5d740": {
          "model_module": "@jupyter-widgets/controls",
          "model_module_version": "1.5.0",
          "model_name": "DescriptionStyleModel",
          "state": {
            "_model_module": "@jupyter-widgets/controls",
            "_model_module_version": "1.5.0",
            "_model_name": "DescriptionStyleModel",
            "_view_count": null,
            "_view_module": "@jupyter-widgets/base",
            "_view_module_version": "1.2.0",
            "_view_name": "StyleView",
            "description_width": ""
          }
        },
        "af9b2d3d22f04dd3a96adf05761c9b56": {
          "model_module": "@jupyter-widgets/controls",
          "model_module_version": "1.5.0",
          "model_name": "HTMLModel",
          "state": {
            "_dom_classes": [],
            "_model_module": "@jupyter-widgets/controls",
            "_model_module_version": "1.5.0",
            "_model_name": "HTMLModel",
            "_view_count": null,
            "_view_module": "@jupyter-widgets/controls",
            "_view_module_version": "1.5.0",
            "_view_name": "HTMLView",
            "description": "",
            "description_tooltip": null,
            "layout": "IPY_MODEL_da9ddcae98a5442a8d677f9fd943dce8",
            "placeholder": "​",
            "style": "IPY_MODEL_da555a6cee274f0ea82762d91ea48fc6",
            "value": " 112/112 [00:00&lt;00:00, 2.82kB/s]"
          }
        },
        "b5fb746c46ab4c0e827f1f0cf42771e7": {
          "model_module": "@jupyter-widgets/controls",
          "model_module_version": "1.5.0",
          "model_name": "HBoxModel",
          "state": {
            "_dom_classes": [],
            "_model_module": "@jupyter-widgets/controls",
            "_model_module_version": "1.5.0",
            "_model_name": "HBoxModel",
            "_view_count": null,
            "_view_module": "@jupyter-widgets/controls",
            "_view_module_version": "1.5.0",
            "_view_name": "HBoxView",
            "box_style": "",
            "children": [
              "IPY_MODEL_19be090732a14b2899cab691941932b1",
              "IPY_MODEL_214d31a4422f4099941214f9c69da114",
              "IPY_MODEL_af9b2d3d22f04dd3a96adf05761c9b56"
            ],
            "layout": "IPY_MODEL_661af47f89a74b4bab9bbf1364a01b11"
          }
        },
        "b61744f28e3e4a7bbad9402e408107e9": {
          "model_module": "@jupyter-widgets/controls",
          "model_module_version": "1.5.0",
          "model_name": "DescriptionStyleModel",
          "state": {
            "_model_module": "@jupyter-widgets/controls",
            "_model_module_version": "1.5.0",
            "_model_name": "DescriptionStyleModel",
            "_view_count": null,
            "_view_module": "@jupyter-widgets/base",
            "_view_module_version": "1.2.0",
            "_view_name": "StyleView",
            "description_width": ""
          }
        },
        "c0d12dca39aa4b54b981b3a1450e618d": {
          "model_module": "@jupyter-widgets/controls",
          "model_module_version": "1.5.0",
          "model_name": "DescriptionStyleModel",
          "state": {
            "_model_module": "@jupyter-widgets/controls",
            "_model_module_version": "1.5.0",
            "_model_name": "DescriptionStyleModel",
            "_view_count": null,
            "_view_module": "@jupyter-widgets/base",
            "_view_module_version": "1.2.0",
            "_view_name": "StyleView",
            "description_width": ""
          }
        },
        "c1079042ca4c4c5eb922496ed0c1347a": {
          "model_module": "@jupyter-widgets/base",
          "model_module_version": "1.2.0",
          "model_name": "LayoutModel",
          "state": {
            "_model_module": "@jupyter-widgets/base",
            "_model_module_version": "1.2.0",
            "_model_name": "LayoutModel",
            "_view_count": null,
            "_view_module": "@jupyter-widgets/base",
            "_view_module_version": "1.2.0",
            "_view_name": "LayoutView",
            "align_content": null,
            "align_items": null,
            "align_self": null,
            "border": null,
            "bottom": null,
            "display": null,
            "flex": null,
            "flex_flow": null,
            "grid_area": null,
            "grid_auto_columns": null,
            "grid_auto_flow": null,
            "grid_auto_rows": null,
            "grid_column": null,
            "grid_gap": null,
            "grid_row": null,
            "grid_template_areas": null,
            "grid_template_columns": null,
            "grid_template_rows": null,
            "height": null,
            "justify_content": null,
            "justify_items": null,
            "left": null,
            "margin": null,
            "max_height": null,
            "max_width": null,
            "min_height": null,
            "min_width": null,
            "object_fit": null,
            "object_position": null,
            "order": null,
            "overflow": null,
            "overflow_x": null,
            "overflow_y": null,
            "padding": null,
            "right": null,
            "top": null,
            "visibility": null,
            "width": null
          }
        },
        "c1ccd6ec071846e28166e404a67b82c6": {
          "model_module": "@jupyter-widgets/controls",
          "model_module_version": "1.5.0",
          "model_name": "ProgressStyleModel",
          "state": {
            "_model_module": "@jupyter-widgets/controls",
            "_model_module_version": "1.5.0",
            "_model_name": "ProgressStyleModel",
            "_view_count": null,
            "_view_module": "@jupyter-widgets/base",
            "_view_module_version": "1.2.0",
            "_view_name": "StyleView",
            "bar_color": null,
            "description_width": ""
          }
        },
        "d132dd4a805d477782f6357be69456b6": {
          "model_module": "@jupyter-widgets/controls",
          "model_module_version": "1.5.0",
          "model_name": "ProgressStyleModel",
          "state": {
            "_model_module": "@jupyter-widgets/controls",
            "_model_module_version": "1.5.0",
            "_model_name": "ProgressStyleModel",
            "_view_count": null,
            "_view_module": "@jupyter-widgets/base",
            "_view_module_version": "1.2.0",
            "_view_name": "StyleView",
            "bar_color": null,
            "description_width": ""
          }
        },
        "d48ed176af364fc6a262b3570d1aaa06": {
          "model_module": "@jupyter-widgets/base",
          "model_module_version": "1.2.0",
          "model_name": "LayoutModel",
          "state": {
            "_model_module": "@jupyter-widgets/base",
            "_model_module_version": "1.2.0",
            "_model_name": "LayoutModel",
            "_view_count": null,
            "_view_module": "@jupyter-widgets/base",
            "_view_module_version": "1.2.0",
            "_view_name": "LayoutView",
            "align_content": null,
            "align_items": null,
            "align_self": null,
            "border": null,
            "bottom": null,
            "display": null,
            "flex": null,
            "flex_flow": null,
            "grid_area": null,
            "grid_auto_columns": null,
            "grid_auto_flow": null,
            "grid_auto_rows": null,
            "grid_column": null,
            "grid_gap": null,
            "grid_row": null,
            "grid_template_areas": null,
            "grid_template_columns": null,
            "grid_template_rows": null,
            "height": null,
            "justify_content": null,
            "justify_items": null,
            "left": null,
            "margin": null,
            "max_height": null,
            "max_width": null,
            "min_height": null,
            "min_width": null,
            "object_fit": null,
            "object_position": null,
            "order": null,
            "overflow": null,
            "overflow_x": null,
            "overflow_y": null,
            "padding": null,
            "right": null,
            "top": null,
            "visibility": null,
            "width": null
          }
        },
        "da464fb671164ee182ebc21910729c61": {
          "model_module": "@jupyter-widgets/controls",
          "model_module_version": "1.5.0",
          "model_name": "HTMLModel",
          "state": {
            "_dom_classes": [],
            "_model_module": "@jupyter-widgets/controls",
            "_model_module_version": "1.5.0",
            "_model_name": "HTMLModel",
            "_view_count": null,
            "_view_module": "@jupyter-widgets/controls",
            "_view_module_version": "1.5.0",
            "_view_name": "HTMLView",
            "description": "",
            "description_tooltip": null,
            "layout": "IPY_MODEL_eadba18a10b44cce8e462c4c8daa7e97",
            "placeholder": "​",
            "style": "IPY_MODEL_6959957b761d420e91c085ebaf7d7878",
            "value": "Downloading: 100%"
          }
        },
        "da555a6cee274f0ea82762d91ea48fc6": {
          "model_module": "@jupyter-widgets/controls",
          "model_module_version": "1.5.0",
          "model_name": "DescriptionStyleModel",
          "state": {
            "_model_module": "@jupyter-widgets/controls",
            "_model_module_version": "1.5.0",
            "_model_name": "DescriptionStyleModel",
            "_view_count": null,
            "_view_module": "@jupyter-widgets/base",
            "_view_module_version": "1.2.0",
            "_view_name": "StyleView",
            "description_width": ""
          }
        },
        "da9ddcae98a5442a8d677f9fd943dce8": {
          "model_module": "@jupyter-widgets/base",
          "model_module_version": "1.2.0",
          "model_name": "LayoutModel",
          "state": {
            "_model_module": "@jupyter-widgets/base",
            "_model_module_version": "1.2.0",
            "_model_name": "LayoutModel",
            "_view_count": null,
            "_view_module": "@jupyter-widgets/base",
            "_view_module_version": "1.2.0",
            "_view_name": "LayoutView",
            "align_content": null,
            "align_items": null,
            "align_self": null,
            "border": null,
            "bottom": null,
            "display": null,
            "flex": null,
            "flex_flow": null,
            "grid_area": null,
            "grid_auto_columns": null,
            "grid_auto_flow": null,
            "grid_auto_rows": null,
            "grid_column": null,
            "grid_gap": null,
            "grid_row": null,
            "grid_template_areas": null,
            "grid_template_columns": null,
            "grid_template_rows": null,
            "height": null,
            "justify_content": null,
            "justify_items": null,
            "left": null,
            "margin": null,
            "max_height": null,
            "max_width": null,
            "min_height": null,
            "min_width": null,
            "object_fit": null,
            "object_position": null,
            "order": null,
            "overflow": null,
            "overflow_x": null,
            "overflow_y": null,
            "padding": null,
            "right": null,
            "top": null,
            "visibility": null,
            "width": null
          }
        },
        "e708cdd7cdfb4017a3d4360c6f2a41df": {
          "model_module": "@jupyter-widgets/controls",
          "model_module_version": "1.5.0",
          "model_name": "HBoxModel",
          "state": {
            "_dom_classes": [],
            "_model_module": "@jupyter-widgets/controls",
            "_model_module_version": "1.5.0",
            "_model_name": "HBoxModel",
            "_view_count": null,
            "_view_module": "@jupyter-widgets/controls",
            "_view_module_version": "1.5.0",
            "_view_name": "HBoxView",
            "box_style": "",
            "children": [
              "IPY_MODEL_86d39cd97a14415fb43500cd3ed7374e",
              "IPY_MODEL_a06cc442f6e14b4bb18c5e27f6fc0e55",
              "IPY_MODEL_a8ccc393abd14e6da93267d3a50bba51"
            ],
            "layout": "IPY_MODEL_77c3fd2e7ff7404e9f6a324f021e7213"
          }
        },
        "e730f3c7a9124c2da454a85ad848be2d": {
          "model_module": "@jupyter-widgets/base",
          "model_module_version": "1.2.0",
          "model_name": "LayoutModel",
          "state": {
            "_model_module": "@jupyter-widgets/base",
            "_model_module_version": "1.2.0",
            "_model_name": "LayoutModel",
            "_view_count": null,
            "_view_module": "@jupyter-widgets/base",
            "_view_module_version": "1.2.0",
            "_view_name": "LayoutView",
            "align_content": null,
            "align_items": null,
            "align_self": null,
            "border": null,
            "bottom": null,
            "display": null,
            "flex": null,
            "flex_flow": null,
            "grid_area": null,
            "grid_auto_columns": null,
            "grid_auto_flow": null,
            "grid_auto_rows": null,
            "grid_column": null,
            "grid_gap": null,
            "grid_row": null,
            "grid_template_areas": null,
            "grid_template_columns": null,
            "grid_template_rows": null,
            "height": null,
            "justify_content": null,
            "justify_items": null,
            "left": null,
            "margin": null,
            "max_height": null,
            "max_width": null,
            "min_height": null,
            "min_width": null,
            "object_fit": null,
            "object_position": null,
            "order": null,
            "overflow": null,
            "overflow_x": null,
            "overflow_y": null,
            "padding": null,
            "right": null,
            "top": null,
            "visibility": null,
            "width": null
          }
        },
        "e9cfc6495ff2496186d730c0368545e2": {
          "model_module": "@jupyter-widgets/controls",
          "model_module_version": "1.5.0",
          "model_name": "HTMLModel",
          "state": {
            "_dom_classes": [],
            "_model_module": "@jupyter-widgets/controls",
            "_model_module_version": "1.5.0",
            "_model_name": "HTMLModel",
            "_view_count": null,
            "_view_module": "@jupyter-widgets/controls",
            "_view_module_version": "1.5.0",
            "_view_name": "HTMLView",
            "description": "",
            "description_tooltip": null,
            "layout": "IPY_MODEL_3bef931759eb4ebe91faba689a646c1b",
            "placeholder": "​",
            "style": "IPY_MODEL_a496bd977de64c168b3c0c43ba532c4a",
            "value": "100%"
          }
        },
        "eadba18a10b44cce8e462c4c8daa7e97": {
          "model_module": "@jupyter-widgets/base",
          "model_module_version": "1.2.0",
          "model_name": "LayoutModel",
          "state": {
            "_model_module": "@jupyter-widgets/base",
            "_model_module_version": "1.2.0",
            "_model_name": "LayoutModel",
            "_view_count": null,
            "_view_module": "@jupyter-widgets/base",
            "_view_module_version": "1.2.0",
            "_view_name": "LayoutView",
            "align_content": null,
            "align_items": null,
            "align_self": null,
            "border": null,
            "bottom": null,
            "display": null,
            "flex": null,
            "flex_flow": null,
            "grid_area": null,
            "grid_auto_columns": null,
            "grid_auto_flow": null,
            "grid_auto_rows": null,
            "grid_column": null,
            "grid_gap": null,
            "grid_row": null,
            "grid_template_areas": null,
            "grid_template_columns": null,
            "grid_template_rows": null,
            "height": null,
            "justify_content": null,
            "justify_items": null,
            "left": null,
            "margin": null,
            "max_height": null,
            "max_width": null,
            "min_height": null,
            "min_width": null,
            "object_fit": null,
            "object_position": null,
            "order": null,
            "overflow": null,
            "overflow_x": null,
            "overflow_y": null,
            "padding": null,
            "right": null,
            "top": null,
            "visibility": null,
            "width": null
          }
        },
        "ec2d06a9217b4c0fb3da12091878812d": {
          "model_module": "@jupyter-widgets/controls",
          "model_module_version": "1.5.0",
          "model_name": "HTMLModel",
          "state": {
            "_dom_classes": [],
            "_model_module": "@jupyter-widgets/controls",
            "_model_module_version": "1.5.0",
            "_model_name": "HTMLModel",
            "_view_count": null,
            "_view_module": "@jupyter-widgets/controls",
            "_view_module_version": "1.5.0",
            "_view_name": "HTMLView",
            "description": "",
            "description_tooltip": null,
            "layout": "IPY_MODEL_c1079042ca4c4c5eb922496ed0c1347a",
            "placeholder": "​",
            "style": "IPY_MODEL_17cca474f9c14fa9941d760ec29a957c",
            "value": " 1600/1600 [03:48&lt;00:00,  8.05it/s]"
          }
        },
        "ed621055f49049b0ae98cf5a49c3c676": {
          "model_module": "@jupyter-widgets/controls",
          "model_module_version": "1.5.0",
          "model_name": "ProgressStyleModel",
          "state": {
            "_model_module": "@jupyter-widgets/controls",
            "_model_module_version": "1.5.0",
            "_model_name": "ProgressStyleModel",
            "_view_count": null,
            "_view_module": "@jupyter-widgets/base",
            "_view_module_version": "1.2.0",
            "_view_name": "StyleView",
            "bar_color": null,
            "description_width": ""
          }
        },
        "f3ba4f23551741f692dda090c660d646": {
          "model_module": "@jupyter-widgets/controls",
          "model_module_version": "1.5.0",
          "model_name": "HTMLModel",
          "state": {
            "_dom_classes": [],
            "_model_module": "@jupyter-widgets/controls",
            "_model_module_version": "1.5.0",
            "_model_name": "HTMLModel",
            "_view_count": null,
            "_view_module": "@jupyter-widgets/controls",
            "_view_module_version": "1.5.0",
            "_view_name": "HTMLView",
            "description": "",
            "description_tooltip": null,
            "layout": "IPY_MODEL_916c7f33c6ad4a8eba8819d5c3208cd8",
            "placeholder": "​",
            "style": "IPY_MODEL_4c36f8e12b85413eb451bb45602ee72f",
            "value": "Downloading: 100%"
          }
        },
        "f437228d863949a7b46d08e9f17ec8c0": {
          "model_module": "@jupyter-widgets/base",
          "model_module_version": "1.2.0",
          "model_name": "LayoutModel",
          "state": {
            "_model_module": "@jupyter-widgets/base",
            "_model_module_version": "1.2.0",
            "_model_name": "LayoutModel",
            "_view_count": null,
            "_view_module": "@jupyter-widgets/base",
            "_view_module_version": "1.2.0",
            "_view_name": "LayoutView",
            "align_content": null,
            "align_items": null,
            "align_self": null,
            "border": null,
            "bottom": null,
            "display": null,
            "flex": null,
            "flex_flow": null,
            "grid_area": null,
            "grid_auto_columns": null,
            "grid_auto_flow": null,
            "grid_auto_rows": null,
            "grid_column": null,
            "grid_gap": null,
            "grid_row": null,
            "grid_template_areas": null,
            "grid_template_columns": null,
            "grid_template_rows": null,
            "height": null,
            "justify_content": null,
            "justify_items": null,
            "left": null,
            "margin": null,
            "max_height": null,
            "max_width": null,
            "min_height": null,
            "min_width": null,
            "object_fit": null,
            "object_position": null,
            "order": null,
            "overflow": null,
            "overflow_x": null,
            "overflow_y": null,
            "padding": null,
            "right": null,
            "top": null,
            "visibility": null,
            "width": null
          }
        },
        "f5e8431635854d538c925275b1604d4e": {
          "model_module": "@jupyter-widgets/base",
          "model_module_version": "1.2.0",
          "model_name": "LayoutModel",
          "state": {
            "_model_module": "@jupyter-widgets/base",
            "_model_module_version": "1.2.0",
            "_model_name": "LayoutModel",
            "_view_count": null,
            "_view_module": "@jupyter-widgets/base",
            "_view_module_version": "1.2.0",
            "_view_name": "LayoutView",
            "align_content": null,
            "align_items": null,
            "align_self": null,
            "border": null,
            "bottom": null,
            "display": null,
            "flex": null,
            "flex_flow": null,
            "grid_area": null,
            "grid_auto_columns": null,
            "grid_auto_flow": null,
            "grid_auto_rows": null,
            "grid_column": null,
            "grid_gap": null,
            "grid_row": null,
            "grid_template_areas": null,
            "grid_template_columns": null,
            "grid_template_rows": null,
            "height": null,
            "justify_content": null,
            "justify_items": null,
            "left": null,
            "margin": null,
            "max_height": null,
            "max_width": null,
            "min_height": null,
            "min_width": null,
            "object_fit": null,
            "object_position": null,
            "order": null,
            "overflow": null,
            "overflow_x": null,
            "overflow_y": null,
            "padding": null,
            "right": null,
            "top": null,
            "visibility": null,
            "width": null
          }
        },
        "f79dbe6a690440209ca0284ee1013ef6": {
          "model_module": "@jupyter-widgets/controls",
          "model_module_version": "1.5.0",
          "model_name": "HTMLModel",
          "state": {
            "_dom_classes": [],
            "_model_module": "@jupyter-widgets/controls",
            "_model_module_version": "1.5.0",
            "_model_name": "HTMLModel",
            "_view_count": null,
            "_view_module": "@jupyter-widgets/controls",
            "_view_module_version": "1.5.0",
            "_view_name": "HTMLView",
            "description": "",
            "description_tooltip": null,
            "layout": "IPY_MODEL_349039bbff904662bcda07716250c9a8",
            "placeholder": "​",
            "style": "IPY_MODEL_af4cac1832b14cff8145d756c2f5d740",
            "value": "Downloading: 100%"
          }
        },
        "fba75210e5cf4d51ad7985210245753e": {
          "model_module": "@jupyter-widgets/base",
          "model_module_version": "1.2.0",
          "model_name": "LayoutModel",
          "state": {
            "_model_module": "@jupyter-widgets/base",
            "_model_module_version": "1.2.0",
            "_model_name": "LayoutModel",
            "_view_count": null,
            "_view_module": "@jupyter-widgets/base",
            "_view_module_version": "1.2.0",
            "_view_name": "LayoutView",
            "align_content": null,
            "align_items": null,
            "align_self": null,
            "border": null,
            "bottom": null,
            "display": null,
            "flex": null,
            "flex_flow": null,
            "grid_area": null,
            "grid_auto_columns": null,
            "grid_auto_flow": null,
            "grid_auto_rows": null,
            "grid_column": null,
            "grid_gap": null,
            "grid_row": null,
            "grid_template_areas": null,
            "grid_template_columns": null,
            "grid_template_rows": null,
            "height": null,
            "justify_content": null,
            "justify_items": null,
            "left": null,
            "margin": null,
            "max_height": null,
            "max_width": null,
            "min_height": null,
            "min_width": null,
            "object_fit": null,
            "object_position": null,
            "order": null,
            "overflow": null,
            "overflow_x": null,
            "overflow_y": null,
            "padding": null,
            "right": null,
            "top": null,
            "visibility": null,
            "width": null
          }
        }
      }
    }
  },
  "nbformat": 4,
  "nbformat_minor": 0
}
