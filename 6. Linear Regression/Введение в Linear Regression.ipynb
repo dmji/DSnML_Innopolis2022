{
  "nbformat": 4,
  "nbformat_minor": 0,
  "metadata": {
    "colab": {
      "name": "Введение в Linear Regression.ipynb",
      "provenance": [],
      "collapsed_sections": []
    },
    "kernelspec": {
      "name": "python3",
      "display_name": "Python 3"
    },
    "language_info": {
      "name": "python"
    }
  },
  "cells": [
    {
      "cell_type": "code",
      "metadata": {
        "id": "VvfRiU4IKnLv"
      },
      "source": [
        "import numpy as np\n",
        "import matplotlib.pyplot as plt\n",
        "\n",
        "X = 2* np.random.rand(100, 5)\n",
        "y = (4 + 3 * X[:,0]+4*X[:,1] - X[:,2] +5* X[:,3] - 1* X[:,4]) #+ np.random.randn(100, 1)\n",
        "         #[ 2.99293546  3.69444965 -0.91713935  5.02710236 -1.23295015]]\n",
        "          [ 3.40558164  3.87774868 -1.27050311  5.23809334 -0.81228679] \n",
        "#y =4 +3x\n",
        "#plt.plot(X,y, \"b.\")\n",
        "#plt.show()"
      ],
      "execution_count": null,
      "outputs": []
    },
    {
      "cell_type": "code",
      "source": [
        "y.shape"
      ],
      "metadata": {
        "colab": {
          "base_uri": "https://localhost:8080/"
        },
        "id": "Pk51MKCb3mP7",
        "outputId": "6c74e9a1-2392-459a-e086-4ac8531e312e"
      },
      "execution_count": null,
      "outputs": [
        {
          "output_type": "execute_result",
          "data": {
            "text/plain": [
              "(100, 1)"
            ]
          },
          "metadata": {},
          "execution_count": 73
        }
      ]
    },
    {
      "cell_type": "code",
      "source": [
        "y = y.reshape(100,1) + np.random.randn(100, 1)"
      ],
      "metadata": {
        "id": "y7xj87TY11YW"
      },
      "execution_count": null,
      "outputs": []
    },
    {
      "cell_type": "code",
      "metadata": {
        "colab": {
          "base_uri": "https://localhost:8080/"
        },
        "id": "9_7wTk37LJ0V",
        "outputId": "b4004b78-a004-4426-b442-ab7f9bba341b"
      },
      "source": [
        "from sklearn.linear_model import LinearRegression\n",
        "lin_reg = LinearRegression()\n",
        "lin_reg.fit(X, y)\n",
        "print(lin_reg.intercept_, lin_reg.coef_)\n"
      ],
      "execution_count": null,
      "outputs": [
        {
          "output_type": "stream",
          "name": "stdout",
          "text": [
            "[4.05302542] [[ 3.27883082  3.7845339  -1.4036295   5.1490756  -0.88562156]]\n"
          ]
        }
      ]
    },
    {
      "cell_type": "code",
      "metadata": {
        "id": "VjCQ6s1yMlA1"
      },
      "source": [
        "X_new = np.array([[0], [2], [5],[-1]])\n"
      ],
      "execution_count": null,
      "outputs": []
    },
    {
      "cell_type": "code",
      "metadata": {
        "id": "7BeJicp0NQCs"
      },
      "source": [
        "y_pred = lin_reg.predict(X_new)"
      ],
      "execution_count": null,
      "outputs": []
    },
    {
      "cell_type": "code",
      "source": [
        "y_pred"
      ],
      "metadata": {
        "colab": {
          "base_uri": "https://localhost:8080/"
        },
        "id": "VANUdenrvzFm",
        "outputId": "6350a884-5770-447a-f015-6da0af181490"
      },
      "execution_count": null,
      "outputs": [
        {
          "output_type": "execute_result",
          "data": {
            "text/plain": [
              "array([[ 3.99260053],\n",
              "       [ 9.75348739],\n",
              "       [18.39481767],\n",
              "       [ 1.1121571 ]])"
            ]
          },
          "metadata": {},
          "execution_count": 9
        }
      ]
    },
    {
      "cell_type": "code",
      "metadata": {
        "colab": {
          "base_uri": "https://localhost:8080/",
          "height": 265
        },
        "id": "2g-wXNcxNnZi",
        "outputId": "9a40ec2a-dc95-4739-fbf9-7b77f3271ab9"
      },
      "source": [
        "plt.plot(X_new, y_pred, \"r-\")\n",
        "plt.plot(X, y, \"b.\")\n",
        "plt.show()"
      ],
      "execution_count": null,
      "outputs": [
        {
          "output_type": "display_data",
          "data": {
            "text/plain": [
              "<Figure size 432x288 with 1 Axes>"
            ],
            "image/png": "[encoded data removed]"
          },
          "metadata": {
            "needs_background": "light"
          }
        }
      ]
    },
    {
      "cell_type": "code",
      "metadata": {
        "colab": {
          "base_uri": "https://localhost:8080/"
        },
        "id": "na-hYfOpN5X5",
        "outputId": "3af092c9-a563-4318-ce8d-61d04d80cf40"
      },
      "source": [
        "from sklearn.linear_model import SGDRegressor\n",
        "sgd_regressor = SGDRegressor(max_iter = 100000, tol = 1e-4, penalty = None, eta0 = 0.05)\n",
        "sgd_regressor.fit(X, y.ravel())"
      ],
      "execution_count": null,
      "outputs": [
        {
          "output_type": "execute_result",
          "data": {
            "text/plain": [
              "SGDRegressor(eta0=0.05, max_iter=100000, penalty=None, tol=0.0001)"
            ]
          },
          "metadata": {},
          "execution_count": 79
        }
      ]
    },
    {
      "cell_type": "code",
      "metadata": {
        "colab": {
          "base_uri": "https://localhost:8080/"
        },
        "id": "SuiKIuF2PGRe",
        "outputId": "09a5331e-5d53-489e-a72d-64c8a4151b69"
      },
      "source": [
        "print(sgd_regressor.intercept_, sgd_regressor.coef_)"
      ],
      "execution_count": null,
      "outputs": [
        {
          "output_type": "stream",
          "name": "stdout",
          "text": [
            "[3.53582606] [ 3.40558164  3.87774868 -1.27050311  5.23809334 -0.81228679]\n"
          ]
        }
      ]
    },
    {
      "cell_type": "code",
      "metadata": {
        "id": "92_eVkwUPPl3"
      },
      "source": [
        "y_pred_A = lin_reg.predict(X_new)\n",
        "y_pred_B = sgd_regressor.predict(X_new)"
      ],
      "execution_count": null,
      "outputs": []
    },
    {
      "cell_type": "code",
      "metadata": {
        "colab": {
          "base_uri": "https://localhost:8080/",
          "height": 265
        },
        "id": "qIMXmYj8Pxd5",
        "outputId": "d482afbe-5dc1-45ee-af70-b77cc0732271"
      },
      "source": [
        "plt.plot(X_new, y_pred_A, \"r-\")\n",
        "plt.plot(X_new, y_pred_B, \"g-\")\n",
        "plt.plot(X, y, \"b.\")\n",
        "plt.show()"
      ],
      "execution_count": null,
      "outputs": [
        {
          "output_type": "display_data",
          "data": {
            "text/plain": [
              "<Figure size 432x288 with 1 Axes>"
            ],
            "image/png": "[encoded data removed]"
          },
          "metadata": {
            "needs_background": "light"
          }
        }
      ]
    },
    {
      "cell_type": "code",
      "metadata": {
        "id": "AycHMcJnP4CP"
      },
      "source": [
        ""
      ],
      "execution_count": null,
      "outputs": []
    },
    {
      "cell_type": "markdown",
      "metadata": {
        "id": "BANIM8OtQgO3"
      },
      "source": [
        "полиномиальная регрессия"
      ]
    },
    {
      "cell_type": "code",
      "metadata": {
        "id": "gyAwRm8QQjZD"
      },
      "source": [
        "m = 100\n",
        "X = 6 * np.random.rand(m, 1) - 3\n",
        "y = 0.5 * X**2 + X + 2 + np.random.rand(m, 1)\n"
      ],
      "execution_count": null,
      "outputs": []
    },
    {
      "cell_type": "code",
      "metadata": {
        "colab": {
          "base_uri": "https://localhost:8080/",
          "height": 265
        },
        "id": "ujzpqeo0RQo7",
        "outputId": "4b41d3ce-6f71-4066-f16f-68b96f4fa032"
      },
      "source": [
        "plt.scatter(X, y)\n",
        "plt.show()"
      ],
      "execution_count": null,
      "outputs": [
        {
          "output_type": "display_data",
          "data": {
            "text/plain": [
              "<Figure size 432x288 with 1 Axes>"
            ],
            "image/png": "[encoded data removed]"
          },
          "metadata": {
            "needs_background": "light"
          }
        }
      ]
    },
    {
      "cell_type": "code",
      "metadata": {
        "id": "UpHDH2PIR5hA"
      },
      "source": [
        "from sklearn.preprocessing import PolynomialFeatures\n",
        "polynomial_features = PolynomialFeatures(degree=2, include_bias=False)"
      ],
      "execution_count": null,
      "outputs": []
    },
    {
      "cell_type": "code",
      "metadata": {
        "id": "m7oVSZMaS7t-"
      },
      "source": [
        "X_poly = polynomial_features.fit_transform(X)"
      ],
      "execution_count": null,
      "outputs": []
    },
    {
      "cell_type": "code",
      "metadata": {
        "colab": {
          "base_uri": "https://localhost:8080/"
        },
        "id": "7Jrd1A_TTHgX",
        "outputId": "023a7528-7d25-4037-ce99-42e075ad6de9"
      },
      "source": [
        "X[0]"
      ],
      "execution_count": null,
      "outputs": [
        {
          "output_type": "execute_result",
          "data": {
            "text/plain": [
              "array([-2.74925737])"
            ]
          },
          "metadata": {},
          "execution_count": 39
        }
      ]
    },
    {
      "cell_type": "code",
      "metadata": {
        "colab": {
          "base_uri": "https://localhost:8080/"
        },
        "id": "L9w0jlzsTK-h",
        "outputId": "484a670f-47aa-44c0-a438-15a7ab9c3414"
      },
      "source": [
        "X_poly[0]"
      ],
      "execution_count": null,
      "outputs": [
        {
          "output_type": "execute_result",
          "data": {
            "text/plain": [
              "array([-2.74925737,  7.55841609])"
            ]
          },
          "metadata": {},
          "execution_count": 38
        }
      ]
    },
    {
      "cell_type": "code",
      "metadata": {
        "colab": {
          "base_uri": "https://localhost:8080/"
        },
        "id": "Qc6spSheTPQN",
        "outputId": "2eb383c2-8e7b-478e-e9ee-5e8f1a58fa20"
      },
      "source": [
        "lin_reg = LinearRegression()\n",
        "lin_reg.fit(X_poly, y)\n",
        "print(lin_reg.intercept_, lin_reg.coef_)"
      ],
      "execution_count": null,
      "outputs": [
        {
          "output_type": "stream",
          "name": "stdout",
          "text": [
            "[2.49886033] [[0.99420921 0.51023079]]\n"
          ]
        }
      ]
    },
    {
      "cell_type": "code",
      "metadata": {
        "colab": {
          "base_uri": "https://localhost:8080/",
          "height": 265
        },
        "id": "FUGDFJlOT1b8",
        "outputId": "6c0d933d-3a0c-41d1-d17b-0d809e33cbd9"
      },
      "source": [
        "plt.scatter(X, y)\n",
        "y_pred = lin_reg.predict(X_poly)\n",
        "plt.scatter(X, y_pred)\n",
        "plt.show()"
      ],
      "execution_count": null,
      "outputs": [
        {
          "output_type": "display_data",
          "data": {
            "text/plain": [
              "<Figure size 432x288 with 1 Axes>"
            ],
            "image/png": "[encoded data removed]"
          },
          "metadata": {
            "needs_background": "light"
          }
        }
      ]
    },
    {
      "cell_type": "code",
      "metadata": {
        "id": "h449CCBZcv4U",
        "colab": {
          "base_uri": "https://localhost:8080/",
          "height": 265
        },
        "outputId": "c8618291-2d59-4b36-904f-12c364185cce"
      },
      "source": [
        "m = 100\n",
        "X = 9 * np.random.rand(m, 1) - 6\n",
        "y = np.sin(2*X) + 0.3*np.random.rand(m, 1)\n",
        "\n",
        "plt.scatter(X, y)\n",
        "plt.show()"
      ],
      "execution_count": null,
      "outputs": [
        {
          "output_type": "display_data",
          "data": {
            "text/plain": [
              "<Figure size 432x288 with 1 Axes>"
            ],
            "image/png": "[encoded data removed]"
          },
          "metadata": {
            "needs_background": "light"
          }
        }
      ]
    },
    {
      "cell_type": "code",
      "metadata": {
        "colab": {
          "base_uri": "https://localhost:8080/"
        },
        "id": "fF9hplVceVqM",
        "outputId": "0e048063-3fb7-4118-8a80-b57cd5fde7fb"
      },
      "source": [
        "from sklearn.pipeline import Pipeline\n",
        "polynomial_regression = Pipeline(\n",
        "    \n",
        "    [(\"poly_features\", PolynomialFeatures(degree=10, include_bias = False)), \n",
        "     (\"lin_reg\", LinearRegression()),])\n",
        "\n",
        "polynomial_regression.fit(X, y)"
      ],
      "execution_count": null,
      "outputs": [
        {
          "output_type": "execute_result",
          "data": {
            "text/plain": [
              "Pipeline(steps=[('poly_features',\n",
              "                 PolynomialFeatures(degree=10, include_bias=False)),\n",
              "                ('lin_reg', LinearRegression())])"
            ]
          },
          "metadata": {},
          "execution_count": 43
        }
      ]
    },
    {
      "cell_type": "code",
      "metadata": {
        "id": "9BgXfrOlgpMJ"
      },
      "source": [
        "y_pred = polynomial_regression.predict(X)"
      ],
      "execution_count": null,
      "outputs": []
    },
    {
      "cell_type": "code",
      "metadata": {
        "colab": {
          "base_uri": "https://localhost:8080/",
          "height": 265
        },
        "id": "uCXfVMZNhGpz",
        "outputId": "8f1c1619-d057-4bf7-d319-4abddcc538c1"
      },
      "source": [
        "plt.scatter(X, y)\n",
        "plt.scatter(X, y_pred)\n",
        "plt.show()"
      ],
      "execution_count": null,
      "outputs": [
        {
          "output_type": "display_data",
          "data": {
            "text/plain": [
              "<Figure size 432x288 with 1 Axes>"
            ],
            "image/png": "[encoded data removed]"
          },
          "metadata": {
            "needs_background": "light"
          }
        }
      ]
    },
    {
      "cell_type": "code",
      "metadata": {
        "colab": {
          "base_uri": "https://localhost:8080/",
          "height": 265
        },
        "id": "mZ_KuQjkhMs_",
        "outputId": "59124194-0051-4514-aac1-0af4e8aff123"
      },
      "source": [
        "X = 2 * np.random.rand(100, 1)\n",
        "y = 4 + 3 * X + np.random.randn(100, 1)\n",
        "\n",
        "plt.plot(X,y, \"b.\")\n",
        "plt.show()\n",
        "\n",
        "\n",
        "from sklearn.linear_model import Ridge\n"
      ],
      "execution_count": null,
      "outputs": [
        {
          "output_type": "display_data",
          "data": {
            "text/plain": [
              "<Figure size 432x288 with 1 Axes>"
            ],
            "image/png": "[encoded data removed]"
          },
          "metadata": {
            "needs_background": "light"
          }
        }
      ]
    },
    {
      "cell_type": "code",
      "metadata": {
        "colab": {
          "base_uri": "https://localhost:8080/",
          "height": 265
        },
        "id": "VEgIzc4bkM9x",
        "outputId": "8b089d46-3743-4d3d-8cf9-0f8988540589"
      },
      "source": [
        "X_new = np.array([[0], [2]])\n",
        "lin_reg.fit(X,y)\n",
        "y_pred = lin_reg.predict(X_new)\n",
        "\n",
        "ridge_reg = Ridge(alpha=50)\n",
        "ridge_reg.fit(X, y)\n",
        "\n",
        "y_pred_B = ridge_reg.predict(X_new)\n",
        "\n",
        "plt.plot(X_new, y_pred, \"r-\")\n",
        "plt.plot(X_new, y_pred_B, \"g-\")\n",
        "plt.plot(X, y, \"b.\")\n",
        "plt.show()"
      ],
      "execution_count": null,
      "outputs": [
        {
          "output_type": "display_data",
          "data": {
            "text/plain": [
              "<Figure size 432x288 with 1 Axes>"
            ],
            "image/png": "[encoded data removed]"
          },
          "metadata": {
            "needs_background": "light"
          }
        }
      ]
    },
    {
      "cell_type": "code",
      "metadata": {
        "colab": {
          "base_uri": "https://localhost:8080/"
        },
        "id": "C1pQI61xkkVp",
        "outputId": "a3b06a4d-5327-40d9-f608-02b729637191"
      },
      "source": [
        "sgd_regressor = SGDRegressor(alpha = 50, penalty = \"l2\")\n",
        "sgd_regressor.fit(X, y.ravel())"
      ],
      "execution_count": null,
      "outputs": [
        {
          "output_type": "execute_result",
          "data": {
            "text/plain": [
              "SGDRegressor(alpha=50)"
            ]
          },
          "metadata": {},
          "execution_count": 50
        }
      ]
    },
    {
      "cell_type": "code",
      "metadata": {
        "id": "0Bnik5x7mCZo",
        "colab": {
          "base_uri": "https://localhost:8080/",
          "height": 265
        },
        "outputId": "972bec35-9540-4a72-c98a-78fd61fc80cf"
      },
      "source": [
        "X_new = np.array([[0], [2]])\n",
        "lin_reg.fit(X,y)\n",
        "y_pred = lin_reg.predict(X_new)\n",
        "\n",
        "ridge_reg = Ridge(alpha=1)\n",
        "ridge_reg.fit(X, y)\n",
        "\n",
        "y_pred_B = ridge_reg.predict(X_new)\n",
        "\n",
        "y_pred_C = sgd_regressor.predict(X_new)\n",
        "\n",
        "plt.plot(X_new, y_pred, \"r-\")\n",
        "#plt.plot(X_new, y_pred_B, \"g-\")\n",
        "plt.plot(X_new, y_pred_C,'y-')\n",
        "plt.plot(X, y, \"b.\")\n",
        "plt.show()"
      ],
      "execution_count": null,
      "outputs": [
        {
          "output_type": "display_data",
          "data": {
            "text/plain": [
              "<Figure size 432x288 with 1 Axes>"
            ],
            "image/png": "[encoded data removed]"
          },
          "metadata": {
            "needs_background": "light"
          }
        }
      ]
    },
    {
      "cell_type": "code",
      "metadata": {
        "id": "zOualMDfmaDz"
      },
      "source": [
        ""
      ],
      "execution_count": null,
      "outputs": []
    }
  ]
}