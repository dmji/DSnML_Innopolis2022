{
 "cells": [
  {
   "cell_type": "markdown",
   "id": "c53c7db9",
   "metadata": {},
   "source": [
    "Настройка засечек: https://pyprog.pro/mpl/mpl_axis_ticks.html\n",
    "\n",
    "Docs Matplotlib: https://matplotlib.org/3.5.0/api/axis_api.html?highlight=matplotlib%20axis%20xaxis#matplotlib.axis.XAxis"
   ]
  },
  {
   "cell_type": "code",
   "execution_count": 5,
   "id": "05a8baad",
   "metadata": {},
   "outputs": [
    {
     "name": "stdout",
     "output_type": "stream",
     "text": [
      "Requirement already satisfied: pandas in c:\\users\\leysh\\appdata\\local\\packages\\pythonsoftwarefoundation.python.3.10_qbz5n2kfra8p0\\localcache\\local-packages\\python310\\site-packages (1.4.2)\n",
      "Requirement already satisfied: python-dateutil>=2.8.1 in c:\\users\\leysh\\appdata\\local\\packages\\pythonsoftwarefoundation.python.3.10_qbz5n2kfra8p0\\localcache\\local-packages\\python310\\site-packages (from pandas) (2.8.2)\n",
      "Requirement already satisfied: numpy>=1.21.0 in c:\\users\\leysh\\appdata\\local\\packages\\pythonsoftwarefoundation.python.3.10_qbz5n2kfra8p0\\localcache\\local-packages\\python310\\site-packages (from pandas) (1.22.3)\n",
      "Requirement already satisfied: pytz>=2020.1 in c:\\users\\leysh\\appdata\\local\\packages\\pythonsoftwarefoundation.python.3.10_qbz5n2kfra8p0\\localcache\\local-packages\\python310\\site-packages (from pandas) (2022.1)\n",
      "Requirement already satisfied: six>=1.5 in c:\\users\\leysh\\appdata\\local\\packages\\pythonsoftwarefoundation.python.3.10_qbz5n2kfra8p0\\localcache\\local-packages\\python310\\site-packages (from python-dateutil>=2.8.1->pandas) (1.16.0)\n",
      "Note: you may need to restart the kernel to use updated packages.\n"
     ]
    }
   ],
   "source": [
    "%pip install pandas"
   ]
  },
  {
   "cell_type": "code",
   "execution_count": 2,
   "id": "02d918cc",
   "metadata": {},
   "outputs": [],
   "source": [
    "from io import StringIO   # StringIO behaves like a file object\n",
    "import numpy as np\n",
    "import pandas as pd"
   ]
  },
  {
   "cell_type": "markdown",
   "id": "fbd2db4c",
   "metadata": {},
   "source": [
    "### 1. Задание Лайт Matplotlib"
   ]
  },
  {
   "cell_type": "code",
   "execution_count": null,
   "id": "12245722",
   "metadata": {},
   "outputs": [],
   "source": [
    "%pip install matplotlib"
   ]
  },
  {
   "cell_type": "code",
   "execution_count": null,
   "id": "61ac5419",
   "metadata": {},
   "outputs": [],
   "source": [
    "import matplotlib\n",
    "import matplotlib.pyplot as plt"
   ]
  },
  {
   "cell_type": "markdown",
   "id": "7402e3df",
   "metadata": {},
   "source": [
    "#### 1.1. Напишите программу Python для построения графиков финансовых данных Alphabet Inc. в период с 3 октября 2016 г. по 7 октября 2016 г."
   ]
  },
  {
   "cell_type": "code",
   "execution_count": 436,
   "id": "b68ee1cf",
   "metadata": {},
   "outputs": [
    {
     "data": {
      "text/html": [
       "<div>\n",
       "<style scoped>\n",
       "    .dataframe tbody tr th:only-of-type {\n",
       "        vertical-align: middle;\n",
       "    }\n",
       "\n",
       "    .dataframe tbody tr th {\n",
       "        vertical-align: top;\n",
       "    }\n",
       "\n",
       "    .dataframe thead th {\n",
       "        text-align: right;\n",
       "    }\n",
       "</style>\n",
       "<table border=\"1\" class=\"dataframe\">\n",
       "  <thead>\n",
       "    <tr style=\"text-align: right;\">\n",
       "      <th></th>\n",
       "      <th>Open</th>\n",
       "      <th>High</th>\n",
       "      <th>Low</th>\n",
       "      <th>Close</th>\n",
       "    </tr>\n",
       "    <tr>\n",
       "      <th>Data</th>\n",
       "      <th></th>\n",
       "      <th></th>\n",
       "      <th></th>\n",
       "      <th></th>\n",
       "    </tr>\n",
       "  </thead>\n",
       "  <tbody>\n",
       "    <tr>\n",
       "      <th>10-03-16</th>\n",
       "      <td>774.250000</td>\n",
       "      <td>776.065002</td>\n",
       "      <td>769.500000</td>\n",
       "      <td>772.559998</td>\n",
       "    </tr>\n",
       "    <tr>\n",
       "      <th>10-04-16</th>\n",
       "      <td>776.030029</td>\n",
       "      <td>778.710022</td>\n",
       "      <td>772.890015</td>\n",
       "      <td>776.429993</td>\n",
       "    </tr>\n",
       "    <tr>\n",
       "      <th>10-05-16</th>\n",
       "      <td>779.309998</td>\n",
       "      <td>782.070007</td>\n",
       "      <td>775.650024</td>\n",
       "      <td>776.469971</td>\n",
       "    </tr>\n",
       "    <tr>\n",
       "      <th>10-06-16</th>\n",
       "      <td>779.000000</td>\n",
       "      <td>780.479980</td>\n",
       "      <td>775.539978</td>\n",
       "      <td>776.859985</td>\n",
       "    </tr>\n",
       "    <tr>\n",
       "      <th>10-07-16</th>\n",
       "      <td>779.659973</td>\n",
       "      <td>779.659973</td>\n",
       "      <td>770.750000</td>\n",
       "      <td>775.080017</td>\n",
       "    </tr>\n",
       "  </tbody>\n",
       "</table>\n",
       "</div>"
      ],
      "text/plain": [
       "                Open        High         Low      Close \n",
       "Data                                                    \n",
       "10-03-16  774.250000  776.065002  769.500000  772.559998\n",
       "10-04-16  776.030029  778.710022  772.890015  776.429993\n",
       "10-05-16  779.309998  782.070007  775.650024  776.469971\n",
       "10-06-16  779.000000  780.479980  775.539978  776.859985\n",
       "10-07-16  779.659973  779.659973  770.750000  775.080017"
      ]
     },
     "execution_count": 436,
     "metadata": {},
     "output_type": "execute_result"
    }
   ],
   "source": [
    "fileSimulation = StringIO\\\n",
    "( \\\n",
    "\"Data,Open,High,Low,Close \\n\\\n",
    "10-03-16, 774.25,     776.065002, 769.5,      772.559998 \\n\\\n",
    "10-04-16, 776.030029, 778.710022, 772.890015, 776.429993 \\n\\\n",
    "10-05-16, 779.309998, 782.070007, 775.650024, 776.469971 \\n\\\n",
    "10-06-16, 779,        780.47998,  775.539978, 776.859985 \\n\\\n",
    "10-07-16, 779.659973, 779.659973, 770.75,     775.080017\"\n",
    ")\n",
    "\n",
    "dataT1 = pd.read_csv(filepath_or_buffer=fileSimulation, sep=',', index_col=0)\n",
    "dataT1"
   ]
  },
  {
   "cell_type": "code",
   "execution_count": 437,
   "id": "0f73c85f",
   "metadata": {},
   "outputs": [
    {
     "data": {
      "text/html": [
       "<div>\n",
       "<style scoped>\n",
       "    .dataframe tbody tr th:only-of-type {\n",
       "        vertical-align: middle;\n",
       "    }\n",
       "\n",
       "    .dataframe tbody tr th {\n",
       "        vertical-align: top;\n",
       "    }\n",
       "\n",
       "    .dataframe thead th {\n",
       "        text-align: right;\n",
       "    }\n",
       "</style>\n",
       "<table border=\"1\" class=\"dataframe\">\n",
       "  <thead>\n",
       "    <tr style=\"text-align: right;\">\n",
       "      <th></th>\n",
       "      <th>Open</th>\n",
       "      <th>High</th>\n",
       "      <th>Low</th>\n",
       "      <th>Close</th>\n",
       "    </tr>\n",
       "  </thead>\n",
       "  <tbody>\n",
       "    <tr>\n",
       "      <th>2016-10-03</th>\n",
       "      <td>774.250000</td>\n",
       "      <td>776.065002</td>\n",
       "      <td>769.500000</td>\n",
       "      <td>772.559998</td>\n",
       "    </tr>\n",
       "    <tr>\n",
       "      <th>2016-10-04</th>\n",
       "      <td>776.030029</td>\n",
       "      <td>778.710022</td>\n",
       "      <td>772.890015</td>\n",
       "      <td>776.429993</td>\n",
       "    </tr>\n",
       "    <tr>\n",
       "      <th>2016-10-05</th>\n",
       "      <td>779.309998</td>\n",
       "      <td>782.070007</td>\n",
       "      <td>775.650024</td>\n",
       "      <td>776.469971</td>\n",
       "    </tr>\n",
       "    <tr>\n",
       "      <th>2016-10-06</th>\n",
       "      <td>779.000000</td>\n",
       "      <td>780.479980</td>\n",
       "      <td>775.539978</td>\n",
       "      <td>776.859985</td>\n",
       "    </tr>\n",
       "    <tr>\n",
       "      <th>2016-10-07</th>\n",
       "      <td>779.659973</td>\n",
       "      <td>779.659973</td>\n",
       "      <td>770.750000</td>\n",
       "      <td>775.080017</td>\n",
       "    </tr>\n",
       "  </tbody>\n",
       "</table>\n",
       "</div>"
      ],
      "text/plain": [
       "                  Open        High         Low      Close \n",
       "2016-10-03  774.250000  776.065002  769.500000  772.559998\n",
       "2016-10-04  776.030029  778.710022  772.890015  776.429993\n",
       "2016-10-05  779.309998  782.070007  775.650024  776.469971\n",
       "2016-10-06  779.000000  780.479980  775.539978  776.859985\n",
       "2016-10-07  779.659973  779.659973  770.750000  775.080017"
      ]
     },
     "execution_count": 437,
     "metadata": {},
     "output_type": "execute_result"
    }
   ],
   "source": [
    "#convert index string to data type\n",
    "dataT1.index = pd.to_datetime(a.index.values)\n",
    "dataT1"
   ]
  },
  {
   "cell_type": "code",
   "execution_count": 438,
   "id": "e289e643",
   "metadata": {},
   "outputs": [
    {
     "data": {
      "text/plain": [
       "<AxesSubplot:>"
      ]
     },
     "execution_count": 438,
     "metadata": {},
     "output_type": "execute_result"
    },
    {
     "data": {
      "image/png": "[encoded data removed]",
      "text/plain": [
       "<Figure size 432x288 with 1 Axes>"
      ]
     },
     "metadata": {
      "needs_background": "light"
     },
     "output_type": "display_data"
    }
   ],
   "source": [
    "dataT1.plot()"
   ]
  },
  {
   "cell_type": "markdown",
   "id": "8cc594af",
   "metadata": {},
   "source": [
    "#### 1.2. Напишите программу Python для отображения сетки и построения линейных диаграмм конечной стоимости Alphabet Inc. в период с 3 октября 2016 года по 7 октября 2016 года. Настроены линии сетки со стилем линий -, шириной 0,5. и цвет синий."
   ]
  },
  {
   "cell_type": "code",
   "execution_count": 439,
   "id": "c927f111",
   "metadata": {},
   "outputs": [
    {
     "data": {
      "text/html": [
       "<div>\n",
       "<style scoped>\n",
       "    .dataframe tbody tr th:only-of-type {\n",
       "        vertical-align: middle;\n",
       "    }\n",
       "\n",
       "    .dataframe tbody tr th {\n",
       "        vertical-align: top;\n",
       "    }\n",
       "\n",
       "    .dataframe thead th {\n",
       "        text-align: right;\n",
       "    }\n",
       "</style>\n",
       "<table border=\"1\" class=\"dataframe\">\n",
       "  <thead>\n",
       "    <tr style=\"text-align: right;\">\n",
       "      <th></th>\n",
       "      <th>Closing Value</th>\n",
       "    </tr>\n",
       "    <tr>\n",
       "      <th>Date</th>\n",
       "      <th></th>\n",
       "    </tr>\n",
       "  </thead>\n",
       "  <tbody>\n",
       "    <tr>\n",
       "      <th>03-10-16</th>\n",
       "      <td>772.559998</td>\n",
       "    </tr>\n",
       "    <tr>\n",
       "      <th>04-10-16</th>\n",
       "      <td>776.429993</td>\n",
       "    </tr>\n",
       "    <tr>\n",
       "      <th>05-10-16</th>\n",
       "      <td>776.469971</td>\n",
       "    </tr>\n",
       "    <tr>\n",
       "      <th>06-10-16</th>\n",
       "      <td>776.859985</td>\n",
       "    </tr>\n",
       "    <tr>\n",
       "      <th>07-10-16</th>\n",
       "      <td>775.080017</td>\n",
       "    </tr>\n",
       "  </tbody>\n",
       "</table>\n",
       "</div>"
      ],
      "text/plain": [
       "           Closing Value\n",
       "Date                    \n",
       "03-10-16      772.559998\n",
       "04-10-16      776.429993\n",
       "05-10-16      776.469971\n",
       "06-10-16      776.859985\n",
       "07-10-16      775.080017"
      ]
     },
     "execution_count": 439,
     "metadata": {},
     "output_type": "execute_result"
    }
   ],
   "source": [
    "fileSimulation = StringIO\\\n",
    "(\n",
    "\"Date, Closing Value\\n\\\n",
    "03-10-16,772.559998\\n\\\n",
    "04-10-16,776.429993\\n\\\n",
    "05-10-16,776.469971\\n\\\n",
    "06-10-16,776.859985\\n\\\n",
    "07-10-16,775.080017\"\n",
    ")\n",
    "\n",
    "dataT2 = pd.read_csv(filepath_or_buffer=fileSimulation, sep=',', index_col=0)\n",
    "dataT2"
   ]
  },
  {
   "cell_type": "code",
   "execution_count": 440,
   "id": "b686ee07",
   "metadata": {},
   "outputs": [
    {
     "data": {
      "text/html": [
       "<div>\n",
       "<style scoped>\n",
       "    .dataframe tbody tr th:only-of-type {\n",
       "        vertical-align: middle;\n",
       "    }\n",
       "\n",
       "    .dataframe tbody tr th {\n",
       "        vertical-align: top;\n",
       "    }\n",
       "\n",
       "    .dataframe thead th {\n",
       "        text-align: right;\n",
       "    }\n",
       "</style>\n",
       "<table border=\"1\" class=\"dataframe\">\n",
       "  <thead>\n",
       "    <tr style=\"text-align: right;\">\n",
       "      <th></th>\n",
       "      <th>Closing Value</th>\n",
       "    </tr>\n",
       "    <tr>\n",
       "      <th>Date</th>\n",
       "      <th></th>\n",
       "    </tr>\n",
       "  </thead>\n",
       "  <tbody>\n",
       "    <tr>\n",
       "      <th>2016-03-10</th>\n",
       "      <td>772.559998</td>\n",
       "    </tr>\n",
       "    <tr>\n",
       "      <th>2016-04-10</th>\n",
       "      <td>776.429993</td>\n",
       "    </tr>\n",
       "    <tr>\n",
       "      <th>2016-05-10</th>\n",
       "      <td>776.469971</td>\n",
       "    </tr>\n",
       "    <tr>\n",
       "      <th>2016-06-10</th>\n",
       "      <td>776.859985</td>\n",
       "    </tr>\n",
       "    <tr>\n",
       "      <th>2016-07-10</th>\n",
       "      <td>775.080017</td>\n",
       "    </tr>\n",
       "  </tbody>\n",
       "</table>\n",
       "</div>"
      ],
      "text/plain": [
       "             Closing Value\n",
       "Date                      \n",
       "2016-03-10      772.559998\n",
       "2016-04-10      776.429993\n",
       "2016-05-10      776.469971\n",
       "2016-06-10      776.859985\n",
       "2016-07-10      775.080017"
      ]
     },
     "execution_count": 440,
     "metadata": {},
     "output_type": "execute_result"
    }
   ],
   "source": [
    "#convert index string to data type\n",
    "dataT2.index = pd.to_datetime(dataT2.index)\n",
    "dataT2"
   ]
  },
  {
   "cell_type": "code",
   "execution_count": 444,
   "id": "bedf1b26",
   "metadata": {},
   "outputs": [
    {
     "data": {
      "image/png": "[encoded data removed]",
      "text/plain": [
       "<Figure size 432x288 with 1 Axes>"
      ]
     },
     "metadata": {
      "needs_background": "light"
     },
     "output_type": "display_data"
    }
   ],
   "source": [
    "yPlotTicks = np.linspace(772.5, 777, 10)\n",
    "\n",
    "fg, ax = plt.subplots()\n",
    "\n",
    "ax.plot(a, \n",
    "        marker='o',\n",
    "        color='red')\n",
    "\n",
    "ax.grid(True)\n",
    "ax.set(xlabel=dataT2.axes[0].name,\n",
    "        ylabel=dataT2.axes[1][0],\n",
    "        title=\"Closing stock value of Alphabet Inc.\")\n",
    "ax.set_yticks(yPlotTicks)\n",
    "ax.set_xticks(a.index.values)\n",
    "ax.set_xlim(adataT2.index[0], dataT2.index[-1])\n",
    "ax.set_ylim(yPlotTicks[0], yPlotTicks[-1])\n",
    "ax.grid(color='blue', linestyle='-', linewidth=0.5)\n",
    "\n",
    "ax.tick_params(axis = 'both', \n",
    "               which = 'major',\n",
    "               direction = 'inout',\n",
    "               bottom = False,\n",
    "               top = False,\n",
    "               left = False,\n",
    "               right = False\n",
    ")"
   ]
  },
  {
   "cell_type": "markdown",
   "id": "e0507266",
   "metadata": {},
   "source": [
    "#### 1.3. Напишите программу Python для отображения гистограммы популярности языков программирования."
   ]
  },
  {
   "cell_type": "code",
   "execution_count": 445,
   "id": "3130cf55",
   "metadata": {},
   "outputs": [
    {
     "name": "stderr",
     "output_type": "stream",
     "text": [
      "C:\\Users\\leysh\\AppData\\Local\\Temp\\ipykernel_11300\\246348756.py:7: ParserWarning: Falling back to the 'python' engine because the 'c' engine does not support regex separators (separators > 1 char and different from '\\s+' are interpreted as regex); you can avoid this warning by specifying engine='python'.\n",
      "  a = pd.read_table(filepath_or_buffer=fileSimulation, sep=\"\\s*[,:]\\s*\", index_col=0).T\n"
     ]
    },
    {
     "data": {
      "text/html": [
       "<div>\n",
       "<style scoped>\n",
       "    .dataframe tbody tr th:only-of-type {\n",
       "        vertical-align: middle;\n",
       "    }\n",
       "\n",
       "    .dataframe tbody tr th {\n",
       "        vertical-align: top;\n",
       "    }\n",
       "\n",
       "    .dataframe thead th {\n",
       "        text-align: right;\n",
       "    }\n",
       "</style>\n",
       "<table border=\"1\" class=\"dataframe\">\n",
       "  <thead>\n",
       "    <tr style=\"text-align: right;\">\n",
       "      <th>Languages</th>\n",
       "      <th>Popularity</th>\n",
       "    </tr>\n",
       "  </thead>\n",
       "  <tbody>\n",
       "    <tr>\n",
       "      <th>Java</th>\n",
       "      <td>22.2</td>\n",
       "    </tr>\n",
       "    <tr>\n",
       "      <th>Python</th>\n",
       "      <td>17.6</td>\n",
       "    </tr>\n",
       "    <tr>\n",
       "      <th>PHP</th>\n",
       "      <td>8.8</td>\n",
       "    </tr>\n",
       "    <tr>\n",
       "      <th>JavaScript</th>\n",
       "      <td>8.0</td>\n",
       "    </tr>\n",
       "    <tr>\n",
       "      <th>C#</th>\n",
       "      <td>7.7</td>\n",
       "    </tr>\n",
       "    <tr>\n",
       "      <th>C++</th>\n",
       "      <td>6.7</td>\n",
       "    </tr>\n",
       "  </tbody>\n",
       "</table>\n",
       "</div>"
      ],
      "text/plain": [
       "Languages   Popularity\n",
       "Java              22.2\n",
       "Python            17.6\n",
       "PHP                8.8\n",
       "JavaScript         8.0\n",
       "C#                 7.7\n",
       "C++                6.7"
      ]
     },
     "execution_count": 445,
     "metadata": {},
     "output_type": "execute_result"
    }
   ],
   "source": [
    "fileSimulation = StringIO\\\n",
    "(\n",
    "\"Languages: Java, Python, PHP, JavaScript, C#, C++\\n\\\n",
    "Popularity: 22.2, 17.6, 8.8, 8, 7.7, 6.7\"\n",
    ")\n",
    "\n",
    "dataT3 = pd.read_table(filepath_or_buffer=fileSimulation, sep=\"\\s*[,:]\\s*\", index_col=0).T\n",
    "dataT3"
   ]
  },
  {
   "cell_type": "code",
   "execution_count": 448,
   "id": "59209bf4",
   "metadata": {},
   "outputs": [
    {
     "data": {
      "image/png": "[encoded data removed]",
      "text/plain": [
       "<Figure size 432x288 with 1 Axes>"
      ]
     },
     "metadata": {
      "needs_background": "light"
     },
     "output_type": "display_data"
    }
   ],
   "source": [
    "yPlotTicks = np.linspace(0, 25, 6)\n",
    "\n",
    "fig, ax = plt.subplots()\n",
    "dataT3.plot(kind='bar', \n",
    "        ax=ax, \n",
    "        rot=0, \n",
    "        color='b',\n",
    "        align='edge',\n",
    "        width=0.8,\n",
    "        legend=False\n",
    "        )\n",
    "\n",
    "ax.set(title=\"Populatiry of Programming Language\\nWorldwide, Oct 2017 compared to a year ago\",\n",
    "        xlabel=\"Language\",\n",
    "        ylabel=\"Populatiry\")\n",
    "\n",
    "ax.set_xlim(0, 6)\n",
    "ax.set_yticks(yPlotTicks)\n",
    "\n",
    "ax.grid(which='major', color='r', linewidth=0.5)\n",
    "ax.grid(which='minor', color='black', linestyle=':', linewidth=1, alpha=0.5)\n",
    "ax.minorticks_on()\n",
    "\n",
    "ax.tick_params(axis = 'both', \n",
    "               which = 'major',\n",
    "               direction = 'inout',\n",
    "               bottom = False,\n",
    "               top = False,\n",
    "               left = False,\n",
    "               right = False\n",
    ")\n",
    "ax.tick_params(axis = 'both', \n",
    "               which = 'minor',\n",
    "               direction = 'inout',\n",
    "               bottom = False,\n",
    "               top = False,\n",
    "               left = False,\n",
    "               right = False\n",
    ")"
   ]
  },
  {
   "cell_type": "markdown",
   "id": "b8ff8c75",
   "metadata": {},
   "source": [
    "##### 1.3.1 Используя те же самые данные и тип диграммы: Раскрасьте столбцы разными цветами, сделайте их горизонтальными."
   ]
  },
  {
   "cell_type": "code",
   "execution_count": 449,
   "id": "79feb806",
   "metadata": {},
   "outputs": [
    {
     "data": {
      "image/png": "[encoded data removed]",
      "text/plain": [
       "<Figure size 432x288 with 1 Axes>"
      ]
     },
     "metadata": {
      "needs_background": "light"
     },
     "output_type": "display_data"
    }
   ],
   "source": [
    "nSize = dataT3.index.size\n",
    "yPlotTicks = np.linspace(0, 25, nSize)\n",
    "\n",
    "fig, ax = plt.subplots()\n",
    "dataT3.plot(kind='barh', \n",
    "        ax=ax, \n",
    "        rot=0, \n",
    "        align='edge',\n",
    "        width=0.8,\n",
    "        legend=False\n",
    "        )\n",
    "\n",
    "ax.set(title=\"Populatiry of Programming Language\\nWorldwide, Oct 2017 compared to a year ago\",\n",
    "        xlabel=\"Language\",\n",
    "        ylabel=\"Populatiry\")\n",
    "\n",
    "ax.set_ylim(0, 6)\n",
    "ax.set_xticks(yPlotTicks)\n",
    "\n",
    "ax.grid(which='major', color='r', linewidth=0.5)\n",
    "ax.grid(which='minor', color='black', linestyle=':', linewidth=1, alpha=0.5)\n",
    "ax.minorticks_on()\n",
    "\n",
    "childs = ax.get_children()\n",
    "colors = np.array(['b', 'g', 'r', 'c', 'm', 'y', 'k'])\n",
    "np.random.shuffle(colors)\n",
    "\n",
    "for i in range(nSize):\n",
    "        childs[i].set_color(colors[i])\n",
    "\n",
    "ax.tick_params(axis = 'both', \n",
    "               which = 'major',\n",
    "               direction = 'inout',\n",
    "               bottom = False,\n",
    "               top = False,\n",
    "               left = False,\n",
    "               right = False\n",
    ")\n",
    "ax.tick_params(axis = 'both', \n",
    "               which = 'minor',\n",
    "               direction = 'inout',\n",
    "               bottom = False,\n",
    "               top = False,\n",
    "               left = False,\n",
    "               right = False\n",
    ")"
   ]
  },
  {
   "cell_type": "markdown",
   "id": "3c37f466",
   "metadata": {},
   "source": [
    "#### 1.4. Напишите программу на Python, чтобы создать график столбиков стека и добавить меткук каждому разделу"
   ]
  },
  {
   "cell_type": "code",
   "execution_count": 452,
   "id": "f641d738",
   "metadata": {},
   "outputs": [],
   "source": [
    "people = ('G1','G2','G3','G4','G5','G6','G7','G8')\n",
    "segments = 4\n",
    "# multi-dimensional data\n",
    "data = [[ 3.40022085, 7.70632498, 6.4097905, \n",
    "10.51648577, 7.5330039, 7.1123587, 12.77792868, \n",
    "3.44773477],\n",
    "[ 11.24811149, 5.03778215, 6.65808464, 12.32220677, \n",
    "7.45964195, 6.79685302, 7.24578743, 3.69371847],\n",
    "[ 3.94253354, 4.74763549, 11.73529246, 4.6465543, \n",
    "12.9952182, 4.63832778, 11.16849999, 8.56883433],\n",
    "[ 4.24409799, 12.71746612, 11.3772169, 9.00514257, \n",
    "10.47084185, 10.97567589, 3.98287652, 8.80552122]]\n",
    "\n",
    "dataT4 = pd.DataFrame(np.transpose(data), people, [\"R\", \"G\", \"W\", \"P\"])\n",
    "dataT4"
   ]
  },
  {
   "cell_type": "code",
   "execution_count": 456,
   "id": "64bfe464",
   "metadata": {},
   "outputs": [
    {
     "data": {
      "image/png": "[encoded data removed]",
      "text/plain": [
       "<Figure size 432x288 with 1 Axes>"
      ]
     },
     "metadata": {
      "needs_background": "light"
     },
     "output_type": "display_data"
    }
   ],
   "source": [
    "nSize, dWidth= a.index.size, 0.8\n",
    "\n",
    "fig, ax = plt.subplots()\n",
    "dataT4.plot(kind='barh', \n",
    "        ax=ax, \n",
    "        rot=0, \n",
    "        align='center',\n",
    "        width=dWidth,\n",
    "        stacked=True,\n",
    "        legend=False,\n",
    "        color='rgwm',\n",
    "        edgecolor='k'\n",
    "        )\n",
    "\n",
    "ax.set(xlabel=\"Scores\")\n",
    "\n",
    "sgnWidth = 0.3 # experemental\n",
    "i=0\n",
    "childs = ax.get_children()\n",
    "for c in childs:\n",
    "        if type(c) == matplotlib.patches.Rectangle:\n",
    "                s = str(i)+'%'\n",
    "                rctW, rctH = c.get_width(), c.get_height()\n",
    "                rctX, rctY = c.xy\n",
    "                textPos = (rctX + rctW / 2 - len(s) * sgnWidth, rctY + rctH / 2)\n",
    "                ax.annotate(s, xy=(0, 0), xytext=textPos, size=8)\n",
    "                i+=1\n",
    "        else: # first rects is data other is support\n",
    "                break\n",
    "\n",
    "ax.tick_params(axis = 'both', \n",
    "               which = 'major',\n",
    "               direction = 'inout',\n",
    "               bottom = True,\n",
    "               top = True,\n",
    "               left = True,\n",
    "               right = True\n",
    ")"
   ]
  },
  {
   "cell_type": "markdown",
   "id": "e2c33a9d",
   "metadata": {},
   "source": [
    "#### 5. Напишите программу на Python, чтобы нарисовать scatter диаграмму рассеяния для сравнения двух предметных оценок по математике и естествознанию. Используйте оценки 10 учеников. "
   ]
  },
  {
   "cell_type": "code",
   "execution_count": 7,
   "id": "81c325eb",
   "metadata": {},
   "outputs": [
    {
     "data": {
      "text/html": [
       "<div>\n",
       "<style scoped>\n",
       "    .dataframe tbody tr th:only-of-type {\n",
       "        vertical-align: middle;\n",
       "    }\n",
       "\n",
       "    .dataframe tbody tr th {\n",
       "        vertical-align: top;\n",
       "    }\n",
       "\n",
       "    .dataframe thead th {\n",
       "        text-align: right;\n",
       "    }\n",
       "</style>\n",
       "<table border=\"1\" class=\"dataframe\">\n",
       "  <thead>\n",
       "    <tr style=\"text-align: right;\">\n",
       "      <th></th>\n",
       "      <th>Math</th>\n",
       "      <th>Science</th>\n",
       "      <th>Range</th>\n",
       "    </tr>\n",
       "  </thead>\n",
       "  <tbody>\n",
       "    <tr>\n",
       "      <th>0</th>\n",
       "      <td>88</td>\n",
       "      <td>35</td>\n",
       "      <td>10</td>\n",
       "    </tr>\n",
       "    <tr>\n",
       "      <th>1</th>\n",
       "      <td>92</td>\n",
       "      <td>79</td>\n",
       "      <td>20</td>\n",
       "    </tr>\n",
       "    <tr>\n",
       "      <th>2</th>\n",
       "      <td>80</td>\n",
       "      <td>79</td>\n",
       "      <td>30</td>\n",
       "    </tr>\n",
       "    <tr>\n",
       "      <th>3</th>\n",
       "      <td>89</td>\n",
       "      <td>48</td>\n",
       "      <td>40</td>\n",
       "    </tr>\n",
       "    <tr>\n",
       "      <th>4</th>\n",
       "      <td>100</td>\n",
       "      <td>100</td>\n",
       "      <td>50</td>\n",
       "    </tr>\n",
       "    <tr>\n",
       "      <th>5</th>\n",
       "      <td>80</td>\n",
       "      <td>88</td>\n",
       "      <td>60</td>\n",
       "    </tr>\n",
       "    <tr>\n",
       "      <th>6</th>\n",
       "      <td>60</td>\n",
       "      <td>32</td>\n",
       "      <td>70</td>\n",
       "    </tr>\n",
       "    <tr>\n",
       "      <th>7</th>\n",
       "      <td>100</td>\n",
       "      <td>45</td>\n",
       "      <td>80</td>\n",
       "    </tr>\n",
       "    <tr>\n",
       "      <th>8</th>\n",
       "      <td>80</td>\n",
       "      <td>20</td>\n",
       "      <td>90</td>\n",
       "    </tr>\n",
       "    <tr>\n",
       "      <th>9</th>\n",
       "      <td>34</td>\n",
       "      <td>30</td>\n",
       "      <td>100</td>\n",
       "    </tr>\n",
       "  </tbody>\n",
       "</table>\n",
       "</div>"
      ],
      "text/plain": [
       "   Math  Science  Range\n",
       "0    88       35     10\n",
       "1    92       79     20\n",
       "2    80       79     30\n",
       "3    89       48     40\n",
       "4   100      100     50\n",
       "5    80       88     60\n",
       "6    60       32     70\n",
       "7   100       45     80\n",
       "8    80       20     90\n",
       "9    34       30    100"
      ]
     },
     "execution_count": 7,
     "metadata": {},
     "output_type": "execute_result"
    }
   ],
   "source": [
    "math_marks = [88, 92, 80, 89, 100, 80, 60, 100, 80, 34] \n",
    "science_marks = [35, 79, 79, 48, 100, 88, 32, 45, 20, 30] \n",
    "marks_range = [10, 20, 30, 40, 50, 60, 70, 80, 90, 100]\n",
    "\n",
    "dataT5 = pd.DataFrame(np.array((math_marks, science_marks, marks_range)).T, index=np.arange(0, 10, 1), columns=[\"Math\", \"Science\", \"Range\"])\n",
    "dataT5"
   ]
  },
  {
   "cell_type": "code",
   "execution_count": 434,
   "id": "fbaffc2a",
   "metadata": {},
   "outputs": [
    {
     "data": {
      "image/png": "[encoded data removed]",
      "text/plain": [
       "<Figure size 432x288 with 1 Axes>"
      ]
     },
     "metadata": {
      "needs_background": "light"
     },
     "output_type": "display_data"
    }
   ],
   "source": [
    "dLinewidths = 10\n",
    "\n",
    "fig, ax = plt.subplots()\n",
    "ax.scatter(x=dataT5.Range, y=dataT5.Math, color='r', s=dLinewidths)\n",
    "ax.scatter(x=dataT5.Range, y=dataT5.Science, color='g', s=dLinewidths)\n",
    "ax.legend(dataT5.columns + \" marks\", loc=1, scatterpoints=3)\n",
    "ax.set(title=\"Scatter plot\",\n",
    "        xlabel=\"Marks Range\",\n",
    "        ylabel=\"Marks Scored\")\n",
    "\n",
    "childs = ax.get_children()\n",
    "axisObj = ax.get_children()[6]\n",
    "\n",
    "ax.set_yticks(np.linspace(0,100, 6))\n",
    "ax.set_xticks(np.linspace(0,120, 7))\n",
    "ax.tick_params(axis = 'both', \n",
    "               which = 'major',\n",
    "               direction = 'inout',\n",
    "               bottom = True,\n",
    "               top = True,\n",
    "               left = True,\n",
    "               right = True,\n",
    ")"
   ]
  },
  {
   "cell_type": "markdown",
   "id": "706b82aa",
   "metadata": {},
   "source": [
    "### 2. Задание Лайт Seaborn "
   ]
  },
  {
   "cell_type": "code",
   "execution_count": 5,
   "id": "fd4fd6bb",
   "metadata": {},
   "outputs": [
    {
     "name": "stdout",
     "output_type": "stream",
     "text": [
      "Collecting seaborn\n",
      "  Downloading seaborn-0.11.2-py3-none-any.whl (292 kB)\n",
      "     -------------------------------------- 292.8/292.8 KB 2.0 MB/s eta 0:00:00\n",
      "Requirement already satisfied: numpy>=1.15 in c:\\users\\leysh\\appdata\\local\\packages\\pythonsoftwarefoundation.python.3.10_qbz5n2kfra8p0\\localcache\\local-packages\\python310\\site-packages (from seaborn) (1.22.3)\n",
      "Requirement already satisfied: matplotlib>=2.2 in c:\\users\\leysh\\appdata\\local\\packages\\pythonsoftwarefoundation.python.3.10_qbz5n2kfra8p0\\localcache\\local-packages\\python310\\site-packages (from seaborn) (3.5.2)\n",
      "Requirement already satisfied: pandas>=0.23 in c:\\users\\leysh\\appdata\\local\\packages\\pythonsoftwarefoundation.python.3.10_qbz5n2kfra8p0\\localcache\\local-packages\\python310\\site-packages (from seaborn) (1.4.2)\n",
      "Requirement already satisfied: scipy>=1.0 in c:\\users\\leysh\\appdata\\local\\packages\\pythonsoftwarefoundation.python.3.10_qbz5n2kfra8p0\\localcache\\local-packages\\python310\\site-packages (from seaborn) (1.8.0)\n",
      "Requirement already satisfied: pillow>=6.2.0 in c:\\users\\leysh\\appdata\\local\\packages\\pythonsoftwarefoundation.python.3.10_qbz5n2kfra8p0\\localcache\\local-packages\\python310\\site-packages (from matplotlib>=2.2->seaborn) (9.1.0)\n",
      "Requirement already satisfied: kiwisolver>=1.0.1 in c:\\users\\leysh\\appdata\\local\\packages\\pythonsoftwarefoundation.python.3.10_qbz5n2kfra8p0\\localcache\\local-packages\\python310\\site-packages (from matplotlib>=2.2->seaborn) (1.4.2)\n",
      "Requirement already satisfied: packaging>=20.0 in c:\\users\\leysh\\appdata\\local\\packages\\pythonsoftwarefoundation.python.3.10_qbz5n2kfra8p0\\localcache\\local-packages\\python310\\site-packages (from matplotlib>=2.2->seaborn) (21.3)\n",
      "Requirement already satisfied: fonttools>=4.22.0 in c:\\users\\leysh\\appdata\\local\\packages\\pythonsoftwarefoundation.python.3.10_qbz5n2kfra8p0\\localcache\\local-packages\\python310\\site-packages (from matplotlib>=2.2->seaborn) (4.33.3)\n",
      "Requirement already satisfied: python-dateutil>=2.7 in c:\\users\\leysh\\appdata\\local\\packages\\pythonsoftwarefoundation.python.3.10_qbz5n2kfra8p0\\localcache\\local-packages\\python310\\site-packages (from matplotlib>=2.2->seaborn) (2.8.2)\n",
      "Requirement already satisfied: pyparsing>=2.2.1 in c:\\users\\leysh\\appdata\\local\\packages\\pythonsoftwarefoundation.python.3.10_qbz5n2kfra8p0\\localcache\\local-packages\\python310\\site-packages (from matplotlib>=2.2->seaborn) (3.0.8)\n",
      "Requirement already satisfied: cycler>=0.10 in c:\\users\\leysh\\appdata\\local\\packages\\pythonsoftwarefoundation.python.3.10_qbz5n2kfra8p0\\localcache\\local-packages\\python310\\site-packages (from matplotlib>=2.2->seaborn) (0.11.0)\n",
      "Requirement already satisfied: pytz>=2020.1 in c:\\users\\leysh\\appdata\\local\\packages\\pythonsoftwarefoundation.python.3.10_qbz5n2kfra8p0\\localcache\\local-packages\\python310\\site-packages (from pandas>=0.23->seaborn) (2022.1)\n",
      "Requirement already satisfied: six>=1.5 in c:\\users\\leysh\\appdata\\local\\packages\\pythonsoftwarefoundation.python.3.10_qbz5n2kfra8p0\\localcache\\local-packages\\python310\\site-packages (from python-dateutil>=2.7->matplotlib>=2.2->seaborn) (1.16.0)\n",
      "Installing collected packages: seaborn\n",
      "Successfully installed seaborn-0.11.2\n",
      "Note: you may need to restart the kernel to use updated packages.\n"
     ]
    }
   ],
   "source": [
    "%pip install seaborn"
   ]
  },
  {
   "cell_type": "markdown",
   "id": "6a5901ae",
   "metadata": {},
   "source": [
    "#### 2.1. Напишите программу Python для построения графиков финансовых данных Alphabet Inc. в период с 3 октября 2016 г. по 7 октября 2016 г."
   ]
  },
  {
   "cell_type": "code",
   "execution_count": 6,
   "id": "1cc47575",
   "metadata": {},
   "outputs": [],
   "source": [
    "import seaborn"
   ]
  },
  {
   "cell_type": "markdown",
   "id": "5a651716",
   "metadata": {},
   "source": [
    "#### 2.2. Напишите программу Python для отображения сетки и построения линейных диаграмм конечной стоимости Alphabet Inc. в период с 3 октября 2016 года по 7 октября 2016 года. Настроены линии сетки со стилем линий -, шириной 0,5. и цвет синий."
   ]
  },
  {
   "cell_type": "code",
   "execution_count": null,
   "id": "50880542",
   "metadata": {},
   "outputs": [],
   "source": []
  },
  {
   "cell_type": "markdown",
   "id": "fd75edc9",
   "metadata": {},
   "source": [
    "#### 2.3. Напишите программу Python для отображения гистограммы популярности языков программирования."
   ]
  },
  {
   "cell_type": "code",
   "execution_count": null,
   "id": "900c669e",
   "metadata": {},
   "outputs": [],
   "source": []
  },
  {
   "cell_type": "markdown",
   "id": "af535f8c",
   "metadata": {},
   "source": [
    "##### 2.3.1 Используя те же самые данные и тип диграммы: Раскрасьте столбцы разными цветами, сделайте их горизонтальными."
   ]
  },
  {
   "cell_type": "code",
   "execution_count": null,
   "id": "1163b47d",
   "metadata": {},
   "outputs": [],
   "source": []
  },
  {
   "cell_type": "markdown",
   "id": "62d4fc42",
   "metadata": {},
   "source": [
    "#### 2.4. Напишите программу на Python, чтобы создать график столбиков стека и добавить меткук каждому разделу"
   ]
  },
  {
   "cell_type": "code",
   "execution_count": null,
   "id": "3ab6a647",
   "metadata": {},
   "outputs": [],
   "source": []
  },
  {
   "cell_type": "markdown",
   "id": "3feb528f",
   "metadata": {},
   "source": [
    "#### 5. Напишите программу на Python, чтобы нарисовать scatter диаграмму рассеяния для сравнения двух предметных оценок по математике и естествознанию. Используйте оценки 10 учеников. "
   ]
  },
  {
   "cell_type": "code",
   "execution_count": null,
   "id": "92b0e769",
   "metadata": {},
   "outputs": [],
   "source": []
  },
  {
   "cell_type": "markdown",
   "id": "24fb9253",
   "metadata": {},
   "source": [
    "### 3. Задание Про"
   ]
  },
  {
   "cell_type": "markdown",
   "id": "23f8d332",
   "metadata": {},
   "source": [
    "#### 3.1. На основе следующий данных, попробуйте построить диаграмму Timeline"
   ]
  },
  {
   "cell_type": "code",
   "execution_count": 4,
   "id": "bce9f1c8",
   "metadata": {},
   "outputs": [
    {
     "data": {
      "text/html": [
       "<div>\n",
       "<style scoped>\n",
       "    .dataframe tbody tr th:only-of-type {\n",
       "        vertical-align: middle;\n",
       "    }\n",
       "\n",
       "    .dataframe tbody tr th {\n",
       "        vertical-align: top;\n",
       "    }\n",
       "\n",
       "    .dataframe thead th {\n",
       "        text-align: right;\n",
       "    }\n",
       "</style>\n",
       "<table border=\"1\" class=\"dataframe\">\n",
       "  <thead>\n",
       "    <tr style=\"text-align: right;\">\n",
       "      <th></th>\n",
       "      <th>0</th>\n",
       "    </tr>\n",
       "  </thead>\n",
       "  <tbody>\n",
       "    <tr>\n",
       "      <th>2011-02-9</th>\n",
       "      <td>Gingerbread</td>\n",
       "    </tr>\n",
       "    <tr>\n",
       "      <th>2011-10-19</th>\n",
       "      <td>Ice Cream Sandwich</td>\n",
       "    </tr>\n",
       "    <tr>\n",
       "      <th>2012-11-13</th>\n",
       "      <td>Jelly Bean</td>\n",
       "    </tr>\n",
       "    <tr>\n",
       "      <th>2013-10-31</th>\n",
       "      <td>KitKat</td>\n",
       "    </tr>\n",
       "    <tr>\n",
       "      <th>2014-11-3</th>\n",
       "      <td>Lollipop</td>\n",
       "    </tr>\n",
       "    <tr>\n",
       "      <th>2015-10-5</th>\n",
       "      <td>Marshmallow</td>\n",
       "    </tr>\n",
       "    <tr>\n",
       "      <th>2016-08-22</th>\n",
       "      <td>Nougat</td>\n",
       "    </tr>\n",
       "    <tr>\n",
       "      <th>2017-08-21</th>\n",
       "      <td>Oreo</td>\n",
       "    </tr>\n",
       "    <tr>\n",
       "      <th>2018-08-06</th>\n",
       "      <td>Pie</td>\n",
       "    </tr>\n",
       "    <tr>\n",
       "      <th>2019-09-3</th>\n",
       "      <td>10</td>\n",
       "    </tr>\n",
       "    <tr>\n",
       "      <th>2020-02-19</th>\n",
       "      <td>11</td>\n",
       "    </tr>\n",
       "  </tbody>\n",
       "</table>\n",
       "</div>"
      ],
      "text/plain": [
       "                             0\n",
       "2011-02-9          Gingerbread\n",
       "2011-10-19  Ice Cream Sandwich\n",
       "2012-11-13          Jelly Bean\n",
       "2013-10-31              KitKat\n",
       "2014-11-3             Lollipop\n",
       "2015-10-5          Marshmallow\n",
       "2016-08-22              Nougat\n",
       "2017-08-21                Oreo\n",
       "2018-08-06                 Pie\n",
       "2019-09-3                   10\n",
       "2020-02-19                  11"
      ]
     },
     "execution_count": 4,
     "metadata": {},
     "output_type": "execute_result"
    }
   ],
   "source": [
    "names = ['Gingerbread', 'Ice Cream Sandwich', 'Jelly Bean', 'KitKat', 'Lollipop', 'Marshmallow', 'Nougat', 'Oreo', 'Pie', '10', '11'] \n",
    "dates = ['2011-02-9', '2011-10-19', '2012-11-13', '2013-10-31', '2014-11-3', '2015-10-5', '2016-08-22', '2017-08-21', '2018-08-06', '2019-09-3', '2020-02-19']\n",
    "        \n",
    "a = pd.DataFrame(names, dates)"
   ]
  },
  {
   "cell_type": "code",
   "execution_count": null,
   "id": "b796e9f3",
   "metadata": {},
   "outputs": [],
   "source": [
    "fig, ax = plt.subplots()\n",
    "ax."
   ]
  }
 ],
 "metadata": {
  "interpreter": {
   "hash": "0e68e4b9280787a44001420fbeeb7906ede8e891cdf07bd6c7dbd6239140b452"
  },
  "kernelspec": {
   "display_name": "Python 3.10.4 64-bit (windows store)",
   "language": "python",
   "name": "python3"
  },
  "language_info": {
   "codemirror_mode": {
    "name": "ipython",
    "version": 3
   },
   "file_extension": ".py",
   "mimetype": "text/x-python",
   "name": "python",
   "nbconvert_exporter": "python",
   "pygments_lexer": "ipython3",
   "version": "3.10.4"
  }
 },
 "nbformat": 4,
 "nbformat_minor": 5
}
