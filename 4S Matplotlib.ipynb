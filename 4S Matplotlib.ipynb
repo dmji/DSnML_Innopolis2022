{
 "cells": [
  {
   "cell_type": "code",
   "execution_count": 4,
   "id": "3ff42da4",
   "metadata": {},
   "outputs": [
    {
     "name": "stdout",
     "output_type": "stream",
     "text": [
      "Requirement already satisfied: matplotlib in c:\\users\\leysh\\appdata\\local\\packages\\pythonsoftwarefoundation.python.3.10_qbz5n2kfra8p0\\localcache\\local-packages\\python310\\site-packages (3.5.2)\n",
      "Requirement already satisfied: numpy>=1.17 in c:\\users\\leysh\\appdata\\local\\packages\\pythonsoftwarefoundation.python.3.10_qbz5n2kfra8p0\\localcache\\local-packages\\python310\\site-packages (from matplotlib) (1.22.3)\n",
      "Requirement already satisfied: cycler>=0.10 in c:\\users\\leysh\\appdata\\local\\packages\\pythonsoftwarefoundation.python.3.10_qbz5n2kfra8p0\\localcache\\local-packages\\python310\\site-packages (from matplotlib) (0.11.0)\n",
      "Requirement already satisfied: python-dateutil>=2.7 in c:\\users\\leysh\\appdata\\local\\packages\\pythonsoftwarefoundation.python.3.10_qbz5n2kfra8p0\\localcache\\local-packages\\python310\\site-packages (from matplotlib) (2.8.2)\n",
      "Requirement already satisfied: kiwisolver>=1.0.1 in c:\\users\\leysh\\appdata\\local\\packages\\pythonsoftwarefoundation.python.3.10_qbz5n2kfra8p0\\localcache\\local-packages\\python310\\site-packages (from matplotlib) (1.4.2)\n",
      "Requirement already satisfied: fonttools>=4.22.0 in c:\\users\\leysh\\appdata\\local\\packages\\pythonsoftwarefoundation.python.3.10_qbz5n2kfra8p0\\localcache\\local-packages\\python310\\site-packages (from matplotlib) (4.33.3)\n",
      "Requirement already satisfied: pillow>=6.2.0 in c:\\users\\leysh\\appdata\\local\\packages\\pythonsoftwarefoundation.python.3.10_qbz5n2kfra8p0\\localcache\\local-packages\\python310\\site-packages (from matplotlib) (9.1.0)\n",
      "Requirement already satisfied: packaging>=20.0 in c:\\users\\leysh\\appdata\\local\\packages\\pythonsoftwarefoundation.python.3.10_qbz5n2kfra8p0\\localcache\\local-packages\\python310\\site-packages (from matplotlib) (21.3)\n",
      "Requirement already satisfied: pyparsing>=2.2.1 in c:\\users\\leysh\\appdata\\local\\packages\\pythonsoftwarefoundation.python.3.10_qbz5n2kfra8p0\\localcache\\local-packages\\python310\\site-packages (from matplotlib) (3.0.8)\n",
      "Requirement already satisfied: six>=1.5 in c:\\users\\leysh\\appdata\\local\\packages\\pythonsoftwarefoundation.python.3.10_qbz5n2kfra8p0\\localcache\\local-packages\\python310\\site-packages (from python-dateutil>=2.7->matplotlib) (1.16.0)\n",
      "Note: you may need to restart the kernel to use updated packages.\n"
     ]
    }
   ],
   "source": [
    "%pip install matplotlib"
   ]
  },
  {
   "cell_type": "code",
   "execution_count": 5,
   "id": "05a8baad",
   "metadata": {},
   "outputs": [
    {
     "name": "stdout",
     "output_type": "stream",
     "text": [
      "Requirement already satisfied: pandas in c:\\users\\leysh\\appdata\\local\\packages\\pythonsoftwarefoundation.python.3.10_qbz5n2kfra8p0\\localcache\\local-packages\\python310\\site-packages (1.4.2)\n",
      "Requirement already satisfied: python-dateutil>=2.8.1 in c:\\users\\leysh\\appdata\\local\\packages\\pythonsoftwarefoundation.python.3.10_qbz5n2kfra8p0\\localcache\\local-packages\\python310\\site-packages (from pandas) (2.8.2)\n",
      "Requirement already satisfied: numpy>=1.21.0 in c:\\users\\leysh\\appdata\\local\\packages\\pythonsoftwarefoundation.python.3.10_qbz5n2kfra8p0\\localcache\\local-packages\\python310\\site-packages (from pandas) (1.22.3)\n",
      "Requirement already satisfied: pytz>=2020.1 in c:\\users\\leysh\\appdata\\local\\packages\\pythonsoftwarefoundation.python.3.10_qbz5n2kfra8p0\\localcache\\local-packages\\python310\\site-packages (from pandas) (2022.1)\n",
      "Requirement already satisfied: six>=1.5 in c:\\users\\leysh\\appdata\\local\\packages\\pythonsoftwarefoundation.python.3.10_qbz5n2kfra8p0\\localcache\\local-packages\\python310\\site-packages (from python-dateutil>=2.8.1->pandas) (1.16.0)\n",
      "Note: you may need to restart the kernel to use updated packages.\n"
     ]
    }
   ],
   "source": [
    "%pip install pandas"
   ]
  },
  {
   "cell_type": "code",
   "execution_count": 6,
   "id": "02d918cc",
   "metadata": {},
   "outputs": [],
   "source": [
    "from io import StringIO   # StringIO behaves like a file object\n",
    "import numpy as np\n",
    "import pandas as pd\n",
    "import matplotlib\n",
    "import matplotlib.pyplot as plt"
   ]
  },
  {
   "cell_type": "markdown",
   "id": "7402e3df",
   "metadata": {},
   "source": [
    "#### 1. Напишите программу Python для построения графиков финансовых данных Alphabet Inc. в период с 3 октября 2016 г. по 7 октября 2016 г."
   ]
  },
  {
   "cell_type": "code",
   "execution_count": 7,
   "id": "b68ee1cf",
   "metadata": {},
   "outputs": [
    {
     "data": {
      "text/html": [
       "<div>\n",
       "<style scoped>\n",
       "    .dataframe tbody tr th:only-of-type {\n",
       "        vertical-align: middle;\n",
       "    }\n",
       "\n",
       "    .dataframe tbody tr th {\n",
       "        vertical-align: top;\n",
       "    }\n",
       "\n",
       "    .dataframe thead th {\n",
       "        text-align: right;\n",
       "    }\n",
       "</style>\n",
       "<table border=\"1\" class=\"dataframe\">\n",
       "  <thead>\n",
       "    <tr style=\"text-align: right;\">\n",
       "      <th></th>\n",
       "      <th>Open</th>\n",
       "      <th>High</th>\n",
       "      <th>Low</th>\n",
       "      <th>Close</th>\n",
       "    </tr>\n",
       "    <tr>\n",
       "      <th>Data</th>\n",
       "      <th></th>\n",
       "      <th></th>\n",
       "      <th></th>\n",
       "      <th></th>\n",
       "    </tr>\n",
       "  </thead>\n",
       "  <tbody>\n",
       "    <tr>\n",
       "      <th>10-03-16</th>\n",
       "      <td>774.250000</td>\n",
       "      <td>776.065002</td>\n",
       "      <td>769.500000</td>\n",
       "      <td>772.559998</td>\n",
       "    </tr>\n",
       "    <tr>\n",
       "      <th>10-04-16</th>\n",
       "      <td>776.030029</td>\n",
       "      <td>778.710022</td>\n",
       "      <td>772.890015</td>\n",
       "      <td>776.429993</td>\n",
       "    </tr>\n",
       "    <tr>\n",
       "      <th>10-05-16</th>\n",
       "      <td>779.309998</td>\n",
       "      <td>782.070007</td>\n",
       "      <td>775.650024</td>\n",
       "      <td>776.469971</td>\n",
       "    </tr>\n",
       "    <tr>\n",
       "      <th>10-06-16</th>\n",
       "      <td>779.000000</td>\n",
       "      <td>780.479980</td>\n",
       "      <td>775.539978</td>\n",
       "      <td>776.859985</td>\n",
       "    </tr>\n",
       "    <tr>\n",
       "      <th>10-07-16</th>\n",
       "      <td>779.659973</td>\n",
       "      <td>779.659973</td>\n",
       "      <td>770.750000</td>\n",
       "      <td>775.080017</td>\n",
       "    </tr>\n",
       "  </tbody>\n",
       "</table>\n",
       "</div>"
      ],
      "text/plain": [
       "                Open        High         Low      Close \n",
       "Data                                                    \n",
       "10-03-16  774.250000  776.065002  769.500000  772.559998\n",
       "10-04-16  776.030029  778.710022  772.890015  776.429993\n",
       "10-05-16  779.309998  782.070007  775.650024  776.469971\n",
       "10-06-16  779.000000  780.479980  775.539978  776.859985\n",
       "10-07-16  779.659973  779.659973  770.750000  775.080017"
      ]
     },
     "execution_count": 7,
     "metadata": {},
     "output_type": "execute_result"
    }
   ],
   "source": [
    "fileSimulation = StringIO\\\n",
    "( \\\n",
    "\"Data,Open,High,Low,Close \\n\\\n",
    "10-03-16, 774.25,     776.065002, 769.5,      772.559998 \\n\\\n",
    "10-04-16, 776.030029, 778.710022, 772.890015, 776.429993 \\n\\\n",
    "10-05-16, 779.309998, 782.070007, 775.650024, 776.469971 \\n\\\n",
    "10-06-16, 779,        780.47998,  775.539978, 776.859985 \\n\\\n",
    "10-07-16, 779.659973, 779.659973, 770.75,     775.080017\"\n",
    ")\n",
    "\n",
    "a = pd.read_csv(filepath_or_buffer=fileSimulation, sep=',', index_col=0)\n",
    "a"
   ]
  },
  {
   "cell_type": "code",
   "execution_count": 8,
   "id": "0f73c85f",
   "metadata": {},
   "outputs": [
    {
     "data": {
      "text/html": [
       "<div>\n",
       "<style scoped>\n",
       "    .dataframe tbody tr th:only-of-type {\n",
       "        vertical-align: middle;\n",
       "    }\n",
       "\n",
       "    .dataframe tbody tr th {\n",
       "        vertical-align: top;\n",
       "    }\n",
       "\n",
       "    .dataframe thead th {\n",
       "        text-align: right;\n",
       "    }\n",
       "</style>\n",
       "<table border=\"1\" class=\"dataframe\">\n",
       "  <thead>\n",
       "    <tr style=\"text-align: right;\">\n",
       "      <th></th>\n",
       "      <th>Open</th>\n",
       "      <th>High</th>\n",
       "      <th>Low</th>\n",
       "      <th>Close</th>\n",
       "    </tr>\n",
       "  </thead>\n",
       "  <tbody>\n",
       "    <tr>\n",
       "      <th>2016-10-03</th>\n",
       "      <td>774.250000</td>\n",
       "      <td>776.065002</td>\n",
       "      <td>769.500000</td>\n",
       "      <td>772.559998</td>\n",
       "    </tr>\n",
       "    <tr>\n",
       "      <th>2016-10-04</th>\n",
       "      <td>776.030029</td>\n",
       "      <td>778.710022</td>\n",
       "      <td>772.890015</td>\n",
       "      <td>776.429993</td>\n",
       "    </tr>\n",
       "    <tr>\n",
       "      <th>2016-10-05</th>\n",
       "      <td>779.309998</td>\n",
       "      <td>782.070007</td>\n",
       "      <td>775.650024</td>\n",
       "      <td>776.469971</td>\n",
       "    </tr>\n",
       "    <tr>\n",
       "      <th>2016-10-06</th>\n",
       "      <td>779.000000</td>\n",
       "      <td>780.479980</td>\n",
       "      <td>775.539978</td>\n",
       "      <td>776.859985</td>\n",
       "    </tr>\n",
       "    <tr>\n",
       "      <th>2016-10-07</th>\n",
       "      <td>779.659973</td>\n",
       "      <td>779.659973</td>\n",
       "      <td>770.750000</td>\n",
       "      <td>775.080017</td>\n",
       "    </tr>\n",
       "  </tbody>\n",
       "</table>\n",
       "</div>"
      ],
      "text/plain": [
       "                  Open        High         Low      Close \n",
       "2016-10-03  774.250000  776.065002  769.500000  772.559998\n",
       "2016-10-04  776.030029  778.710022  772.890015  776.429993\n",
       "2016-10-05  779.309998  782.070007  775.650024  776.469971\n",
       "2016-10-06  779.000000  780.479980  775.539978  776.859985\n",
       "2016-10-07  779.659973  779.659973  770.750000  775.080017"
      ]
     },
     "execution_count": 8,
     "metadata": {},
     "output_type": "execute_result"
    }
   ],
   "source": [
    "#convert index string to data type\n",
    "a.index = pd.to_datetime(a.index.values)\n",
    "a"
   ]
  },
  {
   "cell_type": "code",
   "execution_count": 9,
   "id": "e289e643",
   "metadata": {},
   "outputs": [
    {
     "data": {
      "text/plain": [
       "<AxesSubplot:>"
      ]
     },
     "execution_count": 9,
     "metadata": {},
     "output_type": "execute_result"
    },
    {
     "data": {
      "image/png": "[encoded data removed]",
      "text/plain": [
       "<Figure size 432x288 with 1 Axes>"
      ]
     },
     "metadata": {
      "needs_background": "light"
     },
     "output_type": "display_data"
    }
   ],
   "source": [
    "a.plot()"
   ]
  },
  {
   "cell_type": "markdown",
   "id": "8cc594af",
   "metadata": {},
   "source": [
    "#### 2. Напишите программу Python для отображения сетки и построения линейных диаграмм конечной стоимости Alphabet Inc. в период с 3 октября 2016 года по 7 октября 2016 года. Настроены линии сетки со стилем линий -, шириной 0,5. и цвет синий."
   ]
  },
  {
   "cell_type": "code",
   "execution_count": 10,
   "id": "c927f111",
   "metadata": {},
   "outputs": [
    {
     "data": {
      "text/html": [
       "<div>\n",
       "<style scoped>\n",
       "    .dataframe tbody tr th:only-of-type {\n",
       "        vertical-align: middle;\n",
       "    }\n",
       "\n",
       "    .dataframe tbody tr th {\n",
       "        vertical-align: top;\n",
       "    }\n",
       "\n",
       "    .dataframe thead th {\n",
       "        text-align: right;\n",
       "    }\n",
       "</style>\n",
       "<table border=\"1\" class=\"dataframe\">\n",
       "  <thead>\n",
       "    <tr style=\"text-align: right;\">\n",
       "      <th></th>\n",
       "      <th>Closing Value</th>\n",
       "    </tr>\n",
       "    <tr>\n",
       "      <th>Date</th>\n",
       "      <th></th>\n",
       "    </tr>\n",
       "  </thead>\n",
       "  <tbody>\n",
       "    <tr>\n",
       "      <th>03-10-16</th>\n",
       "      <td>772.559998</td>\n",
       "    </tr>\n",
       "    <tr>\n",
       "      <th>04-10-16</th>\n",
       "      <td>776.429993</td>\n",
       "    </tr>\n",
       "    <tr>\n",
       "      <th>05-10-16</th>\n",
       "      <td>776.469971</td>\n",
       "    </tr>\n",
       "    <tr>\n",
       "      <th>06-10-16</th>\n",
       "      <td>776.859985</td>\n",
       "    </tr>\n",
       "    <tr>\n",
       "      <th>07-10-16</th>\n",
       "      <td>775.080017</td>\n",
       "    </tr>\n",
       "  </tbody>\n",
       "</table>\n",
       "</div>"
      ],
      "text/plain": [
       "           Closing Value\n",
       "Date                    \n",
       "03-10-16      772.559998\n",
       "04-10-16      776.429993\n",
       "05-10-16      776.469971\n",
       "06-10-16      776.859985\n",
       "07-10-16      775.080017"
      ]
     },
     "execution_count": 10,
     "metadata": {},
     "output_type": "execute_result"
    }
   ],
   "source": [
    "fileSimulation = StringIO\\\n",
    "(\n",
    "\"Date, Closing Value\\n\\\n",
    "03-10-16,772.559998\\n\\\n",
    "04-10-16,776.429993\\n\\\n",
    "05-10-16,776.469971\\n\\\n",
    "06-10-16,776.859985\\n\\\n",
    "07-10-16,775.080017\"\n",
    ")\n",
    "\n",
    "a = pd.read_csv(filepath_or_buffer=fileSimulation, sep=',', index_col=0)\n",
    "a"
   ]
  },
  {
   "cell_type": "code",
   "execution_count": 11,
   "id": "b686ee07",
   "metadata": {},
   "outputs": [
    {
     "data": {
      "text/html": [
       "<div>\n",
       "<style scoped>\n",
       "    .dataframe tbody tr th:only-of-type {\n",
       "        vertical-align: middle;\n",
       "    }\n",
       "\n",
       "    .dataframe tbody tr th {\n",
       "        vertical-align: top;\n",
       "    }\n",
       "\n",
       "    .dataframe thead th {\n",
       "        text-align: right;\n",
       "    }\n",
       "</style>\n",
       "<table border=\"1\" class=\"dataframe\">\n",
       "  <thead>\n",
       "    <tr style=\"text-align: right;\">\n",
       "      <th></th>\n",
       "      <th>Closing Value</th>\n",
       "    </tr>\n",
       "    <tr>\n",
       "      <th>Date</th>\n",
       "      <th></th>\n",
       "    </tr>\n",
       "  </thead>\n",
       "  <tbody>\n",
       "    <tr>\n",
       "      <th>2016-03-10</th>\n",
       "      <td>772.559998</td>\n",
       "    </tr>\n",
       "    <tr>\n",
       "      <th>2016-04-10</th>\n",
       "      <td>776.429993</td>\n",
       "    </tr>\n",
       "    <tr>\n",
       "      <th>2016-05-10</th>\n",
       "      <td>776.469971</td>\n",
       "    </tr>\n",
       "    <tr>\n",
       "      <th>2016-06-10</th>\n",
       "      <td>776.859985</td>\n",
       "    </tr>\n",
       "    <tr>\n",
       "      <th>2016-07-10</th>\n",
       "      <td>775.080017</td>\n",
       "    </tr>\n",
       "  </tbody>\n",
       "</table>\n",
       "</div>"
      ],
      "text/plain": [
       "             Closing Value\n",
       "Date                      \n",
       "2016-03-10      772.559998\n",
       "2016-04-10      776.429993\n",
       "2016-05-10      776.469971\n",
       "2016-06-10      776.859985\n",
       "2016-07-10      775.080017"
      ]
     },
     "execution_count": 11,
     "metadata": {},
     "output_type": "execute_result"
    }
   ],
   "source": [
    "#convert index string to data type\n",
    "a.index = pd.to_datetime(a.index)\n",
    "a"
   ]
  },
  {
   "cell_type": "code",
   "execution_count": 12,
   "id": "bedf1b26",
   "metadata": {},
   "outputs": [
    {
     "data": {
      "image/png": "[encoded data removed]",
      "text/plain": [
       "<Figure size 432x288 with 1 Axes>"
      ]
     },
     "metadata": {
      "needs_background": "light"
     },
     "output_type": "display_data"
    }
   ],
   "source": [
    "yPlotTicks = np.linspace(772.5, 777, 10)\n",
    "\n",
    "fg, ax = plt.subplots()\n",
    "\n",
    "ax.plot(a, \n",
    "        marker='o',\n",
    "        color='red')\n",
    "\n",
    "ax.grid(True)\n",
    "ax.set(xlabel=a.axes[0].name,\n",
    "        ylabel=a.axes[1][0],\n",
    "        title=\"Closing stock value of Alphabet Inc.\")\n",
    "ax.set_yticks(yPlotTicks)\n",
    "ax.set_xticks(a.index.values)\n",
    "ax.set_xlim(a.index[0], a.index[-1])\n",
    "ax.set_ylim(yPlotTicks[0], yPlotTicks[-1])\n",
    "ax.grid(color='blue', linestyle='-', linewidth=0.5)"
   ]
  },
  {
   "cell_type": "markdown",
   "id": "e0507266",
   "metadata": {},
   "source": [
    "#### 3. Напишите программу Python для отображения гистограммы популярности языков программирования."
   ]
  },
  {
   "cell_type": "code",
   "execution_count": 13,
   "metadata": {},
   "outputs": [
    {
     "name": "stderr",
     "output_type": "stream",
     "text": [
      "C:\\Users\\leysh\\AppData\\Local\\Temp\\ipykernel_11300\\246348756.py:7: ParserWarning: Falling back to the 'python' engine because the 'c' engine does not support regex separators (separators > 1 char and different from '\\s+' are interpreted as regex); you can avoid this warning by specifying engine='python'.\n",
      "  a = pd.read_table(filepath_or_buffer=fileSimulation, sep=\"\\s*[,:]\\s*\", index_col=0).T\n"
     ]
    },
    {
     "data": {
      "text/html": [
       "<div>\n",
       "<style scoped>\n",
       "    .dataframe tbody tr th:only-of-type {\n",
       "        vertical-align: middle;\n",
       "    }\n",
       "\n",
       "    .dataframe tbody tr th {\n",
       "        vertical-align: top;\n",
       "    }\n",
       "\n",
       "    .dataframe thead th {\n",
       "        text-align: right;\n",
       "    }\n",
       "</style>\n",
       "<table border=\"1\" class=\"dataframe\">\n",
       "  <thead>\n",
       "    <tr style=\"text-align: right;\">\n",
       "      <th>Languages</th>\n",
       "      <th>Popularity</th>\n",
       "    </tr>\n",
       "  </thead>\n",
       "  <tbody>\n",
       "    <tr>\n",
       "      <th>Java</th>\n",
       "      <td>22.2</td>\n",
       "    </tr>\n",
       "    <tr>\n",
       "      <th>Python</th>\n",
       "      <td>17.6</td>\n",
       "    </tr>\n",
       "    <tr>\n",
       "      <th>PHP</th>\n",
       "      <td>8.8</td>\n",
       "    </tr>\n",
       "    <tr>\n",
       "      <th>JavaScript</th>\n",
       "      <td>8.0</td>\n",
       "    </tr>\n",
       "    <tr>\n",
       "      <th>C#</th>\n",
       "      <td>7.7</td>\n",
       "    </tr>\n",
       "    <tr>\n",
       "      <th>C++</th>\n",
       "      <td>6.7</td>\n",
       "    </tr>\n",
       "  </tbody>\n",
       "</table>\n",
       "</div>"
      ],
      "text/plain": [
       "Languages   Popularity\n",
       "Java              22.2\n",
       "Python            17.6\n",
       "PHP                8.8\n",
       "JavaScript         8.0\n",
       "C#                 7.7\n",
       "C++                6.7"
      ]
     },
     "execution_count": 13,
     "metadata": {},
     "output_type": "execute_result"
    }
   ],
   "source": [
    "fileSimulation = StringIO\\\n",
    "(\n",
    "\"Languages: Java, Python, PHP, JavaScript, C#, C++\\n\\\n",
    "Popularity: 22.2, 17.6, 8.8, 8, 7.7, 6.7\"\n",
    ")\n",
    "\n",
    "a = pd.read_table(filepath_or_buffer=fileSimulation, sep=\"\\s*[,:]\\s*\", index_col=0).T\n",
    "a"
   ]
  },
  {
   "cell_type": "code",
   "execution_count": 14,
   "id": "59209bf4",
   "metadata": {},
   "outputs": [
    {
     "data": {
      "image/png": "[encoded data removed]",
      "text/plain": [
       "<Figure size 432x288 with 1 Axes>"
      ]
     },
     "metadata": {
      "needs_background": "light"
     },
     "output_type": "display_data"
    }
   ],
   "source": [
    "yPlotTicks = np.linspace(0, 25, 6)\n",
    "\n",
    "fig, ax = plt.subplots()\n",
    "a.plot(kind='bar', \n",
    "        ax=ax, \n",
    "        rot=0, \n",
    "        color='b',\n",
    "        align='edge',\n",
    "        width=0.8,\n",
    "        legend=False\n",
    "        )\n",
    "\n",
    "ax.set(title=\"Populatiry of Programming Language\\nWorldwide, Oct 2017 compared to a year ago\",\n",
    "        xlabel=\"Language\",\n",
    "        ylabel=\"Populatiry\")\n",
    "\n",
    "ax.set_xlim(0, 6)\n",
    "ax.set_yticks(yPlotTicks)\n",
    "\n",
    "ax.grid(which='major', color='r', linewidth=0.5)\n",
    "ax.grid(which='minor', color='black', linestyle=':', linewidth=1, alpha=0.5)\n",
    "ax.minorticks_on()"
   ]
  },
  {
   "cell_type": "markdown",
   "id": "b8ff8c75",
   "metadata": {},
   "source": [
    "##### 3.1 Используя те же самые данные и тип диграммы: Раскрасьте столбцы разными цветами, сделайте их горизонтальными."
   ]
  },
  {
   "cell_type": "code",
   "execution_count": 150,
   "id": "79feb806",
   "metadata": {},
   "outputs": [
    {
     "ename": "IndexError",
     "evalue": "index 7 is out of bounds for axis 0 with size 7",
     "output_type": "error",
     "traceback": [
      "\u001b[1;31m---------------------------------------------------------------------------\u001b[0m",
      "\u001b[1;31mIndexError\u001b[0m                                Traceback (most recent call last)",
      "\u001b[1;32mc:\\Users\\leysh\\Downloads\\DSnML\\4S Matplotlib.ipynb Cell 16'\u001b[0m in \u001b[0;36m<cell line: 28>\u001b[1;34m()\u001b[0m\n\u001b[0;32m     <a href='vscode-notebook-cell:/c%3A/Users/leysh/Downloads/DSnML/4S%20Matplotlib.ipynb#ch0000015?line=25'>26</a>\u001b[0m np\u001b[39m.\u001b[39mrandom\u001b[39m.\u001b[39mshuffle(colors)\n\u001b[0;32m     <a href='vscode-notebook-cell:/c%3A/Users/leysh/Downloads/DSnML/4S%20Matplotlib.ipynb#ch0000015?line=27'>28</a>\u001b[0m \u001b[39mfor\u001b[39;00m i \u001b[39min\u001b[39;00m \u001b[39mrange\u001b[39m(nSize):\n\u001b[1;32m---> <a href='vscode-notebook-cell:/c%3A/Users/leysh/Downloads/DSnML/4S%20Matplotlib.ipynb#ch0000015?line=28'>29</a>\u001b[0m         childs[i]\u001b[39m.\u001b[39mset_color(colors[i])\n",
      "\u001b[1;31mIndexError\u001b[0m: index 7 is out of bounds for axis 0 with size 7"
     ]
    },
    {
     "data": {
      "image/png": "[encoded data removed]",
      "text/plain": [
       "<Figure size 432x288 with 1 Axes>"
      ]
     },
     "metadata": {
      "needs_background": "light"
     },
     "output_type": "display_data"
    }
   ],
   "source": [
    "nSize = a.index.size\n",
    "yPlotTicks = np.linspace(0, 25, nSize)\n",
    "\n",
    "fig, ax = plt.subplots()\n",
    "a.plot(kind='barh', \n",
    "        ax=ax, \n",
    "        rot=0, \n",
    "        align='edge',\n",
    "        width=0.8,\n",
    "        legend=False\n",
    "        )\n",
    "\n",
    "ax.set(title=\"Populatiry of Programming Language\\nWorldwide, Oct 2017 compared to a year ago\",\n",
    "        xlabel=\"Language\",\n",
    "        ylabel=\"Populatiry\")\n",
    "\n",
    "ax.set_ylim(0, 6)\n",
    "ax.set_xticks(yPlotTicks)\n",
    "\n",
    "ax.grid(which='major', color='r', linewidth=0.5)\n",
    "ax.grid(which='minor', color='black', linestyle=':', linewidth=1, alpha=0.5)\n",
    "ax.minorticks_on()\n",
    "\n",
    "childs = ax.get_children()\n",
    "colors = np.array(['b', 'g', 'r', 'c', 'm', 'y', 'k'])\n",
    "np.random.shuffle(colors)\n",
    "\n",
    "for i in range(nSize):\n",
    "        childs[i].set_color(colors[i])"
   ]
  },
  {
   "cell_type": "markdown",
   "id": "3c37f466",
   "metadata": {},
   "source": [
    "#### 4. Напишите программу на Python, чтобы создать график столбиков стека и добавить меткук каждому разделу"
   ]
  },
  {
   "cell_type": "code",
   "execution_count": 75,
   "id": "f641d738",
   "metadata": {},
   "outputs": [],
   "source": [
    "people = ('G1','G2','G3','G4','G5','G6','G7','G8')\n",
    "segments = 4\n",
    "# multi-dimensional data\n",
    "data = [[ 3.40022085, 7.70632498, 6.4097905, \n",
    "10.51648577, 7.5330039, 7.1123587, 12.77792868, \n",
    "3.44773477],\n",
    "[ 11.24811149, 5.03778215, 6.65808464, 12.32220677, \n",
    "7.45964195, 6.79685302, 7.24578743, 3.69371847],\n",
    "[ 3.94253354, 4.74763549, 11.73529246, 4.6465543, \n",
    "12.9952182, 4.63832778, 11.16849999, 8.56883433],\n",
    "[ 4.24409799, 12.71746612, 11.3772169, 9.00514257, \n",
    "10.47084185, 10.97567589, 3.98287652, 8.80552122]]\n"
   ]
  },
  {
   "cell_type": "code",
   "execution_count": 90,
   "id": "00db35b3",
   "metadata": {},
   "outputs": [
    {
     "data": {
      "text/html": [
       "<div>\n",
       "<style scoped>\n",
       "    .dataframe tbody tr th:only-of-type {\n",
       "        vertical-align: middle;\n",
       "    }\n",
       "\n",
       "    .dataframe tbody tr th {\n",
       "        vertical-align: top;\n",
       "    }\n",
       "\n",
       "    .dataframe thead th {\n",
       "        text-align: right;\n",
       "    }\n",
       "</style>\n",
       "<table border=\"1\" class=\"dataframe\">\n",
       "  <thead>\n",
       "    <tr style=\"text-align: right;\">\n",
       "      <th></th>\n",
       "      <th>R</th>\n",
       "      <th>G</th>\n",
       "      <th>W</th>\n",
       "      <th>P</th>\n",
       "    </tr>\n",
       "  </thead>\n",
       "  <tbody>\n",
       "    <tr>\n",
       "      <th>G1</th>\n",
       "      <td>3.400221</td>\n",
       "      <td>11.248111</td>\n",
       "      <td>3.942534</td>\n",
       "      <td>4.244098</td>\n",
       "    </tr>\n",
       "    <tr>\n",
       "      <th>G2</th>\n",
       "      <td>7.706325</td>\n",
       "      <td>5.037782</td>\n",
       "      <td>4.747635</td>\n",
       "      <td>12.717466</td>\n",
       "    </tr>\n",
       "    <tr>\n",
       "      <th>G3</th>\n",
       "      <td>6.409790</td>\n",
       "      <td>6.658085</td>\n",
       "      <td>11.735292</td>\n",
       "      <td>11.377217</td>\n",
       "    </tr>\n",
       "    <tr>\n",
       "      <th>G4</th>\n",
       "      <td>10.516486</td>\n",
       "      <td>12.322207</td>\n",
       "      <td>4.646554</td>\n",
       "      <td>9.005143</td>\n",
       "    </tr>\n",
       "    <tr>\n",
       "      <th>G5</th>\n",
       "      <td>7.533004</td>\n",
       "      <td>7.459642</td>\n",
       "      <td>12.995218</td>\n",
       "      <td>10.470842</td>\n",
       "    </tr>\n",
       "    <tr>\n",
       "      <th>G6</th>\n",
       "      <td>7.112359</td>\n",
       "      <td>6.796853</td>\n",
       "      <td>4.638328</td>\n",
       "      <td>10.975676</td>\n",
       "    </tr>\n",
       "    <tr>\n",
       "      <th>G7</th>\n",
       "      <td>12.777929</td>\n",
       "      <td>7.245787</td>\n",
       "      <td>11.168500</td>\n",
       "      <td>3.982877</td>\n",
       "    </tr>\n",
       "    <tr>\n",
       "      <th>G8</th>\n",
       "      <td>3.447735</td>\n",
       "      <td>3.693718</td>\n",
       "      <td>8.568834</td>\n",
       "      <td>8.805521</td>\n",
       "    </tr>\n",
       "  </tbody>\n",
       "</table>\n",
       "</div>"
      ],
      "text/plain": [
       "            R          G          W          P\n",
       "G1   3.400221  11.248111   3.942534   4.244098\n",
       "G2   7.706325   5.037782   4.747635  12.717466\n",
       "G3   6.409790   6.658085  11.735292  11.377217\n",
       "G4  10.516486  12.322207   4.646554   9.005143\n",
       "G5   7.533004   7.459642  12.995218  10.470842\n",
       "G6   7.112359   6.796853   4.638328  10.975676\n",
       "G7  12.777929   7.245787  11.168500   3.982877\n",
       "G8   3.447735   3.693718   8.568834   8.805521"
      ]
     },
     "execution_count": 90,
     "metadata": {},
     "output_type": "execute_result"
    }
   ],
   "source": [
    "a = pd.DataFrame(np.transpose(data), people, [\"R\", \"G\", \"W\", \"P\"])\n",
    "a"
   ]
  },
  {
   "cell_type": "code",
   "execution_count": 225,
   "id": "64bfe464",
   "metadata": {},
   "outputs": [
    {
     "data": {
      "image/png": "[encoded data removed]",
      "text/plain": [
       "<Figure size 432x288 with 1 Axes>"
      ]
     },
     "metadata": {
      "needs_background": "light"
     },
     "output_type": "display_data"
    }
   ],
   "source": [
    "nSize, dWidth= a.index.size, 0.8\n",
    "yPlotTicks = np.linspace(0, 25, nSize)\n",
    "\n",
    "fig, ax = plt.subplots()\n",
    "a.plot(kind='barh', \n",
    "        ax=ax, \n",
    "        rot=0, \n",
    "        align='center',\n",
    "        width=dWidth,\n",
    "        stacked=True,\n",
    "        legend=False,\n",
    "        color='rgwm',\n",
    "        edgecolor='k'\n",
    "        )\n",
    "\n",
    "ax.set(xlabel=\"Scores\")\n",
    "\n",
    "childs = ax.get_children()\n",
    "for c in childs:\n",
    "        if type(c) == matplotlib.patches.Rectangle:\n",
    "                ax.annotate(\"%\", xy=(0, 0), xytext=c.xy)\n",
    "        else:\n",
    "                break"
   ]
  },
  {
   "cell_type": "code",
   "execution_count": 228,
   "id": "d83daf6c",
   "metadata": {},
   "outputs": [
    {
     "data": {
      "text/plain": [
       "tuple"
      ]
     },
     "execution_count": 228,
     "metadata": {},
     "output_type": "execute_result"
    }
   ],
   "source": [
    "type(childs[0].xy)"
   ]
  },
  {
   "cell_type": "code",
   "execution_count": 231,
   "id": "efb27231",
   "metadata": {},
   "outputs": [
    {
     "data": {
      "text/plain": [
       "list"
      ]
     },
     "execution_count": 231,
     "metadata": {},
     "output_type": "execute_result"
    }
   ],
   "source": [
    "type([1, 2])"
   ]
  },
  {
   "cell_type": "code",
   "execution_count": null,
   "id": "5e4915ec",
   "metadata": {},
   "outputs": [],
   "source": []
  }
 ],
 "metadata": {
  "interpreter": {
   "hash": "0e68e4b9280787a44001420fbeeb7906ede8e891cdf07bd6c7dbd6239140b452"
  },
  "kernelspec": {
   "display_name": "Python 3.10.4 64-bit (windows store)",
   "language": "python",
   "name": "python3"
  },
  "language_info": {
   "codemirror_mode": {
    "name": "ipython",
    "version": 3
   },
   "file_extension": ".py",
   "mimetype": "text/x-python",
   "name": "python",
   "nbconvert_exporter": "python",
   "pygments_lexer": "ipython3",
   "version": "3.10.4"
  }
 },
 "nbformat": 4,
 "nbformat_minor": 5
}
