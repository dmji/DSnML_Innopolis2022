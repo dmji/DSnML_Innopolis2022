{
  "nbformat": 4,
  "nbformat_minor": 0,
  "metadata": {
    "kernelspec": {
      "display_name": "Python 3",
      "language": "python",
      "name": "python3"
    },
    "language_info": {
      "codemirror_mode": {
        "name": "ipython",
        "version": 3
      },
      "file_extension": ".py",
      "mimetype": "text/x-python",
      "name": "python",
      "nbconvert_exporter": "python",
      "pygments_lexer": "ipython3",
      "version": "3.8.3"
    },
    "colab": {
      "name": "NumPy 2.ipynb",
      "provenance": []
    }
  },
  "cells": [
    {
      "cell_type": "markdown",
      "metadata": {
        "id": "BENLOpy9uANL"
      },
      "source": [
        "массивы NumPy могут быть обычными операндами в математических выражениях:"
      ]
    },
    {
      "cell_type": "code",
      "metadata": {
        "id": "sxiv501ruANf"
      },
      "source": [
        "import numpy as np\n",
        "\n",
        "a = [1, 2, 3]    #  список Python\n",
        "b = np.array([1, 2, 3])    #  массив NumPy\n",
        "c = 7"
      ],
      "execution_count": null,
      "outputs": []
    },
    {
      "cell_type": "code",
      "metadata": {
        "id": "E3y9MQL6uAOF"
      },
      "source": [
        "#  Если мы умножим список на число:\n",
        "a * c"
      ],
      "execution_count": null,
      "outputs": []
    },
    {
      "cell_type": "code",
      "metadata": {
        "id": "lUNjs9bEuAPV"
      },
      "source": [
        "#  Теперь умножим массив NumPy на число:\n",
        "b * c"
      ],
      "execution_count": null,
      "outputs": []
    },
    {
      "cell_type": "code",
      "metadata": {
        "id": "gVT55_GSuAQj"
      },
      "source": [
        "#  Прибавим к массиву число:\n",
        "b + c"
      ],
      "execution_count": null,
      "outputs": []
    },
    {
      "cell_type": "markdown",
      "metadata": {
        "id": "Mp5eOAjluARt"
      },
      "source": [
        "Для выполнения таких операций на Python, мы были вынуждены писать циклы. \n",
        "\n",
        "в NumPy все операции выполняются поэлементно:"
      ]
    },
    {
      "cell_type": "code",
      "metadata": {
        "id": "T_zKa5FZuATr"
      },
      "source": [
        "a = np.array([[5, 7], [11, 13]])\n",
        "a / 3 #  обычное деление"
      ],
      "execution_count": null,
      "outputs": []
    },
    {
      "cell_type": "code",
      "metadata": {
        "id": "FaAjnsjZuAU6"
      },
      "source": [
        "a // 3 #  целочисленное деление"
      ],
      "execution_count": null,
      "outputs": []
    },
    {
      "cell_type": "code",
      "metadata": {
        "id": "WSjpLjaWuAVO"
      },
      "source": [
        "a % 3 #  остаток от деления"
      ],
      "execution_count": null,
      "outputs": []
    },
    {
      "cell_type": "code",
      "metadata": {
        "id": "vbHRcTfGuAVn"
      },
      "source": [
        "a ** 3 #  возведение в степень"
      ],
      "execution_count": null,
      "outputs": []
    },
    {
      "cell_type": "code",
      "metadata": {
        "id": "pLhegsy2uAWL"
      },
      "source": [
        "1 / a #  частное 1 и каждого элемента массива"
      ],
      "execution_count": null,
      "outputs": []
    },
    {
      "cell_type": "code",
      "metadata": {
        "id": "aGbjG8dOuAWc"
      },
      "source": [
        "-a #  изменение знака элементов массива"
      ],
      "execution_count": null,
      "outputs": []
    },
    {
      "cell_type": "code",
      "metadata": {
        "id": "M8FitsNOuAWm"
      },
      "source": [
        "a = np.arange(6)\n",
        "a"
      ],
      "execution_count": null,
      "outputs": []
    },
    {
      "cell_type": "code",
      "metadata": {
        "id": "PWOUq3UeuAW9"
      },
      "source": [
        "np.sin(a)    #  синус каждого элемента массива"
      ],
      "execution_count": null,
      "outputs": []
    },
    {
      "cell_type": "code",
      "metadata": {
        "id": "rNOYS9VguAXd"
      },
      "source": [
        "np.log(a)    #  натуральный логарифм элементов массива"
      ],
      "execution_count": null,
      "outputs": []
    },
    {
      "cell_type": "markdown",
      "metadata": {
        "id": "8Tyx4HqwuAXr"
      },
      "source": [
        "операции  `+=`, `-=`, `*=`, `/=`  не создают новый массив, а изменяют старый:"
      ]
    },
    {
      "cell_type": "code",
      "metadata": {
        "id": "3HqawB0vuAX2"
      },
      "source": [
        "a = np.array([1, 2, 3, 4, 5])\n",
        "b = np.array([0.1, 0.2, 0.3, 0.4, 0.5])"
      ],
      "execution_count": null,
      "outputs": []
    },
    {
      "cell_type": "code",
      "metadata": {
        "id": "P9fWStgIuAX8"
      },
      "source": [
        "a += 2\n",
        "a"
      ],
      "execution_count": null,
      "outputs": []
    },
    {
      "cell_type": "code",
      "metadata": {
        "id": "t3WKmHdBuAYN"
      },
      "source": [
        "a *= 2\n",
        "a"
      ],
      "execution_count": null,
      "outputs": []
    },
    {
      "cell_type": "code",
      "metadata": {
        "id": "8D_6knzwuAYh"
      },
      "source": [
        "#  Вещественный тип ('float64') не может быть \n",
        "#  преобразован в целочисленный ('int32'):\n",
        "# a += b"
      ],
      "execution_count": null,
      "outputs": []
    },
    {
      "cell_type": "code",
      "metadata": {
        "id": "fBoku6ffuAYh"
      },
      "source": [
        "#  А вот преобразование целочисленного типа в вещественный возможно\n",
        "b += a\n",
        "b"
      ],
      "execution_count": null,
      "outputs": []
    },
    {
      "cell_type": "markdown",
      "metadata": {
        "id": "kbCB8sBSuAYk"
      },
      "source": [
        "При работе с массивами разного типа, тип результирующего массива приводится к более общему:"
      ]
    },
    {
      "cell_type": "code",
      "metadata": {
        "id": "GE3J8QR8uAYo"
      },
      "source": [
        "a = np.arange(5)\n",
        "a"
      ],
      "execution_count": null,
      "outputs": []
    },
    {
      "cell_type": "code",
      "metadata": {
        "id": "wSJCzwTLuAYs"
      },
      "source": [
        "b = np.linspace(0, 5, 5)\n",
        "b"
      ],
      "execution_count": null,
      "outputs": []
    },
    {
      "cell_type": "code",
      "metadata": {
        "id": "1aJIX1yYuAYy"
      },
      "source": [
        "a.dtype"
      ],
      "execution_count": null,
      "outputs": []
    },
    {
      "cell_type": "code",
      "metadata": {
        "id": "07ZyelyyuAY5"
      },
      "source": [
        "b.dtype"
      ],
      "execution_count": null,
      "outputs": []
    },
    {
      "cell_type": "code",
      "metadata": {
        "id": "2velFmMxuAY8"
      },
      "source": [
        "c = a + b\n",
        "c"
      ],
      "execution_count": null,
      "outputs": []
    },
    {
      "cell_type": "code",
      "metadata": {
        "id": "wMF5pdxDuAY9"
      },
      "source": [
        "c.dtype"
      ],
      "execution_count": null,
      "outputs": []
    },
    {
      "cell_type": "markdown",
      "metadata": {
        "id": "S-TytW2euAZK"
      },
      "source": [
        "Применение логических операций к массивам:\n",
        "\n",
        "Результатом таких операций является массив булевых значений (`True` и `False`):"
      ]
    },
    {
      "cell_type": "code",
      "metadata": {
        "id": "S_yElz38uAZO"
      },
      "source": [
        "a = np.array([2, 3, 5, 7, 11, 13])\n",
        "a > 5"
      ],
      "execution_count": null,
      "outputs": []
    },
    {
      "cell_type": "code",
      "metadata": {
        "id": "DOj9mmtKuAZR"
      },
      "source": [
        "a == 7"
      ],
      "execution_count": null,
      "outputs": []
    },
    {
      "cell_type": "code",
      "metadata": {
        "id": "ACDuPbhiuAZS"
      },
      "source": [
        "b = np.array([2, 2, 5, 5, 11, 11])\n",
        "a > b"
      ],
      "execution_count": null,
      "outputs": []
    },
    {
      "cell_type": "code",
      "metadata": {
        "id": "L9EP16aPuAg8"
      },
      "source": [
        "a == b"
      ],
      "execution_count": null,
      "outputs": []
    },
    {
      "cell_type": "markdown",
      "metadata": {
        "id": "Wl1FMMhPuAhK"
      },
      "source": [
        "массив и число могут быть операндами самых разных математических выражений:"
      ]
    },
    {
      "cell_type": "code",
      "metadata": {
        "id": "RdHqfuOGuAhk"
      },
      "source": [
        "a = np.array([1, 2, 3])\n",
        "(a + 3) * 7"
      ],
      "execution_count": null,
      "outputs": []
    },
    {
      "cell_type": "code",
      "metadata": {
        "id": "gBGERAK1uAhl"
      },
      "source": [
        "a = np.array([1, 2, 3])\n",
        "b = np.array([3, 2, 1])\n",
        "a + b"
      ],
      "execution_count": null,
      "outputs": []
    },
    {
      "cell_type": "code",
      "metadata": {
        "id": "MQfliuJzuAhm"
      },
      "source": [
        "a ** b"
      ],
      "execution_count": null,
      "outputs": []
    },
    {
      "cell_type": "code",
      "metadata": {
        "id": "wpMdEcoIuAhm"
      },
      "source": [
        "a = np.arange(9).reshape(3, 3)\n",
        "a"
      ],
      "execution_count": null,
      "outputs": []
    },
    {
      "cell_type": "code",
      "metadata": {
        "id": "x3mioP2duAhm"
      },
      "source": [
        "b = np.arange(9, 0, -1).reshape(3, 3)\n",
        "b"
      ],
      "execution_count": null,
      "outputs": []
    },
    {
      "cell_type": "code",
      "metadata": {
        "id": "Dxko5gzPuAhn"
      },
      "source": [
        "a + b"
      ],
      "execution_count": null,
      "outputs": []
    },
    {
      "cell_type": "code",
      "metadata": {
        "id": "IzF-PZmMuAhn"
      },
      "source": [
        "a ** b"
      ],
      "execution_count": null,
      "outputs": []
    },
    {
      "cell_type": "markdown",
      "metadata": {
        "id": "lE6O_jQ0uAhn"
      },
      "source": [
        "!размеры должны быть не равны, НО должны быть совместимыми. \n",
        "\n",
        "Если их размеры совместимы, т.е. один массив может быть растянут до размеров другого, то в дело включается механизм broadcasting массивов NumPy. \n",
        "\n",
        "Этот механизм  имеет весьма специфичные нюансы. \n",
        "\n",
        "Рассмотрим простой пример:"
      ]
    },
    {
      "cell_type": "code",
      "metadata": {
        "id": "xTkrdcfSuAhn"
      },
      "source": [
        "a = np.arange(9).reshape(3, 3)\n",
        "a"
      ],
      "execution_count": null,
      "outputs": []
    },
    {
      "cell_type": "code",
      "metadata": {
        "id": "328RIDJouAho"
      },
      "source": [
        "b = np.array([1, 2, 3])\n",
        "b"
      ],
      "execution_count": null,
      "outputs": []
    },
    {
      "cell_type": "code",
      "metadata": {
        "id": "feQnn6bTuAho"
      },
      "source": [
        "c = np.array([[1, 2, 3], [1, 2, 3], [1, 2, 3]])\n",
        "c"
      ],
      "execution_count": null,
      "outputs": []
    },
    {
      "cell_type": "code",
      "metadata": {
        "id": "lv20emcKuAhs"
      },
      "source": [
        "a * b"
      ],
      "execution_count": null,
      "outputs": []
    },
    {
      "cell_type": "code",
      "metadata": {
        "id": "hJGQ7irhuAht"
      },
      "source": [
        "a * c"
      ],
      "execution_count": null,
      "outputs": []
    },
    {
      "cell_type": "markdown",
      "metadata": {
        "id": "WIERfX9juAht"
      },
      "source": [
        "В данном примере массив `b` может быть растянут до размеров массива `a` и станет абсолютно идентичен массиву `c`. \n",
        "\n",
        "\n",
        "Вычисление суммы всех элементов в массиве и прочие унарные операции в NumPy реализованы как методы класса `ndarray`:"
      ]
    },
    {
      "cell_type": "code",
      "metadata": {
        "id": "6u0x4be4uAh0"
      },
      "source": [
        "a = np.arange(10)\n",
        "a"
      ],
      "execution_count": null,
      "outputs": []
    },
    {
      "cell_type": "code",
      "metadata": {
        "id": "FYQiUJ4_uAh0"
      },
      "source": [
        "a.sum()"
      ],
      "execution_count": null,
      "outputs": []
    },
    {
      "cell_type": "code",
      "metadata": {
        "id": "5PmJ5lLTuAh1"
      },
      "source": [
        "a.min()"
      ],
      "execution_count": null,
      "outputs": []
    },
    {
      "cell_type": "code",
      "metadata": {
        "id": "a3aX1-KKuAh1"
      },
      "source": [
        "a.max()"
      ],
      "execution_count": null,
      "outputs": []
    },
    {
      "cell_type": "markdown",
      "metadata": {
        "id": "bRiokmNluAh1"
      },
      "source": [
        "По умолчанию, эти операции применяются к массиву, как к обычному списку чисел, без учета его ранга (размерности). \n",
        "\n",
        "Но если указать в качестве параметра одну из осей `axis`, то вычисления будут производиться именно по ней:"
      ]
    },
    {
      "cell_type": "code",
      "metadata": {
        "id": "qUH51dhWuAh2"
      },
      "source": [
        "b = np.arange(16).reshape(4, 4)\n",
        "b"
      ],
      "execution_count": null,
      "outputs": []
    },
    {
      "cell_type": "code",
      "metadata": {
        "id": "Qria4tVNuAh2"
      },
      "source": [
        "b.sum(axis=0)    #  Сумма элементов каждого столбца"
      ],
      "execution_count": null,
      "outputs": []
    },
    {
      "cell_type": "code",
      "metadata": {
        "id": "i3slUDEeuAh7"
      },
      "source": [
        "b.sum(axis=1)    #  Сумма элементов каждой строки"
      ],
      "execution_count": null,
      "outputs": []
    },
    {
      "cell_type": "code",
      "metadata": {
        "id": "ReFtMHH9uAh7"
      },
      "source": [
        "b.min(axis=1)    #  Минимальный элемент каждой строки"
      ],
      "execution_count": null,
      "outputs": []
    },
    {
      "cell_type": "code",
      "metadata": {
        "id": "H5IdmAZyuAh7"
      },
      "source": [
        "b.max(axis=0)    #  Максимальный элемент каждого столбца"
      ],
      "execution_count": null,
      "outputs": []
    },
    {
      "cell_type": "markdown",
      "metadata": {
        "id": "s_7oM2CTuAh8"
      },
      "source": [
        "### Значения -inf, inf и nan\n",
        "\n",
        "вычислим натуральный логарифм массива, среди значений которого есть ноль, не появляется  никакой ошибки, а сам логарифм стал равен значению `-inf` (минус бесконечность). \n",
        "\n",
        ":"
      ]
    },
    {
      "cell_type": "code",
      "metadata": {
        "id": "caCW6koOuAh_",
        "colab": {
          "base_uri": "https://localhost:8080/"
        },
        "outputId": "d69f6833-24ef-4ff3-8c13-7ddd9ffc8786"
      },
      "source": [
        "import numpy as np\n",
        "\n",
        "np.log(0)"
      ],
      "execution_count": null,
      "outputs": [
        {
          "output_type": "stream",
          "name": "stderr",
          "text": [
            "/usr/local/lib/python3.7/dist-packages/ipykernel_launcher.py:3: RuntimeWarning: divide by zero encountered in log\n",
            "  This is separate from the ipykernel package so we can avoid doing imports until\n"
          ]
        },
        {
          "output_type": "execute_result",
          "data": {
            "text/plain": [
              "-inf"
            ]
          },
          "metadata": {},
          "execution_count": 3
        }
      ]
    },
    {
      "cell_type": "markdown",
      "metadata": {
        "id": "3SuyD-4cuAiC"
      },
      "source": [
        "в NumPy мы даже можем делить на ноль:"
      ]
    },
    {
      "cell_type": "code",
      "metadata": {
        "id": "KG-O-83ouAiC",
        "colab": {
          "base_uri": "https://localhost:8080/"
        },
        "outputId": "e41b02b2-c329-4e8d-a207-19e07ae4a10e"
      },
      "source": [
        "a = np.array([0])\n",
        "1 / a"
      ],
      "execution_count": null,
      "outputs": [
        {
          "output_type": "stream",
          "name": "stderr",
          "text": [
            "/usr/local/lib/python3.7/dist-packages/ipykernel_launcher.py:2: RuntimeWarning: divide by zero encountered in true_divide\n",
            "  \n"
          ]
        },
        {
          "output_type": "execute_result",
          "data": {
            "text/plain": [
              "array([inf])"
            ]
          },
          "metadata": {},
          "execution_count": 4
        }
      ]
    },
    {
      "cell_type": "markdown",
      "metadata": {
        "id": "rjDCd49ouAiG"
      },
      "source": [
        "NumPy предупредил нас о том, что встретил деление на ноль, но тем не менее выдал ответ `inf` (плюс бесконечность). \n",
        "\n",
        "\n",
        "В NumPy есть еще одно специальное значение - `nan`. Данное значение выдается тогда, когда результат вычислений не удается определить:"
      ]
    },
    {
      "cell_type": "code",
      "metadata": {
        "id": "D9SO0ILruAiH",
        "colab": {
          "base_uri": "https://localhost:8080/"
        },
        "outputId": "1daed38c-7f46-424d-be66-d3aeda7166c0"
      },
      "source": [
        "a = np.array([0, 1, np.inf])\n",
        "a"
      ],
      "execution_count": null,
      "outputs": [
        {
          "output_type": "execute_result",
          "data": {
            "text/plain": [
              "array([ 0.,  1., inf])"
            ]
          },
          "metadata": {},
          "execution_count": 5
        }
      ]
    },
    {
      "cell_type": "code",
      "metadata": {
        "id": "sR8nUySyuAiH",
        "colab": {
          "base_uri": "https://localhost:8080/"
        },
        "outputId": "f6e37f1b-a859-4892-ad01-893df380ca96"
      },
      "source": [
        "np.cos(a)"
      ],
      "execution_count": null,
      "outputs": [
        {
          "output_type": "stream",
          "name": "stderr",
          "text": [
            "/usr/local/lib/python3.7/dist-packages/ipykernel_launcher.py:1: RuntimeWarning: invalid value encountered in cos\n",
            "  \"\"\"Entry point for launching an IPython kernel.\n"
          ]
        },
        {
          "output_type": "execute_result",
          "data": {
            "text/plain": [
              "array([1.        , 0.54030231,        nan])"
            ]
          },
          "metadata": {},
          "execution_count": 6
        }
      ]
    },
    {
      "cell_type": "markdown",
      "metadata": {
        "id": "8dxDUP2fuAiH"
      },
      "source": [
        "NumPy предупредил о том, что ему попалось недопустимое значение, но ошибки не возникло. \n",
        "\n",
        "Дело в том, что в реальных вычислениях значения `nan`, `inf` или `-inf` встречается очень часто.\n",
        "\n"
      ]
    },
    {
      "cell_type": "code",
      "metadata": {
        "id": "o3aNMCMmuAiI",
        "colab": {
          "base_uri": "https://localhost:8080/"
        },
        "outputId": "804324fc-2f8e-4b35-ed5e-681a75e9f408"
      },
      "source": [
        "np.cos(0)/np.sin(0)"
      ],
      "execution_count": null,
      "outputs": [
        {
          "output_type": "stream",
          "name": "stderr",
          "text": [
            "/usr/local/lib/python3.7/dist-packages/ipykernel_launcher.py:1: RuntimeWarning: divide by zero encountered in double_scalars\n",
            "  \"\"\"Entry point for launching an IPython kernel.\n"
          ]
        },
        {
          "output_type": "execute_result",
          "data": {
            "text/plain": [
              "inf"
            ]
          },
          "metadata": {},
          "execution_count": 7
        }
      ]
    },
    {
      "cell_type": "code",
      "metadata": {
        "id": "ZBM6FWk3uAiI",
        "colab": {
          "base_uri": "https://localhost:8080/"
        },
        "outputId": "ffd961be-7357-4496-82c4-3038908273c1"
      },
      "source": [
        "np.sin(np.pi/2)/np.cos(np.pi/2)    #  ожидаем значение 0, но..."
      ],
      "execution_count": null,
      "outputs": [
        {
          "output_type": "execute_result",
          "data": {
            "text/plain": [
              "1.633123935319537e+16"
            ]
          },
          "metadata": {},
          "execution_count": 9
        }
      ]
    },
    {
      "cell_type": "markdown",
      "metadata": {
        "id": "U2kUunpsuAiJ"
      },
      "source": [
        "Число `1.633123935319537e+16` появилось потому что в NumPy выполняются арифметические, а не символьные вычисления, т. е. число `π` хранится в памяти компьютера не как знание о том, что это математическая константа с бесконечным количеством десятичных знаков после запятой, а как обычное число с десятичной точкой (десятичная дробь) равная числу `π` с очень маленькой, но все же, погрешностью:"
      ]
    },
    {
      "cell_type": "code",
      "metadata": {
        "id": "uijbJ_16uAiJ",
        "colab": {
          "base_uri": "https://localhost:8080/"
        },
        "outputId": "aa662743-6ee2-40fa-dd52-1924edbe852d"
      },
      "source": [
        "np.pi    #  значение числа pi в NumPy"
      ],
      "execution_count": null,
      "outputs": [
        {
          "output_type": "execute_result",
          "data": {
            "text/plain": [
              "3.141592653589793"
            ]
          },
          "metadata": {},
          "execution_count": 10
        }
      ]
    },
    {
      "cell_type": "markdown",
      "metadata": {
        "id": "-epA8vUfuAiJ"
      },
      "source": [
        "Если вычисления все же возможны, то NumPy их обязательно выполнит. \n",
        "\n"
      ]
    },
    {
      "cell_type": "markdown",
      "metadata": {
        "id": "CxWMLxGduAiK"
      },
      "source": [
        "Если вам необходимы точные решения, то лучше обратиться к системам компьютерной алгебры и символьных вычислений, например пакету [SymPy](http://www.sympy.org/en/index.html). \n",
        "\n"
      ]
    },
    {
      "cell_type": "markdown",
      "metadata": {
        "id": "I9GgoPi7uAiK"
      },
      "source": [
        "### Линейная алгебра\n",
        "\n",
        "[Много функций](https://pyprog.pro/linear_algebra_functions/linalg_functions.html).\n",
        "\n",
        "Произведение одномерных массивов представляет собой скалярное произведение векторов:"
      ]
    },
    {
      "cell_type": "code",
      "metadata": {
        "id": "SwWKqJ39uAiN",
        "colab": {
          "base_uri": "https://localhost:8080/"
        },
        "outputId": "3b32739b-5c85-4fbf-fb58-c528870174b0"
      },
      "source": [
        "a = np.array([1, 2])\n",
        "b = np.array([3, 4])\n",
        "np.dot(a, b)"
      ],
      "execution_count": null,
      "outputs": [
        {
          "output_type": "execute_result",
          "data": {
            "text/plain": [
              "11"
            ]
          },
          "metadata": {},
          "execution_count": 11
        }
      ]
    },
    {
      "cell_type": "markdown",
      "metadata": {
        "id": "fa9Txyg_uAiO"
      },
      "source": [
        "Произведение двумерных массивов по правилам линейной алгебры также возможно:"
      ]
    },
    {
      "cell_type": "code",
      "metadata": {
        "id": "jR1OAG9suAiO",
        "colab": {
          "base_uri": "https://localhost:8080/"
        },
        "outputId": "7e4de176-5a62-4ce0-b74b-a65a451eee46"
      },
      "source": [
        "a = np.arange(2, 6).reshape(2, 2)\n",
        "a"
      ],
      "execution_count": null,
      "outputs": [
        {
          "output_type": "execute_result",
          "data": {
            "text/plain": [
              "array([[2, 3],\n",
              "       [4, 5]])"
            ]
          },
          "metadata": {},
          "execution_count": 12
        }
      ]
    },
    {
      "cell_type": "code",
      "metadata": {
        "id": "imffmgxyuAiO",
        "colab": {
          "base_uri": "https://localhost:8080/"
        },
        "outputId": "0ff939d1-11b7-4262-afdc-df5ec9538b4d"
      },
      "source": [
        "b = np.arange(6, 10).reshape(2, 2)\n",
        "b"
      ],
      "execution_count": null,
      "outputs": [
        {
          "output_type": "execute_result",
          "data": {
            "text/plain": [
              "array([[6, 7],\n",
              "       [8, 9]])"
            ]
          },
          "metadata": {},
          "execution_count": 13
        }
      ]
    },
    {
      "cell_type": "code",
      "metadata": {
        "id": "4CUUE9MAuAiP",
        "colab": {
          "base_uri": "https://localhost:8080/"
        },
        "outputId": "82ac7ca7-047a-44b6-c76c-a0f20c49c5cd"
      },
      "source": [
        "np.dot(a, b)"
      ],
      "execution_count": null,
      "outputs": [
        {
          "output_type": "execute_result",
          "data": {
            "text/plain": [
              "array([[36, 41],\n",
              "       [64, 73]])"
            ]
          },
          "metadata": {},
          "execution_count": 14
        }
      ]
    },
    {
      "cell_type": "markdown",
      "metadata": {
        "id": "aCm1hICauAiP"
      },
      "source": [
        "При этом размеры матриц (массивов) должны быть либо равны, а сами матрицы квадратными, либо быть согласованными, т.е. если размеры матрицы `А` равны `[m,k]`, то размеры матрицы `В` должны быть равны `[k,n]`:"
      ]
    },
    {
      "cell_type": "code",
      "metadata": {
        "id": "E0jVZJ2MuAiP"
      },
      "source": [
        "a = np.arange(2, 8).reshape(2, 3)\n",
        "a"
      ],
      "execution_count": null,
      "outputs": []
    },
    {
      "cell_type": "code",
      "metadata": {
        "id": "cH9p8VTRuAiP"
      },
      "source": [
        "b = np.arange(4, 10).reshape(3, 2)\n",
        "b"
      ],
      "execution_count": null,
      "outputs": []
    },
    {
      "cell_type": "code",
      "metadata": {
        "id": "5k9M95dguAiQ"
      },
      "source": [
        "np.dot(a,b)"
      ],
      "execution_count": null,
      "outputs": []
    },
    {
      "cell_type": "markdown",
      "metadata": {
        "id": "7M582hILuAiQ"
      },
      "source": [
        "Также по правилам умножения матриц, мы можем умножить матрицу на вектор (одномерный массив). \n",
        "\n",
        "При этом в таком умножении вектор столбец должен находиться справа, а вектор строка слева:"
      ]
    },
    {
      "cell_type": "code",
      "metadata": {
        "id": "k4fDVnQ_uAiQ"
      },
      "source": [
        "a = np.array([1, 2, 3])\n",
        "a"
      ],
      "execution_count": null,
      "outputs": []
    },
    {
      "cell_type": "code",
      "metadata": {
        "id": "PhnVn4miuAiQ"
      },
      "source": [
        "b = np.arange(4, 10).reshape(3, 2)\n",
        "b"
      ],
      "execution_count": null,
      "outputs": []
    },
    {
      "cell_type": "code",
      "metadata": {
        "id": "-9p4vymsuAiQ"
      },
      "source": [
        "np.dot(a, b)"
      ],
      "execution_count": null,
      "outputs": []
    },
    {
      "cell_type": "code",
      "metadata": {
        "id": "eervvsdDuAiQ"
      },
      "source": [
        "a = np.arange(1, 3).reshape(2, 1)\n",
        "a"
      ],
      "execution_count": null,
      "outputs": []
    },
    {
      "cell_type": "code",
      "metadata": {
        "id": "Ja12MTdvuAiQ"
      },
      "source": [
        "b = np.arange(4, 10).reshape(3, 2)\n",
        "b"
      ],
      "execution_count": null,
      "outputs": []
    },
    {
      "cell_type": "code",
      "metadata": {
        "id": "4CNahXd1uAiR"
      },
      "source": [
        "np.dot(b, a)"
      ],
      "execution_count": null,
      "outputs": []
    },
    {
      "cell_type": "markdown",
      "metadata": {
        "id": "71KbX1O0uAiR"
      },
      "source": [
        "Квадратные матрицы можно возводить в степень `n` т.е. умнажать сами на себя `n` раз:"
      ]
    },
    {
      "cell_type": "code",
      "metadata": {
        "id": "cZrVY-GZuAiR",
        "colab": {
          "base_uri": "https://localhost:8080/"
        },
        "outputId": "30b59c09-efff-42c9-cd52-026a5178a2f2"
      },
      "source": [
        "a = np.arange(1, 5).reshape(2, 2)\n",
        "a"
      ],
      "execution_count": null,
      "outputs": [
        {
          "output_type": "execute_result",
          "data": {
            "text/plain": [
              "array([[1, 2],\n",
              "       [3, 4]])"
            ]
          },
          "metadata": {},
          "execution_count": 15
        }
      ]
    },
    {
      "cell_type": "code",
      "metadata": {
        "id": "Wh5TrB6VuAiS",
        "colab": {
          "base_uri": "https://localhost:8080/"
        },
        "outputId": "cbb5cc11-8129-4f3a-e106-ee3f0ccdcf73"
      },
      "source": [
        "np.dot(a, a)    #  Равносильно a**2"
      ],
      "execution_count": null,
      "outputs": [
        {
          "output_type": "execute_result",
          "data": {
            "text/plain": [
              "array([[ 7, 10],\n",
              "       [15, 22]])"
            ]
          },
          "metadata": {},
          "execution_count": 16
        }
      ]
    },
    {
      "cell_type": "code",
      "metadata": {
        "id": "Cnndwh9luAiS",
        "colab": {
          "base_uri": "https://localhost:8080/"
        },
        "outputId": "bcedb113-40da-4900-eb62-f878a5a441dc"
      },
      "source": [
        "np.linalg.matrix_power(a, 2)"
      ],
      "execution_count": null,
      "outputs": [
        {
          "output_type": "execute_result",
          "data": {
            "text/plain": [
              "array([[ 7, 10],\n",
              "       [15, 22]])"
            ]
          },
          "metadata": {},
          "execution_count": 17
        }
      ]
    },
    {
      "cell_type": "code",
      "metadata": {
        "id": "iLYWAJ3DuAiS"
      },
      "source": [
        "np.linalg.matrix_power(a, 0)"
      ],
      "execution_count": null,
      "outputs": []
    },
    {
      "cell_type": "markdown",
      "metadata": {
        "id": "koLxI-FWuAiT"
      },
      "source": [
        "Довольно часто приходится вычислять ранг матриц:"
      ]
    },
    {
      "cell_type": "code",
      "metadata": {
        "id": "MLkWREgeuAiX"
      },
      "source": [
        "a = np.arange(1, 10).reshape(3, 3)\n",
        "a"
      ],
      "execution_count": null,
      "outputs": []
    },
    {
      "cell_type": "code",
      "metadata": {
        "id": "2hv0e7RouAiY",
        "colab": {
          "base_uri": "https://localhost:8080/"
        },
        "outputId": "412b3a7f-4d37-4561-f935-6be5c0664745"
      },
      "source": [
        "np.linalg.matrix_rank(a)"
      ],
      "execution_count": null,
      "outputs": [
        {
          "output_type": "execute_result",
          "data": {
            "text/plain": [
              "2"
            ]
          },
          "metadata": {},
          "execution_count": 18
        }
      ]
    },
    {
      "cell_type": "code",
      "metadata": {
        "id": "9oMKlwcIuAiY"
      },
      "source": [
        "b = np.arange(1, 24, 2).reshape(3, 4)\n",
        "b"
      ],
      "execution_count": null,
      "outputs": []
    },
    {
      "cell_type": "code",
      "metadata": {
        "id": "IJ4t4FumuAiY"
      },
      "source": [
        "np.linalg.matrix_rank(b)"
      ],
      "execution_count": null,
      "outputs": []
    },
    {
      "cell_type": "markdown",
      "metadata": {
        "id": "VyP_9Y-FuAib"
      },
      "source": [
        "Еще чаще приходится вычислять определитель матриц, хотя результат вас может немного удивить:"
      ]
    },
    {
      "cell_type": "code",
      "metadata": {
        "id": "KHsdaq5HuAib",
        "colab": {
          "base_uri": "https://localhost:8080/"
        },
        "outputId": "4a79cef4-e7d5-4096-afa8-7190d74dfe35"
      },
      "source": [
        "a = np.array([[1, 3], [4, 3]])\n",
        "a"
      ],
      "execution_count": null,
      "outputs": [
        {
          "output_type": "execute_result",
          "data": {
            "text/plain": [
              "array([[1, 3],\n",
              "       [4, 3]])"
            ]
          },
          "metadata": {},
          "execution_count": 19
        }
      ]
    },
    {
      "cell_type": "code",
      "metadata": {
        "id": "k_ko-dixuAic",
        "colab": {
          "base_uri": "https://localhost:8080/"
        },
        "outputId": "8b94b154-f7bd-4467-960a-78e6b19c2137"
      },
      "source": [
        "np.linalg.det(a)"
      ],
      "execution_count": null,
      "outputs": [
        {
          "output_type": "execute_result",
          "data": {
            "text/plain": [
              "-8.999999999999998"
            ]
          },
          "metadata": {},
          "execution_count": 20
        }
      ]
    },
    {
      "cell_type": "code",
      "metadata": {
        "id": "YfFZm20luAla"
      },
      "source": [
        "1*3 - 3*4    #  Результат должен быть целым числом"
      ],
      "execution_count": null,
      "outputs": []
    },
    {
      "cell_type": "markdown",
      "metadata": {
        "id": "IrRc9cxauAla"
      },
      "source": [
        "В данном случае, из-за двоичной арифметики, результат нецелое число и округлять до ближайшего целого придется вручную. \n",
        "\n",
        "Это связано с тем, что алгоритм вычисления определителя использует [LU-разложение](https://ru.wikipedia.org/wiki/LU-%D1%80%D0%B0%D0%B7%D0%BB%D0%BE%D0%B6%D0%B5%D0%BD%D0%B8%D0%B5) - это намного быстрее, чем обычный алгоритм, но за скорость все же приходится немного заплатить ручным округлением (конечно, если таковое требуется):"
      ]
    },
    {
      "cell_type": "code",
      "metadata": {
        "id": "h8kbdiJkuAlc"
      },
      "source": [
        "np.linalg.det(a)"
      ],
      "execution_count": null,
      "outputs": []
    },
    {
      "cell_type": "code",
      "metadata": {
        "id": "fbC5Rj0quAld"
      },
      "source": [
        "round(np.linalg.det(a))"
      ],
      "execution_count": null,
      "outputs": []
    },
    {
      "cell_type": "code",
      "metadata": {
        "id": "xnim4LHfuAlj"
      },
      "source": [
        "b = np.arange(1, 48, 3).reshape(4, 4)\n",
        "b"
      ],
      "execution_count": null,
      "outputs": []
    },
    {
      "cell_type": "code",
      "metadata": {
        "id": "GLbf8xR8uAlk"
      },
      "source": [
        "np.linalg.det(b)"
      ],
      "execution_count": null,
      "outputs": []
    },
    {
      "cell_type": "code",
      "metadata": {
        "id": "N9V5S7nduAlk"
      },
      "source": [
        "round(np.linalg.det(b))"
      ],
      "execution_count": null,
      "outputs": []
    },
    {
      "cell_type": "markdown",
      "metadata": {
        "id": "05IhcXATuAlk"
      },
      "source": [
        "Транспонирование матриц:"
      ]
    },
    {
      "cell_type": "code",
      "metadata": {
        "id": "hJeMnbnauAlk"
      },
      "source": [
        "a"
      ],
      "execution_count": null,
      "outputs": []
    },
    {
      "cell_type": "code",
      "metadata": {
        "id": "g9Wy6MZauAlk"
      },
      "source": [
        "a.T"
      ],
      "execution_count": null,
      "outputs": []
    },
    {
      "cell_type": "markdown",
      "metadata": {
        "id": "vMGk2ls6uAlk"
      },
      "source": [
        "Вычисление обратных матриц:"
      ]
    },
    {
      "cell_type": "code",
      "metadata": {
        "id": "86OaAVY6uAll"
      },
      "source": [
        "a"
      ],
      "execution_count": null,
      "outputs": []
    },
    {
      "cell_type": "code",
      "metadata": {
        "id": "N25SLKHsuAll"
      },
      "source": [
        "b = np.linalg.inv(a)\n",
        "b"
      ],
      "execution_count": null,
      "outputs": []
    },
    {
      "cell_type": "code",
      "metadata": {
        "id": "loqu-FDQuAll"
      },
      "source": [
        "np.dot(a, b)"
      ],
      "execution_count": null,
      "outputs": []
    },
    {
      "cell_type": "markdown",
      "metadata": {
        "id": "5z8ihrRTuAll"
      },
      "source": [
        "Решение систем линейных уравнений:"
      ]
    },
    {
      "cell_type": "code",
      "metadata": {
        "id": "0t6I5z33uAll"
      },
      "source": [
        "#  система из двух линейных уравнений:\n",
        "#  1*x1 + 5*x2 = 11\n",
        "#  2*x1 + 3*x2 = 8\n",
        "a = np.array([[1, 5], [2, 3]])\n",
        "b = np.array([11, 8])"
      ],
      "execution_count": null,
      "outputs": []
    },
    {
      "cell_type": "code",
      "metadata": {
        "id": "Bxfp_974uAll",
        "colab": {
          "base_uri": "https://localhost:8080/"
        },
        "outputId": "d4edf5d5-ec21-44ab-c6cc-770585c9db18"
      },
      "source": [
        "x = np.linalg.solve(a, b)\n",
        "x"
      ],
      "execution_count": null,
      "outputs": [
        {
          "output_type": "execute_result",
          "data": {
            "text/plain": [
              "array([1., 2.])"
            ]
          },
          "metadata": {},
          "execution_count": 22
        }
      ]
    },
    {
      "cell_type": "code",
      "metadata": {
        "id": "4CbuyvFEuAll",
        "colab": {
          "base_uri": "https://localhost:8080/"
        },
        "outputId": "71296d6d-cb09-4088-e577-0dd3c20506b2"
      },
      "source": [
        "np.dot(a, x)"
      ],
      "execution_count": null,
      "outputs": [
        {
          "output_type": "execute_result",
          "data": {
            "text/plain": [
              "array([11.,  8.])"
            ]
          },
          "metadata": {},
          "execution_count": 23
        }
      ]
    },
    {
      "cell_type": "markdown",
      "metadata": {
        "id": "zA86r2J8uAlm"
      },
      "source": [
        "### Статистика\n",
        "\n",
        "[Элементарные статистические функции](https://pyprog.pro/statistics_functions/statistics_function.html):"
      ]
    },
    {
      "cell_type": "code",
      "metadata": {
        "id": "KU8JLTn1uAlr",
        "colab": {
          "base_uri": "https://localhost:8080/"
        },
        "outputId": "61197a32-e11e-4cb7-ac85-2873cda2865a"
      },
      "source": [
        "a = np.random.randint(200, size=(5, 5))\n",
        "a"
      ],
      "execution_count": null,
      "outputs": [
        {
          "output_type": "execute_result",
          "data": {
            "text/plain": [
              "array([[ 72,  34, 171, 186, 153],\n",
              "       [156, 172,  90, 178,  63],\n",
              "       [ 68,  68, 167,  50, 192],\n",
              "       [133,  17, 144, 187,  61],\n",
              "       [ 63, 136, 105,  73, 121]])"
            ]
          },
          "metadata": {},
          "execution_count": 26
        }
      ]
    },
    {
      "cell_type": "code",
      "metadata": {
        "id": "6CTvrLsFuAlr"
      },
      "source": [
        "np.amin(a)    #  Минимальный элемент массива"
      ],
      "execution_count": null,
      "outputs": []
    },
    {
      "cell_type": "code",
      "metadata": {
        "id": "h0rxz8DouAlr"
      },
      "source": [
        "np.amax(a)    #  максимальный элемент"
      ],
      "execution_count": null,
      "outputs": []
    },
    {
      "cell_type": "code",
      "metadata": {
        "id": "b2UsqZbtuAls"
      },
      "source": [
        "np.amin(a, axis=0)  #  минимальный элемент вдоль первой оси (столбцы)"
      ],
      "execution_count": null,
      "outputs": []
    },
    {
      "cell_type": "code",
      "metadata": {
        "id": "EHkWpssHuAls"
      },
      "source": [
        "np.amin(a, axis=1)  #  минимальный элемент вдоль второй оси (строки)"
      ],
      "execution_count": null,
      "outputs": []
    },
    {
      "cell_type": "code",
      "metadata": {
        "id": "tWy6HM4muAls",
        "colab": {
          "base_uri": "https://localhost:8080/"
        },
        "outputId": "121dcf28-9304-43f2-a4c2-e887e3fcc919"
      },
      "source": [
        "#  Процентили:\n",
        "np.percentile(a, 25)"
      ],
      "execution_count": null,
      "outputs": [
        {
          "output_type": "execute_result",
          "data": {
            "text/plain": [
              "68.0"
            ]
          },
          "metadata": {},
          "execution_count": 27
        }
      ]
    },
    {
      "cell_type": "code",
      "metadata": {
        "id": "9D9bi7khuAls",
        "colab": {
          "base_uri": "https://localhost:8080/"
        },
        "outputId": "59693f38-b3e6-487a-a878-1f959b293eb4"
      },
      "source": [
        "np.percentile(a, 50)"
      ],
      "execution_count": null,
      "outputs": [
        {
          "output_type": "execute_result",
          "data": {
            "text/plain": [
              "121.0"
            ]
          },
          "metadata": {},
          "execution_count": 28
        }
      ]
    },
    {
      "cell_type": "code",
      "metadata": {
        "id": "1-EDFKIMuAlt",
        "colab": {
          "base_uri": "https://localhost:8080/"
        },
        "outputId": "f12e07de-c966-4ba8-a7ab-ddcb24078a36"
      },
      "source": [
        "np.percentile(a, 75)"
      ],
      "execution_count": null,
      "outputs": [
        {
          "output_type": "execute_result",
          "data": {
            "text/plain": [
              "167.0"
            ]
          },
          "metadata": {},
          "execution_count": 29
        }
      ]
    },
    {
      "cell_type": "markdown",
      "metadata": {
        "id": "p3p21AfJuAlt"
      },
      "source": [
        "Средние значения элементов массива и их отклонения:"
      ]
    },
    {
      "cell_type": "code",
      "metadata": {
        "id": "I7wJsfWHuAlt"
      },
      "source": [
        "a = np.random.randint(13, size=(5, 5))\n",
        "a"
      ],
      "execution_count": null,
      "outputs": []
    },
    {
      "cell_type": "code",
      "metadata": {
        "id": "23hhjwXnuAlu"
      },
      "source": [
        "np.median(a)    #  медиана элементов массива"
      ],
      "execution_count": null,
      "outputs": []
    },
    {
      "cell_type": "code",
      "metadata": {
        "id": "cGUMgTgguAlu"
      },
      "source": [
        "np.mean(a)    #  среднее арифметическое"
      ],
      "execution_count": null,
      "outputs": []
    },
    {
      "cell_type": "code",
      "metadata": {
        "id": "wQHJcIWxuAlu",
        "colab": {
          "base_uri": "https://localhost:8080/"
        },
        "outputId": "ec899fbc-cc01-4c02-f312-bbebf0024c5e"
      },
      "source": [
        "np.var(a)    #  дисперсия"
      ],
      "execution_count": null,
      "outputs": [
        {
          "output_type": "execute_result",
          "data": {
            "text/plain": [
              "2857.6"
            ]
          },
          "metadata": {},
          "execution_count": 30
        }
      ]
    },
    {
      "cell_type": "code",
      "metadata": {
        "id": "Nty81U3ouAlu",
        "colab": {
          "base_uri": "https://localhost:8080/"
        },
        "outputId": "2326c4dc-bde0-4743-ce42-55cfde64ec78"
      },
      "source": [
        "np.std(a)    #  стандартное отклонение"
      ],
      "execution_count": null,
      "outputs": [
        {
          "output_type": "execute_result",
          "data": {
            "text/plain": [
              "53.45652439132196"
            ]
          },
          "metadata": {},
          "execution_count": 31
        }
      ]
    },
    {
      "cell_type": "markdown",
      "metadata": {
        "id": "6xQEElNhuAlu"
      },
      "source": [
        "Корреляционные коэфициенты и ковариационные матрицы величин:"
      ]
    },
    {
      "cell_type": "code",
      "metadata": {
        "id": "6AnteAMAuAlv"
      },
      "source": [
        "x = np.array([1, 4, 3, 7, 10, 8, 14, 21, 20, 23])\n",
        "y = np.array([4, 1, 6, 9, 13, 11, 16, 19, 15, 22])\n",
        "z = np.array([29, 22, 24, 20, 18, 14, 16, 11, 9, 10])"
      ],
      "execution_count": null,
      "outputs": []
    },
    {
      "cell_type": "code",
      "metadata": {
        "id": "NgTdgcjVuAlv",
        "colab": {
          "base_uri": "https://localhost:8080/"
        },
        "outputId": "942a0781-3488-426e-c972-c2dee65e62b9"
      },
      "source": [
        "#  Линейный коэфициент корреляции Пирсона\n",
        "#  величин 'x' и 'y'\n",
        "\n",
        "XY = np.stack((x, y), axis=1)\n",
        "XY"
      ],
      "execution_count": null,
      "outputs": [
        {
          "output_type": "execute_result",
          "data": {
            "text/plain": [
              "array([[ 1,  4],\n",
              "       [ 4,  1],\n",
              "       [ 3,  6],\n",
              "       [ 7,  9],\n",
              "       [10, 13],\n",
              "       [ 8, 11],\n",
              "       [14, 16],\n",
              "       [21, 19],\n",
              "       [20, 15],\n",
              "       [23, 22]])"
            ]
          },
          "metadata": {},
          "execution_count": 34
        }
      ]
    },
    {
      "cell_type": "code",
      "metadata": {
        "id": "Fzn2HHGzuAlv"
      },
      "source": [
        "np.corrcoef(XY)"
      ],
      "execution_count": null,
      "outputs": []
    },
    {
      "cell_type": "code",
      "metadata": {
        "id": "omdVkU5buAlv",
        "colab": {
          "base_uri": "https://localhost:8080/"
        },
        "outputId": "74d9b3af-57fc-4440-dc3f-643ebab0c26a"
      },
      "source": [
        "#  Кросс-корреляции:\n",
        "np.correlate(x, y)"
      ],
      "execution_count": null,
      "outputs": [
        {
          "output_type": "execute_result",
          "data": {
            "text/plain": [
              "array([1736])"
            ]
          },
          "metadata": {},
          "execution_count": 35
        }
      ]
    },
    {
      "cell_type": "code",
      "metadata": {
        "id": "yTxumYpKuAlv",
        "colab": {
          "base_uri": "https://localhost:8080/"
        },
        "outputId": "671cfd20-48f7-4b71-f614-47ceeb8d7cbf"
      },
      "source": [
        "np.correlate(x, z)"
      ],
      "execution_count": null,
      "outputs": [
        {
          "output_type": "execute_result",
          "data": {
            "text/plain": [
              "array([1486])"
            ]
          },
          "metadata": {},
          "execution_count": 36
        }
      ]
    },
    {
      "cell_type": "code",
      "metadata": {
        "id": "6cuqsXb8uAlv",
        "colab": {
          "base_uri": "https://localhost:8080/"
        },
        "outputId": "98ff39a9-7ce9-487e-a481-ba46b10bb497"
      },
      "source": [
        "#  Ковариационные матрицы:\n",
        "np.cov(XY)"
      ],
      "execution_count": null,
      "outputs": [
        {
          "output_type": "execute_result",
          "data": {
            "text/plain": [
              "array([[ 4.5, -4.5,  4.5,  3. ,  4.5,  4.5,  3. , -3. , -7.5, -1.5],\n",
              "       [-4.5,  4.5, -4.5, -3. , -4.5, -4.5, -3. ,  3. ,  7.5,  1.5],\n",
              "       [ 4.5, -4.5,  4.5,  3. ,  4.5,  4.5,  3. , -3. , -7.5, -1.5],\n",
              "       [ 3. , -3. ,  3. ,  2. ,  3. ,  3. ,  2. , -2. , -5. , -1. ],\n",
              "       [ 4.5, -4.5,  4.5,  3. ,  4.5,  4.5,  3. , -3. , -7.5, -1.5],\n",
              "       [ 4.5, -4.5,  4.5,  3. ,  4.5,  4.5,  3. , -3. , -7.5, -1.5],\n",
              "       [ 3. , -3. ,  3. ,  2. ,  3. ,  3. ,  2. , -2. , -5. , -1. ],\n",
              "       [-3. ,  3. , -3. , -2. , -3. , -3. , -2. ,  2. ,  5. ,  1. ],\n",
              "       [-7.5,  7.5, -7.5, -5. , -7.5, -7.5, -5. ,  5. , 12.5,  2.5],\n",
              "       [-1.5,  1.5, -1.5, -1. , -1.5, -1.5, -1. ,  1. ,  2.5,  0.5]])"
            ]
          },
          "metadata": {},
          "execution_count": 37
        }
      ]
    },
    {
      "cell_type": "code",
      "metadata": {
        "id": "IGQGnx4guAlv",
        "colab": {
          "base_uri": "https://localhost:8080/"
        },
        "outputId": "69e9bef5-a88b-4a7e-e559-5edcc2c4e674"
      },
      "source": [
        "np.cov(x)"
      ],
      "execution_count": null,
      "outputs": [
        {
          "output_type": "execute_result",
          "data": {
            "text/plain": [
              "array(63.65555556)"
            ]
          },
          "metadata": {},
          "execution_count": 38
        }
      ]
    },
    {
      "cell_type": "markdown",
      "metadata": {
        "id": "cejp26LeuAlw"
      },
      "source": [
        "Так же NumPy предоставляет функции для вычисления гистограмм наборов данных различной размерности и некоторые другие статистичские функции."
      ]
    },
    {
      "cell_type": "markdown",
      "metadata": {
        "id": "IP-nADebuAlw"
      },
      "source": [
        "### Генерация случайных значений"
      ]
    },
    {
      "cell_type": "markdown",
      "metadata": {
        "id": "qk-Cw6PouAlw"
      },
      "source": [
        "Получение простых случайных данных:"
      ]
    },
    {
      "cell_type": "code",
      "metadata": {
        "id": "rEvfMIjpuAlw",
        "colab": {
          "base_uri": "https://localhost:8080/"
        },
        "outputId": "51d88db6-5fe5-436e-f32e-f5879a2aa9b9"
      },
      "source": [
        "np.random.rand()    #  случайное число от 0 до 1"
      ],
      "execution_count": null,
      "outputs": [
        {
          "output_type": "execute_result",
          "data": {
            "text/plain": [
              "0.03531268624747008"
            ]
          },
          "metadata": {},
          "execution_count": 39
        }
      ]
    },
    {
      "cell_type": "code",
      "metadata": {
        "id": "1Y555vy6uAlw",
        "colab": {
          "base_uri": "https://localhost:8080/"
        },
        "outputId": "ef545e0e-92e2-4938-e139-3799494eead0"
      },
      "source": [
        "np.random.rand(10)    #  одномерный массив случайных значений"
      ],
      "execution_count": null,
      "outputs": [
        {
          "output_type": "execute_result",
          "data": {
            "text/plain": [
              "array([0.69194585, 0.03302362, 0.27109954, 0.29604165, 0.76997087,\n",
              "       0.9066475 , 0.30879373, 0.65730638, 0.40157416, 0.28751768])"
            ]
          },
          "metadata": {},
          "execution_count": 40
        }
      ]
    },
    {
      "cell_type": "code",
      "metadata": {
        "id": "oZskILN_uAlx",
        "colab": {
          "base_uri": "https://localhost:8080/"
        },
        "outputId": "9a0962a7-ef03-499f-bef3-97c88fde0bdb"
      },
      "source": [
        "np.random.rand(4, 4)    #  двумерный массив случайных значений"
      ],
      "execution_count": null,
      "outputs": [
        {
          "output_type": "execute_result",
          "data": {
            "text/plain": [
              "array([[0.96830433, 0.12691256, 0.88004409, 0.40875406],\n",
              "       [0.1153612 , 0.63423812, 0.53466323, 0.6633678 ],\n",
              "       [0.341734  , 0.87080408, 0.55916858, 0.89655809],\n",
              "       [0.15120441, 0.5007431 , 0.14022154, 0.21469991]])"
            ]
          },
          "metadata": {},
          "execution_count": 42
        }
      ]
    },
    {
      "cell_type": "code",
      "metadata": {
        "id": "Rx2_AYYIuAlx"
      },
      "source": [
        "np.random.randn(10)    #  случайные значения с нормальным распределением"
      ],
      "execution_count": null,
      "outputs": []
    },
    {
      "cell_type": "code",
      "metadata": {
        "id": "61ZYqHtHuAlx"
      },
      "source": [
        "np.random.randint(10)    #  случайное целое число от 0 до 10"
      ],
      "execution_count": null,
      "outputs": []
    },
    {
      "cell_type": "code",
      "metadata": {
        "id": "FNRuNvOKuAlx"
      },
      "source": [
        "np.random.randint(10, 100)    #  случайное целое число от 10 до 100"
      ],
      "execution_count": null,
      "outputs": []
    },
    {
      "cell_type": "code",
      "metadata": {
        "id": "2m_h50U8uAlx"
      },
      "source": [
        "np.random.randint(10, size=7)    #  одномерный массив случайных целых чисел"
      ],
      "execution_count": null,
      "outputs": []
    },
    {
      "cell_type": "code",
      "metadata": {
        "id": "tKHNryKbuAly"
      },
      "source": [
        "np.random.randint(10, size=(4, 4))    #  двумерный массив случайных целых чисел"
      ],
      "execution_count": null,
      "outputs": []
    },
    {
      "cell_type": "markdown",
      "metadata": {
        "id": "PbmquL2HuAl1"
      },
      "source": [
        "Перестановки:"
      ]
    },
    {
      "cell_type": "code",
      "metadata": {
        "id": "OQ6U4ouEuAl1"
      },
      "source": [
        "x = np.arange(7)\n",
        "x"
      ],
      "execution_count": null,
      "outputs": []
    },
    {
      "cell_type": "code",
      "metadata": {
        "id": "Vwva1GrYuAl1",
        "colab": {
          "base_uri": "https://localhost:8080/"
        },
        "outputId": "7651567f-8baf-4eac-e369-e75146ac49d3"
      },
      "source": [
        "np.random.shuffle(x)    #  перетасовывает содержимое массива\n",
        "x"
      ],
      "execution_count": null,
      "outputs": [
        {
          "output_type": "execute_result",
          "data": {
            "text/plain": [
              "array([ 3,  1,  7, 23, 14, 20,  4, 21, 10,  8])"
            ]
          },
          "metadata": {},
          "execution_count": 43
        }
      ]
    },
    {
      "cell_type": "code",
      "metadata": {
        "id": "x5wpGe4quAl1",
        "colab": {
          "base_uri": "https://localhost:8080/"
        },
        "outputId": "072cd8c6-cbe5-49b9-c035-4cb89756d459"
      },
      "source": [
        "np.random.permutation(7)    #  выполняет тоже самое, не требуя входного массива"
      ],
      "execution_count": null,
      "outputs": [
        {
          "output_type": "execute_result",
          "data": {
            "text/plain": [
              "array([4, 1, 3, 6, 5, 0, 2])"
            ]
          },
          "metadata": {},
          "execution_count": 44
        }
      ]
    },
    {
      "cell_type": "code",
      "metadata": {
        "id": "gYIjsWHzuAl2"
      },
      "source": [
        "y = np.arange(9).reshape(3, 3)\n",
        "y"
      ],
      "execution_count": null,
      "outputs": []
    },
    {
      "cell_type": "code",
      "metadata": {
        "id": "NaXyzDOcuAl2"
      },
      "source": [
        "np.random.shuffle(y)    #  перестановки выполняются только по 1-й оси"
      ],
      "execution_count": null,
      "outputs": []
    },
    {
      "cell_type": "markdown",
      "metadata": {
        "id": "3y0s39IHuAl2"
      },
      "source": [
        "NumPy предоставляет [порядка 30 функций](https://pyprog.pro/random_sampling_functions/random_sampling_functions.html), позволяющих генерировать случайные числа с самыми разными вероятностными распределениями:"
      ]
    },
    {
      "cell_type": "code",
      "metadata": {
        "id": "tq8zvo2FuAl2",
        "colab": {
          "base_uri": "https://localhost:8080/"
        },
        "outputId": "83563153-00b6-4675-e6ca-3a4b24cdffb2"
      },
      "source": [
        "np.random.beta(0.1, 0.6, size=5)    #  бета распределение"
      ],
      "execution_count": null,
      "outputs": [
        {
          "output_type": "execute_result",
          "data": {
            "text/plain": [
              "array([5.14588126e-02, 1.08249428e-08, 1.13499722e-01, 4.72836587e-03,\n",
              "       2.67697709e-02])"
            ]
          },
          "metadata": {},
          "execution_count": 45
        }
      ]
    },
    {
      "cell_type": "code",
      "metadata": {
        "id": "BES4Z3SJuAl2",
        "colab": {
          "base_uri": "https://localhost:8080/"
        },
        "outputId": "c22d0567-9621-4b65-8baa-54bde52d4ea1"
      },
      "source": [
        "np.random.gamma(shape=0.8, scale=1.7, size=5)    # гамма распределение"
      ],
      "execution_count": null,
      "outputs": [
        {
          "output_type": "execute_result",
          "data": {
            "text/plain": [
              "array([0.84068412, 2.0062939 , 2.87326476, 2.35582399, 1.1962259 ])"
            ]
          },
          "metadata": {},
          "execution_count": 46
        }
      ]
    },
    {
      "cell_type": "code",
      "metadata": {
        "id": "TiRNJxZruAl2",
        "colab": {
          "base_uri": "https://localhost:8080/"
        },
        "outputId": "7e6bdcfe-ecb5-42fe-b057-9c3f44b88b5d"
      },
      "source": [
        "np.random.pareto(3.5, size=5)    #  Паретто распределение"
      ],
      "execution_count": null,
      "outputs": [
        {
          "output_type": "execute_result",
          "data": {
            "text/plain": [
              "array([0.06709345, 0.11129089, 0.13330934, 0.0447309 , 0.11014842])"
            ]
          },
          "metadata": {},
          "execution_count": 47
        }
      ]
    },
    {
      "cell_type": "code",
      "metadata": {
        "id": "8Y7AuutEuAl3",
        "colab": {
          "base_uri": "https://localhost:8080/"
        },
        "outputId": "db6d99da-a1cb-4995-dc15-6342f3d3d583"
      },
      "source": [
        "np.random.chisquare(2.2, size=5)     #  хи-квадрат распределение"
      ],
      "execution_count": null,
      "outputs": [
        {
          "output_type": "execute_result",
          "data": {
            "text/plain": [
              "array([1.43499733, 5.00922893, 2.57464691, 4.71706516, 1.93135515])"
            ]
          },
          "metadata": {},
          "execution_count": 48
        }
      ]
    },
    {
      "cell_type": "markdown",
      "metadata": {
        "id": "X9Y7LQ0duAl3"
      },
      "source": [
        "Вы так же имеете доступ к состоянию генератора случайных чисел, а так же можете управлять им:"
      ]
    },
    {
      "cell_type": "code",
      "metadata": {
        "id": "lslB6zwcuAl4"
      },
      "source": [
        "#np.random.get_state()    #  Вы можете узнать состояние генератора"
      ],
      "execution_count": null,
      "outputs": []
    },
    {
      "cell_type": "code",
      "metadata": {
        "id": "CxOBuw0HuAl4"
      },
      "source": [
        "np.random.seed(123)    #  устанавливает состояние генератора"
      ],
      "execution_count": null,
      "outputs": []
    },
    {
      "cell_type": "code",
      "metadata": {
        "id": "usjAagb7uAl5"
      },
      "source": [
        "np.random.rand(5)"
      ],
      "execution_count": null,
      "outputs": []
    },
    {
      "cell_type": "markdown",
      "metadata": {
        "id": "zTojDJg8uAl5"
      },
      "source": [
        "### Множества\n",
        "\n",
        "В случаях, когда массивы содержат очень много элементов, среди которых есть одинаковые, возникает задача поиска уникальных элементов, количества их вхождений в исходный массив:"
      ]
    },
    {
      "cell_type": "code",
      "metadata": {
        "id": "SEMV5ravuAl5",
        "colab": {
          "base_uri": "https://localhost:8080/"
        },
        "outputId": "8ecc1a61-77dc-40e3-e4ae-e8c8cb428105"
      },
      "source": [
        "x = np.array([1, 2, 1, 2, 3, 1])\n",
        "np.unique(x)"
      ],
      "execution_count": null,
      "outputs": [
        {
          "output_type": "execute_result",
          "data": {
            "text/plain": [
              "array([1, 2, 3])"
            ]
          },
          "metadata": {},
          "execution_count": 49
        }
      ]
    },
    {
      "cell_type": "code",
      "metadata": {
        "id": "Ajxsw7mGuAl6"
      },
      "source": [
        "np.unique(x, return_counts=True)    #  количество вхождений"
      ],
      "execution_count": null,
      "outputs": []
    },
    {
      "cell_type": "markdown",
      "metadata": {
        "id": "_yg3t7bzuAl7"
      },
      "source": [
        "В двумерных и многомерных массивах уникальные массивы можно искать, как по всему множеству его значений, так и по отдельным осям:"
      ]
    },
    {
      "cell_type": "code",
      "metadata": {
        "id": "HME4rNuEuAl7"
      },
      "source": [
        "x = np.array([[0, 1, 1, 2], [0, 1, 1, 2], [9, 1, 1, 2]])\n",
        "x"
      ],
      "execution_count": null,
      "outputs": []
    },
    {
      "cell_type": "code",
      "metadata": {
        "id": "qm5I2rlduAl7"
      },
      "source": [
        "np.unique(x, axis=0)    #  множество уникальных строк"
      ],
      "execution_count": null,
      "outputs": []
    },
    {
      "cell_type": "code",
      "metadata": {
        "id": "ugeB_pe7uAl7"
      },
      "source": [
        "np.unique(x, axis=1)    #  множество уникальных столбцов"
      ],
      "execution_count": null,
      "outputs": []
    },
    {
      "cell_type": "markdown",
      "metadata": {
        "id": "scE_xND0uAl7"
      },
      "source": [
        "Так же имеется ряд других полезных функций:"
      ]
    },
    {
      "cell_type": "code",
      "metadata": {
        "id": "QGuzTx-YuAl7"
      },
      "source": [
        "X = np.array([0, 2, 4, 6, 8])\n",
        "Y = np.array([0, 3, 4, 6, 7])"
      ],
      "execution_count": null,
      "outputs": []
    },
    {
      "cell_type": "code",
      "metadata": {
        "id": "VFlbmAIluAl7",
        "colab": {
          "base_uri": "https://localhost:8080/"
        },
        "outputId": "a819f461-1c3f-46ee-badd-385d56326798"
      },
      "source": [
        "np.in1d(X, Y)    #  наличие элементов из X среди элементов Y"
      ],
      "execution_count": null,
      "outputs": [
        {
          "output_type": "execute_result",
          "data": {
            "text/plain": [
              "array([ True, False,  True,  True, False])"
            ]
          },
          "metadata": {},
          "execution_count": 52
        }
      ]
    },
    {
      "cell_type": "code",
      "metadata": {
        "id": "TNH9ZPWIuAl8",
        "colab": {
          "base_uri": "https://localhost:8080/"
        },
        "outputId": "0a6a7842-27eb-4d21-daa3-712aa9f18c76"
      },
      "source": [
        "np.intersect1d(X, Y)    #  пересечение множеств элементов массивов"
      ],
      "execution_count": null,
      "outputs": [
        {
          "output_type": "execute_result",
          "data": {
            "text/plain": [
              "array([0, 4, 6])"
            ]
          },
          "metadata": {},
          "execution_count": 53
        }
      ]
    },
    {
      "cell_type": "code",
      "metadata": {
        "id": "n9lQGcivuAl8"
      },
      "source": [
        "np.setdiff1d(X, Y)    #  разность множеств"
      ],
      "execution_count": null,
      "outputs": []
    },
    {
      "cell_type": "code",
      "metadata": {
        "id": "cegm4t8kuAl8"
      },
      "source": [
        "np.setxor1d(X, Y)    #  симметрическая разность (исключающее или)"
      ],
      "execution_count": null,
      "outputs": []
    },
    {
      "cell_type": "code",
      "metadata": {
        "id": "FfrewBdAuAl8"
      },
      "source": [
        "np.union1d(X, Y)     #  объединение множеств"
      ],
      "execution_count": null,
      "outputs": []
    },
    {
      "cell_type": "markdown",
      "metadata": {
        "id": "36Vhb68auAl8"
      },
      "source": [
        "### Логические операции\n",
        "\n",
        "Логические функции NumPy, условно, можно разделить на два множества: первое - позволяет определять специфику элементов массива и самого массива; второе - обычные логические операции, которые действуют над массивами поэлементно.\n",
        "\n",
        "Иногда, возникает потребность определить тип элементов:"
      ]
    },
    {
      "cell_type": "code",
      "metadata": {
        "id": "mFVWk-1cuAl9"
      },
      "source": [
        "A = np.array([-np.inf, np.inf, np.nan, -1, 0, 1, 1.47, 2, 3 + 2j])"
      ],
      "execution_count": null,
      "outputs": []
    },
    {
      "cell_type": "code",
      "metadata": {
        "id": "ha9qA_dSuAl9",
        "colab": {
          "base_uri": "https://localhost:8080/"
        },
        "outputId": "32be0cf3-1eb6-41ea-df15-5298cb090a2b"
      },
      "source": [
        "np.isfinite(A)    #  Все ли элементы в A числа?"
      ],
      "execution_count": null,
      "outputs": [
        {
          "output_type": "execute_result",
          "data": {
            "text/plain": [
              "array([False, False, False,  True,  True,  True,  True,  True,  True])"
            ]
          },
          "metadata": {},
          "execution_count": 56
        }
      ]
    },
    {
      "cell_type": "code",
      "metadata": {
        "id": "r1Jz3IJFuAl9",
        "colab": {
          "base_uri": "https://localhost:8080/"
        },
        "outputId": "e6b3a28e-b0fd-4a21-c67b-4ac3046190cb"
      },
      "source": [
        "np.isinf(A)    #  Есть ли в A бесконечности?"
      ],
      "execution_count": null,
      "outputs": [
        {
          "output_type": "execute_result",
          "data": {
            "text/plain": [
              "array([ True,  True, False, False, False, False, False, False, False])"
            ]
          },
          "metadata": {},
          "execution_count": 57
        }
      ]
    },
    {
      "cell_type": "code",
      "metadata": {
        "id": "iGsekEjSuAl9",
        "colab": {
          "base_uri": "https://localhost:8080/"
        },
        "outputId": "6fc3fdd9-1416-4da0-ffd7-ab453ebbc6bd"
      },
      "source": [
        "np.isnan(A)    #  Есть ли в A значения nan?"
      ],
      "execution_count": null,
      "outputs": [
        {
          "output_type": "execute_result",
          "data": {
            "text/plain": [
              "array([False, False,  True, False, False, False, False, False, False])"
            ]
          },
          "metadata": {},
          "execution_count": 58
        }
      ]
    },
    {
      "cell_type": "code",
      "metadata": {
        "id": "_JjeWLe0uAl-",
        "colab": {
          "base_uri": "https://localhost:8080/"
        },
        "outputId": "4db66e0a-b8a8-447c-a081-ee1c831736c8"
      },
      "source": [
        "np.iscomplex(A)    #  есть ли в A комплексные числа?"
      ],
      "execution_count": null,
      "outputs": [
        {
          "output_type": "execute_result",
          "data": {
            "text/plain": [
              "array([False, False, False, False, False, False, False, False,  True])"
            ]
          },
          "metadata": {},
          "execution_count": 59
        }
      ]
    },
    {
      "cell_type": "code",
      "metadata": {
        "id": "szl3s9LduAl-",
        "colab": {
          "base_uri": "https://localhost:8080/"
        },
        "outputId": "e08c8bb0-583e-4299-ef22-d35a7224c7b5"
      },
      "source": [
        "np.isreal(A)    #  Есть ли в A вещественные числа?"
      ],
      "execution_count": null,
      "outputs": [
        {
          "output_type": "execute_result",
          "data": {
            "text/plain": [
              "array([ True,  True,  True,  True,  True,  True,  True,  True, False])"
            ]
          },
          "metadata": {},
          "execution_count": 60
        }
      ]
    },
    {
      "cell_type": "markdown",
      "metadata": {
        "id": "fnCZuDrTuAl-"
      },
      "source": [
        "Привычные нам логические операции выполняются над массивами булевых значений (массивы из значений True и False):"
      ]
    },
    {
      "cell_type": "code",
      "metadata": {
        "id": "2ldDQaxguAl-"
      },
      "source": [
        "X = np.array([True, False, True, False])\n",
        "Y = np.array([True, True, False, False])"
      ],
      "execution_count": null,
      "outputs": []
    },
    {
      "cell_type": "code",
      "metadata": {
        "id": "uE_d2D7wuAl_",
        "colab": {
          "base_uri": "https://localhost:8080/"
        },
        "outputId": "2035127e-c69b-4b49-a678-d57e1331b235"
      },
      "source": [
        "np.logical_and(X, Y)    #  логическое \"И\""
      ],
      "execution_count": null,
      "outputs": [
        {
          "output_type": "execute_result",
          "data": {
            "text/plain": [
              "array([ True, False, False, False])"
            ]
          },
          "metadata": {},
          "execution_count": 63
        }
      ]
    },
    {
      "cell_type": "code",
      "metadata": {
        "id": "y-ceoPnHuAl_",
        "colab": {
          "base_uri": "https://localhost:8080/"
        },
        "outputId": "87cf04d8-d604-4e4e-82be-9bdae9161124"
      },
      "source": [
        "np.logical_or(X, Y)    #  логическое \"ИЛИ\""
      ],
      "execution_count": null,
      "outputs": [
        {
          "output_type": "execute_result",
          "data": {
            "text/plain": [
              "array([ True,  True,  True, False])"
            ]
          },
          "metadata": {},
          "execution_count": 64
        }
      ]
    },
    {
      "cell_type": "code",
      "metadata": {
        "id": "9TAXsBbBuAmA",
        "colab": {
          "base_uri": "https://localhost:8080/"
        },
        "outputId": "07a3b8e1-2cf8-48b0-8546-908e3f5b25c0"
      },
      "source": [
        "np.logical_not(X)    #  логическое \"НЕ\""
      ],
      "execution_count": null,
      "outputs": [
        {
          "output_type": "execute_result",
          "data": {
            "text/plain": [
              "array([False,  True, False,  True])"
            ]
          },
          "metadata": {},
          "execution_count": 65
        }
      ]
    },
    {
      "cell_type": "code",
      "metadata": {
        "id": "zKeMLALxuAmD",
        "colab": {
          "base_uri": "https://localhost:8080/"
        },
        "outputId": "b705b52f-198b-42c6-d51a-e1d43688fa36"
      },
      "source": [
        "np.logical_xor(X, Y)    # исключающее \"ИЛИ\""
      ],
      "execution_count": null,
      "outputs": [
        {
          "output_type": "execute_result",
          "data": {
            "text/plain": [
              "array([False,  True,  True, False])"
            ]
          },
          "metadata": {},
          "execution_count": 66
        }
      ]
    },
    {
      "cell_type": "markdown",
      "metadata": {
        "id": "2I6gnBqXuAmD"
      },
      "source": [
        "Помимо всего прочего, NumPy позволяет производить различные сравнения:"
      ]
    },
    {
      "cell_type": "code",
      "metadata": {
        "id": "majjBuGiuAmD"
      },
      "source": [
        "np.allclose([1, 2, 3], [1, 2, 2.99999])    #  Являются ли значения массивов близкими?"
      ],
      "execution_count": null,
      "outputs": []
    },
    {
      "cell_type": "code",
      "metadata": {
        "id": "yEXx4EvLuAmE",
        "colab": {
          "base_uri": "https://localhost:8080/"
        },
        "outputId": "435e614f-478e-4081-925e-fd8a343c09a9"
      },
      "source": [
        "x = np.random.randint(4, size=5)\n",
        "x"
      ],
      "execution_count": null,
      "outputs": [
        {
          "output_type": "execute_result",
          "data": {
            "text/plain": [
              "array([1, 1, 0, 0, 1])"
            ]
          },
          "metadata": {},
          "execution_count": 67
        }
      ]
    },
    {
      "cell_type": "code",
      "metadata": {
        "id": "O3a1QiTNuAmE",
        "colab": {
          "base_uri": "https://localhost:8080/"
        },
        "outputId": "5b90b40b-380e-4b20-d87b-6128c6e77840"
      },
      "source": [
        "y = np.random.randint(4, size=5)\n",
        "y"
      ],
      "execution_count": null,
      "outputs": [
        {
          "output_type": "execute_result",
          "data": {
            "text/plain": [
              "array([1, 0, 3, 1, 0])"
            ]
          },
          "metadata": {},
          "execution_count": 68
        }
      ]
    },
    {
      "cell_type": "code",
      "metadata": {
        "id": "eu5J7Q0guAmE",
        "colab": {
          "base_uri": "https://localhost:8080/"
        },
        "outputId": "5f352fd8-e8bd-48e1-bc52-7d123e885ba3"
      },
      "source": [
        "np.greater(x, y)    #  поэлементное x > y "
      ],
      "execution_count": null,
      "outputs": [
        {
          "output_type": "execute_result",
          "data": {
            "text/plain": [
              "array([False,  True, False, False,  True])"
            ]
          },
          "metadata": {},
          "execution_count": 69
        }
      ]
    },
    {
      "cell_type": "code",
      "metadata": {
        "id": "CClzIwAVuAmF",
        "colab": {
          "base_uri": "https://localhost:8080/"
        },
        "outputId": "d21de3ee-ec4b-404a-8af9-bed42d7daddf"
      },
      "source": [
        "np.less(x, y)    #  поэлементное x < y"
      ],
      "execution_count": null,
      "outputs": [
        {
          "output_type": "execute_result",
          "data": {
            "text/plain": [
              "array([False, False,  True,  True, False])"
            ]
          },
          "metadata": {},
          "execution_count": 70
        }
      ]
    },
    {
      "cell_type": "code",
      "metadata": {
        "id": "VGXS8Us1uAmF",
        "colab": {
          "base_uri": "https://localhost:8080/"
        },
        "outputId": "4a111082-ef6c-4583-d955-14f58a9e9fdb"
      },
      "source": [
        "np.equal(x, y)    #  поэлементное x == y"
      ],
      "execution_count": null,
      "outputs": [
        {
          "output_type": "execute_result",
          "data": {
            "text/plain": [
              "array([ True, False, False, False, False])"
            ]
          },
          "metadata": {},
          "execution_count": 71
        }
      ]
    },
    {
      "cell_type": "code",
      "metadata": {
        "id": "YVvqqBHFuAmF",
        "colab": {
          "base_uri": "https://localhost:8080/"
        },
        "outputId": "673fbc24-78b8-4d85-fed8-dc4ec9085e5f"
      },
      "source": [
        "np.argmax(y)"
      ],
      "execution_count": null,
      "outputs": [
        {
          "output_type": "execute_result",
          "data": {
            "text/plain": [
              "2"
            ]
          },
          "metadata": {},
          "execution_count": 82
        }
      ]
    },
    {
      "cell_type": "code",
      "metadata": {
        "id": "YuvsI-eIXNks"
      },
      "source": [
        ""
      ],
      "execution_count": null,
      "outputs": []
    },
    {
      "cell_type": "code",
      "metadata": {
        "id": "UmzFm54mXKH9"
      },
      "source": [
        ""
      ],
      "execution_count": null,
      "outputs": []
    },
    {
      "cell_type": "code",
      "metadata": {
        "id": "ajxxziCWXFvE"
      },
      "source": [
        ""
      ],
      "execution_count": null,
      "outputs": []
    }
  ]
}