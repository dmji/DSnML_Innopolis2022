{
  "cells": [
    {
      "cell_type": "markdown",
      "metadata": {
        "id": "oc6BX71-IkwB"
      },
      "source": [
        "## Секция Импорта библиотек\n",
        "\n"
      ]
    },
    {
      "cell_type": "code",
      "execution_count": null,
      "metadata": {
        "id": "4PDJWnzbIkwC"
      },
      "outputs": [],
      "source": [
        "import numpy as np                  \n",
        "import matplotlib.pyplot as plt      \n",
        "import random                        \n",
        "\n",
        "from keras.datasets import mnist     # MNIST dataset \n",
        "from tensorflow.keras.models import Sequential  # Model Нейронной сети\n",
        "\n",
        "from tensorflow.keras.layers import Dense, Dropout, Activation # Функции Активации и Слои нейронной сети\n",
        "from keras.utils import np_utils                      "
      ]
    },
    {
      "cell_type": "code",
      "execution_count": null,
      "metadata": {
        "id": "By42VT-sn75t"
      },
      "outputs": [],
      "source": [
        "import tensorflow as tf"
      ]
    },
    {
      "cell_type": "code",
      "execution_count": null,
      "metadata": {
        "id": "hXe46f6_oFoz"
      },
      "outputs": [],
      "source": [
        "from tensorflow.keras.applications import InceptionV3"
      ]
    },
    {
      "cell_type": "markdown",
      "metadata": {
        "id": "yqvRqHmgltvW"
      },
      "source": [
        "### Обучить перодвинутую архитектуру с 0 будет очень трудно, так как она имеет большое кол-во параметров.\n",
        "\n",
        "Давайте попробуем использовать уже обученные нейронные сети для классификации произвольных картинок"
      ]
    },
    {
      "cell_type": "code",
      "execution_count": null,
      "metadata": {
        "id": "UDK8QDvClsXu"
      },
      "outputs": [],
      "source": [
        "# Импорт бибилиотек\n",
        "from tensorflow.keras.applications import ResNet50\n",
        "from tensorflow.keras.applications import InceptionV3\n",
        "from tensorflow.keras.applications import Xception \n",
        "from tensorflow.keras.applications import VGG16\n",
        "from tensorflow.keras.applications import VGG19\n",
        "from tensorflow.keras.applications import imagenet_utils\n",
        "from tensorflow.keras.applications.inception_v3 import preprocess_input\n",
        "from tensorflow.keras.preprocessing.image import img_to_array\n",
        "from tensorflow.keras.preprocessing.image import load_img\n",
        "import numpy as np\n",
        "import urllib\n",
        "import cv2\n",
        "import matplotlib.pyplot as plt\n",
        "import imageio as io\n",
        "\n",
        "\n",
        "def predict_image(model_name, image_source):\n",
        "  \n",
        "  # Будем использовать этот словарь для выбора модели\n",
        "  MODELS = {\n",
        "    \"vgg16\": VGG16,\n",
        "    \"vgg19\": VGG19,\n",
        "    \"inception\": InceptionV3,\n",
        "    \"xception\": Xception, \n",
        "    \"resnet\": ResNet50\n",
        "  }\n",
        "# Определяем входной размер\n",
        "  input_shape = (224, 224)\n",
        "\n",
        "  preprocess = imagenet_utils.preprocess_input\n",
        "  if model_name in (\"inception\", \"xception\"):\n",
        "    input_shape = (299, 299)\n",
        "    preprocess = preprocess_input\n",
        "\n",
        "  print(\"[INFO] loading {}...\".format(model_name))\n",
        "  \n",
        "  Network = MODELS[model_name]\n",
        "  model = Network(weights=\"imagenet\") #Мы будем использовать уже обученную нейронную сеть на наборе ImageNet, чтобы сделать выполнить предсказания\n",
        "  \n",
        "  print(\"[INFO] loading and pre-processing image...\")\n",
        "  if type(image_source) == str:\n",
        "    image = load_img(image_source, target_size=input_shape)\n",
        "    image = np.resize(image, (input_shape[0], input_shape[1], 3))\n",
        "    image = img_to_array(image)\n",
        "  else:\n",
        "    image = np.resize(image_source, (input_shape[0], input_shape[1], 3))\n",
        "    image = img_to_array(image)\n",
        "\n",
        "  image = np.expand_dims(image, axis=0)\n",
        "  image = preprocess(image)\n",
        "\n",
        "  print(\"[INFO] classifying image with '{}'...\".format(model_name))\n",
        "  preds = model.predict(image)\n",
        "  P = imagenet_utils.decode_predictions(preds)\n",
        "# ТОП 5 предсказаний\n",
        "  for (i, (imagenetID, label, prob)) in enumerate(P[0]):\n",
        "    print(\"{}. {}: {:.2f}%\".format(i + 1, label, prob * 100))\n",
        "  img = io.imread(image_source)\n",
        "  (imagenetID, label, prob) = P[0][0]\n",
        "  cv2.putText(img, \"Label: {}, {:.2f}%\".format(label, prob * 100), (10, 30), cv2.FONT_HERSHEY_SIMPLEX, 0.8, (0, 0, 255), 2)\n",
        "  plt.imshow(img)\n",
        "  plt.axis('off')\n",
        "  \n",
        "  return model"
      ]
    },
    {
      "cell_type": "code",
      "execution_count": null,
      "metadata": {
        "colab": {
          "base_uri": "https://localhost:8080/"
        },
        "id": "ZwThTMr1mvpF",
        "outputId": "e3b36779-9693-4eef-db66-fa61ebbbd663"
      },
      "outputs": [],
      "source": [
        "!wget https://image.ibb.co/cuw6pd/soccer_ball.jpg\n",
        "!wget https://image.ibb.co/hdoVFJ/bmw.png\n",
        "!wget https://image.ibb.co/h0B6pd/boat.png\n",
        "!wget https://image.ibb.co/eCyVFJ/clint_eastwood.jpg"
      ]
    },
    {
      "cell_type": "code",
      "execution_count": null,
      "metadata": {
        "colab": {
          "base_uri": "https://localhost:8080/",
          "height": 390
        },
        "id": "Zl7_e4W4nb64",
        "outputId": "f28ec0fc-1129-4011-9f47-080ba26f133d"
      },
      "outputs": [],
      "source": [
        "model = predict_image('vgg19', 'bmw.png')"
      ]
    },
    {
      "cell_type": "code",
      "execution_count": null,
      "metadata": {
        "colab": {
          "base_uri": "https://localhost:8080/"
        },
        "id": "cukRP0D6wluR",
        "outputId": "4f127fcc-ab70-4ef1-90c6-993144e3d47d"
      },
      "outputs": [],
      "source": [
        "model.summary()"
      ]
    },
    {
      "cell_type": "markdown",
      "metadata": {
        "id": "93bdAWC9ptFQ"
      },
      "source": [
        "# Transfer Learning"
      ]
    },
    {
      "cell_type": "code",
      "execution_count": null,
      "metadata": {
        "id": "DDoFFIwfpveL"
      },
      "outputs": [],
      "source": [
        "from tensorflow.keras.preprocessing.image import load_img, img_to_array, array_to_img\n",
        "import tensorflow as tf\n",
        "from tensorflow.keras.datasets import mnist  \n",
        "from tensorflow import keras\n",
        "from tensorflow.keras import layers as L\n",
        "from tensorflow.keras.models import Sequential\n",
        "import  numpy as np\n",
        "\n",
        "\n",
        "def change_size(image):\n",
        "    img = array_to_img(image, scale=False) #returns PIL Image\n",
        "    img = img.resize((75, 75)) #resize image\n",
        "    img = img.convert(mode='RGB') #makes 3 channels\n",
        "    arr = img_to_array(img) #convert back to array\n",
        "    return arr.astype(np.float64)"
      ]
    },
    {
      "cell_type": "code",
      "execution_count": null,
      "metadata": {
        "colab": {
          "base_uri": "https://localhost:8080/"
        },
        "id": "A8k3Osa6pwyU",
        "outputId": "09a7025d-751b-4c76-dc0b-18549cddd0f7"
      },
      "outputs": [],
      "source": [
        "model = Sequential()\n",
        "\n",
        "model.add(tf.keras.applications.resnet50.ResNet50(input_shape = (75, 75, 3), \n",
        "                                include_top = False, \n",
        "                                weights = 'imagenet'))\n",
        "\n",
        "model.add(L.Flatten()) #2048\n",
        "model.add(L.Dense(128, activation='relu'))\n",
        "model.add(L.Dense(10, activation='softmax'))\n",
        "\n",
        "model.compile(optimizer=keras.optimizers.Adam(lr=0.0001), loss='categorical_crossentropy', metrics=['accuracy'])"
      ]
    },
    {
      "cell_type": "code",
      "execution_count": null,
      "metadata": {
        "colab": {
          "base_uri": "https://localhost:8080/"
        },
        "id": "r4XQtQNS0Asy",
        "outputId": "ef185058-565a-4998-dcd4-b576d2475b08"
      },
      "outputs": [],
      "source": [
        "model.summary()"
      ]
    },
    {
      "cell_type": "code",
      "execution_count": null,
      "metadata": {
        "id": "ons0tppJp0Zu"
      },
      "outputs": [],
      "source": [
        "for layer in model.layers[0].layers:\n",
        "    if layer.name == 'conv5_block1_0_conv':\n",
        "        break\n",
        "    layer.trainable=False"
      ]
    },
    {
      "cell_type": "code",
      "execution_count": null,
      "metadata": {
        "colab": {
          "base_uri": "https://localhost:8080/",
          "height": 638
        },
        "id": "vlAZfgixqLeB",
        "outputId": "2a526407-b195-47bf-d4a1-3306b5673d5f"
      },
      "outputs": [],
      "source": [
        "model.fit(X_train, Y_train,\n",
        "          batch_size=32, epochs=10,\n",
        "          verbose=1)"
      ]
    },
    {
      "cell_type": "code",
      "execution_count": null,
      "metadata": {
        "colab": {
          "base_uri": "https://localhost:8080/"
        },
        "id": "Bflg9dg4vMTZ",
        "outputId": "5aaae3c8-db1b-40c8-c358-caaebc300a7b"
      },
      "outputs": [],
      "source": [
        "model.evaluate(X_test,y_test)"
      ]
    },
    {
      "cell_type": "markdown",
      "metadata": {
        "id": "jtchzesTIkwG"
      },
      "source": [
        "## Загружаем тренировочные данные\n"
      ]
    },
    {
      "cell_type": "code",
      "execution_count": null,
      "metadata": {
        "colab": {
          "base_uri": "https://localhost:8080/"
        },
        "id": "T9Y8PJ9lIkwI",
        "outputId": "360f3ce0-9470-434a-e14a-be19f9a241eb"
      },
      "outputs": [],
      "source": [
        "#  60,000 28 x 28 pixel тренировочные изображения и  10,000 28 x 28 pixel тестовые изображения\n",
        "(X_train, y_train), (X_test, y_test) = mnist.load_data()\n",
        "\n",
        "print(\"X_train shape\", X_train.shape)\n",
        "print(\"y_train shape\", y_train.shape)\n",
        "print(\"X_test shape\", X_test.shape)\n",
        "print(\"y_test shape\", y_test.shape)"
      ]
    },
    {
      "cell_type": "code",
      "execution_count": null,
      "metadata": {
        "id": "Xy3iXYpfvPme"
      },
      "outputs": [],
      "source": [
        "X_test = np.array(X_test).reshape(-1, 28, 28, 1)\n",
        "X_test = [change_size(img) for img in X_test]\n",
        "X_test = np.array(X_test)\n",
        "X_test.shape\n",
        "\n",
        "y_test = tf.keras.utils.to_categorical(y_test)"
      ]
    },
    {
      "cell_type": "code",
      "execution_count": null,
      "metadata": {
        "colab": {
          "base_uri": "https://localhost:8080/"
        },
        "id": "1NJPnc1oq2N6",
        "outputId": "1dda8a7b-68d6-4008-a272-b01cf46df610"
      },
      "outputs": [],
      "source": [
        "\n",
        "\n",
        "X_train = np.array(X_train[:30000]).reshape(-1, 28, 28, 1)\n",
        "X_train = [change_size(img) for img in X_train]\n",
        "X_train = np.array(X_train)\n",
        "X_train.shape"
      ]
    },
    {
      "cell_type": "code",
      "execution_count": null,
      "metadata": {
        "id": "xZ0ZzFajrs9k"
      },
      "outputs": [],
      "source": [
        "Y_train = tf.keras.utils.to_categorical(y_train)[:30000] # one-hot encoding"
      ]
    },
    {
      "cell_type": "markdown",
      "metadata": {
        "id": "kPlCq_EIIkwO"
      },
      "source": [
        "AlexNet Pytorch Модель"
      ]
    },
    {
      "cell_type": "code",
      "execution_count": null,
      "metadata": {
        "id": "DdGK_opps75B"
      },
      "outputs": [],
      "source": [
        "import torch\n",
        "import torch.nn as nn\n",
        "\n",
        "class AlexNet(nn.Module):\n",
        "    def __init__(self, num_classes: int = 1000) -> None:\n",
        "        super(AlexNet, self).__init__()\n",
        "        self.features = nn.Sequential(\n",
        "            nn.Conv2d(3, 64, kernel_size=11, stride=4, padding=2),\n",
        "            nn.ReLU(inplace=True),\n",
        "            nn.MaxPool2d(kernel_size=3, stride=2),\n",
        "            nn.Conv2d(64, 192, kernel_size=5, padding=2),\n",
        "            nn.ReLU(inplace=True),\n",
        "            nn.MaxPool2d(kernel_size=3, stride=2),\n",
        "            nn.Conv2d(192, 384, kernel_size=3, padding=1),\n",
        "            nn.ReLU(inplace=True),\n",
        "            nn.Conv2d(384, 256, kernel_size=3, padding=1),\n",
        "            nn.ReLU(inplace=True),\n",
        "            nn.Conv2d(256, 256, kernel_size=3, padding=1),\n",
        "            nn.ReLU(inplace=True),\n",
        "            nn.MaxPool2d(kernel_size=3, stride=2),\n",
        "        )\n",
        "\n",
        "        self.avgpool = nn.AdaptiveAvgPool2d((6, 6))\n",
        "        self.classifier = nn.Sequential(\n",
        "            nn.Dropout(),\n",
        "            nn.Linear(256 * 6 * 6, 4096),\n",
        "            nn.ReLU(inplace=True),\n",
        "            nn.Dropout(),\n",
        "            nn.Linear(4096, 4096),\n",
        "            nn.ReLU(inplace=True),\n",
        "            nn.Linear(4096, num_classes),\n",
        "        )\n",
        "\n",
        "    def forward(self, x: torch.Tensor) -> torch.Tensor:\n",
        "        x = self.features(x)\n",
        "        x = self.avgpool(x)\n",
        "        x = torch.flatten(x, 1)\n",
        "        x = self.classifier(x)\n",
        "        return x"
      ]
    }
  ],
  "metadata": {
    "accelerator": "GPU",
    "colab": {
      "collapsed_sections": [
        "QfsbJ1UcIkwO",
        "L-I3mTPyIkwV",
        "aKdRq51LIkwX",
        "fwz47w4iIkwY",
        "6d_UiRPDIkwa",
        "5GRXsux8Ikwc",
        "YrhB85HnIkwg",
        "7IT5zVsKIkwh",
        "MUGsaIYxIkwx",
        "TLgui4CkIkw0"
      ],
      "name": "Практика_Нейронные_Сети_Архитектуры (1).ipynb",
      "provenance": []
    },
    "kernelspec": {
      "display_name": "Python 3.10.6 64-bit",
      "language": "python",
      "name": "python3"
    },
    "language_info": {
      "codemirror_mode": {
        "name": "ipython",
        "version": 3
      },
      "file_extension": ".py",
      "mimetype": "text/x-python",
      "name": "python",
      "nbconvert_exporter": "python",
      "pygments_lexer": "ipython3",
      "version": "3.10.6"
    },
    "vscode": {
      "interpreter": {
        "hash": "f2c9ed52fc524177682b36c2d3786aeafe893f850c4ca88d734bda3c0fb4041d"
      }
    }
  },
  "nbformat": 4,
  "nbformat_minor": 0
}
