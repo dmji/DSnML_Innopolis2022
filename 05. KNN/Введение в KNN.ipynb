{
  "cells": [
    {
      "cell_type": "code",
      "execution_count": 1,
      "metadata": {
        "id": "Sx3qMdlkMshk"
      },
      "outputs": [],
      "source": [
        "import numpy as np\n",
        "import matplotlib.pyplot as plt \n",
        "\n",
        "from sortedcontainers import SortedList\n",
        "from future.utils import iteritems"
      ]
    },
    {
      "cell_type": "code",
      "execution_count": 8,
      "metadata": {
        "id": "Fh8pwicKPy7j"
      },
      "outputs": [],
      "source": [
        "class KNN:\n",
        "  \n",
        "  def __init__(self, k):\n",
        "    self.k = k\n",
        "\n",
        "  def fit(self, X, y):\n",
        "    self.X = X\n",
        "    self.y = y\n",
        "\n",
        "  def predict(self, X):\n",
        "    y = np.zeros(len(X))\n",
        "\n",
        "    # для каждого X[i]\n",
        "      # вычислить расстояния от X[i] до self.X[j]\n",
        "\n",
        "    for i, x in enumerate(X):  \n",
        "      sl = SortedList()\n",
        "      for j, x_train in enumerate(self.X):\n",
        "        diff = x - x_train  \n",
        "        d = diff.dot(diff)  # Euclidian distance\n",
        "        if (len(sl) < self.k):\n",
        "          sl.add( (d, self.y[j]) )\n",
        "        else:\n",
        "          if (d < sl[-1][0] ):\n",
        "            del sl[-1]\n",
        "            sl.add( (d, self.y[j]) )\n",
        "    #  k = 4\n",
        "    #  if d = 0.2: pass\n",
        "    #  [0.1, 0.3, 1, 1.5] ->\n",
        "    #  [0.1, 0.3, 1, 1.3] ->\n",
        "    #  ....\n",
        "    #  [0.1, 0.2, 0.22, 0.23] [1, 0, 0, 0]\n",
        "\n",
        "    # для _k_ ближайших к X[i] соседей:\n",
        "      # найти наиболее часто встречающийся класс (c)\n",
        "      # y[i] = c\n",
        "      \n",
        "      votes = {}\n",
        "      for _, v in sl:\n",
        "          votes[v] = votes.get(v, 0) + 1\n",
        "      \n",
        "\n",
        "      max_votes = 0\n",
        "      max_votes_class = -1\n",
        "      for v, count in iteritems(votes):\n",
        "          if count > max_votes:\n",
        "              max_votes = count\n",
        "              max_votes_class = v\n",
        "      y[i] = max_votes_class\n",
        "    return y\n",
        "        \n",
        "  def score(self, X, y):\n",
        "    P = self.predict(X)\n",
        "    return np.mean(P == y)\n",
        "      \n",
        "\n",
        "    "
      ]
    },
    {
      "cell_type": "markdown",
      "metadata": {
        "id": "HrIIsbXDsOqB"
      },
      "source": [
        "X --> y \n",
        "\n",
        "(X_1 , y_1), (X_2, y_2) ... (X_n, y_n )"
      ]
    },
    {
      "cell_type": "code",
      "execution_count": 3,
      "metadata": {
        "colab": {
          "base_uri": "https://localhost:8080/",
          "height": 266
        },
        "id": "bvz4y_I2czLE",
        "outputId": "bb56bdf2-a612-42c4-a2ae-c15205975b2c"
      },
      "outputs": [
        {
          "data": {
            "image/png": "[encoded data removed]",
            "text/plain": [
              "<Figure size 432x288 with 1 Axes>"
            ]
          },
          "metadata": {
            "needs_background": "light"
          },
          "output_type": "display_data"
        }
      ],
      "source": [
        "from sklearn.datasets import make_moons\n",
        "from sklearn.datasets import make_blobs\n",
        "\n",
        "# X, y = make_moons(n_samples=100, random_state=42)\n",
        "X, y = make_blobs(n_samples=30, centers=2, n_features=2,\n",
        "                  random_state=0)\n",
        "plt.scatter(X[:,0], X[:,1], s=100, c=y, alpha=0.5)\n",
        "plt.show()\n",
        "\n",
        "\n"
      ]
    },
    {
      "cell_type": "code",
      "execution_count": null,
      "metadata": {
        "colab": {
          "base_uri": "https://localhost:8080/"
        },
        "id": "PdTwm8c5tWC-",
        "outputId": "a4d822f2-4125-4c67-c973-f5b28782e45e"
      },
      "outputs": [],
      "source": [
        "X"
      ]
    },
    {
      "cell_type": "code",
      "execution_count": 9,
      "metadata": {
        "id": "SSyIYCd_eVHf"
      },
      "outputs": [],
      "source": [
        "model = KNN(k=1)"
      ]
    },
    {
      "cell_type": "code",
      "execution_count": 10,
      "metadata": {
        "id": "oW5UvKGMenKw"
      },
      "outputs": [],
      "source": [
        "X_train, y_train = X[:20], y[:20]\n",
        "X_test, y_test = X[20:], y[20:]\n",
        "model.fit(X_train, y_train)"
      ]
    },
    {
      "cell_type": "code",
      "execution_count": 11,
      "metadata": {
        "colab": {
          "base_uri": "https://localhost:8080/"
        },
        "id": "8GsE68g7fD7c",
        "outputId": "ed7d1e06-3bf9-45b2-8474-999e053b2cae"
      },
      "outputs": [
        {
          "data": {
            "text/plain": [
              "array([ True,  True,  True,  True,  True,  True, False,  True,  True,\n",
              "        True])"
            ]
          },
          "execution_count": 11,
          "metadata": {},
          "output_type": "execute_result"
        }
      ],
      "source": [
        "y_pred = model.predict(X_test)\n",
        "y_pred == y_test"
      ]
    },
    {
      "cell_type": "code",
      "execution_count": 12,
      "metadata": {
        "colab": {
          "base_uri": "https://localhost:8080/"
        },
        "id": "TzAByaMReuqs",
        "outputId": "516bca07-8d3c-4447-bb80-26fc5b7daae7"
      },
      "outputs": [
        {
          "data": {
            "text/plain": [
              "0.9"
            ]
          },
          "execution_count": 12,
          "metadata": {},
          "output_type": "execute_result"
        }
      ],
      "source": [
        "model.score(X_test, y_test)"
      ]
    },
    {
      "cell_type": "code",
      "execution_count": null,
      "metadata": {
        "id": "CnbRzDq4exJh"
      },
      "outputs": [],
      "source": []
    },
    {
      "cell_type": "code",
      "execution_count": 13,
      "metadata": {
        "colab": {
          "base_uri": "https://localhost:8080/",
          "height": 350
        },
        "id": "XxUH1DlwfB0B",
        "outputId": "502288a0-26ce-46e0-bf86-83132c8110ef"
      },
      "outputs": [
        {
          "name": "stderr",
          "output_type": "stream",
          "text": [
            "/usr/local/lib/python3.7/dist-packages/mlxtend/plotting/decision_regions.py:244: MatplotlibDeprecationWarning: Passing unsupported keyword arguments to axis() will raise a TypeError in 3.3.\n",
            "  ax.axis(xmin=xx.min(), xmax=xx.max(), y_min=yy.min(), y_max=yy.max())\n"
          ]
        },
        {
          "data": {
            "image/png": "[encoded data removed]",
            "text/plain": [
              "<Figure size 432x288 with 1 Axes>"
            ]
          },
          "metadata": {
            "needs_background": "light"
          },
          "output_type": "display_data"
        }
      ],
      "source": [
        "from mlxtend.plotting import plot_decision_regions\n",
        "\n",
        "plot_decision_regions(X, y, clf=model, legend=2)\n",
        "plt.xlabel('x1')\n",
        "plt.ylabel('x2')\n",
        "plt.title('KNN for data')\n",
        "plt.show()"
      ]
    },
    {
      "cell_type": "code",
      "execution_count": 15,
      "metadata": {
        "colab": {
          "base_uri": "https://localhost:8080/",
          "height": 350
        },
        "id": "5Abgb91wfMjF",
        "outputId": "57e2d431-c1fe-4807-9b8e-4085818f3fae"
      },
      "outputs": [
        {
          "name": "stderr",
          "output_type": "stream",
          "text": [
            "/usr/local/lib/python3.7/dist-packages/mlxtend/plotting/decision_regions.py:244: MatplotlibDeprecationWarning: Passing unsupported keyword arguments to axis() will raise a TypeError in 3.3.\n",
            "  ax.axis(xmin=xx.min(), xmax=xx.max(), y_min=yy.min(), y_max=yy.max())\n"
          ]
        },
        {
          "data": {
            "image/png": "[encoded data removed]",
            "text/plain": [
              "<Figure size 432x288 with 1 Axes>"
            ]
          },
          "metadata": {
            "needs_background": "light"
          },
          "output_type": "display_data"
        }
      ],
      "source": [
        "model = KNN(k=10)\n",
        "model.fit(X, y)\n",
        "plot_decision_regions(X, y, clf=model, legend=2)\n",
        "plt.xlabel('x1')\n",
        "plt.ylabel('x2')\n",
        "plt.title('KNN for data')\n",
        "plt.show()"
      ]
    },
    {
      "cell_type": "code",
      "execution_count": null,
      "metadata": {
        "id": "-GSc-g2rm-0M"
      },
      "outputs": [],
      "source": []
    }
  ],
  "metadata": {
    "colab": {
      "collapsed_sections": [],
      "name": "Copy of KNN.ipynb",
      "provenance": []
    },
    "kernelspec": {
      "display_name": "Python 3.9.7 ('base')",
      "language": "python",
      "name": "python3"
    },
    "language_info": {
      "codemirror_mode": {
        "name": "ipython",
        "version": 3
      },
      "file_extension": ".py",
      "mimetype": "text/x-python",
      "name": "python",
      "nbconvert_exporter": "python",
      "pygments_lexer": "ipython3",
      "version": "3.9.7"
    },
    "vscode": {
      "interpreter": {
        "hash": "846dd53c5a100503afcb3f5301bb10f61481596a80ae839ecd432be859b5d4d0"
      }
    }
  },
  "nbformat": 4,
  "nbformat_minor": 0
}
